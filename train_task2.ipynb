{
 "cells": [
  {
   "cell_type": "code",
   "execution_count": 1,
   "metadata": {},
   "outputs": [],
   "source": [
    "import numpy as np \n",
    "import pandas as pd\n",
    "import matplotlib.pyplot as plt\n",
    "import seaborn as sns\n",
    "import warnings\n",
    "import os\n",
    "import re\n",
    "import math\n",
    "import plotly.express as px\n",
    "import plotly.graph_objects as go\n",
    "from plotly.subplots import make_subplots\n",
    "\n",
    "from lightgbm import LGBMRegressor, LGBMClassifier\n",
    "from xgboost import XGBRegressor, XGBClassifier\n",
    "from catboost import CatBoostRegressor, CatBoostClassifier\n",
    "import lightgbm as lgb\n",
    "import xgboost as xgb\n",
    "import catboost as cab\n",
    "\n",
    "from sklearn.preprocessing import LabelEncoder\n",
    "from sklearn.model_selection import cross_val_score, KFold, StratifiedKFold, GridSearchCV\n",
    "from sklearn.decomposition import LatentDirichletAllocation, NMF, TruncatedSVD\n",
    "from sklearn.linear_model import LogisticRegression, SGDClassifier\n",
    "from sklearn.ensemble import RandomForestRegressor, AdaBoostRegressor, GradientBoostingRegressor, HistGradientBoostingRegressor, StackingRegressor\n",
    "from sklearn.ensemble import RandomForestClassifier, AdaBoostClassifier, GradientBoostingClassifier, HistGradientBoostingClassifier, StackingClassifier\n",
    "from sklearn.tree import DecisionTreeRegressor, DecisionTreeClassifier\n",
    "from sklearn import metrics\n",
    "from sklearn.svm import SVC\n",
    "from sklearn.feature_extraction.text import TfidfVectorizer\n",
    "from sklearn.preprocessing import PolynomialFeatures\n",
    "from sklearn.neighbors import KNeighborsClassifier\n",
    "from tqdm import tqdm\n",
    "\n",
    "import matplotlib.pyplot as plt\n",
    "from collections import defaultdict, Counter\n",
    "import warnings\n",
    "import json \n",
    "import pickle\n",
    "warnings.filterwarnings('ignore')"
   ]
  },
  {
   "cell_type": "code",
   "execution_count": 2,
   "metadata": {},
   "outputs": [],
   "source": [
    "import pickle \n",
    "import json\n",
    "from tqdm import tqdm"
   ]
  },
  {
   "cell_type": "code",
   "execution_count": 3,
   "metadata": {},
   "outputs": [],
   "source": [
    "test_preds = pickle.load(open('data/test_preds_all_new.pkl', 'rb'))\n",
    "train_preds = pickle.load(open('data/train_preds_all_new.pkl', 'rb'))"
   ]
  },
  {
   "cell_type": "code",
   "execution_count": 12,
   "metadata": {},
   "outputs": [],
   "source": [
    "product2id = json.load(open('data/product2id.json', 'r'))\n",
    "id2product = json.load(open('data/id2product.json', 'r'))\n",
    "id2product = {int(k): v for k, v in id2product.items()}"
   ]
  },
  {
   "cell_type": "code",
   "execution_count": 13,
   "metadata": {},
   "outputs": [
    {
     "data": {
      "text/plain": [
       "(3606249, 316971)"
      ]
     },
     "execution_count": 13,
     "metadata": {},
     "output_type": "execute_result"
    }
   ],
   "source": [
    "len(train_preds), len(test_preds)"
   ]
  },
  {
   "cell_type": "code",
   "execution_count": 14,
   "metadata": {},
   "outputs": [
    {
     "name": "stderr",
     "output_type": "stream",
     "text": [
      "100%|██████████| 3606249/3606249 [02:55<00:00, 20585.36it/s]\n"
     ]
    }
   ],
   "source": [
    "train_preds_encoded = []\n",
    "for x in tqdm(train_preds, total=len(train_preds)):\n",
    "    train_preds_encoded.append([product2id[id_] for id_ in x])"
   ]
  },
  {
   "cell_type": "code",
   "execution_count": 15,
   "metadata": {},
   "outputs": [
    {
     "name": "stderr",
     "output_type": "stream",
     "text": [
      "100%|██████████| 316971/316971 [00:12<00:00, 24711.90it/s]\n"
     ]
    }
   ],
   "source": [
    "test_preds_encoded = []\n",
    "for x in tqdm(test_preds, total=len(test_preds)):\n",
    "    test_preds_encoded.append([product2id[id_] for id_ in x])"
   ]
  },
  {
   "cell_type": "code",
   "execution_count": 16,
   "metadata": {},
   "outputs": [
    {
     "data": {
      "text/plain": [
       "(3606249, 316971)"
      ]
     },
     "execution_count": 16,
     "metadata": {},
     "output_type": "execute_result"
    }
   ],
   "source": [
    "len(train_preds_encoded), len(test_preds_encoded)"
   ]
  },
  {
   "cell_type": "code",
   "execution_count": 17,
   "metadata": {},
   "outputs": [],
   "source": [
    "pickle.dump(train_preds_encoded, open('./data/train_preds_all_encoded_new.pkl', 'wb'))\n",
    "pickle.dump(test_preds_encoded, open('./data/test_preds_all_encoded_new.pkl', 'wb'))"
   ]
  },
  {
   "attachments": {},
   "cell_type": "markdown",
   "metadata": {},
   "source": [
    "数据读取"
   ]
  },
  {
   "cell_type": "code",
   "execution_count": 4,
   "metadata": {},
   "outputs": [
    {
     "data": {
      "text/html": [
       "<div>\n",
       "<style scoped>\n",
       "    .dataframe tbody tr th:only-of-type {\n",
       "        vertical-align: middle;\n",
       "    }\n",
       "\n",
       "    .dataframe tbody tr th {\n",
       "        vertical-align: top;\n",
       "    }\n",
       "\n",
       "    .dataframe thead th {\n",
       "        text-align: right;\n",
       "    }\n",
       "</style>\n",
       "<table border=\"1\" class=\"dataframe\">\n",
       "  <thead>\n",
       "    <tr style=\"text-align: right;\">\n",
       "      <th></th>\n",
       "      <th>prev_items</th>\n",
       "      <th>next_item</th>\n",
       "      <th>locale</th>\n",
       "    </tr>\n",
       "  </thead>\n",
       "  <tbody>\n",
       "    <tr>\n",
       "      <th>0</th>\n",
       "      <td>['B09W9FND7K' 'B09JSPLN1M']</td>\n",
       "      <td>B09M7GY217</td>\n",
       "      <td>DE</td>\n",
       "    </tr>\n",
       "    <tr>\n",
       "      <th>1</th>\n",
       "      <td>['B076THCGSG' 'B007MO8IME' 'B08MF65MLV' 'B001B...</td>\n",
       "      <td>B001B4THSA</td>\n",
       "      <td>DE</td>\n",
       "    </tr>\n",
       "    <tr>\n",
       "      <th>2</th>\n",
       "      <td>['B0B1LGXWDS' 'B00AZYORS2' 'B0B1LGXWDS' 'B00AZ...</td>\n",
       "      <td>B0767DTG2Q</td>\n",
       "      <td>DE</td>\n",
       "    </tr>\n",
       "    <tr>\n",
       "      <th>3</th>\n",
       "      <td>['B09XMTWDVT' 'B0B4MZZ8MB' 'B0B7HZ2GWX' 'B09XM...</td>\n",
       "      <td>B0B4R9NN4B</td>\n",
       "      <td>DE</td>\n",
       "    </tr>\n",
       "    <tr>\n",
       "      <th>4</th>\n",
       "      <td>['B09Y5CSL3T' 'B09Y5DPTXN' 'B09FKD61R8']</td>\n",
       "      <td>B0BGVBKWGZ</td>\n",
       "      <td>DE</td>\n",
       "    </tr>\n",
       "    <tr>\n",
       "      <th>...</th>\n",
       "      <td>...</td>\n",
       "      <td>...</td>\n",
       "      <td>...</td>\n",
       "    </tr>\n",
       "    <tr>\n",
       "      <th>3606244</th>\n",
       "      <td>['B086CYFSKW' 'B0874F9859' 'B086CYFSKW']</td>\n",
       "      <td>B07B5TYD76</td>\n",
       "      <td>IT</td>\n",
       "    </tr>\n",
       "    <tr>\n",
       "      <th>3606245</th>\n",
       "      <td>['B09NRZKZ7V' 'B08WJTPV93']</td>\n",
       "      <td>B08L1P4C3D</td>\n",
       "      <td>IT</td>\n",
       "    </tr>\n",
       "    <tr>\n",
       "      <th>3606246</th>\n",
       "      <td>['B085JFX7MP' 'B085JGHW8R']</td>\n",
       "      <td>B01MPWVD44</td>\n",
       "      <td>IT</td>\n",
       "    </tr>\n",
       "    <tr>\n",
       "      <th>3606247</th>\n",
       "      <td>['B00B0UING2' 'B00B0UING2']</td>\n",
       "      <td>B00D3HYEZ4</td>\n",
       "      <td>IT</td>\n",
       "    </tr>\n",
       "    <tr>\n",
       "      <th>3606248</th>\n",
       "      <td>['B092S9D1SD' 'B09XQQ1S72' 'B0852MS7QC' 'B0B1V...</td>\n",
       "      <td>B0B7RX65YP</td>\n",
       "      <td>IT</td>\n",
       "    </tr>\n",
       "  </tbody>\n",
       "</table>\n",
       "<p>3606249 rows × 3 columns</p>\n",
       "</div>"
      ],
      "text/plain": [
       "                                                prev_items   next_item locale\n",
       "0                              ['B09W9FND7K' 'B09JSPLN1M']  B09M7GY217     DE\n",
       "1        ['B076THCGSG' 'B007MO8IME' 'B08MF65MLV' 'B001B...  B001B4THSA     DE\n",
       "2        ['B0B1LGXWDS' 'B00AZYORS2' 'B0B1LGXWDS' 'B00AZ...  B0767DTG2Q     DE\n",
       "3        ['B09XMTWDVT' 'B0B4MZZ8MB' 'B0B7HZ2GWX' 'B09XM...  B0B4R9NN4B     DE\n",
       "4                 ['B09Y5CSL3T' 'B09Y5DPTXN' 'B09FKD61R8']  B0BGVBKWGZ     DE\n",
       "...                                                    ...         ...    ...\n",
       "3606244           ['B086CYFSKW' 'B0874F9859' 'B086CYFSKW']  B07B5TYD76     IT\n",
       "3606245                        ['B09NRZKZ7V' 'B08WJTPV93']  B08L1P4C3D     IT\n",
       "3606246                        ['B085JFX7MP' 'B085JGHW8R']  B01MPWVD44     IT\n",
       "3606247                        ['B00B0UING2' 'B00B0UING2']  B00D3HYEZ4     IT\n",
       "3606248  ['B092S9D1SD' 'B09XQQ1S72' 'B0852MS7QC' 'B0B1V...  B0B7RX65YP     IT\n",
       "\n",
       "[3606249 rows x 3 columns]"
      ]
     },
     "execution_count": 4,
     "metadata": {},
     "output_type": "execute_result"
    }
   ],
   "source": [
    "# (3606249, 3)\n",
    "df_train = pd.read_csv('data/sessions_train.csv')\n",
    "df_train"
   ]
  },
  {
   "cell_type": "code",
   "execution_count": 5,
   "metadata": {},
   "outputs": [
    {
     "data": {
      "text/html": [
       "<div>\n",
       "<style scoped>\n",
       "    .dataframe tbody tr th:only-of-type {\n",
       "        vertical-align: middle;\n",
       "    }\n",
       "\n",
       "    .dataframe tbody tr th {\n",
       "        vertical-align: top;\n",
       "    }\n",
       "\n",
       "    .dataframe thead th {\n",
       "        text-align: right;\n",
       "    }\n",
       "</style>\n",
       "<table border=\"1\" class=\"dataframe\">\n",
       "  <thead>\n",
       "    <tr style=\"text-align: right;\">\n",
       "      <th></th>\n",
       "      <th>prev_items</th>\n",
       "      <th>locale</th>\n",
       "    </tr>\n",
       "  </thead>\n",
       "  <tbody>\n",
       "    <tr>\n",
       "      <th>0</th>\n",
       "      <td>['B08GYKNCCP' 'B08HCPTMJG' 'B08HCHS64Y']</td>\n",
       "      <td>ES</td>\n",
       "    </tr>\n",
       "    <tr>\n",
       "      <th>1</th>\n",
       "      <td>['B08NYF9MBQ' 'B085NGXGWM']</td>\n",
       "      <td>ES</td>\n",
       "    </tr>\n",
       "    <tr>\n",
       "      <th>2</th>\n",
       "      <td>['B091FL1QFK' 'B0B1DG29F4']</td>\n",
       "      <td>ES</td>\n",
       "    </tr>\n",
       "    <tr>\n",
       "      <th>3</th>\n",
       "      <td>['B004APAHCW' 'B07JMF49HN' 'B004APAHCW' 'B07JM...</td>\n",
       "      <td>ES</td>\n",
       "    </tr>\n",
       "    <tr>\n",
       "      <th>4</th>\n",
       "      <td>['B09YM11D4T' 'B0B12QWP5G' 'B08YMT6Q4X' 'B09V1...</td>\n",
       "      <td>ES</td>\n",
       "    </tr>\n",
       "    <tr>\n",
       "      <th>...</th>\n",
       "      <td>...</td>\n",
       "      <td>...</td>\n",
       "    </tr>\n",
       "    <tr>\n",
       "      <th>34683</th>\n",
       "      <td>['B095W5YY7B' 'B09SGL4XKB']</td>\n",
       "      <td>IT</td>\n",
       "    </tr>\n",
       "    <tr>\n",
       "      <th>34684</th>\n",
       "      <td>['B0BDJZWPLQ' 'B0BDJZWPLQ']</td>\n",
       "      <td>IT</td>\n",
       "    </tr>\n",
       "    <tr>\n",
       "      <th>34685</th>\n",
       "      <td>['B07HKMB622' 'B00FBESXOK' 'B07HKMB622' 'B00FB...</td>\n",
       "      <td>IT</td>\n",
       "    </tr>\n",
       "    <tr>\n",
       "      <th>34686</th>\n",
       "      <td>['B09V4J39QY' 'B0BJMSH4VX' 'B0BJMRVQFT' 'B0BJM...</td>\n",
       "      <td>IT</td>\n",
       "    </tr>\n",
       "    <tr>\n",
       "      <th>34687</th>\n",
       "      <td>['B07DWHPJGS' 'B07DWHPJGS' 'B07DWNFMD2']</td>\n",
       "      <td>IT</td>\n",
       "    </tr>\n",
       "  </tbody>\n",
       "</table>\n",
       "<p>34688 rows × 2 columns</p>\n",
       "</div>"
      ],
      "text/plain": [
       "                                              prev_items locale\n",
       "0               ['B08GYKNCCP' 'B08HCPTMJG' 'B08HCHS64Y']     ES\n",
       "1                            ['B08NYF9MBQ' 'B085NGXGWM']     ES\n",
       "2                            ['B091FL1QFK' 'B0B1DG29F4']     ES\n",
       "3      ['B004APAHCW' 'B07JMF49HN' 'B004APAHCW' 'B07JM...     ES\n",
       "4      ['B09YM11D4T' 'B0B12QWP5G' 'B08YMT6Q4X' 'B09V1...     ES\n",
       "...                                                  ...    ...\n",
       "34683                        ['B095W5YY7B' 'B09SGL4XKB']     IT\n",
       "34684                        ['B0BDJZWPLQ' 'B0BDJZWPLQ']     IT\n",
       "34685  ['B07HKMB622' 'B00FBESXOK' 'B07HKMB622' 'B00FB...     IT\n",
       "34686  ['B09V4J39QY' 'B0BJMSH4VX' 'B0BJMRVQFT' 'B0BJM...     IT\n",
       "34687           ['B07DWHPJGS' 'B07DWHPJGS' 'B07DWNFMD2']     IT\n",
       "\n",
       "[34688 rows x 2 columns]"
      ]
     },
     "execution_count": 5,
     "metadata": {},
     "output_type": "execute_result"
    }
   ],
   "source": [
    "df_test_phase1 = pd.read_csv('data/sessions_test_task2.csv')\n",
    "df_test_phase1"
   ]
  },
  {
   "cell_type": "code",
   "execution_count": 6,
   "metadata": {},
   "outputs": [
    {
     "data": {
      "text/html": [
       "<div>\n",
       "<style scoped>\n",
       "    .dataframe tbody tr th:only-of-type {\n",
       "        vertical-align: middle;\n",
       "    }\n",
       "\n",
       "    .dataframe tbody tr th {\n",
       "        vertical-align: top;\n",
       "    }\n",
       "\n",
       "    .dataframe thead th {\n",
       "        text-align: right;\n",
       "    }\n",
       "</style>\n",
       "<table border=\"1\" class=\"dataframe\">\n",
       "  <thead>\n",
       "    <tr style=\"text-align: right;\">\n",
       "      <th></th>\n",
       "      <th>prev_items</th>\n",
       "      <th>locale</th>\n",
       "    </tr>\n",
       "  </thead>\n",
       "  <tbody>\n",
       "    <tr>\n",
       "      <th>0</th>\n",
       "      <td>['B07GTS7SWK' 'B07GTS7SWK']</td>\n",
       "      <td>ES</td>\n",
       "    </tr>\n",
       "    <tr>\n",
       "      <th>1</th>\n",
       "      <td>['B0B33YWVHR' '849988993X' 'B09QQG85HM' 'B0BJZ...</td>\n",
       "      <td>ES</td>\n",
       "    </tr>\n",
       "    <tr>\n",
       "      <th>2</th>\n",
       "      <td>['B08FMPXDTJ' 'B0B4612MTM' 'B0B45YR21M' 'B0B4F...</td>\n",
       "      <td>ES</td>\n",
       "    </tr>\n",
       "    <tr>\n",
       "      <th>3</th>\n",
       "      <td>['B07R3W4XQ7' 'B07R3FB5B5']</td>\n",
       "      <td>ES</td>\n",
       "    </tr>\n",
       "    <tr>\n",
       "      <th>4</th>\n",
       "      <td>['B09V4KBWPL' 'B09G9FTLPB']</td>\n",
       "      <td>ES</td>\n",
       "    </tr>\n",
       "    <tr>\n",
       "      <th>...</th>\n",
       "      <td>...</td>\n",
       "      <td>...</td>\n",
       "    </tr>\n",
       "    <tr>\n",
       "      <th>34685</th>\n",
       "      <td>['B089F3YK6X' 'B01BBW9TEI' 'B01BBW9Q46']</td>\n",
       "      <td>IT</td>\n",
       "    </tr>\n",
       "    <tr>\n",
       "      <th>34686</th>\n",
       "      <td>['B078XYC42V' 'B09TW31SND']</td>\n",
       "      <td>IT</td>\n",
       "    </tr>\n",
       "    <tr>\n",
       "      <th>34687</th>\n",
       "      <td>['B07ZG3V3X2' 'B09PGKF9Y8']</td>\n",
       "      <td>IT</td>\n",
       "    </tr>\n",
       "    <tr>\n",
       "      <th>34688</th>\n",
       "      <td>['B0B3JRGZLM' 'B09SHQJ8NV']</td>\n",
       "      <td>IT</td>\n",
       "    </tr>\n",
       "    <tr>\n",
       "      <th>34689</th>\n",
       "      <td>['B08ZHKGYXR' 'B07Z8PZTGL' 'B0882QYG73']</td>\n",
       "      <td>IT</td>\n",
       "    </tr>\n",
       "  </tbody>\n",
       "</table>\n",
       "<p>34690 rows × 2 columns</p>\n",
       "</div>"
      ],
      "text/plain": [
       "                                              prev_items locale\n",
       "0                            ['B07GTS7SWK' 'B07GTS7SWK']     ES\n",
       "1      ['B0B33YWVHR' '849988993X' 'B09QQG85HM' 'B0BJZ...     ES\n",
       "2      ['B08FMPXDTJ' 'B0B4612MTM' 'B0B45YR21M' 'B0B4F...     ES\n",
       "3                            ['B07R3W4XQ7' 'B07R3FB5B5']     ES\n",
       "4                            ['B09V4KBWPL' 'B09G9FTLPB']     ES\n",
       "...                                                  ...    ...\n",
       "34685           ['B089F3YK6X' 'B01BBW9TEI' 'B01BBW9Q46']     IT\n",
       "34686                        ['B078XYC42V' 'B09TW31SND']     IT\n",
       "34687                        ['B07ZG3V3X2' 'B09PGKF9Y8']     IT\n",
       "34688                        ['B0B3JRGZLM' 'B09SHQJ8NV']     IT\n",
       "34689           ['B08ZHKGYXR' 'B07Z8PZTGL' 'B0882QYG73']     IT\n",
       "\n",
       "[34690 rows x 2 columns]"
      ]
     },
     "execution_count": 6,
     "metadata": {},
     "output_type": "execute_result"
    }
   ],
   "source": [
    "df_test_phase2 = pd.read_csv('data/phase2/sessions_test_task2.csv')\n",
    "df_test_phase2"
   ]
  },
  {
   "cell_type": "code",
   "execution_count": 7,
   "metadata": {},
   "outputs": [],
   "source": [
    "def str2list(x):\n",
    "    x = x.replace('[', '').replace(']', '').replace(\"'\", '').replace('\\n', ' ').replace('\\r', ' ')\n",
    "    l = [i for i in x.split() if i]\n",
    "    return l"
   ]
  },
  {
   "cell_type": "code",
   "execution_count": 8,
   "metadata": {},
   "outputs": [
    {
     "data": {
      "text/html": [
       "<div>\n",
       "<style scoped>\n",
       "    .dataframe tbody tr th:only-of-type {\n",
       "        vertical-align: middle;\n",
       "    }\n",
       "\n",
       "    .dataframe tbody tr th {\n",
       "        vertical-align: top;\n",
       "    }\n",
       "\n",
       "    .dataframe thead th {\n",
       "        text-align: right;\n",
       "    }\n",
       "</style>\n",
       "<table border=\"1\" class=\"dataframe\">\n",
       "  <thead>\n",
       "    <tr style=\"text-align: right;\">\n",
       "      <th></th>\n",
       "      <th>id</th>\n",
       "      <th>locale</th>\n",
       "      <th>title</th>\n",
       "      <th>price</th>\n",
       "      <th>brand</th>\n",
       "      <th>color</th>\n",
       "      <th>size</th>\n",
       "      <th>model</th>\n",
       "      <th>material</th>\n",
       "      <th>author</th>\n",
       "      <th>desc</th>\n",
       "    </tr>\n",
       "  </thead>\n",
       "  <tbody>\n",
       "    <tr>\n",
       "      <th>0</th>\n",
       "      <td>B005ZSSN10</td>\n",
       "      <td>DE</td>\n",
       "      <td>RED DRAGON Amberjack 3 - Steel Tip 22 Gramm Wo...</td>\n",
       "      <td>30.95</td>\n",
       "      <td>RED DRAGON</td>\n",
       "      <td>NaN</td>\n",
       "      <td>NaN</td>\n",
       "      <td>RDD0089</td>\n",
       "      <td>NaN</td>\n",
       "      <td>NaN</td>\n",
       "      <td>Amberjacks Steel Dartpfeile sind verfügbar in ...</td>\n",
       "    </tr>\n",
       "    <tr>\n",
       "      <th>1</th>\n",
       "      <td>B08PRYN6LD</td>\n",
       "      <td>DE</td>\n",
       "      <td>Simply Keto Lower Carb* Schokodrops ohne Zucke...</td>\n",
       "      <td>17.90</td>\n",
       "      <td>Simply Keto</td>\n",
       "      <td>NaN</td>\n",
       "      <td>750 g (1er Pack)</td>\n",
       "      <td>NaN</td>\n",
       "      <td>NaN</td>\n",
       "      <td>NaN</td>\n",
       "      <td>🌱 NATÜRLICHE SÜSSE DURCH ERYTHRIT - Wir stelle...</td>\n",
       "    </tr>\n",
       "    <tr>\n",
       "      <th>2</th>\n",
       "      <td>B09MBZJ48V</td>\n",
       "      <td>DE</td>\n",
       "      <td>Sennheiser 508377 PC 5.2 Chat, Stilvolles Mult...</td>\n",
       "      <td>68.89</td>\n",
       "      <td>Sennheiser</td>\n",
       "      <td>Multi-Colour</td>\n",
       "      <td>One size</td>\n",
       "      <td>508377</td>\n",
       "      <td>Kunstleder</td>\n",
       "      <td>NaN</td>\n",
       "      <td>3.5 MM BUCHSE - Kann problemlos an Geräte mit ...</td>\n",
       "    </tr>\n",
       "    <tr>\n",
       "      <th>3</th>\n",
       "      <td>B08ZN6F26S</td>\n",
       "      <td>DE</td>\n",
       "      <td>AmyBenton Auto ab 1 2 3 ahre - Baby Aufziehbar...</td>\n",
       "      <td>18.99</td>\n",
       "      <td>Amy &amp; Benton</td>\n",
       "      <td>Animal Car</td>\n",
       "      <td>NaN</td>\n",
       "      <td>2008B</td>\n",
       "      <td>aufziehauto 1 jahr</td>\n",
       "      <td>NaN</td>\n",
       "      <td>【Auto aufziehbar】: Drücken Sie einfach leicht ...</td>\n",
       "    </tr>\n",
       "    <tr>\n",
       "      <th>4</th>\n",
       "      <td>B094DGRV7D</td>\n",
       "      <td>DE</td>\n",
       "      <td>PLAYMOBIL - 70522 - Cavaliere mit grauem Pony</td>\n",
       "      <td>7.17</td>\n",
       "      <td>PLAYMOBIL</td>\n",
       "      <td>Nicht Zutreffend.</td>\n",
       "      <td>OneSize</td>\n",
       "      <td>70522</td>\n",
       "      <td>Polypropylen</td>\n",
       "      <td>NaN</td>\n",
       "      <td>Inhalt: 1 Stück</td>\n",
       "    </tr>\n",
       "    <tr>\n",
       "      <th>...</th>\n",
       "      <td>...</td>\n",
       "      <td>...</td>\n",
       "      <td>...</td>\n",
       "      <td>...</td>\n",
       "      <td>...</td>\n",
       "      <td>...</td>\n",
       "      <td>...</td>\n",
       "      <td>...</td>\n",
       "      <td>...</td>\n",
       "      <td>...</td>\n",
       "      <td>...</td>\n",
       "    </tr>\n",
       "    <tr>\n",
       "      <th>1551052</th>\n",
       "      <td>B09BW5CDRR</td>\n",
       "      <td>IT</td>\n",
       "      <td>Barbie - Playset Gelateria con Bambola con Mac...</td>\n",
       "      <td>20.48</td>\n",
       "      <td>Barbie</td>\n",
       "      <td>NaN</td>\n",
       "      <td>NaN</td>\n",
       "      <td>HCN46</td>\n",
       "      <td>NaN</td>\n",
       "      <td>NaN</td>\n",
       "      <td>DETTAGLI REALISTICI. Basta inserire la pasta m...</td>\n",
       "    </tr>\n",
       "    <tr>\n",
       "      <th>1551053</th>\n",
       "      <td>B0050IILBM</td>\n",
       "      <td>IT</td>\n",
       "      <td>Braun Silk-épil 1 Depilatore Donna, Epilatore ...</td>\n",
       "      <td>22.61</td>\n",
       "      <td>Braun</td>\n",
       "      <td>Pink</td>\n",
       "      <td>NaN</td>\n",
       "      <td>4210201656067</td>\n",
       "      <td>NaN</td>\n",
       "      <td>NaN</td>\n",
       "      <td>Alimentato a corrente per un comodo utilizzo</td>\n",
       "    </tr>\n",
       "    <tr>\n",
       "      <th>1551054</th>\n",
       "      <td>B07W4C5W9D</td>\n",
       "      <td>IT</td>\n",
       "      <td>BoxLegend Sacchetti Sottovuoto Vestiti 6 Pezzi...</td>\n",
       "      <td>14.99</td>\n",
       "      <td>BoxLegend</td>\n",
       "      <td>6 Pezzi.</td>\n",
       "      <td>6 Pezzi (2L + 2M + 2S)</td>\n",
       "      <td>6186666487608_SML</td>\n",
       "      <td>Polietilene Ppa</td>\n",
       "      <td>NaN</td>\n",
       "      <td>6 Sacchetti in 3 Diverse Misure- Questo set di...</td>\n",
       "    </tr>\n",
       "    <tr>\n",
       "      <th>1551055</th>\n",
       "      <td>B012D0HJXA</td>\n",
       "      <td>IT</td>\n",
       "      <td>Trasportino Pratiko Metal - Accessorio da viag...</td>\n",
       "      <td>18.35</td>\n",
       "      <td>MPS</td>\n",
       "      <td>verde</td>\n",
       "      <td>NaN</td>\n",
       "      <td>NaN</td>\n",
       "      <td>Metallo</td>\n",
       "      <td>NaN</td>\n",
       "      <td>TRASPORTINO 48X31.5X33CM</td>\n",
       "    </tr>\n",
       "    <tr>\n",
       "      <th>1551056</th>\n",
       "      <td>B07P5RLXP3</td>\n",
       "      <td>IT</td>\n",
       "      <td>LiCB - Batterie LR1130, batterie alcaline AG10...</td>\n",
       "      <td>6.99</td>\n",
       "      <td>LiCB</td>\n",
       "      <td>NaN</td>\n",
       "      <td>20 Stück LR1130</td>\n",
       "      <td>LR1130-20</td>\n",
       "      <td>NaN</td>\n",
       "      <td>NaN</td>\n",
       "      <td>Denominazione: 20 pezzi di pile alcaline LR113...</td>\n",
       "    </tr>\n",
       "  </tbody>\n",
       "</table>\n",
       "<p>1551057 rows × 11 columns</p>\n",
       "</div>"
      ],
      "text/plain": [
       "                 id locale                                              title  \\\n",
       "0        B005ZSSN10     DE  RED DRAGON Amberjack 3 - Steel Tip 22 Gramm Wo...   \n",
       "1        B08PRYN6LD     DE  Simply Keto Lower Carb* Schokodrops ohne Zucke...   \n",
       "2        B09MBZJ48V     DE  Sennheiser 508377 PC 5.2 Chat, Stilvolles Mult...   \n",
       "3        B08ZN6F26S     DE  AmyBenton Auto ab 1 2 3 ahre - Baby Aufziehbar...   \n",
       "4        B094DGRV7D     DE      PLAYMOBIL - 70522 - Cavaliere mit grauem Pony   \n",
       "...             ...    ...                                                ...   \n",
       "1551052  B09BW5CDRR     IT  Barbie - Playset Gelateria con Bambola con Mac...   \n",
       "1551053  B0050IILBM     IT  Braun Silk-épil 1 Depilatore Donna, Epilatore ...   \n",
       "1551054  B07W4C5W9D     IT  BoxLegend Sacchetti Sottovuoto Vestiti 6 Pezzi...   \n",
       "1551055  B012D0HJXA     IT  Trasportino Pratiko Metal - Accessorio da viag...   \n",
       "1551056  B07P5RLXP3     IT  LiCB - Batterie LR1130, batterie alcaline AG10...   \n",
       "\n",
       "         price         brand              color                    size  \\\n",
       "0        30.95    RED DRAGON                NaN                     NaN   \n",
       "1        17.90   Simply Keto                NaN        750 g (1er Pack)   \n",
       "2        68.89    Sennheiser       Multi-Colour                One size   \n",
       "3        18.99  Amy & Benton         Animal Car                     NaN   \n",
       "4         7.17     PLAYMOBIL  Nicht Zutreffend.                 OneSize   \n",
       "...        ...           ...                ...                     ...   \n",
       "1551052  20.48        Barbie                NaN                     NaN   \n",
       "1551053  22.61         Braun               Pink                     NaN   \n",
       "1551054  14.99     BoxLegend           6 Pezzi.  6 Pezzi (2L + 2M + 2S)   \n",
       "1551055  18.35           MPS              verde                     NaN   \n",
       "1551056   6.99          LiCB                NaN         20 Stück LR1130   \n",
       "\n",
       "                     model            material author  \\\n",
       "0                  RDD0089                 NaN    NaN   \n",
       "1                      NaN                 NaN    NaN   \n",
       "2                   508377          Kunstleder    NaN   \n",
       "3                    2008B  aufziehauto 1 jahr    NaN   \n",
       "4                    70522        Polypropylen    NaN   \n",
       "...                    ...                 ...    ...   \n",
       "1551052              HCN46                 NaN    NaN   \n",
       "1551053      4210201656067                 NaN    NaN   \n",
       "1551054  6186666487608_SML     Polietilene Ppa    NaN   \n",
       "1551055                NaN             Metallo    NaN   \n",
       "1551056          LR1130-20                 NaN    NaN   \n",
       "\n",
       "                                                      desc  \n",
       "0        Amberjacks Steel Dartpfeile sind verfügbar in ...  \n",
       "1        🌱 NATÜRLICHE SÜSSE DURCH ERYTHRIT - Wir stelle...  \n",
       "2        3.5 MM BUCHSE - Kann problemlos an Geräte mit ...  \n",
       "3        【Auto aufziehbar】: Drücken Sie einfach leicht ...  \n",
       "4                                          Inhalt: 1 Stück  \n",
       "...                                                    ...  \n",
       "1551052  DETTAGLI REALISTICI. Basta inserire la pasta m...  \n",
       "1551053       Alimentato a corrente per un comodo utilizzo  \n",
       "1551054  6 Sacchetti in 3 Diverse Misure- Questo set di...  \n",
       "1551055                           TRASPORTINO 48X31.5X33CM  \n",
       "1551056  Denominazione: 20 pezzi di pile alcaline LR113...  \n",
       "\n",
       "[1551057 rows x 11 columns]"
      ]
     },
     "execution_count": 8,
     "metadata": {},
     "output_type": "execute_result"
    }
   ],
   "source": [
    "# 不到1min (1551057, 11)\n",
    "products = pd.read_csv('data/products_train.csv')\n",
    "products"
   ]
  },
  {
   "cell_type": "code",
   "execution_count": 9,
   "metadata": {},
   "outputs": [],
   "source": [
    "# 1min多一些\n",
    "df_train['prev_items'] = df_train['prev_items'].apply(lambda x: str2list(x))\n",
    "df_test_phase1['prev_items'] = df_test_phase1['prev_items'].apply(lambda x: str2list(x))\n",
    "df_test_phase2['prev_items'] = df_test_phase2['prev_items'].apply(lambda x: str2list(x))"
   ]
  },
  {
   "cell_type": "code",
   "execution_count": 10,
   "metadata": {},
   "outputs": [
    {
     "data": {
      "text/html": [
       "<div>\n",
       "<style scoped>\n",
       "    .dataframe tbody tr th:only-of-type {\n",
       "        vertical-align: middle;\n",
       "    }\n",
       "\n",
       "    .dataframe tbody tr th {\n",
       "        vertical-align: top;\n",
       "    }\n",
       "\n",
       "    .dataframe thead th {\n",
       "        text-align: right;\n",
       "    }\n",
       "</style>\n",
       "<table border=\"1\" class=\"dataframe\">\n",
       "  <thead>\n",
       "    <tr style=\"text-align: right;\">\n",
       "      <th></th>\n",
       "      <th>prev_items</th>\n",
       "      <th>next_item</th>\n",
       "      <th>locale</th>\n",
       "    </tr>\n",
       "  </thead>\n",
       "  <tbody>\n",
       "    <tr>\n",
       "      <th>0</th>\n",
       "      <td>[B09W9FND7K, B09JSPLN1M]</td>\n",
       "      <td>B09M7GY217</td>\n",
       "      <td>DE</td>\n",
       "    </tr>\n",
       "    <tr>\n",
       "      <th>1</th>\n",
       "      <td>[B076THCGSG, B007MO8IME, B08MF65MLV, B001B4TKA0]</td>\n",
       "      <td>B001B4THSA</td>\n",
       "      <td>DE</td>\n",
       "    </tr>\n",
       "    <tr>\n",
       "      <th>2</th>\n",
       "      <td>[B0B1LGXWDS, B00AZYORS2, B0B1LGXWDS, B00AZYORS...</td>\n",
       "      <td>B0767DTG2Q</td>\n",
       "      <td>DE</td>\n",
       "    </tr>\n",
       "    <tr>\n",
       "      <th>3</th>\n",
       "      <td>[B09XMTWDVT, B0B4MZZ8MB, B0B7HZ2GWX, B09XMTWDV...</td>\n",
       "      <td>B0B4R9NN4B</td>\n",
       "      <td>DE</td>\n",
       "    </tr>\n",
       "    <tr>\n",
       "      <th>4</th>\n",
       "      <td>[B09Y5CSL3T, B09Y5DPTXN, B09FKD61R8]</td>\n",
       "      <td>B0BGVBKWGZ</td>\n",
       "      <td>DE</td>\n",
       "    </tr>\n",
       "    <tr>\n",
       "      <th>...</th>\n",
       "      <td>...</td>\n",
       "      <td>...</td>\n",
       "      <td>...</td>\n",
       "    </tr>\n",
       "    <tr>\n",
       "      <th>3606244</th>\n",
       "      <td>[B086CYFSKW, B0874F9859, B086CYFSKW]</td>\n",
       "      <td>B07B5TYD76</td>\n",
       "      <td>IT</td>\n",
       "    </tr>\n",
       "    <tr>\n",
       "      <th>3606245</th>\n",
       "      <td>[B09NRZKZ7V, B08WJTPV93]</td>\n",
       "      <td>B08L1P4C3D</td>\n",
       "      <td>IT</td>\n",
       "    </tr>\n",
       "    <tr>\n",
       "      <th>3606246</th>\n",
       "      <td>[B085JFX7MP, B085JGHW8R]</td>\n",
       "      <td>B01MPWVD44</td>\n",
       "      <td>IT</td>\n",
       "    </tr>\n",
       "    <tr>\n",
       "      <th>3606247</th>\n",
       "      <td>[B00B0UING2, B00B0UING2]</td>\n",
       "      <td>B00D3HYEZ4</td>\n",
       "      <td>IT</td>\n",
       "    </tr>\n",
       "    <tr>\n",
       "      <th>3606248</th>\n",
       "      <td>[B092S9D1SD, B09XQQ1S72, B0852MS7QC, B0B1V43MN1]</td>\n",
       "      <td>B0B7RX65YP</td>\n",
       "      <td>IT</td>\n",
       "    </tr>\n",
       "  </tbody>\n",
       "</table>\n",
       "<p>3606249 rows × 3 columns</p>\n",
       "</div>"
      ],
      "text/plain": [
       "                                                prev_items   next_item locale\n",
       "0                                 [B09W9FND7K, B09JSPLN1M]  B09M7GY217     DE\n",
       "1         [B076THCGSG, B007MO8IME, B08MF65MLV, B001B4TKA0]  B001B4THSA     DE\n",
       "2        [B0B1LGXWDS, B00AZYORS2, B0B1LGXWDS, B00AZYORS...  B0767DTG2Q     DE\n",
       "3        [B09XMTWDVT, B0B4MZZ8MB, B0B7HZ2GWX, B09XMTWDV...  B0B4R9NN4B     DE\n",
       "4                     [B09Y5CSL3T, B09Y5DPTXN, B09FKD61R8]  B0BGVBKWGZ     DE\n",
       "...                                                    ...         ...    ...\n",
       "3606244               [B086CYFSKW, B0874F9859, B086CYFSKW]  B07B5TYD76     IT\n",
       "3606245                           [B09NRZKZ7V, B08WJTPV93]  B08L1P4C3D     IT\n",
       "3606246                           [B085JFX7MP, B085JGHW8R]  B01MPWVD44     IT\n",
       "3606247                           [B00B0UING2, B00B0UING2]  B00D3HYEZ4     IT\n",
       "3606248   [B092S9D1SD, B09XQQ1S72, B0852MS7QC, B0B1V43MN1]  B0B7RX65YP     IT\n",
       "\n",
       "[3606249 rows x 3 columns]"
      ]
     },
     "execution_count": 10,
     "metadata": {},
     "output_type": "execute_result"
    }
   ],
   "source": [
    "df_train"
   ]
  },
  {
   "cell_type": "code",
   "execution_count": 11,
   "metadata": {},
   "outputs": [],
   "source": [
    "df_train['last_item'] = df_train['prev_items'].apply(lambda x: x[-1])\n",
    "df_test_phase1['last_item'] = df_test_phase1['prev_items'].apply(lambda x: x[-1])\n",
    "df_test_phase2['last_item'] = df_test_phase2['prev_items'].apply(lambda x: x[-1])"
   ]
  },
  {
   "cell_type": "code",
   "execution_count": 12,
   "metadata": {},
   "outputs": [
    {
     "data": {
      "text/plain": [
       "((3606249, 4), (34688, 3), (34690, 3))"
      ]
     },
     "execution_count": 12,
     "metadata": {},
     "output_type": "execute_result"
    }
   ],
   "source": [
    "df_train.shape, df_test_phase1.shape, df_test_phase2.shape "
   ]
  },
  {
   "cell_type": "code",
   "execution_count": 13,
   "metadata": {},
   "outputs": [],
   "source": [
    "loc2id = {\n",
    "    'ES': 0,\n",
    "    'FR': 1,\n",
    "    'IT': 2,\n",
    "}"
   ]
  },
  {
   "cell_type": "code",
   "execution_count": 11,
   "metadata": {},
   "outputs": [
    {
     "data": {
      "text/plain": [
       "(333533, 4)"
      ]
     },
     "execution_count": 11,
     "metadata": {},
     "output_type": "execute_result"
    }
   ],
   "source": [
    "# df_train[df_train['locale'].isin(['ES', 'FR', 'IT'])].shape"
   ]
  },
  {
   "cell_type": "code",
   "execution_count": 23,
   "metadata": {},
   "outputs": [
    {
     "data": {
      "text/plain": [
       "(333533, 4)"
      ]
     },
     "execution_count": 23,
     "metadata": {},
     "output_type": "execute_result"
    }
   ],
   "source": [
    "# df_train = df_train[df_train['locale'].isin(['ES', 'FR', 'IT'])]\n",
    "# df_train.shape "
   ]
  },
  {
   "cell_type": "code",
   "execution_count": 24,
   "metadata": {},
   "outputs": [
    {
     "data": {
      "text/plain": [
       "(34688, 4)"
      ]
     },
     "execution_count": 24,
     "metadata": {},
     "output_type": "execute_result"
    }
   ],
   "source": [
    "# df_test = df_test[df_test['locale'].isin(['ES', 'FR', 'IT'])]\n",
    "# df_test.shape "
   ]
  },
  {
   "cell_type": "code",
   "execution_count": 25,
   "metadata": {},
   "outputs": [
    {
     "data": {
      "text/plain": [
       "((333533, 4), (34688, 4))"
      ]
     },
     "execution_count": 25,
     "metadata": {},
     "output_type": "execute_result"
    }
   ],
   "source": [
    "# df_train.shape , df_test.shape "
   ]
  },
  {
   "cell_type": "code",
   "execution_count": 13,
   "metadata": {},
   "outputs": [],
   "source": [
    "# 后边不用重跑"
   ]
  },
  {
   "cell_type": "code",
   "execution_count": 14,
   "metadata": {},
   "outputs": [
    {
     "name": "stderr",
     "output_type": "stream",
     "text": [
      "100%|██████████| 3272716/3272716 [03:20<00:00, 16339.42it/s]\n"
     ]
    },
    {
     "data": {
      "text/plain": [
       "1326772"
      ]
     },
     "execution_count": 14,
     "metadata": {},
     "output_type": "execute_result"
    }
   ],
   "source": [
    "# train_ids = []\n",
    "# for _, row in tqdm(df_train.iterrows(), total=len(df_train)):\n",
    "#     train_ids += row['prev_items']\n",
    "#     train_ids.append(row['next_item'])\n",
    "# train_ids = set(train_ids)\n",
    "# len(train_ids)"
   ]
  },
  {
   "cell_type": "code",
   "execution_count": 15,
   "metadata": {},
   "outputs": [
    {
     "name": "stderr",
     "output_type": "stream",
     "text": [
      "100%|██████████| 316971/316971 [00:17<00:00, 17624.61it/s]\n"
     ]
    },
    {
     "data": {
      "text/plain": [
       "224336"
      ]
     },
     "execution_count": 15,
     "metadata": {},
     "output_type": "execute_result"
    }
   ],
   "source": [
    "# test_ids = []\n",
    "# for _, row in tqdm(df_test.iterrows(), total=len(df_test)):\n",
    "#     test_ids += row['prev_items']\n",
    "# test_ids = set(test_ids)\n",
    "# len(test_ids)"
   ]
  },
  {
   "cell_type": "code",
   "execution_count": 16,
   "metadata": {},
   "outputs": [
    {
     "data": {
      "text/plain": [
       "212261"
      ]
     },
     "execution_count": 16,
     "metadata": {},
     "output_type": "execute_result"
    }
   ],
   "source": [
    "# len(train_ids & test_ids)"
   ]
  },
  {
   "cell_type": "code",
   "execution_count": 17,
   "metadata": {},
   "outputs": [
    {
     "data": {
      "text/plain": [
       "1338847"
      ]
     },
     "execution_count": 17,
     "metadata": {},
     "output_type": "execute_result"
    }
   ],
   "source": [
    "# len(train_ids | test_ids)"
   ]
  },
  {
   "cell_type": "code",
   "execution_count": 18,
   "metadata": {},
   "outputs": [],
   "source": [
    "# train_ids = np.array(list(train_ids))\n",
    "# test_ids = np.array(list(test_ids))\n",
    "# np.save('data/train_ids.npy', train_ids)\n",
    "# np.save('data/test_ids.npy', test_ids)"
   ]
  },
  {
   "attachments": {},
   "cell_type": "markdown",
   "metadata": {},
   "source": [
    "# 召回"
   ]
  },
  {
   "attachments": {},
   "cell_type": "markdown",
   "metadata": {},
   "source": [
    "召回策略\n",
    "\n",
    "1. 使用vid关联规则【统计】\n",
    "    - 计算与最后vid关联性最大的下一个vid；\n",
    "    - 计算与最后5个vid关联性最大的下一个vid；\n",
    "    - 计算与历史观看时间最长的vid关联性最大的下一个vid；\n",
    "2. 使用vid计算词向量相似度"
   ]
  },
  {
   "attachments": {},
   "cell_type": "markdown",
   "metadata": {},
   "source": [
    "训练集标签中最热门的200个id"
   ]
  },
  {
   "cell_type": "code",
   "execution_count": 13,
   "metadata": {},
   "outputs": [],
   "source": [
    "# 最热门的200个id\n",
    "hot200 = df_train['next_item'].value_counts().head(200).index\n",
    "hot200 = list(hot200)"
   ]
  },
  {
   "attachments": {},
   "cell_type": "markdown",
   "metadata": {},
   "source": [
    "一阶共现关系"
   ]
  },
  {
   "cell_type": "code",
   "execution_count": 107,
   "metadata": {},
   "outputs": [
    {
     "name": "stderr",
     "output_type": "stream",
     "text": [
      "100%|██████████| 3606249/3606249 [04:42<00:00, 12768.91it/s]\n"
     ]
    }
   ],
   "source": [
    "window_one_item_dict = defaultdict(list)\n",
    "\n",
    "for _, row in tqdm(df_train.iterrows(), total=len(df_train)):\n",
    "    prev_items = row['prev_items']\n",
    "    next_item = row['next_item']\n",
    "    prev_items_length = len(prev_items)\n",
    "    if prev_items_length <= 1:\n",
    "        window_one_item_dict[prev_items[0]].append(next_item)\n",
    "        window_one_item_dict[next_item].append(prev_items[0])\n",
    "    else:\n",
    "        for i, item in enumerate(prev_items[:-1]):\n",
    "            window_one_item_dict[item].append(prev_items[i+1])\n",
    "            window_one_item_dict[prev_items[i+1]].append(item)\n",
    "        window_one_item_dict[prev_items[-1]].append(next_item)\n",
    "        window_one_item_dict[next_item].append(prev_items[-1])"
   ]
  },
  {
   "cell_type": "code",
   "execution_count": 68,
   "metadata": {},
   "outputs": [
    {
     "name": "stderr",
     "output_type": "stream",
     "text": [
      "100%|██████████| 3606249/3606249 [04:20<00:00, 13839.73it/s]\n"
     ]
    }
   ],
   "source": [
    "# 去除泄露\n",
    "window_one_item_dict = defaultdict(list)\n",
    "\n",
    "for _, row in tqdm(df_train.iterrows(), total=len(df_train)):\n",
    "    prev_items = row['prev_items']\n",
    "    prev_items_length = len(prev_items)\n",
    "    if prev_items_length <= 1:\n",
    "        continue\n",
    "    else:\n",
    "        for i, item in enumerate(prev_items[:-1]):\n",
    "            window_one_item_dict[item].append(prev_items[i+1])\n",
    "            window_one_item_dict[prev_items[i+1]].append(item)"
   ]
  },
  {
   "cell_type": "code",
   "execution_count": 108,
   "metadata": {},
   "outputs": [
    {
     "name": "stderr",
     "output_type": "stream",
     "text": [
      "100%|██████████| 34688/34688 [00:02<00:00, 14206.04it/s]\n"
     ]
    }
   ],
   "source": [
    "for _, row in tqdm(df_test_phase1.iterrows(), total=len(df_test_phase1)):\n",
    "    prev_items = row['prev_items']\n",
    "    prev_items_length = len(prev_items)\n",
    "    if prev_items_length <= 1:\n",
    "        continue\n",
    "    else:\n",
    "        for i, item in enumerate(prev_items[:-1]):\n",
    "            window_one_item_dict[item].append(prev_items[i+1])\n",
    "            window_one_item_dict[prev_items[i+1]].append(item)"
   ]
  },
  {
   "cell_type": "code",
   "execution_count": 109,
   "metadata": {},
   "outputs": [
    {
     "name": "stderr",
     "output_type": "stream",
     "text": [
      "100%|██████████| 34690/34690 [00:02<00:00, 14269.24it/s]\n"
     ]
    }
   ],
   "source": [
    "for _, row in tqdm(df_test_phase2.iterrows(), total=len(df_test_phase2)):\n",
    "    prev_items = row['prev_items']\n",
    "    prev_items_length = len(prev_items)\n",
    "    if prev_items_length <= 1:\n",
    "        continue\n",
    "    else:\n",
    "        for i, item in enumerate(prev_items[:-1]):\n",
    "            window_one_item_dict[item].append(prev_items[i+1])\n",
    "            window_one_item_dict[prev_items[i+1]].append(item)"
   ]
  },
  {
   "cell_type": "code",
   "execution_count": 110,
   "metadata": {},
   "outputs": [],
   "source": [
    "pickle.dump(window_one_item_dict, open('data/window_one_item_dict_onlytask2_phase2.pkl', 'wb'))"
   ]
  },
  {
   "cell_type": "code",
   "execution_count": 111,
   "metadata": {},
   "outputs": [
    {
     "name": "stderr",
     "output_type": "stream",
     "text": [
      "100%|██████████| 1396388/1396388 [00:16<00:00, 83609.13it/s] \n"
     ]
    }
   ],
   "source": [
    "window_one_item_map = {}\n",
    "\n",
    "for item in tqdm(window_one_item_dict):\n",
    "    counter = Counter(window_one_item_dict[item])\n",
    "    window_one_item_map[item] = [i[0] for i in counter.most_common(100)]"
   ]
  },
  {
   "cell_type": "code",
   "execution_count": 112,
   "metadata": {},
   "outputs": [],
   "source": [
    "pickle.dump(window_one_item_map, open('data/window_one_item_map_onlytask2_phase2.pkl', 'wb'))"
   ]
  },
  {
   "cell_type": "code",
   "execution_count": 113,
   "metadata": {},
   "outputs": [
    {
     "data": {
      "text/html": [
       "<div>\n",
       "<style scoped>\n",
       "    .dataframe tbody tr th:only-of-type {\n",
       "        vertical-align: middle;\n",
       "    }\n",
       "\n",
       "    .dataframe tbody tr th {\n",
       "        vertical-align: top;\n",
       "    }\n",
       "\n",
       "    .dataframe thead th {\n",
       "        text-align: right;\n",
       "    }\n",
       "</style>\n",
       "<table border=\"1\" class=\"dataframe\">\n",
       "  <thead>\n",
       "    <tr style=\"text-align: right;\">\n",
       "      <th></th>\n",
       "      <th>item</th>\n",
       "      <th>next_item</th>\n",
       "    </tr>\n",
       "  </thead>\n",
       "  <tbody>\n",
       "    <tr>\n",
       "      <th>0</th>\n",
       "      <td>B09W9FND7K</td>\n",
       "      <td>B09JSPLN1M</td>\n",
       "    </tr>\n",
       "    <tr>\n",
       "      <th>1</th>\n",
       "      <td>B09W9FND7K</td>\n",
       "      <td>B09W9FND7K</td>\n",
       "    </tr>\n",
       "    <tr>\n",
       "      <th>2</th>\n",
       "      <td>B09W9FND7K</td>\n",
       "      <td>B0828Z4D1R</td>\n",
       "    </tr>\n",
       "    <tr>\n",
       "      <th>3</th>\n",
       "      <td>B09W9FND7K</td>\n",
       "      <td>B00AI7MFQ2</td>\n",
       "    </tr>\n",
       "    <tr>\n",
       "      <th>4</th>\n",
       "      <td>B09W9FND7K</td>\n",
       "      <td>B09P83WGQG</td>\n",
       "    </tr>\n",
       "    <tr>\n",
       "      <th>...</th>\n",
       "      <td>...</td>\n",
       "      <td>...</td>\n",
       "    </tr>\n",
       "    <tr>\n",
       "      <th>14332548</th>\n",
       "      <td>B0B77ZJKD2</td>\n",
       "      <td>B08MFH8314</td>\n",
       "    </tr>\n",
       "    <tr>\n",
       "      <th>14332549</th>\n",
       "      <td>B0B77ZJKD2</td>\n",
       "      <td>B0B781WMXW</td>\n",
       "    </tr>\n",
       "    <tr>\n",
       "      <th>14332550</th>\n",
       "      <td>B00VZZ7VVA</td>\n",
       "      <td>B00V3MQ1PC</td>\n",
       "    </tr>\n",
       "    <tr>\n",
       "      <th>14332551</th>\n",
       "      <td>B093KK7YLB</td>\n",
       "      <td>B08K81325J</td>\n",
       "    </tr>\n",
       "    <tr>\n",
       "      <th>14332552</th>\n",
       "      <td>B093KK7YLB</td>\n",
       "      <td>B08BXCQYZ1</td>\n",
       "    </tr>\n",
       "  </tbody>\n",
       "</table>\n",
       "<p>14332553 rows × 2 columns</p>\n",
       "</div>"
      ],
      "text/plain": [
       "                item   next_item\n",
       "0         B09W9FND7K  B09JSPLN1M\n",
       "1         B09W9FND7K  B09W9FND7K\n",
       "2         B09W9FND7K  B0828Z4D1R\n",
       "3         B09W9FND7K  B00AI7MFQ2\n",
       "4         B09W9FND7K  B09P83WGQG\n",
       "...              ...         ...\n",
       "14332548  B0B77ZJKD2  B08MFH8314\n",
       "14332549  B0B77ZJKD2  B0B781WMXW\n",
       "14332550  B00VZZ7VVA  B00V3MQ1PC\n",
       "14332551  B093KK7YLB  B08K81325J\n",
       "14332552  B093KK7YLB  B08BXCQYZ1\n",
       "\n",
       "[14332553 rows x 2 columns]"
      ]
     },
     "execution_count": 113,
     "metadata": {},
     "output_type": "execute_result"
    }
   ],
   "source": [
    "k = []\n",
    "v = []\n",
    "\n",
    "for item in window_one_item_map:\n",
    "    k.append(item)\n",
    "    v.append(window_one_item_map[item])\n",
    "    \n",
    "df_next = pd.DataFrame({'item': k, 'next_item': v})\n",
    "df_next = df_next.explode('next_item').reset_index(drop=True)\n",
    "df_next"
   ]
  },
  {
   "cell_type": "code",
   "execution_count": 114,
   "metadata": {},
   "outputs": [],
   "source": [
    "top200_window_one = df_next['next_item'].value_counts().index.tolist()[:200]  # 所有下一跳候选集中最热门的200个"
   ]
  },
  {
   "cell_type": "code",
   "execution_count": 115,
   "metadata": {},
   "outputs": [],
   "source": [
    "pickle.dump(top200_window_one, open('data/top200_window_one_onlytask2_phase2.pkl', 'wb'))"
   ]
  },
  {
   "attachments": {},
   "cell_type": "markdown",
   "metadata": {},
   "source": [
    "一阶下一跳"
   ]
  },
  {
   "cell_type": "code",
   "execution_count": 124,
   "metadata": {},
   "outputs": [
    {
     "name": "stderr",
     "output_type": "stream",
     "text": [
      "100%|██████████| 3606249/3606249 [04:51<00:00, 12365.11it/s]\n"
     ]
    }
   ],
   "source": [
    "next_item_dict = defaultdict(list)\n",
    "\n",
    "for _, row in tqdm(df_train.iterrows(), total=len(df_train)):\n",
    "    prev_items = row['prev_items']\n",
    "    next_item = row['next_item']\n",
    "    prev_items_length = len(prev_items)\n",
    "    if prev_items_length <= 1:\n",
    "        next_item_dict[prev_items[0]].append(next_item)\n",
    "    else:\n",
    "        for i, item in enumerate(prev_items[:-1]):\n",
    "            next_item_dict[item].append(prev_items[i+1])\n",
    "        next_item_dict[prev_items[-1]].append(next_item)"
   ]
  },
  {
   "cell_type": "code",
   "execution_count": 89,
   "metadata": {},
   "outputs": [
    {
     "name": "stderr",
     "output_type": "stream",
     "text": [
      "100%|██████████| 3606249/3606249 [04:10<00:00, 14388.61it/s]\n"
     ]
    }
   ],
   "source": [
    "# 去除泄露\n",
    "next_item_dict = defaultdict(list)\n",
    "\n",
    "for _, row in tqdm(df_train.iterrows(), total=len(df_train)):\n",
    "    prev_items = row['prev_items']\n",
    "    prev_items_length = len(prev_items)\n",
    "    if prev_items_length <= 1:\n",
    "        continue\n",
    "    else:\n",
    "        for i, item in enumerate(prev_items[:-1]):\n",
    "            next_item_dict[item].append(prev_items[i+1])"
   ]
  },
  {
   "cell_type": "code",
   "execution_count": 125,
   "metadata": {},
   "outputs": [
    {
     "name": "stderr",
     "output_type": "stream",
     "text": [
      "100%|██████████| 34688/34688 [00:02<00:00, 13937.90it/s]\n"
     ]
    }
   ],
   "source": [
    "for _, row in tqdm(df_test_phase1.iterrows(), total=len(df_test_phase1)):\n",
    "    prev_items = row['prev_items']\n",
    "    prev_items_length = len(prev_items)\n",
    "    if prev_items_length <= 1:\n",
    "        continue\n",
    "    else:\n",
    "        for i, item in enumerate(prev_items[:-1]):\n",
    "            next_item_dict[item].append(prev_items[i+1])"
   ]
  },
  {
   "cell_type": "code",
   "execution_count": 126,
   "metadata": {},
   "outputs": [
    {
     "name": "stderr",
     "output_type": "stream",
     "text": [
      "100%|██████████| 34690/34690 [00:02<00:00, 14098.57it/s]\n"
     ]
    }
   ],
   "source": [
    "for _, row in tqdm(df_test_phase2.iterrows(), total=len(df_test_phase2)):\n",
    "    prev_items = row['prev_items']\n",
    "    prev_items_length = len(prev_items)\n",
    "    if prev_items_length <= 1:\n",
    "        continue\n",
    "    else:\n",
    "        for i, item in enumerate(prev_items[:-1]):\n",
    "            next_item_dict[item].append(prev_items[i+1])"
   ]
  },
  {
   "cell_type": "code",
   "execution_count": 127,
   "metadata": {},
   "outputs": [],
   "source": [
    "pickle.dump(next_item_dict, open('data/next_item_dict_onlytask2_phase2.pkl', 'wb'))"
   ]
  },
  {
   "cell_type": "code",
   "execution_count": 13,
   "metadata": {},
   "outputs": [],
   "source": [
    "# next_item_dict = pickle.load(open('data/next_item_dict_new.pkl', 'rb'))"
   ]
  },
  {
   "cell_type": "code",
   "execution_count": 128,
   "metadata": {},
   "outputs": [
    {
     "name": "stderr",
     "output_type": "stream",
     "text": [
      "100%|██████████| 1326075/1326075 [00:13<00:00, 101598.88it/s]\n"
     ]
    }
   ],
   "source": [
    "next_item_map = {}\n",
    "\n",
    "for item in tqdm(next_item_dict):\n",
    "    counter = Counter(next_item_dict[item])\n",
    "    next_item_map[item] = [i[0] for i in counter.most_common(100)]"
   ]
  },
  {
   "cell_type": "code",
   "execution_count": 129,
   "metadata": {},
   "outputs": [],
   "source": [
    "pickle.dump(next_item_map, open('data/next_item_map_onlytask2_phase2.pkl', 'wb'))"
   ]
  },
  {
   "cell_type": "code",
   "execution_count": 15,
   "metadata": {},
   "outputs": [],
   "source": [
    "# next_item_map = pickle.load(open('data/next_item_map.pkl', 'rb'))"
   ]
  },
  {
   "attachments": {},
   "cell_type": "markdown",
   "metadata": {},
   "source": [
    "一阶下一跳中最热门的200个id"
   ]
  },
  {
   "cell_type": "code",
   "execution_count": 130,
   "metadata": {},
   "outputs": [
    {
     "data": {
      "text/html": [
       "<div>\n",
       "<style scoped>\n",
       "    .dataframe tbody tr th:only-of-type {\n",
       "        vertical-align: middle;\n",
       "    }\n",
       "\n",
       "    .dataframe tbody tr th {\n",
       "        vertical-align: top;\n",
       "    }\n",
       "\n",
       "    .dataframe thead th {\n",
       "        text-align: right;\n",
       "    }\n",
       "</style>\n",
       "<table border=\"1\" class=\"dataframe\">\n",
       "  <thead>\n",
       "    <tr style=\"text-align: right;\">\n",
       "      <th></th>\n",
       "      <th>item</th>\n",
       "      <th>next_item</th>\n",
       "    </tr>\n",
       "  </thead>\n",
       "  <tbody>\n",
       "    <tr>\n",
       "      <th>0</th>\n",
       "      <td>B09W9FND7K</td>\n",
       "      <td>B09JSPLN1M</td>\n",
       "    </tr>\n",
       "    <tr>\n",
       "      <th>1</th>\n",
       "      <td>B09W9FND7K</td>\n",
       "      <td>B09JSPLN1M</td>\n",
       "    </tr>\n",
       "    <tr>\n",
       "      <th>2</th>\n",
       "      <td>B09W9FND7K</td>\n",
       "      <td>B09JSPLN1M</td>\n",
       "    </tr>\n",
       "    <tr>\n",
       "      <th>3</th>\n",
       "      <td>B09W9FND7K</td>\n",
       "      <td>B09JSPLN1M</td>\n",
       "    </tr>\n",
       "    <tr>\n",
       "      <th>4</th>\n",
       "      <td>B09W9FND7K</td>\n",
       "      <td>B078WW2WN5</td>\n",
       "    </tr>\n",
       "    <tr>\n",
       "      <th>...</th>\n",
       "      <td>...</td>\n",
       "      <td>...</td>\n",
       "    </tr>\n",
       "    <tr>\n",
       "      <th>15502041</th>\n",
       "      <td>B0B77ZJKD2</td>\n",
       "      <td>B0B781WMXW</td>\n",
       "    </tr>\n",
       "    <tr>\n",
       "      <th>15502042</th>\n",
       "      <td>B00VZZ7VVA</td>\n",
       "      <td>B00V3MQ1PC</td>\n",
       "    </tr>\n",
       "    <tr>\n",
       "      <th>15502043</th>\n",
       "      <td>B00VZZ7VVA</td>\n",
       "      <td>B00V3MQ1PC</td>\n",
       "    </tr>\n",
       "    <tr>\n",
       "      <th>15502044</th>\n",
       "      <td>B07KKKNB32</td>\n",
       "      <td>B07KKKNB32</td>\n",
       "    </tr>\n",
       "    <tr>\n",
       "      <th>15502045</th>\n",
       "      <td>B093KK7YLB</td>\n",
       "      <td>B08BXCQYZ1</td>\n",
       "    </tr>\n",
       "  </tbody>\n",
       "</table>\n",
       "<p>15502046 rows × 2 columns</p>\n",
       "</div>"
      ],
      "text/plain": [
       "                item   next_item\n",
       "0         B09W9FND7K  B09JSPLN1M\n",
       "1         B09W9FND7K  B09JSPLN1M\n",
       "2         B09W9FND7K  B09JSPLN1M\n",
       "3         B09W9FND7K  B09JSPLN1M\n",
       "4         B09W9FND7K  B078WW2WN5\n",
       "...              ...         ...\n",
       "15502041  B0B77ZJKD2  B0B781WMXW\n",
       "15502042  B00VZZ7VVA  B00V3MQ1PC\n",
       "15502043  B00VZZ7VVA  B00V3MQ1PC\n",
       "15502044  B07KKKNB32  B07KKKNB32\n",
       "15502045  B093KK7YLB  B08BXCQYZ1\n",
       "\n",
       "[15502046 rows x 2 columns]"
      ]
     },
     "execution_count": 130,
     "metadata": {},
     "output_type": "execute_result"
    }
   ],
   "source": [
    "k = []\n",
    "v = []\n",
    "\n",
    "for item in next_item_dict:\n",
    "    k.append(item)\n",
    "    v.append(next_item_dict[item])\n",
    "    \n",
    "df_next = pd.DataFrame({'item': k, 'next_item': v})\n",
    "df_next = df_next.explode('next_item').reset_index(drop=True)\n",
    "df_next"
   ]
  },
  {
   "cell_type": "code",
   "execution_count": 131,
   "metadata": {},
   "outputs": [],
   "source": [
    "top200 = df_next['next_item'].value_counts().index.tolist()[:200]  # 所有下一跳候选集中最热门的200个"
   ]
  },
  {
   "cell_type": "code",
   "execution_count": 132,
   "metadata": {},
   "outputs": [],
   "source": [
    "pickle.dump(top200, open('data/top200_onlytask2_phase2.pkl', 'wb'))"
   ]
  },
  {
   "cell_type": "code",
   "execution_count": 16,
   "metadata": {},
   "outputs": [],
   "source": [
    "# top200 = pickle.load(open('data/top200.pkl', 'rb'))"
   ]
  },
  {
   "attachments": {},
   "cell_type": "markdown",
   "metadata": {},
   "source": [
    "训练集本地验证结果"
   ]
  },
  {
   "cell_type": "code",
   "execution_count": 15,
   "metadata": {},
   "outputs": [],
   "source": [
    "next_item_dict = pickle.load(open('data/window_one_item_dict_onlytask2_phase2_noleak.pkl', 'rb'))\n",
    "next_item_map = pickle.load(open('data/window_one_item_map_onlytask2_phase2_noleak.pkl', 'rb'))\n",
    "top200 = pickle.load(open('data/top200_window_one_onlytask2_phase2_noleak.pkl', 'rb'))"
   ]
  },
  {
   "cell_type": "code",
   "execution_count": 16,
   "metadata": {},
   "outputs": [
    {
     "data": {
      "text/html": [
       "<div>\n",
       "<style scoped>\n",
       "    .dataframe tbody tr th:only-of-type {\n",
       "        vertical-align: middle;\n",
       "    }\n",
       "\n",
       "    .dataframe tbody tr th {\n",
       "        vertical-align: top;\n",
       "    }\n",
       "\n",
       "    .dataframe thead th {\n",
       "        text-align: right;\n",
       "    }\n",
       "</style>\n",
       "<table border=\"1\" class=\"dataframe\">\n",
       "  <thead>\n",
       "    <tr style=\"text-align: right;\">\n",
       "      <th></th>\n",
       "      <th>prev_items</th>\n",
       "      <th>next_item</th>\n",
       "      <th>locale</th>\n",
       "      <th>last_item</th>\n",
       "      <th>next_item_prediction</th>\n",
       "    </tr>\n",
       "  </thead>\n",
       "  <tbody>\n",
       "    <tr>\n",
       "      <th>0</th>\n",
       "      <td>[B09W9FND7K, B09JSPLN1M]</td>\n",
       "      <td>B09M7GY217</td>\n",
       "      <td>DE</td>\n",
       "      <td>B09JSPLN1M</td>\n",
       "      <td>[B09W9FND7K, B09JSPLN1M, B098MKBJ2F, B09YS6S48...</td>\n",
       "    </tr>\n",
       "    <tr>\n",
       "      <th>1</th>\n",
       "      <td>[B076THCGSG, B007MO8IME, B08MF65MLV, B001B4TKA0]</td>\n",
       "      <td>B001B4THSA</td>\n",
       "      <td>DE</td>\n",
       "      <td>B001B4TKA0</td>\n",
       "      <td>[B001B4THSA, B08MF65MLV, B0001NPYZ2, B01N3LKN0...</td>\n",
       "    </tr>\n",
       "    <tr>\n",
       "      <th>2</th>\n",
       "      <td>[B0B1LGXWDS, B00AZYORS2, B0B1LGXWDS, B00AZYORS...</td>\n",
       "      <td>B0767DTG2Q</td>\n",
       "      <td>DE</td>\n",
       "      <td>B00AZYORS2</td>\n",
       "      <td>[B0B1LGXWDS, B00AZYORS2, B01MU5VASL, B0002TTRO...</td>\n",
       "    </tr>\n",
       "    <tr>\n",
       "      <th>3</th>\n",
       "      <td>[B09XMTWDVT, B0B4MZZ8MB, B0B7HZ2GWX, B09XMTWDV...</td>\n",
       "      <td>B0B4R9NN4B</td>\n",
       "      <td>DE</td>\n",
       "      <td>B0B71CHT1L</td>\n",
       "      <td>[B09XMTWDVT, B0B7HZ2GWX, B0B71GSJ2R, B0B4MZZ8M...</td>\n",
       "    </tr>\n",
       "    <tr>\n",
       "      <th>4</th>\n",
       "      <td>[B09Y5CSL3T, B09Y5DPTXN, B09FKD61R8]</td>\n",
       "      <td>B0BGVBKWGZ</td>\n",
       "      <td>DE</td>\n",
       "      <td>B09FKD61R8</td>\n",
       "      <td>[B09FKF5W9Q, B09Y5DPTXN, B09MRVWQ3B, B09FKDPY2S]</td>\n",
       "    </tr>\n",
       "    <tr>\n",
       "      <th>...</th>\n",
       "      <td>...</td>\n",
       "      <td>...</td>\n",
       "      <td>...</td>\n",
       "      <td>...</td>\n",
       "      <td>...</td>\n",
       "    </tr>\n",
       "    <tr>\n",
       "      <th>3606244</th>\n",
       "      <td>[B086CYFSKW, B0874F9859, B086CYFSKW]</td>\n",
       "      <td>B07B5TYD76</td>\n",
       "      <td>IT</td>\n",
       "      <td>B086CYFSKW</td>\n",
       "      <td>[B0874F9859, B08FJQFPLM]</td>\n",
       "    </tr>\n",
       "    <tr>\n",
       "      <th>3606245</th>\n",
       "      <td>[B09NRZKZ7V, B08WJTPV93]</td>\n",
       "      <td>B08L1P4C3D</td>\n",
       "      <td>IT</td>\n",
       "      <td>B08WJTPV93</td>\n",
       "      <td>[B08WJTPV93, B09NRZKZ7V, B088N7XVL7, B09JDWSQT...</td>\n",
       "    </tr>\n",
       "    <tr>\n",
       "      <th>3606246</th>\n",
       "      <td>[B085JFX7MP, B085JGHW8R]</td>\n",
       "      <td>B01MPWVD44</td>\n",
       "      <td>IT</td>\n",
       "      <td>B085JGHW8R</td>\n",
       "      <td>[B085JGHW8R, B07RYSKF2Z, B087S2CBGV, B08NVNBQN...</td>\n",
       "    </tr>\n",
       "    <tr>\n",
       "      <th>3606247</th>\n",
       "      <td>[B00B0UING2, B00B0UING2]</td>\n",
       "      <td>B00D3HYEZ4</td>\n",
       "      <td>IT</td>\n",
       "      <td>B00B0UING2</td>\n",
       "      <td>[B00B0UING2, B00D3HYEZ4]</td>\n",
       "    </tr>\n",
       "    <tr>\n",
       "      <th>3606248</th>\n",
       "      <td>[B092S9D1SD, B09XQQ1S72, B0852MS7QC, B0B1V43MN1]</td>\n",
       "      <td>B0B7RX65YP</td>\n",
       "      <td>IT</td>\n",
       "      <td>B0B1V43MN1</td>\n",
       "      <td>[B093GZ6DQ6, B09TPGMQT8, B0BBG14FLQ, B09NQ4RZ4...</td>\n",
       "    </tr>\n",
       "  </tbody>\n",
       "</table>\n",
       "<p>3606249 rows × 5 columns</p>\n",
       "</div>"
      ],
      "text/plain": [
       "                                                prev_items   next_item locale  \\\n",
       "0                                 [B09W9FND7K, B09JSPLN1M]  B09M7GY217     DE   \n",
       "1         [B076THCGSG, B007MO8IME, B08MF65MLV, B001B4TKA0]  B001B4THSA     DE   \n",
       "2        [B0B1LGXWDS, B00AZYORS2, B0B1LGXWDS, B00AZYORS...  B0767DTG2Q     DE   \n",
       "3        [B09XMTWDVT, B0B4MZZ8MB, B0B7HZ2GWX, B09XMTWDV...  B0B4R9NN4B     DE   \n",
       "4                     [B09Y5CSL3T, B09Y5DPTXN, B09FKD61R8]  B0BGVBKWGZ     DE   \n",
       "...                                                    ...         ...    ...   \n",
       "3606244               [B086CYFSKW, B0874F9859, B086CYFSKW]  B07B5TYD76     IT   \n",
       "3606245                           [B09NRZKZ7V, B08WJTPV93]  B08L1P4C3D     IT   \n",
       "3606246                           [B085JFX7MP, B085JGHW8R]  B01MPWVD44     IT   \n",
       "3606247                           [B00B0UING2, B00B0UING2]  B00D3HYEZ4     IT   \n",
       "3606248   [B092S9D1SD, B09XQQ1S72, B0852MS7QC, B0B1V43MN1]  B0B7RX65YP     IT   \n",
       "\n",
       "          last_item                               next_item_prediction  \n",
       "0        B09JSPLN1M  [B09W9FND7K, B09JSPLN1M, B098MKBJ2F, B09YS6S48...  \n",
       "1        B001B4TKA0  [B001B4THSA, B08MF65MLV, B0001NPYZ2, B01N3LKN0...  \n",
       "2        B00AZYORS2  [B0B1LGXWDS, B00AZYORS2, B01MU5VASL, B0002TTRO...  \n",
       "3        B0B71CHT1L  [B09XMTWDVT, B0B7HZ2GWX, B0B71GSJ2R, B0B4MZZ8M...  \n",
       "4        B09FKD61R8   [B09FKF5W9Q, B09Y5DPTXN, B09MRVWQ3B, B09FKDPY2S]  \n",
       "...             ...                                                ...  \n",
       "3606244  B086CYFSKW                           [B0874F9859, B08FJQFPLM]  \n",
       "3606245  B08WJTPV93  [B08WJTPV93, B09NRZKZ7V, B088N7XVL7, B09JDWSQT...  \n",
       "3606246  B085JGHW8R  [B085JGHW8R, B07RYSKF2Z, B087S2CBGV, B08NVNBQN...  \n",
       "3606247  B00B0UING2                           [B00B0UING2, B00D3HYEZ4]  \n",
       "3606248  B0B1V43MN1  [B093GZ6DQ6, B09TPGMQT8, B0BBG14FLQ, B09NQ4RZ4...  \n",
       "\n",
       "[3606249 rows x 5 columns]"
      ]
     },
     "execution_count": 16,
     "metadata": {},
     "output_type": "execute_result"
    }
   ],
   "source": [
    "# df_train['last_item'] = df_train['prev_items'].apply(lambda x: x[-1])\n",
    "df_train['next_item_prediction'] = df_train['last_item'].map(next_item_map)\n",
    "df_train"
   ]
  },
  {
   "cell_type": "code",
   "execution_count": 17,
   "metadata": {},
   "outputs": [],
   "source": [
    "# TODO: 不一定历史prev_items中的就不会买了，可以去掉限制试试！"
   ]
  },
  {
   "cell_type": "code",
   "execution_count": 18,
   "metadata": {},
   "outputs": [
    {
     "name": "stderr",
     "output_type": "stream",
     "text": [
      "100%|██████████| 3606249/3606249 [06:44<00:00, 8919.92it/s] \n"
     ]
    },
    {
     "data": {
      "text/plain": [
       "0.21132176370327418"
      ]
     },
     "execution_count": 18,
     "metadata": {},
     "output_type": "execute_result"
    }
   ],
   "source": [
    "train_preds = []\n",
    "mrr = []\n",
    "\n",
    "for _, row in tqdm(df_train.iterrows(), total=len(df_train)):\n",
    "    label = row['next_item']\n",
    "    pred_orig = row['next_item_prediction']\n",
    "    pred = pred_orig\n",
    "    prev_items = row['prev_items']\n",
    "    if type(pred) == float:  # pred=nan, 训练集的last_item在之间没有统计出来下一跳，此时用最热门代替\n",
    "        pred = top200[:100]\n",
    "    else:\n",
    "        if len(pred_orig) < 100:  # 小于100，从最热门选\n",
    "            for i in top200:\n",
    "                if i not in pred_orig and i not in prev_items:\n",
    "                    pred.append(i)\n",
    "                if len(pred) >= 100:\n",
    "                    break\n",
    "        else:\n",
    "            pred = pred[:100]\n",
    "    try:\n",
    "        pred_result = pred.index(label)\n",
    "        mrr.append(1 / (pred_result + 1))\n",
    "    except:\n",
    "        mrr.append(0)\n",
    "    train_preds.append(pred)\n",
    "\n",
    "np.mean(mrr)"
   ]
  },
  {
   "cell_type": "code",
   "execution_count": 136,
   "metadata": {},
   "outputs": [],
   "source": [
    "pickle.dump(train_preds, open('./data/train_preds_next_one_onlytask2_phase2.pkl', 'wb'))"
   ]
  },
  {
   "cell_type": "code",
   "execution_count": 116,
   "metadata": {},
   "outputs": [
    {
     "data": {
      "text/html": [
       "<div>\n",
       "<style scoped>\n",
       "    .dataframe tbody tr th:only-of-type {\n",
       "        vertical-align: middle;\n",
       "    }\n",
       "\n",
       "    .dataframe tbody tr th {\n",
       "        vertical-align: top;\n",
       "    }\n",
       "\n",
       "    .dataframe thead th {\n",
       "        text-align: right;\n",
       "    }\n",
       "</style>\n",
       "<table border=\"1\" class=\"dataframe\">\n",
       "  <thead>\n",
       "    <tr style=\"text-align: right;\">\n",
       "      <th></th>\n",
       "      <th>prev_items</th>\n",
       "      <th>next_item</th>\n",
       "      <th>locale</th>\n",
       "      <th>last_item</th>\n",
       "      <th>next_item_prediction</th>\n",
       "    </tr>\n",
       "  </thead>\n",
       "  <tbody>\n",
       "    <tr>\n",
       "      <th>0</th>\n",
       "      <td>[B09W9FND7K, B09JSPLN1M]</td>\n",
       "      <td>B09M7GY217</td>\n",
       "      <td>DE</td>\n",
       "      <td>B09JSPLN1M</td>\n",
       "      <td>[B09W9FND7K, B09JSPLN1M, B098MKBJ2F, B09M7GY21...</td>\n",
       "    </tr>\n",
       "    <tr>\n",
       "      <th>1</th>\n",
       "      <td>[B076THCGSG, B007MO8IME, B08MF65MLV, B001B4TKA0]</td>\n",
       "      <td>B001B4THSA</td>\n",
       "      <td>DE</td>\n",
       "      <td>B001B4TKA0</td>\n",
       "      <td>[B001B4THSA, B0001NPYZ2, B08MF65MLV, B01N3LKN0...</td>\n",
       "    </tr>\n",
       "    <tr>\n",
       "      <th>2</th>\n",
       "      <td>[B0B1LGXWDS, B00AZYORS2, B0B1LGXWDS, B00AZYORS...</td>\n",
       "      <td>B0767DTG2Q</td>\n",
       "      <td>DE</td>\n",
       "      <td>B00AZYORS2</td>\n",
       "      <td>[B0B1LGXWDS, B083B866RY, B00AZYORS2, B0767DTG2...</td>\n",
       "    </tr>\n",
       "    <tr>\n",
       "      <th>3</th>\n",
       "      <td>[B09XMTWDVT, B0B4MZZ8MB, B0B7HZ2GWX, B09XMTWDV...</td>\n",
       "      <td>B0B4R9NN4B</td>\n",
       "      <td>DE</td>\n",
       "      <td>B0B71CHT1L</td>\n",
       "      <td>[B09XMTWDVT, B0B7HZ2GWX, B0B71GSJ2R, B0B4MZZ8M...</td>\n",
       "    </tr>\n",
       "    <tr>\n",
       "      <th>4</th>\n",
       "      <td>[B09Y5CSL3T, B09Y5DPTXN, B09FKD61R8]</td>\n",
       "      <td>B0BGVBKWGZ</td>\n",
       "      <td>DE</td>\n",
       "      <td>B09FKD61R8</td>\n",
       "      <td>[B09FKF5W9Q, B09Y5DPTXN, B0BGVBKWGZ, B09MRVWQ3...</td>\n",
       "    </tr>\n",
       "    <tr>\n",
       "      <th>...</th>\n",
       "      <td>...</td>\n",
       "      <td>...</td>\n",
       "      <td>...</td>\n",
       "      <td>...</td>\n",
       "      <td>...</td>\n",
       "    </tr>\n",
       "    <tr>\n",
       "      <th>3606244</th>\n",
       "      <td>[B086CYFSKW, B0874F9859, B086CYFSKW]</td>\n",
       "      <td>B07B5TYD76</td>\n",
       "      <td>IT</td>\n",
       "      <td>B086CYFSKW</td>\n",
       "      <td>[B0874F9859, B08FJQFPLM, B07B5TYD76]</td>\n",
       "    </tr>\n",
       "    <tr>\n",
       "      <th>3606245</th>\n",
       "      <td>[B09NRZKZ7V, B08WJTPV93]</td>\n",
       "      <td>B08L1P4C3D</td>\n",
       "      <td>IT</td>\n",
       "      <td>B08WJTPV93</td>\n",
       "      <td>[B08WJTPV93, B09NRZKZ7V, B088N7XVL7, 884722420...</td>\n",
       "    </tr>\n",
       "    <tr>\n",
       "      <th>3606246</th>\n",
       "      <td>[B085JFX7MP, B085JGHW8R]</td>\n",
       "      <td>B01MPWVD44</td>\n",
       "      <td>IT</td>\n",
       "      <td>B085JGHW8R</td>\n",
       "      <td>[B085JGHW8R, B01MPWVD44, B087S2CBGV, B07RYSKF2...</td>\n",
       "    </tr>\n",
       "    <tr>\n",
       "      <th>3606247</th>\n",
       "      <td>[B00B0UING2, B00B0UING2]</td>\n",
       "      <td>B00D3HYEZ4</td>\n",
       "      <td>IT</td>\n",
       "      <td>B00B0UING2</td>\n",
       "      <td>[B00B0UING2, B00D3HYEZ4, B00V4XSTUU, B09LCYDC4...</td>\n",
       "    </tr>\n",
       "    <tr>\n",
       "      <th>3606248</th>\n",
       "      <td>[B092S9D1SD, B09XQQ1S72, B0852MS7QC, B0B1V43MN1]</td>\n",
       "      <td>B0B7RX65YP</td>\n",
       "      <td>IT</td>\n",
       "      <td>B0B1V43MN1</td>\n",
       "      <td>[B08L5TKXW3, B0B7RX65YP, B093GZ6DQ6, B09TPGMQT...</td>\n",
       "    </tr>\n",
       "  </tbody>\n",
       "</table>\n",
       "<p>3606249 rows × 5 columns</p>\n",
       "</div>"
      ],
      "text/plain": [
       "                                                prev_items   next_item locale  \\\n",
       "0                                 [B09W9FND7K, B09JSPLN1M]  B09M7GY217     DE   \n",
       "1         [B076THCGSG, B007MO8IME, B08MF65MLV, B001B4TKA0]  B001B4THSA     DE   \n",
       "2        [B0B1LGXWDS, B00AZYORS2, B0B1LGXWDS, B00AZYORS...  B0767DTG2Q     DE   \n",
       "3        [B09XMTWDVT, B0B4MZZ8MB, B0B7HZ2GWX, B09XMTWDV...  B0B4R9NN4B     DE   \n",
       "4                     [B09Y5CSL3T, B09Y5DPTXN, B09FKD61R8]  B0BGVBKWGZ     DE   \n",
       "...                                                    ...         ...    ...   \n",
       "3606244               [B086CYFSKW, B0874F9859, B086CYFSKW]  B07B5TYD76     IT   \n",
       "3606245                           [B09NRZKZ7V, B08WJTPV93]  B08L1P4C3D     IT   \n",
       "3606246                           [B085JFX7MP, B085JGHW8R]  B01MPWVD44     IT   \n",
       "3606247                           [B00B0UING2, B00B0UING2]  B00D3HYEZ4     IT   \n",
       "3606248   [B092S9D1SD, B09XQQ1S72, B0852MS7QC, B0B1V43MN1]  B0B7RX65YP     IT   \n",
       "\n",
       "          last_item                               next_item_prediction  \n",
       "0        B09JSPLN1M  [B09W9FND7K, B09JSPLN1M, B098MKBJ2F, B09M7GY21...  \n",
       "1        B001B4TKA0  [B001B4THSA, B0001NPYZ2, B08MF65MLV, B01N3LKN0...  \n",
       "2        B00AZYORS2  [B0B1LGXWDS, B083B866RY, B00AZYORS2, B0767DTG2...  \n",
       "3        B0B71CHT1L  [B09XMTWDVT, B0B7HZ2GWX, B0B71GSJ2R, B0B4MZZ8M...  \n",
       "4        B09FKD61R8  [B09FKF5W9Q, B09Y5DPTXN, B0BGVBKWGZ, B09MRVWQ3...  \n",
       "...             ...                                                ...  \n",
       "3606244  B086CYFSKW               [B0874F9859, B08FJQFPLM, B07B5TYD76]  \n",
       "3606245  B08WJTPV93  [B08WJTPV93, B09NRZKZ7V, B088N7XVL7, 884722420...  \n",
       "3606246  B085JGHW8R  [B085JGHW8R, B01MPWVD44, B087S2CBGV, B07RYSKF2...  \n",
       "3606247  B00B0UING2  [B00B0UING2, B00D3HYEZ4, B00V4XSTUU, B09LCYDC4...  \n",
       "3606248  B0B1V43MN1  [B08L5TKXW3, B0B7RX65YP, B093GZ6DQ6, B09TPGMQT...  \n",
       "\n",
       "[3606249 rows x 5 columns]"
      ]
     },
     "execution_count": 116,
     "metadata": {},
     "output_type": "execute_result"
    }
   ],
   "source": [
    "df_train['next_item_prediction'] = df_train['last_item'].map(window_one_item_map)\n",
    "df_train"
   ]
  },
  {
   "cell_type": "code",
   "execution_count": 117,
   "metadata": {},
   "outputs": [
    {
     "name": "stderr",
     "output_type": "stream",
     "text": [
      "100%|██████████| 3606249/3606249 [07:23<00:00, 8132.24it/s] \n"
     ]
    },
    {
     "data": {
      "text/plain": [
       "0.3421572021672678"
      ]
     },
     "execution_count": 117,
     "metadata": {},
     "output_type": "execute_result"
    }
   ],
   "source": [
    "train_preds = []\n",
    "mrr = []\n",
    "\n",
    "for _, row in tqdm(df_train.iterrows(), total=len(df_train)):\n",
    "    label = row['next_item']\n",
    "    pred_orig = row['next_item_prediction']\n",
    "    pred = pred_orig\n",
    "    prev_items = row['prev_items']\n",
    "    if type(pred) == float:  # pred=nan, 训练集的last_item在之间没有统计出来下一跳，此时用最热门代替\n",
    "        pred = top200_window_one[:100]\n",
    "    else:\n",
    "        if len(pred_orig) < 100:  # 小于100，从最热门选\n",
    "            for i in top200_window_one:\n",
    "                if i not in pred_orig and i not in prev_items:\n",
    "                    pred.append(i)\n",
    "                if len(pred) >= 100:\n",
    "                    break\n",
    "        else:\n",
    "            pred = pred[:100]\n",
    "    try:\n",
    "        pred_result = pred.index(label)\n",
    "        mrr.append(1 / (pred_result + 1))\n",
    "    except:\n",
    "        mrr.append(0)\n",
    "    train_preds.append(pred)\n",
    "\n",
    "np.mean(mrr)"
   ]
  },
  {
   "cell_type": "code",
   "execution_count": 118,
   "metadata": {},
   "outputs": [],
   "source": [
    "pickle.dump(train_preds, open('./data/train_preds_window_one_onlytask2_phase2.pkl', 'wb'))"
   ]
  },
  {
   "attachments": {},
   "cell_type": "markdown",
   "metadata": {},
   "source": [
    "测试集预测结果"
   ]
  },
  {
   "cell_type": "code",
   "execution_count": 19,
   "metadata": {},
   "outputs": [],
   "source": [
    "next_item_dict = pickle.load(open('data/window_one_item_dict_onlytask2_phase2.pkl', 'rb'))\n",
    "next_item_map = pickle.load(open('data/window_one_item_map_onlytask2_phase2.pkl', 'rb'))\n",
    "top200 = pickle.load(open('data/top200_window_one_onlytask2_phase2.pkl', 'rb'))"
   ]
  },
  {
   "cell_type": "code",
   "execution_count": 20,
   "metadata": {},
   "outputs": [
    {
     "data": {
      "text/html": [
       "<div>\n",
       "<style scoped>\n",
       "    .dataframe tbody tr th:only-of-type {\n",
       "        vertical-align: middle;\n",
       "    }\n",
       "\n",
       "    .dataframe tbody tr th {\n",
       "        vertical-align: top;\n",
       "    }\n",
       "\n",
       "    .dataframe thead th {\n",
       "        text-align: right;\n",
       "    }\n",
       "</style>\n",
       "<table border=\"1\" class=\"dataframe\">\n",
       "  <thead>\n",
       "    <tr style=\"text-align: right;\">\n",
       "      <th></th>\n",
       "      <th>prev_items</th>\n",
       "      <th>locale</th>\n",
       "      <th>last_item</th>\n",
       "      <th>next_item_prediction</th>\n",
       "    </tr>\n",
       "  </thead>\n",
       "  <tbody>\n",
       "    <tr>\n",
       "      <th>0</th>\n",
       "      <td>[B07GTS7SWK, B07GTS7SWK]</td>\n",
       "      <td>ES</td>\n",
       "      <td>B07GTS7SWK</td>\n",
       "      <td>[B07GTS7SWK, B074574XPT, B074581R8Y, B0745795K...</td>\n",
       "    </tr>\n",
       "    <tr>\n",
       "      <th>1</th>\n",
       "      <td>[B0B33YWVHR, 849988993X, B09QQG85HM, B0BJZLJXR...</td>\n",
       "      <td>ES</td>\n",
       "      <td>B09K7TDY1H</td>\n",
       "      <td>[B09M8LNB61, B09K7TDY1H, B09J4T4JF5, B08BRGH7S...</td>\n",
       "    </tr>\n",
       "    <tr>\n",
       "      <th>2</th>\n",
       "      <td>[B08FMPXDTJ, B0B4612MTM, B0B45YR21M, B0B4F2L38...</td>\n",
       "      <td>ES</td>\n",
       "      <td>B0B45YR21M</td>\n",
       "      <td>[B0B4612MTM, B0B461V1RB, B0B4614XL6, B0B4625TR...</td>\n",
       "    </tr>\n",
       "    <tr>\n",
       "      <th>3</th>\n",
       "      <td>[B07R3W4XQ7, B07R3FB5B5]</td>\n",
       "      <td>ES</td>\n",
       "      <td>B07R3FB5B5</td>\n",
       "      <td>[B07R3W4XQ7, B07R4VG9X3, B07R4WKSSV, B081T3NK4...</td>\n",
       "    </tr>\n",
       "    <tr>\n",
       "      <th>4</th>\n",
       "      <td>[B09V4KBWPL, B09G9FTLPB]</td>\n",
       "      <td>ES</td>\n",
       "      <td>B09G9FTLPB</td>\n",
       "      <td>[B09G9LF91K, B09G9DMQ7M, B09G99D95Q, B09G97SLG...</td>\n",
       "    </tr>\n",
       "    <tr>\n",
       "      <th>...</th>\n",
       "      <td>...</td>\n",
       "      <td>...</td>\n",
       "      <td>...</td>\n",
       "      <td>...</td>\n",
       "    </tr>\n",
       "    <tr>\n",
       "      <th>34685</th>\n",
       "      <td>[B089F3YK6X, B01BBW9TEI, B01BBW9Q46]</td>\n",
       "      <td>IT</td>\n",
       "      <td>B01BBW9Q46</td>\n",
       "      <td>[B01BBW9TEI, B01F545TZQ, B01BBW9OAC, B09QH4W4L...</td>\n",
       "    </tr>\n",
       "    <tr>\n",
       "      <th>34686</th>\n",
       "      <td>[B078XYC42V, B09TW31SND]</td>\n",
       "      <td>IT</td>\n",
       "      <td>B09TW31SND</td>\n",
       "      <td>[B08DYGN5W7, B00ECBKODQ, B00IBDVTSU, B09TW215N...</td>\n",
       "    </tr>\n",
       "    <tr>\n",
       "      <th>34687</th>\n",
       "      <td>[B07ZG3V3X2, B09PGKF9Y8]</td>\n",
       "      <td>IT</td>\n",
       "      <td>B09PGKF9Y8</td>\n",
       "      <td>[B07ZH7HYDX, B00P2J6IP0, B09PGKF9Y8, B07KXXCDS...</td>\n",
       "    </tr>\n",
       "    <tr>\n",
       "      <th>34688</th>\n",
       "      <td>[B0B3JRGZLM, B09SHQJ8NV]</td>\n",
       "      <td>IT</td>\n",
       "      <td>B09SHQJ8NV</td>\n",
       "      <td>[B0B2PFFCBH, B09RBZ3XDV, B0B3JRGZLM, B09Q9C9QP...</td>\n",
       "    </tr>\n",
       "    <tr>\n",
       "      <th>34689</th>\n",
       "      <td>[B08ZHKGYXR, B07Z8PZTGL, B0882QYG73]</td>\n",
       "      <td>IT</td>\n",
       "      <td>B0882QYG73</td>\n",
       "      <td>[B08PCQQRB2, B08PCP2BB4, B08PCPF8G2, B07THHQMH...</td>\n",
       "    </tr>\n",
       "  </tbody>\n",
       "</table>\n",
       "<p>34690 rows × 4 columns</p>\n",
       "</div>"
      ],
      "text/plain": [
       "                                              prev_items locale   last_item  \\\n",
       "0                               [B07GTS7SWK, B07GTS7SWK]     ES  B07GTS7SWK   \n",
       "1      [B0B33YWVHR, 849988993X, B09QQG85HM, B0BJZLJXR...     ES  B09K7TDY1H   \n",
       "2      [B08FMPXDTJ, B0B4612MTM, B0B45YR21M, B0B4F2L38...     ES  B0B45YR21M   \n",
       "3                               [B07R3W4XQ7, B07R3FB5B5]     ES  B07R3FB5B5   \n",
       "4                               [B09V4KBWPL, B09G9FTLPB]     ES  B09G9FTLPB   \n",
       "...                                                  ...    ...         ...   \n",
       "34685               [B089F3YK6X, B01BBW9TEI, B01BBW9Q46]     IT  B01BBW9Q46   \n",
       "34686                           [B078XYC42V, B09TW31SND]     IT  B09TW31SND   \n",
       "34687                           [B07ZG3V3X2, B09PGKF9Y8]     IT  B09PGKF9Y8   \n",
       "34688                           [B0B3JRGZLM, B09SHQJ8NV]     IT  B09SHQJ8NV   \n",
       "34689               [B08ZHKGYXR, B07Z8PZTGL, B0882QYG73]     IT  B0882QYG73   \n",
       "\n",
       "                                    next_item_prediction  \n",
       "0      [B07GTS7SWK, B074574XPT, B074581R8Y, B0745795K...  \n",
       "1      [B09M8LNB61, B09K7TDY1H, B09J4T4JF5, B08BRGH7S...  \n",
       "2      [B0B4612MTM, B0B461V1RB, B0B4614XL6, B0B4625TR...  \n",
       "3      [B07R3W4XQ7, B07R4VG9X3, B07R4WKSSV, B081T3NK4...  \n",
       "4      [B09G9LF91K, B09G9DMQ7M, B09G99D95Q, B09G97SLG...  \n",
       "...                                                  ...  \n",
       "34685  [B01BBW9TEI, B01F545TZQ, B01BBW9OAC, B09QH4W4L...  \n",
       "34686  [B08DYGN5W7, B00ECBKODQ, B00IBDVTSU, B09TW215N...  \n",
       "34687  [B07ZH7HYDX, B00P2J6IP0, B09PGKF9Y8, B07KXXCDS...  \n",
       "34688  [B0B2PFFCBH, B09RBZ3XDV, B0B3JRGZLM, B09Q9C9QP...  \n",
       "34689  [B08PCQQRB2, B08PCP2BB4, B08PCPF8G2, B07THHQMH...  \n",
       "\n",
       "[34690 rows x 4 columns]"
      ]
     },
     "execution_count": 20,
     "metadata": {},
     "output_type": "execute_result"
    }
   ],
   "source": [
    "df_test_phase2['next_item_prediction'] = df_test_phase2['last_item'].map(next_item_map)\n",
    "df_test_phase2"
   ]
  },
  {
   "cell_type": "code",
   "execution_count": 21,
   "metadata": {},
   "outputs": [
    {
     "name": "stderr",
     "output_type": "stream",
     "text": [
      "100%|██████████| 34690/34690 [00:03<00:00, 9216.46it/s] \n"
     ]
    }
   ],
   "source": [
    "test_preds = []\n",
    "\n",
    "for _, row in tqdm(df_test_phase2.iterrows(), total=len(df_test_phase2)):\n",
    "    pred_orig = row['next_item_prediction']\n",
    "    pred = pred_orig\n",
    "    prev_items = row['prev_items']\n",
    "    if type(pred) == float:  # pred=nan, 测试集的last_item在之间没有统计出来下一跳，此时用最热门代替\n",
    "        pred = top200[:100]\n",
    "    else:\n",
    "        if len(pred_orig) < 100:  # 小于100，从最热门选\n",
    "            for i in top200:\n",
    "                if i not in pred_orig and i not in prev_items:\n",
    "                    pred.append(i)\n",
    "                if len(pred) >= 100:\n",
    "                    break\n",
    "        else:\n",
    "            pred = pred[:100]\n",
    "    test_preds.append(pred)"
   ]
  },
  {
   "cell_type": "code",
   "execution_count": 22,
   "metadata": {},
   "outputs": [
    {
     "data": {
      "text/plain": [
       "34690"
      ]
     },
     "execution_count": 22,
     "metadata": {},
     "output_type": "execute_result"
    }
   ],
   "source": [
    "len(test_preds)"
   ]
  },
  {
   "cell_type": "code",
   "execution_count": 140,
   "metadata": {},
   "outputs": [],
   "source": [
    "pickle.dump(test_preds, open('./data/test_preds_next_one_onlytask2_phase2.pkl', 'wb'))"
   ]
  },
  {
   "cell_type": "code",
   "execution_count": 18,
   "metadata": {},
   "outputs": [],
   "source": [
    "# test_preds = pickle.load(open('./data/test_preds.pkl', 'rb'))"
   ]
  },
  {
   "cell_type": "code",
   "execution_count": 119,
   "metadata": {},
   "outputs": [
    {
     "data": {
      "text/html": [
       "<div>\n",
       "<style scoped>\n",
       "    .dataframe tbody tr th:only-of-type {\n",
       "        vertical-align: middle;\n",
       "    }\n",
       "\n",
       "    .dataframe tbody tr th {\n",
       "        vertical-align: top;\n",
       "    }\n",
       "\n",
       "    .dataframe thead th {\n",
       "        text-align: right;\n",
       "    }\n",
       "</style>\n",
       "<table border=\"1\" class=\"dataframe\">\n",
       "  <thead>\n",
       "    <tr style=\"text-align: right;\">\n",
       "      <th></th>\n",
       "      <th>prev_items</th>\n",
       "      <th>locale</th>\n",
       "      <th>last_item</th>\n",
       "      <th>next_item_prediction</th>\n",
       "    </tr>\n",
       "  </thead>\n",
       "  <tbody>\n",
       "    <tr>\n",
       "      <th>0</th>\n",
       "      <td>[B07GTS7SWK, B07GTS7SWK]</td>\n",
       "      <td>ES</td>\n",
       "      <td>B07GTS7SWK</td>\n",
       "      <td>[B07GTS7SWK, B074574XPT, B074581R8Y, B0745795K...</td>\n",
       "    </tr>\n",
       "    <tr>\n",
       "      <th>1</th>\n",
       "      <td>[B0B33YWVHR, 849988993X, B09QQG85HM, B0BJZLJXR...</td>\n",
       "      <td>ES</td>\n",
       "      <td>B09K7TDY1H</td>\n",
       "      <td>[B09M8LNB61, B09K7TDY1H, B09J4T4JF5, B08BRGH7S...</td>\n",
       "    </tr>\n",
       "    <tr>\n",
       "      <th>2</th>\n",
       "      <td>[B08FMPXDTJ, B0B4612MTM, B0B45YR21M, B0B4F2L38...</td>\n",
       "      <td>ES</td>\n",
       "      <td>B0B45YR21M</td>\n",
       "      <td>[B0B4612MTM, B0B461V1RB, B0B4614XL6, B0B4625TR...</td>\n",
       "    </tr>\n",
       "    <tr>\n",
       "      <th>3</th>\n",
       "      <td>[B07R3W4XQ7, B07R3FB5B5]</td>\n",
       "      <td>ES</td>\n",
       "      <td>B07R3FB5B5</td>\n",
       "      <td>[B07R3W4XQ7, B07R4VG9X3, B07R4WKSSV, B081T3NK4...</td>\n",
       "    </tr>\n",
       "    <tr>\n",
       "      <th>4</th>\n",
       "      <td>[B09V4KBWPL, B09G9FTLPB]</td>\n",
       "      <td>ES</td>\n",
       "      <td>B09G9FTLPB</td>\n",
       "      <td>[B09G9LF91K, B09G9DMQ7M, B09G99D95Q, B09G97SLG...</td>\n",
       "    </tr>\n",
       "    <tr>\n",
       "      <th>...</th>\n",
       "      <td>...</td>\n",
       "      <td>...</td>\n",
       "      <td>...</td>\n",
       "      <td>...</td>\n",
       "    </tr>\n",
       "    <tr>\n",
       "      <th>34685</th>\n",
       "      <td>[B089F3YK6X, B01BBW9TEI, B01BBW9Q46]</td>\n",
       "      <td>IT</td>\n",
       "      <td>B01BBW9Q46</td>\n",
       "      <td>[B01BBW9TEI, B01F545TZQ, B01BBW9OAC, B09QH4W4L...</td>\n",
       "    </tr>\n",
       "    <tr>\n",
       "      <th>34686</th>\n",
       "      <td>[B078XYC42V, B09TW31SND]</td>\n",
       "      <td>IT</td>\n",
       "      <td>B09TW31SND</td>\n",
       "      <td>[B08DYGN5W7, B00ECBKODQ, B00IBDVTSU, B09TW215N...</td>\n",
       "    </tr>\n",
       "    <tr>\n",
       "      <th>34687</th>\n",
       "      <td>[B07ZG3V3X2, B09PGKF9Y8]</td>\n",
       "      <td>IT</td>\n",
       "      <td>B09PGKF9Y8</td>\n",
       "      <td>[B07ZH7HYDX, B00P2J6IP0, B09PGKF9Y8, B07KXXCDS...</td>\n",
       "    </tr>\n",
       "    <tr>\n",
       "      <th>34688</th>\n",
       "      <td>[B0B3JRGZLM, B09SHQJ8NV]</td>\n",
       "      <td>IT</td>\n",
       "      <td>B09SHQJ8NV</td>\n",
       "      <td>[B0B2PFFCBH, B09RBZ3XDV, B0B3JRGZLM, B09Q9C9QP...</td>\n",
       "    </tr>\n",
       "    <tr>\n",
       "      <th>34689</th>\n",
       "      <td>[B08ZHKGYXR, B07Z8PZTGL, B0882QYG73]</td>\n",
       "      <td>IT</td>\n",
       "      <td>B0882QYG73</td>\n",
       "      <td>[B08PCQQRB2, B08PCP2BB4, B08PCPF8G2, B07THHQMH...</td>\n",
       "    </tr>\n",
       "  </tbody>\n",
       "</table>\n",
       "<p>34690 rows × 4 columns</p>\n",
       "</div>"
      ],
      "text/plain": [
       "                                              prev_items locale   last_item  \\\n",
       "0                               [B07GTS7SWK, B07GTS7SWK]     ES  B07GTS7SWK   \n",
       "1      [B0B33YWVHR, 849988993X, B09QQG85HM, B0BJZLJXR...     ES  B09K7TDY1H   \n",
       "2      [B08FMPXDTJ, B0B4612MTM, B0B45YR21M, B0B4F2L38...     ES  B0B45YR21M   \n",
       "3                               [B07R3W4XQ7, B07R3FB5B5]     ES  B07R3FB5B5   \n",
       "4                               [B09V4KBWPL, B09G9FTLPB]     ES  B09G9FTLPB   \n",
       "...                                                  ...    ...         ...   \n",
       "34685               [B089F3YK6X, B01BBW9TEI, B01BBW9Q46]     IT  B01BBW9Q46   \n",
       "34686                           [B078XYC42V, B09TW31SND]     IT  B09TW31SND   \n",
       "34687                           [B07ZG3V3X2, B09PGKF9Y8]     IT  B09PGKF9Y8   \n",
       "34688                           [B0B3JRGZLM, B09SHQJ8NV]     IT  B09SHQJ8NV   \n",
       "34689               [B08ZHKGYXR, B07Z8PZTGL, B0882QYG73]     IT  B0882QYG73   \n",
       "\n",
       "                                    next_item_prediction  \n",
       "0      [B07GTS7SWK, B074574XPT, B074581R8Y, B0745795K...  \n",
       "1      [B09M8LNB61, B09K7TDY1H, B09J4T4JF5, B08BRGH7S...  \n",
       "2      [B0B4612MTM, B0B461V1RB, B0B4614XL6, B0B4625TR...  \n",
       "3      [B07R3W4XQ7, B07R4VG9X3, B07R4WKSSV, B081T3NK4...  \n",
       "4      [B09G9LF91K, B09G9DMQ7M, B09G99D95Q, B09G97SLG...  \n",
       "...                                                  ...  \n",
       "34685  [B01BBW9TEI, B01F545TZQ, B01BBW9OAC, B09QH4W4L...  \n",
       "34686  [B08DYGN5W7, B00ECBKODQ, B00IBDVTSU, B09TW215N...  \n",
       "34687  [B07ZH7HYDX, B00P2J6IP0, B09PGKF9Y8, B07KXXCDS...  \n",
       "34688  [B0B2PFFCBH, B09RBZ3XDV, B0B3JRGZLM, B09Q9C9QP...  \n",
       "34689  [B08PCQQRB2, B08PCP2BB4, B08PCPF8G2, B07THHQMH...  \n",
       "\n",
       "[34690 rows x 4 columns]"
      ]
     },
     "execution_count": 119,
     "metadata": {},
     "output_type": "execute_result"
    }
   ],
   "source": [
    "df_test_phase2['next_item_prediction'] = df_test_phase2['last_item'].map(window_one_item_map)\n",
    "df_test_phase2"
   ]
  },
  {
   "cell_type": "code",
   "execution_count": 120,
   "metadata": {},
   "outputs": [
    {
     "name": "stderr",
     "output_type": "stream",
     "text": [
      "100%|██████████| 34690/34690 [00:03<00:00, 10648.92it/s]\n"
     ]
    }
   ],
   "source": [
    "test_preds = []\n",
    "\n",
    "for _, row in tqdm(df_test_phase2.iterrows(), total=len(df_test_phase2)):\n",
    "    pred_orig = row['next_item_prediction']\n",
    "    pred = pred_orig\n",
    "    prev_items = row['prev_items']\n",
    "    if type(pred) == float:  # pred=nan, 测试集的last_item在之间没有统计出来下一跳，此时用最热门代替\n",
    "        pred = top200_window_one[:100]\n",
    "    else:\n",
    "        if len(pred_orig) < 100:  # 小于100，从最热门选\n",
    "            for i in top200_window_one:\n",
    "                if i not in pred_orig and i not in prev_items:\n",
    "                    pred.append(i)\n",
    "                if len(pred) >= 100:\n",
    "                    break\n",
    "        else:\n",
    "            pred = pred[:100]\n",
    "    test_preds.append(pred)"
   ]
  },
  {
   "cell_type": "code",
   "execution_count": 121,
   "metadata": {},
   "outputs": [],
   "source": [
    "pickle.dump(test_preds, open('./data/test_preds_window_one_onlytask2_phase2.pkl', 'wb'))"
   ]
  },
  {
   "attachments": {},
   "cell_type": "markdown",
   "metadata": {},
   "source": [
    "保存结果"
   ]
  },
  {
   "cell_type": "code",
   "execution_count": 23,
   "metadata": {},
   "outputs": [
    {
     "data": {
      "text/plain": [
       "count    34690.0\n",
       "mean       100.0\n",
       "std          0.0\n",
       "min        100.0\n",
       "25%        100.0\n",
       "50%        100.0\n",
       "75%        100.0\n",
       "max        100.0\n",
       "Name: next_item_prediction, dtype: float64"
      ]
     },
     "execution_count": 23,
     "metadata": {},
     "output_type": "execute_result"
    }
   ],
   "source": [
    "df_test_phase2['next_item_prediction'] = test_preds\n",
    "df_test_phase2['next_item_prediction'].apply(len).describe()"
   ]
  },
  {
   "cell_type": "code",
   "execution_count": 24,
   "metadata": {},
   "outputs": [
    {
     "data": {
      "text/html": [
       "<div>\n",
       "<style scoped>\n",
       "    .dataframe tbody tr th:only-of-type {\n",
       "        vertical-align: middle;\n",
       "    }\n",
       "\n",
       "    .dataframe tbody tr th {\n",
       "        vertical-align: top;\n",
       "    }\n",
       "\n",
       "    .dataframe thead th {\n",
       "        text-align: right;\n",
       "    }\n",
       "</style>\n",
       "<table border=\"1\" class=\"dataframe\">\n",
       "  <thead>\n",
       "    <tr style=\"text-align: right;\">\n",
       "      <th></th>\n",
       "      <th>locale</th>\n",
       "      <th>next_item_prediction</th>\n",
       "    </tr>\n",
       "  </thead>\n",
       "  <tbody>\n",
       "    <tr>\n",
       "      <th>0</th>\n",
       "      <td>ES</td>\n",
       "      <td>[B07GTS7SWK, B074574XPT, B074581R8Y, B0745795K...</td>\n",
       "    </tr>\n",
       "    <tr>\n",
       "      <th>1</th>\n",
       "      <td>ES</td>\n",
       "      <td>[B09M8LNB61, B09K7TDY1H, B09J4T4JF5, B08BRGH7S...</td>\n",
       "    </tr>\n",
       "    <tr>\n",
       "      <th>2</th>\n",
       "      <td>ES</td>\n",
       "      <td>[B0B4612MTM, B0B461V1RB, B0B4614XL6, B0B4625TR...</td>\n",
       "    </tr>\n",
       "    <tr>\n",
       "      <th>3</th>\n",
       "      <td>ES</td>\n",
       "      <td>[B07R3W4XQ7, B07R4VG9X3, B07R4WKSSV, B081T3NK4...</td>\n",
       "    </tr>\n",
       "    <tr>\n",
       "      <th>4</th>\n",
       "      <td>ES</td>\n",
       "      <td>[B09G9LF91K, B09G9DMQ7M, B09G99D95Q, B09G97SLG...</td>\n",
       "    </tr>\n",
       "    <tr>\n",
       "      <th>...</th>\n",
       "      <td>...</td>\n",
       "      <td>...</td>\n",
       "    </tr>\n",
       "    <tr>\n",
       "      <th>34685</th>\n",
       "      <td>IT</td>\n",
       "      <td>[B01BBW9TEI, B01F545TZQ, B01BBW9OAC, B09QH4W4L...</td>\n",
       "    </tr>\n",
       "    <tr>\n",
       "      <th>34686</th>\n",
       "      <td>IT</td>\n",
       "      <td>[B08DYGN5W7, B00ECBKODQ, B00IBDVTSU, B09TW215N...</td>\n",
       "    </tr>\n",
       "    <tr>\n",
       "      <th>34687</th>\n",
       "      <td>IT</td>\n",
       "      <td>[B07ZH7HYDX, B00P2J6IP0, B09PGKF9Y8, B07KXXCDS...</td>\n",
       "    </tr>\n",
       "    <tr>\n",
       "      <th>34688</th>\n",
       "      <td>IT</td>\n",
       "      <td>[B0B2PFFCBH, B09RBZ3XDV, B0B3JRGZLM, B09Q9C9QP...</td>\n",
       "    </tr>\n",
       "    <tr>\n",
       "      <th>34689</th>\n",
       "      <td>IT</td>\n",
       "      <td>[B08PCQQRB2, B08PCP2BB4, B08PCPF8G2, B07THHQMH...</td>\n",
       "    </tr>\n",
       "  </tbody>\n",
       "</table>\n",
       "<p>34690 rows × 2 columns</p>\n",
       "</div>"
      ],
      "text/plain": [
       "      locale                               next_item_prediction\n",
       "0         ES  [B07GTS7SWK, B074574XPT, B074581R8Y, B0745795K...\n",
       "1         ES  [B09M8LNB61, B09K7TDY1H, B09J4T4JF5, B08BRGH7S...\n",
       "2         ES  [B0B4612MTM, B0B461V1RB, B0B4614XL6, B0B4625TR...\n",
       "3         ES  [B07R3W4XQ7, B07R4VG9X3, B07R4WKSSV, B081T3NK4...\n",
       "4         ES  [B09G9LF91K, B09G9DMQ7M, B09G99D95Q, B09G97SLG...\n",
       "...      ...                                                ...\n",
       "34685     IT  [B01BBW9TEI, B01F545TZQ, B01BBW9OAC, B09QH4W4L...\n",
       "34686     IT  [B08DYGN5W7, B00ECBKODQ, B00IBDVTSU, B09TW215N...\n",
       "34687     IT  [B07ZH7HYDX, B00P2J6IP0, B09PGKF9Y8, B07KXXCDS...\n",
       "34688     IT  [B0B2PFFCBH, B09RBZ3XDV, B0B3JRGZLM, B09Q9C9QP...\n",
       "34689     IT  [B08PCQQRB2, B08PCP2BB4, B08PCPF8G2, B07THHQMH...\n",
       "\n",
       "[34690 rows x 2 columns]"
      ]
     },
     "execution_count": 24,
     "metadata": {},
     "output_type": "execute_result"
    }
   ],
   "source": [
    "df_test_phase2[['locale', 'next_item_prediction']]"
   ]
  },
  {
   "cell_type": "code",
   "execution_count": 142,
   "metadata": {},
   "outputs": [],
   "source": [
    "df_test_phase2[['locale', 'next_item_prediction']].to_parquet('output/phase2_submission_task2_rule_next_one_zhaohui_onlytask2.parquet', engine='pyarrow')"
   ]
  },
  {
   "cell_type": "code",
   "execution_count": 36,
   "metadata": {},
   "outputs": [],
   "source": [
    "df_test_phase2[['locale', 'next_item_prediction']].to_parquet('output/phase2_submission_task2_rule_window_one_onlytask2_testtest.parquet', engine='pyarrow')"
   ]
  },
  {
   "cell_type": "code",
   "execution_count": 88,
   "metadata": {},
   "outputs": [
    {
     "data": {
      "text/html": [
       "<div>\n",
       "<style scoped>\n",
       "    .dataframe tbody tr th:only-of-type {\n",
       "        vertical-align: middle;\n",
       "    }\n",
       "\n",
       "    .dataframe tbody tr th {\n",
       "        vertical-align: top;\n",
       "    }\n",
       "\n",
       "    .dataframe thead th {\n",
       "        text-align: right;\n",
       "    }\n",
       "</style>\n",
       "<table border=\"1\" class=\"dataframe\">\n",
       "  <thead>\n",
       "    <tr style=\"text-align: right;\">\n",
       "      <th></th>\n",
       "      <th>locale</th>\n",
       "      <th>next_item_prediction</th>\n",
       "    </tr>\n",
       "  </thead>\n",
       "  <tbody>\n",
       "    <tr>\n",
       "      <th>0</th>\n",
       "      <td>ES</td>\n",
       "      <td>[B07GTS7SWK, B074574XPT, B0745795KF, B074RZKWM...</td>\n",
       "    </tr>\n",
       "    <tr>\n",
       "      <th>1</th>\n",
       "      <td>ES</td>\n",
       "      <td>[B09M8LNB61, B09K7TDY1H, B09J4T4JF5, B09NT33LZ...</td>\n",
       "    </tr>\n",
       "    <tr>\n",
       "      <th>2</th>\n",
       "      <td>ES</td>\n",
       "      <td>[B0B4612MTM, B0B461V1RB, B0B4614XL6, B0B4625TR...</td>\n",
       "    </tr>\n",
       "    <tr>\n",
       "      <th>3</th>\n",
       "      <td>ES</td>\n",
       "      <td>[B07R3W4XQ7, B07R4VG9X3, B07R4WKSSV, B081T3NK4...</td>\n",
       "    </tr>\n",
       "    <tr>\n",
       "      <th>4</th>\n",
       "      <td>ES</td>\n",
       "      <td>[B09G9LF91K, B09G9DMQ7M, B09G99D95Q, B09G97SLG...</td>\n",
       "    </tr>\n",
       "    <tr>\n",
       "      <th>...</th>\n",
       "      <td>...</td>\n",
       "      <td>...</td>\n",
       "    </tr>\n",
       "    <tr>\n",
       "      <th>34685</th>\n",
       "      <td>IT</td>\n",
       "      <td>[B01BBW9TEI, B01F545TZQ, B09QH4W4LS, B01BBW9Q4...</td>\n",
       "    </tr>\n",
       "    <tr>\n",
       "      <th>34686</th>\n",
       "      <td>IT</td>\n",
       "      <td>[B08DYGN5W7, B00ECBKODQ, B00IBDVTSU, B08R57HZ4...</td>\n",
       "    </tr>\n",
       "    <tr>\n",
       "      <th>34687</th>\n",
       "      <td>IT</td>\n",
       "      <td>[B00P2J6IP0, B09PGKF9Y8, B07KXXCDS2, B07ZH7HYD...</td>\n",
       "    </tr>\n",
       "    <tr>\n",
       "      <th>34688</th>\n",
       "      <td>IT</td>\n",
       "      <td>[B09RBZ3XDV, B0B2PFFCBH, B09W2Z395Q, B0B3JRGZL...</td>\n",
       "    </tr>\n",
       "    <tr>\n",
       "      <th>34689</th>\n",
       "      <td>IT</td>\n",
       "      <td>[B08PCQQRB2, B08PCP2BB4, B08PCPF8G2, B07THHQMH...</td>\n",
       "    </tr>\n",
       "  </tbody>\n",
       "</table>\n",
       "<p>34690 rows × 2 columns</p>\n",
       "</div>"
      ],
      "text/plain": [
       "      locale                               next_item_prediction\n",
       "0         ES  [B07GTS7SWK, B074574XPT, B0745795KF, B074RZKWM...\n",
       "1         ES  [B09M8LNB61, B09K7TDY1H, B09J4T4JF5, B09NT33LZ...\n",
       "2         ES  [B0B4612MTM, B0B461V1RB, B0B4614XL6, B0B4625TR...\n",
       "3         ES  [B07R3W4XQ7, B07R4VG9X3, B07R4WKSSV, B081T3NK4...\n",
       "4         ES  [B09G9LF91K, B09G9DMQ7M, B09G99D95Q, B09G97SLG...\n",
       "...      ...                                                ...\n",
       "34685     IT  [B01BBW9TEI, B01F545TZQ, B09QH4W4LS, B01BBW9Q4...\n",
       "34686     IT  [B08DYGN5W7, B00ECBKODQ, B00IBDVTSU, B08R57HZ4...\n",
       "34687     IT  [B00P2J6IP0, B09PGKF9Y8, B07KXXCDS2, B07ZH7HYD...\n",
       "34688     IT  [B09RBZ3XDV, B0B2PFFCBH, B09W2Z395Q, B0B3JRGZL...\n",
       "34689     IT  [B08PCQQRB2, B08PCP2BB4, B08PCPF8G2, B07THHQMH...\n",
       "\n",
       "[34690 rows x 2 columns]"
      ]
     },
     "execution_count": 88,
     "metadata": {},
     "output_type": "execute_result"
    }
   ],
   "source": [
    "df_test_phase2[['locale', 'next_item_prediction']]"
   ]
  },
  {
   "attachments": {},
   "cell_type": "markdown",
   "metadata": {},
   "source": [
    "# 数据处理"
   ]
  },
  {
   "attachments": {},
   "cell_type": "markdown",
   "metadata": {},
   "source": [
    "产品表处理"
   ]
  },
  {
   "cell_type": "code",
   "execution_count": 21,
   "metadata": {},
   "outputs": [],
   "source": [
    "# TODO: 部分ID不在产品表里？？没有！"
   ]
  },
  {
   "cell_type": "code",
   "execution_count": 17,
   "metadata": {},
   "outputs": [
    {
     "ename": "KeyError",
     "evalue": "'Requested level (id) does not match index name (None)'",
     "output_type": "error",
     "traceback": [
      "\u001b[0;31m---------------------------------------------------------------------------\u001b[0m",
      "\u001b[0;31mKeyError\u001b[0m                                  Traceback (most recent call last)",
      "\u001b[0;32m<ipython-input-17-17e6a108e4fe>\u001b[0m in \u001b[0;36m<module>\u001b[0;34m\u001b[0m\n\u001b[0;32m----> 1\u001b[0;31m \u001b[0mproducts_ids\u001b[0m \u001b[0;34m=\u001b[0m \u001b[0mset\u001b[0m\u001b[0;34m(\u001b[0m\u001b[0mproducts\u001b[0m\u001b[0;34m.\u001b[0m\u001b[0mindex\u001b[0m\u001b[0;34m.\u001b[0m\u001b[0mget_level_values\u001b[0m\u001b[0;34m(\u001b[0m\u001b[0;34m'id'\u001b[0m\u001b[0;34m)\u001b[0m\u001b[0;34m)\u001b[0m\u001b[0;34m\u001b[0m\u001b[0;34m\u001b[0m\u001b[0m\n\u001b[0m",
      "\u001b[0;32m~/anaconda3/envs/libcityng/lib/python3.9/site-packages/pandas/core/indexes/base.py\u001b[0m in \u001b[0;36m_get_level_values\u001b[0;34m(self, level)\u001b[0m\n\u001b[1;32m   1471\u001b[0m         \u001b[0mIndex\u001b[0m\u001b[0;34m(\u001b[0m\u001b[0;34m[\u001b[0m\u001b[0;34m'a'\u001b[0m\u001b[0;34m,\u001b[0m \u001b[0;34m'b'\u001b[0m\u001b[0;34m,\u001b[0m \u001b[0;34m'c'\u001b[0m\u001b[0;34m]\u001b[0m\u001b[0;34m,\u001b[0m \u001b[0mdtype\u001b[0m\u001b[0;34m=\u001b[0m\u001b[0;34m'object'\u001b[0m\u001b[0;34m)\u001b[0m\u001b[0;34m\u001b[0m\u001b[0;34m\u001b[0m\u001b[0m\n\u001b[1;32m   1472\u001b[0m         \"\"\"\n\u001b[0;32m-> 1473\u001b[0;31m         \u001b[0mself\u001b[0m\u001b[0;34m.\u001b[0m\u001b[0m_validate_index_level\u001b[0m\u001b[0;34m(\u001b[0m\u001b[0mlevel\u001b[0m\u001b[0;34m)\u001b[0m\u001b[0;34m\u001b[0m\u001b[0;34m\u001b[0m\u001b[0m\n\u001b[0m\u001b[1;32m   1474\u001b[0m         \u001b[0;32mreturn\u001b[0m \u001b[0mself\u001b[0m\u001b[0;34m\u001b[0m\u001b[0;34m\u001b[0m\u001b[0m\n\u001b[1;32m   1475\u001b[0m \u001b[0;34m\u001b[0m\u001b[0m\n",
      "\u001b[0;32m~/anaconda3/envs/libcityng/lib/python3.9/site-packages/pandas/core/indexes/base.py\u001b[0m in \u001b[0;36m_validate_index_level\u001b[0;34m(self, level)\u001b[0m\n\u001b[1;32m   1408\u001b[0m                 )\n\u001b[1;32m   1409\u001b[0m         \u001b[0;32melif\u001b[0m \u001b[0mlevel\u001b[0m \u001b[0;34m!=\u001b[0m \u001b[0mself\u001b[0m\u001b[0;34m.\u001b[0m\u001b[0mname\u001b[0m\u001b[0;34m:\u001b[0m\u001b[0;34m\u001b[0m\u001b[0;34m\u001b[0m\u001b[0m\n\u001b[0;32m-> 1410\u001b[0;31m             raise KeyError(\n\u001b[0m\u001b[1;32m   1411\u001b[0m                 \u001b[0;34mf\"Requested level ({level}) does not match index name ({self.name})\"\u001b[0m\u001b[0;34m\u001b[0m\u001b[0;34m\u001b[0m\u001b[0m\n\u001b[1;32m   1412\u001b[0m             )\n",
      "\u001b[0;31mKeyError\u001b[0m: 'Requested level (id) does not match index name (None)'"
     ]
    }
   ],
   "source": [
    "products_ids = set(products.index.get_level_values('id'))"
   ]
  },
  {
   "cell_type": "code",
   "execution_count": null,
   "metadata": {},
   "outputs": [
    {
     "data": {
      "text/plain": [
       "1341314"
      ]
     },
     "execution_count": 137,
     "metadata": {},
     "output_type": "execute_result"
    }
   ],
   "source": [
    "len(products_ids)"
   ]
  },
  {
   "cell_type": "code",
   "execution_count": 135,
   "metadata": {},
   "outputs": [],
   "source": [
    "total_ids = set(train_ids) | set(test_ids)"
   ]
  },
  {
   "cell_type": "code",
   "execution_count": 136,
   "metadata": {},
   "outputs": [
    {
     "data": {
      "text/plain": [
       "1338847"
      ]
     },
     "execution_count": 136,
     "metadata": {},
     "output_type": "execute_result"
    }
   ],
   "source": [
    "len(total_ids)"
   ]
  },
  {
   "cell_type": "code",
   "execution_count": 19,
   "metadata": {},
   "outputs": [],
   "source": [
    "# products = products[products['locale'].isin(['DE', 'JP', 'UK'])]"
   ]
  },
  {
   "cell_type": "code",
   "execution_count": 54,
   "metadata": {},
   "outputs": [
    {
     "data": {
      "text/plain": [
       "(1551057, 11)"
      ]
     },
     "execution_count": 54,
     "metadata": {},
     "output_type": "execute_result"
    }
   ],
   "source": [
    "products.shape "
   ]
  },
  {
   "cell_type": "code",
   "execution_count": 58,
   "metadata": {},
   "outputs": [
    {
     "data": {
      "text/plain": [
       "(1410675, 11)"
      ]
     },
     "execution_count": 58,
     "metadata": {},
     "output_type": "execute_result"
    }
   ],
   "source": [
    "products.drop_duplicates(subset=['id'], keep='first', inplace=True)\n",
    "products.shape "
   ]
  },
  {
   "cell_type": "code",
   "execution_count": 13,
   "metadata": {},
   "outputs": [],
   "source": [
    "# products = products.set_index(['id', 'locale'])"
   ]
  },
  {
   "cell_type": "code",
   "execution_count": 59,
   "metadata": {},
   "outputs": [
    {
     "data": {
      "text/html": [
       "<div>\n",
       "<style scoped>\n",
       "    .dataframe tbody tr th:only-of-type {\n",
       "        vertical-align: middle;\n",
       "    }\n",
       "\n",
       "    .dataframe tbody tr th {\n",
       "        vertical-align: top;\n",
       "    }\n",
       "\n",
       "    .dataframe thead th {\n",
       "        text-align: right;\n",
       "    }\n",
       "</style>\n",
       "<table border=\"1\" class=\"dataframe\">\n",
       "  <thead>\n",
       "    <tr style=\"text-align: right;\">\n",
       "      <th></th>\n",
       "      <th>id</th>\n",
       "      <th>locale</th>\n",
       "      <th>title</th>\n",
       "      <th>price</th>\n",
       "      <th>brand</th>\n",
       "      <th>color</th>\n",
       "      <th>size</th>\n",
       "      <th>model</th>\n",
       "      <th>material</th>\n",
       "      <th>author</th>\n",
       "      <th>desc</th>\n",
       "    </tr>\n",
       "  </thead>\n",
       "  <tbody>\n",
       "    <tr>\n",
       "      <th>0</th>\n",
       "      <td>B005ZSSN10</td>\n",
       "      <td>DE</td>\n",
       "      <td>RED DRAGON Amberjack 3 - Steel Tip 22 Gramm Wo...</td>\n",
       "      <td>30.95</td>\n",
       "      <td>RED DRAGON</td>\n",
       "      <td>NaN</td>\n",
       "      <td>NaN</td>\n",
       "      <td>RDD0089</td>\n",
       "      <td>NaN</td>\n",
       "      <td>NaN</td>\n",
       "      <td>Amberjacks Steel Dartpfeile sind verfügbar in ...</td>\n",
       "    </tr>\n",
       "    <tr>\n",
       "      <th>1</th>\n",
       "      <td>B08PRYN6LD</td>\n",
       "      <td>DE</td>\n",
       "      <td>Simply Keto Lower Carb* Schokodrops ohne Zucke...</td>\n",
       "      <td>17.90</td>\n",
       "      <td>Simply Keto</td>\n",
       "      <td>NaN</td>\n",
       "      <td>750 g (1er Pack)</td>\n",
       "      <td>NaN</td>\n",
       "      <td>NaN</td>\n",
       "      <td>NaN</td>\n",
       "      <td>🌱 NATÜRLICHE SÜSSE DURCH ERYTHRIT - Wir stelle...</td>\n",
       "    </tr>\n",
       "    <tr>\n",
       "      <th>2</th>\n",
       "      <td>B09MBZJ48V</td>\n",
       "      <td>DE</td>\n",
       "      <td>Sennheiser 508377 PC 5.2 Chat, Stilvolles Mult...</td>\n",
       "      <td>68.89</td>\n",
       "      <td>Sennheiser</td>\n",
       "      <td>Multi-Colour</td>\n",
       "      <td>One size</td>\n",
       "      <td>508377</td>\n",
       "      <td>Kunstleder</td>\n",
       "      <td>NaN</td>\n",
       "      <td>3.5 MM BUCHSE - Kann problemlos an Geräte mit ...</td>\n",
       "    </tr>\n",
       "    <tr>\n",
       "      <th>3</th>\n",
       "      <td>B08ZN6F26S</td>\n",
       "      <td>DE</td>\n",
       "      <td>AmyBenton Auto ab 1 2 3 ahre - Baby Aufziehbar...</td>\n",
       "      <td>18.99</td>\n",
       "      <td>Amy &amp; Benton</td>\n",
       "      <td>Animal Car</td>\n",
       "      <td>NaN</td>\n",
       "      <td>2008B</td>\n",
       "      <td>aufziehauto 1 jahr</td>\n",
       "      <td>NaN</td>\n",
       "      <td>【Auto aufziehbar】: Drücken Sie einfach leicht ...</td>\n",
       "    </tr>\n",
       "    <tr>\n",
       "      <th>4</th>\n",
       "      <td>B094DGRV7D</td>\n",
       "      <td>DE</td>\n",
       "      <td>PLAYMOBIL - 70522 - Cavaliere mit grauem Pony</td>\n",
       "      <td>7.17</td>\n",
       "      <td>PLAYMOBIL</td>\n",
       "      <td>Nicht Zutreffend.</td>\n",
       "      <td>OneSize</td>\n",
       "      <td>70522</td>\n",
       "      <td>Polypropylen</td>\n",
       "      <td>NaN</td>\n",
       "      <td>Inhalt: 1 Stück</td>\n",
       "    </tr>\n",
       "  </tbody>\n",
       "</table>\n",
       "</div>"
      ],
      "text/plain": [
       "           id locale                                              title  \\\n",
       "0  B005ZSSN10     DE  RED DRAGON Amberjack 3 - Steel Tip 22 Gramm Wo...   \n",
       "1  B08PRYN6LD     DE  Simply Keto Lower Carb* Schokodrops ohne Zucke...   \n",
       "2  B09MBZJ48V     DE  Sennheiser 508377 PC 5.2 Chat, Stilvolles Mult...   \n",
       "3  B08ZN6F26S     DE  AmyBenton Auto ab 1 2 3 ahre - Baby Aufziehbar...   \n",
       "4  B094DGRV7D     DE      PLAYMOBIL - 70522 - Cavaliere mit grauem Pony   \n",
       "\n",
       "   price         brand              color              size    model  \\\n",
       "0  30.95    RED DRAGON                NaN               NaN  RDD0089   \n",
       "1  17.90   Simply Keto                NaN  750 g (1er Pack)      NaN   \n",
       "2  68.89    Sennheiser       Multi-Colour          One size   508377   \n",
       "3  18.99  Amy & Benton         Animal Car               NaN    2008B   \n",
       "4   7.17     PLAYMOBIL  Nicht Zutreffend.           OneSize    70522   \n",
       "\n",
       "             material author  \\\n",
       "0                 NaN    NaN   \n",
       "1                 NaN    NaN   \n",
       "2          Kunstleder    NaN   \n",
       "3  aufziehauto 1 jahr    NaN   \n",
       "4        Polypropylen    NaN   \n",
       "\n",
       "                                                desc  \n",
       "0  Amberjacks Steel Dartpfeile sind verfügbar in ...  \n",
       "1  🌱 NATÜRLICHE SÜSSE DURCH ERYTHRIT - Wir stelle...  \n",
       "2  3.5 MM BUCHSE - Kann problemlos an Geräte mit ...  \n",
       "3  【Auto aufziehbar】: Drücken Sie einfach leicht ...  \n",
       "4                                    Inhalt: 1 Stück  "
      ]
     },
     "execution_count": 59,
     "metadata": {},
     "output_type": "execute_result"
    }
   ],
   "source": [
    "products.head()"
   ]
  },
  {
   "cell_type": "code",
   "execution_count": 60,
   "metadata": {},
   "outputs": [],
   "source": [
    "# products.loc[('B005ZSSN10', 'DE')]"
   ]
  },
  {
   "cell_type": "code",
   "execution_count": 61,
   "metadata": {},
   "outputs": [],
   "source": [
    "products['len_title'] = products['title'].apply(lambda x : 0 if type(x) == float else len(x))\n",
    "products['len_desc'] = products['desc'].apply(lambda x : 0 if type(x) == float else len(x))"
   ]
  },
  {
   "cell_type": "code",
   "execution_count": 62,
   "metadata": {},
   "outputs": [
    {
     "data": {
      "text/plain": [
       "id           1410675\n",
       "locale             6\n",
       "title        1360094\n",
       "price          37608\n",
       "brand         177189\n",
       "color         203260\n",
       "size          218060\n",
       "model         524101\n",
       "material       45568\n",
       "author         30835\n",
       "desc          800044\n",
       "len_title        480\n",
       "len_desc         763\n",
       "dtype: int64"
      ]
     },
     "execution_count": 62,
     "metadata": {},
     "output_type": "execute_result"
    }
   ],
   "source": [
    "products.nunique()"
   ]
  },
  {
   "cell_type": "code",
   "execution_count": 63,
   "metadata": {},
   "outputs": [
    {
     "data": {
      "text/plain": [
       "Index(['id', 'locale', 'title', 'price', 'brand', 'color', 'size', 'model',\n",
       "       'material', 'author', 'desc', 'len_title', 'len_desc'],\n",
       "      dtype='object')"
      ]
     },
     "execution_count": 63,
     "metadata": {},
     "output_type": "execute_result"
    }
   ],
   "source": [
    "products.columns"
   ]
  },
  {
   "cell_type": "code",
   "execution_count": 64,
   "metadata": {},
   "outputs": [],
   "source": [
    "cat_features = ['brand', 'color', 'size', 'model', 'material', 'author']\n",
    "num_features = ['price', 'len_title', 'len_desc']"
   ]
  },
  {
   "cell_type": "code",
   "execution_count": 65,
   "metadata": {},
   "outputs": [],
   "source": [
    "for f in cat_features:\n",
    "    le = LabelEncoder()\n",
    "    products[f] = le.fit_transform(products[f])"
   ]
  },
  {
   "cell_type": "code",
   "execution_count": 66,
   "metadata": {},
   "outputs": [
    {
     "data": {
      "text/plain": [
       "(1410675, 13)"
      ]
     },
     "execution_count": 66,
     "metadata": {},
     "output_type": "execute_result"
    }
   ],
   "source": [
    "products.shape "
   ]
  },
  {
   "cell_type": "code",
   "execution_count": 67,
   "metadata": {},
   "outputs": [
    {
     "data": {
      "text/html": [
       "<div>\n",
       "<style scoped>\n",
       "    .dataframe tbody tr th:only-of-type {\n",
       "        vertical-align: middle;\n",
       "    }\n",
       "\n",
       "    .dataframe tbody tr th {\n",
       "        vertical-align: top;\n",
       "    }\n",
       "\n",
       "    .dataframe thead th {\n",
       "        text-align: right;\n",
       "    }\n",
       "</style>\n",
       "<table border=\"1\" class=\"dataframe\">\n",
       "  <thead>\n",
       "    <tr style=\"text-align: right;\">\n",
       "      <th></th>\n",
       "      <th>id</th>\n",
       "      <th>locale</th>\n",
       "      <th>title</th>\n",
       "      <th>price</th>\n",
       "      <th>brand</th>\n",
       "      <th>color</th>\n",
       "      <th>size</th>\n",
       "      <th>model</th>\n",
       "      <th>material</th>\n",
       "      <th>author</th>\n",
       "      <th>desc</th>\n",
       "      <th>len_title</th>\n",
       "      <th>len_desc</th>\n",
       "    </tr>\n",
       "  </thead>\n",
       "  <tbody>\n",
       "    <tr>\n",
       "      <th>0</th>\n",
       "      <td>B005ZSSN10</td>\n",
       "      <td>DE</td>\n",
       "      <td>RED DRAGON Amberjack 3 - Steel Tip 22 Gramm Wo...</td>\n",
       "      <td>30.95</td>\n",
       "      <td>112134</td>\n",
       "      <td>203260</td>\n",
       "      <td>218060</td>\n",
       "      <td>426630</td>\n",
       "      <td>45568</td>\n",
       "      <td>30835</td>\n",
       "      <td>Amberjacks Steel Dartpfeile sind verfügbar in ...</td>\n",
       "      <td>96</td>\n",
       "      <td>121</td>\n",
       "    </tr>\n",
       "    <tr>\n",
       "      <th>1</th>\n",
       "      <td>B08PRYN6LD</td>\n",
       "      <td>DE</td>\n",
       "      <td>Simply Keto Lower Carb* Schokodrops ohne Zucke...</td>\n",
       "      <td>17.90</td>\n",
       "      <td>124505</td>\n",
       "      <td>203260</td>\n",
       "      <td>128007</td>\n",
       "      <td>524101</td>\n",
       "      <td>45568</td>\n",
       "      <td>30835</td>\n",
       "      <td>🌱 NATÜRLICHE SÜSSE DURCH ERYTHRIT - Wir stelle...</td>\n",
       "      <td>186</td>\n",
       "      <td>330</td>\n",
       "    </tr>\n",
       "    <tr>\n",
       "      <th>2</th>\n",
       "      <td>B09MBZJ48V</td>\n",
       "      <td>DE</td>\n",
       "      <td>Sennheiser 508377 PC 5.2 Chat, Stilvolles Mult...</td>\n",
       "      <td>68.89</td>\n",
       "      <td>122979</td>\n",
       "      <td>114264</td>\n",
       "      <td>170270</td>\n",
       "      <td>145013</td>\n",
       "      <td>15566</td>\n",
       "      <td>30835</td>\n",
       "      <td>3.5 MM BUCHSE - Kann problemlos an Geräte mit ...</td>\n",
       "      <td>181</td>\n",
       "      <td>95</td>\n",
       "    </tr>\n",
       "    <tr>\n",
       "      <th>3</th>\n",
       "      <td>B08ZN6F26S</td>\n",
       "      <td>DE</td>\n",
       "      <td>AmyBenton Auto ab 1 2 3 ahre - Baby Aufziehbar...</td>\n",
       "      <td>18.99</td>\n",
       "      <td>9834</td>\n",
       "      <td>46931</td>\n",
       "      <td>218060</td>\n",
       "      <td>67408</td>\n",
       "      <td>29357</td>\n",
       "      <td>30835</td>\n",
       "      <td>【Auto aufziehbar】: Drücken Sie einfach leicht ...</td>\n",
       "      <td>101</td>\n",
       "      <td>191</td>\n",
       "    </tr>\n",
       "    <tr>\n",
       "      <th>4</th>\n",
       "      <td>B094DGRV7D</td>\n",
       "      <td>DE</td>\n",
       "      <td>PLAYMOBIL - 70522 - Cavaliere mit grauem Pony</td>\n",
       "      <td>7.17</td>\n",
       "      <td>105135</td>\n",
       "      <td>117844</td>\n",
       "      <td>170305</td>\n",
       "      <td>174527</td>\n",
       "      <td>23064</td>\n",
       "      <td>30835</td>\n",
       "      <td>Inhalt: 1 Stück</td>\n",
       "      <td>45</td>\n",
       "      <td>15</td>\n",
       "    </tr>\n",
       "  </tbody>\n",
       "</table>\n",
       "</div>"
      ],
      "text/plain": [
       "           id locale                                              title  \\\n",
       "0  B005ZSSN10     DE  RED DRAGON Amberjack 3 - Steel Tip 22 Gramm Wo...   \n",
       "1  B08PRYN6LD     DE  Simply Keto Lower Carb* Schokodrops ohne Zucke...   \n",
       "2  B09MBZJ48V     DE  Sennheiser 508377 PC 5.2 Chat, Stilvolles Mult...   \n",
       "3  B08ZN6F26S     DE  AmyBenton Auto ab 1 2 3 ahre - Baby Aufziehbar...   \n",
       "4  B094DGRV7D     DE      PLAYMOBIL - 70522 - Cavaliere mit grauem Pony   \n",
       "\n",
       "   price   brand   color    size   model  material  author  \\\n",
       "0  30.95  112134  203260  218060  426630     45568   30835   \n",
       "1  17.90  124505  203260  128007  524101     45568   30835   \n",
       "2  68.89  122979  114264  170270  145013     15566   30835   \n",
       "3  18.99    9834   46931  218060   67408     29357   30835   \n",
       "4   7.17  105135  117844  170305  174527     23064   30835   \n",
       "\n",
       "                                                desc  len_title  len_desc  \n",
       "0  Amberjacks Steel Dartpfeile sind verfügbar in ...         96       121  \n",
       "1  🌱 NATÜRLICHE SÜSSE DURCH ERYTHRIT - Wir stelle...        186       330  \n",
       "2  3.5 MM BUCHSE - Kann problemlos an Geräte mit ...        181        95  \n",
       "3  【Auto aufziehbar】: Drücken Sie einfach leicht ...        101       191  \n",
       "4                                    Inhalt: 1 Stück         45        15  "
      ]
     },
     "execution_count": 67,
     "metadata": {},
     "output_type": "execute_result"
    }
   ],
   "source": [
    "products.head()"
   ]
  },
  {
   "attachments": {},
   "cell_type": "markdown",
   "metadata": {},
   "source": [
    "测试集跟产品表连表"
   ]
  },
  {
   "cell_type": "code",
   "execution_count": 78,
   "metadata": {},
   "outputs": [
    {
     "data": {
      "text/plain": [
       "Index(['prev_items', 'locale', 'last_item'], dtype='object')"
      ]
     },
     "execution_count": 78,
     "metadata": {},
     "output_type": "execute_result"
    }
   ],
   "source": [
    "df_test.columns"
   ]
  },
  {
   "cell_type": "code",
   "execution_count": 79,
   "metadata": {},
   "outputs": [],
   "source": [
    "df_test_exploded = df_test[['prev_items', 'locale', 'last_item']].explode('prev_items')"
   ]
  },
  {
   "cell_type": "code",
   "execution_count": 80,
   "metadata": {},
   "outputs": [
    {
     "data": {
      "text/plain": [
       "Int64Index([     0,      0,      0,      0,      0,      0,      0,      0,\n",
       "                 0,      0,\n",
       "            ...\n",
       "            316968, 316968, 316968, 316968, 316968, 316969, 316969, 316970,\n",
       "            316970, 316970],\n",
       "           dtype='int64', length=1351132)"
      ]
     },
     "execution_count": 80,
     "metadata": {},
     "output_type": "execute_result"
    }
   ],
   "source": [
    "df_test_exploded.index "
   ]
  },
  {
   "cell_type": "code",
   "execution_count": 81,
   "metadata": {},
   "outputs": [],
   "source": [
    "df_test_exploded['index'] = df_test_exploded.index "
   ]
  },
  {
   "cell_type": "code",
   "execution_count": 82,
   "metadata": {},
   "outputs": [],
   "source": [
    "df_test_exploded = df_test_exploded.rename(columns={'prev_items': 'id'})"
   ]
  },
  {
   "cell_type": "code",
   "execution_count": 83,
   "metadata": {},
   "outputs": [
    {
     "data": {
      "text/html": [
       "<div>\n",
       "<style scoped>\n",
       "    .dataframe tbody tr th:only-of-type {\n",
       "        vertical-align: middle;\n",
       "    }\n",
       "\n",
       "    .dataframe tbody tr th {\n",
       "        vertical-align: top;\n",
       "    }\n",
       "\n",
       "    .dataframe thead th {\n",
       "        text-align: right;\n",
       "    }\n",
       "</style>\n",
       "<table border=\"1\" class=\"dataframe\">\n",
       "  <thead>\n",
       "    <tr style=\"text-align: right;\">\n",
       "      <th></th>\n",
       "      <th>id</th>\n",
       "      <th>locale</th>\n",
       "      <th>last_item</th>\n",
       "      <th>index</th>\n",
       "    </tr>\n",
       "  </thead>\n",
       "  <tbody>\n",
       "    <tr>\n",
       "      <th>0</th>\n",
       "      <td>B08V12CT4C</td>\n",
       "      <td>DE</td>\n",
       "      <td>B099NQFMG7</td>\n",
       "      <td>0</td>\n",
       "    </tr>\n",
       "    <tr>\n",
       "      <th>0</th>\n",
       "      <td>B08V1KXBQD</td>\n",
       "      <td>DE</td>\n",
       "      <td>B099NQFMG7</td>\n",
       "      <td>0</td>\n",
       "    </tr>\n",
       "    <tr>\n",
       "      <th>0</th>\n",
       "      <td>B01BVG1XJS</td>\n",
       "      <td>DE</td>\n",
       "      <td>B099NQFMG7</td>\n",
       "      <td>0</td>\n",
       "    </tr>\n",
       "    <tr>\n",
       "      <th>0</th>\n",
       "      <td>B09VC5PKN5</td>\n",
       "      <td>DE</td>\n",
       "      <td>B099NQFMG7</td>\n",
       "      <td>0</td>\n",
       "    </tr>\n",
       "    <tr>\n",
       "      <th>0</th>\n",
       "      <td>B09V7KG931</td>\n",
       "      <td>DE</td>\n",
       "      <td>B099NQFMG7</td>\n",
       "      <td>0</td>\n",
       "    </tr>\n",
       "    <tr>\n",
       "      <th>...</th>\n",
       "      <td>...</td>\n",
       "      <td>...</td>\n",
       "      <td>...</td>\n",
       "      <td>...</td>\n",
       "    </tr>\n",
       "    <tr>\n",
       "      <th>316969</th>\n",
       "      <td>B01MCQMORK</td>\n",
       "      <td>UK</td>\n",
       "      <td>B09JYZ325W</td>\n",
       "      <td>316969</td>\n",
       "    </tr>\n",
       "    <tr>\n",
       "      <th>316969</th>\n",
       "      <td>B09JYZ325W</td>\n",
       "      <td>UK</td>\n",
       "      <td>B09JYZ325W</td>\n",
       "      <td>316969</td>\n",
       "    </tr>\n",
       "    <tr>\n",
       "      <th>316970</th>\n",
       "      <td>B0B8JX92YJ</td>\n",
       "      <td>UK</td>\n",
       "      <td>B0BG2LZQSL</td>\n",
       "      <td>316970</td>\n",
       "    </tr>\n",
       "    <tr>\n",
       "      <th>316970</th>\n",
       "      <td>B09TN4MP6V</td>\n",
       "      <td>UK</td>\n",
       "      <td>B0BG2LZQSL</td>\n",
       "      <td>316970</td>\n",
       "    </tr>\n",
       "    <tr>\n",
       "      <th>316970</th>\n",
       "      <td>B0BG2LZQSL</td>\n",
       "      <td>UK</td>\n",
       "      <td>B0BG2LZQSL</td>\n",
       "      <td>316970</td>\n",
       "    </tr>\n",
       "  </tbody>\n",
       "</table>\n",
       "<p>1351132 rows × 4 columns</p>\n",
       "</div>"
      ],
      "text/plain": [
       "                id locale   last_item   index\n",
       "0       B08V12CT4C     DE  B099NQFMG7       0\n",
       "0       B08V1KXBQD     DE  B099NQFMG7       0\n",
       "0       B01BVG1XJS     DE  B099NQFMG7       0\n",
       "0       B09VC5PKN5     DE  B099NQFMG7       0\n",
       "0       B09V7KG931     DE  B099NQFMG7       0\n",
       "...            ...    ...         ...     ...\n",
       "316969  B01MCQMORK     UK  B09JYZ325W  316969\n",
       "316969  B09JYZ325W     UK  B09JYZ325W  316969\n",
       "316970  B0B8JX92YJ     UK  B0BG2LZQSL  316970\n",
       "316970  B09TN4MP6V     UK  B0BG2LZQSL  316970\n",
       "316970  B0BG2LZQSL     UK  B0BG2LZQSL  316970\n",
       "\n",
       "[1351132 rows x 4 columns]"
      ]
     },
     "execution_count": 83,
     "metadata": {},
     "output_type": "execute_result"
    }
   ],
   "source": [
    "df_test_exploded"
   ]
  },
  {
   "cell_type": "code",
   "execution_count": 84,
   "metadata": {},
   "outputs": [
    {
     "data": {
      "text/html": [
       "<div>\n",
       "<style scoped>\n",
       "    .dataframe tbody tr th:only-of-type {\n",
       "        vertical-align: middle;\n",
       "    }\n",
       "\n",
       "    .dataframe tbody tr th {\n",
       "        vertical-align: top;\n",
       "    }\n",
       "\n",
       "    .dataframe thead th {\n",
       "        text-align: right;\n",
       "    }\n",
       "</style>\n",
       "<table border=\"1\" class=\"dataframe\">\n",
       "  <thead>\n",
       "    <tr style=\"text-align: right;\">\n",
       "      <th></th>\n",
       "      <th>id</th>\n",
       "      <th>locale_x</th>\n",
       "      <th>last_item</th>\n",
       "      <th>index</th>\n",
       "      <th>locale_y</th>\n",
       "      <th>title</th>\n",
       "      <th>price</th>\n",
       "      <th>brand</th>\n",
       "      <th>color</th>\n",
       "      <th>size</th>\n",
       "      <th>model</th>\n",
       "      <th>material</th>\n",
       "      <th>author</th>\n",
       "      <th>desc</th>\n",
       "      <th>len_title</th>\n",
       "      <th>len_desc</th>\n",
       "    </tr>\n",
       "  </thead>\n",
       "  <tbody>\n",
       "    <tr>\n",
       "      <th>0</th>\n",
       "      <td>B08V12CT4C</td>\n",
       "      <td>DE</td>\n",
       "      <td>B099NQFMG7</td>\n",
       "      <td>0</td>\n",
       "      <td>DE</td>\n",
       "      <td>ThermoPro TP49 digitales Mini Thermo-Hygromete...</td>\n",
       "      <td>22.99</td>\n",
       "      <td>133388</td>\n",
       "      <td>203260</td>\n",
       "      <td>218060</td>\n",
       "      <td>524101</td>\n",
       "      <td>45568</td>\n",
       "      <td>30835</td>\n",
       "      <td>Energiesparende Batterie: 1x 1,5 V AAA Batteri...</td>\n",
       "      <td>149</td>\n",
       "      <td>210</td>\n",
       "    </tr>\n",
       "    <tr>\n",
       "      <th>1</th>\n",
       "      <td>B08V1KXBQD</td>\n",
       "      <td>DE</td>\n",
       "      <td>B099NQFMG7</td>\n",
       "      <td>0</td>\n",
       "      <td>DE</td>\n",
       "      <td>ThermoPro TP49W-3 digitales Mini Thermo-Hygrom...</td>\n",
       "      <td>29.99</td>\n",
       "      <td>133388</td>\n",
       "      <td>203260</td>\n",
       "      <td>218060</td>\n",
       "      <td>524101</td>\n",
       "      <td>45568</td>\n",
       "      <td>30835</td>\n",
       "      <td>Energiesparende Batterie: 1x 1,5 V AAA Batteri...</td>\n",
       "      <td>151</td>\n",
       "      <td>210</td>\n",
       "    </tr>\n",
       "    <tr>\n",
       "      <th>2</th>\n",
       "      <td>B01BVG1XJS</td>\n",
       "      <td>DE</td>\n",
       "      <td>B099NQFMG7</td>\n",
       "      <td>0</td>\n",
       "      <td>DE</td>\n",
       "      <td>Bresser Thermometer Hygrometer Temeo Hygro Ind...</td>\n",
       "      <td>19.95</td>\n",
       "      <td>22590</td>\n",
       "      <td>155573</td>\n",
       "      <td>93148</td>\n",
       "      <td>172859</td>\n",
       "      <td>15665</td>\n",
       "      <td>30835</td>\n",
       "      <td>Abmessungen: 45 x 58 x 13 mm, Gewicht: 31 g; F...</td>\n",
       "      <td>170</td>\n",
       "      <td>139</td>\n",
       "    </tr>\n",
       "    <tr>\n",
       "      <th>3</th>\n",
       "      <td>B09VC5PKN5</td>\n",
       "      <td>DE</td>\n",
       "      <td>B099NQFMG7</td>\n",
       "      <td>0</td>\n",
       "      <td>DE</td>\n",
       "      <td>ThermoPro TP157 Mini Hygrometer Thermometer In...</td>\n",
       "      <td>12.99</td>\n",
       "      <td>133388</td>\n",
       "      <td>203260</td>\n",
       "      <td>218060</td>\n",
       "      <td>468395</td>\n",
       "      <td>45568</td>\n",
       "      <td>30835</td>\n",
       "      <td>Batterielaufzeit für 18 Monate: Die im Lieferu...</td>\n",
       "      <td>184</td>\n",
       "      <td>192</td>\n",
       "    </tr>\n",
       "    <tr>\n",
       "      <th>4</th>\n",
       "      <td>B09V7KG931</td>\n",
       "      <td>DE</td>\n",
       "      <td>B099NQFMG7</td>\n",
       "      <td>0</td>\n",
       "      <td>DE</td>\n",
       "      <td>ThermoPro TP157 Mini Hygrometer Thermometer In...</td>\n",
       "      <td>29.99</td>\n",
       "      <td>133388</td>\n",
       "      <td>203260</td>\n",
       "      <td>218060</td>\n",
       "      <td>468396</td>\n",
       "      <td>45568</td>\n",
       "      <td>30835</td>\n",
       "      <td>Batterielaufzeit für 18 Monate: Die im Lieferu...</td>\n",
       "      <td>192</td>\n",
       "      <td>192</td>\n",
       "    </tr>\n",
       "  </tbody>\n",
       "</table>\n",
       "</div>"
      ],
      "text/plain": [
       "           id locale_x   last_item  index locale_y  \\\n",
       "0  B08V12CT4C       DE  B099NQFMG7      0       DE   \n",
       "1  B08V1KXBQD       DE  B099NQFMG7      0       DE   \n",
       "2  B01BVG1XJS       DE  B099NQFMG7      0       DE   \n",
       "3  B09VC5PKN5       DE  B099NQFMG7      0       DE   \n",
       "4  B09V7KG931       DE  B099NQFMG7      0       DE   \n",
       "\n",
       "                                               title  price   brand   color  \\\n",
       "0  ThermoPro TP49 digitales Mini Thermo-Hygromete...  22.99  133388  203260   \n",
       "1  ThermoPro TP49W-3 digitales Mini Thermo-Hygrom...  29.99  133388  203260   \n",
       "2  Bresser Thermometer Hygrometer Temeo Hygro Ind...  19.95   22590  155573   \n",
       "3  ThermoPro TP157 Mini Hygrometer Thermometer In...  12.99  133388  203260   \n",
       "4  ThermoPro TP157 Mini Hygrometer Thermometer In...  29.99  133388  203260   \n",
       "\n",
       "     size   model  material  author  \\\n",
       "0  218060  524101     45568   30835   \n",
       "1  218060  524101     45568   30835   \n",
       "2   93148  172859     15665   30835   \n",
       "3  218060  468395     45568   30835   \n",
       "4  218060  468396     45568   30835   \n",
       "\n",
       "                                                desc  len_title  len_desc  \n",
       "0  Energiesparende Batterie: 1x 1,5 V AAA Batteri...        149       210  \n",
       "1  Energiesparende Batterie: 1x 1,5 V AAA Batteri...        151       210  \n",
       "2  Abmessungen: 45 x 58 x 13 mm, Gewicht: 31 g; F...        170       139  \n",
       "3  Batterielaufzeit für 18 Monate: Die im Lieferu...        184       192  \n",
       "4  Batterielaufzeit für 18 Monate: Die im Lieferu...        192       192  "
      ]
     },
     "execution_count": 84,
     "metadata": {},
     "output_type": "execute_result"
    }
   ],
   "source": [
    "# products在同一个地区的ID是不一样的，但是不同地区的ID可能会一样\n",
    "df_test_exploded_fea = df_test_exploded.merge(products, on='id', how='left')\n",
    "df_test_exploded_fea.head()"
   ]
  },
  {
   "cell_type": "code",
   "execution_count": 85,
   "metadata": {},
   "outputs": [
    {
     "data": {
      "text/plain": [
       "(1351132, 16)"
      ]
     },
     "execution_count": 85,
     "metadata": {},
     "output_type": "execute_result"
    }
   ],
   "source": [
    "df_test_exploded_fea.shape "
   ]
  },
  {
   "cell_type": "code",
   "execution_count": 86,
   "metadata": {},
   "outputs": [
    {
     "data": {
      "text/html": [
       "<div>\n",
       "<style scoped>\n",
       "    .dataframe tbody tr th:only-of-type {\n",
       "        vertical-align: middle;\n",
       "    }\n",
       "\n",
       "    .dataframe tbody tr th {\n",
       "        vertical-align: top;\n",
       "    }\n",
       "\n",
       "    .dataframe thead th {\n",
       "        text-align: right;\n",
       "    }\n",
       "</style>\n",
       "<table border=\"1\" class=\"dataframe\">\n",
       "  <thead>\n",
       "    <tr style=\"text-align: right;\">\n",
       "      <th></th>\n",
       "      <th>id</th>\n",
       "      <th>locale_x</th>\n",
       "      <th>last_item</th>\n",
       "      <th>index</th>\n",
       "      <th>locale_y</th>\n",
       "      <th>title</th>\n",
       "      <th>price</th>\n",
       "      <th>brand</th>\n",
       "      <th>color</th>\n",
       "      <th>size</th>\n",
       "      <th>model</th>\n",
       "      <th>material</th>\n",
       "      <th>author</th>\n",
       "      <th>desc</th>\n",
       "      <th>len_title</th>\n",
       "      <th>len_desc</th>\n",
       "    </tr>\n",
       "  </thead>\n",
       "  <tbody>\n",
       "    <tr>\n",
       "      <th>450255</th>\n",
       "      <td>B082T6R1HC</td>\n",
       "      <td>JP</td>\n",
       "      <td>B082T5WH22</td>\n",
       "      <td>104606</td>\n",
       "      <td>DE</td>\n",
       "      <td>Amazon Basics – Verbindungskabel Lightning auf...</td>\n",
       "      <td>40000000.07</td>\n",
       "      <td>9445</td>\n",
       "      <td>155573</td>\n",
       "      <td>2947</td>\n",
       "      <td>363144</td>\n",
       "      <td>45568</td>\n",
       "      <td>30835</td>\n",
       "      <td>NaN</td>\n",
       "      <td>135</td>\n",
       "      <td>0</td>\n",
       "    </tr>\n",
       "    <tr>\n",
       "      <th>450256</th>\n",
       "      <td>B082T6GVG9</td>\n",
       "      <td>JP</td>\n",
       "      <td>B082T5WH22</td>\n",
       "      <td>104606</td>\n",
       "      <td>DE</td>\n",
       "      <td>Amazon Basics – Verbindungskabel Lightning auf...</td>\n",
       "      <td>11.12</td>\n",
       "      <td>9442</td>\n",
       "      <td>155573</td>\n",
       "      <td>2947</td>\n",
       "      <td>363138</td>\n",
       "      <td>45568</td>\n",
       "      <td>30835</td>\n",
       "      <td>Lieferumfang: Verbindungskabel Lightning auf U...</td>\n",
       "      <td>106</td>\n",
       "      <td>139</td>\n",
       "    </tr>\n",
       "    <tr>\n",
       "      <th>450257</th>\n",
       "      <td>B082T5WH22</td>\n",
       "      <td>JP</td>\n",
       "      <td>B082T5WH22</td>\n",
       "      <td>104606</td>\n",
       "      <td>DE</td>\n",
       "      <td>Amazon Basics – Verbindungskabel Lightning auf...</td>\n",
       "      <td>11.99</td>\n",
       "      <td>9445</td>\n",
       "      <td>136603</td>\n",
       "      <td>8414</td>\n",
       "      <td>363145</td>\n",
       "      <td>45568</td>\n",
       "      <td>30835</td>\n",
       "      <td>Lieferumfang: Fortschrittliches Verbindungskab...</td>\n",
       "      <td>138</td>\n",
       "      <td>157</td>\n",
       "    </tr>\n",
       "  </tbody>\n",
       "</table>\n",
       "</div>"
      ],
      "text/plain": [
       "                id locale_x   last_item   index locale_y  \\\n",
       "450255  B082T6R1HC       JP  B082T5WH22  104606       DE   \n",
       "450256  B082T6GVG9       JP  B082T5WH22  104606       DE   \n",
       "450257  B082T5WH22       JP  B082T5WH22  104606       DE   \n",
       "\n",
       "                                                    title        price  brand  \\\n",
       "450255  Amazon Basics – Verbindungskabel Lightning auf...  40000000.07   9445   \n",
       "450256  Amazon Basics – Verbindungskabel Lightning auf...        11.12   9442   \n",
       "450257  Amazon Basics – Verbindungskabel Lightning auf...        11.99   9445   \n",
       "\n",
       "         color  size   model  material  author  \\\n",
       "450255  155573  2947  363144     45568   30835   \n",
       "450256  155573  2947  363138     45568   30835   \n",
       "450257  136603  8414  363145     45568   30835   \n",
       "\n",
       "                                                     desc  len_title  len_desc  \n",
       "450255                                                NaN        135         0  \n",
       "450256  Lieferumfang: Verbindungskabel Lightning auf U...        106       139  \n",
       "450257  Lieferumfang: Fortschrittliches Verbindungskab...        138       157  "
      ]
     },
     "execution_count": 86,
     "metadata": {},
     "output_type": "execute_result"
    }
   ],
   "source": [
    "df_test_exploded_fea[df_test_exploded_fea['index'] == 104606]"
   ]
  },
  {
   "cell_type": "code",
   "execution_count": 87,
   "metadata": {},
   "outputs": [
    {
     "data": {
      "text/html": [
       "<div>\n",
       "<style scoped>\n",
       "    .dataframe tbody tr th:only-of-type {\n",
       "        vertical-align: middle;\n",
       "    }\n",
       "\n",
       "    .dataframe tbody tr th {\n",
       "        vertical-align: top;\n",
       "    }\n",
       "\n",
       "    .dataframe thead th {\n",
       "        text-align: right;\n",
       "    }\n",
       "</style>\n",
       "<table border=\"1\" class=\"dataframe\">\n",
       "  <thead>\n",
       "    <tr style=\"text-align: right;\">\n",
       "      <th></th>\n",
       "      <th>id</th>\n",
       "      <th>locale</th>\n",
       "      <th>title</th>\n",
       "      <th>price</th>\n",
       "      <th>brand</th>\n",
       "      <th>color</th>\n",
       "      <th>size</th>\n",
       "      <th>model</th>\n",
       "      <th>material</th>\n",
       "      <th>author</th>\n",
       "      <th>desc</th>\n",
       "      <th>len_title</th>\n",
       "      <th>len_desc</th>\n",
       "    </tr>\n",
       "  </thead>\n",
       "  <tbody>\n",
       "    <tr>\n",
       "      <th>0</th>\n",
       "      <td>B005ZSSN10</td>\n",
       "      <td>DE</td>\n",
       "      <td>RED DRAGON Amberjack 3 - Steel Tip 22 Gramm Wo...</td>\n",
       "      <td>30.95</td>\n",
       "      <td>112134</td>\n",
       "      <td>203260</td>\n",
       "      <td>218060</td>\n",
       "      <td>426630</td>\n",
       "      <td>45568</td>\n",
       "      <td>30835</td>\n",
       "      <td>Amberjacks Steel Dartpfeile sind verfügbar in ...</td>\n",
       "      <td>96</td>\n",
       "      <td>121</td>\n",
       "    </tr>\n",
       "    <tr>\n",
       "      <th>1</th>\n",
       "      <td>B08PRYN6LD</td>\n",
       "      <td>DE</td>\n",
       "      <td>Simply Keto Lower Carb* Schokodrops ohne Zucke...</td>\n",
       "      <td>17.90</td>\n",
       "      <td>124505</td>\n",
       "      <td>203260</td>\n",
       "      <td>128007</td>\n",
       "      <td>524101</td>\n",
       "      <td>45568</td>\n",
       "      <td>30835</td>\n",
       "      <td>🌱 NATÜRLICHE SÜSSE DURCH ERYTHRIT - Wir stelle...</td>\n",
       "      <td>186</td>\n",
       "      <td>330</td>\n",
       "    </tr>\n",
       "    <tr>\n",
       "      <th>2</th>\n",
       "      <td>B09MBZJ48V</td>\n",
       "      <td>DE</td>\n",
       "      <td>Sennheiser 508377 PC 5.2 Chat, Stilvolles Mult...</td>\n",
       "      <td>68.89</td>\n",
       "      <td>122979</td>\n",
       "      <td>114264</td>\n",
       "      <td>170270</td>\n",
       "      <td>145013</td>\n",
       "      <td>15566</td>\n",
       "      <td>30835</td>\n",
       "      <td>3.5 MM BUCHSE - Kann problemlos an Geräte mit ...</td>\n",
       "      <td>181</td>\n",
       "      <td>95</td>\n",
       "    </tr>\n",
       "    <tr>\n",
       "      <th>3</th>\n",
       "      <td>B08ZN6F26S</td>\n",
       "      <td>DE</td>\n",
       "      <td>AmyBenton Auto ab 1 2 3 ahre - Baby Aufziehbar...</td>\n",
       "      <td>18.99</td>\n",
       "      <td>9834</td>\n",
       "      <td>46931</td>\n",
       "      <td>218060</td>\n",
       "      <td>67408</td>\n",
       "      <td>29357</td>\n",
       "      <td>30835</td>\n",
       "      <td>【Auto aufziehbar】: Drücken Sie einfach leicht ...</td>\n",
       "      <td>101</td>\n",
       "      <td>191</td>\n",
       "    </tr>\n",
       "    <tr>\n",
       "      <th>4</th>\n",
       "      <td>B094DGRV7D</td>\n",
       "      <td>DE</td>\n",
       "      <td>PLAYMOBIL - 70522 - Cavaliere mit grauem Pony</td>\n",
       "      <td>7.17</td>\n",
       "      <td>105135</td>\n",
       "      <td>117844</td>\n",
       "      <td>170305</td>\n",
       "      <td>174527</td>\n",
       "      <td>23064</td>\n",
       "      <td>30835</td>\n",
       "      <td>Inhalt: 1 Stück</td>\n",
       "      <td>45</td>\n",
       "      <td>15</td>\n",
       "    </tr>\n",
       "  </tbody>\n",
       "</table>\n",
       "</div>"
      ],
      "text/plain": [
       "           id locale                                              title  \\\n",
       "0  B005ZSSN10     DE  RED DRAGON Amberjack 3 - Steel Tip 22 Gramm Wo...   \n",
       "1  B08PRYN6LD     DE  Simply Keto Lower Carb* Schokodrops ohne Zucke...   \n",
       "2  B09MBZJ48V     DE  Sennheiser 508377 PC 5.2 Chat, Stilvolles Mult...   \n",
       "3  B08ZN6F26S     DE  AmyBenton Auto ab 1 2 3 ahre - Baby Aufziehbar...   \n",
       "4  B094DGRV7D     DE      PLAYMOBIL - 70522 - Cavaliere mit grauem Pony   \n",
       "\n",
       "   price   brand   color    size   model  material  author  \\\n",
       "0  30.95  112134  203260  218060  426630     45568   30835   \n",
       "1  17.90  124505  203260  128007  524101     45568   30835   \n",
       "2  68.89  122979  114264  170270  145013     15566   30835   \n",
       "3  18.99    9834   46931  218060   67408     29357   30835   \n",
       "4   7.17  105135  117844  170305  174527     23064   30835   \n",
       "\n",
       "                                                desc  len_title  len_desc  \n",
       "0  Amberjacks Steel Dartpfeile sind verfügbar in ...         96       121  \n",
       "1  🌱 NATÜRLICHE SÜSSE DURCH ERYTHRIT - Wir stelle...        186       330  \n",
       "2  3.5 MM BUCHSE - Kann problemlos an Geräte mit ...        181        95  \n",
       "3  【Auto aufziehbar】: Drücken Sie einfach leicht ...        101       191  \n",
       "4                                    Inhalt: 1 Stück         45        15  "
      ]
     },
     "execution_count": 87,
     "metadata": {},
     "output_type": "execute_result"
    }
   ],
   "source": [
    "products.head() "
   ]
  },
  {
   "attachments": {},
   "cell_type": "markdown",
   "metadata": {},
   "source": [
    "训练集和产品表连表"
   ]
  },
  {
   "cell_type": "code",
   "execution_count": 88,
   "metadata": {},
   "outputs": [
    {
     "data": {
      "text/plain": [
       "Index(['prev_items', 'next_item', 'locale', 'last_item'], dtype='object')"
      ]
     },
     "execution_count": 88,
     "metadata": {},
     "output_type": "execute_result"
    }
   ],
   "source": [
    "df_train.columns"
   ]
  },
  {
   "cell_type": "code",
   "execution_count": 89,
   "metadata": {},
   "outputs": [],
   "source": [
    "df_train_exploded = df_train[['prev_items', 'locale', 'last_item', 'next_item']].explode('prev_items')"
   ]
  },
  {
   "cell_type": "code",
   "execution_count": 90,
   "metadata": {},
   "outputs": [],
   "source": [
    "df_train_exploded['index'] = df_train_exploded.index "
   ]
  },
  {
   "cell_type": "code",
   "execution_count": 91,
   "metadata": {},
   "outputs": [],
   "source": [
    "df_train_exploded = df_train_exploded.rename(columns={'prev_items': 'id'})"
   ]
  },
  {
   "cell_type": "code",
   "execution_count": 92,
   "metadata": {},
   "outputs": [
    {
     "data": {
      "text/html": [
       "<div>\n",
       "<style scoped>\n",
       "    .dataframe tbody tr th:only-of-type {\n",
       "        vertical-align: middle;\n",
       "    }\n",
       "\n",
       "    .dataframe tbody tr th {\n",
       "        vertical-align: top;\n",
       "    }\n",
       "\n",
       "    .dataframe thead th {\n",
       "        text-align: right;\n",
       "    }\n",
       "</style>\n",
       "<table border=\"1\" class=\"dataframe\">\n",
       "  <thead>\n",
       "    <tr style=\"text-align: right;\">\n",
       "      <th></th>\n",
       "      <th>id</th>\n",
       "      <th>locale_x</th>\n",
       "      <th>last_item</th>\n",
       "      <th>next_item</th>\n",
       "      <th>index</th>\n",
       "      <th>locale_y</th>\n",
       "      <th>title</th>\n",
       "      <th>price</th>\n",
       "      <th>brand</th>\n",
       "      <th>color</th>\n",
       "      <th>size</th>\n",
       "      <th>model</th>\n",
       "      <th>material</th>\n",
       "      <th>author</th>\n",
       "      <th>desc</th>\n",
       "      <th>len_title</th>\n",
       "      <th>len_desc</th>\n",
       "    </tr>\n",
       "  </thead>\n",
       "  <tbody>\n",
       "    <tr>\n",
       "      <th>0</th>\n",
       "      <td>B09W9FND7K</td>\n",
       "      <td>DE</td>\n",
       "      <td>B09JSPLN1M</td>\n",
       "      <td>B09M7GY217</td>\n",
       "      <td>0</td>\n",
       "      <td>DE</td>\n",
       "      <td>OREiN LED Einbaustrahler 230V Dimmbar &amp; IP65 L...</td>\n",
       "      <td>39.99</td>\n",
       "      <td>101601</td>\n",
       "      <td>37318</td>\n",
       "      <td>163936</td>\n",
       "      <td>524101</td>\n",
       "      <td>39693</td>\n",
       "      <td>30835</td>\n",
       "      <td>【Angenehmes Licht】Dieser Einbaustrahler LED Fl...</td>\n",
       "      <td>196</td>\n",
       "      <td>222</td>\n",
       "    </tr>\n",
       "    <tr>\n",
       "      <th>1</th>\n",
       "      <td>B09JSPLN1M</td>\n",
       "      <td>DE</td>\n",
       "      <td>B09JSPLN1M</td>\n",
       "      <td>B09M7GY217</td>\n",
       "      <td>0</td>\n",
       "      <td>DE</td>\n",
       "      <td>OREiN LED Spot LED Einbaustrahler 230V IP65 LE...</td>\n",
       "      <td>36.99</td>\n",
       "      <td>101601</td>\n",
       "      <td>37319</td>\n",
       "      <td>163936</td>\n",
       "      <td>524101</td>\n",
       "      <td>15665</td>\n",
       "      <td>30835</td>\n",
       "      <td>【Angenehmes Licht】Dieser Einbaustrahler LED Fl...</td>\n",
       "      <td>199</td>\n",
       "      <td>231</td>\n",
       "    </tr>\n",
       "    <tr>\n",
       "      <th>2</th>\n",
       "      <td>B076THCGSG</td>\n",
       "      <td>DE</td>\n",
       "      <td>B001B4TKA0</td>\n",
       "      <td>B001B4THSA</td>\n",
       "      <td>1</td>\n",
       "      <td>DE</td>\n",
       "      <td>VIETSCHI Profi DIN Plus 12,5L weiß - doppeldec...</td>\n",
       "      <td>39.80</td>\n",
       "      <td>139845</td>\n",
       "      <td>203260</td>\n",
       "      <td>23154</td>\n",
       "      <td>524101</td>\n",
       "      <td>45568</td>\n",
       "      <td>30835</td>\n",
       "      <td>✅ Einfache Verarbeitung - Egal ob Streichen, R...</td>\n",
       "      <td>195</td>\n",
       "      <td>192</td>\n",
       "    </tr>\n",
       "    <tr>\n",
       "      <th>3</th>\n",
       "      <td>B007MO8IME</td>\n",
       "      <td>DE</td>\n",
       "      <td>B001B4TKA0</td>\n",
       "      <td>B001B4THSA</td>\n",
       "      <td>1</td>\n",
       "      <td>DE</td>\n",
       "      <td>Caparol Capa DIN 12,500 L Wandfarben</td>\n",
       "      <td>40.27</td>\n",
       "      <td>27926</td>\n",
       "      <td>155413</td>\n",
       "      <td>23154</td>\n",
       "      <td>38821</td>\n",
       "      <td>10947</td>\n",
       "      <td>30835</td>\n",
       "      <td>Caparol</td>\n",
       "      <td>36</td>\n",
       "      <td>7</td>\n",
       "    </tr>\n",
       "    <tr>\n",
       "      <th>4</th>\n",
       "      <td>B08MF65MLV</td>\n",
       "      <td>DE</td>\n",
       "      <td>B001B4TKA0</td>\n",
       "      <td>B001B4THSA</td>\n",
       "      <td>1</td>\n",
       "      <td>DE</td>\n",
       "      <td>Metzler Edelstahl Türklingel in Anthrazit - Tü...</td>\n",
       "      <td>29.99</td>\n",
       "      <td>93325</td>\n",
       "      <td>47134</td>\n",
       "      <td>130654</td>\n",
       "      <td>524101</td>\n",
       "      <td>11437</td>\n",
       "      <td>30835</td>\n",
       "      <td>Der Anschluss erfolgt an herkömmlichen Klingel...</td>\n",
       "      <td>174</td>\n",
       "      <td>222</td>\n",
       "    </tr>\n",
       "  </tbody>\n",
       "</table>\n",
       "</div>"
      ],
      "text/plain": [
       "           id locale_x   last_item   next_item  index locale_y  \\\n",
       "0  B09W9FND7K       DE  B09JSPLN1M  B09M7GY217      0       DE   \n",
       "1  B09JSPLN1M       DE  B09JSPLN1M  B09M7GY217      0       DE   \n",
       "2  B076THCGSG       DE  B001B4TKA0  B001B4THSA      1       DE   \n",
       "3  B007MO8IME       DE  B001B4TKA0  B001B4THSA      1       DE   \n",
       "4  B08MF65MLV       DE  B001B4TKA0  B001B4THSA      1       DE   \n",
       "\n",
       "                                               title  price   brand   color  \\\n",
       "0  OREiN LED Einbaustrahler 230V Dimmbar & IP65 L...  39.99  101601   37318   \n",
       "1  OREiN LED Spot LED Einbaustrahler 230V IP65 LE...  36.99  101601   37319   \n",
       "2  VIETSCHI Profi DIN Plus 12,5L weiß - doppeldec...  39.80  139845  203260   \n",
       "3               Caparol Capa DIN 12,500 L Wandfarben  40.27   27926  155413   \n",
       "4  Metzler Edelstahl Türklingel in Anthrazit - Tü...  29.99   93325   47134   \n",
       "\n",
       "     size   model  material  author  \\\n",
       "0  163936  524101     39693   30835   \n",
       "1  163936  524101     15665   30835   \n",
       "2   23154  524101     45568   30835   \n",
       "3   23154   38821     10947   30835   \n",
       "4  130654  524101     11437   30835   \n",
       "\n",
       "                                                desc  len_title  len_desc  \n",
       "0  【Angenehmes Licht】Dieser Einbaustrahler LED Fl...        196       222  \n",
       "1  【Angenehmes Licht】Dieser Einbaustrahler LED Fl...        199       231  \n",
       "2  ✅ Einfache Verarbeitung - Egal ob Streichen, R...        195       192  \n",
       "3                                            Caparol         36         7  \n",
       "4  Der Anschluss erfolgt an herkömmlichen Klingel...        174       222  "
      ]
     },
     "execution_count": 92,
     "metadata": {},
     "output_type": "execute_result"
    }
   ],
   "source": [
    "# products在同一个地区的ID是不一样的，但是不同地区的ID可能会一样\n",
    "df_train_exploded_fea = df_train_exploded.merge(products, on='id', how='left')\n",
    "df_train_exploded_fea.head()"
   ]
  },
  {
   "cell_type": "code",
   "execution_count": 93,
   "metadata": {},
   "outputs": [
    {
     "data": {
      "text/plain": [
       "(15306183, 17)"
      ]
     },
     "execution_count": 93,
     "metadata": {},
     "output_type": "execute_result"
    }
   ],
   "source": [
    "df_train_exploded_fea.shape "
   ]
  },
  {
   "attachments": {},
   "cell_type": "markdown",
   "metadata": {},
   "source": [
    "测试集序列特征抽取"
   ]
  },
  {
   "cell_type": "code",
   "execution_count": 94,
   "metadata": {},
   "outputs": [],
   "source": [
    "agg = {\n",
    "    'id': ['nunique', 'count'],\n",
    "    'brand' : ['nunique', 'count'],\n",
    "    'color' : ['nunique', 'count'],\n",
    "    'size' : ['nunique', 'count'],\n",
    "    'model' : ['nunique', 'count'],\n",
    "    'material' : ['nunique', 'count'],\n",
    "    'author' : ['nunique', 'count'],\n",
    "    'price' : ['mean', 'std', 'min', 'max', 'sum'],\n",
    "    'len_title' : ['mean', 'std', 'min', 'max', 'sum'],\n",
    "    'len_desc' : ['mean', 'std', 'min', 'max', 'sum'],\n",
    "}"
   ]
  },
  {
   "cell_type": "code",
   "execution_count": 95,
   "metadata": {},
   "outputs": [],
   "source": [
    "df_test_seqs_feas = df_test_exploded_fea.groupby('index').agg(agg)"
   ]
  },
  {
   "cell_type": "code",
   "execution_count": 96,
   "metadata": {},
   "outputs": [],
   "source": [
    "df_test_seqs_feas.columns = pd.Index([e[0] + e[1].upper() for e in df_test_seqs_feas.columns.tolist()])"
   ]
  },
  {
   "cell_type": "code",
   "execution_count": 97,
   "metadata": {},
   "outputs": [
    {
     "data": {
      "text/html": [
       "<div>\n",
       "<style scoped>\n",
       "    .dataframe tbody tr th:only-of-type {\n",
       "        vertical-align: middle;\n",
       "    }\n",
       "\n",
       "    .dataframe tbody tr th {\n",
       "        vertical-align: top;\n",
       "    }\n",
       "\n",
       "    .dataframe thead th {\n",
       "        text-align: right;\n",
       "    }\n",
       "</style>\n",
       "<table border=\"1\" class=\"dataframe\">\n",
       "  <thead>\n",
       "    <tr style=\"text-align: right;\">\n",
       "      <th></th>\n",
       "      <th>idNUNIQUE</th>\n",
       "      <th>idCOUNT</th>\n",
       "      <th>brandNUNIQUE</th>\n",
       "      <th>brandCOUNT</th>\n",
       "      <th>colorNUNIQUE</th>\n",
       "      <th>colorCOUNT</th>\n",
       "      <th>sizeNUNIQUE</th>\n",
       "      <th>sizeCOUNT</th>\n",
       "      <th>modelNUNIQUE</th>\n",
       "      <th>modelCOUNT</th>\n",
       "      <th>...</th>\n",
       "      <th>len_titleMEAN</th>\n",
       "      <th>len_titleSTD</th>\n",
       "      <th>len_titleMIN</th>\n",
       "      <th>len_titleMAX</th>\n",
       "      <th>len_titleSUM</th>\n",
       "      <th>len_descMEAN</th>\n",
       "      <th>len_descSTD</th>\n",
       "      <th>len_descMIN</th>\n",
       "      <th>len_descMAX</th>\n",
       "      <th>len_descSUM</th>\n",
       "    </tr>\n",
       "    <tr>\n",
       "      <th>index</th>\n",
       "      <th></th>\n",
       "      <th></th>\n",
       "      <th></th>\n",
       "      <th></th>\n",
       "      <th></th>\n",
       "      <th></th>\n",
       "      <th></th>\n",
       "      <th></th>\n",
       "      <th></th>\n",
       "      <th></th>\n",
       "      <th></th>\n",
       "      <th></th>\n",
       "      <th></th>\n",
       "      <th></th>\n",
       "      <th></th>\n",
       "      <th></th>\n",
       "      <th></th>\n",
       "      <th></th>\n",
       "      <th></th>\n",
       "      <th></th>\n",
       "      <th></th>\n",
       "    </tr>\n",
       "  </thead>\n",
       "  <tbody>\n",
       "    <tr>\n",
       "      <th>0</th>\n",
       "      <td>9</td>\n",
       "      <td>12</td>\n",
       "      <td>3</td>\n",
       "      <td>12</td>\n",
       "      <td>5</td>\n",
       "      <td>12</td>\n",
       "      <td>2</td>\n",
       "      <td>12</td>\n",
       "      <td>6</td>\n",
       "      <td>12</td>\n",
       "      <td>...</td>\n",
       "      <td>163.333333</td>\n",
       "      <td>24.436684</td>\n",
       "      <td>126</td>\n",
       "      <td>195</td>\n",
       "      <td>1960</td>\n",
       "      <td>173.583333</td>\n",
       "      <td>34.057327</td>\n",
       "      <td>120</td>\n",
       "      <td>210</td>\n",
       "      <td>2083</td>\n",
       "    </tr>\n",
       "    <tr>\n",
       "      <th>1</th>\n",
       "      <td>2</td>\n",
       "      <td>3</td>\n",
       "      <td>1</td>\n",
       "      <td>3</td>\n",
       "      <td>1</td>\n",
       "      <td>3</td>\n",
       "      <td>2</td>\n",
       "      <td>3</td>\n",
       "      <td>1</td>\n",
       "      <td>3</td>\n",
       "      <td>...</td>\n",
       "      <td>79.666667</td>\n",
       "      <td>2.886751</td>\n",
       "      <td>78</td>\n",
       "      <td>83</td>\n",
       "      <td>239</td>\n",
       "      <td>44.000000</td>\n",
       "      <td>76.210236</td>\n",
       "      <td>0</td>\n",
       "      <td>132</td>\n",
       "      <td>132</td>\n",
       "    </tr>\n",
       "    <tr>\n",
       "      <th>2</th>\n",
       "      <td>3</td>\n",
       "      <td>4</td>\n",
       "      <td>2</td>\n",
       "      <td>4</td>\n",
       "      <td>3</td>\n",
       "      <td>4</td>\n",
       "      <td>1</td>\n",
       "      <td>4</td>\n",
       "      <td>3</td>\n",
       "      <td>4</td>\n",
       "      <td>...</td>\n",
       "      <td>141.250000</td>\n",
       "      <td>63.641574</td>\n",
       "      <td>46</td>\n",
       "      <td>179</td>\n",
       "      <td>565</td>\n",
       "      <td>137.750000</td>\n",
       "      <td>79.197538</td>\n",
       "      <td>26</td>\n",
       "      <td>213</td>\n",
       "      <td>551</td>\n",
       "    </tr>\n",
       "    <tr>\n",
       "      <th>3</th>\n",
       "      <td>11</td>\n",
       "      <td>20</td>\n",
       "      <td>4</td>\n",
       "      <td>20</td>\n",
       "      <td>6</td>\n",
       "      <td>20</td>\n",
       "      <td>1</td>\n",
       "      <td>20</td>\n",
       "      <td>2</td>\n",
       "      <td>20</td>\n",
       "      <td>...</td>\n",
       "      <td>123.250000</td>\n",
       "      <td>65.841017</td>\n",
       "      <td>20</td>\n",
       "      <td>194</td>\n",
       "      <td>2465</td>\n",
       "      <td>0.000000</td>\n",
       "      <td>0.000000</td>\n",
       "      <td>0</td>\n",
       "      <td>0</td>\n",
       "      <td>0</td>\n",
       "    </tr>\n",
       "    <tr>\n",
       "      <th>4</th>\n",
       "      <td>7</td>\n",
       "      <td>7</td>\n",
       "      <td>3</td>\n",
       "      <td>7</td>\n",
       "      <td>6</td>\n",
       "      <td>7</td>\n",
       "      <td>3</td>\n",
       "      <td>7</td>\n",
       "      <td>5</td>\n",
       "      <td>7</td>\n",
       "      <td>...</td>\n",
       "      <td>159.571429</td>\n",
       "      <td>46.396326</td>\n",
       "      <td>110</td>\n",
       "      <td>200</td>\n",
       "      <td>1117</td>\n",
       "      <td>337.285714</td>\n",
       "      <td>17.279220</td>\n",
       "      <td>324</td>\n",
       "      <td>372</td>\n",
       "      <td>2361</td>\n",
       "    </tr>\n",
       "  </tbody>\n",
       "</table>\n",
       "<p>5 rows × 29 columns</p>\n",
       "</div>"
      ],
      "text/plain": [
       "       idNUNIQUE  idCOUNT  brandNUNIQUE  brandCOUNT  colorNUNIQUE  colorCOUNT  \\\n",
       "index                                                                           \n",
       "0              9       12             3          12             5          12   \n",
       "1              2        3             1           3             1           3   \n",
       "2              3        4             2           4             3           4   \n",
       "3             11       20             4          20             6          20   \n",
       "4              7        7             3           7             6           7   \n",
       "\n",
       "       sizeNUNIQUE  sizeCOUNT  modelNUNIQUE  modelCOUNT  ...  len_titleMEAN  \\\n",
       "index                                                    ...                  \n",
       "0                2         12             6          12  ...     163.333333   \n",
       "1                2          3             1           3  ...      79.666667   \n",
       "2                1          4             3           4  ...     141.250000   \n",
       "3                1         20             2          20  ...     123.250000   \n",
       "4                3          7             5           7  ...     159.571429   \n",
       "\n",
       "       len_titleSTD  len_titleMIN  len_titleMAX  len_titleSUM  len_descMEAN  \\\n",
       "index                                                                         \n",
       "0         24.436684           126           195          1960    173.583333   \n",
       "1          2.886751            78            83           239     44.000000   \n",
       "2         63.641574            46           179           565    137.750000   \n",
       "3         65.841017            20           194          2465      0.000000   \n",
       "4         46.396326           110           200          1117    337.285714   \n",
       "\n",
       "       len_descSTD  len_descMIN  len_descMAX  len_descSUM  \n",
       "index                                                      \n",
       "0        34.057327          120          210         2083  \n",
       "1        76.210236            0          132          132  \n",
       "2        79.197538           26          213          551  \n",
       "3         0.000000            0            0            0  \n",
       "4        17.279220          324          372         2361  \n",
       "\n",
       "[5 rows x 29 columns]"
      ]
     },
     "execution_count": 97,
     "metadata": {},
     "output_type": "execute_result"
    }
   ],
   "source": [
    "df_test_seqs_feas.head()"
   ]
  },
  {
   "cell_type": "code",
   "execution_count": 98,
   "metadata": {},
   "outputs": [
    {
     "data": {
      "text/plain": [
       "(316971, 29)"
      ]
     },
     "execution_count": 98,
     "metadata": {},
     "output_type": "execute_result"
    }
   ],
   "source": [
    "df_test_seqs_feas.shape "
   ]
  },
  {
   "cell_type": "code",
   "execution_count": 111,
   "metadata": {},
   "outputs": [],
   "source": [
    "df_test_seqs_feas.to_csv('data/df_test_seqs_feas_all.csv', index=False)"
   ]
  },
  {
   "attachments": {},
   "cell_type": "markdown",
   "metadata": {},
   "source": [
    "训练集序列特征抽取"
   ]
  },
  {
   "cell_type": "code",
   "execution_count": 100,
   "metadata": {},
   "outputs": [],
   "source": [
    "df_train_seqs_feas = df_train_exploded_fea.groupby('index').agg(agg)"
   ]
  },
  {
   "cell_type": "code",
   "execution_count": 101,
   "metadata": {},
   "outputs": [],
   "source": [
    "df_train_seqs_feas.columns = pd.Index([e[0] + e[1].upper() for e in df_train_seqs_feas.columns.tolist()])"
   ]
  },
  {
   "cell_type": "code",
   "execution_count": 102,
   "metadata": {},
   "outputs": [
    {
     "data": {
      "text/html": [
       "<div>\n",
       "<style scoped>\n",
       "    .dataframe tbody tr th:only-of-type {\n",
       "        vertical-align: middle;\n",
       "    }\n",
       "\n",
       "    .dataframe tbody tr th {\n",
       "        vertical-align: top;\n",
       "    }\n",
       "\n",
       "    .dataframe thead th {\n",
       "        text-align: right;\n",
       "    }\n",
       "</style>\n",
       "<table border=\"1\" class=\"dataframe\">\n",
       "  <thead>\n",
       "    <tr style=\"text-align: right;\">\n",
       "      <th></th>\n",
       "      <th>idNUNIQUE</th>\n",
       "      <th>idCOUNT</th>\n",
       "      <th>brandNUNIQUE</th>\n",
       "      <th>brandCOUNT</th>\n",
       "      <th>colorNUNIQUE</th>\n",
       "      <th>colorCOUNT</th>\n",
       "      <th>sizeNUNIQUE</th>\n",
       "      <th>sizeCOUNT</th>\n",
       "      <th>modelNUNIQUE</th>\n",
       "      <th>modelCOUNT</th>\n",
       "      <th>...</th>\n",
       "      <th>len_titleMEAN</th>\n",
       "      <th>len_titleSTD</th>\n",
       "      <th>len_titleMIN</th>\n",
       "      <th>len_titleMAX</th>\n",
       "      <th>len_titleSUM</th>\n",
       "      <th>len_descMEAN</th>\n",
       "      <th>len_descSTD</th>\n",
       "      <th>len_descMIN</th>\n",
       "      <th>len_descMAX</th>\n",
       "      <th>len_descSUM</th>\n",
       "    </tr>\n",
       "    <tr>\n",
       "      <th>index</th>\n",
       "      <th></th>\n",
       "      <th></th>\n",
       "      <th></th>\n",
       "      <th></th>\n",
       "      <th></th>\n",
       "      <th></th>\n",
       "      <th></th>\n",
       "      <th></th>\n",
       "      <th></th>\n",
       "      <th></th>\n",
       "      <th></th>\n",
       "      <th></th>\n",
       "      <th></th>\n",
       "      <th></th>\n",
       "      <th></th>\n",
       "      <th></th>\n",
       "      <th></th>\n",
       "      <th></th>\n",
       "      <th></th>\n",
       "      <th></th>\n",
       "      <th></th>\n",
       "    </tr>\n",
       "  </thead>\n",
       "  <tbody>\n",
       "    <tr>\n",
       "      <th>0</th>\n",
       "      <td>2</td>\n",
       "      <td>2</td>\n",
       "      <td>1</td>\n",
       "      <td>2</td>\n",
       "      <td>2</td>\n",
       "      <td>2</td>\n",
       "      <td>1</td>\n",
       "      <td>2</td>\n",
       "      <td>1</td>\n",
       "      <td>2</td>\n",
       "      <td>...</td>\n",
       "      <td>197.500000</td>\n",
       "      <td>2.121320</td>\n",
       "      <td>196</td>\n",
       "      <td>199</td>\n",
       "      <td>395</td>\n",
       "      <td>226.500000</td>\n",
       "      <td>6.363961</td>\n",
       "      <td>222</td>\n",
       "      <td>231</td>\n",
       "      <td>453</td>\n",
       "    </tr>\n",
       "    <tr>\n",
       "      <th>1</th>\n",
       "      <td>4</td>\n",
       "      <td>4</td>\n",
       "      <td>4</td>\n",
       "      <td>4</td>\n",
       "      <td>4</td>\n",
       "      <td>4</td>\n",
       "      <td>3</td>\n",
       "      <td>4</td>\n",
       "      <td>3</td>\n",
       "      <td>4</td>\n",
       "      <td>...</td>\n",
       "      <td>122.000000</td>\n",
       "      <td>75.166482</td>\n",
       "      <td>36</td>\n",
       "      <td>195</td>\n",
       "      <td>488</td>\n",
       "      <td>126.750000</td>\n",
       "      <td>98.878292</td>\n",
       "      <td>7</td>\n",
       "      <td>222</td>\n",
       "      <td>507</td>\n",
       "    </tr>\n",
       "    <tr>\n",
       "      <th>2</th>\n",
       "      <td>2</td>\n",
       "      <td>9</td>\n",
       "      <td>1</td>\n",
       "      <td>9</td>\n",
       "      <td>1</td>\n",
       "      <td>9</td>\n",
       "      <td>1</td>\n",
       "      <td>9</td>\n",
       "      <td>1</td>\n",
       "      <td>9</td>\n",
       "      <td>...</td>\n",
       "      <td>121.111111</td>\n",
       "      <td>29.514591</td>\n",
       "      <td>90</td>\n",
       "      <td>146</td>\n",
       "      <td>1090</td>\n",
       "      <td>24.000000</td>\n",
       "      <td>0.000000</td>\n",
       "      <td>24</td>\n",
       "      <td>24</td>\n",
       "      <td>216</td>\n",
       "    </tr>\n",
       "    <tr>\n",
       "      <th>3</th>\n",
       "      <td>4</td>\n",
       "      <td>7</td>\n",
       "      <td>1</td>\n",
       "      <td>7</td>\n",
       "      <td>4</td>\n",
       "      <td>7</td>\n",
       "      <td>1</td>\n",
       "      <td>7</td>\n",
       "      <td>4</td>\n",
       "      <td>7</td>\n",
       "      <td>...</td>\n",
       "      <td>196.428571</td>\n",
       "      <td>4.466809</td>\n",
       "      <td>191</td>\n",
       "      <td>200</td>\n",
       "      <td>1375</td>\n",
       "      <td>348.714286</td>\n",
       "      <td>36.926568</td>\n",
       "      <td>314</td>\n",
       "      <td>409</td>\n",
       "      <td>2441</td>\n",
       "    </tr>\n",
       "    <tr>\n",
       "      <th>4</th>\n",
       "      <td>3</td>\n",
       "      <td>3</td>\n",
       "      <td>2</td>\n",
       "      <td>3</td>\n",
       "      <td>2</td>\n",
       "      <td>3</td>\n",
       "      <td>3</td>\n",
       "      <td>3</td>\n",
       "      <td>2</td>\n",
       "      <td>3</td>\n",
       "      <td>...</td>\n",
       "      <td>174.333333</td>\n",
       "      <td>31.785741</td>\n",
       "      <td>138</td>\n",
       "      <td>197</td>\n",
       "      <td>523</td>\n",
       "      <td>279.666667</td>\n",
       "      <td>120.088856</td>\n",
       "      <td>141</td>\n",
       "      <td>349</td>\n",
       "      <td>839</td>\n",
       "    </tr>\n",
       "  </tbody>\n",
       "</table>\n",
       "<p>5 rows × 29 columns</p>\n",
       "</div>"
      ],
      "text/plain": [
       "       idNUNIQUE  idCOUNT  brandNUNIQUE  brandCOUNT  colorNUNIQUE  colorCOUNT  \\\n",
       "index                                                                           \n",
       "0              2        2             1           2             2           2   \n",
       "1              4        4             4           4             4           4   \n",
       "2              2        9             1           9             1           9   \n",
       "3              4        7             1           7             4           7   \n",
       "4              3        3             2           3             2           3   \n",
       "\n",
       "       sizeNUNIQUE  sizeCOUNT  modelNUNIQUE  modelCOUNT  ...  len_titleMEAN  \\\n",
       "index                                                    ...                  \n",
       "0                1          2             1           2  ...     197.500000   \n",
       "1                3          4             3           4  ...     122.000000   \n",
       "2                1          9             1           9  ...     121.111111   \n",
       "3                1          7             4           7  ...     196.428571   \n",
       "4                3          3             2           3  ...     174.333333   \n",
       "\n",
       "       len_titleSTD  len_titleMIN  len_titleMAX  len_titleSUM  len_descMEAN  \\\n",
       "index                                                                         \n",
       "0          2.121320           196           199           395    226.500000   \n",
       "1         75.166482            36           195           488    126.750000   \n",
       "2         29.514591            90           146          1090     24.000000   \n",
       "3          4.466809           191           200          1375    348.714286   \n",
       "4         31.785741           138           197           523    279.666667   \n",
       "\n",
       "       len_descSTD  len_descMIN  len_descMAX  len_descSUM  \n",
       "index                                                      \n",
       "0         6.363961          222          231          453  \n",
       "1        98.878292            7          222          507  \n",
       "2         0.000000           24           24          216  \n",
       "3        36.926568          314          409         2441  \n",
       "4       120.088856          141          349          839  \n",
       "\n",
       "[5 rows x 29 columns]"
      ]
     },
     "execution_count": 102,
     "metadata": {},
     "output_type": "execute_result"
    }
   ],
   "source": [
    "df_train_seqs_feas.head()"
   ]
  },
  {
   "cell_type": "code",
   "execution_count": 107,
   "metadata": {},
   "outputs": [
    {
     "data": {
      "text/plain": [
       "(3606249, 29)"
      ]
     },
     "execution_count": 107,
     "metadata": {},
     "output_type": "execute_result"
    }
   ],
   "source": [
    "df_train_seqs_feas.shape"
   ]
  },
  {
   "cell_type": "code",
   "execution_count": 110,
   "metadata": {},
   "outputs": [],
   "source": [
    "df_train_seqs_feas.to_csv('data/df_train_seqs_feas_all.csv', index=False)"
   ]
  },
  {
   "cell_type": "code",
   "execution_count": 103,
   "metadata": {},
   "outputs": [
    {
     "data": {
      "text/plain": [
       "Index(['idNUNIQUE', 'idCOUNT', 'brandNUNIQUE', 'brandCOUNT', 'colorNUNIQUE',\n",
       "       'colorCOUNT', 'sizeNUNIQUE', 'sizeCOUNT', 'modelNUNIQUE', 'modelCOUNT',\n",
       "       'materialNUNIQUE', 'materialCOUNT', 'authorNUNIQUE', 'authorCOUNT',\n",
       "       'priceMEAN', 'priceSTD', 'priceMIN', 'priceMAX', 'priceSUM',\n",
       "       'len_titleMEAN', 'len_titleSTD', 'len_titleMIN', 'len_titleMAX',\n",
       "       'len_titleSUM', 'len_descMEAN', 'len_descSTD', 'len_descMIN',\n",
       "       'len_descMAX', 'len_descSUM'],\n",
       "      dtype='object')"
      ]
     },
     "execution_count": 103,
     "metadata": {},
     "output_type": "execute_result"
    }
   ],
   "source": [
    "df_train_seqs_feas.columns"
   ]
  },
  {
   "cell_type": "code",
   "execution_count": 104,
   "metadata": {},
   "outputs": [],
   "source": [
    "seqs_cat_feas = [f for f in df_train_seqs_feas.columns if 'NUNIQUE' in f or 'COUNT' in f]"
   ]
  },
  {
   "cell_type": "code",
   "execution_count": 105,
   "metadata": {},
   "outputs": [],
   "source": [
    "seqs_num_feas = [f for f in df_train_seqs_feas.columns if f not in seqs_cat_feas]"
   ]
  },
  {
   "cell_type": "code",
   "execution_count": 106,
   "metadata": {},
   "outputs": [
    {
     "data": {
      "text/plain": [
       "priceMEAN        False\n",
       "priceSTD         False\n",
       "priceMIN         False\n",
       "priceMAX         False\n",
       "priceSUM         False\n",
       "len_titleMEAN    False\n",
       "len_titleSTD     False\n",
       "len_titleMIN     False\n",
       "len_titleMAX     False\n",
       "len_titleSUM     False\n",
       "len_descMEAN     False\n",
       "len_descSTD      False\n",
       "len_descMIN      False\n",
       "len_descMAX      False\n",
       "len_descSUM      False\n",
       "dtype: bool"
      ]
     },
     "execution_count": 106,
     "metadata": {},
     "output_type": "execute_result"
    }
   ],
   "source": [
    "df_train_seqs_feas[seqs_num_feas].isna().any()"
   ]
  },
  {
   "cell_type": "code",
   "execution_count": 58,
   "metadata": {},
   "outputs": [],
   "source": [
    "tmp = pd.concat([df_train_seqs_feas[seqs_cat_feas], df_test_seqs_feas[seqs_cat_feas]])"
   ]
  },
  {
   "cell_type": "code",
   "execution_count": 59,
   "metadata": {},
   "outputs": [
    {
     "data": {
      "text/plain": [
       "(3923220, 14)"
      ]
     },
     "execution_count": 59,
     "metadata": {},
     "output_type": "execute_result"
    }
   ],
   "source": [
    "tmp.shape "
   ]
  },
  {
   "cell_type": "code",
   "execution_count": 61,
   "metadata": {},
   "outputs": [
    {
     "data": {
      "text/plain": [
       "{'idNUNIQUE': 113,\n",
       " 'idCOUNT': 135,\n",
       " 'brandNUNIQUE': 37,\n",
       " 'brandCOUNT': 118,\n",
       " 'colorNUNIQUE': 53,\n",
       " 'colorCOUNT': 110,\n",
       " 'sizeNUNIQUE': 60,\n",
       " 'sizeCOUNT': 106,\n",
       " 'modelNUNIQUE': 51,\n",
       " 'modelCOUNT': 92,\n",
       " 'materialNUNIQUE': 22,\n",
       " 'materialCOUNT': 102,\n",
       " 'authorNUNIQUE': 45,\n",
       " 'authorCOUNT': 122}"
      ]
     },
     "execution_count": 61,
     "metadata": {},
     "output_type": "execute_result"
    }
   ],
   "source": [
    "tmp.nunique().to_dict()"
   ]
  },
  {
   "cell_type": "code",
   "execution_count": 72,
   "metadata": {},
   "outputs": [
    {
     "data": {
      "text/plain": [
       "{'idNUNIQUE': 133,\n",
       " 'idCOUNT': 475,\n",
       " 'brandNUNIQUE': 39,\n",
       " 'brandCOUNT': 475,\n",
       " 'colorNUNIQUE': 53,\n",
       " 'colorCOUNT': 269,\n",
       " 'sizeNUNIQUE': 115,\n",
       " 'sizeCOUNT': 475,\n",
       " 'modelNUNIQUE': 59,\n",
       " 'modelCOUNT': 475,\n",
       " 'materialNUNIQUE': 25,\n",
       " 'materialCOUNT': 475,\n",
       " 'authorNUNIQUE': 65,\n",
       " 'authorCOUNT': 190}"
      ]
     },
     "execution_count": 72,
     "metadata": {},
     "output_type": "execute_result"
    }
   ],
   "source": [
    "(tmp.max() + 1).to_dict()"
   ]
  },
  {
   "cell_type": "code",
   "execution_count": 67,
   "metadata": {},
   "outputs": [
    {
     "data": {
      "text/plain": [
       "idNUNIQUE          132\n",
       "idCOUNT            474\n",
       "brandNUNIQUE        38\n",
       "brandCOUNT         474\n",
       "colorNUNIQUE        52\n",
       "colorCOUNT         268\n",
       "sizeNUNIQUE        114\n",
       "sizeCOUNT          474\n",
       "modelNUNIQUE        58\n",
       "modelCOUNT         474\n",
       "materialNUNIQUE     24\n",
       "materialCOUNT      474\n",
       "authorNUNIQUE       64\n",
       "authorCOUNT        189\n",
       "dtype: int64"
      ]
     },
     "execution_count": 67,
     "metadata": {},
     "output_type": "execute_result"
    }
   ],
   "source": [
    "df_train_seqs_feas[seqs_cat_feas].max()"
   ]
  },
  {
   "cell_type": "code",
   "execution_count": 69,
   "metadata": {},
   "outputs": [
    {
     "data": {
      "text/plain": [
       "idNUNIQUE           80\n",
       "idCOUNT            112\n",
       "brandNUNIQUE        33\n",
       "brandCOUNT         112\n",
       "colorNUNIQUE        38\n",
       "colorCOUNT         112\n",
       "sizeNUNIQUE         22\n",
       "sizeCOUNT          112\n",
       "modelNUNIQUE        41\n",
       "modelCOUNT          66\n",
       "materialNUNIQUE     12\n",
       "materialCOUNT       70\n",
       "authorNUNIQUE       28\n",
       "authorCOUNT        109\n",
       "dtype: int64"
      ]
     },
     "execution_count": 69,
     "metadata": {},
     "output_type": "execute_result"
    }
   ],
   "source": [
    "df_test_seqs_feas[seqs_cat_feas].max()"
   ]
  },
  {
   "cell_type": "code",
   "execution_count": 62,
   "metadata": {},
   "outputs": [
    {
     "data": {
      "text/plain": [
       "idNUNIQUE          113\n",
       "idCOUNT            134\n",
       "brandNUNIQUE        37\n",
       "brandCOUNT         117\n",
       "colorNUNIQUE        53\n",
       "colorCOUNT         109\n",
       "sizeNUNIQUE         60\n",
       "sizeCOUNT          105\n",
       "modelNUNIQUE        51\n",
       "modelCOUNT          92\n",
       "materialNUNIQUE     22\n",
       "materialCOUNT      102\n",
       "authorNUNIQUE       45\n",
       "authorCOUNT        121\n",
       "dtype: int64"
      ]
     },
     "execution_count": 62,
     "metadata": {},
     "output_type": "execute_result"
    }
   ],
   "source": [
    "df_train_seqs_feas[seqs_cat_feas].nunique()"
   ]
  },
  {
   "cell_type": "code",
   "execution_count": 56,
   "metadata": {},
   "outputs": [
    {
     "data": {
      "text/plain": [
       "idNUNIQUE          47\n",
       "idCOUNT            63\n",
       "brandNUNIQUE       28\n",
       "brandCOUNT         61\n",
       "colorNUNIQUE       30\n",
       "colorCOUNT         58\n",
       "sizeNUNIQUE        22\n",
       "sizeCOUNT          53\n",
       "modelNUNIQUE       30\n",
       "modelCOUNT         49\n",
       "materialNUNIQUE    13\n",
       "materialCOUNT      50\n",
       "authorNUNIQUE      21\n",
       "authorCOUNT        37\n",
       "dtype: int64"
      ]
     },
     "execution_count": 56,
     "metadata": {},
     "output_type": "execute_result"
    }
   ],
   "source": [
    "df_test_seqs_feas[seqs_cat_feas].nunique()"
   ]
  },
  {
   "cell_type": "code",
   "execution_count": 64,
   "metadata": {},
   "outputs": [
    {
     "data": {
      "text/html": [
       "<div>\n",
       "<style scoped>\n",
       "    .dataframe tbody tr th:only-of-type {\n",
       "        vertical-align: middle;\n",
       "    }\n",
       "\n",
       "    .dataframe tbody tr th {\n",
       "        vertical-align: top;\n",
       "    }\n",
       "\n",
       "    .dataframe thead th {\n",
       "        text-align: right;\n",
       "    }\n",
       "</style>\n",
       "<table border=\"1\" class=\"dataframe\">\n",
       "  <thead>\n",
       "    <tr style=\"text-align: right;\">\n",
       "      <th></th>\n",
       "      <th>priceMEAN</th>\n",
       "      <th>priceSTD</th>\n",
       "      <th>priceMIN</th>\n",
       "      <th>priceMAX</th>\n",
       "      <th>priceSUM</th>\n",
       "      <th>len_titleMEAN</th>\n",
       "      <th>len_titleSTD</th>\n",
       "      <th>len_titleMIN</th>\n",
       "      <th>len_titleMAX</th>\n",
       "      <th>len_titleSUM</th>\n",
       "      <th>len_descMEAN</th>\n",
       "      <th>len_descSTD</th>\n",
       "      <th>len_descMIN</th>\n",
       "      <th>len_descMAX</th>\n",
       "      <th>len_descSUM</th>\n",
       "    </tr>\n",
       "    <tr>\n",
       "      <th>index</th>\n",
       "      <th></th>\n",
       "      <th></th>\n",
       "      <th></th>\n",
       "      <th></th>\n",
       "      <th></th>\n",
       "      <th></th>\n",
       "      <th></th>\n",
       "      <th></th>\n",
       "      <th></th>\n",
       "      <th></th>\n",
       "      <th></th>\n",
       "      <th></th>\n",
       "      <th></th>\n",
       "      <th></th>\n",
       "      <th></th>\n",
       "    </tr>\n",
       "  </thead>\n",
       "  <tbody>\n",
       "    <tr>\n",
       "      <th>0</th>\n",
       "      <td>38.490000</td>\n",
       "      <td>2.121320</td>\n",
       "      <td>36.99</td>\n",
       "      <td>39.99</td>\n",
       "      <td>76.98</td>\n",
       "      <td>197.500000</td>\n",
       "      <td>2.121320</td>\n",
       "      <td>196.0</td>\n",
       "      <td>199.0</td>\n",
       "      <td>395.0</td>\n",
       "      <td>226.500000</td>\n",
       "      <td>6.363961</td>\n",
       "      <td>222.0</td>\n",
       "      <td>231.0</td>\n",
       "      <td>453.0</td>\n",
       "    </tr>\n",
       "    <tr>\n",
       "      <th>1</th>\n",
       "      <td>31.762500</td>\n",
       "      <td>10.929280</td>\n",
       "      <td>16.99</td>\n",
       "      <td>40.27</td>\n",
       "      <td>127.05</td>\n",
       "      <td>122.000000</td>\n",
       "      <td>75.166482</td>\n",
       "      <td>36.0</td>\n",
       "      <td>195.0</td>\n",
       "      <td>488.0</td>\n",
       "      <td>126.750000</td>\n",
       "      <td>98.878292</td>\n",
       "      <td>7.0</td>\n",
       "      <td>222.0</td>\n",
       "      <td>507.0</td>\n",
       "    </tr>\n",
       "    <tr>\n",
       "      <th>2</th>\n",
       "      <td>60.873333</td>\n",
       "      <td>8.427470</td>\n",
       "      <td>51.99</td>\n",
       "      <td>67.98</td>\n",
       "      <td>547.86</td>\n",
       "      <td>121.111111</td>\n",
       "      <td>29.514591</td>\n",
       "      <td>90.0</td>\n",
       "      <td>146.0</td>\n",
       "      <td>1090.0</td>\n",
       "      <td>24.000000</td>\n",
       "      <td>0.000000</td>\n",
       "      <td>24.0</td>\n",
       "      <td>24.0</td>\n",
       "      <td>216.0</td>\n",
       "    </tr>\n",
       "    <tr>\n",
       "      <th>3</th>\n",
       "      <td>14.418571</td>\n",
       "      <td>0.534522</td>\n",
       "      <td>13.99</td>\n",
       "      <td>14.99</td>\n",
       "      <td>100.93</td>\n",
       "      <td>196.428571</td>\n",
       "      <td>4.466809</td>\n",
       "      <td>191.0</td>\n",
       "      <td>200.0</td>\n",
       "      <td>1375.0</td>\n",
       "      <td>348.714286</td>\n",
       "      <td>36.926568</td>\n",
       "      <td>314.0</td>\n",
       "      <td>409.0</td>\n",
       "      <td>2441.0</td>\n",
       "    </tr>\n",
       "    <tr>\n",
       "      <th>4</th>\n",
       "      <td>23.656667</td>\n",
       "      <td>11.590226</td>\n",
       "      <td>12.99</td>\n",
       "      <td>35.99</td>\n",
       "      <td>70.97</td>\n",
       "      <td>174.333333</td>\n",
       "      <td>31.785741</td>\n",
       "      <td>138.0</td>\n",
       "      <td>197.0</td>\n",
       "      <td>523.0</td>\n",
       "      <td>279.666667</td>\n",
       "      <td>120.088856</td>\n",
       "      <td>141.0</td>\n",
       "      <td>349.0</td>\n",
       "      <td>839.0</td>\n",
       "    </tr>\n",
       "  </tbody>\n",
       "</table>\n",
       "</div>"
      ],
      "text/plain": [
       "       priceMEAN   priceSTD  priceMIN  priceMAX  priceSUM  len_titleMEAN  \\\n",
       "index                                                                      \n",
       "0      38.490000   2.121320     36.99     39.99     76.98     197.500000   \n",
       "1      31.762500  10.929280     16.99     40.27    127.05     122.000000   \n",
       "2      60.873333   8.427470     51.99     67.98    547.86     121.111111   \n",
       "3      14.418571   0.534522     13.99     14.99    100.93     196.428571   \n",
       "4      23.656667  11.590226     12.99     35.99     70.97     174.333333   \n",
       "\n",
       "       len_titleSTD  len_titleMIN  len_titleMAX  len_titleSUM  len_descMEAN  \\\n",
       "index                                                                         \n",
       "0          2.121320         196.0         199.0         395.0    226.500000   \n",
       "1         75.166482          36.0         195.0         488.0    126.750000   \n",
       "2         29.514591          90.0         146.0        1090.0     24.000000   \n",
       "3          4.466809         191.0         200.0        1375.0    348.714286   \n",
       "4         31.785741         138.0         197.0         523.0    279.666667   \n",
       "\n",
       "       len_descSTD  len_descMIN  len_descMAX  len_descSUM  \n",
       "index                                                      \n",
       "0         6.363961        222.0        231.0        453.0  \n",
       "1        98.878292          7.0        222.0        507.0  \n",
       "2         0.000000         24.0         24.0        216.0  \n",
       "3        36.926568        314.0        409.0       2441.0  \n",
       "4       120.088856        141.0        349.0        839.0  "
      ]
     },
     "execution_count": 64,
     "metadata": {},
     "output_type": "execute_result"
    }
   ],
   "source": [
    "df_train_seqs_feas[seqs_num_feas].head()"
   ]
  },
  {
   "cell_type": "code",
   "execution_count": 57,
   "metadata": {},
   "outputs": [
    {
     "data": {
      "text/plain": [
       "(316971, 15)"
      ]
     },
     "execution_count": 57,
     "metadata": {},
     "output_type": "execute_result"
    }
   ],
   "source": [
    "df_test_seqs_feas[seqs_num_feas].values.shape"
   ]
  },
  {
   "cell_type": "code",
   "execution_count": 65,
   "metadata": {},
   "outputs": [],
   "source": [
    "# df_train_seqs_feas.to_csv('data/df_train_seqs_feas_all.csv', index=False)"
   ]
  },
  {
   "cell_type": "code",
   "execution_count": 55,
   "metadata": {},
   "outputs": [
    {
     "data": {
      "text/html": [
       "<div>\n",
       "<style scoped>\n",
       "    .dataframe tbody tr th:only-of-type {\n",
       "        vertical-align: middle;\n",
       "    }\n",
       "\n",
       "    .dataframe tbody tr th {\n",
       "        vertical-align: top;\n",
       "    }\n",
       "\n",
       "    .dataframe thead th {\n",
       "        text-align: right;\n",
       "    }\n",
       "</style>\n",
       "<table border=\"1\" class=\"dataframe\">\n",
       "  <thead>\n",
       "    <tr style=\"text-align: right;\">\n",
       "      <th></th>\n",
       "      <th></th>\n",
       "      <th>title</th>\n",
       "      <th>price</th>\n",
       "      <th>brand</th>\n",
       "      <th>color</th>\n",
       "      <th>size</th>\n",
       "      <th>model</th>\n",
       "      <th>material</th>\n",
       "      <th>author</th>\n",
       "      <th>desc</th>\n",
       "      <th>len_title</th>\n",
       "      <th>len_desc</th>\n",
       "    </tr>\n",
       "    <tr>\n",
       "      <th>id</th>\n",
       "      <th>locale</th>\n",
       "      <th></th>\n",
       "      <th></th>\n",
       "      <th></th>\n",
       "      <th></th>\n",
       "      <th></th>\n",
       "      <th></th>\n",
       "      <th></th>\n",
       "      <th></th>\n",
       "      <th></th>\n",
       "      <th></th>\n",
       "      <th></th>\n",
       "    </tr>\n",
       "  </thead>\n",
       "  <tbody>\n",
       "    <tr>\n",
       "      <th>B005ZSSN10</th>\n",
       "      <th>DE</th>\n",
       "      <td>RED DRAGON Amberjack 3 - Steel Tip 22 Gramm Wo...</td>\n",
       "      <td>30.95</td>\n",
       "      <td>105804</td>\n",
       "      <td>199923</td>\n",
       "      <td>213319</td>\n",
       "      <td>399670</td>\n",
       "      <td>44782</td>\n",
       "      <td>29259</td>\n",
       "      <td>Amberjacks Steel Dartpfeile sind verfügbar in ...</td>\n",
       "      <td>96</td>\n",
       "      <td>121</td>\n",
       "    </tr>\n",
       "    <tr>\n",
       "      <th>B08PRYN6LD</th>\n",
       "      <th>DE</th>\n",
       "      <td>Simply Keto Lower Carb* Schokodrops ohne Zucke...</td>\n",
       "      <td>17.90</td>\n",
       "      <td>117662</td>\n",
       "      <td>199923</td>\n",
       "      <td>124815</td>\n",
       "      <td>492997</td>\n",
       "      <td>44782</td>\n",
       "      <td>29259</td>\n",
       "      <td>🌱 NATÜRLICHE SÜSSE DURCH ERYTHRIT - Wir stelle...</td>\n",
       "      <td>186</td>\n",
       "      <td>330</td>\n",
       "    </tr>\n",
       "    <tr>\n",
       "      <th>B09MBZJ48V</th>\n",
       "      <th>DE</th>\n",
       "      <td>Sennheiser 508377 PC 5.2 Chat, Stilvolles Mult...</td>\n",
       "      <td>68.89</td>\n",
       "      <td>116175</td>\n",
       "      <td>112280</td>\n",
       "      <td>166049</td>\n",
       "      <td>135239</td>\n",
       "      <td>15196</td>\n",
       "      <td>29259</td>\n",
       "      <td>3.5 MM BUCHSE - Kann problemlos an Geräte mit ...</td>\n",
       "      <td>181</td>\n",
       "      <td>95</td>\n",
       "    </tr>\n",
       "    <tr>\n",
       "      <th>B08ZN6F26S</th>\n",
       "      <th>DE</th>\n",
       "      <td>AmyBenton Auto ab 1 2 3 ahre - Baby Aufziehbar...</td>\n",
       "      <td>18.99</td>\n",
       "      <td>9251</td>\n",
       "      <td>46812</td>\n",
       "      <td>213319</td>\n",
       "      <td>62805</td>\n",
       "      <td>28665</td>\n",
       "      <td>29259</td>\n",
       "      <td>【Auto aufziehbar】: Drücken Sie einfach leicht ...</td>\n",
       "      <td>101</td>\n",
       "      <td>191</td>\n",
       "    </tr>\n",
       "    <tr>\n",
       "      <th>B094DGRV7D</th>\n",
       "      <th>DE</th>\n",
       "      <td>PLAYMOBIL - 70522 - Cavaliere mit grauem Pony</td>\n",
       "      <td>7.17</td>\n",
       "      <td>99190</td>\n",
       "      <td>115345</td>\n",
       "      <td>166088</td>\n",
       "      <td>162740</td>\n",
       "      <td>22373</td>\n",
       "      <td>29259</td>\n",
       "      <td>Inhalt: 1 Stück</td>\n",
       "      <td>45</td>\n",
       "      <td>15</td>\n",
       "    </tr>\n",
       "    <tr>\n",
       "      <th>...</th>\n",
       "      <th>...</th>\n",
       "      <td>...</td>\n",
       "      <td>...</td>\n",
       "      <td>...</td>\n",
       "      <td>...</td>\n",
       "      <td>...</td>\n",
       "      <td>...</td>\n",
       "      <td>...</td>\n",
       "      <td>...</td>\n",
       "      <td>...</td>\n",
       "      <td>...</td>\n",
       "      <td>...</td>\n",
       "    </tr>\n",
       "    <tr>\n",
       "      <th>B08D7KW8VK</th>\n",
       "      <th>UK</th>\n",
       "      <td>TOMHOUSEE Anime Cosplay Short Straight Hair Wi...</td>\n",
       "      <td>9.99</td>\n",
       "      <td>123307</td>\n",
       "      <td>75921</td>\n",
       "      <td>213319</td>\n",
       "      <td>492997</td>\n",
       "      <td>26052</td>\n",
       "      <td>29259</td>\n",
       "      <td>NaN</td>\n",
       "      <td>124</td>\n",
       "      <td>0</td>\n",
       "    </tr>\n",
       "    <tr>\n",
       "      <th>B073WXLXR9</th>\n",
       "      <th>UK</th>\n",
       "      <td>Crystals NEW brilliant ink twister bingo dabbe...</td>\n",
       "      <td>8.99</td>\n",
       "      <td>25194</td>\n",
       "      <td>118197</td>\n",
       "      <td>213319</td>\n",
       "      <td>492997</td>\n",
       "      <td>20933</td>\n",
       "      <td>29259</td>\n",
       "      <td>NaN</td>\n",
       "      <td>85</td>\n",
       "      <td>0</td>\n",
       "    </tr>\n",
       "    <tr>\n",
       "      <th>1529393833</th>\n",
       "      <th>UK</th>\n",
       "      <td>Before I Do: the new, funny and unexpected lov...</td>\n",
       "      <td>4.50</td>\n",
       "      <td>61247</td>\n",
       "      <td>199923</td>\n",
       "      <td>213319</td>\n",
       "      <td>492997</td>\n",
       "      <td>44782</td>\n",
       "      <td>6063</td>\n",
       "      <td>NaN</td>\n",
       "      <td>92</td>\n",
       "      <td>0</td>\n",
       "    </tr>\n",
       "    <tr>\n",
       "      <th>B0B3TJ1NDN</th>\n",
       "      <th>UK</th>\n",
       "      <td>Black iPhone Charger Cable, iPhone Charger Bra...</td>\n",
       "      <td>4.49</td>\n",
       "      <td>1865</td>\n",
       "      <td>54264</td>\n",
       "      <td>68445</td>\n",
       "      <td>476825</td>\n",
       "      <td>18715</td>\n",
       "      <td>29259</td>\n",
       "      <td>Added Protection: An additional layer of prote...</td>\n",
       "      <td>172</td>\n",
       "      <td>186</td>\n",
       "    </tr>\n",
       "    <tr>\n",
       "      <th>B00HUBEG3Y</th>\n",
       "      <th>UK</th>\n",
       "      <td>Kids B Crafty 100 Mini Pegs, Mini Wooden Pegs,...</td>\n",
       "      <td>3.99</td>\n",
       "      <td>72972</td>\n",
       "      <td>199923</td>\n",
       "      <td>213319</td>\n",
       "      <td>492997</td>\n",
       "      <td>7144</td>\n",
       "      <td>29259</td>\n",
       "      <td>🔵 Mini Pegs : 100 Wooden Pegs For Decoration, ...</td>\n",
       "      <td>129</td>\n",
       "      <td>77</td>\n",
       "    </tr>\n",
       "  </tbody>\n",
       "</table>\n",
       "<p>1413516 rows × 11 columns</p>\n",
       "</div>"
      ],
      "text/plain": [
       "                                                               title  price  \\\n",
       "id         locale                                                             \n",
       "B005ZSSN10 DE      RED DRAGON Amberjack 3 - Steel Tip 22 Gramm Wo...  30.95   \n",
       "B08PRYN6LD DE      Simply Keto Lower Carb* Schokodrops ohne Zucke...  17.90   \n",
       "B09MBZJ48V DE      Sennheiser 508377 PC 5.2 Chat, Stilvolles Mult...  68.89   \n",
       "B08ZN6F26S DE      AmyBenton Auto ab 1 2 3 ahre - Baby Aufziehbar...  18.99   \n",
       "B094DGRV7D DE          PLAYMOBIL - 70522 - Cavaliere mit grauem Pony   7.17   \n",
       "...                                                              ...    ...   \n",
       "B08D7KW8VK UK      TOMHOUSEE Anime Cosplay Short Straight Hair Wi...   9.99   \n",
       "B073WXLXR9 UK      Crystals NEW brilliant ink twister bingo dabbe...   8.99   \n",
       "1529393833 UK      Before I Do: the new, funny and unexpected lov...   4.50   \n",
       "B0B3TJ1NDN UK      Black iPhone Charger Cable, iPhone Charger Bra...   4.49   \n",
       "B00HUBEG3Y UK      Kids B Crafty 100 Mini Pegs, Mini Wooden Pegs,...   3.99   \n",
       "\n",
       "                    brand   color    size   model  material  author  \\\n",
       "id         locale                                                     \n",
       "B005ZSSN10 DE      105804  199923  213319  399670     44782   29259   \n",
       "B08PRYN6LD DE      117662  199923  124815  492997     44782   29259   \n",
       "B09MBZJ48V DE      116175  112280  166049  135239     15196   29259   \n",
       "B08ZN6F26S DE        9251   46812  213319   62805     28665   29259   \n",
       "B094DGRV7D DE       99190  115345  166088  162740     22373   29259   \n",
       "...                   ...     ...     ...     ...       ...     ...   \n",
       "B08D7KW8VK UK      123307   75921  213319  492997     26052   29259   \n",
       "B073WXLXR9 UK       25194  118197  213319  492997     20933   29259   \n",
       "1529393833 UK       61247  199923  213319  492997     44782    6063   \n",
       "B0B3TJ1NDN UK        1865   54264   68445  476825     18715   29259   \n",
       "B00HUBEG3Y UK       72972  199923  213319  492997      7144   29259   \n",
       "\n",
       "                                                                desc  \\\n",
       "id         locale                                                      \n",
       "B005ZSSN10 DE      Amberjacks Steel Dartpfeile sind verfügbar in ...   \n",
       "B08PRYN6LD DE      🌱 NATÜRLICHE SÜSSE DURCH ERYTHRIT - Wir stelle...   \n",
       "B09MBZJ48V DE      3.5 MM BUCHSE - Kann problemlos an Geräte mit ...   \n",
       "B08ZN6F26S DE      【Auto aufziehbar】: Drücken Sie einfach leicht ...   \n",
       "B094DGRV7D DE                                        Inhalt: 1 Stück   \n",
       "...                                                              ...   \n",
       "B08D7KW8VK UK                                                    NaN   \n",
       "B073WXLXR9 UK                                                    NaN   \n",
       "1529393833 UK                                                    NaN   \n",
       "B0B3TJ1NDN UK      Added Protection: An additional layer of prote...   \n",
       "B00HUBEG3Y UK      🔵 Mini Pegs : 100 Wooden Pegs For Decoration, ...   \n",
       "\n",
       "                   len_title  len_desc  \n",
       "id         locale                       \n",
       "B005ZSSN10 DE             96       121  \n",
       "B08PRYN6LD DE            186       330  \n",
       "B09MBZJ48V DE            181        95  \n",
       "B08ZN6F26S DE            101       191  \n",
       "B094DGRV7D DE             45        15  \n",
       "...                      ...       ...  \n",
       "B08D7KW8VK UK            124         0  \n",
       "B073WXLXR9 UK             85         0  \n",
       "1529393833 UK             92         0  \n",
       "B0B3TJ1NDN UK            172       186  \n",
       "B00HUBEG3Y UK            129        77  \n",
       "\n",
       "[1413516 rows x 11 columns]"
      ]
     },
     "execution_count": 55,
     "metadata": {},
     "output_type": "execute_result"
    }
   ],
   "source": [
    "products"
   ]
  },
  {
   "cell_type": "code",
   "execution_count": 56,
   "metadata": {},
   "outputs": [
    {
     "data": {
      "text/plain": [
       "Index(['title', 'price', 'brand', 'color', 'size', 'model', 'material',\n",
       "       'author', 'desc', 'len_title', 'len_desc'],\n",
       "      dtype='object')"
      ]
     },
     "execution_count": 56,
     "metadata": {},
     "output_type": "execute_result"
    }
   ],
   "source": [
    "products.columns"
   ]
  },
  {
   "cell_type": "code",
   "execution_count": 57,
   "metadata": {},
   "outputs": [],
   "source": [
    "products_use = products[['price', 'brand', 'color', 'size', 'model', 'material', 'author', 'len_title', 'len_desc']]"
   ]
  },
  {
   "cell_type": "code",
   "execution_count": 58,
   "metadata": {},
   "outputs": [
    {
     "data": {
      "text/plain": [
       "[30.95, 105804.0, 199923.0, 213319.0, 399670.0, 44782.0, 29259.0, 96.0, 121.0]"
      ]
     },
     "execution_count": 58,
     "metadata": {},
     "output_type": "execute_result"
    }
   ],
   "source": [
    "products_use.loc[('B005ZSSN10', 'DE')].values.tolist()"
   ]
  },
  {
   "attachments": {},
   "cell_type": "markdown",
   "metadata": {},
   "source": [
    "# 排序"
   ]
  },
  {
   "cell_type": "code",
   "execution_count": 63,
   "metadata": {},
   "outputs": [],
   "source": [
    "# def get_feature(index, train_seq, seq_featurs_index):\n",
    "#     train_fea = []\n",
    "\n",
    "#     label = train_seq['next_item'].iloc[0]\n",
    "#     last_item = df_train['last_item'].iloc[0]\n",
    "#     if last_item in next_item_map:\n",
    "#         next_item_prediction = next_item_map[last_item]\n",
    "#     else:\n",
    "#         next_item_prediction = []\n",
    "#     # print(next_item_prediction)\n",
    "#     prev_items = list(train_seq['id'])\n",
    "#     locale = train_seq['locale'].iloc[0]\n",
    "#     loc_id = loc2id[locale]  # 地区ID\n",
    "\n",
    "#     candidate_id = []\n",
    "#     candidate_id = next_item_prediction  # 1-hop预测的结果\n",
    "#     if len(next_item_prediction) == 0:  # pred=nan, 训练集的last_item在之间没有统计出来下一跳，此时用最热门代替\n",
    "#         candidate_id = top200[:100]\n",
    "#     else:\n",
    "#         if len(candidate_id) < 100:  # 小于100，从最热门选\n",
    "#             for i in top200:\n",
    "#                 if i not in candidate_id and i not in prev_items:\n",
    "#                     candidate_id.append(i)\n",
    "#                 if len(candidate_id) >= 100:\n",
    "#                     break\n",
    "#         else:\n",
    "#             candidate_id = candidate_id[:100]\n",
    "#     # 其他召回策略，比如hop200, w2v等\n",
    "#     # 另外，这个位置的写法之后改成芒果TV的做法，比如nan的时候直接top200也可能会有历史重复的物品，这样不太好！！！\n",
    "#     # 目前先验证这个固定的召回+排序之后会不会编号\n",
    "    \n",
    "#     # 构造一些序列特征 根据历史的seq，就是seq_featurs_index\n",
    "    \n",
    "#     # TODO: 加入item本身的特征 通过连表操作\n",
    "#     # TODO: 候选集太多，数据量太大了，sample 3个负样本算了\n",
    "#     if label not in candidate_id:\n",
    "#         sample = candidate_id[:5]\n",
    "#         #sample = np.random.choice(candidate_id, size=3, replace=False).tolist()\n",
    "#     else:\n",
    "#         candidate_id.remove(label)\n",
    "#         sample = candidate_id[:5]\n",
    "#         #sample = np.random.choice(candidate_id, size=3, replace=False).tolist()\n",
    "#     sample.append(label)\n",
    "#     for vid in sample:\n",
    "#         if vid == label:\n",
    "#             lbl = 1\n",
    "#         else:\n",
    "#             lbl = 0\n",
    "#         # print(vid, locale)\n",
    "#         try:\n",
    "#             tmp = products.loc[(vid, locale)]  # 产品特征\n",
    "#             item_price = tmp.price\n",
    "#             item_brand = tmp.brand \n",
    "#             item_color = tmp.color \n",
    "#             item_size = tmp.size \n",
    "#             item_model = tmp.model \n",
    "#             item_material = tmp.material \n",
    "#             item_author = tmp.author \n",
    "#         except:\n",
    "#             continue\n",
    "        \n",
    "#         feat = [\n",
    "#             # index,  这个比赛没有用户ID这一个特征！\n",
    "#             int(vid in prev_items),  # 候选的vid是否出现在历史购买的序列中\n",
    "#             int(vid in next_item_prediction),  # 候选的vid是否出现在上次购买产品的下一跳序列中\n",
    "#             loc_id,\n",
    "#             item_price,\n",
    "#             item_brand,\n",
    "#             item_color,\n",
    "#             item_size,\n",
    "#             item_model,\n",
    "#             item_material,\n",
    "#             item_author,\n",
    "#             # 其他特征\n",
    "#         ]\n",
    "#         feat += seq_featurs_index\n",
    "#         # try:\n",
    "#         #     feat.append(vid_w2v.wv.similarity(vid, last1_vid))\n",
    "#         # except:\n",
    "#         #     feat.append(0)\n",
    "#         feat.append(lbl)\n",
    "#         train_fea.append(feat)\n",
    "#     return train_fea"
   ]
  },
  {
   "cell_type": "code",
   "execution_count": 64,
   "metadata": {},
   "outputs": [],
   "source": [
    "# a = get_feature(0, df_train_exploded_fea[:2], df_train_seqs_feas.loc[0].values.tolist())"
   ]
  },
  {
   "attachments": {},
   "cell_type": "markdown",
   "metadata": {},
   "source": [
    "训练特征"
   ]
  },
  {
   "cell_type": "code",
   "execution_count": 59,
   "metadata": {},
   "outputs": [],
   "source": [
    "def get_train_feature(index, train_seq, seq_featurs_index, products_feas):\n",
    "    train_fea = []\n",
    "\n",
    "    label = train_seq['next_item'].iloc[0]\n",
    "    prev_items = list(train_seq['id'])\n",
    "    locale = train_seq['locale'].iloc[0]\n",
    "    loc_id = loc2id[locale]  # 地区ID\n",
    "\n",
    "    candidate_id = train_preds[index]\n",
    "    # 其他召回策略，比如hop200, w2v等\n",
    "    # 另外，这个位置的写法之后改成芒果TV的做法，比如nan的时候直接top200也可能会有历史重复的物品，这样不太好！！！\n",
    "    # 目前先验证这个固定的召回+排序之后会不会编号\n",
    "    \n",
    "    # 构造一些序列特征 根据历史的seq，就是seq_featurs_index\n",
    "    \n",
    "    # TODO: 候选集太多，数据量太大了，sample 5个负样本算了\n",
    "    if label in candidate_id:\n",
    "        candidate_id.remove(label)\n",
    "    \n",
    "    # 5个负样本\n",
    "    cnt = 0\n",
    "    for vid in candidate_id:\n",
    "        try:\n",
    "            pro_feas_index = products_feas.loc[(vid, locale)].values.tolist()  # 产品特征\n",
    "            cnt += 1\n",
    "            if cnt > 5:\n",
    "                break\n",
    "        except:\n",
    "            continue\n",
    "        \n",
    "        feat = [\n",
    "            # index,  这个比赛没有用户ID这一个特征！\n",
    "            int(vid in prev_items),  # 候选的vid是否出现在历史购买的序列中\n",
    "            loc_id,\n",
    "            # 其他特征\n",
    "        ]\n",
    "        feat += pro_feas_index\n",
    "        feat += seq_featurs_index\n",
    "        # try:\n",
    "        #     feat.append(vid_w2v.wv.similarity(vid, last1_vid))\n",
    "        # except:\n",
    "        #     feat.append(0)\n",
    "        feat.append(0)  # label\n",
    "        train_fea.append(feat)\n",
    "    \n",
    "    # 正样本\n",
    "    vid = label\n",
    "    try:\n",
    "        pro_feas_index = products_feas.loc[(vid, locale)].values.tolist()  # 产品特征\n",
    "    except:\n",
    "        print(vid, locale)\n",
    "        \n",
    "    feat = [\n",
    "        # TODO: 重新跑这个训练特征\n",
    "        vid,\n",
    "        index,  # 这个比赛没有用户ID这一个特征！\n",
    "        int(vid in prev_items),  # 候选的vid是否出现在历史购买的序列中\n",
    "        loc_id,\n",
    "        # 其他特征\n",
    "    ]\n",
    "    feat += pro_feas_index\n",
    "    feat += seq_featurs_index\n",
    "    # try:\n",
    "    #     feat.append(vid_w2v.wv.similarity(vid, last1_vid))\n",
    "    # except:\n",
    "    #     feat.append(0)\n",
    "    feat.append(1)  # label\n",
    "    train_fea.append(feat)\n",
    "    return train_fea"
   ]
  },
  {
   "cell_type": "code",
   "execution_count": 74,
   "metadata": {},
   "outputs": [
    {
     "name": "stderr",
     "output_type": "stream",
     "text": [
      "100%|██████████| 3272716/3272716 [6:13:14<00:00, 146.14it/s]   \n"
     ]
    }
   ],
   "source": [
    "# train_fea = []\n",
    "# df_train_len = df_train_exploded_fea['index'].nunique()\n",
    "# for ind, train_seq_index in tqdm(df_train_exploded_fea.groupby('index'), total=df_train_len):\n",
    "#     train_fea_in = get_train_feature(ind, train_seq_index, df_train_seqs_feas.loc[ind].values.tolist(), products_feas=products_use)\n",
    "#     train_fea += train_fea_in"
   ]
  },
  {
   "cell_type": "code",
   "execution_count": 188,
   "metadata": {},
   "outputs": [],
   "source": [
    "train_columns = ['vid_in_his', 'loc_id'] + list(products_use.columns) + list(df_train_seqs_feas.columns) + ['label']"
   ]
  },
  {
   "cell_type": "code",
   "execution_count": 182,
   "metadata": {},
   "outputs": [
    {
     "data": {
      "text/plain": [
       "41"
      ]
     },
     "execution_count": 182,
     "metadata": {},
     "output_type": "execute_result"
    }
   ],
   "source": [
    "len(train_columns)"
   ]
  },
  {
   "cell_type": "code",
   "execution_count": 75,
   "metadata": {},
   "outputs": [],
   "source": [
    "np.save('./data/train_features.npy', train_fea)"
   ]
  },
  {
   "cell_type": "code",
   "execution_count": 175,
   "metadata": {},
   "outputs": [],
   "source": [
    "train_fea = np.load('./data/train_features.npy')"
   ]
  },
  {
   "cell_type": "code",
   "execution_count": 176,
   "metadata": {},
   "outputs": [
    {
     "data": {
      "text/plain": [
       "(19636288, 41)"
      ]
     },
     "execution_count": 176,
     "metadata": {},
     "output_type": "execute_result"
    }
   ],
   "source": [
    "train_fea.shape "
   ]
  },
  {
   "cell_type": "code",
   "execution_count": 183,
   "metadata": {},
   "outputs": [
    {
     "name": "stdout",
     "output_type": "stream",
     "text": [
      "0.0    0.833333\n",
      "1.0    0.166667\n",
      "Name: label, dtype: float64\n"
     ]
    }
   ],
   "source": [
    "train_fea = pd.DataFrame(train_fea, columns=train_columns)\n",
    "train_fea = train_fea.fillna(0)\n",
    "print(train_fea.iloc[:, -1].value_counts(normalize=True))"
   ]
  },
  {
   "cell_type": "code",
   "execution_count": 217,
   "metadata": {},
   "outputs": [],
   "source": [
    "for col in train_fea.columns:\n",
    "    if col in cat_features:\n",
    "        train_fea[col] = train_fea[col].astype('int64')\n",
    "    else:\n",
    "        train_fea[col] = train_fea[col].astype('float64')"
   ]
  },
  {
   "cell_type": "code",
   "execution_count": 218,
   "metadata": {},
   "outputs": [
    {
     "data": {
      "text/html": [
       "<div>\n",
       "<style scoped>\n",
       "    .dataframe tbody tr th:only-of-type {\n",
       "        vertical-align: middle;\n",
       "    }\n",
       "\n",
       "    .dataframe tbody tr th {\n",
       "        vertical-align: top;\n",
       "    }\n",
       "\n",
       "    .dataframe thead th {\n",
       "        text-align: right;\n",
       "    }\n",
       "</style>\n",
       "<table border=\"1\" class=\"dataframe\">\n",
       "  <thead>\n",
       "    <tr style=\"text-align: right;\">\n",
       "      <th></th>\n",
       "      <th>vid_in_his</th>\n",
       "      <th>loc_id</th>\n",
       "      <th>price</th>\n",
       "      <th>brand</th>\n",
       "      <th>color</th>\n",
       "      <th>size</th>\n",
       "      <th>model</th>\n",
       "      <th>material</th>\n",
       "      <th>author</th>\n",
       "      <th>len_title</th>\n",
       "      <th>...</th>\n",
       "      <th>len_titleMIN</th>\n",
       "      <th>len_titleMAX</th>\n",
       "      <th>len_titleSUM</th>\n",
       "      <th>len_descMEAN</th>\n",
       "      <th>len_descSTD</th>\n",
       "      <th>len_descMIN</th>\n",
       "      <th>len_descMAX</th>\n",
       "      <th>len_descSUM</th>\n",
       "      <th>label</th>\n",
       "      <th>prob</th>\n",
       "    </tr>\n",
       "  </thead>\n",
       "  <tbody>\n",
       "    <tr>\n",
       "      <th>0</th>\n",
       "      <td>1.0</td>\n",
       "      <td>0.0</td>\n",
       "      <td>2.12132</td>\n",
       "      <td>196</td>\n",
       "      <td>199</td>\n",
       "      <td>395</td>\n",
       "      <td>226</td>\n",
       "      <td>6</td>\n",
       "      <td>222</td>\n",
       "      <td>231.0</td>\n",
       "      <td>...</td>\n",
       "      <td>1.0</td>\n",
       "      <td>2.0</td>\n",
       "      <td>38.49</td>\n",
       "      <td>2.12132</td>\n",
       "      <td>36.99</td>\n",
       "      <td>39.99</td>\n",
       "      <td>76.98</td>\n",
       "      <td>197.5</td>\n",
       "      <td>0.0</td>\n",
       "      <td>0.000007</td>\n",
       "    </tr>\n",
       "    <tr>\n",
       "      <th>1</th>\n",
       "      <td>0.0</td>\n",
       "      <td>0.0</td>\n",
       "      <td>2.12132</td>\n",
       "      <td>196</td>\n",
       "      <td>199</td>\n",
       "      <td>395</td>\n",
       "      <td>226</td>\n",
       "      <td>6</td>\n",
       "      <td>222</td>\n",
       "      <td>231.0</td>\n",
       "      <td>...</td>\n",
       "      <td>1.0</td>\n",
       "      <td>2.0</td>\n",
       "      <td>38.49</td>\n",
       "      <td>2.12132</td>\n",
       "      <td>36.99</td>\n",
       "      <td>39.99</td>\n",
       "      <td>76.98</td>\n",
       "      <td>197.5</td>\n",
       "      <td>0.0</td>\n",
       "      <td>0.215880</td>\n",
       "    </tr>\n",
       "    <tr>\n",
       "      <th>2</th>\n",
       "      <td>0.0</td>\n",
       "      <td>0.0</td>\n",
       "      <td>2.12132</td>\n",
       "      <td>196</td>\n",
       "      <td>199</td>\n",
       "      <td>395</td>\n",
       "      <td>226</td>\n",
       "      <td>6</td>\n",
       "      <td>222</td>\n",
       "      <td>231.0</td>\n",
       "      <td>...</td>\n",
       "      <td>1.0</td>\n",
       "      <td>2.0</td>\n",
       "      <td>38.49</td>\n",
       "      <td>2.12132</td>\n",
       "      <td>36.99</td>\n",
       "      <td>39.99</td>\n",
       "      <td>76.98</td>\n",
       "      <td>197.5</td>\n",
       "      <td>0.0</td>\n",
       "      <td>0.271886</td>\n",
       "    </tr>\n",
       "    <tr>\n",
       "      <th>3</th>\n",
       "      <td>0.0</td>\n",
       "      <td>0.0</td>\n",
       "      <td>2.12132</td>\n",
       "      <td>196</td>\n",
       "      <td>199</td>\n",
       "      <td>395</td>\n",
       "      <td>226</td>\n",
       "      <td>6</td>\n",
       "      <td>222</td>\n",
       "      <td>231.0</td>\n",
       "      <td>...</td>\n",
       "      <td>1.0</td>\n",
       "      <td>2.0</td>\n",
       "      <td>38.49</td>\n",
       "      <td>2.12132</td>\n",
       "      <td>36.99</td>\n",
       "      <td>39.99</td>\n",
       "      <td>76.98</td>\n",
       "      <td>197.5</td>\n",
       "      <td>0.0</td>\n",
       "      <td>0.259654</td>\n",
       "    </tr>\n",
       "    <tr>\n",
       "      <th>4</th>\n",
       "      <td>0.0</td>\n",
       "      <td>0.0</td>\n",
       "      <td>2.12132</td>\n",
       "      <td>196</td>\n",
       "      <td>199</td>\n",
       "      <td>395</td>\n",
       "      <td>226</td>\n",
       "      <td>6</td>\n",
       "      <td>222</td>\n",
       "      <td>231.0</td>\n",
       "      <td>...</td>\n",
       "      <td>1.0</td>\n",
       "      <td>2.0</td>\n",
       "      <td>38.49</td>\n",
       "      <td>2.12132</td>\n",
       "      <td>36.99</td>\n",
       "      <td>39.99</td>\n",
       "      <td>76.98</td>\n",
       "      <td>197.5</td>\n",
       "      <td>0.0</td>\n",
       "      <td>0.264382</td>\n",
       "    </tr>\n",
       "  </tbody>\n",
       "</table>\n",
       "<p>5 rows × 42 columns</p>\n",
       "</div>"
      ],
      "text/plain": [
       "   vid_in_his  loc_id    price  brand  color  size  model  material  author  \\\n",
       "0         1.0     0.0  2.12132    196    199   395    226         6     222   \n",
       "1         0.0     0.0  2.12132    196    199   395    226         6     222   \n",
       "2         0.0     0.0  2.12132    196    199   395    226         6     222   \n",
       "3         0.0     0.0  2.12132    196    199   395    226         6     222   \n",
       "4         0.0     0.0  2.12132    196    199   395    226         6     222   \n",
       "\n",
       "   len_title  ...  len_titleMIN  len_titleMAX  len_titleSUM  len_descMEAN  \\\n",
       "0      231.0  ...           1.0           2.0         38.49       2.12132   \n",
       "1      231.0  ...           1.0           2.0         38.49       2.12132   \n",
       "2      231.0  ...           1.0           2.0         38.49       2.12132   \n",
       "3      231.0  ...           1.0           2.0         38.49       2.12132   \n",
       "4      231.0  ...           1.0           2.0         38.49       2.12132   \n",
       "\n",
       "   len_descSTD  len_descMIN  len_descMAX  len_descSUM  label      prob  \n",
       "0        36.99        39.99        76.98        197.5    0.0  0.000007  \n",
       "1        36.99        39.99        76.98        197.5    0.0  0.215880  \n",
       "2        36.99        39.99        76.98        197.5    0.0  0.271886  \n",
       "3        36.99        39.99        76.98        197.5    0.0  0.259654  \n",
       "4        36.99        39.99        76.98        197.5    0.0  0.264382  \n",
       "\n",
       "[5 rows x 42 columns]"
      ]
     },
     "execution_count": 218,
     "metadata": {},
     "output_type": "execute_result"
    }
   ],
   "source": [
    "train_fea.head()"
   ]
  },
  {
   "attachments": {},
   "cell_type": "markdown",
   "metadata": {},
   "source": [
    "测试特征"
   ]
  },
  {
   "cell_type": "code",
   "execution_count": 83,
   "metadata": {},
   "outputs": [],
   "source": [
    "def get_test_feature(index, test_seq, seq_featurs_index, products_feas):\n",
    "    test_fea = []\n",
    "\n",
    "    prev_items = list(test_seq['id'])\n",
    "    locale = test_seq['locale'].iloc[0]\n",
    "    loc_id = loc2id[locale]  # 地区ID\n",
    "\n",
    "    candidate_id = test_preds[index]\n",
    "    # 其他召回策略，比如hop200, w2v等\n",
    "    # 另外，这个位置的写法之后改成芒果TV的做法，比如nan的时候直接top200也可能会有历史重复的物品，这样不太好！！！\n",
    "    # 目前先验证这个固定的召回+排序之后会不会编号\n",
    "    \n",
    "    # 构造一些序列特征 根据历史的seq，就是seq_featurs_index\n",
    "    \n",
    "    cnt = 0\n",
    "    for vid in candidate_id:\n",
    "        try:\n",
    "            pro_feas_index = products_feas.loc[(vid, locale)].values.tolist()  # 产品特征\n",
    "            cnt += 1\n",
    "            if cnt > 10:\n",
    "                break\n",
    "        except:\n",
    "            continue  # TODO: continue的话，概率怎么跟vid对应\n",
    "        \n",
    "        feat = [\n",
    "            vid,\n",
    "            index,  # 这个比赛没有用户ID这一个特征！\n",
    "            int(vid in prev_items),  # 候选的vid是否出现在历史购买的序列中\n",
    "            loc_id,\n",
    "            # 其他特征\n",
    "        ]\n",
    "        feat += pro_feas_index\n",
    "        feat += seq_featurs_index\n",
    "        # try:\n",
    "        #     feat.append(vid_w2v.wv.similarity(vid, last1_vid))\n",
    "        # except:\n",
    "        #     feat.append(0)\n",
    "        # feat.append(0)  # label\n",
    "        test_fea.append(feat)\n",
    "    return test_fea"
   ]
  },
  {
   "cell_type": "code",
   "execution_count": 86,
   "metadata": {},
   "outputs": [
    {
     "name": "stderr",
     "output_type": "stream",
     "text": [
      " 43%|████▎     | 135110/316971 [27:36<28:56, 104.71it/s] "
     ]
    },
    {
     "name": "stdout",
     "output_type": "stream",
     "text": [
      "135090\n"
     ]
    },
    {
     "name": "stderr",
     "output_type": "stream",
     "text": [
      " 55%|█████▌    | 175760/316971 [32:16<24:19, 96.73it/s] "
     ]
    },
    {
     "name": "stdout",
     "output_type": "stream",
     "text": [
      "175732\n"
     ]
    },
    {
     "name": "stderr",
     "output_type": "stream",
     "text": [
      " 56%|█████▌    | 177906/316971 [32:31<42:52, 54.07it/s] "
     ]
    },
    {
     "name": "stdout",
     "output_type": "stream",
     "text": [
      "177882\n"
     ]
    },
    {
     "name": "stderr",
     "output_type": "stream",
     "text": [
      " 61%|██████    | 193042/316971 [34:13<18:51, 109.53it/s] "
     ]
    },
    {
     "name": "stdout",
     "output_type": "stream",
     "text": [
      "193020\n"
     ]
    },
    {
     "name": "stderr",
     "output_type": "stream",
     "text": [
      " 72%|███████▏  | 227523/316971 [42:40<15:56, 93.50it/s]   "
     ]
    },
    {
     "name": "stdout",
     "output_type": "stream",
     "text": [
      "227523\n"
     ]
    },
    {
     "name": "stderr",
     "output_type": "stream",
     "text": [
      "100%|██████████| 316971/316971 [1:09:40<00:00, 75.82it/s]\n"
     ]
    }
   ],
   "source": [
    "test_fea = []\n",
    "df_test_len = df_test_exploded_fea['index'].nunique()\n",
    "for ind, test_seq_index in tqdm(df_test_exploded_fea.groupby('index'), total=df_test_len):\n",
    "    test_fea_in = get_test_feature(ind, test_seq_index, df_test_seqs_feas.loc[ind].values.tolist(), products_feas=products_use)\n",
    "    test_fea += test_fea_in\n",
    "    if len(test_fea_in) != 10:\n",
    "        print(ind) "
   ]
  },
  {
   "cell_type": "code",
   "execution_count": 187,
   "metadata": {},
   "outputs": [],
   "source": [
    "test_columns = ['vid', 'index', 'vid_in_his', 'loc_id'] + list(products_use.columns) + list(df_train_seqs_feas.columns)"
   ]
  },
  {
   "cell_type": "code",
   "execution_count": 189,
   "metadata": {},
   "outputs": [
    {
     "data": {
      "text/plain": [
       "42"
      ]
     },
     "execution_count": 189,
     "metadata": {},
     "output_type": "execute_result"
    }
   ],
   "source": [
    "len(test_columns)"
   ]
  },
  {
   "cell_type": "code",
   "execution_count": 114,
   "metadata": {},
   "outputs": [],
   "source": [
    "np.save('./data/test_features_10_withID.npy', test_fea.values)"
   ]
  },
  {
   "cell_type": "code",
   "execution_count": 192,
   "metadata": {},
   "outputs": [],
   "source": [
    "test_fea = np.load('./data/test_features_10_withID.npy', allow_pickle=True)"
   ]
  },
  {
   "cell_type": "code",
   "execution_count": 193,
   "metadata": {},
   "outputs": [],
   "source": [
    "test_fea = pd.DataFrame(test_fea, columns=test_columns)\n",
    "test_fea = test_fea.fillna(0)"
   ]
  },
  {
   "cell_type": "code",
   "execution_count": 194,
   "metadata": {},
   "outputs": [
    {
     "data": {
      "text/plain": [
       "(3169697, 42)"
      ]
     },
     "execution_count": 194,
     "metadata": {},
     "output_type": "execute_result"
    }
   ],
   "source": [
    "test_fea.shape "
   ]
  },
  {
   "cell_type": "code",
   "execution_count": 213,
   "metadata": {},
   "outputs": [],
   "source": [
    "test_fea['index'] = test_fea['index'].astype('int64')\n",
    "for col in test_fea.columns[2:]:\n",
    "    if col in cat_features:\n",
    "        test_fea[col] = test_fea[col].astype('int64')\n",
    "    else:\n",
    "        test_fea[col] = test_fea[col].astype('float64')"
   ]
  },
  {
   "cell_type": "code",
   "execution_count": 201,
   "metadata": {},
   "outputs": [
    {
     "data": {
      "text/html": [
       "<div>\n",
       "<style scoped>\n",
       "    .dataframe tbody tr th:only-of-type {\n",
       "        vertical-align: middle;\n",
       "    }\n",
       "\n",
       "    .dataframe tbody tr th {\n",
       "        vertical-align: top;\n",
       "    }\n",
       "\n",
       "    .dataframe thead th {\n",
       "        text-align: right;\n",
       "    }\n",
       "</style>\n",
       "<table border=\"1\" class=\"dataframe\">\n",
       "  <thead>\n",
       "    <tr style=\"text-align: right;\">\n",
       "      <th></th>\n",
       "      <th>vid</th>\n",
       "      <th>index</th>\n",
       "      <th>vid_in_his</th>\n",
       "      <th>loc_id</th>\n",
       "      <th>price</th>\n",
       "      <th>brand</th>\n",
       "      <th>color</th>\n",
       "      <th>size</th>\n",
       "      <th>model</th>\n",
       "      <th>material</th>\n",
       "      <th>...</th>\n",
       "      <th>len_titleMEAN</th>\n",
       "      <th>len_titleSTD</th>\n",
       "      <th>len_titleMIN</th>\n",
       "      <th>len_titleMAX</th>\n",
       "      <th>len_titleSUM</th>\n",
       "      <th>len_descMEAN</th>\n",
       "      <th>len_descSTD</th>\n",
       "      <th>len_descMIN</th>\n",
       "      <th>len_descMAX</th>\n",
       "      <th>len_descSUM</th>\n",
       "    </tr>\n",
       "  </thead>\n",
       "  <tbody>\n",
       "    <tr>\n",
       "      <th>0</th>\n",
       "      <td>B099NS1XPG</td>\n",
       "      <td>0</td>\n",
       "      <td>0.0</td>\n",
       "      <td>0.0</td>\n",
       "      <td>39.99</td>\n",
       "      <td>21236</td>\n",
       "      <td>152211</td>\n",
       "      <td>213319</td>\n",
       "      <td>161238</td>\n",
       "      <td>44782</td>\n",
       "      <td>...</td>\n",
       "      <td>163.333333</td>\n",
       "      <td>24.436684</td>\n",
       "      <td>126.0</td>\n",
       "      <td>195.0</td>\n",
       "      <td>1960.0</td>\n",
       "      <td>173.583333</td>\n",
       "      <td>34.057327</td>\n",
       "      <td>120.0</td>\n",
       "      <td>210.0</td>\n",
       "      <td>2083.0</td>\n",
       "    </tr>\n",
       "    <tr>\n",
       "      <th>1</th>\n",
       "      <td>B08496TCCQ</td>\n",
       "      <td>0</td>\n",
       "      <td>1.0</td>\n",
       "      <td>0.0</td>\n",
       "      <td>40000000.07</td>\n",
       "      <td>21236</td>\n",
       "      <td>133489</td>\n",
       "      <td>213319</td>\n",
       "      <td>161226</td>\n",
       "      <td>44782</td>\n",
       "      <td>...</td>\n",
       "      <td>163.333333</td>\n",
       "      <td>24.436684</td>\n",
       "      <td>126.0</td>\n",
       "      <td>195.0</td>\n",
       "      <td>1960.0</td>\n",
       "      <td>173.583333</td>\n",
       "      <td>34.057327</td>\n",
       "      <td>120.0</td>\n",
       "      <td>210.0</td>\n",
       "      <td>2083.0</td>\n",
       "    </tr>\n",
       "    <tr>\n",
       "      <th>2</th>\n",
       "      <td>B01BVG1XJS</td>\n",
       "      <td>0</td>\n",
       "      <td>1.0</td>\n",
       "      <td>0.0</td>\n",
       "      <td>19.95</td>\n",
       "      <td>21236</td>\n",
       "      <td>152211</td>\n",
       "      <td>90884</td>\n",
       "      <td>161227</td>\n",
       "      <td>15295</td>\n",
       "      <td>...</td>\n",
       "      <td>163.333333</td>\n",
       "      <td>24.436684</td>\n",
       "      <td>126.0</td>\n",
       "      <td>195.0</td>\n",
       "      <td>1960.0</td>\n",
       "      <td>173.583333</td>\n",
       "      <td>34.057327</td>\n",
       "      <td>120.0</td>\n",
       "      <td>210.0</td>\n",
       "      <td>2083.0</td>\n",
       "    </tr>\n",
       "    <tr>\n",
       "      <th>3</th>\n",
       "      <td>B099NR3X6D</td>\n",
       "      <td>0</td>\n",
       "      <td>0.0</td>\n",
       "      <td>0.0</td>\n",
       "      <td>32.99</td>\n",
       "      <td>21236</td>\n",
       "      <td>133489</td>\n",
       "      <td>213319</td>\n",
       "      <td>161237</td>\n",
       "      <td>44782</td>\n",
       "      <td>...</td>\n",
       "      <td>163.333333</td>\n",
       "      <td>24.436684</td>\n",
       "      <td>126.0</td>\n",
       "      <td>195.0</td>\n",
       "      <td>1960.0</td>\n",
       "      <td>173.583333</td>\n",
       "      <td>34.057327</td>\n",
       "      <td>120.0</td>\n",
       "      <td>210.0</td>\n",
       "      <td>2083.0</td>\n",
       "    </tr>\n",
       "    <tr>\n",
       "      <th>4</th>\n",
       "      <td>B09WDSH4CD</td>\n",
       "      <td>0</td>\n",
       "      <td>0.0</td>\n",
       "      <td>0.0</td>\n",
       "      <td>24.99</td>\n",
       "      <td>131540</td>\n",
       "      <td>152211</td>\n",
       "      <td>213319</td>\n",
       "      <td>492997</td>\n",
       "      <td>44782</td>\n",
       "      <td>...</td>\n",
       "      <td>163.333333</td>\n",
       "      <td>24.436684</td>\n",
       "      <td>126.0</td>\n",
       "      <td>195.0</td>\n",
       "      <td>1960.0</td>\n",
       "      <td>173.583333</td>\n",
       "      <td>34.057327</td>\n",
       "      <td>120.0</td>\n",
       "      <td>210.0</td>\n",
       "      <td>2083.0</td>\n",
       "    </tr>\n",
       "  </tbody>\n",
       "</table>\n",
       "<p>5 rows × 42 columns</p>\n",
       "</div>"
      ],
      "text/plain": [
       "          vid  index  vid_in_his  loc_id        price   brand   color    size  \\\n",
       "0  B099NS1XPG      0         0.0     0.0        39.99   21236  152211  213319   \n",
       "1  B08496TCCQ      0         1.0     0.0  40000000.07   21236  133489  213319   \n",
       "2  B01BVG1XJS      0         1.0     0.0        19.95   21236  152211   90884   \n",
       "3  B099NR3X6D      0         0.0     0.0        32.99   21236  133489  213319   \n",
       "4  B09WDSH4CD      0         0.0     0.0        24.99  131540  152211  213319   \n",
       "\n",
       "    model  material  ...  len_titleMEAN  len_titleSTD  len_titleMIN  \\\n",
       "0  161238     44782  ...     163.333333     24.436684         126.0   \n",
       "1  161226     44782  ...     163.333333     24.436684         126.0   \n",
       "2  161227     15295  ...     163.333333     24.436684         126.0   \n",
       "3  161237     44782  ...     163.333333     24.436684         126.0   \n",
       "4  492997     44782  ...     163.333333     24.436684         126.0   \n",
       "\n",
       "   len_titleMAX  len_titleSUM  len_descMEAN  len_descSTD  len_descMIN  \\\n",
       "0         195.0        1960.0    173.583333    34.057327        120.0   \n",
       "1         195.0        1960.0    173.583333    34.057327        120.0   \n",
       "2         195.0        1960.0    173.583333    34.057327        120.0   \n",
       "3         195.0        1960.0    173.583333    34.057327        120.0   \n",
       "4         195.0        1960.0    173.583333    34.057327        120.0   \n",
       "\n",
       "   len_descMAX  len_descSUM  \n",
       "0        210.0       2083.0  \n",
       "1        210.0       2083.0  \n",
       "2        210.0       2083.0  \n",
       "3        210.0       2083.0  \n",
       "4        210.0       2083.0  \n",
       "\n",
       "[5 rows x 42 columns]"
      ]
     },
     "execution_count": 201,
     "metadata": {},
     "output_type": "execute_result"
    }
   ],
   "source": [
    "test_fea.head()"
   ]
  },
  {
   "attachments": {},
   "cell_type": "markdown",
   "metadata": {},
   "source": [
    "lgb"
   ]
  },
  {
   "cell_type": "code",
   "execution_count": 68,
   "metadata": {},
   "outputs": [],
   "source": [
    "seed = 2023\n",
    "kfold = 5"
   ]
  },
  {
   "cell_type": "code",
   "execution_count": 69,
   "metadata": {},
   "outputs": [],
   "source": [
    "lgb_params = {\n",
    "    'objective': 'binary',\n",
    "    'boosting_type': 'gbdt',\n",
    "    # 'metric': 'binary_logloss',  # auc??\n",
    "    'metric': 'auc',\n",
    "    'learning_rate': 0.05,\n",
    "    'num_leaves': 2 ** 6,\n",
    "    'max_depth': 8,\n",
    "    'tree_learner': 'serial',\n",
    "    'colsample_bytree': 0.8,\n",
    "    'subsample_freq': 1,\n",
    "    'subsample': 0.8,\n",
    "    'num_boost_round': 3000,\n",
    "    'max_bin': 255,\n",
    "    'verbose': -1,\n",
    "    'nthread' : -1,\n",
    "    'seed': seed,\n",
    "    'bagging_seed': seed,\n",
    "    'feature_fraction_seed': seed,\n",
    "    'early_stopping_rounds': 100,\n",
    "    # 'device': 'gpu',  # 设置使用 GPU 加速\n",
    "    # 'gpu_platform_id': 0,  # 设置 GPU 平台 id\n",
    "    # 'gpu_device_id': 0  # 设置 GPU 设备 id\n",
    "}"
   ]
  },
  {
   "cell_type": "code",
   "execution_count": null,
   "metadata": {},
   "outputs": [],
   "source": [
    "# TODO: 训练集最后一列去掉是label，测试集第一列去掉是vid"
   ]
  },
  {
   "cell_type": "code",
   "execution_count": 202,
   "metadata": {},
   "outputs": [
    {
     "data": {
      "text/plain": [
       "((19636288, 40), (3169697, 40), (19636288,))"
      ]
     },
     "execution_count": 202,
     "metadata": {},
     "output_type": "execute_result"
    }
   ],
   "source": [
    "if 'prob' in train_fea.columns:\n",
    "    train_fea = train_fea.drop('prob', axis=1)\n",
    "train = train_fea.iloc[:, 0: -1]\n",
    "if 'prob' in test_fea.columns:\n",
    "    test_fea = test_fea.drop('prob', axis=1)\n",
    "test = test_fea.iloc[:, 2:]\n",
    "y = train_fea.iloc[:, -1]\n",
    "\n",
    "train.shape, test.shape, y.shape"
   ]
  },
  {
   "cell_type": "code",
   "execution_count": 71,
   "metadata": {},
   "outputs": [
    {
     "name": "stdout",
     "output_type": "stream",
     "text": [
      "40\n",
      "fold n°0\n",
      "[LightGBM] [Warning] num_threads is set with nthread=-1, will be overridden by n_jobs=30. Current value: num_threads=30\n",
      "Training until validation scores don't improve for 100 rounds\n",
      "[300]\ttraining's auc: 0.722561\tvalid_1's auc: 0.719763\n",
      "[600]\ttraining's auc: 0.731618\tvalid_1's auc: 0.726326\n",
      "[900]\ttraining's auc: 0.737944\tvalid_1's auc: 0.730412\n"
     ]
    },
    {
     "ename": "KeyboardInterrupt",
     "evalue": "",
     "output_type": "error",
     "traceback": [
      "\u001b[0;31m---------------------------------------------------------------------------\u001b[0m",
      "\u001b[0;31mKeyboardInterrupt\u001b[0m                         Traceback (most recent call last)",
      "\u001b[0;32m<ipython-input-71-6441e224e171>\u001b[0m in \u001b[0;36m<module>\u001b[0;34m\u001b[0m\n\u001b[1;32m     13\u001b[0m \u001b[0;34m\u001b[0m\u001b[0m\n\u001b[1;32m     14\u001b[0m     \u001b[0mnum_round\u001b[0m \u001b[0;34m=\u001b[0m \u001b[0;36m3000\u001b[0m\u001b[0;34m\u001b[0m\u001b[0;34m\u001b[0m\u001b[0m\n\u001b[0;32m---> 15\u001b[0;31m     clf = lgb.train(\n\u001b[0m\u001b[1;32m     16\u001b[0m         \u001b[0mlgb_params\u001b[0m\u001b[0;34m,\u001b[0m\u001b[0;34m\u001b[0m\u001b[0;34m\u001b[0m\u001b[0m\n\u001b[1;32m     17\u001b[0m         \u001b[0mtrn_data\u001b[0m\u001b[0;34m,\u001b[0m\u001b[0;34m\u001b[0m\u001b[0;34m\u001b[0m\u001b[0m\n",
      "\u001b[0;32m~/anaconda3/envs/libcityng/lib/python3.9/site-packages/lightgbm/engine.py\u001b[0m in \u001b[0;36mtrain\u001b[0;34m(params, train_set, num_boost_round, valid_sets, valid_names, fobj, feval, init_model, feature_name, categorical_feature, early_stopping_rounds, evals_result, verbose_eval, learning_rates, keep_training_booster, callbacks)\u001b[0m\n\u001b[1;32m    296\u001b[0m         \u001b[0;32mif\u001b[0m \u001b[0mvalid_sets\u001b[0m \u001b[0;32mis\u001b[0m \u001b[0;32mnot\u001b[0m \u001b[0;32mNone\u001b[0m\u001b[0;34m:\u001b[0m\u001b[0;34m\u001b[0m\u001b[0;34m\u001b[0m\u001b[0m\n\u001b[1;32m    297\u001b[0m             \u001b[0;32mif\u001b[0m \u001b[0mis_valid_contain_train\u001b[0m\u001b[0;34m:\u001b[0m\u001b[0;34m\u001b[0m\u001b[0;34m\u001b[0m\u001b[0m\n\u001b[0;32m--> 298\u001b[0;31m                 \u001b[0mevaluation_result_list\u001b[0m\u001b[0;34m.\u001b[0m\u001b[0mextend\u001b[0m\u001b[0;34m(\u001b[0m\u001b[0mbooster\u001b[0m\u001b[0;34m.\u001b[0m\u001b[0meval_train\u001b[0m\u001b[0;34m(\u001b[0m\u001b[0mfeval\u001b[0m\u001b[0;34m)\u001b[0m\u001b[0;34m)\u001b[0m\u001b[0;34m\u001b[0m\u001b[0;34m\u001b[0m\u001b[0m\n\u001b[0m\u001b[1;32m    299\u001b[0m             \u001b[0mevaluation_result_list\u001b[0m\u001b[0;34m.\u001b[0m\u001b[0mextend\u001b[0m\u001b[0;34m(\u001b[0m\u001b[0mbooster\u001b[0m\u001b[0;34m.\u001b[0m\u001b[0meval_valid\u001b[0m\u001b[0;34m(\u001b[0m\u001b[0mfeval\u001b[0m\u001b[0;34m)\u001b[0m\u001b[0;34m)\u001b[0m\u001b[0;34m\u001b[0m\u001b[0;34m\u001b[0m\u001b[0m\n\u001b[1;32m    300\u001b[0m         \u001b[0;32mtry\u001b[0m\u001b[0;34m:\u001b[0m\u001b[0;34m\u001b[0m\u001b[0;34m\u001b[0m\u001b[0m\n",
      "\u001b[0;32m~/anaconda3/envs/libcityng/lib/python3.9/site-packages/lightgbm/basic.py\u001b[0m in \u001b[0;36meval_train\u001b[0;34m(self, feval)\u001b[0m\n\u001b[1;32m   3236\u001b[0m             \u001b[0mList\u001b[0m \u001b[0;32mwith\u001b[0m \u001b[0mevaluation\u001b[0m \u001b[0mresults\u001b[0m\u001b[0;34m.\u001b[0m\u001b[0;34m\u001b[0m\u001b[0;34m\u001b[0m\u001b[0m\n\u001b[1;32m   3237\u001b[0m         \"\"\"\n\u001b[0;32m-> 3238\u001b[0;31m         \u001b[0;32mreturn\u001b[0m \u001b[0mself\u001b[0m\u001b[0;34m.\u001b[0m\u001b[0m__inner_eval\u001b[0m\u001b[0;34m(\u001b[0m\u001b[0mself\u001b[0m\u001b[0;34m.\u001b[0m\u001b[0m_train_data_name\u001b[0m\u001b[0;34m,\u001b[0m \u001b[0;36m0\u001b[0m\u001b[0;34m,\u001b[0m \u001b[0mfeval\u001b[0m\u001b[0;34m)\u001b[0m\u001b[0;34m\u001b[0m\u001b[0;34m\u001b[0m\u001b[0m\n\u001b[0m\u001b[1;32m   3239\u001b[0m \u001b[0;34m\u001b[0m\u001b[0m\n\u001b[1;32m   3240\u001b[0m     \u001b[0;32mdef\u001b[0m \u001b[0meval_valid\u001b[0m\u001b[0;34m(\u001b[0m\u001b[0mself\u001b[0m\u001b[0;34m,\u001b[0m \u001b[0mfeval\u001b[0m\u001b[0;34m=\u001b[0m\u001b[0;32mNone\u001b[0m\u001b[0;34m)\u001b[0m\u001b[0;34m:\u001b[0m\u001b[0;34m\u001b[0m\u001b[0;34m\u001b[0m\u001b[0m\n",
      "\u001b[0;32m~/anaconda3/envs/libcityng/lib/python3.9/site-packages/lightgbm/basic.py\u001b[0m in \u001b[0;36m__inner_eval\u001b[0;34m(self, data_name, data_idx, feval)\u001b[0m\n\u001b[1;32m   3787\u001b[0m             \u001b[0mresult\u001b[0m \u001b[0;34m=\u001b[0m \u001b[0mnp\u001b[0m\u001b[0;34m.\u001b[0m\u001b[0mempty\u001b[0m\u001b[0;34m(\u001b[0m\u001b[0mself\u001b[0m\u001b[0;34m.\u001b[0m\u001b[0m__num_inner_eval\u001b[0m\u001b[0;34m,\u001b[0m \u001b[0mdtype\u001b[0m\u001b[0;34m=\u001b[0m\u001b[0mnp\u001b[0m\u001b[0;34m.\u001b[0m\u001b[0mfloat64\u001b[0m\u001b[0;34m)\u001b[0m\u001b[0;34m\u001b[0m\u001b[0;34m\u001b[0m\u001b[0m\n\u001b[1;32m   3788\u001b[0m             \u001b[0mtmp_out_len\u001b[0m \u001b[0;34m=\u001b[0m \u001b[0mctypes\u001b[0m\u001b[0;34m.\u001b[0m\u001b[0mc_int\u001b[0m\u001b[0;34m(\u001b[0m\u001b[0;36m0\u001b[0m\u001b[0;34m)\u001b[0m\u001b[0;34m\u001b[0m\u001b[0;34m\u001b[0m\u001b[0m\n\u001b[0;32m-> 3789\u001b[0;31m             _safe_call(_LIB.LGBM_BoosterGetEval(\n\u001b[0m\u001b[1;32m   3790\u001b[0m                 \u001b[0mself\u001b[0m\u001b[0;34m.\u001b[0m\u001b[0mhandle\u001b[0m\u001b[0;34m,\u001b[0m\u001b[0;34m\u001b[0m\u001b[0;34m\u001b[0m\u001b[0m\n\u001b[1;32m   3791\u001b[0m                 \u001b[0mctypes\u001b[0m\u001b[0;34m.\u001b[0m\u001b[0mc_int\u001b[0m\u001b[0;34m(\u001b[0m\u001b[0mdata_idx\u001b[0m\u001b[0;34m)\u001b[0m\u001b[0;34m,\u001b[0m\u001b[0;34m\u001b[0m\u001b[0;34m\u001b[0m\u001b[0m\n",
      "\u001b[0;31mKeyboardInterrupt\u001b[0m: "
     ]
    }
   ],
   "source": [
    "KF = StratifiedKFold(n_splits=kfold, random_state=seed, shuffle=True)\n",
    "feat_imp_lgb = list()\n",
    "\n",
    "oof_lgb = np.zeros(len(train))\n",
    "predictions_lgb = np.zeros((len(test)))\n",
    "print(train.shape[1])\n",
    "\n",
    "# 模型训练\n",
    "for fold_, (trn_idx, val_idx) in enumerate(KF.split(train.values, y.values)):\n",
    "    print(\"fold n°{}\".format(fold_))\n",
    "    trn_data = lgb.Dataset(train.iloc[trn_idx], label=y.iloc[trn_idx])\n",
    "    val_data = lgb.Dataset(train.iloc[val_idx], label=y.iloc[val_idx])\n",
    "    \n",
    "    num_round = 3000\n",
    "    clf = lgb.train(\n",
    "        lgb_params,\n",
    "        trn_data,\n",
    "        num_round,\n",
    "        valid_sets=[trn_data, val_data],\n",
    "        verbose_eval=100,\n",
    "        early_stopping_rounds=100,\n",
    "    )\n",
    "\n",
    "    oof_lgb[val_idx] = clf.predict(train.iloc[val_idx], num_iteration=clf.best_iteration)\n",
    "    predictions_lgb[:] += clf.predict(test, num_iteration=clf.best_iteration) / kfold\n",
    "    feat_imp_lgb.append(clf.feature_importance())\n",
    "\n",
    "print(\"AUC score: {}\".format(metrics.roc_auc_score(y, oof_lgb)))\n",
    "print(\"F1 score: {}\".format(metrics.f1_score(y, [1 if i >= 0.5 else 0 for i in oof_lgb])))\n",
    "print(\"Precision score: {}\".format(metrics.precision_score(y, [1 if i >= 0.5 else 0 for i in oof_lgb])))\n",
    "print(\"Recall score: {}\".format(metrics.recall_score(y, [1 if i >= 0.5 else 0 for i in oof_lgb])))"
   ]
  },
  {
   "cell_type": "code",
   "execution_count": null,
   "metadata": {},
   "outputs": [],
   "source": [
    "print(\"AUC score: {}\".format(metrics.roc_auc_score(y, oof_lgb)))\n",
    "print(\"F1 score: {}\".format(metrics.f1_score(y, [1 if i >= 0.5 else 0 for i in oof_lgb])))\n",
    "print(\"Precision score: {}\".format(metrics.precision_score(y, [1 if i >= 0.5 else 0 for i in oof_lgb])))\n",
    "print(\"Recall score: {}\".format(metrics.recall_score(y, [1 if i >= 0.5 else 0 for i in oof_lgb])))"
   ]
  },
  {
   "cell_type": "code",
   "execution_count": null,
   "metadata": {},
   "outputs": [],
   "source": [
    "np.save('predictions_lgb.npy', predictions_lgb)\n",
    "np.save('oof_lgb.npy', oof_lgb)\n",
    "np.save('feat_imp_lgb.npy', feat_imp_lgb)"
   ]
  },
  {
   "cell_type": "code",
   "execution_count": null,
   "metadata": {},
   "outputs": [],
   "source": [
    "predictions_lgb.shape, oof_lgb.shape "
   ]
  },
  {
   "cell_type": "code",
   "execution_count": null,
   "metadata": {},
   "outputs": [],
   "source": [
    "test_fea['prob'] = predictions_lgb\n",
    "train_fea['prob'] = oof_lgb"
   ]
  },
  {
   "cell_type": "code",
   "execution_count": null,
   "metadata": {},
   "outputs": [],
   "source": [
    "test_preds_lgb = []\n",
    "test_fea_len = test_fea['index'].nunique()\n",
    "for ind, test_fea_index in tqdm(test_fea[['vid', 'index', 'prob']].groupby('index'), total=test_fea_len):\n",
    "    # 对召回的10个从大到小排序\n",
    "    test_fea_index = test_fea_index.sort_values(by='prob', ascending=False)['vid'].values.tolist()\n",
    "    if len(test_fea_index) != 10:\n",
    "        print(ind) \n",
    "    # 对完整召回的100个剩下的其他的id，不在10个里的话就补充进去\n",
    "    preds_ind_origin = test_preds[ind]\n",
    "    for vid in preds_ind_origin:\n",
    "        if vid not in test_fea_index:\n",
    "            test_fea_index.append(vid)\n",
    "    if len(test_fea_index) != 100:\n",
    "        print('error', ind) \n",
    "    test_preds_lgb.append(test_fea_index)"
   ]
  },
  {
   "cell_type": "code",
   "execution_count": null,
   "metadata": {},
   "outputs": [],
   "source": [
    "df_test['next_item_prediction'] = test_preds_lgb\n",
    "df_test['next_item_prediction'].apply(len).describe()"
   ]
  },
  {
   "cell_type": "code",
   "execution_count": null,
   "metadata": {},
   "outputs": [],
   "source": [
    "df_test[['locale', 'next_item_prediction']].to_parquet('output/submission_task1_lgb_{}_{}.parquet'.format(seed, train.shape[1]), engine='pyarrow')"
   ]
  },
  {
   "attachments": {},
   "cell_type": "markdown",
   "metadata": {},
   "source": [
    "xgb"
   ]
  },
  {
   "cell_type": "code",
   "execution_count": null,
   "metadata": {},
   "outputs": [],
   "source": [
    "seed = 2023\n",
    "kfold = 5"
   ]
  },
  {
   "cell_type": "code",
   "execution_count": 72,
   "metadata": {},
   "outputs": [],
   "source": [
    "xgb_params = {\n",
    "    'objective': 'binary:logistic',\n",
    "    'eval_metric': 'logloss',\n",
    "    'random_state': seed,\n",
    "    'tree_method': 'hist',\n",
    "    'booster': 'gbtree',\n",
    "    'n_estimators': 1000, \n",
    "    'learning_rate': 0.1,\n",
    "    'max_depth': 6,\n",
    "    'min_child_weight': 12, \n",
    "    'subsample': 0.8,\n",
    "    'colsample_bytree': 1.0, \n",
    "    'alpha': 0.7,\n",
    "    'lambda': 0.1, \n",
    "    'gamma': 0.1, \n",
    "    \"nthread\": -1\n",
    "}"
   ]
  },
  {
   "cell_type": "code",
   "execution_count": 232,
   "metadata": {},
   "outputs": [],
   "source": [
    "xgb_params = {\n",
    "    'booster': 'gbtree',\n",
    "    'objective': 'binary:logistic',\n",
    "    'eval_metric': 'logloss',\n",
    "    'gamma': 1,\n",
    "    'min_child_weight': 1.5,\n",
    "    'max_depth': 6,\n",
    "    'lambda': 10,\n",
    "    'subsample': 0.7,\n",
    "    'colsample_bytree': 0.7,\n",
    "    'colsample_bylevel': 0.7,\n",
    "    'eta': 0.05,\n",
    "    'tree_method': 'exact',\n",
    "    'seed': seed,\n",
    "    'nthread': -1\n",
    "}"
   ]
  },
  {
   "cell_type": "code",
   "execution_count": 233,
   "metadata": {},
   "outputs": [
    {
     "data": {
      "text/plain": [
       "((19636288, 40), (3169697, 40), (19636288,))"
      ]
     },
     "execution_count": 233,
     "metadata": {},
     "output_type": "execute_result"
    }
   ],
   "source": [
    "if 'prob' in train_fea.columns:\n",
    "    train_fea = train_fea.drop('prob', axis=1)\n",
    "train = train_fea.iloc[:, 0: -1]\n",
    "if 'prob' in test_fea.columns:\n",
    "    test_fea = test_fea.drop('prob', axis=1)\n",
    "test = test_fea.iloc[:, 2:]\n",
    "y = train_fea.iloc[:, -1]\n",
    "\n",
    "train.shape, test.shape, y.shape"
   ]
  },
  {
   "cell_type": "code",
   "execution_count": 234,
   "metadata": {},
   "outputs": [
    {
     "name": "stdout",
     "output_type": "stream",
     "text": [
      "40\n",
      "fold n°0\n",
      "[0]\ttrain-logloss:0.67074\tval-logloss:0.67074\n",
      "[100]\ttrain-logloss:0.38975\tval-logloss:0.38982\n",
      "[200]\ttrain-logloss:0.38554\tval-logloss:0.38568\n",
      "[300]\ttrain-logloss:0.38430\tval-logloss:0.38451\n",
      "[400]\ttrain-logloss:0.38344\tval-logloss:0.38374\n",
      "[500]\ttrain-logloss:0.38281\tval-logloss:0.38321\n",
      "[600]\ttrain-logloss:0.38232\tval-logloss:0.38282\n"
     ]
    },
    {
     "ename": "KeyboardInterrupt",
     "evalue": "",
     "output_type": "error",
     "traceback": [
      "\u001b[0;31m---------------------------------------------------------------------------\u001b[0m",
      "\u001b[0;31mKeyboardInterrupt\u001b[0m                         Traceback (most recent call last)",
      "\u001b[0;32m<ipython-input-234-f433c376781b>\u001b[0m in \u001b[0;36m<module>\u001b[0;34m\u001b[0m\n\u001b[1;32m     15\u001b[0m \u001b[0;34m\u001b[0m\u001b[0m\n\u001b[1;32m     16\u001b[0m     \u001b[0mnum_round\u001b[0m \u001b[0;34m=\u001b[0m \u001b[0;36m3000\u001b[0m\u001b[0;34m\u001b[0m\u001b[0;34m\u001b[0m\u001b[0m\n\u001b[0;32m---> 17\u001b[0;31m     clf = xgb.train(\n\u001b[0m\u001b[1;32m     18\u001b[0m         \u001b[0mxgb_params\u001b[0m\u001b[0;34m,\u001b[0m\u001b[0;34m\u001b[0m\u001b[0;34m\u001b[0m\u001b[0m\n\u001b[1;32m     19\u001b[0m         \u001b[0mtrn_data\u001b[0m\u001b[0;34m,\u001b[0m\u001b[0;34m\u001b[0m\u001b[0;34m\u001b[0m\u001b[0m\n",
      "\u001b[0;32m~/anaconda3/envs/libcityng/lib/python3.9/site-packages/xgboost/core.py\u001b[0m in \u001b[0;36minner_f\u001b[0;34m(*args, **kwargs)\u001b[0m\n\u001b[1;32m    618\u001b[0m             \u001b[0;32mfor\u001b[0m \u001b[0mk\u001b[0m\u001b[0;34m,\u001b[0m \u001b[0marg\u001b[0m \u001b[0;32min\u001b[0m \u001b[0mzip\u001b[0m\u001b[0;34m(\u001b[0m\u001b[0msig\u001b[0m\u001b[0;34m.\u001b[0m\u001b[0mparameters\u001b[0m\u001b[0;34m,\u001b[0m \u001b[0margs\u001b[0m\u001b[0;34m)\u001b[0m\u001b[0;34m:\u001b[0m\u001b[0;34m\u001b[0m\u001b[0;34m\u001b[0m\u001b[0m\n\u001b[1;32m    619\u001b[0m                 \u001b[0mkwargs\u001b[0m\u001b[0;34m[\u001b[0m\u001b[0mk\u001b[0m\u001b[0;34m]\u001b[0m \u001b[0;34m=\u001b[0m \u001b[0marg\u001b[0m\u001b[0;34m\u001b[0m\u001b[0;34m\u001b[0m\u001b[0m\n\u001b[0;32m--> 620\u001b[0;31m             \u001b[0;32mreturn\u001b[0m \u001b[0mfunc\u001b[0m\u001b[0;34m(\u001b[0m\u001b[0;34m**\u001b[0m\u001b[0mkwargs\u001b[0m\u001b[0;34m)\u001b[0m\u001b[0;34m\u001b[0m\u001b[0;34m\u001b[0m\u001b[0m\n\u001b[0m\u001b[1;32m    621\u001b[0m \u001b[0;34m\u001b[0m\u001b[0m\n\u001b[1;32m    622\u001b[0m         \u001b[0;32mreturn\u001b[0m \u001b[0minner_f\u001b[0m\u001b[0;34m\u001b[0m\u001b[0;34m\u001b[0m\u001b[0m\n",
      "\u001b[0;32m~/anaconda3/envs/libcityng/lib/python3.9/site-packages/xgboost/training.py\u001b[0m in \u001b[0;36mtrain\u001b[0;34m(params, dtrain, num_boost_round, evals, obj, feval, maximize, early_stopping_rounds, evals_result, verbose_eval, xgb_model, callbacks, custom_metric)\u001b[0m\n\u001b[1;32m    183\u001b[0m         \u001b[0;32mif\u001b[0m \u001b[0mcb_container\u001b[0m\u001b[0;34m.\u001b[0m\u001b[0mbefore_iteration\u001b[0m\u001b[0;34m(\u001b[0m\u001b[0mbst\u001b[0m\u001b[0;34m,\u001b[0m \u001b[0mi\u001b[0m\u001b[0;34m,\u001b[0m \u001b[0mdtrain\u001b[0m\u001b[0;34m,\u001b[0m \u001b[0mevals\u001b[0m\u001b[0;34m)\u001b[0m\u001b[0;34m:\u001b[0m\u001b[0;34m\u001b[0m\u001b[0;34m\u001b[0m\u001b[0m\n\u001b[1;32m    184\u001b[0m             \u001b[0;32mbreak\u001b[0m\u001b[0;34m\u001b[0m\u001b[0;34m\u001b[0m\u001b[0m\n\u001b[0;32m--> 185\u001b[0;31m         \u001b[0mbst\u001b[0m\u001b[0;34m.\u001b[0m\u001b[0mupdate\u001b[0m\u001b[0;34m(\u001b[0m\u001b[0mdtrain\u001b[0m\u001b[0;34m,\u001b[0m \u001b[0mi\u001b[0m\u001b[0;34m,\u001b[0m \u001b[0mobj\u001b[0m\u001b[0;34m)\u001b[0m\u001b[0;34m\u001b[0m\u001b[0;34m\u001b[0m\u001b[0m\n\u001b[0m\u001b[1;32m    186\u001b[0m         \u001b[0;32mif\u001b[0m \u001b[0mcb_container\u001b[0m\u001b[0;34m.\u001b[0m\u001b[0mafter_iteration\u001b[0m\u001b[0;34m(\u001b[0m\u001b[0mbst\u001b[0m\u001b[0;34m,\u001b[0m \u001b[0mi\u001b[0m\u001b[0;34m,\u001b[0m \u001b[0mdtrain\u001b[0m\u001b[0;34m,\u001b[0m \u001b[0mevals\u001b[0m\u001b[0;34m)\u001b[0m\u001b[0;34m:\u001b[0m\u001b[0;34m\u001b[0m\u001b[0;34m\u001b[0m\u001b[0m\n\u001b[1;32m    187\u001b[0m             \u001b[0;32mbreak\u001b[0m\u001b[0;34m\u001b[0m\u001b[0;34m\u001b[0m\u001b[0m\n",
      "\u001b[0;32m~/anaconda3/envs/libcityng/lib/python3.9/site-packages/xgboost/core.py\u001b[0m in \u001b[0;36mupdate\u001b[0;34m(self, dtrain, iteration, fobj)\u001b[0m\n\u001b[1;32m   1916\u001b[0m \u001b[0;34m\u001b[0m\u001b[0m\n\u001b[1;32m   1917\u001b[0m         \u001b[0;32mif\u001b[0m \u001b[0mfobj\u001b[0m \u001b[0;32mis\u001b[0m \u001b[0;32mNone\u001b[0m\u001b[0;34m:\u001b[0m\u001b[0;34m\u001b[0m\u001b[0;34m\u001b[0m\u001b[0m\n\u001b[0;32m-> 1918\u001b[0;31m             _check_call(_LIB.XGBoosterUpdateOneIter(self.handle,\n\u001b[0m\u001b[1;32m   1919\u001b[0m                                                     \u001b[0mctypes\u001b[0m\u001b[0;34m.\u001b[0m\u001b[0mc_int\u001b[0m\u001b[0;34m(\u001b[0m\u001b[0miteration\u001b[0m\u001b[0;34m)\u001b[0m\u001b[0;34m,\u001b[0m\u001b[0;34m\u001b[0m\u001b[0;34m\u001b[0m\u001b[0m\n\u001b[1;32m   1920\u001b[0m                                                     dtrain.handle))\n",
      "\u001b[0;31mKeyboardInterrupt\u001b[0m: "
     ]
    }
   ],
   "source": [
    "KF = StratifiedKFold(n_splits=kfold, random_state=seed, shuffle=True)\n",
    "feat_imp_xgb = list()\n",
    "\n",
    "oof_xgb = np.zeros(len(train))\n",
    "predictions_xgb = np.zeros((len(test)))\n",
    "print(train.shape[1])\n",
    "\n",
    "# 模型训练\n",
    "for fold_, (trn_idx, val_idx) in enumerate(KF.split(train.values, y.values)):\n",
    "    print(\"fold n°{}\".format(fold_))\n",
    "    X_train, X_val = train.iloc[trn_idx], train.iloc[val_idx]\n",
    "    y_train, y_val = y.iloc[trn_idx], y.iloc[val_idx]\n",
    "    trn_data = xgb.DMatrix(X_train, label=y_train)\n",
    "    val_data = xgb.DMatrix(X_val, label=y_val)\n",
    "\n",
    "    num_round = 3000\n",
    "    clf = xgb.train(\n",
    "        xgb_params,\n",
    "        trn_data,\n",
    "        num_round,\n",
    "        evals = [(trn_data, 'train'), (val_data, 'val')],\n",
    "        verbose_eval=100,\n",
    "        early_stopping_rounds=100,\n",
    "    )\n",
    "\n",
    "    oof_xgb[val_idx] = clf.predict(val_data, iteration_range=(0, clf.best_iteration))\n",
    "    predictions_xgb[:] += clf.predict(xgb.DMatrix(test), iteration_range=(0, clf.best_iteration)) / kfold\n",
    "    feat_imp_xgb.append(clf.get_score())"
   ]
  },
  {
   "cell_type": "code",
   "execution_count": null,
   "metadata": {},
   "outputs": [
    {
     "name": "stdout",
     "output_type": "stream",
     "text": [
      "AUC score: 0.7459473405030757\n",
      "F1 score: 0.023517479921286524\n",
      "Precision score: 0.6333548699725408\n",
      "Recall score: 0.01198118015739832\n"
     ]
    }
   ],
   "source": [
    "print(\"AUC score: {}\".format(metrics.roc_auc_score(y, oof_xgb)))\n",
    "print(\"F1 score: {}\".format(metrics.f1_score(y, [1 if i >= 0.5 else 0 for i in oof_xgb])))\n",
    "print(\"Precision score: {}\".format(metrics.precision_score(y, [1 if i >= 0.5 else 0 for i in oof_xgb])))\n",
    "print(\"Recall score: {}\".format(metrics.recall_score(y, [1 if i >= 0.5 else 0 for i in oof_xgb])))"
   ]
  },
  {
   "cell_type": "code",
   "execution_count": null,
   "metadata": {},
   "outputs": [
    {
     "data": {
      "text/plain": [
       "(3169697,)"
      ]
     },
     "execution_count": 76,
     "metadata": {},
     "output_type": "execute_result"
    }
   ],
   "source": [
    "predictions_xgb.shape, oof_xgb.shape "
   ]
  },
  {
   "cell_type": "code",
   "execution_count": null,
   "metadata": {},
   "outputs": [],
   "source": [
    "np.save('predictions_xgb_newparam.npy', predictions_xgb)\n",
    "np.save('oof_xgb_newparam.npy', oof_xgb)\n",
    "np.save('feat_imp_xgb_newparam.npy', feat_imp_xgb)"
   ]
  },
  {
   "cell_type": "code",
   "execution_count": null,
   "metadata": {},
   "outputs": [],
   "source": [
    "test_fea['prob'] = predictions_xgb\n",
    "train_fea['prob'] = oof_xgb"
   ]
  },
  {
   "cell_type": "code",
   "execution_count": null,
   "metadata": {},
   "outputs": [
    {
     "name": "stderr",
     "output_type": "stream",
     "text": [
      " 43%|████▎     | 135232/316971 [03:01<03:42, 817.26it/s] "
     ]
    },
    {
     "name": "stdout",
     "output_type": "stream",
     "text": [
      "135090\n"
     ]
    },
    {
     "name": "stderr",
     "output_type": "stream",
     "text": [
      " 55%|█████▌    | 175898/316971 [03:54<02:35, 904.79it/s] "
     ]
    },
    {
     "name": "stdout",
     "output_type": "stream",
     "text": [
      "175732\n"
     ]
    },
    {
     "name": "stderr",
     "output_type": "stream",
     "text": [
      " 56%|█████▌    | 177975/316971 [03:57<03:08, 736.00it/s]"
     ]
    },
    {
     "name": "stdout",
     "output_type": "stream",
     "text": [
      "177882\n"
     ]
    },
    {
     "name": "stderr",
     "output_type": "stream",
     "text": [
      " 61%|██████    | 193151/316971 [04:18<03:06, 665.29it/s] "
     ]
    },
    {
     "name": "stdout",
     "output_type": "stream",
     "text": [
      "193020\n"
     ]
    },
    {
     "name": "stderr",
     "output_type": "stream",
     "text": [
      " 72%|███████▏  | 227628/316971 [05:05<02:02, 728.91it/s] "
     ]
    },
    {
     "name": "stdout",
     "output_type": "stream",
     "text": [
      "227523\n"
     ]
    },
    {
     "name": "stderr",
     "output_type": "stream",
     "text": [
      "100%|██████████| 316971/316971 [07:07<00:00, 741.44it/s] \n"
     ]
    }
   ],
   "source": [
    "test_preds_xgb = []\n",
    "test_fea_len = test_fea['index'].nunique()\n",
    "for ind, test_fea_index in tqdm(test_fea[['vid', 'index', 'prob']].groupby('index'), total=test_fea_len):\n",
    "    # 对召回的10个从大到小排序\n",
    "    test_fea_index = test_fea_index.sort_values(by='prob', ascending=False)['vid'].values.tolist()\n",
    "    if len(test_fea_index) != 10:\n",
    "        print(ind) \n",
    "    # 对完整召回的100个剩下的其他的id，不在10个里的话就补充进去\n",
    "    preds_ind_origin = test_preds[ind]\n",
    "    for vid in preds_ind_origin:\n",
    "        if vid not in test_fea_index:\n",
    "            test_fea_index.append(vid)\n",
    "    if len(test_fea_index) != 100:\n",
    "        print('error', ind) \n",
    "    test_preds_xgb.append(test_fea_index)"
   ]
  },
  {
   "cell_type": "code",
   "execution_count": null,
   "metadata": {},
   "outputs": [
    {
     "data": {
      "text/html": [
       "<div>\n",
       "<style scoped>\n",
       "    .dataframe tbody tr th:only-of-type {\n",
       "        vertical-align: middle;\n",
       "    }\n",
       "\n",
       "    .dataframe tbody tr th {\n",
       "        vertical-align: top;\n",
       "    }\n",
       "\n",
       "    .dataframe thead th {\n",
       "        text-align: right;\n",
       "    }\n",
       "</style>\n",
       "<table border=\"1\" class=\"dataframe\">\n",
       "  <thead>\n",
       "    <tr style=\"text-align: right;\">\n",
       "      <th></th>\n",
       "      <th>vid</th>\n",
       "      <th>index</th>\n",
       "      <th>prob</th>\n",
       "    </tr>\n",
       "  </thead>\n",
       "  <tbody>\n",
       "    <tr>\n",
       "      <th>0</th>\n",
       "      <td>B099NS1XPG</td>\n",
       "      <td>0</td>\n",
       "      <td>0.292281</td>\n",
       "    </tr>\n",
       "    <tr>\n",
       "      <th>1</th>\n",
       "      <td>B08496TCCQ</td>\n",
       "      <td>0</td>\n",
       "      <td>0.000004</td>\n",
       "    </tr>\n",
       "    <tr>\n",
       "      <th>2</th>\n",
       "      <td>B01BVG1XJS</td>\n",
       "      <td>0</td>\n",
       "      <td>0.000004</td>\n",
       "    </tr>\n",
       "    <tr>\n",
       "      <th>3</th>\n",
       "      <td>B099NR3X6D</td>\n",
       "      <td>0</td>\n",
       "      <td>0.286143</td>\n",
       "    </tr>\n",
       "    <tr>\n",
       "      <th>4</th>\n",
       "      <td>B09WDSH4CD</td>\n",
       "      <td>0</td>\n",
       "      <td>0.307145</td>\n",
       "    </tr>\n",
       "    <tr>\n",
       "      <th>5</th>\n",
       "      <td>B0BHWQJJKW</td>\n",
       "      <td>0</td>\n",
       "      <td>0.274711</td>\n",
       "    </tr>\n",
       "    <tr>\n",
       "      <th>6</th>\n",
       "      <td>B07LG5T3V9</td>\n",
       "      <td>0</td>\n",
       "      <td>0.155305</td>\n",
       "    </tr>\n",
       "    <tr>\n",
       "      <th>7</th>\n",
       "      <td>B0BGL7KC2D</td>\n",
       "      <td>0</td>\n",
       "      <td>0.264385</td>\n",
       "    </tr>\n",
       "    <tr>\n",
       "      <th>8</th>\n",
       "      <td>B0B53KBXR8</td>\n",
       "      <td>0</td>\n",
       "      <td>0.213375</td>\n",
       "    </tr>\n",
       "    <tr>\n",
       "      <th>9</th>\n",
       "      <td>B07QPV9Z7X</td>\n",
       "      <td>0</td>\n",
       "      <td>0.000707</td>\n",
       "    </tr>\n",
       "  </tbody>\n",
       "</table>\n",
       "</div>"
      ],
      "text/plain": [
       "          vid  index      prob\n",
       "0  B099NS1XPG      0  0.292281\n",
       "1  B08496TCCQ      0  0.000004\n",
       "2  B01BVG1XJS      0  0.000004\n",
       "3  B099NR3X6D      0  0.286143\n",
       "4  B09WDSH4CD      0  0.307145\n",
       "5  B0BHWQJJKW      0  0.274711\n",
       "6  B07LG5T3V9      0  0.155305\n",
       "7  B0BGL7KC2D      0  0.264385\n",
       "8  B0B53KBXR8      0  0.213375\n",
       "9  B07QPV9Z7X      0  0.000707"
      ]
     },
     "execution_count": 210,
     "metadata": {},
     "output_type": "execute_result"
    }
   ],
   "source": [
    "test_fea[test_fea['index'] == 0][['vid', 'index', 'prob']]"
   ]
  },
  {
   "cell_type": "code",
   "execution_count": null,
   "metadata": {},
   "outputs": [
    {
     "data": {
      "text/plain": [
       "count    316971.0\n",
       "mean        100.0\n",
       "std           0.0\n",
       "min         100.0\n",
       "25%         100.0\n",
       "50%         100.0\n",
       "75%         100.0\n",
       "max         100.0\n",
       "Name: next_item_prediction, dtype: float64"
      ]
     },
     "execution_count": 132,
     "metadata": {},
     "output_type": "execute_result"
    }
   ],
   "source": [
    "df_test['next_item_prediction'] = test_preds_xgb\n",
    "df_test['next_item_prediction'].apply(len).describe()"
   ]
  },
  {
   "cell_type": "code",
   "execution_count": null,
   "metadata": {},
   "outputs": [],
   "source": [
    "df_test[['locale', 'next_item_prediction']].to_parquet('output/submission_task1_xgb_{}_{}_newparam.parquet'.format(seed, train.shape[1]), engine='pyarrow')"
   ]
  },
  {
   "attachments": {},
   "cell_type": "markdown",
   "metadata": {},
   "source": [
    "cbc"
   ]
  },
  {
   "cell_type": "code",
   "execution_count": 205,
   "metadata": {},
   "outputs": [],
   "source": [
    "seed = 2023\n",
    "kfold = 5"
   ]
  },
  {
   "cell_type": "code",
   "execution_count": 206,
   "metadata": {},
   "outputs": [],
   "source": [
    "cbc_params = {\n",
    "    'random_state': seed,\n",
    "    'loss_function': 'Logloss',\n",
    "    'eval_metric': 'Logloss',\n",
    "    'verbose': False,\n",
    "    'learning_rate': 0.05,\n",
    "    'depth': 5,\n",
    "    'rsm': 0.2020238568794654,\n",
    "    # 'min_data_in_leaf': 255,\n",
    "    # 'l2_leaf_reg': 5,\n",
    "    # 'subsample': 0.7,\n",
    "    # 'use_best_model': True,\n",
    "    # 'max_leaves': 12,\n",
    "    # 'metric_period': 500,\n",
    "    'n_estimators': 3000,\n",
    "    'thread_count': -1\n",
    "}"
   ]
  },
  {
   "cell_type": "code",
   "execution_count": 219,
   "metadata": {},
   "outputs": [
    {
     "data": {
      "text/plain": [
       "((19636288, 40), (3169697, 40), (19636288,))"
      ]
     },
     "execution_count": 219,
     "metadata": {},
     "output_type": "execute_result"
    }
   ],
   "source": [
    "if 'prob' in train_fea.columns:\n",
    "    train_fea = train_fea.drop('prob', axis=1)\n",
    "train = train_fea.iloc[:, 0: -1]\n",
    "if 'prob' in test_fea.columns:\n",
    "    test_fea = test_fea.drop('prob', axis=1)\n",
    "test = test_fea.iloc[:, 2:]\n",
    "y = train_fea.iloc[:, -1]\n",
    "\n",
    "train.shape, test.shape, y.shape"
   ]
  },
  {
   "cell_type": "code",
   "execution_count": 225,
   "metadata": {},
   "outputs": [
    {
     "name": "stdout",
     "output_type": "stream",
     "text": [
      "40\n",
      "fold n°0\n",
      "0:\tlearn: 0.6357881\ttest: 0.6358288\tbest: 0.6358288 (0)\ttotal: 9.03s\tremaining: 7h 31m 34s\n",
      "100:\tlearn: 0.3916500\ttest: 0.3912687\tbest: 0.3912687 (100)\ttotal: 10m 39s\tremaining: 5h 5m 42s\n",
      "200:\tlearn: 0.3515971\ttest: 0.3049604\tbest: 0.3049604 (200)\ttotal: 23m 27s\tremaining: 5h 26m 36s\n",
      "300:\tlearn: 0.3452265\ttest: 0.2908280\tbest: 0.2908280 (300)\ttotal: 33m 7s\tremaining: 4h 56m 57s\n",
      "400:\tlearn: 0.3359115\ttest: 0.2645723\tbest: 0.2645723 (400)\ttotal: 46m 44s\tremaining: 5h 2m 58s\n",
      "500:\tlearn: 0.3311241\ttest: 0.2492424\tbest: 0.2492424 (500)\ttotal: 1h 11s\tremaining: 5h 12s\n",
      "600:\tlearn: 0.3302944\ttest: 0.2476811\tbest: 0.2476811 (600)\ttotal: 1h 10m 31s\tremaining: 4h 41m 31s\n",
      "700:\tlearn: 0.3294730\ttest: 0.2453735\tbest: 0.2453735 (700)\ttotal: 1h 21m 36s\tremaining: 4h 27m 37s\n",
      "800:\tlearn: 0.3291346\ttest: 0.2449336\tbest: 0.2449299 (799)\ttotal: 1h 31m 16s\tremaining: 4h 10m 35s\n",
      "900:\tlearn: 0.3284237\ttest: 0.2425301\tbest: 0.2425301 (900)\ttotal: 1h 41m 25s\tremaining: 3h 56m 16s\n",
      "1000:\tlearn: 0.3276643\ttest: 0.2403950\tbest: 0.2403950 (1000)\ttotal: 1h 51m 45s\tremaining: 3h 43m 10s\n",
      "1100:\tlearn: 0.3269758\ttest: 0.2380478\tbest: 0.2380478 (1100)\ttotal: 2h 2m 16s\tremaining: 3h 30m 54s\n",
      "1200:\tlearn: 0.3264416\ttest: 0.2364023\tbest: 0.2364023 (1200)\ttotal: 2h 13m 27s\tremaining: 3h 19m 54s\n",
      "1300:\tlearn: 0.3258537\ttest: 0.2344364\tbest: 0.2344364 (1300)\ttotal: 2h 24m 26s\tremaining: 3h 8m 38s\n",
      "1400:\tlearn: 0.3255856\ttest: 0.2338346\tbest: 0.2338314 (1394)\ttotal: 2h 35m 9s\tremaining: 2h 57m 5s\n",
      "1500:\tlearn: 0.3249910\ttest: 0.2316397\tbest: 0.2316397 (1500)\ttotal: 2h 47m 23s\tremaining: 2h 47m 9s\n",
      "1600:\tlearn: 0.3245439\ttest: 0.2301098\tbest: 0.2301098 (1600)\ttotal: 2h 59m 2s\tremaining: 2h 36m 26s\n",
      "1700:\tlearn: 0.3239171\ttest: 0.2281277\tbest: 0.2281277 (1700)\ttotal: 3h 12m 42s\tremaining: 2h 27m 10s\n",
      "1800:\tlearn: 0.3233852\ttest: 0.2263145\tbest: 0.2262969 (1789)\ttotal: 3h 25m 56s\tremaining: 2h 17m 6s\n",
      "1900:\tlearn: 0.3229379\ttest: 0.2249911\tbest: 0.2249911 (1900)\ttotal: 3h 38m 45s\tremaining: 2h 6m 28s\n",
      "2000:\tlearn: 0.3227690\ttest: 0.2246243\tbest: 0.2246243 (2000)\ttotal: 3h 45m 37s\tremaining: 1h 52m 38s\n",
      "2100:\tlearn: 0.3225504\ttest: 0.2241005\tbest: 0.2241005 (2100)\ttotal: 3h 52m 35s\tremaining: 1h 39m 31s\n",
      "2200:\tlearn: 0.3224021\ttest: 0.2238383\tbest: 0.2238383 (2200)\ttotal: 3h 58m 24s\tremaining: 1h 26m 32s\n",
      "2300:\tlearn: 0.3222475\ttest: 0.2234483\tbest: 0.2234483 (2300)\ttotal: 4h 4m 10s\tremaining: 1h 14m 10s\n",
      "2400:\tlearn: 0.3220568\ttest: 0.2230727\tbest: 0.2230727 (2400)\ttotal: 4h 11m 11s\tremaining: 1h 2m 39s\n",
      "2500:\tlearn: 0.3218478\ttest: 0.2224996\tbest: 0.2224996 (2500)\ttotal: 4h 17m 37s\tremaining: 51m 24s\n",
      "2600:\tlearn: 0.3216645\ttest: 0.2222087\tbest: 0.2222087 (2600)\ttotal: 4h 24m 17s\tremaining: 40m 32s\n",
      "2700:\tlearn: 0.3213715\ttest: 0.2215795\tbest: 0.2215795 (2700)\ttotal: 4h 31m 39s\tremaining: 30m 4s\n",
      "2800:\tlearn: 0.3212149\ttest: 0.2212670\tbest: 0.2212670 (2800)\ttotal: 4h 37m 33s\tremaining: 19m 43s\n",
      "2900:\tlearn: 0.3210611\ttest: 0.2208614\tbest: 0.2208614 (2900)\ttotal: 4h 44m 3s\tremaining: 9m 41s\n",
      "2999:\tlearn: 0.3208791\ttest: 0.2205168\tbest: 0.2205083 (2994)\ttotal: 4h 50m 52s\tremaining: 0us\n",
      "\n",
      "bestTest = 0.2205082873\n",
      "bestIteration = 2994\n",
      "\n",
      "Shrink model to first 2995 iterations.\n",
      "fold n°1\n",
      "0:\tlearn: 0.6358659\ttest: 0.6358563\tbest: 0.6358563 (0)\ttotal: 3.73s\tremaining: 3h 6m 42s\n",
      "100:\tlearn: 0.3796873\ttest: 0.3674147\tbest: 0.3674147 (100)\ttotal: 5m 11s\tremaining: 2h 28m 58s\n",
      "200:\tlearn: 0.3629882\ttest: 0.3333892\tbest: 0.3333892 (200)\ttotal: 10m 27s\tremaining: 2h 25m 35s\n",
      "300:\tlearn: 0.3471302\ttest: 0.2968127\tbest: 0.2968127 (300)\ttotal: 16m 26s\tremaining: 2h 27m 28s\n",
      "400:\tlearn: 0.3387827\ttest: 0.2743523\tbest: 0.2743523 (400)\ttotal: 22m 31s\tremaining: 2h 26m 2s\n",
      "500:\tlearn: 0.3367994\ttest: 0.2681090\tbest: 0.2681090 (500)\ttotal: 27m 57s\tremaining: 2h 19m 27s\n",
      "600:\tlearn: 0.3361832\ttest: 0.2670035\tbest: 0.2670035 (600)\ttotal: 32m 44s\tremaining: 2h 10m 41s\n",
      "700:\tlearn: 0.3357243\ttest: 0.2659872\tbest: 0.2659872 (700)\ttotal: 37m 41s\tremaining: 2h 3m 37s\n",
      "800:\tlearn: 0.3347382\ttest: 0.2630738\tbest: 0.2630738 (800)\ttotal: 42m 29s\tremaining: 1h 56m 38s\n",
      "900:\tlearn: 0.3324746\ttest: 0.2555646\tbest: 0.2555646 (900)\ttotal: 48m 34s\tremaining: 1h 53m 9s\n",
      "1000:\tlearn: 0.3301552\ttest: 0.2471321\tbest: 0.2471321 (1000)\ttotal: 54m 30s\tremaining: 1h 48m 51s\n",
      "1100:\tlearn: 0.3280671\ttest: 0.2394495\tbest: 0.2394495 (1100)\ttotal: 1h 34s\tremaining: 1h 44m 29s\n",
      "1200:\tlearn: 0.3270060\ttest: 0.2355766\tbest: 0.2355766 (1200)\ttotal: 1h 6m 34s\tremaining: 1h 39m 43s\n",
      "1300:\tlearn: 0.3259257\ttest: 0.2320000\tbest: 0.2320000 (1300)\ttotal: 1h 12m 41s\tremaining: 1h 34m 56s\n",
      "1400:\tlearn: 0.3253440\ttest: 0.2302666\tbest: 0.2302666 (1400)\ttotal: 1h 18m 48s\tremaining: 1h 29m 57s\n",
      "1500:\tlearn: 0.3245984\ttest: 0.2279551\tbest: 0.2279539 (1485)\ttotal: 1h 25m 8s\tremaining: 1h 25m 1s\n",
      "1600:\tlearn: 0.3241102\ttest: 0.2266269\tbest: 0.2266269 (1600)\ttotal: 1h 31m 27s\tremaining: 1h 19m 55s\n",
      "1700:\tlearn: 0.3237474\ttest: 0.2258096\tbest: 0.2258084 (1698)\ttotal: 1h 37m 41s\tremaining: 1h 14m 35s\n",
      "1800:\tlearn: 0.3235321\ttest: 0.2254831\tbest: 0.2254796 (1792)\ttotal: 1h 43m 12s\tremaining: 1h 8m 42s\n",
      "1900:\tlearn: 0.3232856\ttest: 0.2250276\tbest: 0.2250276 (1900)\ttotal: 1h 49m\tremaining: 1h 3m 1s\n",
      "2000:\tlearn: 0.3230619\ttest: 0.2247002\tbest: 0.2246770 (1994)\ttotal: 1h 55m 5s\tremaining: 57m 27s\n",
      "2100:\tlearn: 0.3227421\ttest: 0.2237596\tbest: 0.2237596 (2100)\ttotal: 2h 1m 27s\tremaining: 51m 58s\n",
      "2200:\tlearn: 0.3225123\ttest: 0.2231449\tbest: 0.2231449 (2200)\ttotal: 2h 7m 54s\tremaining: 46m 26s\n",
      "2300:\tlearn: 0.3222006\ttest: 0.2223574\tbest: 0.2223574 (2300)\ttotal: 2h 14m 7s\tremaining: 40m 44s\n",
      "2400:\tlearn: 0.3220394\ttest: 0.2217829\tbest: 0.2217829 (2400)\ttotal: 2h 20m 5s\tremaining: 34m 57s\n",
      "2500:\tlearn: 0.3219148\ttest: 0.2215805\tbest: 0.2215805 (2500)\ttotal: 2h 26m 1s\tremaining: 29m 8s\n",
      "2600:\tlearn: 0.3217365\ttest: 0.2213499\tbest: 0.2213499 (2600)\ttotal: 2h 32m 14s\tremaining: 23m 21s\n",
      "2700:\tlearn: 0.3215721\ttest: 0.2210667\tbest: 0.2210641 (2687)\ttotal: 2h 38m 6s\tremaining: 17m 30s\n",
      "2800:\tlearn: 0.3213688\ttest: 0.2205900\tbest: 0.2205793 (2780)\ttotal: 2h 44m 12s\tremaining: 11m 39s\n",
      "2900:\tlearn: 0.3211985\ttest: 0.2203177\tbest: 0.2203177 (2900)\ttotal: 2h 50m 3s\tremaining: 5m 48s\n",
      "2999:\tlearn: 0.3210046\ttest: 0.2197164\tbest: 0.2197164 (2999)\ttotal: 2h 56m 57s\tremaining: 0us\n",
      "\n",
      "bestTest = 0.2197164482\n",
      "bestIteration = 2999\n",
      "\n",
      "fold n°2\n",
      "0:\tlearn: 0.6357751\ttest: 0.6357736\tbest: 0.6357736 (0)\ttotal: 3.87s\tremaining: 3h 13m 19s\n",
      "100:\tlearn: 0.3916202\ttest: 0.3912133\tbest: 0.3912133 (100)\ttotal: 4m 56s\tremaining: 2h 21m 54s\n",
      "200:\tlearn: 0.3764066\ttest: 0.3631437\tbest: 0.3631437 (200)\ttotal: 10m 15s\tremaining: 2h 22m 52s\n",
      "300:\tlearn: 0.3588754\ttest: 0.3257772\tbest: 0.3257772 (300)\ttotal: 15m 58s\tremaining: 2h 23m 18s\n",
      "400:\tlearn: 0.3526654\ttest: 0.3114100\tbest: 0.3114100 (400)\ttotal: 21m 30s\tremaining: 2h 19m 24s\n",
      "500:\tlearn: 0.3477047\ttest: 0.3000858\tbest: 0.3000858 (500)\ttotal: 26m 47s\tremaining: 2h 13m 39s\n",
      "600:\tlearn: 0.3450907\ttest: 0.2931867\tbest: 0.2931867 (600)\ttotal: 32m 1s\tremaining: 2h 7m 51s\n",
      "700:\tlearn: 0.3434002\ttest: 0.2891763\tbest: 0.2891763 (700)\ttotal: 37m 18s\tremaining: 2h 2m 20s\n",
      "800:\tlearn: 0.3382473\ttest: 0.2771276\tbest: 0.2771276 (800)\ttotal: 42m 58s\tremaining: 1h 57m 59s\n",
      "900:\tlearn: 0.3340203\ttest: 0.2629044\tbest: 0.2629044 (900)\ttotal: 49m 28s\tremaining: 1h 55m 16s\n",
      "1000:\tlearn: 0.3324052\ttest: 0.2579926\tbest: 0.2579926 (1000)\ttotal: 58m 7s\tremaining: 1h 56m 5s\n",
      "1100:\tlearn: 0.3295152\ttest: 0.2471512\tbest: 0.2471512 (1100)\ttotal: 1h 9m\tremaining: 1h 59m\n",
      "1200:\tlearn: 0.3283510\ttest: 0.2423535\tbest: 0.2423535 (1200)\ttotal: 1h 18m 4s\tremaining: 1h 56m 56s\n",
      "1300:\tlearn: 0.3275370\ttest: 0.2391947\tbest: 0.2391947 (1300)\ttotal: 1h 27m 11s\tremaining: 1h 53m 52s\n",
      "1400:\tlearn: 0.3269410\ttest: 0.2375293\tbest: 0.2375293 (1400)\ttotal: 1h 38m 51s\tremaining: 1h 52m 50s\n",
      "1500:\tlearn: 0.3261380\ttest: 0.2344750\tbest: 0.2344750 (1500)\ttotal: 2h 12m 6s\tremaining: 2h 11m 56s\n",
      "1600:\tlearn: 0.3253871\ttest: 0.2313238\tbest: 0.2313238 (1600)\ttotal: 2h 49m 10s\tremaining: 2h 27m 49s\n",
      "1700:\tlearn: 0.3248478\ttest: 0.2295648\tbest: 0.2295648 (1700)\ttotal: 3h 31m 48s\tremaining: 2h 41m 44s\n",
      "1800:\tlearn: 0.3245410\ttest: 0.2289631\tbest: 0.2289631 (1800)\ttotal: 4h 9m 39s\tremaining: 2h 46m 12s\n",
      "1900:\tlearn: 0.3242358\ttest: 0.2282116\tbest: 0.2282116 (1900)\ttotal: 4h 45m 41s\tremaining: 2h 45m 9s\n",
      "2000:\tlearn: 0.3239871\ttest: 0.2275713\tbest: 0.2275693 (1998)\ttotal: 5h 19m 5s\tremaining: 2h 39m 18s\n",
      "2100:\tlearn: 0.3236930\ttest: 0.2267811\tbest: 0.2267719 (2097)\ttotal: 5h 56m 3s\tremaining: 2h 32m 21s\n",
      "2200:\tlearn: 0.3233956\ttest: 0.2259806\tbest: 0.2259806 (2200)\ttotal: 6h 21m 51s\tremaining: 2h 18m 37s\n",
      "2300:\tlearn: 0.3230725\ttest: 0.2251297\tbest: 0.2251297 (2300)\ttotal: 6h 37m 39s\tremaining: 2h 47s\n",
      "2400:\tlearn: 0.3226490\ttest: 0.2238869\tbest: 0.2238869 (2400)\ttotal: 6h 53m 52s\tremaining: 1h 43m 15s\n",
      "2500:\tlearn: 0.3224080\ttest: 0.2235739\tbest: 0.2235429 (2499)\ttotal: 7h 10m 4s\tremaining: 1h 25m 48s\n",
      "2600:\tlearn: 0.3221125\ttest: 0.2227888\tbest: 0.2227888 (2600)\ttotal: 7h 25m 17s\tremaining: 1h 8m 18s\n",
      "2700:\tlearn: 0.3218414\ttest: 0.2219057\tbest: 0.2219057 (2700)\ttotal: 7h 40m 53s\tremaining: 51m 1s\n",
      "2800:\tlearn: 0.3216850\ttest: 0.2216622\tbest: 0.2216323 (2783)\ttotal: 8h 11m 49s\tremaining: 34m 56s\n",
      "2900:\tlearn: 0.3213433\ttest: 0.2206215\tbest: 0.2206215 (2900)\ttotal: 8h 56m 32s\tremaining: 18m 18s\n",
      "2999:\tlearn: 0.3211217\ttest: 0.2202050\tbest: 0.2202047 (2998)\ttotal: 9h 43m 47s\tremaining: 0us\n",
      "\n",
      "bestTest = 0.2202046937\n",
      "bestIteration = 2998\n",
      "\n",
      "Shrink model to first 2999 iterations.\n",
      "fold n°3\n",
      "0:\tlearn: 0.6361511\ttest: 0.6361618\tbest: 0.6361618 (0)\ttotal: 25.3s\tremaining: 21h 4m 33s\n",
      "100:\tlearn: 0.3862425\ttest: 0.3811713\tbest: 0.3811713 (100)\ttotal: 31m 14s\tremaining: 14h 56m 45s\n",
      "200:\tlearn: 0.3547826\ttest: 0.3127792\tbest: 0.3127792 (200)\ttotal: 1h 6m 1s\tremaining: 15h 19m 31s\n",
      "300:\tlearn: 0.3488720\ttest: 0.3000013\tbest: 0.3000013 (300)\ttotal: 1h 37m 16s\tremaining: 14h 32m 12s\n",
      "400:\tlearn: 0.3431925\ttest: 0.2863460\tbest: 0.2863460 (400)\ttotal: 2h 10m 14s\tremaining: 14h 4m 8s\n",
      "500:\tlearn: 0.3414354\ttest: 0.2821919\tbest: 0.2821919 (500)\ttotal: 2h 44m 21s\tremaining: 13h 39m 49s\n",
      "600:\tlearn: 0.3385411\ttest: 0.2743372\tbest: 0.2743372 (600)\ttotal: 3h 5m 16s\tremaining: 12h 19m 33s\n",
      "700:\tlearn: 0.3345264\ttest: 0.2624054\tbest: 0.2624054 (700)\ttotal: 3h 19m 42s\tremaining: 10h 54m 56s\n",
      "800:\tlearn: 0.3311570\ttest: 0.2506432\tbest: 0.2506432 (800)\ttotal: 3h 34m 52s\tremaining: 9h 49m 54s\n",
      "900:\tlearn: 0.3299371\ttest: 0.2470627\tbest: 0.2470627 (900)\ttotal: 3h 48m 10s\tremaining: 8h 51m 33s\n",
      "1000:\tlearn: 0.3288459\ttest: 0.2435467\tbest: 0.2435467 (1000)\ttotal: 4h 2m 23s\tremaining: 8h 4m 4s\n",
      "1100:\tlearn: 0.3279729\ttest: 0.2405776\tbest: 0.2405707 (1089)\ttotal: 4h 16m 51s\tremaining: 7h 23m 2s\n",
      "1200:\tlearn: 0.3275869\ttest: 0.2392919\tbest: 0.2392919 (1200)\ttotal: 4h 30m 3s\tremaining: 6h 44m 31s\n",
      "1300:\tlearn: 0.3271406\ttest: 0.2375726\tbest: 0.2375726 (1300)\ttotal: 4h 43m 56s\tremaining: 6h 10m 48s\n",
      "1400:\tlearn: 0.3264442\ttest: 0.2349087\tbest: 0.2349081 (1397)\ttotal: 4h 57m 44s\tremaining: 5h 39m 49s\n",
      "1500:\tlearn: 0.3258399\ttest: 0.2327209\tbest: 0.2327209 (1500)\ttotal: 5h 12m 46s\tremaining: 5h 12m 21s\n",
      "1600:\tlearn: 0.3253521\ttest: 0.2310738\tbest: 0.2310738 (1600)\ttotal: 5h 25m 13s\tremaining: 4h 44m 11s\n",
      "1700:\tlearn: 0.3246877\ttest: 0.2285093\tbest: 0.2285093 (1700)\ttotal: 5h 40m 28s\tremaining: 4h 20m\n",
      "1800:\tlearn: 0.3242388\ttest: 0.2276883\tbest: 0.2276883 (1800)\ttotal: 5h 54m 3s\tremaining: 3h 55m 42s\n",
      "1900:\tlearn: 0.3238122\ttest: 0.2261419\tbest: 0.2261419 (1900)\ttotal: 6h 29m 36s\tremaining: 3h 45m 14s\n",
      "2000:\tlearn: 0.3235049\ttest: 0.2253252\tbest: 0.2253252 (2000)\ttotal: 7h 5m 56s\tremaining: 3h 32m 39s\n",
      "2100:\tlearn: 0.3231760\ttest: 0.2245899\tbest: 0.2245752 (2078)\ttotal: 7h 48m 53s\tremaining: 3h 20m 38s\n",
      "2200:\tlearn: 0.3227674\ttest: 0.2232061\tbest: 0.2231749 (2197)\ttotal: 8h 29m 2s\tremaining: 3h 4m 47s\n",
      "2300:\tlearn: 0.3223897\ttest: 0.2224212\tbest: 0.2224212 (2300)\ttotal: 9h 9m 45s\tremaining: 2h 47m\n",
      "2400:\tlearn: 0.3221070\ttest: 0.2216584\tbest: 0.2216581 (2393)\ttotal: 9h 56m 15s\tremaining: 2h 28m 45s\n",
      "2500:\tlearn: 0.3218965\ttest: 0.2213357\tbest: 0.2213357 (2500)\ttotal: 10h 34m 28s\tremaining: 2h 6m 35s\n",
      "2600:\tlearn: 0.3215259\ttest: 0.2204104\tbest: 0.2204104 (2600)\ttotal: 11h 9m 31s\tremaining: 1h 42m 42s\n",
      "2700:\tlearn: 0.3213018\ttest: 0.2199303\tbest: 0.2199303 (2700)\ttotal: 11h 22m 41s\tremaining: 1h 15m 34s\n",
      "2800:\tlearn: 0.3211441\ttest: 0.2197304\tbest: 0.2197275 (2799)\ttotal: 11h 34m 8s\tremaining: 49m 18s\n",
      "2900:\tlearn: 0.3209890\ttest: 0.2192721\tbest: 0.2192721 (2900)\ttotal: 11h 44m 55s\tremaining: 24m 3s\n",
      "2999:\tlearn: 0.3208005\ttest: 0.2190062\tbest: 0.2189878 (2993)\ttotal: 11h 56m 27s\tremaining: 0us\n",
      "\n",
      "bestTest = 0.2189878402\n",
      "bestIteration = 2993\n",
      "\n",
      "Shrink model to first 2994 iterations.\n",
      "fold n°4\n",
      "0:\tlearn: 0.6361182\ttest: 0.6360812\tbest: 0.6360812 (0)\ttotal: 6.1s\tremaining: 5h 5m 3s\n",
      "100:\tlearn: 0.3922885\ttest: 0.3921948\tbest: 0.3921948 (100)\ttotal: 8m 32s\tremaining: 4h 5m 23s\n",
      "200:\tlearn: 0.3783135\ttest: 0.3679174\tbest: 0.3679174 (200)\ttotal: 17m 22s\tremaining: 4h 1m 55s\n",
      "300:\tlearn: 0.3457909\ttest: 0.2931946\tbest: 0.2931946 (300)\ttotal: 27m 49s\tremaining: 4h 9m 30s\n",
      "400:\tlearn: 0.3415514\ttest: 0.2820613\tbest: 0.2820613 (400)\ttotal: 35m 49s\tremaining: 3h 52m 10s\n",
      "500:\tlearn: 0.3382987\ttest: 0.2741626\tbest: 0.2741626 (500)\ttotal: 43m 35s\tremaining: 3h 37m 25s\n",
      "600:\tlearn: 0.3364216\ttest: 0.2690965\tbest: 0.2690965 (600)\ttotal: 51m 30s\tremaining: 3h 25m 35s\n",
      "700:\tlearn: 0.3352127\ttest: 0.2663088\tbest: 0.2663088 (700)\ttotal: 58m 53s\tremaining: 3h 13m 7s\n",
      "800:\tlearn: 0.3331802\ttest: 0.2595228\tbest: 0.2595228 (800)\ttotal: 1h 7m 20s\tremaining: 3h 4m 51s\n",
      "900:\tlearn: 0.3306883\ttest: 0.2497000\tbest: 0.2497000 (900)\ttotal: 1h 16m 31s\tremaining: 2h 58m 16s\n",
      "1000:\tlearn: 0.3283638\ttest: 0.2419656\tbest: 0.2419656 (1000)\ttotal: 1h 26m 24s\tremaining: 2h 52m 32s\n",
      "1100:\tlearn: 0.3266922\ttest: 0.2357879\tbest: 0.2357879 (1100)\ttotal: 1h 36m 6s\tremaining: 2h 45m 45s\n",
      "1200:\tlearn: 0.3257597\ttest: 0.2326487\tbest: 0.2326487 (1200)\ttotal: 1h 46m 29s\tremaining: 2h 39m 30s\n",
      "1300:\tlearn: 0.3250223\ttest: 0.2302076\tbest: 0.2302076 (1300)\ttotal: 1h 56m 39s\tremaining: 2h 32m 20s\n",
      "1400:\tlearn: 0.3245741\ttest: 0.2286824\tbest: 0.2286824 (1400)\ttotal: 2h 7m 48s\tremaining: 2h 25m 52s\n",
      "1500:\tlearn: 0.3239379\ttest: 0.2262851\tbest: 0.2262851 (1500)\ttotal: 2h 20m 4s\tremaining: 2h 19m 53s\n",
      "1600:\tlearn: 0.3236631\ttest: 0.2259346\tbest: 0.2259319 (1598)\ttotal: 2h 31m 22s\tremaining: 2h 12m 16s\n",
      "1700:\tlearn: 0.3233847\ttest: 0.2253552\tbest: 0.2253504 (1698)\ttotal: 2h 42m 54s\tremaining: 2h 4m 24s\n",
      "1800:\tlearn: 0.3230673\ttest: 0.2242332\tbest: 0.2242332 (1800)\ttotal: 2h 54m 21s\tremaining: 1h 56m 4s\n",
      "1900:\tlearn: 0.3228090\ttest: 0.2236920\tbest: 0.2236920 (1900)\ttotal: 3h 28m 7s\tremaining: 2h 19s\n",
      "2000:\tlearn: 0.3225327\ttest: 0.2231867\tbest: 0.2231867 (2000)\ttotal: 4h 5m 33s\tremaining: 2h 2m 35s\n",
      "2100:\tlearn: 0.3222238\ttest: 0.2222971\tbest: 0.2222971 (2100)\ttotal: 4h 42m 48s\tremaining: 2h 1m\n",
      "2200:\tlearn: 0.3220260\ttest: 0.2218582\tbest: 0.2218582 (2200)\ttotal: 5h 17m 41s\tremaining: 1h 55m 19s\n",
      "2300:\tlearn: 0.3218074\ttest: 0.2214925\tbest: 0.2214925 (2300)\ttotal: 5h 54m 7s\tremaining: 1h 47m 34s\n",
      "2400:\tlearn: 0.3216539\ttest: 0.2213090\tbest: 0.2213090 (2400)\ttotal: 6h 29m 58s\tremaining: 1h 37m 17s\n",
      "2500:\tlearn: 0.3214557\ttest: 0.2208687\tbest: 0.2208687 (2500)\ttotal: 7h 8m 3s\tremaining: 1h 25m 24s\n",
      "2600:\tlearn: 0.3212705\ttest: 0.2204674\tbest: 0.2204672 (2594)\ttotal: 7h 35m 2s\tremaining: 1h 9m 48s\n",
      "2700:\tlearn: 0.3210973\ttest: 0.2200699\tbest: 0.2200675 (2692)\ttotal: 7h 46m 34s\tremaining: 51m 39s\n",
      "2800:\tlearn: 0.3208893\ttest: 0.2195172\tbest: 0.2195172 (2800)\ttotal: 7h 57m 28s\tremaining: 33m 55s\n",
      "2900:\tlearn: 0.3207674\ttest: 0.2193405\tbest: 0.2193405 (2900)\ttotal: 8h 7m 26s\tremaining: 16m 38s\n",
      "2999:\tlearn: 0.3206070\ttest: 0.2191360\tbest: 0.2191322 (2992)\ttotal: 8h 18m 28s\tremaining: 0us\n",
      "\n",
      "bestTest = 0.2191321998\n",
      "bestIteration = 2992\n",
      "\n",
      "Shrink model to first 2993 iterations.\n"
     ]
    }
   ],
   "source": [
    "KF = StratifiedKFold(n_splits=kfold, random_state=seed, shuffle=True)\n",
    "feat_imp_cbc = list()\n",
    "\n",
    "oof_cbc = np.zeros(len(train))\n",
    "predictions_cbc = np.zeros((len(test)))\n",
    "print(train.shape[1])\n",
    "\n",
    "model = CatBoostClassifier(**cbc_params)\n",
    "\n",
    "# 模型训练\n",
    "for fold_, (trn_idx, val_idx) in enumerate(KF.split(train.values, y.values)):\n",
    "    print(\"fold n°{}\".format(fold_))\n",
    "\n",
    "    X_train, X_val = train.iloc[trn_idx], train.iloc[val_idx]\n",
    "    y_train, y_val = y.iloc[trn_idx], y.iloc[val_idx]\n",
    "    \n",
    "    model.fit(X_train, y_train, eval_set=(X_val, y_val), \n",
    "              cat_features=cat_features,\n",
    "              early_stopping_rounds=100, verbose=100, use_best_model=True)\n",
    "\n",
    "    oof_cbc[val_idx] += (model.predict_proba(X_val)[:, 1])\n",
    "    predictions_cbc += (model.predict_proba(test)[:, 1]) / kfold\n",
    "    feat_imp_cbc.append(model.feature_importances_)"
   ]
  },
  {
   "cell_type": "code",
   "execution_count": 226,
   "metadata": {},
   "outputs": [
    {
     "name": "stdout",
     "output_type": "stream",
     "text": [
      "AUC score: 0.9452826396399912\n",
      "F1 score: 0.5954382863379888\n",
      "Precision score: 0.7165961409242333\n",
      "Recall score: 0.5093246710072001\n"
     ]
    }
   ],
   "source": [
    "print(\"AUC score: {}\".format(metrics.roc_auc_score(y, oof_cbc)))\n",
    "print(\"F1 score: {}\".format(metrics.f1_score(y, [1 if i >= 0.5 else 0 for i in oof_cbc])))\n",
    "print(\"Precision score: {}\".format(metrics.precision_score(y, [1 if i >= 0.5 else 0 for i in oof_cbc])))\n",
    "print(\"Recall score: {}\".format(metrics.recall_score(y, [1 if i >= 0.5 else 0 for i in oof_cbc])))"
   ]
  },
  {
   "cell_type": "code",
   "execution_count": 227,
   "metadata": {},
   "outputs": [],
   "source": [
    "np.save('predictions_cbc.npy', predictions_cbc)\n",
    "np.save('oof_cbc.npy', oof_cbc)\n",
    "np.save('feat_imp_cbc.npy', feat_imp_cbc)"
   ]
  },
  {
   "cell_type": "code",
   "execution_count": 238,
   "metadata": {},
   "outputs": [],
   "source": [
    "test_fea['prob'] = predictions_cbc\n",
    "train_fea['prob'] = oof_cbc"
   ]
  },
  {
   "cell_type": "code",
   "execution_count": 229,
   "metadata": {},
   "outputs": [
    {
     "name": "stderr",
     "output_type": "stream",
     "text": [
      " 43%|████▎     | 135194/316971 [03:15<04:21, 693.95it/s]"
     ]
    },
    {
     "name": "stdout",
     "output_type": "stream",
     "text": [
      "135090\n"
     ]
    },
    {
     "name": "stderr",
     "output_type": "stream",
     "text": [
      " 55%|█████▌    | 175811/316971 [04:11<03:41, 635.93it/s] "
     ]
    },
    {
     "name": "stdout",
     "output_type": "stream",
     "text": [
      "175732\n"
     ]
    },
    {
     "name": "stderr",
     "output_type": "stream",
     "text": [
      " 56%|█████▌    | 178034/316971 [04:15<02:42, 857.02it/s]"
     ]
    },
    {
     "name": "stdout",
     "output_type": "stream",
     "text": [
      "177882\n"
     ]
    },
    {
     "name": "stderr",
     "output_type": "stream",
     "text": [
      " 61%|██████    | 193153/316971 [04:36<03:11, 647.01it/s]"
     ]
    },
    {
     "name": "stdout",
     "output_type": "stream",
     "text": [
      "193020\n"
     ]
    },
    {
     "name": "stderr",
     "output_type": "stream",
     "text": [
      " 72%|███████▏  | 227693/316971 [05:27<01:52, 794.20it/s]"
     ]
    },
    {
     "name": "stdout",
     "output_type": "stream",
     "text": [
      "227523\n"
     ]
    },
    {
     "name": "stderr",
     "output_type": "stream",
     "text": [
      "100%|██████████| 316971/316971 [07:33<00:00, 698.99it/s] \n"
     ]
    }
   ],
   "source": [
    "test_preds_cbc = []\n",
    "test_fea_len = test_fea['index'].nunique()\n",
    "for ind, test_fea_index in tqdm(test_fea[['vid', 'index', 'prob']].groupby('index'), total=test_fea_len):\n",
    "    # 对召回的10个从大到小排序\n",
    "    test_fea_index = test_fea_index.sort_values(by='prob', ascending=False)['vid'].values.tolist()\n",
    "    if len(test_fea_index) != 10:\n",
    "        print(ind) \n",
    "    # 对完整召回的100个剩下的其他的id，不在10个里的话就补充进去\n",
    "    preds_ind_origin = test_preds[ind]\n",
    "    for vid in preds_ind_origin:\n",
    "        if vid not in test_fea_index:\n",
    "            test_fea_index.append(vid)\n",
    "    if len(test_fea_index) != 100:\n",
    "        print('error', ind) \n",
    "    test_preds_cbc.append(test_fea_index)"
   ]
  },
  {
   "cell_type": "code",
   "execution_count": 230,
   "metadata": {},
   "outputs": [
    {
     "data": {
      "text/plain": [
       "count    316971.0\n",
       "mean        100.0\n",
       "std           0.0\n",
       "min         100.0\n",
       "25%         100.0\n",
       "50%         100.0\n",
       "75%         100.0\n",
       "max         100.0\n",
       "Name: next_item_prediction, dtype: float64"
      ]
     },
     "execution_count": 230,
     "metadata": {},
     "output_type": "execute_result"
    }
   ],
   "source": [
    "df_test['next_item_prediction'] = test_preds_cbc\n",
    "df_test['next_item_prediction'].apply(len).describe()"
   ]
  },
  {
   "cell_type": "code",
   "execution_count": 231,
   "metadata": {},
   "outputs": [],
   "source": [
    "df_test[['locale', 'next_item_prediction']].to_parquet('output/submission_task1_cbc_{}_{}.parquet'.format(seed, train.shape[1]), engine='pyarrow')"
   ]
  },
  {
   "cell_type": "code",
   "execution_count": 241,
   "metadata": {},
   "outputs": [
    {
     "data": {
      "text/html": [
       "<div>\n",
       "<style scoped>\n",
       "    .dataframe tbody tr th:only-of-type {\n",
       "        vertical-align: middle;\n",
       "    }\n",
       "\n",
       "    .dataframe tbody tr th {\n",
       "        vertical-align: top;\n",
       "    }\n",
       "\n",
       "    .dataframe thead th {\n",
       "        text-align: right;\n",
       "    }\n",
       "</style>\n",
       "<table border=\"1\" class=\"dataframe\">\n",
       "  <thead>\n",
       "    <tr style=\"text-align: right;\">\n",
       "      <th></th>\n",
       "      <th>label</th>\n",
       "      <th>prob</th>\n",
       "    </tr>\n",
       "  </thead>\n",
       "  <tbody>\n",
       "    <tr>\n",
       "      <th>0</th>\n",
       "      <td>0.0</td>\n",
       "      <td>5.688426e-07</td>\n",
       "    </tr>\n",
       "    <tr>\n",
       "      <th>1</th>\n",
       "      <td>0.0</td>\n",
       "      <td>4.421515e-01</td>\n",
       "    </tr>\n",
       "    <tr>\n",
       "      <th>2</th>\n",
       "      <td>0.0</td>\n",
       "      <td>6.065247e-02</td>\n",
       "    </tr>\n",
       "    <tr>\n",
       "      <th>3</th>\n",
       "      <td>0.0</td>\n",
       "      <td>8.808528e-02</td>\n",
       "    </tr>\n",
       "    <tr>\n",
       "      <th>4</th>\n",
       "      <td>0.0</td>\n",
       "      <td>6.406443e-02</td>\n",
       "    </tr>\n",
       "    <tr>\n",
       "      <th>5</th>\n",
       "      <td>1.0</td>\n",
       "      <td>3.946522e-01</td>\n",
       "    </tr>\n",
       "    <tr>\n",
       "      <th>6</th>\n",
       "      <td>0.0</td>\n",
       "      <td>5.130541e-03</td>\n",
       "    </tr>\n",
       "    <tr>\n",
       "      <th>7</th>\n",
       "      <td>0.0</td>\n",
       "      <td>1.940774e-04</td>\n",
       "    </tr>\n",
       "    <tr>\n",
       "      <th>8</th>\n",
       "      <td>0.0</td>\n",
       "      <td>6.467994e-05</td>\n",
       "    </tr>\n",
       "    <tr>\n",
       "      <th>9</th>\n",
       "      <td>0.0</td>\n",
       "      <td>1.049645e-02</td>\n",
       "    </tr>\n",
       "    <tr>\n",
       "      <th>10</th>\n",
       "      <td>0.0</td>\n",
       "      <td>2.673993e-02</td>\n",
       "    </tr>\n",
       "    <tr>\n",
       "      <th>11</th>\n",
       "      <td>1.0</td>\n",
       "      <td>5.503028e-01</td>\n",
       "    </tr>\n",
       "    <tr>\n",
       "      <th>12</th>\n",
       "      <td>0.0</td>\n",
       "      <td>6.300626e-07</td>\n",
       "    </tr>\n",
       "    <tr>\n",
       "      <th>13</th>\n",
       "      <td>0.0</td>\n",
       "      <td>4.099302e-02</td>\n",
       "    </tr>\n",
       "    <tr>\n",
       "      <th>14</th>\n",
       "      <td>0.0</td>\n",
       "      <td>5.856219e-02</td>\n",
       "    </tr>\n",
       "    <tr>\n",
       "      <th>15</th>\n",
       "      <td>0.0</td>\n",
       "      <td>4.724702e-02</td>\n",
       "    </tr>\n",
       "    <tr>\n",
       "      <th>16</th>\n",
       "      <td>0.0</td>\n",
       "      <td>3.721926e-02</td>\n",
       "    </tr>\n",
       "    <tr>\n",
       "      <th>17</th>\n",
       "      <td>1.0</td>\n",
       "      <td>7.958864e-01</td>\n",
       "    </tr>\n",
       "    <tr>\n",
       "      <th>18</th>\n",
       "      <td>0.0</td>\n",
       "      <td>3.510294e-02</td>\n",
       "    </tr>\n",
       "    <tr>\n",
       "      <th>19</th>\n",
       "      <td>0.0</td>\n",
       "      <td>7.501763e-01</td>\n",
       "    </tr>\n",
       "  </tbody>\n",
       "</table>\n",
       "</div>"
      ],
      "text/plain": [
       "    label          prob\n",
       "0     0.0  5.688426e-07\n",
       "1     0.0  4.421515e-01\n",
       "2     0.0  6.065247e-02\n",
       "3     0.0  8.808528e-02\n",
       "4     0.0  6.406443e-02\n",
       "5     1.0  3.946522e-01\n",
       "6     0.0  5.130541e-03\n",
       "7     0.0  1.940774e-04\n",
       "8     0.0  6.467994e-05\n",
       "9     0.0  1.049645e-02\n",
       "10    0.0  2.673993e-02\n",
       "11    1.0  5.503028e-01\n",
       "12    0.0  6.300626e-07\n",
       "13    0.0  4.099302e-02\n",
       "14    0.0  5.856219e-02\n",
       "15    0.0  4.724702e-02\n",
       "16    0.0  3.721926e-02\n",
       "17    1.0  7.958864e-01\n",
       "18    0.0  3.510294e-02\n",
       "19    0.0  7.501763e-01"
      ]
     },
     "execution_count": 241,
     "metadata": {},
     "output_type": "execute_result"
    }
   ],
   "source": [
    "train_fea[['label', 'prob']].head(20)"
   ]
  },
  {
   "attachments": {},
   "cell_type": "markdown",
   "metadata": {},
   "source": [
    "# 11111"
   ]
  }
 ],
 "metadata": {
  "kernelspec": {
   "display_name": "libcityng",
   "language": "python",
   "name": "python3"
  },
  "language_info": {
   "codemirror_mode": {
    "name": "ipython",
    "version": 3
   },
   "file_extension": ".py",
   "mimetype": "text/x-python",
   "name": "python",
   "nbconvert_exporter": "python",
   "pygments_lexer": "ipython3",
   "version": "3.9.7"
  },
  "orig_nbformat": 4
 },
 "nbformat": 4,
 "nbformat_minor": 2
}
