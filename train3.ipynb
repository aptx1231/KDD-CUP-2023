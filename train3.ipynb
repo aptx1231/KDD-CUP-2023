{
 "cells": [
  {
   "cell_type": "code",
   "execution_count": 2,
   "metadata": {},
   "outputs": [
    {
     "ename": "ModuleNotFoundError",
     "evalue": "No module named 'sentence_transformers'",
     "output_type": "error",
     "traceback": [
      "\u001b[0;31m---------------------------------------------------------------------------\u001b[0m",
      "\u001b[0;31mModuleNotFoundError\u001b[0m                       Traceback (most recent call last)",
      "Cell \u001b[0;32mIn[2], line 46\u001b[0m\n\u001b[1;32m     43\u001b[0m \u001b[39mimport\u001b[39;00m \u001b[39mpickle\u001b[39;00m\n\u001b[1;32m     44\u001b[0m \u001b[39mimport\u001b[39;00m \u001b[39mrandom\u001b[39;00m\n\u001b[0;32m---> 46\u001b[0m \u001b[39mimport\u001b[39;00m \u001b[39msentence_transformers\u001b[39;00m \n\u001b[1;32m     47\u001b[0m \u001b[39mfrom\u001b[39;00m \u001b[39msklearn\u001b[39;00m\u001b[39m.\u001b[39;00m\u001b[39mpreprocessing\u001b[39;00m \u001b[39mimport\u001b[39;00m KBinsDiscretizer\n\u001b[1;32m     48\u001b[0m \u001b[39mfrom\u001b[39;00m \u001b[39msentence_transformers\u001b[39;00m \u001b[39mimport\u001b[39;00m SentenceTransformer\n",
      "\u001b[0;31mModuleNotFoundError\u001b[0m: No module named 'sentence_transformers'"
     ]
    }
   ],
   "source": [
    "import numpy as np \n",
    "import pandas as pd\n",
    "import matplotlib.pyplot as plt\n",
    "import seaborn as sns\n",
    "import warnings\n",
    "import os\n",
    "import re\n",
    "import math\n",
    "import plotly.express as px\n",
    "import plotly.graph_objects as go\n",
    "from plotly.subplots import make_subplots\n",
    "\n",
    "from lightgbm import LGBMRegressor, LGBMClassifier\n",
    "from xgboost import XGBRegressor, XGBClassifier\n",
    "from catboost import CatBoostRegressor, CatBoostClassifier\n",
    "import lightgbm as lgb\n",
    "import xgboost as xgb\n",
    "import catboost as cab\n",
    "\n",
    "from sklearn.preprocessing import LabelEncoder\n",
    "from sklearn.model_selection import cross_val_score, KFold, StratifiedKFold, GridSearchCV\n",
    "from sklearn.decomposition import LatentDirichletAllocation, NMF, TruncatedSVD\n",
    "from sklearn.linear_model import LogisticRegression, SGDClassifier\n",
    "from sklearn.ensemble import RandomForestRegressor, AdaBoostRegressor, GradientBoostingRegressor, HistGradientBoostingRegressor, StackingRegressor\n",
    "from sklearn.ensemble import RandomForestClassifier, AdaBoostClassifier, GradientBoostingClassifier, HistGradientBoostingClassifier, StackingClassifier\n",
    "from sklearn.tree import DecisionTreeRegressor, DecisionTreeClassifier\n",
    "from sklearn import metrics\n",
    "from sklearn.svm import SVC\n",
    "from sklearn.feature_extraction.text import TfidfVectorizer\n",
    "from sklearn.preprocessing import PolynomialFeatures\n",
    "from sklearn.neighbors import KNeighborsClassifier\n",
    "from tqdm import tqdm\n",
    "from sklearn.model_selection import train_test_split\n",
    "\n",
    "import matplotlib.pyplot as plt\n",
    "from collections import defaultdict, Counter\n",
    "import warnings\n",
    "import json \n",
    "import pickle\n",
    "warnings.filterwarnings('ignore')\n",
    "\n",
    "import torch\n",
    "import pickle\n",
    "import random\n",
    "\n",
    "import sentence_transformers \n",
    "from sklearn.preprocessing import KBinsDiscretizer\n",
    "from sentence_transformers import SentenceTransformer\n",
    "\n",
    "from gensim.models import Word2Vec\n",
    "\n",
    "import torch\n",
    "import torch.nn as nn\n",
    "from torch.nn.utils.rnn import pack_padded_sequence, pad_packed_sequence\n",
    "from torch.utils.data import random_split, DataLoader\n",
    "from torch.utils.data import Dataset"
   ]
  },
  {
   "cell_type": "code",
   "execution_count": 75,
   "metadata": {},
   "outputs": [],
   "source": [
    "import json"
   ]
  },
  {
   "cell_type": "code",
   "execution_count": 76,
   "metadata": {},
   "outputs": [],
   "source": [
    "product2id = json.load(open('data/product2id.json', 'r'))\n",
    "id2product = json.load(open('data/id2product.json', 'r'))\n",
    "id2product = {int(k): v for k, v in id2product.items()}"
   ]
  },
  {
   "cell_type": "code",
   "execution_count": 71,
   "metadata": {},
   "outputs": [],
   "source": [
    "import pickle"
   ]
  },
  {
   "cell_type": "code",
   "execution_count": 73,
   "metadata": {},
   "outputs": [],
   "source": [
    "test_preds_encodeda = pickle.load(open('./data/test_preds_{}_one_phase2_noleak_encoded.pkl'.format('window'), 'rb'))  # (len_test, 100)\n",
    "test_preds_encodedb = pickle.load(open('./data/test_preds_{}_one_phase2_encoded.pkl'.format('window'), 'rb'))  # (len_test, 100)"
   ]
  },
  {
   "cell_type": "code",
   "execution_count": 82,
   "metadata": {},
   "outputs": [
    {
     "data": {
      "text/plain": [
       "(316972, 316972)"
      ]
     },
     "execution_count": 82,
     "metadata": {},
     "output_type": "execute_result"
    }
   ],
   "source": [
    "len(test_preds_encodeda), len(test_preds_encodedb)"
   ]
  },
  {
   "cell_type": "code",
   "execution_count": 63,
   "metadata": {},
   "outputs": [],
   "source": [
    "import pandas as pd\n",
    "a = pd.read_parquet('./output/2023_80929_MatchModelV2withATTMatchFold0_-1.parquet')"
   ]
  },
  {
   "cell_type": "code",
   "execution_count": 64,
   "metadata": {},
   "outputs": [],
   "source": [
    "b = pd.read_parquet('./output/2023_27115_MatchModelV2withATTMatchFold0_99.parquet')"
   ]
  },
  {
   "cell_type": "code",
   "execution_count": 81,
   "metadata": {},
   "outputs": [
    {
     "data": {
      "text/plain": [
       "(316972, 316972)"
      ]
     },
     "execution_count": 81,
     "metadata": {},
     "output_type": "execute_result"
    }
   ],
   "source": [
    "len(a), len(b)"
   ]
  },
  {
   "cell_type": "code",
   "execution_count": 79,
   "metadata": {},
   "outputs": [
    {
     "data": {
      "text/plain": [
       "['B07SDFLVKD',\n",
       " 'B09BRQSHYH',\n",
       " 'B09C936VWN',\n",
       " 'B091CK241X',\n",
       " 'B0B9GJLV2D',\n",
       " 'B08SRMPBRF',\n",
       " 'B087VLP2RT',\n",
       " 'B0BGC82WVW',\n",
       " 'B07SR4R8K1',\n",
       " 'B087VMGP5G']"
      ]
     },
     "execution_count": 79,
     "metadata": {},
     "output_type": "execute_result"
    }
   ],
   "source": [
    "[id2product[x] for x in test_preds_encodeda[0]][:10]"
   ]
  },
  {
   "cell_type": "code",
   "execution_count": 80,
   "metadata": {},
   "outputs": [
    {
     "data": {
      "text/plain": [
       "['B07SDFLVKD',\n",
       " 'B09BRQSHYH',\n",
       " 'B09C936VWN',\n",
       " 'B091CK241X',\n",
       " 'B0B9GJLV2D',\n",
       " 'B08SRMPBRF',\n",
       " 'B0BGC82WVW',\n",
       " 'B087VLP2RT',\n",
       " 'B093X59B31',\n",
       " 'B07SR4R8K1']"
      ]
     },
     "execution_count": 80,
     "metadata": {},
     "output_type": "execute_result"
    }
   ],
   "source": [
    "[id2product[x] for x in test_preds_encodedb[0]][:10]"
   ]
  },
  {
   "cell_type": "code",
   "execution_count": 85,
   "metadata": {},
   "outputs": [
    {
     "data": {
      "text/plain": [
       "array(['B08SRMPBRF', 'B087VMGP5G', 'B07SDFLVKD', 'B09BRQSHYH',\n",
       "       'B0BGC82WVW', 'B091CK241X', 'B09C936VWN', 'B0B9GJLV2D',\n",
       "       'B07SR4R8K1', 'B087VLP2RT'], dtype=object)"
      ]
     },
     "execution_count": 85,
     "metadata": {},
     "output_type": "execute_result"
    }
   ],
   "source": [
    "a.iloc[0]['next_item_prediction'][:10]"
   ]
  },
  {
   "cell_type": "code",
   "execution_count": 86,
   "metadata": {},
   "outputs": [
    {
     "data": {
      "text/plain": [
       "array(['B0BGC82WVW', 'B093X59B31', 'B091CK241X', 'B07SDFLVKD',\n",
       "       'B08SRMPBRF', 'B0B9GJLV2D', 'B087VLP2RT', 'B09C936VWN',\n",
       "       'B09BRQSHYH', 'B07SR4R8K1'], dtype=object)"
      ]
     },
     "execution_count": 86,
     "metadata": {},
     "output_type": "execute_result"
    }
   ],
   "source": [
    "b.iloc[0]['next_item_prediction'][:10]"
   ]
  },
  {
   "cell_type": "code",
   "execution_count": 3,
   "metadata": {},
   "outputs": [],
   "source": [
    "import pickle \n",
    "import json\n",
    "from tqdm import tqdm"
   ]
  },
  {
   "cell_type": "code",
   "execution_count": 34,
   "metadata": {},
   "outputs": [],
   "source": [
    "# test_preds = pickle.load(open('data/test_preds_window_one_phase2_noleak.pkl', 'rb'))\n",
    "# train_preds = pickle.load(open('data/train_preds_window_one_phase2_noleak.pkl', 'rb'))\n",
    "test_preds = pickle.load(open('data/test_preds_window_one_phase2.pkl', 'rb'))\n",
    "train_preds = pickle.load(open('data/train_preds_window_one_phase2.pkl', 'rb'))"
   ]
  },
  {
   "cell_type": "code",
   "execution_count": 49,
   "metadata": {},
   "outputs": [],
   "source": [
    "# test_preds = pickle.load(open('data/test_preds_next_one_phase2_noleak.pkl', 'rb'))\n",
    "# train_preds = pickle.load(open('data/train_preds_next_one_phase2_noleak.pkl', 'rb'))\n",
    "test_preds = pickle.load(open('data/test_preds_next_one_phase2.pkl', 'rb'))\n",
    "train_preds = pickle.load(open('data/train_preds_next_one_phase2.pkl', 'rb'))"
   ]
  },
  {
   "cell_type": "code",
   "execution_count": 48,
   "metadata": {},
   "outputs": [],
   "source": [
    "# test_preds = pickle.load(open('data/test_preds_window_one_onlytask2_phase2_noleak.pkl', 'rb'))\n",
    "# train_preds = pickle.load(open('data/train_preds_window_one_onlytask2_phase2_noleak.pkl', 'rb'))\n",
    "test_preds = pickle.load(open('data/test_preds_window_one_onlytask2_phase2.pkl', 'rb'))\n",
    "train_preds = pickle.load(open('data/train_preds_window_one_onlytask2_phase2.pkl', 'rb'))"
   ]
  },
  {
   "cell_type": "code",
   "execution_count": 56,
   "metadata": {},
   "outputs": [],
   "source": [
    "# test_preds = pickle.load(open('data/test_preds_next_one_onlytask2_phase2_noleak.pkl', 'rb'))\n",
    "# train_preds = pickle.load(open('data/train_preds_next_one_onlytask2_phase2_noleak.pkl', 'rb'))\n",
    "test_preds = pickle.load(open('data/test_preds_next_one_onlytask2_phase2.pkl', 'rb'))\n",
    "train_preds = pickle.load(open('data/train_preds_next_one_onlytask2_phase2.pkl', 'rb'))"
   ]
  },
  {
   "cell_type": "code",
   "execution_count": 57,
   "metadata": {},
   "outputs": [
    {
     "data": {
      "text/plain": [
       "(3606249, 34690)"
      ]
     },
     "execution_count": 57,
     "metadata": {},
     "output_type": "execute_result"
    }
   ],
   "source": [
    "len(train_preds), len(test_preds)"
   ]
  },
  {
   "cell_type": "code",
   "execution_count": 58,
   "metadata": {},
   "outputs": [],
   "source": [
    "product2id = json.load(open('data/product2id.json', 'r'))\n",
    "id2product = json.load(open('data/id2product.json', 'r'))\n",
    "id2product = {int(k): v for k, v in id2product.items()}"
   ]
  },
  {
   "cell_type": "code",
   "execution_count": 59,
   "metadata": {},
   "outputs": [
    {
     "name": "stderr",
     "output_type": "stream",
     "text": [
      "100%|██████████| 3606249/3606249 [01:31<00:00, 39248.11it/s]\n"
     ]
    }
   ],
   "source": [
    "train_preds_encoded = []\n",
    "for x in tqdm(train_preds, total=len(train_preds)):\n",
    "    train_preds_encoded.append([product2id[id_] for id_ in x])"
   ]
  },
  {
   "cell_type": "code",
   "execution_count": 60,
   "metadata": {},
   "outputs": [
    {
     "name": "stderr",
     "output_type": "stream",
     "text": [
      "100%|██████████| 34690/34690 [00:00<00:00, 41292.22it/s]\n"
     ]
    }
   ],
   "source": [
    "test_preds_encoded = []\n",
    "for x in tqdm(test_preds, total=len(test_preds)):\n",
    "    test_preds_encoded.append([product2id[id_] for id_ in x])"
   ]
  },
  {
   "cell_type": "code",
   "execution_count": 61,
   "metadata": {},
   "outputs": [
    {
     "data": {
      "text/plain": [
       "(3606249, 34690)"
      ]
     },
     "execution_count": 61,
     "metadata": {},
     "output_type": "execute_result"
    }
   ],
   "source": [
    "len(train_preds_encoded), len(test_preds_encoded)"
   ]
  },
  {
   "cell_type": "code",
   "execution_count": 40,
   "metadata": {},
   "outputs": [],
   "source": [
    "# pickle.dump(test_preds_encoded, open('./data/test_preds_window_one_phase2_noleak_encoded.pkl', 'wb'))\n",
    "# pickle.dump(train_preds_encoded, open('./data/train_preds_window_one_phase2_noleak_encoded.pkl', 'wb'))\n",
    "pickle.dump(test_preds_encoded, open('./data/test_preds_window_one_phase2_encoded.pkl', 'wb'))\n",
    "pickle.dump(train_preds_encoded, open('./data/train_preds_window_one_phase2_encoded.pkl', 'wb'))"
   ]
  },
  {
   "cell_type": "code",
   "execution_count": 55,
   "metadata": {},
   "outputs": [],
   "source": [
    "# pickle.dump(test_preds_encoded, open('./data/test_preds_next_one_phase2_noleak_encoded.pkl', 'wb'))\n",
    "# pickle.dump(train_preds_encoded, open('./data/train_preds_next_one_phase2_noleak_encoded.pkl', 'wb'))\n",
    "pickle.dump(test_preds_encoded, open('./data/test_preds_next_one_phase2_encoded.pkl', 'wb'))\n",
    "pickle.dump(train_preds_encoded, open('./data/train_preds_next_one_phase2_encoded.pkl', 'wb'))"
   ]
  },
  {
   "cell_type": "code",
   "execution_count": 47,
   "metadata": {},
   "outputs": [],
   "source": [
    "# pickle.dump(test_preds_encoded, open('./data/test_preds_window_one_onlytask2_phase2_noleak_encoded.pkl', 'wb'))\n",
    "# pickle.dump(train_preds_encoded, open('./data/train_preds_window_one_onlytask2_phase2_noleak_encoded.pkl', 'wb'))\n",
    "pickle.dump(test_preds_encoded, open('./data/test_preds_window_one_onlytask2_phase2_encoded.pkl', 'wb'))\n",
    "pickle.dump(train_preds_encoded, open('./data/train_preds_window_one_onlytask2_phase2_encoded.pkl', 'wb'))"
   ]
  },
  {
   "cell_type": "code",
   "execution_count": 62,
   "metadata": {},
   "outputs": [],
   "source": [
    "# pickle.dump(test_preds_encoded, open('./data/test_preds_next_one_onlytask2_phase2_noleak_encoded.pkl', 'wb'))\n",
    "# pickle.dump(train_preds_encoded, open('./data/train_preds_next_one_onlytask2_phase2_noleak_encoded.pkl', 'wb'))\n",
    "pickle.dump(test_preds_encoded, open('./data/test_preds_next_one_onlytask2_phase2_encoded.pkl', 'wb'))\n",
    "pickle.dump(train_preds_encoded, open('./data/train_preds_next_one_onlytask2_phase2_encoded.pkl', 'wb'))"
   ]
  },
  {
   "attachments": {},
   "cell_type": "markdown",
   "metadata": {},
   "source": [
    "数据读取"
   ]
  },
  {
   "cell_type": "code",
   "execution_count": 20,
   "metadata": {},
   "outputs": [
    {
     "data": {
      "text/html": [
       "<div>\n",
       "<style scoped>\n",
       "    .dataframe tbody tr th:only-of-type {\n",
       "        vertical-align: middle;\n",
       "    }\n",
       "\n",
       "    .dataframe tbody tr th {\n",
       "        vertical-align: top;\n",
       "    }\n",
       "\n",
       "    .dataframe thead th {\n",
       "        text-align: right;\n",
       "    }\n",
       "</style>\n",
       "<table border=\"1\" class=\"dataframe\">\n",
       "  <thead>\n",
       "    <tr style=\"text-align: right;\">\n",
       "      <th></th>\n",
       "      <th>prev_items</th>\n",
       "      <th>next_item</th>\n",
       "      <th>locale</th>\n",
       "    </tr>\n",
       "  </thead>\n",
       "  <tbody>\n",
       "    <tr>\n",
       "      <th>0</th>\n",
       "      <td>['B09W9FND7K' 'B09JSPLN1M']</td>\n",
       "      <td>B09M7GY217</td>\n",
       "      <td>DE</td>\n",
       "    </tr>\n",
       "    <tr>\n",
       "      <th>1</th>\n",
       "      <td>['B076THCGSG' 'B007MO8IME' 'B08MF65MLV' 'B001B...</td>\n",
       "      <td>B001B4THSA</td>\n",
       "      <td>DE</td>\n",
       "    </tr>\n",
       "    <tr>\n",
       "      <th>2</th>\n",
       "      <td>['B0B1LGXWDS' 'B00AZYORS2' 'B0B1LGXWDS' 'B00AZ...</td>\n",
       "      <td>B0767DTG2Q</td>\n",
       "      <td>DE</td>\n",
       "    </tr>\n",
       "    <tr>\n",
       "      <th>3</th>\n",
       "      <td>['B09XMTWDVT' 'B0B4MZZ8MB' 'B0B7HZ2GWX' 'B09XM...</td>\n",
       "      <td>B0B4R9NN4B</td>\n",
       "      <td>DE</td>\n",
       "    </tr>\n",
       "    <tr>\n",
       "      <th>4</th>\n",
       "      <td>['B09Y5CSL3T' 'B09Y5DPTXN' 'B09FKD61R8']</td>\n",
       "      <td>B0BGVBKWGZ</td>\n",
       "      <td>DE</td>\n",
       "    </tr>\n",
       "    <tr>\n",
       "      <th>...</th>\n",
       "      <td>...</td>\n",
       "      <td>...</td>\n",
       "      <td>...</td>\n",
       "    </tr>\n",
       "    <tr>\n",
       "      <th>3606244</th>\n",
       "      <td>['B086CYFSKW' 'B0874F9859' 'B086CYFSKW']</td>\n",
       "      <td>B07B5TYD76</td>\n",
       "      <td>IT</td>\n",
       "    </tr>\n",
       "    <tr>\n",
       "      <th>3606245</th>\n",
       "      <td>['B09NRZKZ7V' 'B08WJTPV93']</td>\n",
       "      <td>B08L1P4C3D</td>\n",
       "      <td>IT</td>\n",
       "    </tr>\n",
       "    <tr>\n",
       "      <th>3606246</th>\n",
       "      <td>['B085JFX7MP' 'B085JGHW8R']</td>\n",
       "      <td>B01MPWVD44</td>\n",
       "      <td>IT</td>\n",
       "    </tr>\n",
       "    <tr>\n",
       "      <th>3606247</th>\n",
       "      <td>['B00B0UING2' 'B00B0UING2']</td>\n",
       "      <td>B00D3HYEZ4</td>\n",
       "      <td>IT</td>\n",
       "    </tr>\n",
       "    <tr>\n",
       "      <th>3606248</th>\n",
       "      <td>['B092S9D1SD' 'B09XQQ1S72' 'B0852MS7QC' 'B0B1V...</td>\n",
       "      <td>B0B7RX65YP</td>\n",
       "      <td>IT</td>\n",
       "    </tr>\n",
       "  </tbody>\n",
       "</table>\n",
       "<p>3606249 rows × 3 columns</p>\n",
       "</div>"
      ],
      "text/plain": [
       "                                                prev_items   next_item locale\n",
       "0                              ['B09W9FND7K' 'B09JSPLN1M']  B09M7GY217     DE\n",
       "1        ['B076THCGSG' 'B007MO8IME' 'B08MF65MLV' 'B001B...  B001B4THSA     DE\n",
       "2        ['B0B1LGXWDS' 'B00AZYORS2' 'B0B1LGXWDS' 'B00AZ...  B0767DTG2Q     DE\n",
       "3        ['B09XMTWDVT' 'B0B4MZZ8MB' 'B0B7HZ2GWX' 'B09XM...  B0B4R9NN4B     DE\n",
       "4                 ['B09Y5CSL3T' 'B09Y5DPTXN' 'B09FKD61R8']  B0BGVBKWGZ     DE\n",
       "...                                                    ...         ...    ...\n",
       "3606244           ['B086CYFSKW' 'B0874F9859' 'B086CYFSKW']  B07B5TYD76     IT\n",
       "3606245                        ['B09NRZKZ7V' 'B08WJTPV93']  B08L1P4C3D     IT\n",
       "3606246                        ['B085JFX7MP' 'B085JGHW8R']  B01MPWVD44     IT\n",
       "3606247                        ['B00B0UING2' 'B00B0UING2']  B00D3HYEZ4     IT\n",
       "3606248  ['B092S9D1SD' 'B09XQQ1S72' 'B0852MS7QC' 'B0B1V...  B0B7RX65YP     IT\n",
       "\n",
       "[3606249 rows x 3 columns]"
      ]
     },
     "execution_count": 20,
     "metadata": {},
     "output_type": "execute_result"
    }
   ],
   "source": [
    "# (3606249, 3)\n",
    "df_train = pd.read_csv('data/sessions_train.csv')\n",
    "df_train"
   ]
  },
  {
   "cell_type": "code",
   "execution_count": 21,
   "metadata": {},
   "outputs": [
    {
     "data": {
      "text/html": [
       "<div>\n",
       "<style scoped>\n",
       "    .dataframe tbody tr th:only-of-type {\n",
       "        vertical-align: middle;\n",
       "    }\n",
       "\n",
       "    .dataframe tbody tr th {\n",
       "        vertical-align: top;\n",
       "    }\n",
       "\n",
       "    .dataframe thead th {\n",
       "        text-align: right;\n",
       "    }\n",
       "</style>\n",
       "<table border=\"1\" class=\"dataframe\">\n",
       "  <thead>\n",
       "    <tr style=\"text-align: right;\">\n",
       "      <th></th>\n",
       "      <th>prev_items</th>\n",
       "      <th>locale</th>\n",
       "    </tr>\n",
       "  </thead>\n",
       "  <tbody>\n",
       "    <tr>\n",
       "      <th>0</th>\n",
       "      <td>['B08V12CT4C' 'B08V1KXBQD' 'B01BVG1XJS' 'B09VC...</td>\n",
       "      <td>DE</td>\n",
       "    </tr>\n",
       "    <tr>\n",
       "      <th>1</th>\n",
       "      <td>['B00R9R5ND6' 'B00R9RZ9ZS' 'B00R9RZ9ZS']</td>\n",
       "      <td>DE</td>\n",
       "    </tr>\n",
       "    <tr>\n",
       "      <th>2</th>\n",
       "      <td>['B07YSRXJD3' 'B07G7Q5N6G' 'B08C9Q7QVK' 'B07G7...</td>\n",
       "      <td>DE</td>\n",
       "    </tr>\n",
       "    <tr>\n",
       "      <th>3</th>\n",
       "      <td>['B08KQBYV43' '3955350843' '3955350843' '39553...</td>\n",
       "      <td>DE</td>\n",
       "    </tr>\n",
       "    <tr>\n",
       "      <th>4</th>\n",
       "      <td>['B09FPTCWMC' 'B09FPTQP68' 'B08HMRY8NG' 'B08TB...</td>\n",
       "      <td>DE</td>\n",
       "    </tr>\n",
       "    <tr>\n",
       "      <th>...</th>\n",
       "      <td>...</td>\n",
       "      <td>...</td>\n",
       "    </tr>\n",
       "    <tr>\n",
       "      <th>316966</th>\n",
       "      <td>['B077SZ2C3Y' 'B0B14M3VZX']</td>\n",
       "      <td>UK</td>\n",
       "    </tr>\n",
       "    <tr>\n",
       "      <th>316967</th>\n",
       "      <td>['B08KFHDPY9' 'B0851KTSRZ' 'B08KFHDPY9' 'B0851...</td>\n",
       "      <td>UK</td>\n",
       "    </tr>\n",
       "    <tr>\n",
       "      <th>316968</th>\n",
       "      <td>['B07PY1N81F' 'B07Q1Z8SQN' 'B07PY1N81F' 'B07Q1...</td>\n",
       "      <td>UK</td>\n",
       "    </tr>\n",
       "    <tr>\n",
       "      <th>316969</th>\n",
       "      <td>['B01MCQMORK' 'B09JYZ325W']</td>\n",
       "      <td>UK</td>\n",
       "    </tr>\n",
       "    <tr>\n",
       "      <th>316970</th>\n",
       "      <td>['B0B8JX92YJ' 'B09TN4MP6V' 'B0BG2LZQSL']</td>\n",
       "      <td>UK</td>\n",
       "    </tr>\n",
       "  </tbody>\n",
       "</table>\n",
       "<p>316971 rows × 2 columns</p>\n",
       "</div>"
      ],
      "text/plain": [
       "                                               prev_items locale\n",
       "0       ['B08V12CT4C' 'B08V1KXBQD' 'B01BVG1XJS' 'B09VC...     DE\n",
       "1                ['B00R9R5ND6' 'B00R9RZ9ZS' 'B00R9RZ9ZS']     DE\n",
       "2       ['B07YSRXJD3' 'B07G7Q5N6G' 'B08C9Q7QVK' 'B07G7...     DE\n",
       "3       ['B08KQBYV43' '3955350843' '3955350843' '39553...     DE\n",
       "4       ['B09FPTCWMC' 'B09FPTQP68' 'B08HMRY8NG' 'B08TB...     DE\n",
       "...                                                   ...    ...\n",
       "316966                        ['B077SZ2C3Y' 'B0B14M3VZX']     UK\n",
       "316967  ['B08KFHDPY9' 'B0851KTSRZ' 'B08KFHDPY9' 'B0851...     UK\n",
       "316968  ['B07PY1N81F' 'B07Q1Z8SQN' 'B07PY1N81F' 'B07Q1...     UK\n",
       "316969                        ['B01MCQMORK' 'B09JYZ325W']     UK\n",
       "316970           ['B0B8JX92YJ' 'B09TN4MP6V' 'B0BG2LZQSL']     UK\n",
       "\n",
       "[316971 rows x 2 columns]"
      ]
     },
     "execution_count": 21,
     "metadata": {},
     "output_type": "execute_result"
    }
   ],
   "source": [
    "# (316971, 2)\n",
    "df_test = pd.read_csv('data/sessions_test_task1.csv')\n",
    "df_test"
   ]
  },
  {
   "cell_type": "code",
   "execution_count": 22,
   "metadata": {},
   "outputs": [],
   "source": [
    "def str2list(x):\n",
    "    x = x.replace('[', '').replace(']', '').replace(\"'\", '').replace('\\n', ' ').replace('\\r', ' ')\n",
    "    l = [i for i in x.split() if i]\n",
    "    return l"
   ]
  },
  {
   "cell_type": "code",
   "execution_count": 23,
   "metadata": {},
   "outputs": [
    {
     "data": {
      "text/html": [
       "<div>\n",
       "<style scoped>\n",
       "    .dataframe tbody tr th:only-of-type {\n",
       "        vertical-align: middle;\n",
       "    }\n",
       "\n",
       "    .dataframe tbody tr th {\n",
       "        vertical-align: top;\n",
       "    }\n",
       "\n",
       "    .dataframe thead th {\n",
       "        text-align: right;\n",
       "    }\n",
       "</style>\n",
       "<table border=\"1\" class=\"dataframe\">\n",
       "  <thead>\n",
       "    <tr style=\"text-align: right;\">\n",
       "      <th></th>\n",
       "      <th>id</th>\n",
       "      <th>locale</th>\n",
       "      <th>title</th>\n",
       "      <th>price</th>\n",
       "      <th>brand</th>\n",
       "      <th>color</th>\n",
       "      <th>size</th>\n",
       "      <th>model</th>\n",
       "      <th>material</th>\n",
       "      <th>author</th>\n",
       "      <th>desc</th>\n",
       "    </tr>\n",
       "  </thead>\n",
       "  <tbody>\n",
       "    <tr>\n",
       "      <th>0</th>\n",
       "      <td>B005ZSSN10</td>\n",
       "      <td>DE</td>\n",
       "      <td>RED DRAGON Amberjack 3 - Steel Tip 22 Gramm Wo...</td>\n",
       "      <td>30.95</td>\n",
       "      <td>RED DRAGON</td>\n",
       "      <td>NaN</td>\n",
       "      <td>NaN</td>\n",
       "      <td>RDD0089</td>\n",
       "      <td>NaN</td>\n",
       "      <td>NaN</td>\n",
       "      <td>Amberjacks Steel Dartpfeile sind verfügbar in ...</td>\n",
       "    </tr>\n",
       "    <tr>\n",
       "      <th>1</th>\n",
       "      <td>B08PRYN6LD</td>\n",
       "      <td>DE</td>\n",
       "      <td>Simply Keto Lower Carb* Schokodrops ohne Zucke...</td>\n",
       "      <td>17.90</td>\n",
       "      <td>Simply Keto</td>\n",
       "      <td>NaN</td>\n",
       "      <td>750 g (1er Pack)</td>\n",
       "      <td>NaN</td>\n",
       "      <td>NaN</td>\n",
       "      <td>NaN</td>\n",
       "      <td>🌱 NATÜRLICHE SÜSSE DURCH ERYTHRIT - Wir stelle...</td>\n",
       "    </tr>\n",
       "    <tr>\n",
       "      <th>2</th>\n",
       "      <td>B09MBZJ48V</td>\n",
       "      <td>DE</td>\n",
       "      <td>Sennheiser 508377 PC 5.2 Chat, Stilvolles Mult...</td>\n",
       "      <td>68.89</td>\n",
       "      <td>Sennheiser</td>\n",
       "      <td>Multi-Colour</td>\n",
       "      <td>One size</td>\n",
       "      <td>508377</td>\n",
       "      <td>Kunstleder</td>\n",
       "      <td>NaN</td>\n",
       "      <td>3.5 MM BUCHSE - Kann problemlos an Geräte mit ...</td>\n",
       "    </tr>\n",
       "    <tr>\n",
       "      <th>3</th>\n",
       "      <td>B08ZN6F26S</td>\n",
       "      <td>DE</td>\n",
       "      <td>AmyBenton Auto ab 1 2 3 ahre - Baby Aufziehbar...</td>\n",
       "      <td>18.99</td>\n",
       "      <td>Amy &amp; Benton</td>\n",
       "      <td>Animal Car</td>\n",
       "      <td>NaN</td>\n",
       "      <td>2008B</td>\n",
       "      <td>aufziehauto 1 jahr</td>\n",
       "      <td>NaN</td>\n",
       "      <td>【Auto aufziehbar】: Drücken Sie einfach leicht ...</td>\n",
       "    </tr>\n",
       "    <tr>\n",
       "      <th>4</th>\n",
       "      <td>B094DGRV7D</td>\n",
       "      <td>DE</td>\n",
       "      <td>PLAYMOBIL - 70522 - Cavaliere mit grauem Pony</td>\n",
       "      <td>7.17</td>\n",
       "      <td>PLAYMOBIL</td>\n",
       "      <td>Nicht Zutreffend.</td>\n",
       "      <td>OneSize</td>\n",
       "      <td>70522</td>\n",
       "      <td>Polypropylen</td>\n",
       "      <td>NaN</td>\n",
       "      <td>Inhalt: 1 Stück</td>\n",
       "    </tr>\n",
       "    <tr>\n",
       "      <th>...</th>\n",
       "      <td>...</td>\n",
       "      <td>...</td>\n",
       "      <td>...</td>\n",
       "      <td>...</td>\n",
       "      <td>...</td>\n",
       "      <td>...</td>\n",
       "      <td>...</td>\n",
       "      <td>...</td>\n",
       "      <td>...</td>\n",
       "      <td>...</td>\n",
       "      <td>...</td>\n",
       "    </tr>\n",
       "    <tr>\n",
       "      <th>1551052</th>\n",
       "      <td>B09BW5CDRR</td>\n",
       "      <td>IT</td>\n",
       "      <td>Barbie - Playset Gelateria con Bambola con Mac...</td>\n",
       "      <td>20.48</td>\n",
       "      <td>Barbie</td>\n",
       "      <td>NaN</td>\n",
       "      <td>NaN</td>\n",
       "      <td>HCN46</td>\n",
       "      <td>NaN</td>\n",
       "      <td>NaN</td>\n",
       "      <td>DETTAGLI REALISTICI. Basta inserire la pasta m...</td>\n",
       "    </tr>\n",
       "    <tr>\n",
       "      <th>1551053</th>\n",
       "      <td>B0050IILBM</td>\n",
       "      <td>IT</td>\n",
       "      <td>Braun Silk-épil 1 Depilatore Donna, Epilatore ...</td>\n",
       "      <td>22.61</td>\n",
       "      <td>Braun</td>\n",
       "      <td>Pink</td>\n",
       "      <td>NaN</td>\n",
       "      <td>4210201656067</td>\n",
       "      <td>NaN</td>\n",
       "      <td>NaN</td>\n",
       "      <td>Alimentato a corrente per un comodo utilizzo</td>\n",
       "    </tr>\n",
       "    <tr>\n",
       "      <th>1551054</th>\n",
       "      <td>B07W4C5W9D</td>\n",
       "      <td>IT</td>\n",
       "      <td>BoxLegend Sacchetti Sottovuoto Vestiti 6 Pezzi...</td>\n",
       "      <td>14.99</td>\n",
       "      <td>BoxLegend</td>\n",
       "      <td>6 Pezzi.</td>\n",
       "      <td>6 Pezzi (2L + 2M + 2S)</td>\n",
       "      <td>6186666487608_SML</td>\n",
       "      <td>Polietilene Ppa</td>\n",
       "      <td>NaN</td>\n",
       "      <td>6 Sacchetti in 3 Diverse Misure- Questo set di...</td>\n",
       "    </tr>\n",
       "    <tr>\n",
       "      <th>1551055</th>\n",
       "      <td>B012D0HJXA</td>\n",
       "      <td>IT</td>\n",
       "      <td>Trasportino Pratiko Metal - Accessorio da viag...</td>\n",
       "      <td>18.35</td>\n",
       "      <td>MPS</td>\n",
       "      <td>verde</td>\n",
       "      <td>NaN</td>\n",
       "      <td>NaN</td>\n",
       "      <td>Metallo</td>\n",
       "      <td>NaN</td>\n",
       "      <td>TRASPORTINO 48X31.5X33CM</td>\n",
       "    </tr>\n",
       "    <tr>\n",
       "      <th>1551056</th>\n",
       "      <td>B07P5RLXP3</td>\n",
       "      <td>IT</td>\n",
       "      <td>LiCB - Batterie LR1130, batterie alcaline AG10...</td>\n",
       "      <td>6.99</td>\n",
       "      <td>LiCB</td>\n",
       "      <td>NaN</td>\n",
       "      <td>20 Stück LR1130</td>\n",
       "      <td>LR1130-20</td>\n",
       "      <td>NaN</td>\n",
       "      <td>NaN</td>\n",
       "      <td>Denominazione: 20 pezzi di pile alcaline LR113...</td>\n",
       "    </tr>\n",
       "  </tbody>\n",
       "</table>\n",
       "<p>1551057 rows × 11 columns</p>\n",
       "</div>"
      ],
      "text/plain": [
       "                 id locale                                              title  \\\n",
       "0        B005ZSSN10     DE  RED DRAGON Amberjack 3 - Steel Tip 22 Gramm Wo...   \n",
       "1        B08PRYN6LD     DE  Simply Keto Lower Carb* Schokodrops ohne Zucke...   \n",
       "2        B09MBZJ48V     DE  Sennheiser 508377 PC 5.2 Chat, Stilvolles Mult...   \n",
       "3        B08ZN6F26S     DE  AmyBenton Auto ab 1 2 3 ahre - Baby Aufziehbar...   \n",
       "4        B094DGRV7D     DE      PLAYMOBIL - 70522 - Cavaliere mit grauem Pony   \n",
       "...             ...    ...                                                ...   \n",
       "1551052  B09BW5CDRR     IT  Barbie - Playset Gelateria con Bambola con Mac...   \n",
       "1551053  B0050IILBM     IT  Braun Silk-épil 1 Depilatore Donna, Epilatore ...   \n",
       "1551054  B07W4C5W9D     IT  BoxLegend Sacchetti Sottovuoto Vestiti 6 Pezzi...   \n",
       "1551055  B012D0HJXA     IT  Trasportino Pratiko Metal - Accessorio da viag...   \n",
       "1551056  B07P5RLXP3     IT  LiCB - Batterie LR1130, batterie alcaline AG10...   \n",
       "\n",
       "         price         brand              color                    size  \\\n",
       "0        30.95    RED DRAGON                NaN                     NaN   \n",
       "1        17.90   Simply Keto                NaN        750 g (1er Pack)   \n",
       "2        68.89    Sennheiser       Multi-Colour                One size   \n",
       "3        18.99  Amy & Benton         Animal Car                     NaN   \n",
       "4         7.17     PLAYMOBIL  Nicht Zutreffend.                 OneSize   \n",
       "...        ...           ...                ...                     ...   \n",
       "1551052  20.48        Barbie                NaN                     NaN   \n",
       "1551053  22.61         Braun               Pink                     NaN   \n",
       "1551054  14.99     BoxLegend           6 Pezzi.  6 Pezzi (2L + 2M + 2S)   \n",
       "1551055  18.35           MPS              verde                     NaN   \n",
       "1551056   6.99          LiCB                NaN         20 Stück LR1130   \n",
       "\n",
       "                     model            material author  \\\n",
       "0                  RDD0089                 NaN    NaN   \n",
       "1                      NaN                 NaN    NaN   \n",
       "2                   508377          Kunstleder    NaN   \n",
       "3                    2008B  aufziehauto 1 jahr    NaN   \n",
       "4                    70522        Polypropylen    NaN   \n",
       "...                    ...                 ...    ...   \n",
       "1551052              HCN46                 NaN    NaN   \n",
       "1551053      4210201656067                 NaN    NaN   \n",
       "1551054  6186666487608_SML     Polietilene Ppa    NaN   \n",
       "1551055                NaN             Metallo    NaN   \n",
       "1551056          LR1130-20                 NaN    NaN   \n",
       "\n",
       "                                                      desc  \n",
       "0        Amberjacks Steel Dartpfeile sind verfügbar in ...  \n",
       "1        🌱 NATÜRLICHE SÜSSE DURCH ERYTHRIT - Wir stelle...  \n",
       "2        3.5 MM BUCHSE - Kann problemlos an Geräte mit ...  \n",
       "3        【Auto aufziehbar】: Drücken Sie einfach leicht ...  \n",
       "4                                          Inhalt: 1 Stück  \n",
       "...                                                    ...  \n",
       "1551052  DETTAGLI REALISTICI. Basta inserire la pasta m...  \n",
       "1551053       Alimentato a corrente per un comodo utilizzo  \n",
       "1551054  6 Sacchetti in 3 Diverse Misure- Questo set di...  \n",
       "1551055                           TRASPORTINO 48X31.5X33CM  \n",
       "1551056  Denominazione: 20 pezzi di pile alcaline LR113...  \n",
       "\n",
       "[1551057 rows x 11 columns]"
      ]
     },
     "execution_count": 23,
     "metadata": {},
     "output_type": "execute_result"
    }
   ],
   "source": [
    "# 不到1min (1551057, 11)\n",
    "products = pd.read_csv('data/products_train.csv')\n",
    "products"
   ]
  },
  {
   "cell_type": "code",
   "execution_count": 24,
   "metadata": {},
   "outputs": [],
   "source": [
    "# 1min多一些\n",
    "df_train['prev_items'] = df_train['prev_items'].apply(lambda x: str2list(x))\n",
    "df_test['prev_items'] = df_test['prev_items'].apply(lambda x: str2list(x))"
   ]
  },
  {
   "cell_type": "code",
   "execution_count": 25,
   "metadata": {},
   "outputs": [
    {
     "data": {
      "text/html": [
       "<div>\n",
       "<style scoped>\n",
       "    .dataframe tbody tr th:only-of-type {\n",
       "        vertical-align: middle;\n",
       "    }\n",
       "\n",
       "    .dataframe tbody tr th {\n",
       "        vertical-align: top;\n",
       "    }\n",
       "\n",
       "    .dataframe thead th {\n",
       "        text-align: right;\n",
       "    }\n",
       "</style>\n",
       "<table border=\"1\" class=\"dataframe\">\n",
       "  <thead>\n",
       "    <tr style=\"text-align: right;\">\n",
       "      <th></th>\n",
       "      <th>prev_items</th>\n",
       "      <th>next_item</th>\n",
       "      <th>locale</th>\n",
       "    </tr>\n",
       "  </thead>\n",
       "  <tbody>\n",
       "    <tr>\n",
       "      <th>0</th>\n",
       "      <td>[B09W9FND7K, B09JSPLN1M]</td>\n",
       "      <td>B09M7GY217</td>\n",
       "      <td>DE</td>\n",
       "    </tr>\n",
       "    <tr>\n",
       "      <th>1</th>\n",
       "      <td>[B076THCGSG, B007MO8IME, B08MF65MLV, B001B4TKA0]</td>\n",
       "      <td>B001B4THSA</td>\n",
       "      <td>DE</td>\n",
       "    </tr>\n",
       "    <tr>\n",
       "      <th>2</th>\n",
       "      <td>[B0B1LGXWDS, B00AZYORS2, B0B1LGXWDS, B00AZYORS...</td>\n",
       "      <td>B0767DTG2Q</td>\n",
       "      <td>DE</td>\n",
       "    </tr>\n",
       "    <tr>\n",
       "      <th>3</th>\n",
       "      <td>[B09XMTWDVT, B0B4MZZ8MB, B0B7HZ2GWX, B09XMTWDV...</td>\n",
       "      <td>B0B4R9NN4B</td>\n",
       "      <td>DE</td>\n",
       "    </tr>\n",
       "    <tr>\n",
       "      <th>4</th>\n",
       "      <td>[B09Y5CSL3T, B09Y5DPTXN, B09FKD61R8]</td>\n",
       "      <td>B0BGVBKWGZ</td>\n",
       "      <td>DE</td>\n",
       "    </tr>\n",
       "    <tr>\n",
       "      <th>...</th>\n",
       "      <td>...</td>\n",
       "      <td>...</td>\n",
       "      <td>...</td>\n",
       "    </tr>\n",
       "    <tr>\n",
       "      <th>3606244</th>\n",
       "      <td>[B086CYFSKW, B0874F9859, B086CYFSKW]</td>\n",
       "      <td>B07B5TYD76</td>\n",
       "      <td>IT</td>\n",
       "    </tr>\n",
       "    <tr>\n",
       "      <th>3606245</th>\n",
       "      <td>[B09NRZKZ7V, B08WJTPV93]</td>\n",
       "      <td>B08L1P4C3D</td>\n",
       "      <td>IT</td>\n",
       "    </tr>\n",
       "    <tr>\n",
       "      <th>3606246</th>\n",
       "      <td>[B085JFX7MP, B085JGHW8R]</td>\n",
       "      <td>B01MPWVD44</td>\n",
       "      <td>IT</td>\n",
       "    </tr>\n",
       "    <tr>\n",
       "      <th>3606247</th>\n",
       "      <td>[B00B0UING2, B00B0UING2]</td>\n",
       "      <td>B00D3HYEZ4</td>\n",
       "      <td>IT</td>\n",
       "    </tr>\n",
       "    <tr>\n",
       "      <th>3606248</th>\n",
       "      <td>[B092S9D1SD, B09XQQ1S72, B0852MS7QC, B0B1V43MN1]</td>\n",
       "      <td>B0B7RX65YP</td>\n",
       "      <td>IT</td>\n",
       "    </tr>\n",
       "  </tbody>\n",
       "</table>\n",
       "<p>3606249 rows × 3 columns</p>\n",
       "</div>"
      ],
      "text/plain": [
       "                                                prev_items   next_item locale\n",
       "0                                 [B09W9FND7K, B09JSPLN1M]  B09M7GY217     DE\n",
       "1         [B076THCGSG, B007MO8IME, B08MF65MLV, B001B4TKA0]  B001B4THSA     DE\n",
       "2        [B0B1LGXWDS, B00AZYORS2, B0B1LGXWDS, B00AZYORS...  B0767DTG2Q     DE\n",
       "3        [B09XMTWDVT, B0B4MZZ8MB, B0B7HZ2GWX, B09XMTWDV...  B0B4R9NN4B     DE\n",
       "4                     [B09Y5CSL3T, B09Y5DPTXN, B09FKD61R8]  B0BGVBKWGZ     DE\n",
       "...                                                    ...         ...    ...\n",
       "3606244               [B086CYFSKW, B0874F9859, B086CYFSKW]  B07B5TYD76     IT\n",
       "3606245                           [B09NRZKZ7V, B08WJTPV93]  B08L1P4C3D     IT\n",
       "3606246                           [B085JFX7MP, B085JGHW8R]  B01MPWVD44     IT\n",
       "3606247                           [B00B0UING2, B00B0UING2]  B00D3HYEZ4     IT\n",
       "3606248   [B092S9D1SD, B09XQQ1S72, B0852MS7QC, B0B1V43MN1]  B0B7RX65YP     IT\n",
       "\n",
       "[3606249 rows x 3 columns]"
      ]
     },
     "execution_count": 25,
     "metadata": {},
     "output_type": "execute_result"
    }
   ],
   "source": [
    "df_train"
   ]
  },
  {
   "cell_type": "code",
   "execution_count": 26,
   "metadata": {},
   "outputs": [],
   "source": [
    "df_train['last_item'] = df_train['prev_items'].apply(lambda x: x[-1])\n",
    "df_test['last_item'] = df_test['prev_items'].apply(lambda x: x[-1])"
   ]
  },
  {
   "cell_type": "code",
   "execution_count": 27,
   "metadata": {},
   "outputs": [
    {
     "data": {
      "text/plain": [
       "((3606249, 4), (316971, 3))"
      ]
     },
     "execution_count": 27,
     "metadata": {},
     "output_type": "execute_result"
    }
   ],
   "source": [
    "df_train.shape, df_test.shape "
   ]
  },
  {
   "cell_type": "code",
   "execution_count": 28,
   "metadata": {},
   "outputs": [],
   "source": [
    "loc2id = {\n",
    "    'DE': 0,\n",
    "    'JP': 1,\n",
    "    'UK': 2,\n",
    "}"
   ]
  },
  {
   "cell_type": "code",
   "execution_count": 29,
   "metadata": {},
   "outputs": [],
   "source": [
    "# df_train = df_train[df_train['locale'].isin(['DE', 'JP', 'UK'])]\n",
    "# df_train.shape "
   ]
  },
  {
   "cell_type": "code",
   "execution_count": 30,
   "metadata": {},
   "outputs": [],
   "source": [
    "# df_test = df_test[df_test['locale'].isin(['DE', 'JP', 'UK'])]\n",
    "# df_test.shape "
   ]
  },
  {
   "cell_type": "code",
   "execution_count": null,
   "metadata": {},
   "outputs": [],
   "source": [
    "# 后边不用重跑"
   ]
  },
  {
   "cell_type": "code",
   "execution_count": null,
   "metadata": {},
   "outputs": [
    {
     "name": "stderr",
     "output_type": "stream",
     "text": [
      "100%|██████████| 3272716/3272716 [03:20<00:00, 16339.42it/s]\n"
     ]
    },
    {
     "data": {
      "text/plain": [
       "1326772"
      ]
     },
     "execution_count": 14,
     "metadata": {},
     "output_type": "execute_result"
    }
   ],
   "source": [
    "train_ids = []\n",
    "for _, row in tqdm(df_train.iterrows(), total=len(df_train)):\n",
    "    train_ids += row['prev_items']\n",
    "    train_ids.append(row['next_item'])\n",
    "train_ids = set(train_ids)\n",
    "len(train_ids)"
   ]
  },
  {
   "cell_type": "code",
   "execution_count": null,
   "metadata": {},
   "outputs": [
    {
     "name": "stderr",
     "output_type": "stream",
     "text": [
      "100%|██████████| 316971/316971 [00:17<00:00, 17624.61it/s]\n"
     ]
    },
    {
     "data": {
      "text/plain": [
       "224336"
      ]
     },
     "execution_count": 15,
     "metadata": {},
     "output_type": "execute_result"
    }
   ],
   "source": [
    "test_ids = []\n",
    "for _, row in tqdm(df_test.iterrows(), total=len(df_test)):\n",
    "    test_ids += row['prev_items']\n",
    "test_ids = set(test_ids)\n",
    "len(test_ids)"
   ]
  },
  {
   "cell_type": "code",
   "execution_count": null,
   "metadata": {},
   "outputs": [
    {
     "data": {
      "text/plain": [
       "212261"
      ]
     },
     "execution_count": 16,
     "metadata": {},
     "output_type": "execute_result"
    }
   ],
   "source": [
    "len(train_ids & test_ids)"
   ]
  },
  {
   "cell_type": "code",
   "execution_count": null,
   "metadata": {},
   "outputs": [
    {
     "data": {
      "text/plain": [
       "1338847"
      ]
     },
     "execution_count": 17,
     "metadata": {},
     "output_type": "execute_result"
    }
   ],
   "source": [
    "len(train_ids | test_ids)"
   ]
  },
  {
   "cell_type": "code",
   "execution_count": null,
   "metadata": {},
   "outputs": [],
   "source": [
    "train_ids = np.array(list(train_ids))\n",
    "test_ids = np.array(list(test_ids))\n",
    "np.save('data/train_ids.npy', train_ids)\n",
    "np.save('data/test_ids.npy', test_ids)"
   ]
  },
  {
   "attachments": {},
   "cell_type": "markdown",
   "metadata": {},
   "source": [
    "# 召回"
   ]
  },
  {
   "attachments": {},
   "cell_type": "markdown",
   "metadata": {},
   "source": [
    "召回策略\n",
    "\n",
    "1. 使用vid关联规则【统计】\n",
    "    - 计算与最后vid关联性最大的下一个vid；\n",
    "    - 计算与最后5个vid关联性最大的下一个vid；\n",
    "    - 计算与历史观看时间最长的vid关联性最大的下一个vid；\n",
    "2. 使用vid计算词向量相似度"
   ]
  },
  {
   "attachments": {},
   "cell_type": "markdown",
   "metadata": {},
   "source": [
    "训练集标签中最热门的200个id"
   ]
  },
  {
   "cell_type": "code",
   "execution_count": 11,
   "metadata": {},
   "outputs": [],
   "source": [
    "# 最热门的200个id\n",
    "hot200 = df_train['next_item'].value_counts().head(200).index\n",
    "hot200 = list(hot200)"
   ]
  },
  {
   "attachments": {},
   "cell_type": "markdown",
   "metadata": {},
   "source": [
    "一阶下一跳"
   ]
  },
  {
   "cell_type": "code",
   "execution_count": 197,
   "metadata": {},
   "outputs": [
    {
     "name": "stderr",
     "output_type": "stream",
     "text": [
      "100%|██████████| 3272716/3272716 [04:39<00:00, 11697.32it/s]\n"
     ]
    }
   ],
   "source": [
    "next_item_dict = defaultdict(list)\n",
    "\n",
    "for _, row in tqdm(df_train.iterrows(), total=len(df_train)):\n",
    "    prev_items = row['prev_items']\n",
    "    next_item = row['next_item']\n",
    "    prev_items_length = len(prev_items)\n",
    "    if prev_items_length <= 1:\n",
    "        next_item_dict[prev_items[0]].append(next_item)\n",
    "    else:\n",
    "        for i, item in enumerate(prev_items[:-1]):\n",
    "            next_item_dict[item].append(prev_items[i+1])\n",
    "        next_item_dict[prev_items[-1]].append(next_item)"
   ]
  },
  {
   "cell_type": "code",
   "execution_count": 198,
   "metadata": {},
   "outputs": [
    {
     "name": "stderr",
     "output_type": "stream",
     "text": [
      "100%|██████████| 316971/316971 [00:22<00:00, 14057.46it/s]\n"
     ]
    }
   ],
   "source": [
    "for _, row in tqdm(df_test.iterrows(), total=len(df_test)):\n",
    "    prev_items = row['prev_items']\n",
    "    prev_items_length = len(prev_items)\n",
    "    if prev_items_length <= 1:\n",
    "        continue\n",
    "    else:\n",
    "        for i, item in enumerate(prev_items[:-1]):\n",
    "            next_item_dict[item].append(prev_items[i+1])"
   ]
  },
  {
   "cell_type": "code",
   "execution_count": 199,
   "metadata": {},
   "outputs": [],
   "source": [
    "# pickle.dump(next_item_dict, open('data/next_item_dict_new.pkl', 'wb'))"
   ]
  },
  {
   "cell_type": "code",
   "execution_count": 182,
   "metadata": {},
   "outputs": [],
   "source": [
    "next_item_dict = pickle.load(open('data/next_item_dict_new.pkl', 'rb'))"
   ]
  },
  {
   "cell_type": "code",
   "execution_count": 167,
   "metadata": {},
   "outputs": [
    {
     "name": "stderr",
     "output_type": "stream",
     "text": [
      "100%|██████████| 1270206/1270206 [00:10<00:00, 116055.53it/s]\n"
     ]
    }
   ],
   "source": [
    "next_item_map = {}\n",
    "\n",
    "for item in tqdm(next_item_dict):\n",
    "    counter = Counter(next_item_dict[item])\n",
    "    next_item_map[item] = [i[0] for i in counter.most_common(100)]"
   ]
  },
  {
   "cell_type": "code",
   "execution_count": 121,
   "metadata": {},
   "outputs": [],
   "source": [
    "# pickle.dump(next_item_map, open('data/next_item_map_new.pkl', 'wb'))"
   ]
  },
  {
   "cell_type": "code",
   "execution_count": 183,
   "metadata": {},
   "outputs": [],
   "source": [
    "next_item_map = pickle.load(open('data/next_item_map_new.pkl', 'rb'))"
   ]
  },
  {
   "attachments": {},
   "cell_type": "markdown",
   "metadata": {},
   "source": [
    "一阶下一跳中最热门的200个id"
   ]
  },
  {
   "cell_type": "code",
   "execution_count": 122,
   "metadata": {},
   "outputs": [
    {
     "data": {
      "text/html": [
       "<div>\n",
       "<style scoped>\n",
       "    .dataframe tbody tr th:only-of-type {\n",
       "        vertical-align: middle;\n",
       "    }\n",
       "\n",
       "    .dataframe tbody tr th {\n",
       "        vertical-align: top;\n",
       "    }\n",
       "\n",
       "    .dataframe thead th {\n",
       "        text-align: right;\n",
       "    }\n",
       "</style>\n",
       "<table border=\"1\" class=\"dataframe\">\n",
       "  <thead>\n",
       "    <tr style=\"text-align: right;\">\n",
       "      <th></th>\n",
       "      <th>item</th>\n",
       "      <th>next_item</th>\n",
       "    </tr>\n",
       "  </thead>\n",
       "  <tbody>\n",
       "    <tr>\n",
       "      <th>0</th>\n",
       "      <td>B09W9FND7K</td>\n",
       "      <td>B09JSPLN1M</td>\n",
       "    </tr>\n",
       "    <tr>\n",
       "      <th>1</th>\n",
       "      <td>B09W9FND7K</td>\n",
       "      <td>B09JSPLN1M</td>\n",
       "    </tr>\n",
       "    <tr>\n",
       "      <th>2</th>\n",
       "      <td>B09W9FND7K</td>\n",
       "      <td>B09JSPLN1M</td>\n",
       "    </tr>\n",
       "    <tr>\n",
       "      <th>3</th>\n",
       "      <td>B09W9FND7K</td>\n",
       "      <td>B09JSPLN1M</td>\n",
       "    </tr>\n",
       "    <tr>\n",
       "      <th>4</th>\n",
       "      <td>B09W9FND7K</td>\n",
       "      <td>B078WW2WN5</td>\n",
       "    </tr>\n",
       "    <tr>\n",
       "      <th>...</th>\n",
       "      <td>...</td>\n",
       "      <td>...</td>\n",
       "    </tr>\n",
       "    <tr>\n",
       "      <th>16340339</th>\n",
       "      <td>B0BFPLN8FQ</td>\n",
       "      <td>B0BF5GT13X</td>\n",
       "    </tr>\n",
       "    <tr>\n",
       "      <th>16340340</th>\n",
       "      <td>B09737CD6H</td>\n",
       "      <td>B08DJ9SQFY</td>\n",
       "    </tr>\n",
       "    <tr>\n",
       "      <th>16340341</th>\n",
       "      <td>B084GZ3QZ7</td>\n",
       "      <td>B00CBAW8SE</td>\n",
       "    </tr>\n",
       "    <tr>\n",
       "      <th>16340342</th>\n",
       "      <td>B081TXFKS5</td>\n",
       "      <td>B004RN5I6W</td>\n",
       "    </tr>\n",
       "    <tr>\n",
       "      <th>16340343</th>\n",
       "      <td>B07H31QX5Q</td>\n",
       "      <td>B08R7685RH</td>\n",
       "    </tr>\n",
       "  </tbody>\n",
       "</table>\n",
       "<p>16340344 rows × 2 columns</p>\n",
       "</div>"
      ],
      "text/plain": [
       "                item   next_item\n",
       "0         B09W9FND7K  B09JSPLN1M\n",
       "1         B09W9FND7K  B09JSPLN1M\n",
       "2         B09W9FND7K  B09JSPLN1M\n",
       "3         B09W9FND7K  B09JSPLN1M\n",
       "4         B09W9FND7K  B078WW2WN5\n",
       "...              ...         ...\n",
       "16340339  B0BFPLN8FQ  B0BF5GT13X\n",
       "16340340  B09737CD6H  B08DJ9SQFY\n",
       "16340341  B084GZ3QZ7  B00CBAW8SE\n",
       "16340342  B081TXFKS5  B004RN5I6W\n",
       "16340343  B07H31QX5Q  B08R7685RH\n",
       "\n",
       "[16340344 rows x 2 columns]"
      ]
     },
     "execution_count": 122,
     "metadata": {},
     "output_type": "execute_result"
    }
   ],
   "source": [
    "k = []\n",
    "v = []\n",
    "\n",
    "for item in next_item_dict:\n",
    "    k.append(item)\n",
    "    v.append(next_item_dict[item])\n",
    "    \n",
    "df_next = pd.DataFrame({'item': k, 'next_item': v})\n",
    "df_next = df_next.explode('next_item').reset_index(drop=True)\n",
    "df_next"
   ]
  },
  {
   "cell_type": "code",
   "execution_count": 123,
   "metadata": {},
   "outputs": [],
   "source": [
    "top200 = df_next['next_item'].value_counts().index.tolist()[:200]  # 所有下一跳候选集中最热门的200个"
   ]
  },
  {
   "cell_type": "code",
   "execution_count": 124,
   "metadata": {},
   "outputs": [],
   "source": [
    "# pickle.dump(top200, open('data/top200_new.pkl', 'wb'))"
   ]
  },
  {
   "cell_type": "code",
   "execution_count": 184,
   "metadata": {},
   "outputs": [],
   "source": [
    "top200 = pickle.load(open('data/top200_new.pkl', 'rb'))"
   ]
  },
  {
   "attachments": {},
   "cell_type": "markdown",
   "metadata": {},
   "source": [
    "word2vec"
   ]
  },
  {
   "cell_type": "code",
   "execution_count": 13,
   "metadata": {},
   "outputs": [],
   "source": [
    "w2v_window = 3\n",
    "w2v_min_count = 1\n",
    "w2v_epochs = 500\n",
    "w2v_vector_size = 128"
   ]
  },
  {
   "cell_type": "code",
   "execution_count": 14,
   "metadata": {},
   "outputs": [],
   "source": [
    "id_word2vec = Word2Vec.load('./data/word2vec_{}_{}_{}_{}.pt'.format(w2v_vector_size, w2v_epochs, w2v_window, w2v_min_count))"
   ]
  },
  {
   "cell_type": "code",
   "execution_count": 21,
   "metadata": {},
   "outputs": [],
   "source": [
    "product2id = json.load(open('data/product2id.json', 'r'))\n",
    "id2product = json.load(open('data/id2product.json', 'r'))\n",
    "id2product = {int(k): v for k, v in id2product.items()}"
   ]
  },
  {
   "cell_type": "code",
   "execution_count": 36,
   "metadata": {},
   "outputs": [
    {
     "name": "stderr",
     "output_type": "stream",
     "text": [
      " 11%|█▏        | 160127/1410675 [3:34:56<27:58:40, 12.42it/s] \n"
     ]
    },
    {
     "ename": "KeyboardInterrupt",
     "evalue": "",
     "output_type": "error",
     "traceback": [
      "\u001b[0;31m---------------------------------------------------------------------------\u001b[0m",
      "\u001b[0;31mKeyboardInterrupt\u001b[0m                         Traceback (most recent call last)",
      "\u001b[0;32m<ipython-input-36-02f6e893c62f>\u001b[0m in \u001b[0;36m<module>\u001b[0;34m\u001b[0m\n\u001b[1;32m      1\u001b[0m \u001b[0mw2v_map\u001b[0m \u001b[0;34m=\u001b[0m \u001b[0mdefaultdict\u001b[0m\u001b[0;34m(\u001b[0m\u001b[0mlist\u001b[0m\u001b[0;34m)\u001b[0m\u001b[0;34m\u001b[0m\u001b[0;34m\u001b[0m\u001b[0m\n\u001b[1;32m      2\u001b[0m \u001b[0;32mfor\u001b[0m \u001b[0mid_\u001b[0m \u001b[0;32min\u001b[0m \u001b[0mtqdm\u001b[0m\u001b[0;34m(\u001b[0m\u001b[0mid2product\u001b[0m\u001b[0;34m.\u001b[0m\u001b[0mkeys\u001b[0m\u001b[0;34m(\u001b[0m\u001b[0;34m)\u001b[0m\u001b[0;34m,\u001b[0m \u001b[0mtotal\u001b[0m\u001b[0;34m=\u001b[0m\u001b[0mlen\u001b[0m\u001b[0;34m(\u001b[0m\u001b[0mid2product\u001b[0m\u001b[0;34m)\u001b[0m\u001b[0;34m)\u001b[0m\u001b[0;34m:\u001b[0m\u001b[0;34m\u001b[0m\u001b[0;34m\u001b[0m\u001b[0m\n\u001b[0;32m----> 3\u001b[0;31m     \u001b[0mw2v_sim\u001b[0m \u001b[0;34m=\u001b[0m \u001b[0mid_word2vec\u001b[0m\u001b[0;34m.\u001b[0m\u001b[0mwv\u001b[0m\u001b[0;34m.\u001b[0m\u001b[0mmost_similar\u001b[0m\u001b[0;34m(\u001b[0m\u001b[0mid_\u001b[0m\u001b[0;34m)\u001b[0m\u001b[0;34m\u001b[0m\u001b[0;34m\u001b[0m\u001b[0m\n\u001b[0m\u001b[1;32m      4\u001b[0m     \u001b[0mw2v_sim\u001b[0m \u001b[0;34m=\u001b[0m \u001b[0;34m[\u001b[0m\u001b[0mid2product\u001b[0m\u001b[0;34m[\u001b[0m\u001b[0mx\u001b[0m\u001b[0;34m[\u001b[0m\u001b[0;36m0\u001b[0m\u001b[0;34m]\u001b[0m\u001b[0;34m]\u001b[0m \u001b[0;32mfor\u001b[0m \u001b[0mx\u001b[0m \u001b[0;32min\u001b[0m \u001b[0mw2v_sim\u001b[0m\u001b[0;34m]\u001b[0m\u001b[0;34m\u001b[0m\u001b[0;34m\u001b[0m\u001b[0m\n\u001b[1;32m      5\u001b[0m     \u001b[0mw2v_map\u001b[0m\u001b[0;34m[\u001b[0m\u001b[0mid2product\u001b[0m\u001b[0;34m[\u001b[0m\u001b[0mid_\u001b[0m\u001b[0;34m]\u001b[0m\u001b[0;34m]\u001b[0m \u001b[0;34m=\u001b[0m \u001b[0mw2v_sim\u001b[0m\u001b[0;34m\u001b[0m\u001b[0;34m\u001b[0m\u001b[0m\n",
      "\u001b[0;32m~/anaconda3/envs/libcityng/lib/python3.9/site-packages/gensim/models/keyedvectors.py\u001b[0m in \u001b[0;36mmost_similar\u001b[0;34m(self, positive, negative, topn, clip_start, clip_end, restrict_vocab, indexer)\u001b[0m\n\u001b[1;32m    770\u001b[0m             \u001b[0;32mreturn\u001b[0m \u001b[0mindexer\u001b[0m\u001b[0;34m.\u001b[0m\u001b[0mmost_similar\u001b[0m\u001b[0;34m(\u001b[0m\u001b[0mmean\u001b[0m\u001b[0;34m,\u001b[0m \u001b[0mtopn\u001b[0m\u001b[0;34m)\u001b[0m\u001b[0;34m\u001b[0m\u001b[0;34m\u001b[0m\u001b[0m\n\u001b[1;32m    771\u001b[0m \u001b[0;34m\u001b[0m\u001b[0m\n\u001b[0;32m--> 772\u001b[0;31m         \u001b[0mdists\u001b[0m \u001b[0;34m=\u001b[0m \u001b[0mdot\u001b[0m\u001b[0;34m(\u001b[0m\u001b[0mself\u001b[0m\u001b[0;34m.\u001b[0m\u001b[0mvectors\u001b[0m\u001b[0;34m[\u001b[0m\u001b[0mclip_start\u001b[0m\u001b[0;34m:\u001b[0m\u001b[0mclip_end\u001b[0m\u001b[0;34m]\u001b[0m\u001b[0;34m,\u001b[0m \u001b[0mmean\u001b[0m\u001b[0;34m)\u001b[0m \u001b[0;34m/\u001b[0m \u001b[0mself\u001b[0m\u001b[0;34m.\u001b[0m\u001b[0mnorms\u001b[0m\u001b[0;34m[\u001b[0m\u001b[0mclip_start\u001b[0m\u001b[0;34m:\u001b[0m\u001b[0mclip_end\u001b[0m\u001b[0;34m]\u001b[0m\u001b[0;34m\u001b[0m\u001b[0;34m\u001b[0m\u001b[0m\n\u001b[0m\u001b[1;32m    773\u001b[0m         \u001b[0;32mif\u001b[0m \u001b[0;32mnot\u001b[0m \u001b[0mtopn\u001b[0m\u001b[0;34m:\u001b[0m\u001b[0;34m\u001b[0m\u001b[0;34m\u001b[0m\u001b[0m\n\u001b[1;32m    774\u001b[0m             \u001b[0;32mreturn\u001b[0m \u001b[0mdists\u001b[0m\u001b[0;34m\u001b[0m\u001b[0;34m\u001b[0m\u001b[0m\n",
      "\u001b[0;32m~/anaconda3/envs/libcityng/lib/python3.9/site-packages/numpy/core/overrides.py\u001b[0m in \u001b[0;36mdot\u001b[0;34m(*args, **kwargs)\u001b[0m\n",
      "\u001b[0;31mKeyboardInterrupt\u001b[0m: "
     ]
    }
   ],
   "source": [
    "w2v_map = defaultdict(list)\n",
    "for id_ in tqdm(id2product.keys(), total=len(id2product)):\n",
    "    w2v_sim = id_word2vec.wv.most_similar(id_)\n",
    "    w2v_sim = [id2product[x[0]] for x in w2v_sim]\n",
    "    w2v_map[id2product[id_]] = w2v_sim"
   ]
  },
  {
   "cell_type": "code",
   "execution_count": 25,
   "metadata": {},
   "outputs": [
    {
     "data": {
      "text/plain": [
       "[(14187, 0.9074800610542297),\n",
       " (76394, 0.8913290500640869),\n",
       " (321322, 0.8852083086967468),\n",
       " (219852, 0.8766466975212097),\n",
       " (124125, 0.87541264295578),\n",
       " (339784, 0.8633560538291931),\n",
       " (422227, 0.8549420833587646),\n",
       " (237369, 0.8510041236877441),\n",
       " (253670, 0.8489969372749329),\n",
       " (479627, 0.8334695100784302)]"
      ]
     },
     "execution_count": 25,
     "metadata": {},
     "output_type": "execute_result"
    }
   ],
   "source": [
    "id_word2vec.wv.most_similar(product2id['B09M7GY217'])"
   ]
  },
  {
   "attachments": {},
   "cell_type": "markdown",
   "metadata": {},
   "source": [
    "训练集本地验证结果"
   ]
  },
  {
   "cell_type": "code",
   "execution_count": 31,
   "metadata": {},
   "outputs": [],
   "source": [
    "next_item_dict = pickle.load(open('data/next_item_dict_new.pkl', 'rb'))\n",
    "next_item_map = pickle.load(open('data/next_item_map_new.pkl', 'rb'))\n",
    "top200 = pickle.load(open('data/top200_new.pkl', 'rb'))\n",
    "wordvec_dict = pickle.load(open('data/word2vec_map.pkl', 'rb'))\n",
    "wordvec_dict20 = pickle.load(open('data/word2vec_map_top20.pkl', 'rb'))"
   ]
  },
  {
   "cell_type": "code",
   "execution_count": 32,
   "metadata": {},
   "outputs": [],
   "source": [
    "# next_item_dict = pickle.load(open('data/next_item_dict.pkl', 'rb'))\n",
    "# next_item_map = pickle.load(open('data/next_item_map.pkl', 'rb'))\n",
    "# top200 = pickle.load(open('data/top200.pkl', 'rb'))\n",
    "# wordvec_dict = pickle.load(open('data/word2vec_map.pkl', 'rb'))\n",
    "# wordvec_dict20 = pickle.load(open('data/word2vec_map_top20.pkl', 'rb'))"
   ]
  },
  {
   "cell_type": "code",
   "execution_count": 33,
   "metadata": {},
   "outputs": [
    {
     "data": {
      "text/html": [
       "<div>\n",
       "<style scoped>\n",
       "    .dataframe tbody tr th:only-of-type {\n",
       "        vertical-align: middle;\n",
       "    }\n",
       "\n",
       "    .dataframe tbody tr th {\n",
       "        vertical-align: top;\n",
       "    }\n",
       "\n",
       "    .dataframe thead th {\n",
       "        text-align: right;\n",
       "    }\n",
       "</style>\n",
       "<table border=\"1\" class=\"dataframe\">\n",
       "  <thead>\n",
       "    <tr style=\"text-align: right;\">\n",
       "      <th></th>\n",
       "      <th>prev_items</th>\n",
       "      <th>next_item</th>\n",
       "      <th>locale</th>\n",
       "      <th>last_item</th>\n",
       "      <th>w2v_next_item_prediction</th>\n",
       "    </tr>\n",
       "  </thead>\n",
       "  <tbody>\n",
       "    <tr>\n",
       "      <th>0</th>\n",
       "      <td>[B09W9FND7K, B09JSPLN1M]</td>\n",
       "      <td>B09M7GY217</td>\n",
       "      <td>DE</td>\n",
       "      <td>B09JSPLN1M</td>\n",
       "      <td>[B09W9FND7K, B0B467Q3H5, B09Z2KRNB9, B09Z2M57B...</td>\n",
       "    </tr>\n",
       "    <tr>\n",
       "      <th>1</th>\n",
       "      <td>[B076THCGSG, B007MO8IME, B08MF65MLV, B001B4TKA0]</td>\n",
       "      <td>B001B4THSA</td>\n",
       "      <td>DE</td>\n",
       "      <td>B001B4TKA0</td>\n",
       "      <td>[B001B4THSA, B09HJYXGGW, B0B2PFLBND, B0B2NLK26...</td>\n",
       "    </tr>\n",
       "    <tr>\n",
       "      <th>2</th>\n",
       "      <td>[B0B1LGXWDS, B00AZYORS2, B0B1LGXWDS, B00AZYORS...</td>\n",
       "      <td>B0767DTG2Q</td>\n",
       "      <td>DE</td>\n",
       "      <td>B00AZYORS2</td>\n",
       "      <td>[B0B1LGXWDS, B004N9BSQE, B077GYT9ZL, B073WWMCD...</td>\n",
       "    </tr>\n",
       "    <tr>\n",
       "      <th>3</th>\n",
       "      <td>[B09XMTWDVT, B0B4MZZ8MB, B0B7HZ2GWX, B09XMTWDV...</td>\n",
       "      <td>B0B4R9NN4B</td>\n",
       "      <td>DE</td>\n",
       "      <td>B0B71CHT1L</td>\n",
       "      <td>[B09VPPDP21, B0B8HF3XG9, B0BBV7NQNC, B0B1ZMYN2...</td>\n",
       "    </tr>\n",
       "    <tr>\n",
       "      <th>4</th>\n",
       "      <td>[B09Y5CSL3T, B09Y5DPTXN, B09FKD61R8]</td>\n",
       "      <td>B0BGVBKWGZ</td>\n",
       "      <td>DE</td>\n",
       "      <td>B09FKD61R8</td>\n",
       "      <td>[B09FKF5W9Q, B075MW26F5, B07JK8JVR9, B09MRV2CD...</td>\n",
       "    </tr>\n",
       "  </tbody>\n",
       "</table>\n",
       "</div>"
      ],
      "text/plain": [
       "                                          prev_items   next_item locale  \\\n",
       "0                           [B09W9FND7K, B09JSPLN1M]  B09M7GY217     DE   \n",
       "1   [B076THCGSG, B007MO8IME, B08MF65MLV, B001B4TKA0]  B001B4THSA     DE   \n",
       "2  [B0B1LGXWDS, B00AZYORS2, B0B1LGXWDS, B00AZYORS...  B0767DTG2Q     DE   \n",
       "3  [B09XMTWDVT, B0B4MZZ8MB, B0B7HZ2GWX, B09XMTWDV...  B0B4R9NN4B     DE   \n",
       "4               [B09Y5CSL3T, B09Y5DPTXN, B09FKD61R8]  B0BGVBKWGZ     DE   \n",
       "\n",
       "    last_item                           w2v_next_item_prediction  \n",
       "0  B09JSPLN1M  [B09W9FND7K, B0B467Q3H5, B09Z2KRNB9, B09Z2M57B...  \n",
       "1  B001B4TKA0  [B001B4THSA, B09HJYXGGW, B0B2PFLBND, B0B2NLK26...  \n",
       "2  B00AZYORS2  [B0B1LGXWDS, B004N9BSQE, B077GYT9ZL, B073WWMCD...  \n",
       "3  B0B71CHT1L  [B09VPPDP21, B0B8HF3XG9, B0BBV7NQNC, B0B1ZMYN2...  \n",
       "4  B09FKD61R8  [B09FKF5W9Q, B075MW26F5, B07JK8JVR9, B09MRV2CD...  "
      ]
     },
     "execution_count": 33,
     "metadata": {},
     "output_type": "execute_result"
    }
   ],
   "source": [
    "df_train['w2v_next_item_prediction'] = df_train['last_item'].map(wordvec_dict20)\n",
    "df_train.head()"
   ]
  },
  {
   "cell_type": "code",
   "execution_count": 34,
   "metadata": {},
   "outputs": [
    {
     "data": {
      "text/html": [
       "<div>\n",
       "<style scoped>\n",
       "    .dataframe tbody tr th:only-of-type {\n",
       "        vertical-align: middle;\n",
       "    }\n",
       "\n",
       "    .dataframe tbody tr th {\n",
       "        vertical-align: top;\n",
       "    }\n",
       "\n",
       "    .dataframe thead th {\n",
       "        text-align: right;\n",
       "    }\n",
       "</style>\n",
       "<table border=\"1\" class=\"dataframe\">\n",
       "  <thead>\n",
       "    <tr style=\"text-align: right;\">\n",
       "      <th></th>\n",
       "      <th>prev_items</th>\n",
       "      <th>next_item</th>\n",
       "      <th>locale</th>\n",
       "      <th>last_item</th>\n",
       "      <th>w2v_next_item_prediction</th>\n",
       "      <th>next_item_prediction</th>\n",
       "    </tr>\n",
       "  </thead>\n",
       "  <tbody>\n",
       "    <tr>\n",
       "      <th>0</th>\n",
       "      <td>[B09W9FND7K, B09JSPLN1M]</td>\n",
       "      <td>B09M7GY217</td>\n",
       "      <td>DE</td>\n",
       "      <td>B09JSPLN1M</td>\n",
       "      <td>[B09W9FND7K, B0B467Q3H5, B09Z2KRNB9, B09Z2M57B...</td>\n",
       "      <td>[B09W9FND7K, B09M7GY217, B09YS6S48R, B07KDC7PJ...</td>\n",
       "    </tr>\n",
       "    <tr>\n",
       "      <th>1</th>\n",
       "      <td>[B076THCGSG, B007MO8IME, B08MF65MLV, B001B4TKA0]</td>\n",
       "      <td>B001B4THSA</td>\n",
       "      <td>DE</td>\n",
       "      <td>B001B4TKA0</td>\n",
       "      <td>[B001B4THSA, B09HJYXGGW, B0B2PFLBND, B0B2NLK26...</td>\n",
       "      <td>[B001B4THSA, B0001NPYZ2]</td>\n",
       "    </tr>\n",
       "    <tr>\n",
       "      <th>2</th>\n",
       "      <td>[B0B1LGXWDS, B00AZYORS2, B0B1LGXWDS, B00AZYORS...</td>\n",
       "      <td>B0767DTG2Q</td>\n",
       "      <td>DE</td>\n",
       "      <td>B00AZYORS2</td>\n",
       "      <td>[B0B1LGXWDS, B004N9BSQE, B077GYT9ZL, B073WWMCD...</td>\n",
       "      <td>[B0B1LGXWDS, B0767DTG2Q, B073WWMCDB, B07RB1VFP...</td>\n",
       "    </tr>\n",
       "    <tr>\n",
       "      <th>3</th>\n",
       "      <td>[B09XMTWDVT, B0B4MZZ8MB, B0B7HZ2GWX, B09XMTWDV...</td>\n",
       "      <td>B0B4R9NN4B</td>\n",
       "      <td>DE</td>\n",
       "      <td>B0B71CHT1L</td>\n",
       "      <td>[B09VPPDP21, B0B8HF3XG9, B0BBV7NQNC, B0B1ZMYN2...</td>\n",
       "      <td>[B0B71GSJ2R, B0B71KXCSB, B09XMTWDVT, B0B71JHMT...</td>\n",
       "    </tr>\n",
       "    <tr>\n",
       "      <th>4</th>\n",
       "      <td>[B09Y5CSL3T, B09Y5DPTXN, B09FKD61R8]</td>\n",
       "      <td>B0BGVBKWGZ</td>\n",
       "      <td>DE</td>\n",
       "      <td>B09FKD61R8</td>\n",
       "      <td>[B09FKF5W9Q, B075MW26F5, B07JK8JVR9, B09MRV2CD...</td>\n",
       "      <td>[B0BGVBKWGZ, B09MRVWQ3B, B09FKDPY2S, B07GZC7JYG]</td>\n",
       "    </tr>\n",
       "  </tbody>\n",
       "</table>\n",
       "</div>"
      ],
      "text/plain": [
       "                                          prev_items   next_item locale  \\\n",
       "0                           [B09W9FND7K, B09JSPLN1M]  B09M7GY217     DE   \n",
       "1   [B076THCGSG, B007MO8IME, B08MF65MLV, B001B4TKA0]  B001B4THSA     DE   \n",
       "2  [B0B1LGXWDS, B00AZYORS2, B0B1LGXWDS, B00AZYORS...  B0767DTG2Q     DE   \n",
       "3  [B09XMTWDVT, B0B4MZZ8MB, B0B7HZ2GWX, B09XMTWDV...  B0B4R9NN4B     DE   \n",
       "4               [B09Y5CSL3T, B09Y5DPTXN, B09FKD61R8]  B0BGVBKWGZ     DE   \n",
       "\n",
       "    last_item                           w2v_next_item_prediction  \\\n",
       "0  B09JSPLN1M  [B09W9FND7K, B0B467Q3H5, B09Z2KRNB9, B09Z2M57B...   \n",
       "1  B001B4TKA0  [B001B4THSA, B09HJYXGGW, B0B2PFLBND, B0B2NLK26...   \n",
       "2  B00AZYORS2  [B0B1LGXWDS, B004N9BSQE, B077GYT9ZL, B073WWMCD...   \n",
       "3  B0B71CHT1L  [B09VPPDP21, B0B8HF3XG9, B0BBV7NQNC, B0B1ZMYN2...   \n",
       "4  B09FKD61R8  [B09FKF5W9Q, B075MW26F5, B07JK8JVR9, B09MRV2CD...   \n",
       "\n",
       "                                next_item_prediction  \n",
       "0  [B09W9FND7K, B09M7GY217, B09YS6S48R, B07KDC7PJ...  \n",
       "1                           [B001B4THSA, B0001NPYZ2]  \n",
       "2  [B0B1LGXWDS, B0767DTG2Q, B073WWMCDB, B07RB1VFP...  \n",
       "3  [B0B71GSJ2R, B0B71KXCSB, B09XMTWDVT, B0B71JHMT...  \n",
       "4   [B0BGVBKWGZ, B09MRVWQ3B, B09FKDPY2S, B07GZC7JYG]  "
      ]
     },
     "execution_count": 34,
     "metadata": {},
     "output_type": "execute_result"
    }
   ],
   "source": [
    "df_train['next_item_prediction'] = df_train['last_item'].map(next_item_map)\n",
    "df_train.head()"
   ]
  },
  {
   "cell_type": "code",
   "execution_count": 35,
   "metadata": {},
   "outputs": [],
   "source": [
    "# TODO: 不一定历史prev_items中的就不会买了，可以去掉限制试试！"
   ]
  },
  {
   "cell_type": "code",
   "execution_count": 18,
   "metadata": {},
   "outputs": [
    {
     "name": "stderr",
     "output_type": "stream",
     "text": [
      "100%|██████████| 3606249/3606249 [06:24<00:00, 9370.68it/s] \n"
     ]
    },
    {
     "data": {
      "text/plain": [
       "0.3937817792929854"
      ]
     },
     "execution_count": 18,
     "metadata": {},
     "output_type": "execute_result"
    }
   ],
   "source": [
    "# #one-hop召回\n",
    "# train_preds = []\n",
    "# mrr = []\n",
    "\n",
    "# for _, row in tqdm(df_train.iterrows(), total=len(df_train)):\n",
    "#     label = row['next_item']\n",
    "#     pred_orig = row['next_item_prediction']\n",
    "#     pred = pred_orig\n",
    "#     prev_items = row['prev_items']\n",
    "#     if type(pred) == float:  # pred=nan, 训练集的last_item在之间没有统计出来下一跳，此时用最热门代替\n",
    "#         pred = top200[:100]\n",
    "#     else:\n",
    "#         if len(pred_orig) < 100:  # 小于100，从最热门选\n",
    "#             for i in top200:\n",
    "#                 if i not in pred_orig and i not in prev_items:\n",
    "#                     pred.append(i)\n",
    "#                 if len(pred) >= 100:\n",
    "#                     break\n",
    "#         else:\n",
    "#             pred = pred[:100]\n",
    "#     try:\n",
    "#         pred_result = pred.index(label)\n",
    "#         mrr.append(1 / (pred_result + 1))\n",
    "#     except:\n",
    "#         mrr.append(0)\n",
    "#     train_preds.append(pred)\n",
    "\n",
    "# np.mean(mrr)"
   ]
  },
  {
   "cell_type": "code",
   "execution_count": 36,
   "metadata": {},
   "outputs": [],
   "source": [
    "topn = 20\n",
    "onehop = 10"
   ]
  },
  {
   "cell_type": "code",
   "execution_count": 76,
   "metadata": {},
   "outputs": [
    {
     "name": "stderr",
     "output_type": "stream",
     "text": [
      "100%|██████████| 3272716/3272716 [11:43<00:00, 4651.49it/s] \n"
     ]
    },
    {
     "data": {
      "text/plain": [
       "0.2511208321533756"
      ]
     },
     "execution_count": 76,
     "metadata": {},
     "output_type": "execute_result"
    }
   ],
   "source": [
    "# # Wordvec召回\n",
    "# train_preds = []\n",
    "# mrr = []\n",
    "\n",
    "# for _, row in tqdm(df_train.iterrows(), total=len(df_train)):\n",
    "#     label = row['next_item']\n",
    "#     w2v_sim = row['w2v_next_item_prediction'][:topn]\n",
    "#     pred = w2v_sim\n",
    "#     prev_items = row['prev_items']\n",
    "#     if len(pred) == 0:  # pred=[], 训练集的last_item在之间没有统计出来w2v，此时用最热门代替\n",
    "#         pred = top200[:100]\n",
    "#     else:\n",
    "#         if len(pred) < 100:  # 小于100，从最热门选\n",
    "#             for i in top200:\n",
    "#                 if i not in pred and i not in prev_items:\n",
    "#                     pred.append(i)\n",
    "#                 if len(pred) >= 100:\n",
    "#                     break\n",
    "#         else:\n",
    "#             pred = pred[:100]\n",
    "#     try:\n",
    "#         pred_result = pred.index(label)\n",
    "#         mrr.append(1 / (pred_result + 1))\n",
    "#     except:\n",
    "#         mrr.append(0)\n",
    "#     train_preds.append(pred)\n",
    "\n",
    "# np.mean(mrr)"
   ]
  },
  {
   "cell_type": "code",
   "execution_count": 37,
   "metadata": {},
   "outputs": [
    {
     "name": "stderr",
     "output_type": "stream",
     "text": [
      "100%|██████████| 3606249/3606249 [13:12<00:00, 4552.94it/s]\n"
     ]
    },
    {
     "data": {
      "text/plain": [
       "0.41253884716315303"
      ]
     },
     "execution_count": 37,
     "metadata": {},
     "output_type": "execute_result"
    }
   ],
   "source": [
    "#one-hop召回 + w2v召回\n",
    "train_preds = []\n",
    "mrr = []\n",
    "\n",
    "for _, row in tqdm(df_train.iterrows(), total=len(df_train)):\n",
    "    label = row['next_item']\n",
    "    w2v_sim = row['w2v_next_item_prediction'][:topn]\n",
    "    pred = row['next_item_prediction']\n",
    "    prev_items = row['prev_items']\n",
    "    if type(pred) == float:  # pred=nan, 训练集的last_item在之间没有统计出来下一跳，此时用最热门代替\n",
    "        if len(w2v_sim) == 0:  # w2v_sim=[], 训练集的last_item在之间没有统计出来w2v，此时用最热门代替\n",
    "            pred = top200[:100]\n",
    "        else:\n",
    "            pred = w2v_sim\n",
    "            if len(pred) < 100:  # 小于100，从最热门选\n",
    "                for i in top200:\n",
    "                    if i not in pred and i not in prev_items:\n",
    "                        pred.append(i)\n",
    "                    if len(pred) >= 100:\n",
    "                        break\n",
    "            else:\n",
    "                pred = pred[:100]\n",
    "    else:\n",
    "        pred = pred[:onehop]\n",
    "        if len(pred) < 100:  # 小于100，从w2v选\n",
    "            for i in w2v_sim:\n",
    "                if i not in pred and i not in prev_items:\n",
    "                    pred.append(i)\n",
    "                if len(pred) >= 100:\n",
    "                    break\n",
    "            if len(pred) < 100:  # 小于100，从top200选\n",
    "                for i in top200:\n",
    "                    if i not in pred and i not in prev_items:\n",
    "                        pred.append(i)\n",
    "                    if len(pred) >= 100:\n",
    "                        break\n",
    "        else:\n",
    "            pred = pred[:100]\n",
    "    try:\n",
    "        pred_result = pred.index(label)\n",
    "        mrr.append(1 / (pred_result + 1))\n",
    "    except:\n",
    "        mrr.append(0)\n",
    "    train_preds.append(pred)\n",
    "\n",
    "np.mean(mrr)"
   ]
  },
  {
   "cell_type": "code",
   "execution_count": 38,
   "metadata": {},
   "outputs": [
    {
     "data": {
      "text/plain": [
       "3606249"
      ]
     },
     "execution_count": 38,
     "metadata": {},
     "output_type": "execute_result"
    }
   ],
   "source": [
    "len(train_preds)"
   ]
  },
  {
   "cell_type": "code",
   "execution_count": 39,
   "metadata": {},
   "outputs": [],
   "source": [
    "pickle.dump(train_preds, open('./data/train_preds_all_onehop{}_w2v{}.pkl'.format(onehop, topn), 'wb'))"
   ]
  },
  {
   "cell_type": "code",
   "execution_count": 79,
   "metadata": {},
   "outputs": [],
   "source": [
    "# train_preds = pickle.load(open('./data/train_preds.pkl', 'rb'))"
   ]
  },
  {
   "attachments": {},
   "cell_type": "markdown",
   "metadata": {},
   "source": [
    "测试集预测结果"
   ]
  },
  {
   "cell_type": "code",
   "execution_count": 40,
   "metadata": {},
   "outputs": [
    {
     "data": {
      "text/html": [
       "<div>\n",
       "<style scoped>\n",
       "    .dataframe tbody tr th:only-of-type {\n",
       "        vertical-align: middle;\n",
       "    }\n",
       "\n",
       "    .dataframe tbody tr th {\n",
       "        vertical-align: top;\n",
       "    }\n",
       "\n",
       "    .dataframe thead th {\n",
       "        text-align: right;\n",
       "    }\n",
       "</style>\n",
       "<table border=\"1\" class=\"dataframe\">\n",
       "  <thead>\n",
       "    <tr style=\"text-align: right;\">\n",
       "      <th></th>\n",
       "      <th>prev_items</th>\n",
       "      <th>locale</th>\n",
       "      <th>last_item</th>\n",
       "      <th>next_item_prediction</th>\n",
       "    </tr>\n",
       "  </thead>\n",
       "  <tbody>\n",
       "    <tr>\n",
       "      <th>0</th>\n",
       "      <td>[B08V12CT4C, B08V1KXBQD, B01BVG1XJS, B09VC5PKN...</td>\n",
       "      <td>DE</td>\n",
       "      <td>B099NQFMG7</td>\n",
       "      <td>[B099NS1XPG, B08496TCCQ, B01BVG1XJS, B099NR3X6...</td>\n",
       "    </tr>\n",
       "    <tr>\n",
       "      <th>1</th>\n",
       "      <td>[B00R9R5ND6, B00R9RZ9ZS, B00R9RZ9ZS]</td>\n",
       "      <td>DE</td>\n",
       "      <td>B00R9RZ9ZS</td>\n",
       "      <td>[B004ZXMV4Q, B00R9R5ND6, B095TQTZXY, B086J6RTT...</td>\n",
       "    </tr>\n",
       "    <tr>\n",
       "      <th>2</th>\n",
       "      <td>[B07YSRXJD3, B07G7Q5N6G, B08C9Q7QVK, B07G7Q5N6G]</td>\n",
       "      <td>DE</td>\n",
       "      <td>B07G7Q5N6G</td>\n",
       "      <td>[B08C9Q7QVK, B07G7Q5N6G, B07YSRXJD3, B0B5QNFWJ...</td>\n",
       "    </tr>\n",
       "    <tr>\n",
       "      <th>3</th>\n",
       "      <td>[B08KQBYV43, 3955350843, 3955350843, 395535086...</td>\n",
       "      <td>DE</td>\n",
       "      <td>3955350843</td>\n",
       "      <td>[395535086X, 3955350843, B0829LZFT1, 377247695...</td>\n",
       "    </tr>\n",
       "    <tr>\n",
       "      <th>4</th>\n",
       "      <td>[B09FPTCWMC, B09FPTQP68, B08HMRY8NG, B08TBBQ4B...</td>\n",
       "      <td>DE</td>\n",
       "      <td>B09J945WQR</td>\n",
       "      <td>[B09J8V18FL, B09J8T6TTH, B09J8SKX9G, B09J8V9RQ...</td>\n",
       "    </tr>\n",
       "  </tbody>\n",
       "</table>\n",
       "</div>"
      ],
      "text/plain": [
       "                                          prev_items locale   last_item  \\\n",
       "0  [B08V12CT4C, B08V1KXBQD, B01BVG1XJS, B09VC5PKN...     DE  B099NQFMG7   \n",
       "1               [B00R9R5ND6, B00R9RZ9ZS, B00R9RZ9ZS]     DE  B00R9RZ9ZS   \n",
       "2   [B07YSRXJD3, B07G7Q5N6G, B08C9Q7QVK, B07G7Q5N6G]     DE  B07G7Q5N6G   \n",
       "3  [B08KQBYV43, 3955350843, 3955350843, 395535086...     DE  3955350843   \n",
       "4  [B09FPTCWMC, B09FPTQP68, B08HMRY8NG, B08TBBQ4B...     DE  B09J945WQR   \n",
       "\n",
       "                                next_item_prediction  \n",
       "0  [B099NS1XPG, B08496TCCQ, B01BVG1XJS, B099NR3X6...  \n",
       "1  [B004ZXMV4Q, B00R9R5ND6, B095TQTZXY, B086J6RTT...  \n",
       "2  [B08C9Q7QVK, B07G7Q5N6G, B07YSRXJD3, B0B5QNFWJ...  \n",
       "3  [395535086X, 3955350843, B0829LZFT1, 377247695...  \n",
       "4  [B09J8V18FL, B09J8T6TTH, B09J8SKX9G, B09J8V9RQ...  "
      ]
     },
     "execution_count": 40,
     "metadata": {},
     "output_type": "execute_result"
    }
   ],
   "source": [
    "df_test['next_item_prediction'] = df_test['last_item'].map(next_item_map)\n",
    "df_test.head()"
   ]
  },
  {
   "cell_type": "code",
   "execution_count": 41,
   "metadata": {},
   "outputs": [
    {
     "data": {
      "text/html": [
       "<div>\n",
       "<style scoped>\n",
       "    .dataframe tbody tr th:only-of-type {\n",
       "        vertical-align: middle;\n",
       "    }\n",
       "\n",
       "    .dataframe tbody tr th {\n",
       "        vertical-align: top;\n",
       "    }\n",
       "\n",
       "    .dataframe thead th {\n",
       "        text-align: right;\n",
       "    }\n",
       "</style>\n",
       "<table border=\"1\" class=\"dataframe\">\n",
       "  <thead>\n",
       "    <tr style=\"text-align: right;\">\n",
       "      <th></th>\n",
       "      <th>prev_items</th>\n",
       "      <th>locale</th>\n",
       "      <th>last_item</th>\n",
       "      <th>next_item_prediction</th>\n",
       "      <th>w2v_next_item_prediction</th>\n",
       "    </tr>\n",
       "  </thead>\n",
       "  <tbody>\n",
       "    <tr>\n",
       "      <th>0</th>\n",
       "      <td>[B08V12CT4C, B08V1KXBQD, B01BVG1XJS, B09VC5PKN...</td>\n",
       "      <td>DE</td>\n",
       "      <td>B099NQFMG7</td>\n",
       "      <td>[B099NS1XPG, B08496TCCQ, B01BVG1XJS, B099NR3X6...</td>\n",
       "      <td>[B0BGLLR6QK, B0BJ7B34VJ, B09R3W7VWG, B092VJX47...</td>\n",
       "    </tr>\n",
       "    <tr>\n",
       "      <th>1</th>\n",
       "      <td>[B00R9R5ND6, B00R9RZ9ZS, B00R9RZ9ZS]</td>\n",
       "      <td>DE</td>\n",
       "      <td>B00R9RZ9ZS</td>\n",
       "      <td>[B004ZXMV4Q, B00R9R5ND6, B095TQTZXY, B086J6RTT...</td>\n",
       "      <td>[B00R9R5ND6, B004ZXMV4Q, B094QTYN3Q, B08NJP33W...</td>\n",
       "    </tr>\n",
       "    <tr>\n",
       "      <th>2</th>\n",
       "      <td>[B07YSRXJD3, B07G7Q5N6G, B08C9Q7QVK, B07G7Q5N6G]</td>\n",
       "      <td>DE</td>\n",
       "      <td>B07G7Q5N6G</td>\n",
       "      <td>[B08C9Q7QVK, B07G7Q5N6G, B07YSRXJD3, B0B5QNFWJ...</td>\n",
       "      <td>[B08C9Q7QVK, B07J33B8TM, B08P5WRZH2, B08P5Y2WW...</td>\n",
       "    </tr>\n",
       "    <tr>\n",
       "      <th>3</th>\n",
       "      <td>[B08KQBYV43, 3955350843, 3955350843, 395535086...</td>\n",
       "      <td>DE</td>\n",
       "      <td>3955350843</td>\n",
       "      <td>[395535086X, 3955350843, B0829LZFT1, 377247695...</td>\n",
       "      <td>[B09HG18NCB, 3772476953, B09JR3CWVP, B08P8SJ6T...</td>\n",
       "    </tr>\n",
       "    <tr>\n",
       "      <th>4</th>\n",
       "      <td>[B09FPTCWMC, B09FPTQP68, B08HMRY8NG, B08TBBQ4B...</td>\n",
       "      <td>DE</td>\n",
       "      <td>B09J945WQR</td>\n",
       "      <td>[B09J8V18FL, B09J8T6TTH, B09J8SKX9G, B09J8V9RQ...</td>\n",
       "      <td>[B09J8SPMNB, B09J8WW141, B09J8TTZ68, B09J8TWRV...</td>\n",
       "    </tr>\n",
       "  </tbody>\n",
       "</table>\n",
       "</div>"
      ],
      "text/plain": [
       "                                          prev_items locale   last_item  \\\n",
       "0  [B08V12CT4C, B08V1KXBQD, B01BVG1XJS, B09VC5PKN...     DE  B099NQFMG7   \n",
       "1               [B00R9R5ND6, B00R9RZ9ZS, B00R9RZ9ZS]     DE  B00R9RZ9ZS   \n",
       "2   [B07YSRXJD3, B07G7Q5N6G, B08C9Q7QVK, B07G7Q5N6G]     DE  B07G7Q5N6G   \n",
       "3  [B08KQBYV43, 3955350843, 3955350843, 395535086...     DE  3955350843   \n",
       "4  [B09FPTCWMC, B09FPTQP68, B08HMRY8NG, B08TBBQ4B...     DE  B09J945WQR   \n",
       "\n",
       "                                next_item_prediction  \\\n",
       "0  [B099NS1XPG, B08496TCCQ, B01BVG1XJS, B099NR3X6...   \n",
       "1  [B004ZXMV4Q, B00R9R5ND6, B095TQTZXY, B086J6RTT...   \n",
       "2  [B08C9Q7QVK, B07G7Q5N6G, B07YSRXJD3, B0B5QNFWJ...   \n",
       "3  [395535086X, 3955350843, B0829LZFT1, 377247695...   \n",
       "4  [B09J8V18FL, B09J8T6TTH, B09J8SKX9G, B09J8V9RQ...   \n",
       "\n",
       "                            w2v_next_item_prediction  \n",
       "0  [B0BGLLR6QK, B0BJ7B34VJ, B09R3W7VWG, B092VJX47...  \n",
       "1  [B00R9R5ND6, B004ZXMV4Q, B094QTYN3Q, B08NJP33W...  \n",
       "2  [B08C9Q7QVK, B07J33B8TM, B08P5WRZH2, B08P5Y2WW...  \n",
       "3  [B09HG18NCB, 3772476953, B09JR3CWVP, B08P8SJ6T...  \n",
       "4  [B09J8SPMNB, B09J8WW141, B09J8TTZ68, B09J8TWRV...  "
      ]
     },
     "execution_count": 41,
     "metadata": {},
     "output_type": "execute_result"
    }
   ],
   "source": [
    "df_test['w2v_next_item_prediction'] = df_test['last_item'].map(wordvec_dict20)\n",
    "df_test.head()"
   ]
  },
  {
   "cell_type": "code",
   "execution_count": 191,
   "metadata": {},
   "outputs": [
    {
     "name": "stderr",
     "output_type": "stream",
     "text": [
      "100%|██████████| 316971/316971 [00:29<00:00, 10848.53it/s]\n"
     ]
    }
   ],
   "source": [
    "# test_preds = []\n",
    "\n",
    "# for _, row in tqdm(df_test.iterrows(), total=len(df_test)):\n",
    "#     pred_orig = row['next_item_prediction']\n",
    "#     pred = pred_orig\n",
    "#     prev_items = row['prev_items']\n",
    "#     if type(pred) == float:  # pred=nan, 测试集的last_item在之间没有统计出来下一跳，此时用最热门代替\n",
    "#         pred = top200[:100]\n",
    "#     else:\n",
    "#         if len(pred_orig) < 100:  # 小于100，从最热门选\n",
    "#             for i in top200:\n",
    "#                 if i not in pred_orig and i not in prev_items:\n",
    "#                     pred.append(i)\n",
    "#                 if len(pred) >= 100:\n",
    "#                     break\n",
    "#         else:\n",
    "#             pred = pred[:100]\n",
    "#     test_preds.append(pred)"
   ]
  },
  {
   "cell_type": "code",
   "execution_count": 134,
   "metadata": {},
   "outputs": [],
   "source": [
    "# # Wordvec召回\n",
    "# test_preds = []\n",
    "\n",
    "# for _, row in tqdm(df_test.iterrows(), total=len(df_test)):\n",
    "#     w2v_sim = row['w2v_next_item_prediction'][:topn]\n",
    "#     pred = w2v_sim\n",
    "#     prev_items = row['prev_items']\n",
    "#     if len(pred) == 0:  # pred=nan, 测试集的last_item在之间没有统计出来下一跳，此时用最热门代替\n",
    "#         pred = top200[:100]\n",
    "#     else:\n",
    "#         if len(pred) < 100:  # 小于100，从最热门选\n",
    "#             for i in top200:\n",
    "#                 if i not in pred and i not in prev_items:\n",
    "#                     pred.append(i)\n",
    "#                 if len(pred) >= 100:\n",
    "#                     break\n",
    "#         else:\n",
    "#             pred = pred[:100]\n",
    "#     test_preds.append(pred)"
   ]
  },
  {
   "cell_type": "code",
   "execution_count": 42,
   "metadata": {},
   "outputs": [
    {
     "name": "stderr",
     "output_type": "stream",
     "text": [
      "100%|██████████| 316971/316971 [01:06<00:00, 4772.64it/s]\n"
     ]
    }
   ],
   "source": [
    "test_preds = []\n",
    "\n",
    "for _, row in tqdm(df_test.iterrows(), total=len(df_test)):\n",
    "    w2v_sim = row['w2v_next_item_prediction'][:topn]\n",
    "    pred = row['next_item_prediction']\n",
    "    prev_items = row['prev_items']\n",
    "    if type(pred) == float:  # pred=nan, 训练集的last_item在之间没有统计出来下一跳，此时用最热门代替\n",
    "        if len(w2v_sim) == 0:  # w2v_sim=[], 训练集的last_item在之间没有统计出来w2v，此时用最热门代替\n",
    "            pred = top200[:100]\n",
    "        else:\n",
    "            pred = w2v_sim\n",
    "            if len(pred) < 100:  # 小于100，从最热门选\n",
    "                for i in top200:\n",
    "                    if i not in pred and i not in prev_items:\n",
    "                        pred.append(i)\n",
    "                    if len(pred) >= 100:\n",
    "                        break\n",
    "            else:\n",
    "                pred = pred[:100]\n",
    "    else:\n",
    "        pred = pred[:onehop]\n",
    "        if len(pred) < 100:  # 小于100，从w2v选\n",
    "            for i in w2v_sim:\n",
    "                if i not in pred and i not in prev_items:\n",
    "                    pred.append(i)\n",
    "                if len(pred) >= 100:\n",
    "                    break\n",
    "            if len(pred) < 100:  # 小于100，从top200选\n",
    "                for i in top200:\n",
    "                    if i not in pred and i not in prev_items:\n",
    "                        pred.append(i)\n",
    "                    if len(pred) >= 100:\n",
    "                        break\n",
    "        else:\n",
    "            pred = pred[:100]\n",
    "    test_preds.append(pred)"
   ]
  },
  {
   "cell_type": "code",
   "execution_count": 43,
   "metadata": {},
   "outputs": [
    {
     "data": {
      "text/plain": [
       "316971"
      ]
     },
     "execution_count": 43,
     "metadata": {},
     "output_type": "execute_result"
    }
   ],
   "source": [
    "len(test_preds)"
   ]
  },
  {
   "cell_type": "code",
   "execution_count": 44,
   "metadata": {},
   "outputs": [],
   "source": [
    "pickle.dump(test_preds, open('./data/test_preds_all_onehop{}_w2v{}.pkl'.format(onehop, topn), 'wb'))"
   ]
  },
  {
   "cell_type": "code",
   "execution_count": 138,
   "metadata": {},
   "outputs": [],
   "source": [
    "# test_preds = pickle.load(open('./data/test_preds.pkl', 'rb'))"
   ]
  },
  {
   "attachments": {},
   "cell_type": "markdown",
   "metadata": {},
   "source": [
    "保存结果"
   ]
  },
  {
   "cell_type": "code",
   "execution_count": 45,
   "metadata": {},
   "outputs": [
    {
     "data": {
      "text/plain": [
       "count    316971.0\n",
       "mean        100.0\n",
       "std           0.0\n",
       "min         100.0\n",
       "25%         100.0\n",
       "50%         100.0\n",
       "75%         100.0\n",
       "max         100.0\n",
       "Name: next_item_prediction, dtype: float64"
      ]
     },
     "execution_count": 45,
     "metadata": {},
     "output_type": "execute_result"
    }
   ],
   "source": [
    "df_test['next_item_prediction'] = test_preds\n",
    "df_test['next_item_prediction'].apply(len).describe()"
   ]
  },
  {
   "cell_type": "code",
   "execution_count": 46,
   "metadata": {},
   "outputs": [],
   "source": [
    "# df_test[['locale', 'next_item_prediction']].to_parquet('output/submission_task1_rule_onehop_zhaohui_new.parquet', engine='pyarrow')"
   ]
  },
  {
   "cell_type": "code",
   "execution_count": 47,
   "metadata": {},
   "outputs": [],
   "source": [
    "df_test[['locale', 'next_item_prediction']].to_parquet('output/submission_task1_rule_onehop{}_w2v{}_zhaohui.parquet'.format(onehop, topn), engine='pyarrow')"
   ]
  },
  {
   "cell_type": "code",
   "execution_count": 105,
   "metadata": {},
   "outputs": [],
   "source": [
    "# df_test[['locale', 'next_item_prediction']].to_parquet('output/submission_task1_rule_next_one_zhaohui.parquet', engine='pyarrow')"
   ]
  },
  {
   "attachments": {},
   "cell_type": "markdown",
   "metadata": {},
   "source": [
    "# 数据处理"
   ]
  },
  {
   "attachments": {},
   "cell_type": "markdown",
   "metadata": {},
   "source": [
    "产品表处理"
   ]
  },
  {
   "cell_type": "code",
   "execution_count": 21,
   "metadata": {},
   "outputs": [],
   "source": [
    "# TODO: 部分ID不在产品表里？？没有！"
   ]
  },
  {
   "cell_type": "code",
   "execution_count": 17,
   "metadata": {},
   "outputs": [
    {
     "ename": "KeyError",
     "evalue": "'Requested level (id) does not match index name (None)'",
     "output_type": "error",
     "traceback": [
      "\u001b[0;31m---------------------------------------------------------------------------\u001b[0m",
      "\u001b[0;31mKeyError\u001b[0m                                  Traceback (most recent call last)",
      "\u001b[0;32m<ipython-input-17-17e6a108e4fe>\u001b[0m in \u001b[0;36m<module>\u001b[0;34m\u001b[0m\n\u001b[0;32m----> 1\u001b[0;31m \u001b[0mproducts_ids\u001b[0m \u001b[0;34m=\u001b[0m \u001b[0mset\u001b[0m\u001b[0;34m(\u001b[0m\u001b[0mproducts\u001b[0m\u001b[0;34m.\u001b[0m\u001b[0mindex\u001b[0m\u001b[0;34m.\u001b[0m\u001b[0mget_level_values\u001b[0m\u001b[0;34m(\u001b[0m\u001b[0;34m'id'\u001b[0m\u001b[0;34m)\u001b[0m\u001b[0;34m)\u001b[0m\u001b[0;34m\u001b[0m\u001b[0;34m\u001b[0m\u001b[0m\n\u001b[0m",
      "\u001b[0;32m~/anaconda3/envs/libcityng/lib/python3.9/site-packages/pandas/core/indexes/base.py\u001b[0m in \u001b[0;36m_get_level_values\u001b[0;34m(self, level)\u001b[0m\n\u001b[1;32m   1471\u001b[0m         \u001b[0mIndex\u001b[0m\u001b[0;34m(\u001b[0m\u001b[0;34m[\u001b[0m\u001b[0;34m'a'\u001b[0m\u001b[0;34m,\u001b[0m \u001b[0;34m'b'\u001b[0m\u001b[0;34m,\u001b[0m \u001b[0;34m'c'\u001b[0m\u001b[0;34m]\u001b[0m\u001b[0;34m,\u001b[0m \u001b[0mdtype\u001b[0m\u001b[0;34m=\u001b[0m\u001b[0;34m'object'\u001b[0m\u001b[0;34m)\u001b[0m\u001b[0;34m\u001b[0m\u001b[0;34m\u001b[0m\u001b[0m\n\u001b[1;32m   1472\u001b[0m         \"\"\"\n\u001b[0;32m-> 1473\u001b[0;31m         \u001b[0mself\u001b[0m\u001b[0;34m.\u001b[0m\u001b[0m_validate_index_level\u001b[0m\u001b[0;34m(\u001b[0m\u001b[0mlevel\u001b[0m\u001b[0;34m)\u001b[0m\u001b[0;34m\u001b[0m\u001b[0;34m\u001b[0m\u001b[0m\n\u001b[0m\u001b[1;32m   1474\u001b[0m         \u001b[0;32mreturn\u001b[0m \u001b[0mself\u001b[0m\u001b[0;34m\u001b[0m\u001b[0;34m\u001b[0m\u001b[0m\n\u001b[1;32m   1475\u001b[0m \u001b[0;34m\u001b[0m\u001b[0m\n",
      "\u001b[0;32m~/anaconda3/envs/libcityng/lib/python3.9/site-packages/pandas/core/indexes/base.py\u001b[0m in \u001b[0;36m_validate_index_level\u001b[0;34m(self, level)\u001b[0m\n\u001b[1;32m   1408\u001b[0m                 )\n\u001b[1;32m   1409\u001b[0m         \u001b[0;32melif\u001b[0m \u001b[0mlevel\u001b[0m \u001b[0;34m!=\u001b[0m \u001b[0mself\u001b[0m\u001b[0;34m.\u001b[0m\u001b[0mname\u001b[0m\u001b[0;34m:\u001b[0m\u001b[0;34m\u001b[0m\u001b[0;34m\u001b[0m\u001b[0m\n\u001b[0;32m-> 1410\u001b[0;31m             raise KeyError(\n\u001b[0m\u001b[1;32m   1411\u001b[0m                 \u001b[0;34mf\"Requested level ({level}) does not match index name ({self.name})\"\u001b[0m\u001b[0;34m\u001b[0m\u001b[0;34m\u001b[0m\u001b[0m\n\u001b[1;32m   1412\u001b[0m             )\n",
      "\u001b[0;31mKeyError\u001b[0m: 'Requested level (id) does not match index name (None)'"
     ]
    }
   ],
   "source": [
    "products_ids = set(products.index.get_level_values('id'))"
   ]
  },
  {
   "cell_type": "code",
   "execution_count": null,
   "metadata": {},
   "outputs": [
    {
     "data": {
      "text/plain": [
       "1341314"
      ]
     },
     "execution_count": 137,
     "metadata": {},
     "output_type": "execute_result"
    }
   ],
   "source": [
    "len(products_ids)"
   ]
  },
  {
   "cell_type": "code",
   "execution_count": 135,
   "metadata": {},
   "outputs": [],
   "source": [
    "total_ids = set(train_ids) | set(test_ids)"
   ]
  },
  {
   "cell_type": "code",
   "execution_count": 136,
   "metadata": {},
   "outputs": [
    {
     "data": {
      "text/plain": [
       "1338847"
      ]
     },
     "execution_count": 136,
     "metadata": {},
     "output_type": "execute_result"
    }
   ],
   "source": [
    "len(total_ids)"
   ]
  },
  {
   "cell_type": "code",
   "execution_count": 20,
   "metadata": {},
   "outputs": [],
   "source": [
    "products = products[products['locale'].isin(['DE', 'JP', 'UK'])]"
   ]
  },
  {
   "cell_type": "code",
   "execution_count": 21,
   "metadata": {},
   "outputs": [],
   "source": [
    "products = products.set_index(['id', 'locale'])"
   ]
  },
  {
   "cell_type": "code",
   "execution_count": 22,
   "metadata": {},
   "outputs": [
    {
     "data": {
      "text/html": [
       "<div>\n",
       "<style scoped>\n",
       "    .dataframe tbody tr th:only-of-type {\n",
       "        vertical-align: middle;\n",
       "    }\n",
       "\n",
       "    .dataframe tbody tr th {\n",
       "        vertical-align: top;\n",
       "    }\n",
       "\n",
       "    .dataframe thead th {\n",
       "        text-align: right;\n",
       "    }\n",
       "</style>\n",
       "<table border=\"1\" class=\"dataframe\">\n",
       "  <thead>\n",
       "    <tr style=\"text-align: right;\">\n",
       "      <th></th>\n",
       "      <th></th>\n",
       "      <th>title</th>\n",
       "      <th>price</th>\n",
       "      <th>brand</th>\n",
       "      <th>color</th>\n",
       "      <th>size</th>\n",
       "      <th>model</th>\n",
       "      <th>material</th>\n",
       "      <th>author</th>\n",
       "      <th>desc</th>\n",
       "    </tr>\n",
       "    <tr>\n",
       "      <th>id</th>\n",
       "      <th>locale</th>\n",
       "      <th></th>\n",
       "      <th></th>\n",
       "      <th></th>\n",
       "      <th></th>\n",
       "      <th></th>\n",
       "      <th></th>\n",
       "      <th></th>\n",
       "      <th></th>\n",
       "      <th></th>\n",
       "    </tr>\n",
       "  </thead>\n",
       "  <tbody>\n",
       "    <tr>\n",
       "      <th>B005ZSSN10</th>\n",
       "      <th>DE</th>\n",
       "      <td>RED DRAGON Amberjack 3 - Steel Tip 22 Gramm Wo...</td>\n",
       "      <td>30.95</td>\n",
       "      <td>RED DRAGON</td>\n",
       "      <td>NaN</td>\n",
       "      <td>NaN</td>\n",
       "      <td>RDD0089</td>\n",
       "      <td>NaN</td>\n",
       "      <td>NaN</td>\n",
       "      <td>Amberjacks Steel Dartpfeile sind verfügbar in ...</td>\n",
       "    </tr>\n",
       "    <tr>\n",
       "      <th>B08PRYN6LD</th>\n",
       "      <th>DE</th>\n",
       "      <td>Simply Keto Lower Carb* Schokodrops ohne Zucke...</td>\n",
       "      <td>17.90</td>\n",
       "      <td>Simply Keto</td>\n",
       "      <td>NaN</td>\n",
       "      <td>750 g (1er Pack)</td>\n",
       "      <td>NaN</td>\n",
       "      <td>NaN</td>\n",
       "      <td>NaN</td>\n",
       "      <td>🌱 NATÜRLICHE SÜSSE DURCH ERYTHRIT - Wir stelle...</td>\n",
       "    </tr>\n",
       "    <tr>\n",
       "      <th>B09MBZJ48V</th>\n",
       "      <th>DE</th>\n",
       "      <td>Sennheiser 508377 PC 5.2 Chat, Stilvolles Mult...</td>\n",
       "      <td>68.89</td>\n",
       "      <td>Sennheiser</td>\n",
       "      <td>Multi-Colour</td>\n",
       "      <td>One size</td>\n",
       "      <td>508377</td>\n",
       "      <td>Kunstleder</td>\n",
       "      <td>NaN</td>\n",
       "      <td>3.5 MM BUCHSE - Kann problemlos an Geräte mit ...</td>\n",
       "    </tr>\n",
       "    <tr>\n",
       "      <th>B08ZN6F26S</th>\n",
       "      <th>DE</th>\n",
       "      <td>AmyBenton Auto ab 1 2 3 ahre - Baby Aufziehbar...</td>\n",
       "      <td>18.99</td>\n",
       "      <td>Amy &amp; Benton</td>\n",
       "      <td>Animal Car</td>\n",
       "      <td>NaN</td>\n",
       "      <td>2008B</td>\n",
       "      <td>aufziehauto 1 jahr</td>\n",
       "      <td>NaN</td>\n",
       "      <td>【Auto aufziehbar】: Drücken Sie einfach leicht ...</td>\n",
       "    </tr>\n",
       "    <tr>\n",
       "      <th>B094DGRV7D</th>\n",
       "      <th>DE</th>\n",
       "      <td>PLAYMOBIL - 70522 - Cavaliere mit grauem Pony</td>\n",
       "      <td>7.17</td>\n",
       "      <td>PLAYMOBIL</td>\n",
       "      <td>Nicht Zutreffend.</td>\n",
       "      <td>OneSize</td>\n",
       "      <td>70522</td>\n",
       "      <td>Polypropylen</td>\n",
       "      <td>NaN</td>\n",
       "      <td>Inhalt: 1 Stück</td>\n",
       "    </tr>\n",
       "  </tbody>\n",
       "</table>\n",
       "</div>"
      ],
      "text/plain": [
       "                                                               title  price  \\\n",
       "id         locale                                                             \n",
       "B005ZSSN10 DE      RED DRAGON Amberjack 3 - Steel Tip 22 Gramm Wo...  30.95   \n",
       "B08PRYN6LD DE      Simply Keto Lower Carb* Schokodrops ohne Zucke...  17.90   \n",
       "B09MBZJ48V DE      Sennheiser 508377 PC 5.2 Chat, Stilvolles Mult...  68.89   \n",
       "B08ZN6F26S DE      AmyBenton Auto ab 1 2 3 ahre - Baby Aufziehbar...  18.99   \n",
       "B094DGRV7D DE          PLAYMOBIL - 70522 - Cavaliere mit grauem Pony   7.17   \n",
       "\n",
       "                          brand              color              size    model  \\\n",
       "id         locale                                                               \n",
       "B005ZSSN10 DE        RED DRAGON                NaN               NaN  RDD0089   \n",
       "B08PRYN6LD DE       Simply Keto                NaN  750 g (1er Pack)      NaN   \n",
       "B09MBZJ48V DE        Sennheiser       Multi-Colour          One size   508377   \n",
       "B08ZN6F26S DE      Amy & Benton         Animal Car               NaN    2008B   \n",
       "B094DGRV7D DE         PLAYMOBIL  Nicht Zutreffend.           OneSize    70522   \n",
       "\n",
       "                             material author  \\\n",
       "id         locale                              \n",
       "B005ZSSN10 DE                     NaN    NaN   \n",
       "B08PRYN6LD DE                     NaN    NaN   \n",
       "B09MBZJ48V DE              Kunstleder    NaN   \n",
       "B08ZN6F26S DE      aufziehauto 1 jahr    NaN   \n",
       "B094DGRV7D DE            Polypropylen    NaN   \n",
       "\n",
       "                                                                desc  \n",
       "id         locale                                                     \n",
       "B005ZSSN10 DE      Amberjacks Steel Dartpfeile sind verfügbar in ...  \n",
       "B08PRYN6LD DE      🌱 NATÜRLICHE SÜSSE DURCH ERYTHRIT - Wir stelle...  \n",
       "B09MBZJ48V DE      3.5 MM BUCHSE - Kann problemlos an Geräte mit ...  \n",
       "B08ZN6F26S DE      【Auto aufziehbar】: Drücken Sie einfach leicht ...  \n",
       "B094DGRV7D DE                                        Inhalt: 1 Stück  "
      ]
     },
     "execution_count": 22,
     "metadata": {},
     "output_type": "execute_result"
    }
   ],
   "source": [
    "products.head()"
   ]
  },
  {
   "cell_type": "code",
   "execution_count": 23,
   "metadata": {},
   "outputs": [
    {
     "data": {
      "text/plain": [
       "title       RED DRAGON Amberjack 3 - Steel Tip 22 Gramm Wo...\n",
       "price                                                   30.95\n",
       "brand                                              RED DRAGON\n",
       "color                                                     NaN\n",
       "size                                                      NaN\n",
       "model                                                 RDD0089\n",
       "material                                                  NaN\n",
       "author                                                    NaN\n",
       "desc        Amberjacks Steel Dartpfeile sind verfügbar in ...\n",
       "Name: (B005ZSSN10, DE), dtype: object"
      ]
     },
     "execution_count": 23,
     "metadata": {},
     "output_type": "execute_result"
    }
   ],
   "source": [
    "products.loc[('B005ZSSN10', 'DE')]"
   ]
  },
  {
   "cell_type": "code",
   "execution_count": 24,
   "metadata": {},
   "outputs": [],
   "source": [
    "products['len_title'] = products['title'].apply(lambda x : 0 if type(x) == float else len(x))\n",
    "products['len_desc'] = products['desc'].apply(lambda x : 0 if type(x) == float else len(x))"
   ]
  },
  {
   "cell_type": "code",
   "execution_count": 25,
   "metadata": {},
   "outputs": [
    {
     "data": {
      "text/plain": [
       "title        1361551\n",
       "price          37452\n",
       "brand         169149\n",
       "color         199923\n",
       "size          213319\n",
       "model         492997\n",
       "material       44782\n",
       "author         29259\n",
       "desc          793027\n",
       "len_title        480\n",
       "len_desc         757\n",
       "dtype: int64"
      ]
     },
     "execution_count": 25,
     "metadata": {},
     "output_type": "execute_result"
    }
   ],
   "source": [
    "products.nunique()"
   ]
  },
  {
   "cell_type": "code",
   "execution_count": 26,
   "metadata": {},
   "outputs": [
    {
     "data": {
      "text/plain": [
       "Index(['title', 'price', 'brand', 'color', 'size', 'model', 'material',\n",
       "       'author', 'desc', 'len_title', 'len_desc'],\n",
       "      dtype='object')"
      ]
     },
     "execution_count": 26,
     "metadata": {},
     "output_type": "execute_result"
    }
   ],
   "source": [
    "products.columns"
   ]
  },
  {
   "cell_type": "code",
   "execution_count": 27,
   "metadata": {},
   "outputs": [],
   "source": [
    "cat_features = ['brand', 'color', 'size', 'model', 'material', 'author']\n",
    "num_features = ['price', 'len_title', 'len_desc']"
   ]
  },
  {
   "cell_type": "code",
   "execution_count": 28,
   "metadata": {},
   "outputs": [],
   "source": [
    "for f in cat_features:\n",
    "    le = LabelEncoder()\n",
    "    products[f] = le.fit_transform(products[f])"
   ]
  },
  {
   "cell_type": "code",
   "execution_count": 29,
   "metadata": {},
   "outputs": [
    {
     "data": {
      "text/plain": [
       "(1413516, 11)"
      ]
     },
     "execution_count": 29,
     "metadata": {},
     "output_type": "execute_result"
    }
   ],
   "source": [
    "products.shape "
   ]
  },
  {
   "cell_type": "code",
   "execution_count": 30,
   "metadata": {},
   "outputs": [
    {
     "data": {
      "text/html": [
       "<div>\n",
       "<style scoped>\n",
       "    .dataframe tbody tr th:only-of-type {\n",
       "        vertical-align: middle;\n",
       "    }\n",
       "\n",
       "    .dataframe tbody tr th {\n",
       "        vertical-align: top;\n",
       "    }\n",
       "\n",
       "    .dataframe thead th {\n",
       "        text-align: right;\n",
       "    }\n",
       "</style>\n",
       "<table border=\"1\" class=\"dataframe\">\n",
       "  <thead>\n",
       "    <tr style=\"text-align: right;\">\n",
       "      <th></th>\n",
       "      <th></th>\n",
       "      <th>title</th>\n",
       "      <th>price</th>\n",
       "      <th>brand</th>\n",
       "      <th>color</th>\n",
       "      <th>size</th>\n",
       "      <th>model</th>\n",
       "      <th>material</th>\n",
       "      <th>author</th>\n",
       "      <th>desc</th>\n",
       "      <th>len_title</th>\n",
       "      <th>len_desc</th>\n",
       "    </tr>\n",
       "    <tr>\n",
       "      <th>id</th>\n",
       "      <th>locale</th>\n",
       "      <th></th>\n",
       "      <th></th>\n",
       "      <th></th>\n",
       "      <th></th>\n",
       "      <th></th>\n",
       "      <th></th>\n",
       "      <th></th>\n",
       "      <th></th>\n",
       "      <th></th>\n",
       "      <th></th>\n",
       "      <th></th>\n",
       "    </tr>\n",
       "  </thead>\n",
       "  <tbody>\n",
       "    <tr>\n",
       "      <th>B005ZSSN10</th>\n",
       "      <th>DE</th>\n",
       "      <td>RED DRAGON Amberjack 3 - Steel Tip 22 Gramm Wo...</td>\n",
       "      <td>30.95</td>\n",
       "      <td>105804</td>\n",
       "      <td>199923</td>\n",
       "      <td>213319</td>\n",
       "      <td>399670</td>\n",
       "      <td>44782</td>\n",
       "      <td>29259</td>\n",
       "      <td>Amberjacks Steel Dartpfeile sind verfügbar in ...</td>\n",
       "      <td>96</td>\n",
       "      <td>121</td>\n",
       "    </tr>\n",
       "    <tr>\n",
       "      <th>B08PRYN6LD</th>\n",
       "      <th>DE</th>\n",
       "      <td>Simply Keto Lower Carb* Schokodrops ohne Zucke...</td>\n",
       "      <td>17.90</td>\n",
       "      <td>117662</td>\n",
       "      <td>199923</td>\n",
       "      <td>124815</td>\n",
       "      <td>492997</td>\n",
       "      <td>44782</td>\n",
       "      <td>29259</td>\n",
       "      <td>🌱 NATÜRLICHE SÜSSE DURCH ERYTHRIT - Wir stelle...</td>\n",
       "      <td>186</td>\n",
       "      <td>330</td>\n",
       "    </tr>\n",
       "    <tr>\n",
       "      <th>B09MBZJ48V</th>\n",
       "      <th>DE</th>\n",
       "      <td>Sennheiser 508377 PC 5.2 Chat, Stilvolles Mult...</td>\n",
       "      <td>68.89</td>\n",
       "      <td>116175</td>\n",
       "      <td>112280</td>\n",
       "      <td>166049</td>\n",
       "      <td>135239</td>\n",
       "      <td>15196</td>\n",
       "      <td>29259</td>\n",
       "      <td>3.5 MM BUCHSE - Kann problemlos an Geräte mit ...</td>\n",
       "      <td>181</td>\n",
       "      <td>95</td>\n",
       "    </tr>\n",
       "    <tr>\n",
       "      <th>B08ZN6F26S</th>\n",
       "      <th>DE</th>\n",
       "      <td>AmyBenton Auto ab 1 2 3 ahre - Baby Aufziehbar...</td>\n",
       "      <td>18.99</td>\n",
       "      <td>9251</td>\n",
       "      <td>46812</td>\n",
       "      <td>213319</td>\n",
       "      <td>62805</td>\n",
       "      <td>28665</td>\n",
       "      <td>29259</td>\n",
       "      <td>【Auto aufziehbar】: Drücken Sie einfach leicht ...</td>\n",
       "      <td>101</td>\n",
       "      <td>191</td>\n",
       "    </tr>\n",
       "    <tr>\n",
       "      <th>B094DGRV7D</th>\n",
       "      <th>DE</th>\n",
       "      <td>PLAYMOBIL - 70522 - Cavaliere mit grauem Pony</td>\n",
       "      <td>7.17</td>\n",
       "      <td>99190</td>\n",
       "      <td>115345</td>\n",
       "      <td>166088</td>\n",
       "      <td>162740</td>\n",
       "      <td>22373</td>\n",
       "      <td>29259</td>\n",
       "      <td>Inhalt: 1 Stück</td>\n",
       "      <td>45</td>\n",
       "      <td>15</td>\n",
       "    </tr>\n",
       "  </tbody>\n",
       "</table>\n",
       "</div>"
      ],
      "text/plain": [
       "                                                               title  price  \\\n",
       "id         locale                                                             \n",
       "B005ZSSN10 DE      RED DRAGON Amberjack 3 - Steel Tip 22 Gramm Wo...  30.95   \n",
       "B08PRYN6LD DE      Simply Keto Lower Carb* Schokodrops ohne Zucke...  17.90   \n",
       "B09MBZJ48V DE      Sennheiser 508377 PC 5.2 Chat, Stilvolles Mult...  68.89   \n",
       "B08ZN6F26S DE      AmyBenton Auto ab 1 2 3 ahre - Baby Aufziehbar...  18.99   \n",
       "B094DGRV7D DE          PLAYMOBIL - 70522 - Cavaliere mit grauem Pony   7.17   \n",
       "\n",
       "                    brand   color    size   model  material  author  \\\n",
       "id         locale                                                     \n",
       "B005ZSSN10 DE      105804  199923  213319  399670     44782   29259   \n",
       "B08PRYN6LD DE      117662  199923  124815  492997     44782   29259   \n",
       "B09MBZJ48V DE      116175  112280  166049  135239     15196   29259   \n",
       "B08ZN6F26S DE        9251   46812  213319   62805     28665   29259   \n",
       "B094DGRV7D DE       99190  115345  166088  162740     22373   29259   \n",
       "\n",
       "                                                                desc  \\\n",
       "id         locale                                                      \n",
       "B005ZSSN10 DE      Amberjacks Steel Dartpfeile sind verfügbar in ...   \n",
       "B08PRYN6LD DE      🌱 NATÜRLICHE SÜSSE DURCH ERYTHRIT - Wir stelle...   \n",
       "B09MBZJ48V DE      3.5 MM BUCHSE - Kann problemlos an Geräte mit ...   \n",
       "B08ZN6F26S DE      【Auto aufziehbar】: Drücken Sie einfach leicht ...   \n",
       "B094DGRV7D DE                                        Inhalt: 1 Stück   \n",
       "\n",
       "                   len_title  len_desc  \n",
       "id         locale                       \n",
       "B005ZSSN10 DE             96       121  \n",
       "B08PRYN6LD DE            186       330  \n",
       "B09MBZJ48V DE            181        95  \n",
       "B08ZN6F26S DE            101       191  \n",
       "B094DGRV7D DE             45        15  "
      ]
     },
     "execution_count": 30,
     "metadata": {},
     "output_type": "execute_result"
    }
   ],
   "source": [
    "products.head()"
   ]
  },
  {
   "attachments": {},
   "cell_type": "markdown",
   "metadata": {},
   "source": [
    "测试集跟产品表连表"
   ]
  },
  {
   "cell_type": "code",
   "execution_count": 31,
   "metadata": {},
   "outputs": [
    {
     "data": {
      "text/plain": [
       "Index(['prev_items', 'locale', 'last_item'], dtype='object')"
      ]
     },
     "execution_count": 31,
     "metadata": {},
     "output_type": "execute_result"
    }
   ],
   "source": [
    "df_test.columns"
   ]
  },
  {
   "cell_type": "code",
   "execution_count": 32,
   "metadata": {},
   "outputs": [],
   "source": [
    "df_test_exploded = df_test[['prev_items', 'locale', 'last_item']].explode('prev_items')"
   ]
  },
  {
   "cell_type": "code",
   "execution_count": 33,
   "metadata": {},
   "outputs": [
    {
     "data": {
      "text/plain": [
       "Int64Index([     0,      0,      0,      0,      0,      0,      0,      0,\n",
       "                 0,      0,\n",
       "            ...\n",
       "            316968, 316968, 316968, 316968, 316968, 316969, 316969, 316970,\n",
       "            316970, 316970],\n",
       "           dtype='int64', length=1351132)"
      ]
     },
     "execution_count": 33,
     "metadata": {},
     "output_type": "execute_result"
    }
   ],
   "source": [
    "df_test_exploded.index "
   ]
  },
  {
   "cell_type": "code",
   "execution_count": 34,
   "metadata": {},
   "outputs": [],
   "source": [
    "df_test_exploded['index'] = df_test_exploded.index "
   ]
  },
  {
   "cell_type": "code",
   "execution_count": 35,
   "metadata": {},
   "outputs": [],
   "source": [
    "df_test_exploded = df_test_exploded.rename(columns={'prev_items': 'id'})"
   ]
  },
  {
   "cell_type": "code",
   "execution_count": 36,
   "metadata": {},
   "outputs": [
    {
     "data": {
      "text/html": [
       "<div>\n",
       "<style scoped>\n",
       "    .dataframe tbody tr th:only-of-type {\n",
       "        vertical-align: middle;\n",
       "    }\n",
       "\n",
       "    .dataframe tbody tr th {\n",
       "        vertical-align: top;\n",
       "    }\n",
       "\n",
       "    .dataframe thead th {\n",
       "        text-align: right;\n",
       "    }\n",
       "</style>\n",
       "<table border=\"1\" class=\"dataframe\">\n",
       "  <thead>\n",
       "    <tr style=\"text-align: right;\">\n",
       "      <th></th>\n",
       "      <th>id</th>\n",
       "      <th>locale</th>\n",
       "      <th>last_item</th>\n",
       "      <th>index</th>\n",
       "    </tr>\n",
       "  </thead>\n",
       "  <tbody>\n",
       "    <tr>\n",
       "      <th>0</th>\n",
       "      <td>B08V12CT4C</td>\n",
       "      <td>DE</td>\n",
       "      <td>B099NQFMG7</td>\n",
       "      <td>0</td>\n",
       "    </tr>\n",
       "    <tr>\n",
       "      <th>0</th>\n",
       "      <td>B08V1KXBQD</td>\n",
       "      <td>DE</td>\n",
       "      <td>B099NQFMG7</td>\n",
       "      <td>0</td>\n",
       "    </tr>\n",
       "    <tr>\n",
       "      <th>0</th>\n",
       "      <td>B01BVG1XJS</td>\n",
       "      <td>DE</td>\n",
       "      <td>B099NQFMG7</td>\n",
       "      <td>0</td>\n",
       "    </tr>\n",
       "    <tr>\n",
       "      <th>0</th>\n",
       "      <td>B09VC5PKN5</td>\n",
       "      <td>DE</td>\n",
       "      <td>B099NQFMG7</td>\n",
       "      <td>0</td>\n",
       "    </tr>\n",
       "    <tr>\n",
       "      <th>0</th>\n",
       "      <td>B09V7KG931</td>\n",
       "      <td>DE</td>\n",
       "      <td>B099NQFMG7</td>\n",
       "      <td>0</td>\n",
       "    </tr>\n",
       "    <tr>\n",
       "      <th>...</th>\n",
       "      <td>...</td>\n",
       "      <td>...</td>\n",
       "      <td>...</td>\n",
       "      <td>...</td>\n",
       "    </tr>\n",
       "    <tr>\n",
       "      <th>316969</th>\n",
       "      <td>B01MCQMORK</td>\n",
       "      <td>UK</td>\n",
       "      <td>B09JYZ325W</td>\n",
       "      <td>316969</td>\n",
       "    </tr>\n",
       "    <tr>\n",
       "      <th>316969</th>\n",
       "      <td>B09JYZ325W</td>\n",
       "      <td>UK</td>\n",
       "      <td>B09JYZ325W</td>\n",
       "      <td>316969</td>\n",
       "    </tr>\n",
       "    <tr>\n",
       "      <th>316970</th>\n",
       "      <td>B0B8JX92YJ</td>\n",
       "      <td>UK</td>\n",
       "      <td>B0BG2LZQSL</td>\n",
       "      <td>316970</td>\n",
       "    </tr>\n",
       "    <tr>\n",
       "      <th>316970</th>\n",
       "      <td>B09TN4MP6V</td>\n",
       "      <td>UK</td>\n",
       "      <td>B0BG2LZQSL</td>\n",
       "      <td>316970</td>\n",
       "    </tr>\n",
       "    <tr>\n",
       "      <th>316970</th>\n",
       "      <td>B0BG2LZQSL</td>\n",
       "      <td>UK</td>\n",
       "      <td>B0BG2LZQSL</td>\n",
       "      <td>316970</td>\n",
       "    </tr>\n",
       "  </tbody>\n",
       "</table>\n",
       "<p>1351132 rows × 4 columns</p>\n",
       "</div>"
      ],
      "text/plain": [
       "                id locale   last_item   index\n",
       "0       B08V12CT4C     DE  B099NQFMG7       0\n",
       "0       B08V1KXBQD     DE  B099NQFMG7       0\n",
       "0       B01BVG1XJS     DE  B099NQFMG7       0\n",
       "0       B09VC5PKN5     DE  B099NQFMG7       0\n",
       "0       B09V7KG931     DE  B099NQFMG7       0\n",
       "...            ...    ...         ...     ...\n",
       "316969  B01MCQMORK     UK  B09JYZ325W  316969\n",
       "316969  B09JYZ325W     UK  B09JYZ325W  316969\n",
       "316970  B0B8JX92YJ     UK  B0BG2LZQSL  316970\n",
       "316970  B09TN4MP6V     UK  B0BG2LZQSL  316970\n",
       "316970  B0BG2LZQSL     UK  B0BG2LZQSL  316970\n",
       "\n",
       "[1351132 rows x 4 columns]"
      ]
     },
     "execution_count": 36,
     "metadata": {},
     "output_type": "execute_result"
    }
   ],
   "source": [
    "df_test_exploded"
   ]
  },
  {
   "cell_type": "code",
   "execution_count": 37,
   "metadata": {},
   "outputs": [
    {
     "data": {
      "text/html": [
       "<div>\n",
       "<style scoped>\n",
       "    .dataframe tbody tr th:only-of-type {\n",
       "        vertical-align: middle;\n",
       "    }\n",
       "\n",
       "    .dataframe tbody tr th {\n",
       "        vertical-align: top;\n",
       "    }\n",
       "\n",
       "    .dataframe thead th {\n",
       "        text-align: right;\n",
       "    }\n",
       "</style>\n",
       "<table border=\"1\" class=\"dataframe\">\n",
       "  <thead>\n",
       "    <tr style=\"text-align: right;\">\n",
       "      <th></th>\n",
       "      <th>id</th>\n",
       "      <th>locale</th>\n",
       "      <th>last_item</th>\n",
       "      <th>index</th>\n",
       "      <th>title</th>\n",
       "      <th>price</th>\n",
       "      <th>brand</th>\n",
       "      <th>color</th>\n",
       "      <th>size</th>\n",
       "      <th>model</th>\n",
       "      <th>material</th>\n",
       "      <th>author</th>\n",
       "      <th>desc</th>\n",
       "      <th>len_title</th>\n",
       "      <th>len_desc</th>\n",
       "    </tr>\n",
       "  </thead>\n",
       "  <tbody>\n",
       "    <tr>\n",
       "      <th>0</th>\n",
       "      <td>B08V12CT4C</td>\n",
       "      <td>DE</td>\n",
       "      <td>B099NQFMG7</td>\n",
       "      <td>0</td>\n",
       "      <td>ThermoPro TP49 digitales Mini Thermo-Hygromete...</td>\n",
       "      <td>22.99</td>\n",
       "      <td>126209</td>\n",
       "      <td>199923</td>\n",
       "      <td>213319</td>\n",
       "      <td>492997</td>\n",
       "      <td>44782</td>\n",
       "      <td>29259</td>\n",
       "      <td>Energiesparende Batterie: 1x 1,5 V AAA Batteri...</td>\n",
       "      <td>149</td>\n",
       "      <td>210</td>\n",
       "    </tr>\n",
       "    <tr>\n",
       "      <th>1</th>\n",
       "      <td>B08V1KXBQD</td>\n",
       "      <td>DE</td>\n",
       "      <td>B099NQFMG7</td>\n",
       "      <td>0</td>\n",
       "      <td>ThermoPro TP49W-3 digitales Mini Thermo-Hygrom...</td>\n",
       "      <td>29.99</td>\n",
       "      <td>126209</td>\n",
       "      <td>199923</td>\n",
       "      <td>213319</td>\n",
       "      <td>492997</td>\n",
       "      <td>44782</td>\n",
       "      <td>29259</td>\n",
       "      <td>Energiesparende Batterie: 1x 1,5 V AAA Batteri...</td>\n",
       "      <td>151</td>\n",
       "      <td>210</td>\n",
       "    </tr>\n",
       "    <tr>\n",
       "      <th>2</th>\n",
       "      <td>B01BVG1XJS</td>\n",
       "      <td>DE</td>\n",
       "      <td>B099NQFMG7</td>\n",
       "      <td>0</td>\n",
       "      <td>Bresser Thermometer Hygrometer Temeo Hygro Ind...</td>\n",
       "      <td>19.95</td>\n",
       "      <td>21236</td>\n",
       "      <td>152211</td>\n",
       "      <td>90884</td>\n",
       "      <td>161227</td>\n",
       "      <td>15295</td>\n",
       "      <td>29259</td>\n",
       "      <td>Abmessungen: 45 x 58 x 13 mm, Gewicht: 31 g; F...</td>\n",
       "      <td>170</td>\n",
       "      <td>139</td>\n",
       "    </tr>\n",
       "    <tr>\n",
       "      <th>3</th>\n",
       "      <td>B09VC5PKN5</td>\n",
       "      <td>DE</td>\n",
       "      <td>B099NQFMG7</td>\n",
       "      <td>0</td>\n",
       "      <td>ThermoPro TP157 Mini Hygrometer Thermometer In...</td>\n",
       "      <td>12.99</td>\n",
       "      <td>126209</td>\n",
       "      <td>199923</td>\n",
       "      <td>213319</td>\n",
       "      <td>439635</td>\n",
       "      <td>44782</td>\n",
       "      <td>29259</td>\n",
       "      <td>Batterielaufzeit für 18 Monate: Die im Lieferu...</td>\n",
       "      <td>184</td>\n",
       "      <td>192</td>\n",
       "    </tr>\n",
       "    <tr>\n",
       "      <th>4</th>\n",
       "      <td>B09V7KG931</td>\n",
       "      <td>DE</td>\n",
       "      <td>B099NQFMG7</td>\n",
       "      <td>0</td>\n",
       "      <td>ThermoPro TP157 Mini Hygrometer Thermometer In...</td>\n",
       "      <td>29.99</td>\n",
       "      <td>126209</td>\n",
       "      <td>199923</td>\n",
       "      <td>213319</td>\n",
       "      <td>439636</td>\n",
       "      <td>44782</td>\n",
       "      <td>29259</td>\n",
       "      <td>Batterielaufzeit für 18 Monate: Die im Lieferu...</td>\n",
       "      <td>192</td>\n",
       "      <td>192</td>\n",
       "    </tr>\n",
       "  </tbody>\n",
       "</table>\n",
       "</div>"
      ],
      "text/plain": [
       "           id locale   last_item  index  \\\n",
       "0  B08V12CT4C     DE  B099NQFMG7      0   \n",
       "1  B08V1KXBQD     DE  B099NQFMG7      0   \n",
       "2  B01BVG1XJS     DE  B099NQFMG7      0   \n",
       "3  B09VC5PKN5     DE  B099NQFMG7      0   \n",
       "4  B09V7KG931     DE  B099NQFMG7      0   \n",
       "\n",
       "                                               title  price   brand   color  \\\n",
       "0  ThermoPro TP49 digitales Mini Thermo-Hygromete...  22.99  126209  199923   \n",
       "1  ThermoPro TP49W-3 digitales Mini Thermo-Hygrom...  29.99  126209  199923   \n",
       "2  Bresser Thermometer Hygrometer Temeo Hygro Ind...  19.95   21236  152211   \n",
       "3  ThermoPro TP157 Mini Hygrometer Thermometer In...  12.99  126209  199923   \n",
       "4  ThermoPro TP157 Mini Hygrometer Thermometer In...  29.99  126209  199923   \n",
       "\n",
       "     size   model  material  author  \\\n",
       "0  213319  492997     44782   29259   \n",
       "1  213319  492997     44782   29259   \n",
       "2   90884  161227     15295   29259   \n",
       "3  213319  439635     44782   29259   \n",
       "4  213319  439636     44782   29259   \n",
       "\n",
       "                                                desc  len_title  len_desc  \n",
       "0  Energiesparende Batterie: 1x 1,5 V AAA Batteri...        149       210  \n",
       "1  Energiesparende Batterie: 1x 1,5 V AAA Batteri...        151       210  \n",
       "2  Abmessungen: 45 x 58 x 13 mm, Gewicht: 31 g; F...        170       139  \n",
       "3  Batterielaufzeit für 18 Monate: Die im Lieferu...        184       192  \n",
       "4  Batterielaufzeit für 18 Monate: Die im Lieferu...        192       192  "
      ]
     },
     "execution_count": 37,
     "metadata": {},
     "output_type": "execute_result"
    }
   ],
   "source": [
    "# products在同一个地区的ID是不一样的，但是不同地区的ID可能会一样\n",
    "df_test_exploded_fea = df_test_exploded.merge(products, on=['id', 'locale'], how='left')\n",
    "df_test_exploded_fea.head()"
   ]
  },
  {
   "cell_type": "code",
   "execution_count": 38,
   "metadata": {},
   "outputs": [
    {
     "data": {
      "text/plain": [
       "(1351132, 15)"
      ]
     },
     "execution_count": 38,
     "metadata": {},
     "output_type": "execute_result"
    }
   ],
   "source": [
    "df_test_exploded_fea.shape "
   ]
  },
  {
   "attachments": {},
   "cell_type": "markdown",
   "metadata": {},
   "source": [
    "训练集和产品表连表"
   ]
  },
  {
   "cell_type": "code",
   "execution_count": 39,
   "metadata": {},
   "outputs": [
    {
     "data": {
      "text/plain": [
       "Index(['prev_items', 'next_item', 'locale', 'last_item'], dtype='object')"
      ]
     },
     "execution_count": 39,
     "metadata": {},
     "output_type": "execute_result"
    }
   ],
   "source": [
    "df_train.columns"
   ]
  },
  {
   "cell_type": "code",
   "execution_count": 40,
   "metadata": {},
   "outputs": [],
   "source": [
    "df_train_exploded = df_train[['prev_items', 'locale', 'last_item', 'next_item']].explode('prev_items')"
   ]
  },
  {
   "cell_type": "code",
   "execution_count": 41,
   "metadata": {},
   "outputs": [],
   "source": [
    "df_train_exploded['index'] = df_train_exploded.index "
   ]
  },
  {
   "cell_type": "code",
   "execution_count": 42,
   "metadata": {},
   "outputs": [],
   "source": [
    "df_train_exploded = df_train_exploded.rename(columns={'prev_items': 'id'})"
   ]
  },
  {
   "cell_type": "code",
   "execution_count": 43,
   "metadata": {},
   "outputs": [
    {
     "data": {
      "text/html": [
       "<div>\n",
       "<style scoped>\n",
       "    .dataframe tbody tr th:only-of-type {\n",
       "        vertical-align: middle;\n",
       "    }\n",
       "\n",
       "    .dataframe tbody tr th {\n",
       "        vertical-align: top;\n",
       "    }\n",
       "\n",
       "    .dataframe thead th {\n",
       "        text-align: right;\n",
       "    }\n",
       "</style>\n",
       "<table border=\"1\" class=\"dataframe\">\n",
       "  <thead>\n",
       "    <tr style=\"text-align: right;\">\n",
       "      <th></th>\n",
       "      <th>id</th>\n",
       "      <th>locale</th>\n",
       "      <th>last_item</th>\n",
       "      <th>next_item</th>\n",
       "      <th>index</th>\n",
       "      <th>title</th>\n",
       "      <th>price</th>\n",
       "      <th>brand</th>\n",
       "      <th>color</th>\n",
       "      <th>size</th>\n",
       "      <th>model</th>\n",
       "      <th>material</th>\n",
       "      <th>author</th>\n",
       "      <th>desc</th>\n",
       "      <th>len_title</th>\n",
       "      <th>len_desc</th>\n",
       "    </tr>\n",
       "  </thead>\n",
       "  <tbody>\n",
       "    <tr>\n",
       "      <th>0</th>\n",
       "      <td>B09W9FND7K</td>\n",
       "      <td>DE</td>\n",
       "      <td>B09JSPLN1M</td>\n",
       "      <td>B09M7GY217</td>\n",
       "      <td>0</td>\n",
       "      <td>OREiN LED Einbaustrahler 230V Dimmbar &amp; IP65 L...</td>\n",
       "      <td>39.99</td>\n",
       "      <td>95845</td>\n",
       "      <td>37394</td>\n",
       "      <td>159820</td>\n",
       "      <td>492997</td>\n",
       "      <td>38875</td>\n",
       "      <td>29259</td>\n",
       "      <td>【Angenehmes Licht】Dieser Einbaustrahler LED Fl...</td>\n",
       "      <td>196</td>\n",
       "      <td>222</td>\n",
       "    </tr>\n",
       "    <tr>\n",
       "      <th>1</th>\n",
       "      <td>B09JSPLN1M</td>\n",
       "      <td>DE</td>\n",
       "      <td>B09JSPLN1M</td>\n",
       "      <td>B09M7GY217</td>\n",
       "      <td>0</td>\n",
       "      <td>OREiN LED Spot LED Einbaustrahler 230V IP65 LE...</td>\n",
       "      <td>36.99</td>\n",
       "      <td>95845</td>\n",
       "      <td>37397</td>\n",
       "      <td>159820</td>\n",
       "      <td>492997</td>\n",
       "      <td>15295</td>\n",
       "      <td>29259</td>\n",
       "      <td>【Angenehmes Licht】Dieser Einbaustrahler LED Fl...</td>\n",
       "      <td>199</td>\n",
       "      <td>231</td>\n",
       "    </tr>\n",
       "    <tr>\n",
       "      <th>2</th>\n",
       "      <td>B076THCGSG</td>\n",
       "      <td>DE</td>\n",
       "      <td>B001B4TKA0</td>\n",
       "      <td>B001B4THSA</td>\n",
       "      <td>1</td>\n",
       "      <td>VIETSCHI Profi DIN Plus 12,5L weiß - doppeldec...</td>\n",
       "      <td>39.80</td>\n",
       "      <td>132385</td>\n",
       "      <td>199923</td>\n",
       "      <td>22514</td>\n",
       "      <td>492997</td>\n",
       "      <td>44782</td>\n",
       "      <td>29259</td>\n",
       "      <td>✅ Einfache Verarbeitung - Egal ob Streichen, R...</td>\n",
       "      <td>195</td>\n",
       "      <td>192</td>\n",
       "    </tr>\n",
       "    <tr>\n",
       "      <th>3</th>\n",
       "      <td>B007MO8IME</td>\n",
       "      <td>DE</td>\n",
       "      <td>B001B4TKA0</td>\n",
       "      <td>B001B4THSA</td>\n",
       "      <td>1</td>\n",
       "      <td>Caparol Capa DIN 12,500 L Wandfarben</td>\n",
       "      <td>40.27</td>\n",
       "      <td>26226</td>\n",
       "      <td>152051</td>\n",
       "      <td>22514</td>\n",
       "      <td>36204</td>\n",
       "      <td>10615</td>\n",
       "      <td>29259</td>\n",
       "      <td>Caparol</td>\n",
       "      <td>36</td>\n",
       "      <td>7</td>\n",
       "    </tr>\n",
       "    <tr>\n",
       "      <th>4</th>\n",
       "      <td>B08MF65MLV</td>\n",
       "      <td>DE</td>\n",
       "      <td>B001B4TKA0</td>\n",
       "      <td>B001B4THSA</td>\n",
       "      <td>1</td>\n",
       "      <td>Metzler Edelstahl Türklingel in Anthrazit - Tü...</td>\n",
       "      <td>29.99</td>\n",
       "      <td>88065</td>\n",
       "      <td>47016</td>\n",
       "      <td>127379</td>\n",
       "      <td>492997</td>\n",
       "      <td>11112</td>\n",
       "      <td>29259</td>\n",
       "      <td>Der Anschluss erfolgt an herkömmlichen Klingel...</td>\n",
       "      <td>174</td>\n",
       "      <td>222</td>\n",
       "    </tr>\n",
       "  </tbody>\n",
       "</table>\n",
       "</div>"
      ],
      "text/plain": [
       "           id locale   last_item   next_item  index  \\\n",
       "0  B09W9FND7K     DE  B09JSPLN1M  B09M7GY217      0   \n",
       "1  B09JSPLN1M     DE  B09JSPLN1M  B09M7GY217      0   \n",
       "2  B076THCGSG     DE  B001B4TKA0  B001B4THSA      1   \n",
       "3  B007MO8IME     DE  B001B4TKA0  B001B4THSA      1   \n",
       "4  B08MF65MLV     DE  B001B4TKA0  B001B4THSA      1   \n",
       "\n",
       "                                               title  price   brand   color  \\\n",
       "0  OREiN LED Einbaustrahler 230V Dimmbar & IP65 L...  39.99   95845   37394   \n",
       "1  OREiN LED Spot LED Einbaustrahler 230V IP65 LE...  36.99   95845   37397   \n",
       "2  VIETSCHI Profi DIN Plus 12,5L weiß - doppeldec...  39.80  132385  199923   \n",
       "3               Caparol Capa DIN 12,500 L Wandfarben  40.27   26226  152051   \n",
       "4  Metzler Edelstahl Türklingel in Anthrazit - Tü...  29.99   88065   47016   \n",
       "\n",
       "     size   model  material  author  \\\n",
       "0  159820  492997     38875   29259   \n",
       "1  159820  492997     15295   29259   \n",
       "2   22514  492997     44782   29259   \n",
       "3   22514   36204     10615   29259   \n",
       "4  127379  492997     11112   29259   \n",
       "\n",
       "                                                desc  len_title  len_desc  \n",
       "0  【Angenehmes Licht】Dieser Einbaustrahler LED Fl...        196       222  \n",
       "1  【Angenehmes Licht】Dieser Einbaustrahler LED Fl...        199       231  \n",
       "2  ✅ Einfache Verarbeitung - Egal ob Streichen, R...        195       192  \n",
       "3                                            Caparol         36         7  \n",
       "4  Der Anschluss erfolgt an herkömmlichen Klingel...        174       222  "
      ]
     },
     "execution_count": 43,
     "metadata": {},
     "output_type": "execute_result"
    }
   ],
   "source": [
    "# products在同一个地区的ID是不一样的，但是不同地区的ID可能会一样\n",
    "df_train_exploded_fea = df_train_exploded.merge(products, on=['id', 'locale'], how='left')\n",
    "df_train_exploded_fea.head()"
   ]
  },
  {
   "cell_type": "code",
   "execution_count": 44,
   "metadata": {},
   "outputs": [
    {
     "data": {
      "text/plain": [
       "(14098279, 16)"
      ]
     },
     "execution_count": 44,
     "metadata": {},
     "output_type": "execute_result"
    }
   ],
   "source": [
    "df_train_exploded_fea.shape "
   ]
  },
  {
   "attachments": {},
   "cell_type": "markdown",
   "metadata": {},
   "source": [
    "测试集序列特征抽取"
   ]
  },
  {
   "cell_type": "code",
   "execution_count": 45,
   "metadata": {},
   "outputs": [],
   "source": [
    "agg = {\n",
    "    'id': ['nunique', 'count'],\n",
    "    'brand' : ['nunique', 'count'],\n",
    "    'color' : ['nunique', 'count'],\n",
    "    'size' : ['nunique', 'count'],\n",
    "    'model' : ['nunique', 'count'],\n",
    "    'material' : ['nunique', 'count'],\n",
    "    'author' : ['nunique', 'count'],\n",
    "    'price' : ['mean', 'std', 'min', 'max', 'sum'],\n",
    "    'len_title' : ['mean', 'std', 'min', 'max', 'sum'],\n",
    "    'len_desc' : ['mean', 'std', 'min', 'max', 'sum'],\n",
    "}"
   ]
  },
  {
   "cell_type": "code",
   "execution_count": 46,
   "metadata": {},
   "outputs": [],
   "source": [
    "df_test_seqs_feas = df_test_exploded_fea.groupby('index').agg(agg)"
   ]
  },
  {
   "cell_type": "code",
   "execution_count": 47,
   "metadata": {},
   "outputs": [],
   "source": [
    "df_test_seqs_feas.columns = pd.Index([e[0] + e[1].upper() for e in df_test_seqs_feas.columns.tolist()])"
   ]
  },
  {
   "cell_type": "code",
   "execution_count": 48,
   "metadata": {},
   "outputs": [
    {
     "data": {
      "text/html": [
       "<div>\n",
       "<style scoped>\n",
       "    .dataframe tbody tr th:only-of-type {\n",
       "        vertical-align: middle;\n",
       "    }\n",
       "\n",
       "    .dataframe tbody tr th {\n",
       "        vertical-align: top;\n",
       "    }\n",
       "\n",
       "    .dataframe thead th {\n",
       "        text-align: right;\n",
       "    }\n",
       "</style>\n",
       "<table border=\"1\" class=\"dataframe\">\n",
       "  <thead>\n",
       "    <tr style=\"text-align: right;\">\n",
       "      <th></th>\n",
       "      <th>idNUNIQUE</th>\n",
       "      <th>idCOUNT</th>\n",
       "      <th>brandNUNIQUE</th>\n",
       "      <th>brandCOUNT</th>\n",
       "      <th>colorNUNIQUE</th>\n",
       "      <th>colorCOUNT</th>\n",
       "      <th>sizeNUNIQUE</th>\n",
       "      <th>sizeCOUNT</th>\n",
       "      <th>modelNUNIQUE</th>\n",
       "      <th>modelCOUNT</th>\n",
       "      <th>...</th>\n",
       "      <th>len_titleMEAN</th>\n",
       "      <th>len_titleSTD</th>\n",
       "      <th>len_titleMIN</th>\n",
       "      <th>len_titleMAX</th>\n",
       "      <th>len_titleSUM</th>\n",
       "      <th>len_descMEAN</th>\n",
       "      <th>len_descSTD</th>\n",
       "      <th>len_descMIN</th>\n",
       "      <th>len_descMAX</th>\n",
       "      <th>len_descSUM</th>\n",
       "    </tr>\n",
       "    <tr>\n",
       "      <th>index</th>\n",
       "      <th></th>\n",
       "      <th></th>\n",
       "      <th></th>\n",
       "      <th></th>\n",
       "      <th></th>\n",
       "      <th></th>\n",
       "      <th></th>\n",
       "      <th></th>\n",
       "      <th></th>\n",
       "      <th></th>\n",
       "      <th></th>\n",
       "      <th></th>\n",
       "      <th></th>\n",
       "      <th></th>\n",
       "      <th></th>\n",
       "      <th></th>\n",
       "      <th></th>\n",
       "      <th></th>\n",
       "      <th></th>\n",
       "      <th></th>\n",
       "      <th></th>\n",
       "    </tr>\n",
       "  </thead>\n",
       "  <tbody>\n",
       "    <tr>\n",
       "      <th>0</th>\n",
       "      <td>9</td>\n",
       "      <td>12</td>\n",
       "      <td>3</td>\n",
       "      <td>12</td>\n",
       "      <td>5</td>\n",
       "      <td>12</td>\n",
       "      <td>2</td>\n",
       "      <td>12</td>\n",
       "      <td>6</td>\n",
       "      <td>12</td>\n",
       "      <td>...</td>\n",
       "      <td>163.333333</td>\n",
       "      <td>24.436684</td>\n",
       "      <td>126</td>\n",
       "      <td>195</td>\n",
       "      <td>1960</td>\n",
       "      <td>173.583333</td>\n",
       "      <td>34.057327</td>\n",
       "      <td>120</td>\n",
       "      <td>210</td>\n",
       "      <td>2083</td>\n",
       "    </tr>\n",
       "    <tr>\n",
       "      <th>1</th>\n",
       "      <td>2</td>\n",
       "      <td>3</td>\n",
       "      <td>1</td>\n",
       "      <td>3</td>\n",
       "      <td>1</td>\n",
       "      <td>3</td>\n",
       "      <td>2</td>\n",
       "      <td>3</td>\n",
       "      <td>1</td>\n",
       "      <td>3</td>\n",
       "      <td>...</td>\n",
       "      <td>79.666667</td>\n",
       "      <td>2.886751</td>\n",
       "      <td>78</td>\n",
       "      <td>83</td>\n",
       "      <td>239</td>\n",
       "      <td>44.000000</td>\n",
       "      <td>76.210236</td>\n",
       "      <td>0</td>\n",
       "      <td>132</td>\n",
       "      <td>132</td>\n",
       "    </tr>\n",
       "    <tr>\n",
       "      <th>2</th>\n",
       "      <td>3</td>\n",
       "      <td>4</td>\n",
       "      <td>2</td>\n",
       "      <td>4</td>\n",
       "      <td>3</td>\n",
       "      <td>4</td>\n",
       "      <td>1</td>\n",
       "      <td>4</td>\n",
       "      <td>3</td>\n",
       "      <td>4</td>\n",
       "      <td>...</td>\n",
       "      <td>141.250000</td>\n",
       "      <td>63.641574</td>\n",
       "      <td>46</td>\n",
       "      <td>179</td>\n",
       "      <td>565</td>\n",
       "      <td>137.750000</td>\n",
       "      <td>79.197538</td>\n",
       "      <td>26</td>\n",
       "      <td>213</td>\n",
       "      <td>551</td>\n",
       "    </tr>\n",
       "    <tr>\n",
       "      <th>3</th>\n",
       "      <td>11</td>\n",
       "      <td>20</td>\n",
       "      <td>4</td>\n",
       "      <td>20</td>\n",
       "      <td>6</td>\n",
       "      <td>20</td>\n",
       "      <td>1</td>\n",
       "      <td>20</td>\n",
       "      <td>2</td>\n",
       "      <td>20</td>\n",
       "      <td>...</td>\n",
       "      <td>123.250000</td>\n",
       "      <td>65.841017</td>\n",
       "      <td>20</td>\n",
       "      <td>194</td>\n",
       "      <td>2465</td>\n",
       "      <td>0.000000</td>\n",
       "      <td>0.000000</td>\n",
       "      <td>0</td>\n",
       "      <td>0</td>\n",
       "      <td>0</td>\n",
       "    </tr>\n",
       "    <tr>\n",
       "      <th>4</th>\n",
       "      <td>7</td>\n",
       "      <td>7</td>\n",
       "      <td>3</td>\n",
       "      <td>7</td>\n",
       "      <td>6</td>\n",
       "      <td>7</td>\n",
       "      <td>3</td>\n",
       "      <td>7</td>\n",
       "      <td>5</td>\n",
       "      <td>7</td>\n",
       "      <td>...</td>\n",
       "      <td>159.571429</td>\n",
       "      <td>46.396326</td>\n",
       "      <td>110</td>\n",
       "      <td>200</td>\n",
       "      <td>1117</td>\n",
       "      <td>337.285714</td>\n",
       "      <td>17.279220</td>\n",
       "      <td>324</td>\n",
       "      <td>372</td>\n",
       "      <td>2361</td>\n",
       "    </tr>\n",
       "  </tbody>\n",
       "</table>\n",
       "<p>5 rows × 29 columns</p>\n",
       "</div>"
      ],
      "text/plain": [
       "       idNUNIQUE  idCOUNT  brandNUNIQUE  brandCOUNT  colorNUNIQUE  colorCOUNT  \\\n",
       "index                                                                           \n",
       "0              9       12             3          12             5          12   \n",
       "1              2        3             1           3             1           3   \n",
       "2              3        4             2           4             3           4   \n",
       "3             11       20             4          20             6          20   \n",
       "4              7        7             3           7             6           7   \n",
       "\n",
       "       sizeNUNIQUE  sizeCOUNT  modelNUNIQUE  modelCOUNT  ...  len_titleMEAN  \\\n",
       "index                                                    ...                  \n",
       "0                2         12             6          12  ...     163.333333   \n",
       "1                2          3             1           3  ...      79.666667   \n",
       "2                1          4             3           4  ...     141.250000   \n",
       "3                1         20             2          20  ...     123.250000   \n",
       "4                3          7             5           7  ...     159.571429   \n",
       "\n",
       "       len_titleSTD  len_titleMIN  len_titleMAX  len_titleSUM  len_descMEAN  \\\n",
       "index                                                                         \n",
       "0         24.436684           126           195          1960    173.583333   \n",
       "1          2.886751            78            83           239     44.000000   \n",
       "2         63.641574            46           179           565    137.750000   \n",
       "3         65.841017            20           194          2465      0.000000   \n",
       "4         46.396326           110           200          1117    337.285714   \n",
       "\n",
       "       len_descSTD  len_descMIN  len_descMAX  len_descSUM  \n",
       "index                                                      \n",
       "0        34.057327          120          210         2083  \n",
       "1        76.210236            0          132          132  \n",
       "2        79.197538           26          213          551  \n",
       "3         0.000000            0            0            0  \n",
       "4        17.279220          324          372         2361  \n",
       "\n",
       "[5 rows x 29 columns]"
      ]
     },
     "execution_count": 48,
     "metadata": {},
     "output_type": "execute_result"
    }
   ],
   "source": [
    "df_test_seqs_feas.head()"
   ]
  },
  {
   "cell_type": "code",
   "execution_count": 49,
   "metadata": {},
   "outputs": [
    {
     "data": {
      "text/plain": [
       "(316971, 29)"
      ]
     },
     "execution_count": 49,
     "metadata": {},
     "output_type": "execute_result"
    }
   ],
   "source": [
    "df_test_seqs_feas.shape "
   ]
  },
  {
   "cell_type": "code",
   "execution_count": 50,
   "metadata": {},
   "outputs": [],
   "source": [
    "# df_test_seqs_feas.to_csv('data/df_test_seqs_feas.csv', index=True)"
   ]
  },
  {
   "attachments": {},
   "cell_type": "markdown",
   "metadata": {},
   "source": [
    "训练集序列特征抽取"
   ]
  },
  {
   "cell_type": "code",
   "execution_count": 51,
   "metadata": {},
   "outputs": [],
   "source": [
    "df_train_seqs_feas = df_train_exploded_fea.groupby('index').agg(agg)"
   ]
  },
  {
   "cell_type": "code",
   "execution_count": 52,
   "metadata": {},
   "outputs": [],
   "source": [
    "df_train_seqs_feas.columns = pd.Index([e[0] + e[1].upper() for e in df_train_seqs_feas.columns.tolist()])"
   ]
  },
  {
   "cell_type": "code",
   "execution_count": 53,
   "metadata": {},
   "outputs": [
    {
     "data": {
      "text/html": [
       "<div>\n",
       "<style scoped>\n",
       "    .dataframe tbody tr th:only-of-type {\n",
       "        vertical-align: middle;\n",
       "    }\n",
       "\n",
       "    .dataframe tbody tr th {\n",
       "        vertical-align: top;\n",
       "    }\n",
       "\n",
       "    .dataframe thead th {\n",
       "        text-align: right;\n",
       "    }\n",
       "</style>\n",
       "<table border=\"1\" class=\"dataframe\">\n",
       "  <thead>\n",
       "    <tr style=\"text-align: right;\">\n",
       "      <th></th>\n",
       "      <th>idNUNIQUE</th>\n",
       "      <th>idCOUNT</th>\n",
       "      <th>brandNUNIQUE</th>\n",
       "      <th>brandCOUNT</th>\n",
       "      <th>colorNUNIQUE</th>\n",
       "      <th>colorCOUNT</th>\n",
       "      <th>sizeNUNIQUE</th>\n",
       "      <th>sizeCOUNT</th>\n",
       "      <th>modelNUNIQUE</th>\n",
       "      <th>modelCOUNT</th>\n",
       "      <th>...</th>\n",
       "      <th>len_titleMEAN</th>\n",
       "      <th>len_titleSTD</th>\n",
       "      <th>len_titleMIN</th>\n",
       "      <th>len_titleMAX</th>\n",
       "      <th>len_titleSUM</th>\n",
       "      <th>len_descMEAN</th>\n",
       "      <th>len_descSTD</th>\n",
       "      <th>len_descMIN</th>\n",
       "      <th>len_descMAX</th>\n",
       "      <th>len_descSUM</th>\n",
       "    </tr>\n",
       "    <tr>\n",
       "      <th>index</th>\n",
       "      <th></th>\n",
       "      <th></th>\n",
       "      <th></th>\n",
       "      <th></th>\n",
       "      <th></th>\n",
       "      <th></th>\n",
       "      <th></th>\n",
       "      <th></th>\n",
       "      <th></th>\n",
       "      <th></th>\n",
       "      <th></th>\n",
       "      <th></th>\n",
       "      <th></th>\n",
       "      <th></th>\n",
       "      <th></th>\n",
       "      <th></th>\n",
       "      <th></th>\n",
       "      <th></th>\n",
       "      <th></th>\n",
       "      <th></th>\n",
       "      <th></th>\n",
       "    </tr>\n",
       "  </thead>\n",
       "  <tbody>\n",
       "    <tr>\n",
       "      <th>0</th>\n",
       "      <td>2</td>\n",
       "      <td>2</td>\n",
       "      <td>1</td>\n",
       "      <td>2</td>\n",
       "      <td>2</td>\n",
       "      <td>2</td>\n",
       "      <td>1</td>\n",
       "      <td>2</td>\n",
       "      <td>1</td>\n",
       "      <td>2</td>\n",
       "      <td>...</td>\n",
       "      <td>197.500000</td>\n",
       "      <td>2.121320</td>\n",
       "      <td>196</td>\n",
       "      <td>199</td>\n",
       "      <td>395</td>\n",
       "      <td>226.500000</td>\n",
       "      <td>6.363961</td>\n",
       "      <td>222</td>\n",
       "      <td>231</td>\n",
       "      <td>453</td>\n",
       "    </tr>\n",
       "    <tr>\n",
       "      <th>1</th>\n",
       "      <td>4</td>\n",
       "      <td>4</td>\n",
       "      <td>4</td>\n",
       "      <td>4</td>\n",
       "      <td>4</td>\n",
       "      <td>4</td>\n",
       "      <td>3</td>\n",
       "      <td>4</td>\n",
       "      <td>3</td>\n",
       "      <td>4</td>\n",
       "      <td>...</td>\n",
       "      <td>122.000000</td>\n",
       "      <td>75.166482</td>\n",
       "      <td>36</td>\n",
       "      <td>195</td>\n",
       "      <td>488</td>\n",
       "      <td>126.750000</td>\n",
       "      <td>98.878292</td>\n",
       "      <td>7</td>\n",
       "      <td>222</td>\n",
       "      <td>507</td>\n",
       "    </tr>\n",
       "    <tr>\n",
       "      <th>2</th>\n",
       "      <td>2</td>\n",
       "      <td>9</td>\n",
       "      <td>1</td>\n",
       "      <td>9</td>\n",
       "      <td>1</td>\n",
       "      <td>9</td>\n",
       "      <td>1</td>\n",
       "      <td>9</td>\n",
       "      <td>1</td>\n",
       "      <td>9</td>\n",
       "      <td>...</td>\n",
       "      <td>121.111111</td>\n",
       "      <td>29.514591</td>\n",
       "      <td>90</td>\n",
       "      <td>146</td>\n",
       "      <td>1090</td>\n",
       "      <td>24.000000</td>\n",
       "      <td>0.000000</td>\n",
       "      <td>24</td>\n",
       "      <td>24</td>\n",
       "      <td>216</td>\n",
       "    </tr>\n",
       "    <tr>\n",
       "      <th>3</th>\n",
       "      <td>4</td>\n",
       "      <td>7</td>\n",
       "      <td>1</td>\n",
       "      <td>7</td>\n",
       "      <td>4</td>\n",
       "      <td>7</td>\n",
       "      <td>1</td>\n",
       "      <td>7</td>\n",
       "      <td>4</td>\n",
       "      <td>7</td>\n",
       "      <td>...</td>\n",
       "      <td>196.428571</td>\n",
       "      <td>4.466809</td>\n",
       "      <td>191</td>\n",
       "      <td>200</td>\n",
       "      <td>1375</td>\n",
       "      <td>348.714286</td>\n",
       "      <td>36.926568</td>\n",
       "      <td>314</td>\n",
       "      <td>409</td>\n",
       "      <td>2441</td>\n",
       "    </tr>\n",
       "    <tr>\n",
       "      <th>4</th>\n",
       "      <td>3</td>\n",
       "      <td>3</td>\n",
       "      <td>2</td>\n",
       "      <td>3</td>\n",
       "      <td>2</td>\n",
       "      <td>3</td>\n",
       "      <td>3</td>\n",
       "      <td>3</td>\n",
       "      <td>2</td>\n",
       "      <td>3</td>\n",
       "      <td>...</td>\n",
       "      <td>174.333333</td>\n",
       "      <td>31.785741</td>\n",
       "      <td>138</td>\n",
       "      <td>197</td>\n",
       "      <td>523</td>\n",
       "      <td>279.666667</td>\n",
       "      <td>120.088856</td>\n",
       "      <td>141</td>\n",
       "      <td>349</td>\n",
       "      <td>839</td>\n",
       "    </tr>\n",
       "  </tbody>\n",
       "</table>\n",
       "<p>5 rows × 29 columns</p>\n",
       "</div>"
      ],
      "text/plain": [
       "       idNUNIQUE  idCOUNT  brandNUNIQUE  brandCOUNT  colorNUNIQUE  colorCOUNT  \\\n",
       "index                                                                           \n",
       "0              2        2             1           2             2           2   \n",
       "1              4        4             4           4             4           4   \n",
       "2              2        9             1           9             1           9   \n",
       "3              4        7             1           7             4           7   \n",
       "4              3        3             2           3             2           3   \n",
       "\n",
       "       sizeNUNIQUE  sizeCOUNT  modelNUNIQUE  modelCOUNT  ...  len_titleMEAN  \\\n",
       "index                                                    ...                  \n",
       "0                1          2             1           2  ...     197.500000   \n",
       "1                3          4             3           4  ...     122.000000   \n",
       "2                1          9             1           9  ...     121.111111   \n",
       "3                1          7             4           7  ...     196.428571   \n",
       "4                3          3             2           3  ...     174.333333   \n",
       "\n",
       "       len_titleSTD  len_titleMIN  len_titleMAX  len_titleSUM  len_descMEAN  \\\n",
       "index                                                                         \n",
       "0          2.121320           196           199           395    226.500000   \n",
       "1         75.166482            36           195           488    126.750000   \n",
       "2         29.514591            90           146          1090     24.000000   \n",
       "3          4.466809           191           200          1375    348.714286   \n",
       "4         31.785741           138           197           523    279.666667   \n",
       "\n",
       "       len_descSTD  len_descMIN  len_descMAX  len_descSUM  \n",
       "index                                                      \n",
       "0         6.363961          222          231          453  \n",
       "1        98.878292            7          222          507  \n",
       "2         0.000000           24           24          216  \n",
       "3        36.926568          314          409         2441  \n",
       "4       120.088856          141          349          839  \n",
       "\n",
       "[5 rows x 29 columns]"
      ]
     },
     "execution_count": 53,
     "metadata": {},
     "output_type": "execute_result"
    }
   ],
   "source": [
    "df_train_seqs_feas.head()"
   ]
  },
  {
   "cell_type": "code",
   "execution_count": 54,
   "metadata": {},
   "outputs": [
    {
     "data": {
      "text/plain": [
       "(3272716, 29)"
      ]
     },
     "execution_count": 54,
     "metadata": {},
     "output_type": "execute_result"
    }
   ],
   "source": [
    "df_train_seqs_feas.shape "
   ]
  },
  {
   "cell_type": "code",
   "execution_count": 55,
   "metadata": {},
   "outputs": [],
   "source": [
    "# df_train_seqs_feas.to_csv('data/df_train_seqs_feas.csv', index=True)"
   ]
  },
  {
   "cell_type": "code",
   "execution_count": 56,
   "metadata": {},
   "outputs": [
    {
     "data": {
      "text/html": [
       "<div>\n",
       "<style scoped>\n",
       "    .dataframe tbody tr th:only-of-type {\n",
       "        vertical-align: middle;\n",
       "    }\n",
       "\n",
       "    .dataframe tbody tr th {\n",
       "        vertical-align: top;\n",
       "    }\n",
       "\n",
       "    .dataframe thead th {\n",
       "        text-align: right;\n",
       "    }\n",
       "</style>\n",
       "<table border=\"1\" class=\"dataframe\">\n",
       "  <thead>\n",
       "    <tr style=\"text-align: right;\">\n",
       "      <th></th>\n",
       "      <th></th>\n",
       "      <th>title</th>\n",
       "      <th>price</th>\n",
       "      <th>brand</th>\n",
       "      <th>color</th>\n",
       "      <th>size</th>\n",
       "      <th>model</th>\n",
       "      <th>material</th>\n",
       "      <th>author</th>\n",
       "      <th>desc</th>\n",
       "      <th>len_title</th>\n",
       "      <th>len_desc</th>\n",
       "    </tr>\n",
       "    <tr>\n",
       "      <th>id</th>\n",
       "      <th>locale</th>\n",
       "      <th></th>\n",
       "      <th></th>\n",
       "      <th></th>\n",
       "      <th></th>\n",
       "      <th></th>\n",
       "      <th></th>\n",
       "      <th></th>\n",
       "      <th></th>\n",
       "      <th></th>\n",
       "      <th></th>\n",
       "      <th></th>\n",
       "    </tr>\n",
       "  </thead>\n",
       "  <tbody>\n",
       "    <tr>\n",
       "      <th>B005ZSSN10</th>\n",
       "      <th>DE</th>\n",
       "      <td>RED DRAGON Amberjack 3 - Steel Tip 22 Gramm Wo...</td>\n",
       "      <td>30.95</td>\n",
       "      <td>105804</td>\n",
       "      <td>199923</td>\n",
       "      <td>213319</td>\n",
       "      <td>399670</td>\n",
       "      <td>44782</td>\n",
       "      <td>29259</td>\n",
       "      <td>Amberjacks Steel Dartpfeile sind verfügbar in ...</td>\n",
       "      <td>96</td>\n",
       "      <td>121</td>\n",
       "    </tr>\n",
       "    <tr>\n",
       "      <th>B08PRYN6LD</th>\n",
       "      <th>DE</th>\n",
       "      <td>Simply Keto Lower Carb* Schokodrops ohne Zucke...</td>\n",
       "      <td>17.90</td>\n",
       "      <td>117662</td>\n",
       "      <td>199923</td>\n",
       "      <td>124815</td>\n",
       "      <td>492997</td>\n",
       "      <td>44782</td>\n",
       "      <td>29259</td>\n",
       "      <td>🌱 NATÜRLICHE SÜSSE DURCH ERYTHRIT - Wir stelle...</td>\n",
       "      <td>186</td>\n",
       "      <td>330</td>\n",
       "    </tr>\n",
       "    <tr>\n",
       "      <th>B09MBZJ48V</th>\n",
       "      <th>DE</th>\n",
       "      <td>Sennheiser 508377 PC 5.2 Chat, Stilvolles Mult...</td>\n",
       "      <td>68.89</td>\n",
       "      <td>116175</td>\n",
       "      <td>112280</td>\n",
       "      <td>166049</td>\n",
       "      <td>135239</td>\n",
       "      <td>15196</td>\n",
       "      <td>29259</td>\n",
       "      <td>3.5 MM BUCHSE - Kann problemlos an Geräte mit ...</td>\n",
       "      <td>181</td>\n",
       "      <td>95</td>\n",
       "    </tr>\n",
       "    <tr>\n",
       "      <th>B08ZN6F26S</th>\n",
       "      <th>DE</th>\n",
       "      <td>AmyBenton Auto ab 1 2 3 ahre - Baby Aufziehbar...</td>\n",
       "      <td>18.99</td>\n",
       "      <td>9251</td>\n",
       "      <td>46812</td>\n",
       "      <td>213319</td>\n",
       "      <td>62805</td>\n",
       "      <td>28665</td>\n",
       "      <td>29259</td>\n",
       "      <td>【Auto aufziehbar】: Drücken Sie einfach leicht ...</td>\n",
       "      <td>101</td>\n",
       "      <td>191</td>\n",
       "    </tr>\n",
       "    <tr>\n",
       "      <th>B094DGRV7D</th>\n",
       "      <th>DE</th>\n",
       "      <td>PLAYMOBIL - 70522 - Cavaliere mit grauem Pony</td>\n",
       "      <td>7.17</td>\n",
       "      <td>99190</td>\n",
       "      <td>115345</td>\n",
       "      <td>166088</td>\n",
       "      <td>162740</td>\n",
       "      <td>22373</td>\n",
       "      <td>29259</td>\n",
       "      <td>Inhalt: 1 Stück</td>\n",
       "      <td>45</td>\n",
       "      <td>15</td>\n",
       "    </tr>\n",
       "    <tr>\n",
       "      <th>...</th>\n",
       "      <th>...</th>\n",
       "      <td>...</td>\n",
       "      <td>...</td>\n",
       "      <td>...</td>\n",
       "      <td>...</td>\n",
       "      <td>...</td>\n",
       "      <td>...</td>\n",
       "      <td>...</td>\n",
       "      <td>...</td>\n",
       "      <td>...</td>\n",
       "      <td>...</td>\n",
       "      <td>...</td>\n",
       "    </tr>\n",
       "    <tr>\n",
       "      <th>B08D7KW8VK</th>\n",
       "      <th>UK</th>\n",
       "      <td>TOMHOUSEE Anime Cosplay Short Straight Hair Wi...</td>\n",
       "      <td>9.99</td>\n",
       "      <td>123307</td>\n",
       "      <td>75921</td>\n",
       "      <td>213319</td>\n",
       "      <td>492997</td>\n",
       "      <td>26052</td>\n",
       "      <td>29259</td>\n",
       "      <td>NaN</td>\n",
       "      <td>124</td>\n",
       "      <td>0</td>\n",
       "    </tr>\n",
       "    <tr>\n",
       "      <th>B073WXLXR9</th>\n",
       "      <th>UK</th>\n",
       "      <td>Crystals NEW brilliant ink twister bingo dabbe...</td>\n",
       "      <td>8.99</td>\n",
       "      <td>25194</td>\n",
       "      <td>118197</td>\n",
       "      <td>213319</td>\n",
       "      <td>492997</td>\n",
       "      <td>20933</td>\n",
       "      <td>29259</td>\n",
       "      <td>NaN</td>\n",
       "      <td>85</td>\n",
       "      <td>0</td>\n",
       "    </tr>\n",
       "    <tr>\n",
       "      <th>1529393833</th>\n",
       "      <th>UK</th>\n",
       "      <td>Before I Do: the new, funny and unexpected lov...</td>\n",
       "      <td>4.50</td>\n",
       "      <td>61247</td>\n",
       "      <td>199923</td>\n",
       "      <td>213319</td>\n",
       "      <td>492997</td>\n",
       "      <td>44782</td>\n",
       "      <td>6063</td>\n",
       "      <td>NaN</td>\n",
       "      <td>92</td>\n",
       "      <td>0</td>\n",
       "    </tr>\n",
       "    <tr>\n",
       "      <th>B0B3TJ1NDN</th>\n",
       "      <th>UK</th>\n",
       "      <td>Black iPhone Charger Cable, iPhone Charger Bra...</td>\n",
       "      <td>4.49</td>\n",
       "      <td>1865</td>\n",
       "      <td>54264</td>\n",
       "      <td>68445</td>\n",
       "      <td>476825</td>\n",
       "      <td>18715</td>\n",
       "      <td>29259</td>\n",
       "      <td>Added Protection: An additional layer of prote...</td>\n",
       "      <td>172</td>\n",
       "      <td>186</td>\n",
       "    </tr>\n",
       "    <tr>\n",
       "      <th>B00HUBEG3Y</th>\n",
       "      <th>UK</th>\n",
       "      <td>Kids B Crafty 100 Mini Pegs, Mini Wooden Pegs,...</td>\n",
       "      <td>3.99</td>\n",
       "      <td>72972</td>\n",
       "      <td>199923</td>\n",
       "      <td>213319</td>\n",
       "      <td>492997</td>\n",
       "      <td>7144</td>\n",
       "      <td>29259</td>\n",
       "      <td>🔵 Mini Pegs : 100 Wooden Pegs For Decoration, ...</td>\n",
       "      <td>129</td>\n",
       "      <td>77</td>\n",
       "    </tr>\n",
       "  </tbody>\n",
       "</table>\n",
       "<p>1413516 rows × 11 columns</p>\n",
       "</div>"
      ],
      "text/plain": [
       "                                                               title  price  \\\n",
       "id         locale                                                             \n",
       "B005ZSSN10 DE      RED DRAGON Amberjack 3 - Steel Tip 22 Gramm Wo...  30.95   \n",
       "B08PRYN6LD DE      Simply Keto Lower Carb* Schokodrops ohne Zucke...  17.90   \n",
       "B09MBZJ48V DE      Sennheiser 508377 PC 5.2 Chat, Stilvolles Mult...  68.89   \n",
       "B08ZN6F26S DE      AmyBenton Auto ab 1 2 3 ahre - Baby Aufziehbar...  18.99   \n",
       "B094DGRV7D DE          PLAYMOBIL - 70522 - Cavaliere mit grauem Pony   7.17   \n",
       "...                                                              ...    ...   \n",
       "B08D7KW8VK UK      TOMHOUSEE Anime Cosplay Short Straight Hair Wi...   9.99   \n",
       "B073WXLXR9 UK      Crystals NEW brilliant ink twister bingo dabbe...   8.99   \n",
       "1529393833 UK      Before I Do: the new, funny and unexpected lov...   4.50   \n",
       "B0B3TJ1NDN UK      Black iPhone Charger Cable, iPhone Charger Bra...   4.49   \n",
       "B00HUBEG3Y UK      Kids B Crafty 100 Mini Pegs, Mini Wooden Pegs,...   3.99   \n",
       "\n",
       "                    brand   color    size   model  material  author  \\\n",
       "id         locale                                                     \n",
       "B005ZSSN10 DE      105804  199923  213319  399670     44782   29259   \n",
       "B08PRYN6LD DE      117662  199923  124815  492997     44782   29259   \n",
       "B09MBZJ48V DE      116175  112280  166049  135239     15196   29259   \n",
       "B08ZN6F26S DE        9251   46812  213319   62805     28665   29259   \n",
       "B094DGRV7D DE       99190  115345  166088  162740     22373   29259   \n",
       "...                   ...     ...     ...     ...       ...     ...   \n",
       "B08D7KW8VK UK      123307   75921  213319  492997     26052   29259   \n",
       "B073WXLXR9 UK       25194  118197  213319  492997     20933   29259   \n",
       "1529393833 UK       61247  199923  213319  492997     44782    6063   \n",
       "B0B3TJ1NDN UK        1865   54264   68445  476825     18715   29259   \n",
       "B00HUBEG3Y UK       72972  199923  213319  492997      7144   29259   \n",
       "\n",
       "                                                                desc  \\\n",
       "id         locale                                                      \n",
       "B005ZSSN10 DE      Amberjacks Steel Dartpfeile sind verfügbar in ...   \n",
       "B08PRYN6LD DE      🌱 NATÜRLICHE SÜSSE DURCH ERYTHRIT - Wir stelle...   \n",
       "B09MBZJ48V DE      3.5 MM BUCHSE - Kann problemlos an Geräte mit ...   \n",
       "B08ZN6F26S DE      【Auto aufziehbar】: Drücken Sie einfach leicht ...   \n",
       "B094DGRV7D DE                                        Inhalt: 1 Stück   \n",
       "...                                                              ...   \n",
       "B08D7KW8VK UK                                                    NaN   \n",
       "B073WXLXR9 UK                                                    NaN   \n",
       "1529393833 UK                                                    NaN   \n",
       "B0B3TJ1NDN UK      Added Protection: An additional layer of prote...   \n",
       "B00HUBEG3Y UK      🔵 Mini Pegs : 100 Wooden Pegs For Decoration, ...   \n",
       "\n",
       "                   len_title  len_desc  \n",
       "id         locale                       \n",
       "B005ZSSN10 DE             96       121  \n",
       "B08PRYN6LD DE            186       330  \n",
       "B09MBZJ48V DE            181        95  \n",
       "B08ZN6F26S DE            101       191  \n",
       "B094DGRV7D DE             45        15  \n",
       "...                      ...       ...  \n",
       "B08D7KW8VK UK            124         0  \n",
       "B073WXLXR9 UK             85         0  \n",
       "1529393833 UK             92         0  \n",
       "B0B3TJ1NDN UK            172       186  \n",
       "B00HUBEG3Y UK            129        77  \n",
       "\n",
       "[1413516 rows x 11 columns]"
      ]
     },
     "execution_count": 56,
     "metadata": {},
     "output_type": "execute_result"
    }
   ],
   "source": [
    "products"
   ]
  },
  {
   "cell_type": "code",
   "execution_count": 57,
   "metadata": {},
   "outputs": [
    {
     "data": {
      "text/plain": [
       "Index(['title', 'price', 'brand', 'color', 'size', 'model', 'material',\n",
       "       'author', 'desc', 'len_title', 'len_desc'],\n",
       "      dtype='object')"
      ]
     },
     "execution_count": 57,
     "metadata": {},
     "output_type": "execute_result"
    }
   ],
   "source": [
    "products.columns"
   ]
  },
  {
   "cell_type": "code",
   "execution_count": 58,
   "metadata": {},
   "outputs": [],
   "source": [
    "products_use = products[['price', 'brand', 'color', 'size', 'model', 'material', 'author', 'len_title', 'len_desc']]"
   ]
  },
  {
   "cell_type": "code",
   "execution_count": 59,
   "metadata": {},
   "outputs": [
    {
     "data": {
      "text/plain": [
       "[30.95, 105804.0, 199923.0, 213319.0, 399670.0, 44782.0, 29259.0, 96.0, 121.0]"
      ]
     },
     "execution_count": 59,
     "metadata": {},
     "output_type": "execute_result"
    }
   ],
   "source": [
    "products_use.loc[('B005ZSSN10', 'DE')].values.tolist()"
   ]
  },
  {
   "attachments": {},
   "cell_type": "markdown",
   "metadata": {},
   "source": [
    "# 排序"
   ]
  },
  {
   "cell_type": "code",
   "execution_count": 60,
   "metadata": {},
   "outputs": [],
   "source": [
    "# def get_feature(index, train_seq, seq_featurs_index):\n",
    "#     train_fea = []\n",
    "\n",
    "#     label = train_seq['next_item'].iloc[0]\n",
    "#     last_item = df_train['last_item'].iloc[0]\n",
    "#     if last_item in next_item_map:\n",
    "#         next_item_prediction = next_item_map[last_item]\n",
    "#     else:\n",
    "#         next_item_prediction = []\n",
    "#     # print(next_item_prediction)\n",
    "#     prev_items = list(train_seq['id'])\n",
    "#     locale = train_seq['locale'].iloc[0]\n",
    "#     loc_id = loc2id[locale]  # 地区ID\n",
    "\n",
    "#     candidate_id = []\n",
    "#     candidate_id = next_item_prediction  # 1-hop预测的结果\n",
    "#     if len(next_item_prediction) == 0:  # pred=nan, 训练集的last_item在之间没有统计出来下一跳，此时用最热门代替\n",
    "#         candidate_id = top200[:100]\n",
    "#     else:\n",
    "#         if len(candidate_id) < 100:  # 小于100，从最热门选\n",
    "#             for i in top200:\n",
    "#                 if i not in candidate_id and i not in prev_items:\n",
    "#                     candidate_id.append(i)\n",
    "#                 if len(candidate_id) >= 100:\n",
    "#                     break\n",
    "#         else:\n",
    "#             candidate_id = candidate_id[:100]\n",
    "#     # 其他召回策略，比如hop200, w2v等\n",
    "#     # 另外，这个位置的写法之后改成芒果TV的做法，比如nan的时候直接top200也可能会有历史重复的物品，这样不太好！！！\n",
    "#     # 目前先验证这个固定的召回+排序之后会不会编号\n",
    "    \n",
    "#     # 构造一些序列特征 根据历史的seq，就是seq_featurs_index\n",
    "    \n",
    "#     # TODO: 加入item本身的特征 通过连表操作\n",
    "#     # TODO: 候选集太多，数据量太大了，sample 3个负样本算了\n",
    "#     if label not in candidate_id:\n",
    "#         sample = candidate_id[:5]\n",
    "#         #sample = np.random.choice(candidate_id, size=3, replace=False).tolist()\n",
    "#     else:\n",
    "#         candidate_id.remove(label)\n",
    "#         sample = candidate_id[:5]\n",
    "#         #sample = np.random.choice(candidate_id, size=3, replace=False).tolist()\n",
    "#     sample.append(label)\n",
    "#     for vid in sample:\n",
    "#         if vid == label:\n",
    "#             lbl = 1\n",
    "#         else:\n",
    "#             lbl = 0\n",
    "#         # print(vid, locale)\n",
    "#         try:\n",
    "#             tmp = products.loc[(vid, locale)]  # 产品特征\n",
    "#             item_price = tmp.price\n",
    "#             item_brand = tmp.brand \n",
    "#             item_color = tmp.color \n",
    "#             item_size = tmp.size \n",
    "#             item_model = tmp.model \n",
    "#             item_material = tmp.material \n",
    "#             item_author = tmp.author \n",
    "#         except:\n",
    "#             continue\n",
    "        \n",
    "#         feat = [\n",
    "#             # index,  这个比赛没有用户ID这一个特征！\n",
    "#             int(vid in prev_items),  # 候选的vid是否出现在历史购买的序列中\n",
    "#             int(vid in next_item_prediction),  # 候选的vid是否出现在上次购买产品的下一跳序列中\n",
    "#             loc_id,\n",
    "#             item_price,\n",
    "#             item_brand,\n",
    "#             item_color,\n",
    "#             item_size,\n",
    "#             item_model,\n",
    "#             item_material,\n",
    "#             item_author,\n",
    "#             # 其他特征\n",
    "#         ]\n",
    "#         feat += seq_featurs_index\n",
    "#         # try:\n",
    "#         #     feat.append(vid_w2v.wv.similarity(vid, last1_vid))\n",
    "#         # except:\n",
    "#         #     feat.append(0)\n",
    "#         feat.append(lbl)\n",
    "#         train_fea.append(feat)\n",
    "#     return train_fea"
   ]
  },
  {
   "cell_type": "code",
   "execution_count": 61,
   "metadata": {},
   "outputs": [],
   "source": [
    "# a = get_feature(0, df_train_exploded_fea[:2], df_train_seqs_feas.loc[0].values.tolist())"
   ]
  },
  {
   "attachments": {},
   "cell_type": "markdown",
   "metadata": {},
   "source": [
    "训练特征"
   ]
  },
  {
   "cell_type": "code",
   "execution_count": 62,
   "metadata": {},
   "outputs": [],
   "source": [
    "def get_train_feature(index, train_seq, seq_featurs_index, products_feas):\n",
    "    train_fea = []\n",
    "\n",
    "    label = train_seq['next_item'].iloc[0]\n",
    "    prev_items = list(train_seq['id'])\n",
    "    locale = train_seq['locale'].iloc[0]\n",
    "    loc_id = loc2id[locale]  # 地区ID\n",
    "\n",
    "    candidate_id = train_preds[index]\n",
    "    # 其他召回策略，比如hop200, w2v等\n",
    "    # 另外，这个位置的写法之后改成芒果TV的做法，比如nan的时候直接top200也可能会有历史重复的物品，这样不太好！！！\n",
    "    # 目前先验证这个固定的召回+排序之后会不会编号\n",
    "    \n",
    "    # 构造一些序列特征 根据历史的seq，就是seq_featurs_index\n",
    "    \n",
    "    # TODO: 候选集太多，数据量太大了，sample 5个负样本算了\n",
    "    if label in candidate_id:\n",
    "        candidate_id.remove(label)\n",
    "    \n",
    "    # 5个负样本\n",
    "    cnt = 0\n",
    "    for vid in candidate_id:\n",
    "        try:\n",
    "            pro_feas_index = products_feas.loc[(vid, locale)].values.tolist()  # 产品特征\n",
    "            cnt += 1\n",
    "            if cnt > 5:\n",
    "                break\n",
    "        except:\n",
    "            continue\n",
    "        \n",
    "        feat = [\n",
    "            # index,  这个比赛没有用户ID这一个特征！\n",
    "            int(vid in prev_items),  # 候选的vid是否出现在历史购买的序列中\n",
    "            loc_id,\n",
    "            # 其他特征\n",
    "        ]\n",
    "        feat += pro_feas_index\n",
    "        feat += seq_featurs_index\n",
    "        # try:\n",
    "        #     feat.append(vid_w2v.wv.similarity(vid, last1_vid))\n",
    "        # except:\n",
    "        #     feat.append(0)\n",
    "        feat.append(0)  # label\n",
    "        train_fea.append(feat)\n",
    "    \n",
    "    # 正样本\n",
    "    vid = label\n",
    "    try:\n",
    "        pro_feas_index = products_feas.loc[(vid, locale)].values.tolist()  # 产品特征\n",
    "    except:\n",
    "        print(vid, locale)\n",
    "        \n",
    "    feat = [\n",
    "        # index,  这个比赛没有用户ID这一个特征！\n",
    "        int(vid in prev_items),  # 候选的vid是否出现在历史购买的序列中\n",
    "        loc_id,\n",
    "        # 其他特征\n",
    "    ]\n",
    "    feat += pro_feas_index\n",
    "    feat += seq_featurs_index\n",
    "    # try:\n",
    "    #     feat.append(vid_w2v.wv.similarity(vid, last1_vid))\n",
    "    # except:\n",
    "    #     feat.append(0)\n",
    "    feat.append(1)  # label\n",
    "    train_fea.append(feat)\n",
    "    return train_fea"
   ]
  },
  {
   "cell_type": "code",
   "execution_count": 74,
   "metadata": {},
   "outputs": [
    {
     "name": "stderr",
     "output_type": "stream",
     "text": [
      "100%|██████████| 3272716/3272716 [6:13:14<00:00, 146.14it/s]   \n"
     ]
    }
   ],
   "source": [
    "# train_fea = []\n",
    "# df_train_len = df_train_exploded_fea['index'].nunique()\n",
    "# for ind, train_seq_index in tqdm(df_train_exploded_fea.groupby('index'), total=df_train_len):\n",
    "#     train_fea_in = get_train_feature(ind, train_seq_index, df_train_seqs_feas.loc[ind].values.tolist(), products_feas=products_use)\n",
    "#     train_fea += train_fea_in"
   ]
  },
  {
   "cell_type": "code",
   "execution_count": 75,
   "metadata": {},
   "outputs": [],
   "source": [
    "np.save('./data/train_features.npy', train_fea)"
   ]
  },
  {
   "cell_type": "code",
   "execution_count": 60,
   "metadata": {},
   "outputs": [],
   "source": [
    "train_fea = np.load('./data/train_features.npy')"
   ]
  },
  {
   "cell_type": "code",
   "execution_count": 61,
   "metadata": {},
   "outputs": [
    {
     "data": {
      "text/plain": [
       "(19636288, 41)"
      ]
     },
     "execution_count": 61,
     "metadata": {},
     "output_type": "execute_result"
    }
   ],
   "source": [
    "train_fea.shape "
   ]
  },
  {
   "cell_type": "code",
   "execution_count": 62,
   "metadata": {},
   "outputs": [],
   "source": [
    "train_columns = ['vid_in_his', 'loc_id'] + list(products_use.columns) + list(df_train_seqs_feas.columns) + ['label']"
   ]
  },
  {
   "cell_type": "code",
   "execution_count": 63,
   "metadata": {},
   "outputs": [
    {
     "name": "stdout",
     "output_type": "stream",
     "text": [
      "0.0    0.833333\n",
      "1.0    0.166667\n",
      "Name: label, dtype: float64\n"
     ]
    }
   ],
   "source": [
    "train_fea = pd.DataFrame(train_fea, columns=train_columns)\n",
    "train_fea = train_fea.fillna(0)\n",
    "print(train_fea.iloc[:, -1].value_counts(normalize=True))"
   ]
  },
  {
   "cell_type": "code",
   "execution_count": 69,
   "metadata": {},
   "outputs": [],
   "source": [
    "for col in train_fea.columns:\n",
    "    if col in cat_features:\n",
    "        train_fea[col] = train_fea[col].astype('int64')\n",
    "    else:\n",
    "        train_fea[col] = train_fea[col].astype('float64')"
   ]
  },
  {
   "attachments": {},
   "cell_type": "markdown",
   "metadata": {},
   "source": [
    "测试特征"
   ]
  },
  {
   "cell_type": "code",
   "execution_count": 66,
   "metadata": {},
   "outputs": [],
   "source": [
    "def get_test_feature(index, test_seq, seq_featurs_index, products_feas):\n",
    "    test_fea = []\n",
    "\n",
    "    prev_items = list(test_seq['id'])\n",
    "    locale = test_seq['locale'].iloc[0]\n",
    "    loc_id = loc2id[locale]  # 地区ID\n",
    "\n",
    "    candidate_id = test_preds[index]\n",
    "    # 其他召回策略，比如hop200, w2v等\n",
    "    # 另外，这个位置的写法之后改成芒果TV的做法，比如nan的时候直接top200也可能会有历史重复的物品，这样不太好！！！\n",
    "    # 目前先验证这个固定的召回+排序之后会不会编号\n",
    "    \n",
    "    # 构造一些序列特征 根据历史的seq，就是seq_featurs_index\n",
    "    \n",
    "    cnt = 0\n",
    "    for vid in candidate_id:\n",
    "        try:\n",
    "            pro_feas_index = products_feas.loc[(vid, locale)].values.tolist()  # 产品特征\n",
    "            cnt += 1\n",
    "            if cnt > 10:\n",
    "                break\n",
    "        except:\n",
    "            continue  # TODO: continue的话，概率怎么跟vid对应\n",
    "        \n",
    "        feat = [\n",
    "            # index,  这个比赛没有用户ID这一个特征！\n",
    "            vid,\n",
    "            int(vid in prev_items),  # 候选的vid是否出现在历史购买的序列中\n",
    "            loc_id,\n",
    "            # 其他特征\n",
    "        ]\n",
    "        feat += pro_feas_index\n",
    "        feat += seq_featurs_index\n",
    "        # try:\n",
    "        #     feat.append(vid_w2v.wv.similarity(vid, last1_vid))\n",
    "        # except:\n",
    "        #     feat.append(0)\n",
    "        # feat.append(0)  # label\n",
    "        test_fea.append(feat)\n",
    "    return test_fea"
   ]
  },
  {
   "cell_type": "code",
   "execution_count": 77,
   "metadata": {},
   "outputs": [
    {
     "name": "stderr",
     "output_type": "stream",
     "text": [
      "  9%|▉         | 28431/316971 [03:01<40:33, 118.58it/s]"
     ]
    }
   ],
   "source": [
    "test_fea = []\n",
    "df_test_len = df_test_exploded_fea['index'].nunique()\n",
    "for ind, test_seq_index in tqdm(df_test_exploded_fea.groupby('index'), total=df_test_len):\n",
    "    test_fea_in = get_test_feature(ind, test_seq_index, df_test_seqs_feas.loc[ind].values.tolist(), products_feas=products_use)\n",
    "    test_fea += test_fea_in"
   ]
  },
  {
   "cell_type": "code",
   "execution_count": null,
   "metadata": {},
   "outputs": [],
   "source": [
    "np.save('./data/test_features_10.npy', test_fea)"
   ]
  },
  {
   "cell_type": "code",
   "execution_count": 67,
   "metadata": {},
   "outputs": [],
   "source": [
    "test_fea = np.load('./data/test_features_10.npy')"
   ]
  },
  {
   "cell_type": "code",
   "execution_count": 64,
   "metadata": {},
   "outputs": [],
   "source": [
    "test_fea = np.load('./data/test_features_10_withID.npy', allow_pickle=True)"
   ]
  },
  {
   "cell_type": "code",
   "execution_count": 65,
   "metadata": {},
   "outputs": [],
   "source": [
    "test_columns = ['vid', 'index', 'vid_in_his', 'loc_id'] + list(products_use.columns) + list(df_train_seqs_feas.columns)"
   ]
  },
  {
   "cell_type": "code",
   "execution_count": 66,
   "metadata": {},
   "outputs": [],
   "source": [
    "test_fea = pd.DataFrame(test_fea, columns=test_columns)\n",
    "test_fea = test_fea.fillna(0)"
   ]
  },
  {
   "cell_type": "code",
   "execution_count": 67,
   "metadata": {},
   "outputs": [],
   "source": [
    "test_fea['index'] = test_fea['index'].astype('int64')\n",
    "for col in test_fea.columns[2:]:\n",
    "    if col in cat_features:\n",
    "        test_fea[col] = test_fea[col].astype('int64')\n",
    "    else:\n",
    "        test_fea[col] = test_fea[col].astype('float64')"
   ]
  },
  {
   "cell_type": "code",
   "execution_count": 68,
   "metadata": {},
   "outputs": [
    {
     "data": {
      "text/html": [
       "<div>\n",
       "<style scoped>\n",
       "    .dataframe tbody tr th:only-of-type {\n",
       "        vertical-align: middle;\n",
       "    }\n",
       "\n",
       "    .dataframe tbody tr th {\n",
       "        vertical-align: top;\n",
       "    }\n",
       "\n",
       "    .dataframe thead th {\n",
       "        text-align: right;\n",
       "    }\n",
       "</style>\n",
       "<table border=\"1\" class=\"dataframe\">\n",
       "  <thead>\n",
       "    <tr style=\"text-align: right;\">\n",
       "      <th></th>\n",
       "      <th>vid</th>\n",
       "      <th>index</th>\n",
       "      <th>vid_in_his</th>\n",
       "      <th>loc_id</th>\n",
       "      <th>price</th>\n",
       "      <th>brand</th>\n",
       "      <th>color</th>\n",
       "      <th>size</th>\n",
       "      <th>model</th>\n",
       "      <th>material</th>\n",
       "      <th>...</th>\n",
       "      <th>len_titleMEAN</th>\n",
       "      <th>len_titleSTD</th>\n",
       "      <th>len_titleMIN</th>\n",
       "      <th>len_titleMAX</th>\n",
       "      <th>len_titleSUM</th>\n",
       "      <th>len_descMEAN</th>\n",
       "      <th>len_descSTD</th>\n",
       "      <th>len_descMIN</th>\n",
       "      <th>len_descMAX</th>\n",
       "      <th>len_descSUM</th>\n",
       "    </tr>\n",
       "  </thead>\n",
       "  <tbody>\n",
       "    <tr>\n",
       "      <th>0</th>\n",
       "      <td>B099NS1XPG</td>\n",
       "      <td>0</td>\n",
       "      <td>0.0</td>\n",
       "      <td>0.0</td>\n",
       "      <td>39.99</td>\n",
       "      <td>21236</td>\n",
       "      <td>152211</td>\n",
       "      <td>213319</td>\n",
       "      <td>161238</td>\n",
       "      <td>44782</td>\n",
       "      <td>...</td>\n",
       "      <td>163.333333</td>\n",
       "      <td>24.436684</td>\n",
       "      <td>126.0</td>\n",
       "      <td>195.0</td>\n",
       "      <td>1960.0</td>\n",
       "      <td>173.583333</td>\n",
       "      <td>34.057327</td>\n",
       "      <td>120.0</td>\n",
       "      <td>210.0</td>\n",
       "      <td>2083.0</td>\n",
       "    </tr>\n",
       "    <tr>\n",
       "      <th>1</th>\n",
       "      <td>B08496TCCQ</td>\n",
       "      <td>0</td>\n",
       "      <td>1.0</td>\n",
       "      <td>0.0</td>\n",
       "      <td>40000000.07</td>\n",
       "      <td>21236</td>\n",
       "      <td>133489</td>\n",
       "      <td>213319</td>\n",
       "      <td>161226</td>\n",
       "      <td>44782</td>\n",
       "      <td>...</td>\n",
       "      <td>163.333333</td>\n",
       "      <td>24.436684</td>\n",
       "      <td>126.0</td>\n",
       "      <td>195.0</td>\n",
       "      <td>1960.0</td>\n",
       "      <td>173.583333</td>\n",
       "      <td>34.057327</td>\n",
       "      <td>120.0</td>\n",
       "      <td>210.0</td>\n",
       "      <td>2083.0</td>\n",
       "    </tr>\n",
       "    <tr>\n",
       "      <th>2</th>\n",
       "      <td>B01BVG1XJS</td>\n",
       "      <td>0</td>\n",
       "      <td>1.0</td>\n",
       "      <td>0.0</td>\n",
       "      <td>19.95</td>\n",
       "      <td>21236</td>\n",
       "      <td>152211</td>\n",
       "      <td>90884</td>\n",
       "      <td>161227</td>\n",
       "      <td>15295</td>\n",
       "      <td>...</td>\n",
       "      <td>163.333333</td>\n",
       "      <td>24.436684</td>\n",
       "      <td>126.0</td>\n",
       "      <td>195.0</td>\n",
       "      <td>1960.0</td>\n",
       "      <td>173.583333</td>\n",
       "      <td>34.057327</td>\n",
       "      <td>120.0</td>\n",
       "      <td>210.0</td>\n",
       "      <td>2083.0</td>\n",
       "    </tr>\n",
       "    <tr>\n",
       "      <th>3</th>\n",
       "      <td>B099NR3X6D</td>\n",
       "      <td>0</td>\n",
       "      <td>0.0</td>\n",
       "      <td>0.0</td>\n",
       "      <td>32.99</td>\n",
       "      <td>21236</td>\n",
       "      <td>133489</td>\n",
       "      <td>213319</td>\n",
       "      <td>161237</td>\n",
       "      <td>44782</td>\n",
       "      <td>...</td>\n",
       "      <td>163.333333</td>\n",
       "      <td>24.436684</td>\n",
       "      <td>126.0</td>\n",
       "      <td>195.0</td>\n",
       "      <td>1960.0</td>\n",
       "      <td>173.583333</td>\n",
       "      <td>34.057327</td>\n",
       "      <td>120.0</td>\n",
       "      <td>210.0</td>\n",
       "      <td>2083.0</td>\n",
       "    </tr>\n",
       "    <tr>\n",
       "      <th>4</th>\n",
       "      <td>B09WDSH4CD</td>\n",
       "      <td>0</td>\n",
       "      <td>0.0</td>\n",
       "      <td>0.0</td>\n",
       "      <td>24.99</td>\n",
       "      <td>131540</td>\n",
       "      <td>152211</td>\n",
       "      <td>213319</td>\n",
       "      <td>492997</td>\n",
       "      <td>44782</td>\n",
       "      <td>...</td>\n",
       "      <td>163.333333</td>\n",
       "      <td>24.436684</td>\n",
       "      <td>126.0</td>\n",
       "      <td>195.0</td>\n",
       "      <td>1960.0</td>\n",
       "      <td>173.583333</td>\n",
       "      <td>34.057327</td>\n",
       "      <td>120.0</td>\n",
       "      <td>210.0</td>\n",
       "      <td>2083.0</td>\n",
       "    </tr>\n",
       "  </tbody>\n",
       "</table>\n",
       "<p>5 rows × 42 columns</p>\n",
       "</div>"
      ],
      "text/plain": [
       "          vid  index  vid_in_his  loc_id        price   brand   color    size  \\\n",
       "0  B099NS1XPG      0         0.0     0.0        39.99   21236  152211  213319   \n",
       "1  B08496TCCQ      0         1.0     0.0  40000000.07   21236  133489  213319   \n",
       "2  B01BVG1XJS      0         1.0     0.0        19.95   21236  152211   90884   \n",
       "3  B099NR3X6D      0         0.0     0.0        32.99   21236  133489  213319   \n",
       "4  B09WDSH4CD      0         0.0     0.0        24.99  131540  152211  213319   \n",
       "\n",
       "    model  material  ...  len_titleMEAN  len_titleSTD  len_titleMIN  \\\n",
       "0  161238     44782  ...     163.333333     24.436684         126.0   \n",
       "1  161226     44782  ...     163.333333     24.436684         126.0   \n",
       "2  161227     15295  ...     163.333333     24.436684         126.0   \n",
       "3  161237     44782  ...     163.333333     24.436684         126.0   \n",
       "4  492997     44782  ...     163.333333     24.436684         126.0   \n",
       "\n",
       "   len_titleMAX  len_titleSUM  len_descMEAN  len_descSTD  len_descMIN  \\\n",
       "0         195.0        1960.0    173.583333    34.057327        120.0   \n",
       "1         195.0        1960.0    173.583333    34.057327        120.0   \n",
       "2         195.0        1960.0    173.583333    34.057327        120.0   \n",
       "3         195.0        1960.0    173.583333    34.057327        120.0   \n",
       "4         195.0        1960.0    173.583333    34.057327        120.0   \n",
       "\n",
       "   len_descMAX  len_descSUM  \n",
       "0        210.0       2083.0  \n",
       "1        210.0       2083.0  \n",
       "2        210.0       2083.0  \n",
       "3        210.0       2083.0  \n",
       "4        210.0       2083.0  \n",
       "\n",
       "[5 rows x 42 columns]"
      ]
     },
     "execution_count": 68,
     "metadata": {},
     "output_type": "execute_result"
    }
   ],
   "source": [
    "test_fea.head()"
   ]
  },
  {
   "attachments": {},
   "cell_type": "markdown",
   "metadata": {},
   "source": [
    "交叉验证"
   ]
  },
  {
   "cell_type": "code",
   "execution_count": 71,
   "metadata": {},
   "outputs": [],
   "source": [
    "seed = 2023\n",
    "kfold = 5"
   ]
  },
  {
   "cell_type": "code",
   "execution_count": 75,
   "metadata": {},
   "outputs": [],
   "source": [
    "lgb_params = {\n",
    "    'objective': 'binary',\n",
    "    'boosting_type': 'gbdt',\n",
    "    # 'metric': 'binary_logloss',  # auc??\n",
    "    'metric': 'auc',\n",
    "    'learning_rate': 0.05,\n",
    "    'num_leaves': 2 ** 6,\n",
    "    'max_depth': 8,\n",
    "    'tree_learner': 'serial',\n",
    "    'colsample_bytree': 0.8,\n",
    "    'subsample_freq': 1,\n",
    "    'subsample': 0.8,\n",
    "    'num_boost_round': 3000,\n",
    "    'max_bin': 255,\n",
    "    'verbose': -1,\n",
    "    'nthread' : -1,\n",
    "    'seed': seed,\n",
    "    'bagging_seed': seed,\n",
    "    'feature_fraction_seed': seed,\n",
    "    'early_stopping_rounds': 100,\n",
    "    # 'device': 'gpu',  # 设置使用 GPU 加速\n",
    "    # 'gpu_platform_id': 0,  # 设置 GPU 平台 id\n",
    "    # 'gpu_device_id': 0  # 设置 GPU 设备 id\n",
    "}"
   ]
  },
  {
   "cell_type": "code",
   "execution_count": 76,
   "metadata": {},
   "outputs": [],
   "source": [
    "# TODO: 训练集最后一列去掉是label，测试集第一列去掉是vid"
   ]
  },
  {
   "cell_type": "code",
   "execution_count": 70,
   "metadata": {},
   "outputs": [
    {
     "data": {
      "text/plain": [
       "((19636288, 40), (3169697, 40), (19636288,))"
      ]
     },
     "execution_count": 70,
     "metadata": {},
     "output_type": "execute_result"
    }
   ],
   "source": [
    "if 'prob' in train_fea.columns:\n",
    "    train_fea = train_fea.drop('prob', axis=1)\n",
    "train = train_fea.iloc[:, 0: -1]\n",
    "if 'prob' in test_fea.columns:\n",
    "    test_fea = test_fea.drop('prob', axis=1)\n",
    "test = test_fea.iloc[:, 2:]\n",
    "y = train_fea.iloc[:, -1]\n",
    "\n",
    "train.shape, test.shape, y.shape"
   ]
  },
  {
   "cell_type": "code",
   "execution_count": 78,
   "metadata": {},
   "outputs": [
    {
     "name": "stdout",
     "output_type": "stream",
     "text": [
      "40\n",
      "fold n°0\n",
      "Training until validation scores don't improve for 100 rounds\n",
      "[300]\ttraining's auc: 0.722561\tvalid_1's auc: 0.719763\n",
      "[600]\ttraining's auc: 0.731618\tvalid_1's auc: 0.726326\n",
      "[900]\ttraining's auc: 0.737944\tvalid_1's auc: 0.730412\n",
      "[1200]\ttraining's auc: 0.743367\tvalid_1's auc: 0.733761\n",
      "[1500]\ttraining's auc: 0.748106\tvalid_1's auc: 0.736442\n",
      "[1800]\ttraining's auc: 0.752284\tvalid_1's auc: 0.738677\n",
      "[2100]\ttraining's auc: 0.756055\tvalid_1's auc: 0.740628\n",
      "[2400]\ttraining's auc: 0.759415\tvalid_1's auc: 0.74216\n",
      "[2700]\ttraining's auc: 0.76254\tvalid_1's auc: 0.743543\n",
      "[3000]\ttraining's auc: 0.76538\tvalid_1's auc: 0.744701\n",
      "Did not meet early stopping. Best iteration is:\n",
      "[3000]\ttraining's auc: 0.76538\tvalid_1's auc: 0.744701\n",
      "fold n°1\n",
      "Training until validation scores don't improve for 100 rounds\n",
      "[300]\ttraining's auc: 0.72252\tvalid_1's auc: 0.720064\n",
      "[600]\ttraining's auc: 0.731414\tvalid_1's auc: 0.726466\n",
      "[900]\ttraining's auc: 0.737929\tvalid_1's auc: 0.730586\n",
      "[1200]\ttraining's auc: 0.743394\tvalid_1's auc: 0.733846\n",
      "[1500]\ttraining's auc: 0.748038\tvalid_1's auc: 0.736502\n",
      "[1800]\ttraining's auc: 0.752085\tvalid_1's auc: 0.738602\n",
      "[2100]\ttraining's auc: 0.755662\tvalid_1's auc: 0.740304\n",
      "[2400]\ttraining's auc: 0.759105\tvalid_1's auc: 0.741961\n",
      "[2700]\ttraining's auc: 0.762182\tvalid_1's auc: 0.743259\n",
      "[3000]\ttraining's auc: 0.765044\tvalid_1's auc: 0.74445\n",
      "Did not meet early stopping. Best iteration is:\n",
      "[3000]\ttraining's auc: 0.765044\tvalid_1's auc: 0.74445\n",
      "fold n°2\n",
      "Training until validation scores don't improve for 100 rounds\n",
      "[300]\ttraining's auc: 0.722282\tvalid_1's auc: 0.719863\n",
      "[600]\ttraining's auc: 0.731571\tvalid_1's auc: 0.726652\n",
      "[900]\ttraining's auc: 0.737879\tvalid_1's auc: 0.730636\n",
      "[1200]\ttraining's auc: 0.743176\tvalid_1's auc: 0.733705\n",
      "[1500]\ttraining's auc: 0.747791\tvalid_1's auc: 0.73636\n",
      "[1800]\ttraining's auc: 0.75183\tvalid_1's auc: 0.738485\n",
      "[2100]\ttraining's auc: 0.755509\tvalid_1's auc: 0.74027\n",
      "[2400]\ttraining's auc: 0.758853\tvalid_1's auc: 0.741842\n",
      "[2700]\ttraining's auc: 0.761931\tvalid_1's auc: 0.743219\n",
      "[3000]\ttraining's auc: 0.764807\tvalid_1's auc: 0.744435\n",
      "Did not meet early stopping. Best iteration is:\n",
      "[3000]\ttraining's auc: 0.764807\tvalid_1's auc: 0.744435\n",
      "fold n°3\n",
      "Training until validation scores don't improve for 100 rounds\n",
      "[300]\ttraining's auc: 0.722317\tvalid_1's auc: 0.719727\n",
      "[600]\ttraining's auc: 0.731474\tvalid_1's auc: 0.72648\n",
      "[900]\ttraining's auc: 0.737997\tvalid_1's auc: 0.730661\n",
      "[1200]\ttraining's auc: 0.743352\tvalid_1's auc: 0.733807\n",
      "[1500]\ttraining's auc: 0.748144\tvalid_1's auc: 0.73656\n",
      "[1800]\ttraining's auc: 0.752238\tvalid_1's auc: 0.738717\n",
      "[2100]\ttraining's auc: 0.7558\tvalid_1's auc: 0.740419\n",
      "[2400]\ttraining's auc: 0.758976\tvalid_1's auc: 0.741773\n",
      "[2700]\ttraining's auc: 0.762132\tvalid_1's auc: 0.743227\n",
      "[3000]\ttraining's auc: 0.764999\tvalid_1's auc: 0.744391\n",
      "Did not meet early stopping. Best iteration is:\n",
      "[3000]\ttraining's auc: 0.764999\tvalid_1's auc: 0.744391\n",
      "fold n°4\n",
      "Training until validation scores don't improve for 100 rounds\n",
      "[300]\ttraining's auc: 0.722491\tvalid_1's auc: 0.720148\n",
      "[600]\ttraining's auc: 0.731334\tvalid_1's auc: 0.726461\n",
      "[900]\ttraining's auc: 0.738073\tvalid_1's auc: 0.730905\n",
      "[1200]\ttraining's auc: 0.743395\tvalid_1's auc: 0.73398\n",
      "[1500]\ttraining's auc: 0.748223\tvalid_1's auc: 0.73675\n",
      "[1800]\ttraining's auc: 0.752234\tvalid_1's auc: 0.738834\n",
      "[2100]\ttraining's auc: 0.755872\tvalid_1's auc: 0.740619\n",
      "[2400]\ttraining's auc: 0.759155\tvalid_1's auc: 0.742125\n",
      "[2700]\ttraining's auc: 0.76207\tvalid_1's auc: 0.743387\n",
      "[3000]\ttraining's auc: 0.764858\tvalid_1's auc: 0.744477\n",
      "Did not meet early stopping. Best iteration is:\n",
      "[3000]\ttraining's auc: 0.764858\tvalid_1's auc: 0.744477\n",
      "AUC score: 0.7444904182550108\n",
      "F1 score: 0.01912973953836725\n",
      "Precision score: 0.6453932401689958\n",
      "Recall score: 0.00970875566349173\n"
     ]
    }
   ],
   "source": [
    "KF = StratifiedKFold(n_splits=kfold, random_state=seed, shuffle=True)\n",
    "feat_imp_lgb = list()\n",
    "\n",
    "oof_lgb = np.zeros(len(train))\n",
    "predictions_lgb = np.zeros((len(test)))\n",
    "print(train.shape[1])\n",
    "\n",
    "# 模型训练\n",
    "for fold_, (trn_idx, val_idx) in enumerate(KF.split(train.values, y.values)):\n",
    "    print(\"fold n°{}\".format(fold_))\n",
    "    trn_data = lgb.Dataset(train.iloc[trn_idx], label=y.iloc[trn_idx])\n",
    "    val_data = lgb.Dataset(train.iloc[val_idx], label=y.iloc[val_idx])\n",
    "    \n",
    "    num_round = 3000\n",
    "    clf = lgb.train(\n",
    "        lgb_params,\n",
    "        trn_data,\n",
    "        num_round,\n",
    "        valid_sets=[trn_data, val_data],\n",
    "        verbose_eval=100,\n",
    "        early_stopping_rounds=100,\n",
    "    )\n",
    "\n",
    "    oof_lgb[val_idx] = clf.predict(train.iloc[val_idx], num_iteration=clf.best_iteration)\n",
    "    predictions_lgb[:] += clf.predict(test, num_iteration=clf.best_iteration) / kfold\n",
    "    feat_imp_lgb.append(clf.feature_importance())\n",
    "\n",
    "print(\"AUC score: {}\".format(metrics.roc_auc_score(y, oof_lgb)))\n",
    "print(\"F1 score: {}\".format(metrics.f1_score(y, [1 if i >= 0.5 else 0 for i in oof_lgb])))\n",
    "print(\"Precision score: {}\".format(metrics.precision_score(y, [1 if i >= 0.5 else 0 for i in oof_lgb])))\n",
    "print(\"Recall score: {}\".format(metrics.recall_score(y, [1 if i >= 0.5 else 0 for i in oof_lgb])))"
   ]
  },
  {
   "cell_type": "code",
   "execution_count": 79,
   "metadata": {},
   "outputs": [
    {
     "name": "stdout",
     "output_type": "stream",
     "text": [
      "AUC score: 0.7444904182550108\n",
      "F1 score: 0.01912973953836725\n",
      "Precision score: 0.6453932401689958\n",
      "Recall score: 0.00970875566349173\n"
     ]
    }
   ],
   "source": [
    "print(\"AUC score: {}\".format(metrics.roc_auc_score(y, oof_lgb)))\n",
    "print(\"F1 score: {}\".format(metrics.f1_score(y, [1 if i >= 0.5 else 0 for i in oof_lgb])))\n",
    "print(\"Precision score: {}\".format(metrics.precision_score(y, [1 if i >= 0.5 else 0 for i in oof_lgb])))\n",
    "print(\"Recall score: {}\".format(metrics.recall_score(y, [1 if i >= 0.5 else 0 for i in oof_lgb])))"
   ]
  },
  {
   "cell_type": "code",
   "execution_count": 80,
   "metadata": {},
   "outputs": [],
   "source": [
    "np.save('predictions_lgb.npy', predictions_lgb)\n",
    "np.save('oof_lgb.npy', oof_lgb)\n",
    "np.save('feat_imp_lgb.npy', feat_imp_lgb)"
   ]
  },
  {
   "cell_type": "code",
   "execution_count": 71,
   "metadata": {},
   "outputs": [],
   "source": [
    "predictions_lgb = np.load('predictions_lgb.npy')"
   ]
  },
  {
   "cell_type": "code",
   "execution_count": 72,
   "metadata": {},
   "outputs": [],
   "source": [
    "oof_lgb = np.load('oof_lgb.npy')"
   ]
  },
  {
   "cell_type": "code",
   "execution_count": 73,
   "metadata": {},
   "outputs": [
    {
     "data": {
      "text/plain": [
       "((3169697,), (19636288,))"
      ]
     },
     "execution_count": 73,
     "metadata": {},
     "output_type": "execute_result"
    }
   ],
   "source": [
    "predictions_lgb.shape, oof_lgb.shape "
   ]
  },
  {
   "cell_type": "code",
   "execution_count": 74,
   "metadata": {},
   "outputs": [],
   "source": [
    "test_fea['prob'] = predictions_lgb\n",
    "train_fea['prob'] = oof_lgb"
   ]
  },
  {
   "cell_type": "code",
   "execution_count": 94,
   "metadata": {},
   "outputs": [
    {
     "data": {
      "text/html": [
       "<div>\n",
       "<style scoped>\n",
       "    .dataframe tbody tr th:only-of-type {\n",
       "        vertical-align: middle;\n",
       "    }\n",
       "\n",
       "    .dataframe tbody tr th {\n",
       "        vertical-align: top;\n",
       "    }\n",
       "\n",
       "    .dataframe thead th {\n",
       "        text-align: right;\n",
       "    }\n",
       "</style>\n",
       "<table border=\"1\" class=\"dataframe\">\n",
       "  <thead>\n",
       "    <tr style=\"text-align: right;\">\n",
       "      <th></th>\n",
       "      <th>vid</th>\n",
       "      <th>index</th>\n",
       "      <th>vid_in_his</th>\n",
       "      <th>loc_id</th>\n",
       "      <th>price</th>\n",
       "      <th>brand</th>\n",
       "      <th>color</th>\n",
       "      <th>size</th>\n",
       "      <th>model</th>\n",
       "      <th>material</th>\n",
       "      <th>...</th>\n",
       "      <th>len_titleSTD</th>\n",
       "      <th>len_titleMIN</th>\n",
       "      <th>len_titleMAX</th>\n",
       "      <th>len_titleSUM</th>\n",
       "      <th>len_descMEAN</th>\n",
       "      <th>len_descSTD</th>\n",
       "      <th>len_descMIN</th>\n",
       "      <th>len_descMAX</th>\n",
       "      <th>len_descSUM</th>\n",
       "      <th>prob</th>\n",
       "    </tr>\n",
       "  </thead>\n",
       "  <tbody>\n",
       "    <tr>\n",
       "      <th>0</th>\n",
       "      <td>B099NS1XPG</td>\n",
       "      <td>0</td>\n",
       "      <td>0.0</td>\n",
       "      <td>0.0</td>\n",
       "      <td>39.99</td>\n",
       "      <td>21236</td>\n",
       "      <td>152211</td>\n",
       "      <td>213319</td>\n",
       "      <td>161238</td>\n",
       "      <td>44782</td>\n",
       "      <td>...</td>\n",
       "      <td>24.436684</td>\n",
       "      <td>126.0</td>\n",
       "      <td>195.0</td>\n",
       "      <td>1960.0</td>\n",
       "      <td>173.583333</td>\n",
       "      <td>34.057327</td>\n",
       "      <td>120.0</td>\n",
       "      <td>210.0</td>\n",
       "      <td>2083.0</td>\n",
       "      <td>2.650614e-01</td>\n",
       "    </tr>\n",
       "    <tr>\n",
       "      <th>1</th>\n",
       "      <td>B08496TCCQ</td>\n",
       "      <td>0</td>\n",
       "      <td>1.0</td>\n",
       "      <td>0.0</td>\n",
       "      <td>40000000.07</td>\n",
       "      <td>21236</td>\n",
       "      <td>133489</td>\n",
       "      <td>213319</td>\n",
       "      <td>161226</td>\n",
       "      <td>44782</td>\n",
       "      <td>...</td>\n",
       "      <td>24.436684</td>\n",
       "      <td>126.0</td>\n",
       "      <td>195.0</td>\n",
       "      <td>1960.0</td>\n",
       "      <td>173.583333</td>\n",
       "      <td>34.057327</td>\n",
       "      <td>120.0</td>\n",
       "      <td>210.0</td>\n",
       "      <td>2083.0</td>\n",
       "      <td>7.867639e-07</td>\n",
       "    </tr>\n",
       "    <tr>\n",
       "      <th>2</th>\n",
       "      <td>B01BVG1XJS</td>\n",
       "      <td>0</td>\n",
       "      <td>1.0</td>\n",
       "      <td>0.0</td>\n",
       "      <td>19.95</td>\n",
       "      <td>21236</td>\n",
       "      <td>152211</td>\n",
       "      <td>90884</td>\n",
       "      <td>161227</td>\n",
       "      <td>15295</td>\n",
       "      <td>...</td>\n",
       "      <td>24.436684</td>\n",
       "      <td>126.0</td>\n",
       "      <td>195.0</td>\n",
       "      <td>1960.0</td>\n",
       "      <td>173.583333</td>\n",
       "      <td>34.057327</td>\n",
       "      <td>120.0</td>\n",
       "      <td>210.0</td>\n",
       "      <td>2083.0</td>\n",
       "      <td>8.197974e-07</td>\n",
       "    </tr>\n",
       "    <tr>\n",
       "      <th>3</th>\n",
       "      <td>B099NR3X6D</td>\n",
       "      <td>0</td>\n",
       "      <td>0.0</td>\n",
       "      <td>0.0</td>\n",
       "      <td>32.99</td>\n",
       "      <td>21236</td>\n",
       "      <td>133489</td>\n",
       "      <td>213319</td>\n",
       "      <td>161237</td>\n",
       "      <td>44782</td>\n",
       "      <td>...</td>\n",
       "      <td>24.436684</td>\n",
       "      <td>126.0</td>\n",
       "      <td>195.0</td>\n",
       "      <td>1960.0</td>\n",
       "      <td>173.583333</td>\n",
       "      <td>34.057327</td>\n",
       "      <td>120.0</td>\n",
       "      <td>210.0</td>\n",
       "      <td>2083.0</td>\n",
       "      <td>2.646391e-01</td>\n",
       "    </tr>\n",
       "    <tr>\n",
       "      <th>4</th>\n",
       "      <td>B09WDSH4CD</td>\n",
       "      <td>0</td>\n",
       "      <td>0.0</td>\n",
       "      <td>0.0</td>\n",
       "      <td>24.99</td>\n",
       "      <td>131540</td>\n",
       "      <td>152211</td>\n",
       "      <td>213319</td>\n",
       "      <td>492997</td>\n",
       "      <td>44782</td>\n",
       "      <td>...</td>\n",
       "      <td>24.436684</td>\n",
       "      <td>126.0</td>\n",
       "      <td>195.0</td>\n",
       "      <td>1960.0</td>\n",
       "      <td>173.583333</td>\n",
       "      <td>34.057327</td>\n",
       "      <td>120.0</td>\n",
       "      <td>210.0</td>\n",
       "      <td>2083.0</td>\n",
       "      <td>2.863094e-01</td>\n",
       "    </tr>\n",
       "    <tr>\n",
       "      <th>5</th>\n",
       "      <td>B0BHWQJJKW</td>\n",
       "      <td>0</td>\n",
       "      <td>0.0</td>\n",
       "      <td>0.0</td>\n",
       "      <td>14.99</td>\n",
       "      <td>138272</td>\n",
       "      <td>33419</td>\n",
       "      <td>213319</td>\n",
       "      <td>492997</td>\n",
       "      <td>44782</td>\n",
       "      <td>...</td>\n",
       "      <td>24.436684</td>\n",
       "      <td>126.0</td>\n",
       "      <td>195.0</td>\n",
       "      <td>1960.0</td>\n",
       "      <td>173.583333</td>\n",
       "      <td>34.057327</td>\n",
       "      <td>120.0</td>\n",
       "      <td>210.0</td>\n",
       "      <td>2083.0</td>\n",
       "      <td>2.691104e-01</td>\n",
       "    </tr>\n",
       "    <tr>\n",
       "      <th>6</th>\n",
       "      <td>B07LG5T3V9</td>\n",
       "      <td>0</td>\n",
       "      <td>0.0</td>\n",
       "      <td>0.0</td>\n",
       "      <td>40000000.07</td>\n",
       "      <td>21236</td>\n",
       "      <td>89902</td>\n",
       "      <td>213319</td>\n",
       "      <td>161228</td>\n",
       "      <td>44782</td>\n",
       "      <td>...</td>\n",
       "      <td>24.436684</td>\n",
       "      <td>126.0</td>\n",
       "      <td>195.0</td>\n",
       "      <td>1960.0</td>\n",
       "      <td>173.583333</td>\n",
       "      <td>34.057327</td>\n",
       "      <td>120.0</td>\n",
       "      <td>210.0</td>\n",
       "      <td>2083.0</td>\n",
       "      <td>1.644491e-01</td>\n",
       "    </tr>\n",
       "    <tr>\n",
       "      <th>7</th>\n",
       "      <td>B0BGL7KC2D</td>\n",
       "      <td>0</td>\n",
       "      <td>0.0</td>\n",
       "      <td>0.0</td>\n",
       "      <td>25.99</td>\n",
       "      <td>29337</td>\n",
       "      <td>33402</td>\n",
       "      <td>213319</td>\n",
       "      <td>492997</td>\n",
       "      <td>44782</td>\n",
       "      <td>...</td>\n",
       "      <td>24.436684</td>\n",
       "      <td>126.0</td>\n",
       "      <td>195.0</td>\n",
       "      <td>1960.0</td>\n",
       "      <td>173.583333</td>\n",
       "      <td>34.057327</td>\n",
       "      <td>120.0</td>\n",
       "      <td>210.0</td>\n",
       "      <td>2083.0</td>\n",
       "      <td>2.619444e-01</td>\n",
       "    </tr>\n",
       "    <tr>\n",
       "      <th>8</th>\n",
       "      <td>B0B53KBXR8</td>\n",
       "      <td>0</td>\n",
       "      <td>0.0</td>\n",
       "      <td>0.0</td>\n",
       "      <td>19.99</td>\n",
       "      <td>145282</td>\n",
       "      <td>1096</td>\n",
       "      <td>71616</td>\n",
       "      <td>281689</td>\n",
       "      <td>44782</td>\n",
       "      <td>...</td>\n",
       "      <td>24.436684</td>\n",
       "      <td>126.0</td>\n",
       "      <td>195.0</td>\n",
       "      <td>1960.0</td>\n",
       "      <td>173.583333</td>\n",
       "      <td>34.057327</td>\n",
       "      <td>120.0</td>\n",
       "      <td>210.0</td>\n",
       "      <td>2083.0</td>\n",
       "      <td>2.306425e-01</td>\n",
       "    </tr>\n",
       "    <tr>\n",
       "      <th>9</th>\n",
       "      <td>B07QPV9Z7X</td>\n",
       "      <td>0</td>\n",
       "      <td>0.0</td>\n",
       "      <td>0.0</td>\n",
       "      <td>14.99</td>\n",
       "      <td>66132</td>\n",
       "      <td>133489</td>\n",
       "      <td>12975</td>\n",
       "      <td>88202</td>\n",
       "      <td>20131</td>\n",
       "      <td>...</td>\n",
       "      <td>24.436684</td>\n",
       "      <td>126.0</td>\n",
       "      <td>195.0</td>\n",
       "      <td>1960.0</td>\n",
       "      <td>173.583333</td>\n",
       "      <td>34.057327</td>\n",
       "      <td>120.0</td>\n",
       "      <td>210.0</td>\n",
       "      <td>2083.0</td>\n",
       "      <td>4.752867e-04</td>\n",
       "    </tr>\n",
       "    <tr>\n",
       "      <th>10</th>\n",
       "      <td>B004ZXMV4Q</td>\n",
       "      <td>1</td>\n",
       "      <td>0.0</td>\n",
       "      <td>0.0</td>\n",
       "      <td>19.99</td>\n",
       "      <td>145864</td>\n",
       "      <td>199923</td>\n",
       "      <td>6476</td>\n",
       "      <td>492997</td>\n",
       "      <td>44782</td>\n",
       "      <td>...</td>\n",
       "      <td>2.886751</td>\n",
       "      <td>78.0</td>\n",
       "      <td>83.0</td>\n",
       "      <td>239.0</td>\n",
       "      <td>44.000000</td>\n",
       "      <td>76.210236</td>\n",
       "      <td>0.0</td>\n",
       "      <td>132.0</td>\n",
       "      <td>132.0</td>\n",
       "      <td>2.395679e-01</td>\n",
       "    </tr>\n",
       "    <tr>\n",
       "      <th>11</th>\n",
       "      <td>B00R9R5ND6</td>\n",
       "      <td>1</td>\n",
       "      <td>1.0</td>\n",
       "      <td>0.0</td>\n",
       "      <td>9.99</td>\n",
       "      <td>145864</td>\n",
       "      <td>199923</td>\n",
       "      <td>6487</td>\n",
       "      <td>492997</td>\n",
       "      <td>44782</td>\n",
       "      <td>...</td>\n",
       "      <td>2.886751</td>\n",
       "      <td>78.0</td>\n",
       "      <td>83.0</td>\n",
       "      <td>239.0</td>\n",
       "      <td>44.000000</td>\n",
       "      <td>76.210236</td>\n",
       "      <td>0.0</td>\n",
       "      <td>132.0</td>\n",
       "      <td>132.0</td>\n",
       "      <td>1.056425e-06</td>\n",
       "    </tr>\n",
       "  </tbody>\n",
       "</table>\n",
       "<p>12 rows × 43 columns</p>\n",
       "</div>"
      ],
      "text/plain": [
       "           vid  index  vid_in_his  loc_id        price   brand   color  \\\n",
       "0   B099NS1XPG      0         0.0     0.0        39.99   21236  152211   \n",
       "1   B08496TCCQ      0         1.0     0.0  40000000.07   21236  133489   \n",
       "2   B01BVG1XJS      0         1.0     0.0        19.95   21236  152211   \n",
       "3   B099NR3X6D      0         0.0     0.0        32.99   21236  133489   \n",
       "4   B09WDSH4CD      0         0.0     0.0        24.99  131540  152211   \n",
       "5   B0BHWQJJKW      0         0.0     0.0        14.99  138272   33419   \n",
       "6   B07LG5T3V9      0         0.0     0.0  40000000.07   21236   89902   \n",
       "7   B0BGL7KC2D      0         0.0     0.0        25.99   29337   33402   \n",
       "8   B0B53KBXR8      0         0.0     0.0        19.99  145282    1096   \n",
       "9   B07QPV9Z7X      0         0.0     0.0        14.99   66132  133489   \n",
       "10  B004ZXMV4Q      1         0.0     0.0        19.99  145864  199923   \n",
       "11  B00R9R5ND6      1         1.0     0.0         9.99  145864  199923   \n",
       "\n",
       "      size   model  material  ...  len_titleSTD  len_titleMIN  len_titleMAX  \\\n",
       "0   213319  161238     44782  ...     24.436684         126.0         195.0   \n",
       "1   213319  161226     44782  ...     24.436684         126.0         195.0   \n",
       "2    90884  161227     15295  ...     24.436684         126.0         195.0   \n",
       "3   213319  161237     44782  ...     24.436684         126.0         195.0   \n",
       "4   213319  492997     44782  ...     24.436684         126.0         195.0   \n",
       "5   213319  492997     44782  ...     24.436684         126.0         195.0   \n",
       "6   213319  161228     44782  ...     24.436684         126.0         195.0   \n",
       "7   213319  492997     44782  ...     24.436684         126.0         195.0   \n",
       "8    71616  281689     44782  ...     24.436684         126.0         195.0   \n",
       "9    12975   88202     20131  ...     24.436684         126.0         195.0   \n",
       "10    6476  492997     44782  ...      2.886751          78.0          83.0   \n",
       "11    6487  492997     44782  ...      2.886751          78.0          83.0   \n",
       "\n",
       "    len_titleSUM  len_descMEAN  len_descSTD  len_descMIN  len_descMAX  \\\n",
       "0         1960.0    173.583333    34.057327        120.0        210.0   \n",
       "1         1960.0    173.583333    34.057327        120.0        210.0   \n",
       "2         1960.0    173.583333    34.057327        120.0        210.0   \n",
       "3         1960.0    173.583333    34.057327        120.0        210.0   \n",
       "4         1960.0    173.583333    34.057327        120.0        210.0   \n",
       "5         1960.0    173.583333    34.057327        120.0        210.0   \n",
       "6         1960.0    173.583333    34.057327        120.0        210.0   \n",
       "7         1960.0    173.583333    34.057327        120.0        210.0   \n",
       "8         1960.0    173.583333    34.057327        120.0        210.0   \n",
       "9         1960.0    173.583333    34.057327        120.0        210.0   \n",
       "10         239.0     44.000000    76.210236          0.0        132.0   \n",
       "11         239.0     44.000000    76.210236          0.0        132.0   \n",
       "\n",
       "    len_descSUM          prob  \n",
       "0        2083.0  2.650614e-01  \n",
       "1        2083.0  7.867639e-07  \n",
       "2        2083.0  8.197974e-07  \n",
       "3        2083.0  2.646391e-01  \n",
       "4        2083.0  2.863094e-01  \n",
       "5        2083.0  2.691104e-01  \n",
       "6        2083.0  1.644491e-01  \n",
       "7        2083.0  2.619444e-01  \n",
       "8        2083.0  2.306425e-01  \n",
       "9        2083.0  4.752867e-04  \n",
       "10        132.0  2.395679e-01  \n",
       "11        132.0  1.056425e-06  \n",
       "\n",
       "[12 rows x 43 columns]"
      ]
     },
     "execution_count": 94,
     "metadata": {},
     "output_type": "execute_result"
    }
   ],
   "source": [
    "test_fea.head(12)"
   ]
  },
  {
   "cell_type": "code",
   "execution_count": 96,
   "metadata": {},
   "outputs": [
    {
     "name": "stderr",
     "output_type": "stream",
     "text": [
      " 43%|████▎     | 135372/316971 [01:09<01:31, 1979.10it/s]"
     ]
    },
    {
     "name": "stdout",
     "output_type": "stream",
     "text": [
      "135090\n"
     ]
    },
    {
     "name": "stderr",
     "output_type": "stream",
     "text": [
      " 56%|█████▌    | 176065/316971 [01:30<01:14, 1881.77it/s]"
     ]
    },
    {
     "name": "stdout",
     "output_type": "stream",
     "text": [
      "175732\n"
     ]
    },
    {
     "name": "stderr",
     "output_type": "stream",
     "text": [
      " 56%|█████▌    | 178212/316971 [01:31<01:12, 1922.84it/s]"
     ]
    },
    {
     "name": "stdout",
     "output_type": "stream",
     "text": [
      "177882\n"
     ]
    },
    {
     "name": "stderr",
     "output_type": "stream",
     "text": [
      " 61%|██████    | 193402/316971 [01:39<01:01, 2010.54it/s]"
     ]
    },
    {
     "name": "stdout",
     "output_type": "stream",
     "text": [
      "193020\n"
     ]
    },
    {
     "name": "stderr",
     "output_type": "stream",
     "text": [
      " 72%|███████▏  | 227842/316971 [01:57<00:46, 1898.19it/s]"
     ]
    },
    {
     "name": "stdout",
     "output_type": "stream",
     "text": [
      "227523\n"
     ]
    },
    {
     "name": "stderr",
     "output_type": "stream",
     "text": [
      "100%|██████████| 316971/316971 [02:43<00:00, 1944.56it/s]\n"
     ]
    }
   ],
   "source": [
    "test_preds_lgb = []\n",
    "test_fea_len = test_fea['index'].nunique()\n",
    "for ind, test_fea_index in tqdm(test_fea[['vid', 'index', 'prob']].groupby('index'), total=test_fea_len):\n",
    "    # 对召回的10个从大到小排序\n",
    "    test_fea_index = test_fea_index.sort_values(by='prob', ascending=False)['vid'].values.tolist()\n",
    "    if len(test_fea_index) != 10:\n",
    "        print(ind) \n",
    "    # 对完整召回的100个剩下的其他的id，不在10个里的话就补充进去\n",
    "    preds_ind_origin = test_preds[ind]\n",
    "    for vid in preds_ind_origin:\n",
    "        if vid not in test_fea_index:\n",
    "            test_fea_index.append(vid)\n",
    "    if len(test_fea_index) != 100:\n",
    "        print('error', ind) \n",
    "    test_preds_lgb.append(test_fea_index)"
   ]
  },
  {
   "cell_type": "code",
   "execution_count": null,
   "metadata": {},
   "outputs": [],
   "source": [
    "train_preds = []\n",
    "mrr = []\n",
    "\n",
    "for _, row in tqdm(df_train.iterrows(), total=len(df_train)):\n",
    "    label = row['next_item']\n",
    "    pred_orig = row['next_item_prediction']\n",
    "    pred = pred_orig\n",
    "    prev_items = row['prev_items']\n",
    "    if type(pred) == float:  # pred=nan, 训练集的last_item在之间没有统计出来下一跳，此时用最热门代替\n",
    "        pred = top200[:100]\n",
    "    else:\n",
    "        if len(pred_orig) < 100:  # 小于100，从最热门选\n",
    "            for i in top200:\n",
    "                if i not in pred_orig and i not in prev_items:\n",
    "                    pred.append(i)\n",
    "                if len(pred) >= 100:\n",
    "                    break\n",
    "        else:\n",
    "            pred = pred[:100]\n",
    "    try:\n",
    "        pred_result = pred.index(label)\n",
    "        mrr.append(1 / (pred_result + 1))\n",
    "    except:\n",
    "        mrr.append(0)\n",
    "    train_preds.append(pred)\n",
    "\n",
    "np.mean(mrr)"
   ]
  },
  {
   "cell_type": "code",
   "execution_count": 75,
   "metadata": {},
   "outputs": [
    {
     "data": {
      "text/html": [
       "<div>\n",
       "<style scoped>\n",
       "    .dataframe tbody tr th:only-of-type {\n",
       "        vertical-align: middle;\n",
       "    }\n",
       "\n",
       "    .dataframe tbody tr th {\n",
       "        vertical-align: top;\n",
       "    }\n",
       "\n",
       "    .dataframe thead th {\n",
       "        text-align: right;\n",
       "    }\n",
       "</style>\n",
       "<table border=\"1\" class=\"dataframe\">\n",
       "  <thead>\n",
       "    <tr style=\"text-align: right;\">\n",
       "      <th></th>\n",
       "      <th>vid_in_his</th>\n",
       "      <th>loc_id</th>\n",
       "      <th>price</th>\n",
       "      <th>brand</th>\n",
       "      <th>color</th>\n",
       "      <th>size</th>\n",
       "      <th>model</th>\n",
       "      <th>material</th>\n",
       "      <th>author</th>\n",
       "      <th>len_title</th>\n",
       "      <th>...</th>\n",
       "      <th>len_titleMIN</th>\n",
       "      <th>len_titleMAX</th>\n",
       "      <th>len_titleSUM</th>\n",
       "      <th>len_descMEAN</th>\n",
       "      <th>len_descSTD</th>\n",
       "      <th>len_descMIN</th>\n",
       "      <th>len_descMAX</th>\n",
       "      <th>len_descSUM</th>\n",
       "      <th>label</th>\n",
       "      <th>prob</th>\n",
       "    </tr>\n",
       "  </thead>\n",
       "  <tbody>\n",
       "    <tr>\n",
       "      <th>0</th>\n",
       "      <td>1.0</td>\n",
       "      <td>0.0</td>\n",
       "      <td>39.99</td>\n",
       "      <td>95845</td>\n",
       "      <td>37394</td>\n",
       "      <td>159820</td>\n",
       "      <td>492997</td>\n",
       "      <td>38875</td>\n",
       "      <td>29259</td>\n",
       "      <td>196.0</td>\n",
       "      <td>...</td>\n",
       "      <td>196.0</td>\n",
       "      <td>199.0</td>\n",
       "      <td>395.0</td>\n",
       "      <td>226.50</td>\n",
       "      <td>6.363961</td>\n",
       "      <td>222.0</td>\n",
       "      <td>231.0</td>\n",
       "      <td>453.0</td>\n",
       "      <td>0.0</td>\n",
       "      <td>0.000001</td>\n",
       "    </tr>\n",
       "    <tr>\n",
       "      <th>1</th>\n",
       "      <td>0.0</td>\n",
       "      <td>0.0</td>\n",
       "      <td>16.90</td>\n",
       "      <td>147348</td>\n",
       "      <td>46314</td>\n",
       "      <td>213319</td>\n",
       "      <td>291900</td>\n",
       "      <td>7245</td>\n",
       "      <td>29259</td>\n",
       "      <td>162.0</td>\n",
       "      <td>...</td>\n",
       "      <td>196.0</td>\n",
       "      <td>199.0</td>\n",
       "      <td>395.0</td>\n",
       "      <td>226.50</td>\n",
       "      <td>6.363961</td>\n",
       "      <td>222.0</td>\n",
       "      <td>231.0</td>\n",
       "      <td>453.0</td>\n",
       "      <td>0.0</td>\n",
       "      <td>0.204620</td>\n",
       "    </tr>\n",
       "    <tr>\n",
       "      <th>2</th>\n",
       "      <td>0.0</td>\n",
       "      <td>0.0</td>\n",
       "      <td>49.99</td>\n",
       "      <td>121177</td>\n",
       "      <td>138546</td>\n",
       "      <td>120200</td>\n",
       "      <td>492997</td>\n",
       "      <td>7245</td>\n",
       "      <td>29259</td>\n",
       "      <td>174.0</td>\n",
       "      <td>...</td>\n",
       "      <td>196.0</td>\n",
       "      <td>199.0</td>\n",
       "      <td>395.0</td>\n",
       "      <td>226.50</td>\n",
       "      <td>6.363961</td>\n",
       "      <td>222.0</td>\n",
       "      <td>231.0</td>\n",
       "      <td>453.0</td>\n",
       "      <td>0.0</td>\n",
       "      <td>0.258868</td>\n",
       "    </tr>\n",
       "    <tr>\n",
       "      <th>3</th>\n",
       "      <td>0.0</td>\n",
       "      <td>0.0</td>\n",
       "      <td>20.99</td>\n",
       "      <td>151459</td>\n",
       "      <td>151249</td>\n",
       "      <td>111947</td>\n",
       "      <td>492997</td>\n",
       "      <td>12885</td>\n",
       "      <td>29259</td>\n",
       "      <td>199.0</td>\n",
       "      <td>...</td>\n",
       "      <td>196.0</td>\n",
       "      <td>199.0</td>\n",
       "      <td>395.0</td>\n",
       "      <td>226.50</td>\n",
       "      <td>6.363961</td>\n",
       "      <td>222.0</td>\n",
       "      <td>231.0</td>\n",
       "      <td>453.0</td>\n",
       "      <td>0.0</td>\n",
       "      <td>0.272597</td>\n",
       "    </tr>\n",
       "    <tr>\n",
       "      <th>4</th>\n",
       "      <td>0.0</td>\n",
       "      <td>0.0</td>\n",
       "      <td>43.99</td>\n",
       "      <td>71816</td>\n",
       "      <td>152211</td>\n",
       "      <td>169504</td>\n",
       "      <td>492997</td>\n",
       "      <td>7245</td>\n",
       "      <td>29259</td>\n",
       "      <td>174.0</td>\n",
       "      <td>...</td>\n",
       "      <td>196.0</td>\n",
       "      <td>199.0</td>\n",
       "      <td>395.0</td>\n",
       "      <td>226.50</td>\n",
       "      <td>6.363961</td>\n",
       "      <td>222.0</td>\n",
       "      <td>231.0</td>\n",
       "      <td>453.0</td>\n",
       "      <td>0.0</td>\n",
       "      <td>0.257015</td>\n",
       "    </tr>\n",
       "    <tr>\n",
       "      <th>5</th>\n",
       "      <td>0.0</td>\n",
       "      <td>0.0</td>\n",
       "      <td>109.99</td>\n",
       "      <td>114879</td>\n",
       "      <td>154164</td>\n",
       "      <td>213319</td>\n",
       "      <td>428460</td>\n",
       "      <td>24563</td>\n",
       "      <td>29259</td>\n",
       "      <td>196.0</td>\n",
       "      <td>...</td>\n",
       "      <td>196.0</td>\n",
       "      <td>199.0</td>\n",
       "      <td>395.0</td>\n",
       "      <td>226.50</td>\n",
       "      <td>6.363961</td>\n",
       "      <td>222.0</td>\n",
       "      <td>231.0</td>\n",
       "      <td>453.0</td>\n",
       "      <td>1.0</td>\n",
       "      <td>0.197742</td>\n",
       "    </tr>\n",
       "    <tr>\n",
       "      <th>6</th>\n",
       "      <td>0.0</td>\n",
       "      <td>0.0</td>\n",
       "      <td>14.49</td>\n",
       "      <td>48221</td>\n",
       "      <td>152051</td>\n",
       "      <td>213319</td>\n",
       "      <td>254601</td>\n",
       "      <td>44782</td>\n",
       "      <td>29259</td>\n",
       "      <td>48.0</td>\n",
       "      <td>...</td>\n",
       "      <td>36.0</td>\n",
       "      <td>195.0</td>\n",
       "      <td>488.0</td>\n",
       "      <td>126.75</td>\n",
       "      <td>98.878292</td>\n",
       "      <td>7.0</td>\n",
       "      <td>222.0</td>\n",
       "      <td>507.0</td>\n",
       "      <td>0.0</td>\n",
       "      <td>0.239409</td>\n",
       "    </tr>\n",
       "    <tr>\n",
       "      <th>7</th>\n",
       "      <td>0.0</td>\n",
       "      <td>0.0</td>\n",
       "      <td>14.99</td>\n",
       "      <td>66132</td>\n",
       "      <td>133489</td>\n",
       "      <td>12975</td>\n",
       "      <td>88202</td>\n",
       "      <td>20131</td>\n",
       "      <td>29259</td>\n",
       "      <td>115.0</td>\n",
       "      <td>...</td>\n",
       "      <td>36.0</td>\n",
       "      <td>195.0</td>\n",
       "      <td>488.0</td>\n",
       "      <td>126.75</td>\n",
       "      <td>98.878292</td>\n",
       "      <td>7.0</td>\n",
       "      <td>222.0</td>\n",
       "      <td>507.0</td>\n",
       "      <td>0.0</td>\n",
       "      <td>0.000245</td>\n",
       "    </tr>\n",
       "    <tr>\n",
       "      <th>8</th>\n",
       "      <td>0.0</td>\n",
       "      <td>0.0</td>\n",
       "      <td>7.99</td>\n",
       "      <td>76600</td>\n",
       "      <td>64954</td>\n",
       "      <td>213319</td>\n",
       "      <td>453449</td>\n",
       "      <td>18163</td>\n",
       "      <td>29259</td>\n",
       "      <td>197.0</td>\n",
       "      <td>...</td>\n",
       "      <td>36.0</td>\n",
       "      <td>195.0</td>\n",
       "      <td>488.0</td>\n",
       "      <td>126.75</td>\n",
       "      <td>98.878292</td>\n",
       "      <td>7.0</td>\n",
       "      <td>222.0</td>\n",
       "      <td>507.0</td>\n",
       "      <td>0.0</td>\n",
       "      <td>0.000561</td>\n",
       "    </tr>\n",
       "    <tr>\n",
       "      <th>9</th>\n",
       "      <td>0.0</td>\n",
       "      <td>0.0</td>\n",
       "      <td>10.99</td>\n",
       "      <td>9710</td>\n",
       "      <td>152211</td>\n",
       "      <td>3496</td>\n",
       "      <td>208818</td>\n",
       "      <td>44782</td>\n",
       "      <td>29259</td>\n",
       "      <td>150.0</td>\n",
       "      <td>...</td>\n",
       "      <td>36.0</td>\n",
       "      <td>195.0</td>\n",
       "      <td>488.0</td>\n",
       "      <td>126.75</td>\n",
       "      <td>98.878292</td>\n",
       "      <td>7.0</td>\n",
       "      <td>222.0</td>\n",
       "      <td>507.0</td>\n",
       "      <td>0.0</td>\n",
       "      <td>0.000222</td>\n",
       "    </tr>\n",
       "  </tbody>\n",
       "</table>\n",
       "<p>10 rows × 42 columns</p>\n",
       "</div>"
      ],
      "text/plain": [
       "   vid_in_his  loc_id   price   brand   color    size   model  material  \\\n",
       "0         1.0     0.0   39.99   95845   37394  159820  492997     38875   \n",
       "1         0.0     0.0   16.90  147348   46314  213319  291900      7245   \n",
       "2         0.0     0.0   49.99  121177  138546  120200  492997      7245   \n",
       "3         0.0     0.0   20.99  151459  151249  111947  492997     12885   \n",
       "4         0.0     0.0   43.99   71816  152211  169504  492997      7245   \n",
       "5         0.0     0.0  109.99  114879  154164  213319  428460     24563   \n",
       "6         0.0     0.0   14.49   48221  152051  213319  254601     44782   \n",
       "7         0.0     0.0   14.99   66132  133489   12975   88202     20131   \n",
       "8         0.0     0.0    7.99   76600   64954  213319  453449     18163   \n",
       "9         0.0     0.0   10.99    9710  152211    3496  208818     44782   \n",
       "\n",
       "   author  len_title  ...  len_titleMIN  len_titleMAX  len_titleSUM  \\\n",
       "0   29259      196.0  ...         196.0         199.0         395.0   \n",
       "1   29259      162.0  ...         196.0         199.0         395.0   \n",
       "2   29259      174.0  ...         196.0         199.0         395.0   \n",
       "3   29259      199.0  ...         196.0         199.0         395.0   \n",
       "4   29259      174.0  ...         196.0         199.0         395.0   \n",
       "5   29259      196.0  ...         196.0         199.0         395.0   \n",
       "6   29259       48.0  ...          36.0         195.0         488.0   \n",
       "7   29259      115.0  ...          36.0         195.0         488.0   \n",
       "8   29259      197.0  ...          36.0         195.0         488.0   \n",
       "9   29259      150.0  ...          36.0         195.0         488.0   \n",
       "\n",
       "   len_descMEAN  len_descSTD  len_descMIN  len_descMAX  len_descSUM  label  \\\n",
       "0        226.50     6.363961        222.0        231.0        453.0    0.0   \n",
       "1        226.50     6.363961        222.0        231.0        453.0    0.0   \n",
       "2        226.50     6.363961        222.0        231.0        453.0    0.0   \n",
       "3        226.50     6.363961        222.0        231.0        453.0    0.0   \n",
       "4        226.50     6.363961        222.0        231.0        453.0    0.0   \n",
       "5        226.50     6.363961        222.0        231.0        453.0    1.0   \n",
       "6        126.75    98.878292          7.0        222.0        507.0    0.0   \n",
       "7        126.75    98.878292          7.0        222.0        507.0    0.0   \n",
       "8        126.75    98.878292          7.0        222.0        507.0    0.0   \n",
       "9        126.75    98.878292          7.0        222.0        507.0    0.0   \n",
       "\n",
       "       prob  \n",
       "0  0.000001  \n",
       "1  0.204620  \n",
       "2  0.258868  \n",
       "3  0.272597  \n",
       "4  0.257015  \n",
       "5  0.197742  \n",
       "6  0.239409  \n",
       "7  0.000245  \n",
       "8  0.000561  \n",
       "9  0.000222  \n",
       "\n",
       "[10 rows x 42 columns]"
      ]
     },
     "execution_count": 75,
     "metadata": {},
     "output_type": "execute_result"
    }
   ],
   "source": [
    "train_fea.head(10)"
   ]
  },
  {
   "cell_type": "code",
   "execution_count": null,
   "metadata": {},
   "outputs": [],
   "source": [
    "train_preds_lgb = []\n",
    "mrr = []\n",
    "train_fea_len = train_fea['index'].nunique()\n",
    "for ind, train_fea_index in tqdm(train_fea[['vid', 'index', 'prob']].groupby('index'), total=train_fea_len):\n",
    "    label = df_train.iloc[ind]['next_item']\n",
    "    # 对召回的10个从大到小排序\n",
    "    train_fea_index = train_fea_index.sort_values(by='prob', ascending=False)['vid'].values.tolist()\n",
    "    if len(train_fea_index) != 10:\n",
    "        print(ind) \n",
    "    # 对完整召回的100个剩下的其他的id，不在10个里的话就补充进去\n",
    "    preds_ind_origin = train_preds[ind]\n",
    "    for vid in preds_ind_origin:\n",
    "        if vid not in train_fea_index:\n",
    "            train_fea_index.append(vid)\n",
    "    if len(train_fea_index) != 100:\n",
    "        print('error', ind) \n",
    "    try:\n",
    "        pred_result = train_fea_index.index(label)\n",
    "        mrr.append(1 / (pred_result + 1))\n",
    "    except:\n",
    "        mrr.append(0)\n",
    "    train_preds_lgb.append(train_fea_index)\n",
    "np.mean(mrr)"
   ]
  },
  {
   "cell_type": "code",
   "execution_count": 97,
   "metadata": {},
   "outputs": [
    {
     "data": {
      "text/plain": [
       "count    316971.0\n",
       "mean        100.0\n",
       "std           0.0\n",
       "min         100.0\n",
       "25%         100.0\n",
       "50%         100.0\n",
       "75%         100.0\n",
       "max         100.0\n",
       "Name: next_item_prediction, dtype: float64"
      ]
     },
     "execution_count": 97,
     "metadata": {},
     "output_type": "execute_result"
    }
   ],
   "source": [
    "df_test['next_item_prediction'] = test_preds_lgb\n",
    "df_test['next_item_prediction'].apply(len).describe()"
   ]
  },
  {
   "cell_type": "code",
   "execution_count": 99,
   "metadata": {},
   "outputs": [],
   "source": [
    "df_test[['locale', 'next_item_prediction']].to_parquet('output/submission_task1_lgb_{}_{}.parquet'.format(seed, train.shape[1]), engine='pyarrow')"
   ]
  },
  {
   "cell_type": "code",
   "execution_count": 100,
   "metadata": {},
   "outputs": [
    {
     "data": {
      "text/html": [
       "<div>\n",
       "<style scoped>\n",
       "    .dataframe tbody tr th:only-of-type {\n",
       "        vertical-align: middle;\n",
       "    }\n",
       "\n",
       "    .dataframe tbody tr th {\n",
       "        vertical-align: top;\n",
       "    }\n",
       "\n",
       "    .dataframe thead th {\n",
       "        text-align: right;\n",
       "    }\n",
       "</style>\n",
       "<table border=\"1\" class=\"dataframe\">\n",
       "  <thead>\n",
       "    <tr style=\"text-align: right;\">\n",
       "      <th></th>\n",
       "      <th>vid</th>\n",
       "      <th>index</th>\n",
       "      <th>prob</th>\n",
       "    </tr>\n",
       "  </thead>\n",
       "  <tbody>\n",
       "    <tr>\n",
       "      <th>0</th>\n",
       "      <td>B099NS1XPG</td>\n",
       "      <td>0</td>\n",
       "      <td>2.650614e-01</td>\n",
       "    </tr>\n",
       "    <tr>\n",
       "      <th>1</th>\n",
       "      <td>B08496TCCQ</td>\n",
       "      <td>0</td>\n",
       "      <td>7.867639e-07</td>\n",
       "    </tr>\n",
       "    <tr>\n",
       "      <th>2</th>\n",
       "      <td>B01BVG1XJS</td>\n",
       "      <td>0</td>\n",
       "      <td>8.197974e-07</td>\n",
       "    </tr>\n",
       "    <tr>\n",
       "      <th>3</th>\n",
       "      <td>B099NR3X6D</td>\n",
       "      <td>0</td>\n",
       "      <td>2.646391e-01</td>\n",
       "    </tr>\n",
       "    <tr>\n",
       "      <th>4</th>\n",
       "      <td>B09WDSH4CD</td>\n",
       "      <td>0</td>\n",
       "      <td>2.863094e-01</td>\n",
       "    </tr>\n",
       "    <tr>\n",
       "      <th>5</th>\n",
       "      <td>B0BHWQJJKW</td>\n",
       "      <td>0</td>\n",
       "      <td>2.691104e-01</td>\n",
       "    </tr>\n",
       "    <tr>\n",
       "      <th>6</th>\n",
       "      <td>B07LG5T3V9</td>\n",
       "      <td>0</td>\n",
       "      <td>1.644491e-01</td>\n",
       "    </tr>\n",
       "    <tr>\n",
       "      <th>7</th>\n",
       "      <td>B0BGL7KC2D</td>\n",
       "      <td>0</td>\n",
       "      <td>2.619444e-01</td>\n",
       "    </tr>\n",
       "    <tr>\n",
       "      <th>8</th>\n",
       "      <td>B0B53KBXR8</td>\n",
       "      <td>0</td>\n",
       "      <td>2.306425e-01</td>\n",
       "    </tr>\n",
       "    <tr>\n",
       "      <th>9</th>\n",
       "      <td>B07QPV9Z7X</td>\n",
       "      <td>0</td>\n",
       "      <td>4.752867e-04</td>\n",
       "    </tr>\n",
       "  </tbody>\n",
       "</table>\n",
       "</div>"
      ],
      "text/plain": [
       "          vid  index          prob\n",
       "0  B099NS1XPG      0  2.650614e-01\n",
       "1  B08496TCCQ      0  7.867639e-07\n",
       "2  B01BVG1XJS      0  8.197974e-07\n",
       "3  B099NR3X6D      0  2.646391e-01\n",
       "4  B09WDSH4CD      0  2.863094e-01\n",
       "5  B0BHWQJJKW      0  2.691104e-01\n",
       "6  B07LG5T3V9      0  1.644491e-01\n",
       "7  B0BGL7KC2D      0  2.619444e-01\n",
       "8  B0B53KBXR8      0  2.306425e-01\n",
       "9  B07QPV9Z7X      0  4.752867e-04"
      ]
     },
     "execution_count": 100,
     "metadata": {},
     "output_type": "execute_result"
    }
   ],
   "source": [
    "test_fea[test_fea['index'] == 0][['vid', 'index', 'prob']]"
   ]
  },
  {
   "cell_type": "code",
   "execution_count": 103,
   "metadata": {},
   "outputs": [
    {
     "data": {
      "text/plain": [
       "['B099NS1XPG',\n",
       " 'B08496TCCQ',\n",
       " 'B01BVG1XJS',\n",
       " 'B099NR3X6D',\n",
       " 'B09WDSH4CD',\n",
       " 'B0BHWQJJKW',\n",
       " 'B07LG5T3V9',\n",
       " 'B0BGL7KC2D',\n",
       " 'B0B53KBXR8',\n",
       " 'B07QPV9Z7X']"
      ]
     },
     "execution_count": 103,
     "metadata": {},
     "output_type": "execute_result"
    }
   ],
   "source": [
    "test_preds[0][:10]"
   ]
  },
  {
   "cell_type": "code",
   "execution_count": 108,
   "metadata": {},
   "outputs": [
    {
     "data": {
      "text/plain": [
       "['B09WDSH4CD',\n",
       " 'B0BHWQJJKW',\n",
       " 'B099NS1XPG',\n",
       " 'B099NR3X6D',\n",
       " 'B0BGL7KC2D',\n",
       " 'B0B53KBXR8',\n",
       " 'B07LG5T3V9',\n",
       " 'B07QPV9Z7X',\n",
       " 'B01BVG1XJS',\n",
       " 'B08496TCCQ']"
      ]
     },
     "execution_count": 108,
     "metadata": {},
     "output_type": "execute_result"
    }
   ],
   "source": [
    "test_preds_lgb[0][:10]"
   ]
  },
  {
   "attachments": {},
   "cell_type": "markdown",
   "metadata": {},
   "source": [
    "# 11111"
   ]
  }
 ],
 "metadata": {
  "kernelspec": {
   "display_name": "libcityng",
   "language": "python",
   "name": "python3"
  },
  "language_info": {
   "codemirror_mode": {
    "name": "ipython",
    "version": 3
   },
   "file_extension": ".py",
   "mimetype": "text/x-python",
   "name": "python",
   "nbconvert_exporter": "python",
   "pygments_lexer": "ipython3",
   "version": "3.9.7"
  },
  "orig_nbformat": 4
 },
 "nbformat": 4,
 "nbformat_minor": 2
}
