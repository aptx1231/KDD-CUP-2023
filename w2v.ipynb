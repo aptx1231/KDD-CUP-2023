{
 "cells": [
  {
   "cell_type": "code",
   "execution_count": 2,
   "metadata": {},
   "outputs": [],
   "source": [
    "import numpy as np \n",
    "import pandas as pd\n",
    "import matplotlib.pyplot as plt\n",
    "import seaborn as sns\n",
    "import warnings\n",
    "import os\n",
    "import re\n",
    "import math\n",
    "\n",
    "import pickle\n",
    "\n",
    "\n",
    "from gensim.models import Word2Vec\n",
    "\n"
   ]
  },
  {
   "cell_type": "code",
   "execution_count": 3,
   "metadata": {},
   "outputs": [],
   "source": [
    "id_seqs = np.load('./data/id_seqs.npy', allow_pickle=True)"
   ]
  },
  {
   "cell_type": "code",
   "execution_count": 4,
   "metadata": {},
   "outputs": [],
   "source": [
    "w2v_window = 3\n",
    "w2v_min_count = 1\n",
    "w2v_epochs = 500\n",
    "w2v_vector_size = 64"
   ]
  },
  {
   "cell_type": "code",
   "execution_count": 6,
   "metadata": {},
   "outputs": [],
   "source": [
    "id_word2vec = Word2Vec(sentences=id_seqs, window=w2v_window, min_count=w2v_min_count, workers=40, epochs=w2v_epochs, vector_size=w2v_vector_size)"
   ]
  },
  {
   "cell_type": "code",
   "execution_count": 7,
   "metadata": {},
   "outputs": [],
   "source": [
    "id_word2vec.wv.save_word2vec_format('./data/word2vec_{}_{}_{}_{}.txt'.format(w2v_vector_size, w2v_epochs, w2v_window, w2v_min_count))"
   ]
  },
  {
   "cell_type": "code",
   "execution_count": 8,
   "metadata": {},
   "outputs": [],
   "source": [
    "id_word2vec.save('./data/word2vec_{}_{}_{}_{}.pt'.format(w2v_vector_size, w2v_epochs, w2v_window, w2v_min_count))"
   ]
  },
  {
   "cell_type": "code",
   "execution_count": 9,
   "metadata": {},
   "outputs": [],
   "source": [
    "id_word2vec = Word2Vec.load('./data/word2vec_{}_{}_{}_{}.pt'.format(w2v_vector_size, w2v_epochs, w2v_window, w2v_min_count))"
   ]
  },
  {
   "cell_type": "code",
   "execution_count": 10,
   "metadata": {},
   "outputs": [],
   "source": [
    "id_count = 1410675"
   ]
  },
  {
   "cell_type": "code",
   "execution_count": 11,
   "metadata": {},
   "outputs": [],
   "source": [
    "from tqdm import tqdm"
   ]
  },
  {
   "cell_type": "code",
   "execution_count": 12,
   "metadata": {},
   "outputs": [
    {
     "name": "stderr",
     "output_type": "stream",
     "text": [
      "100%|██████████| 1410675/1410675 [00:02<00:00, 611515.21it/s]"
     ]
    },
    {
     "name": "stdout",
     "output_type": "stream",
     "text": [
      "1405867\n",
      "1405878\n",
      "1405945\n",
      "1405974\n",
      "1406057\n",
      "1406093\n",
      "1406100\n",
      "1406105\n",
      "1406131\n",
      "1406163\n",
      "1406216\n",
      "1406225\n",
      "1406264\n",
      "1406326\n",
      "1406338\n",
      "1406353\n",
      "1406367\n",
      "1406398\n",
      "1406417\n",
      "1406418\n",
      "1406442\n",
      "1406462\n",
      "1406477\n",
      "1406498\n",
      "1406522\n",
      "1406527\n",
      "1406545\n",
      "1406571\n",
      "1406617\n",
      "1406634\n",
      "1406650\n",
      "1406666\n",
      "1406667\n",
      "1406688\n",
      "1406713\n",
      "1406729\n",
      "1406735\n",
      "1406736\n",
      "1406780\n",
      "1406834\n",
      "1406882\n",
      "1406925\n",
      "1406931\n",
      "1406932\n",
      "1406939\n",
      "1406941\n",
      "1406979\n",
      "1406989\n",
      "1407032\n",
      "1407058\n",
      "1407099\n",
      "1407108\n",
      "1407130\n",
      "1407131\n",
      "1407141\n",
      "1407143\n",
      "1407168\n",
      "1407179\n",
      "1407220\n",
      "1407225\n",
      "1407230\n",
      "1407237\n",
      "1407246\n",
      "1407261\n",
      "1407267\n",
      "1407280\n",
      "1407312\n",
      "1407322\n",
      "1407337\n",
      "1407353\n",
      "1407438\n",
      "1407463\n",
      "1407472\n",
      "1407479\n",
      "1407491\n",
      "1407502\n",
      "1407557\n",
      "1407582\n",
      "1407606\n",
      "1407630\n",
      "1407642\n",
      "1407674\n",
      "1407713\n",
      "1407740\n",
      "1407757\n",
      "1407855\n",
      "1407864\n",
      "1407881\n",
      "1407885\n",
      "1407887\n",
      "1407907\n",
      "1407918\n",
      "1407929\n",
      "1407970\n",
      "1407972\n",
      "1407980\n",
      "1408010\n",
      "1408020\n",
      "1408050\n",
      "1408051\n",
      "1408065\n",
      "1408090\n",
      "1408125\n",
      "1408130\n",
      "1408132\n",
      "1408149\n",
      "1408184\n",
      "1408198\n",
      "1408199\n",
      "1408206\n",
      "1408236\n",
      "1408259\n",
      "1408289\n",
      "1408404\n",
      "1408434\n",
      "1408443\n",
      "1408496\n",
      "1408529\n",
      "1408538\n",
      "1408550\n",
      "1408641\n",
      "1408643\n",
      "1408699\n",
      "1408729\n",
      "1408747\n",
      "1408754\n",
      "1408757\n",
      "1408770\n",
      "1408790\n",
      "1408812\n",
      "1408819\n",
      "1408841\n",
      "1408851\n",
      "1408882\n",
      "1408892\n",
      "1408909\n",
      "1408956\n",
      "1409000\n",
      "1409008\n",
      "1409145\n",
      "1409151\n",
      "1409228\n",
      "1409251\n",
      "1409254\n",
      "1409286\n",
      "1409345\n",
      "1409368\n",
      "1409424\n",
      "1409445\n",
      "1409471\n",
      "1409585\n",
      "1409587\n",
      "1409603\n",
      "1409632\n",
      "1409640\n",
      "1409682\n",
      "1409716\n",
      "1409732\n",
      "1409738\n",
      "1409775\n",
      "1409808\n",
      "1409837\n",
      "1409841\n",
      "1409877\n",
      "1409901\n",
      "1409906\n",
      "1409914\n",
      "1409929\n",
      "1409930\n",
      "1409964\n",
      "1409966\n",
      "1410007\n",
      "1410018\n",
      "1410023\n",
      "1410025\n",
      "1410090\n",
      "1410096\n",
      "1410115\n",
      "1410126\n",
      "1410132\n",
      "1410217\n",
      "1410334\n",
      "1410399\n",
      "1410407\n",
      "1410410\n",
      "1410448\n",
      "1410471\n",
      "1410533\n",
      "1410600\n"
     ]
    },
    {
     "name": "stderr",
     "output_type": "stream",
     "text": [
      "\n"
     ]
    }
   ],
   "source": [
    "word2vec_embedding = []\n",
    "for word in tqdm(range(id_count)):\n",
    "    try:\n",
    "        word2vec_embedding.append(id_word2vec.wv[word])\n",
    "    except:\n",
    "        # 部分word没有出现在id_seqs里边，就是不存在历史的那些id\n",
    "        print(word)\n",
    "        word2vec_embedding.append(np.zeros(w2v_vector_size))"
   ]
  },
  {
   "cell_type": "code",
   "execution_count": 13,
   "metadata": {},
   "outputs": [],
   "source": [
    "np.save('./data/word2vec_embedding_{}.npy'.format(w2v_vector_size), word2vec_embedding)"
   ]
  },
  {
   "cell_type": "code",
   "execution_count": null,
   "metadata": {},
   "outputs": [],
   "source": []
  }
 ],
 "metadata": {
  "kernelspec": {
   "display_name": "libcityng",
   "language": "python",
   "name": "python3"
  },
  "language_info": {
   "codemirror_mode": {
    "name": "ipython",
    "version": 3
   },
   "file_extension": ".py",
   "mimetype": "text/x-python",
   "name": "python",
   "nbconvert_exporter": "python",
   "pygments_lexer": "ipython3",
   "version": "3.9.16"
  },
  "orig_nbformat": 4
 },
 "nbformat": 4,
 "nbformat_minor": 2
}
