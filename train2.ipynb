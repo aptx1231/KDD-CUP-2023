{
 "cells": [
  {
   "cell_type": "code",
   "execution_count": 1,
   "metadata": {},
   "outputs": [],
   "source": [
    "import numpy as np \n",
    "import pandas as pd\n",
    "import matplotlib.pyplot as plt\n",
    "import seaborn as sns\n",
    "import warnings\n",
    "import os\n",
    "import re\n",
    "import math\n",
    "import plotly.express as px\n",
    "import plotly.graph_objects as go\n",
    "from plotly.subplots import make_subplots\n",
    "\n",
    "from lightgbm import LGBMRegressor, LGBMClassifier\n",
    "from xgboost import XGBRegressor, XGBClassifier\n",
    "from catboost import CatBoostRegressor, CatBoostClassifier\n",
    "import lightgbm as lgb\n",
    "import xgboost as xgb\n",
    "import catboost as cab\n",
    "\n",
    "from sklearn.preprocessing import LabelEncoder\n",
    "from sklearn.model_selection import cross_val_score, KFold, StratifiedKFold, GridSearchCV\n",
    "from sklearn.decomposition import LatentDirichletAllocation, NMF, TruncatedSVD\n",
    "from sklearn.linear_model import LogisticRegression, SGDClassifier\n",
    "from sklearn.ensemble import RandomForestRegressor, AdaBoostRegressor, GradientBoostingRegressor, HistGradientBoostingRegressor, StackingRegressor\n",
    "from sklearn.ensemble import RandomForestClassifier, AdaBoostClassifier, GradientBoostingClassifier, HistGradientBoostingClassifier, StackingClassifier\n",
    "from sklearn.tree import DecisionTreeRegressor, DecisionTreeClassifier\n",
    "from sklearn import metrics\n",
    "from sklearn.svm import SVC\n",
    "from sklearn.feature_extraction.text import TfidfVectorizer\n",
    "from sklearn.preprocessing import PolynomialFeatures\n",
    "from sklearn.neighbors import KNeighborsClassifier\n",
    "from tqdm import tqdm\n",
    "\n",
    "import matplotlib.pyplot as plt\n",
    "from collections import defaultdict, Counter\n",
    "import warnings\n",
    "import json \n",
    "import pickle\n",
    "warnings.filterwarnings('ignore')\n",
    "from sklearn.preprocessing import KBinsDiscretizer"
   ]
  },
  {
   "attachments": {},
   "cell_type": "markdown",
   "metadata": {},
   "source": [
    "数据读取"
   ]
  },
  {
   "cell_type": "code",
   "execution_count": 54,
   "metadata": {},
   "outputs": [
    {
     "data": {
      "text/html": [
       "<div>\n",
       "<style scoped>\n",
       "    .dataframe tbody tr th:only-of-type {\n",
       "        vertical-align: middle;\n",
       "    }\n",
       "\n",
       "    .dataframe tbody tr th {\n",
       "        vertical-align: top;\n",
       "    }\n",
       "\n",
       "    .dataframe thead th {\n",
       "        text-align: right;\n",
       "    }\n",
       "</style>\n",
       "<table border=\"1\" class=\"dataframe\">\n",
       "  <thead>\n",
       "    <tr style=\"text-align: right;\">\n",
       "      <th></th>\n",
       "      <th>prev_items</th>\n",
       "      <th>next_item</th>\n",
       "      <th>locale</th>\n",
       "    </tr>\n",
       "  </thead>\n",
       "  <tbody>\n",
       "    <tr>\n",
       "      <th>0</th>\n",
       "      <td>['B09W9FND7K' 'B09JSPLN1M']</td>\n",
       "      <td>B09M7GY217</td>\n",
       "      <td>DE</td>\n",
       "    </tr>\n",
       "    <tr>\n",
       "      <th>1</th>\n",
       "      <td>['B076THCGSG' 'B007MO8IME' 'B08MF65MLV' 'B001B...</td>\n",
       "      <td>B001B4THSA</td>\n",
       "      <td>DE</td>\n",
       "    </tr>\n",
       "    <tr>\n",
       "      <th>2</th>\n",
       "      <td>['B0B1LGXWDS' 'B00AZYORS2' 'B0B1LGXWDS' 'B00AZ...</td>\n",
       "      <td>B0767DTG2Q</td>\n",
       "      <td>DE</td>\n",
       "    </tr>\n",
       "    <tr>\n",
       "      <th>3</th>\n",
       "      <td>['B09XMTWDVT' 'B0B4MZZ8MB' 'B0B7HZ2GWX' 'B09XM...</td>\n",
       "      <td>B0B4R9NN4B</td>\n",
       "      <td>DE</td>\n",
       "    </tr>\n",
       "    <tr>\n",
       "      <th>4</th>\n",
       "      <td>['B09Y5CSL3T' 'B09Y5DPTXN' 'B09FKD61R8']</td>\n",
       "      <td>B0BGVBKWGZ</td>\n",
       "      <td>DE</td>\n",
       "    </tr>\n",
       "    <tr>\n",
       "      <th>...</th>\n",
       "      <td>...</td>\n",
       "      <td>...</td>\n",
       "      <td>...</td>\n",
       "    </tr>\n",
       "    <tr>\n",
       "      <th>3606244</th>\n",
       "      <td>['B086CYFSKW' 'B0874F9859' 'B086CYFSKW']</td>\n",
       "      <td>B07B5TYD76</td>\n",
       "      <td>IT</td>\n",
       "    </tr>\n",
       "    <tr>\n",
       "      <th>3606245</th>\n",
       "      <td>['B09NRZKZ7V' 'B08WJTPV93']</td>\n",
       "      <td>B08L1P4C3D</td>\n",
       "      <td>IT</td>\n",
       "    </tr>\n",
       "    <tr>\n",
       "      <th>3606246</th>\n",
       "      <td>['B085JFX7MP' 'B085JGHW8R']</td>\n",
       "      <td>B01MPWVD44</td>\n",
       "      <td>IT</td>\n",
       "    </tr>\n",
       "    <tr>\n",
       "      <th>3606247</th>\n",
       "      <td>['B00B0UING2' 'B00B0UING2']</td>\n",
       "      <td>B00D3HYEZ4</td>\n",
       "      <td>IT</td>\n",
       "    </tr>\n",
       "    <tr>\n",
       "      <th>3606248</th>\n",
       "      <td>['B092S9D1SD' 'B09XQQ1S72' 'B0852MS7QC' 'B0B1V...</td>\n",
       "      <td>B0B7RX65YP</td>\n",
       "      <td>IT</td>\n",
       "    </tr>\n",
       "  </tbody>\n",
       "</table>\n",
       "<p>3606249 rows × 3 columns</p>\n",
       "</div>"
      ],
      "text/plain": [
       "                                                prev_items   next_item locale\n",
       "0                              ['B09W9FND7K' 'B09JSPLN1M']  B09M7GY217     DE\n",
       "1        ['B076THCGSG' 'B007MO8IME' 'B08MF65MLV' 'B001B...  B001B4THSA     DE\n",
       "2        ['B0B1LGXWDS' 'B00AZYORS2' 'B0B1LGXWDS' 'B00AZ...  B0767DTG2Q     DE\n",
       "3        ['B09XMTWDVT' 'B0B4MZZ8MB' 'B0B7HZ2GWX' 'B09XM...  B0B4R9NN4B     DE\n",
       "4                 ['B09Y5CSL3T' 'B09Y5DPTXN' 'B09FKD61R8']  B0BGVBKWGZ     DE\n",
       "...                                                    ...         ...    ...\n",
       "3606244           ['B086CYFSKW' 'B0874F9859' 'B086CYFSKW']  B07B5TYD76     IT\n",
       "3606245                        ['B09NRZKZ7V' 'B08WJTPV93']  B08L1P4C3D     IT\n",
       "3606246                        ['B085JFX7MP' 'B085JGHW8R']  B01MPWVD44     IT\n",
       "3606247                        ['B00B0UING2' 'B00B0UING2']  B00D3HYEZ4     IT\n",
       "3606248  ['B092S9D1SD' 'B09XQQ1S72' 'B0852MS7QC' 'B0B1V...  B0B7RX65YP     IT\n",
       "\n",
       "[3606249 rows x 3 columns]"
      ]
     },
     "execution_count": 54,
     "metadata": {},
     "output_type": "execute_result"
    }
   ],
   "source": [
    "# (3606249, 3)\n",
    "df_train = pd.read_csv('data/sessions_train.csv')\n",
    "df_train"
   ]
  },
  {
   "cell_type": "code",
   "execution_count": 55,
   "metadata": {},
   "outputs": [
    {
     "data": {
      "text/html": [
       "<div>\n",
       "<style scoped>\n",
       "    .dataframe tbody tr th:only-of-type {\n",
       "        vertical-align: middle;\n",
       "    }\n",
       "\n",
       "    .dataframe tbody tr th {\n",
       "        vertical-align: top;\n",
       "    }\n",
       "\n",
       "    .dataframe thead th {\n",
       "        text-align: right;\n",
       "    }\n",
       "</style>\n",
       "<table border=\"1\" class=\"dataframe\">\n",
       "  <thead>\n",
       "    <tr style=\"text-align: right;\">\n",
       "      <th></th>\n",
       "      <th>prev_items</th>\n",
       "      <th>locale</th>\n",
       "    </tr>\n",
       "  </thead>\n",
       "  <tbody>\n",
       "    <tr>\n",
       "      <th>0</th>\n",
       "      <td>['B08V12CT4C' 'B08V1KXBQD' 'B01BVG1XJS' 'B09VC...</td>\n",
       "      <td>DE</td>\n",
       "    </tr>\n",
       "    <tr>\n",
       "      <th>1</th>\n",
       "      <td>['B00R9R5ND6' 'B00R9RZ9ZS' 'B00R9RZ9ZS']</td>\n",
       "      <td>DE</td>\n",
       "    </tr>\n",
       "    <tr>\n",
       "      <th>2</th>\n",
       "      <td>['B07YSRXJD3' 'B07G7Q5N6G' 'B08C9Q7QVK' 'B07G7...</td>\n",
       "      <td>DE</td>\n",
       "    </tr>\n",
       "    <tr>\n",
       "      <th>3</th>\n",
       "      <td>['B08KQBYV43' '3955350843' '3955350843' '39553...</td>\n",
       "      <td>DE</td>\n",
       "    </tr>\n",
       "    <tr>\n",
       "      <th>4</th>\n",
       "      <td>['B09FPTCWMC' 'B09FPTQP68' 'B08HMRY8NG' 'B08TB...</td>\n",
       "      <td>DE</td>\n",
       "    </tr>\n",
       "    <tr>\n",
       "      <th>...</th>\n",
       "      <td>...</td>\n",
       "      <td>...</td>\n",
       "    </tr>\n",
       "    <tr>\n",
       "      <th>316966</th>\n",
       "      <td>['B077SZ2C3Y' 'B0B14M3VZX']</td>\n",
       "      <td>UK</td>\n",
       "    </tr>\n",
       "    <tr>\n",
       "      <th>316967</th>\n",
       "      <td>['B08KFHDPY9' 'B0851KTSRZ' 'B08KFHDPY9' 'B0851...</td>\n",
       "      <td>UK</td>\n",
       "    </tr>\n",
       "    <tr>\n",
       "      <th>316968</th>\n",
       "      <td>['B07PY1N81F' 'B07Q1Z8SQN' 'B07PY1N81F' 'B07Q1...</td>\n",
       "      <td>UK</td>\n",
       "    </tr>\n",
       "    <tr>\n",
       "      <th>316969</th>\n",
       "      <td>['B01MCQMORK' 'B09JYZ325W']</td>\n",
       "      <td>UK</td>\n",
       "    </tr>\n",
       "    <tr>\n",
       "      <th>316970</th>\n",
       "      <td>['B0B8JX92YJ' 'B09TN4MP6V' 'B0BG2LZQSL']</td>\n",
       "      <td>UK</td>\n",
       "    </tr>\n",
       "  </tbody>\n",
       "</table>\n",
       "<p>316971 rows × 2 columns</p>\n",
       "</div>"
      ],
      "text/plain": [
       "                                               prev_items locale\n",
       "0       ['B08V12CT4C' 'B08V1KXBQD' 'B01BVG1XJS' 'B09VC...     DE\n",
       "1                ['B00R9R5ND6' 'B00R9RZ9ZS' 'B00R9RZ9ZS']     DE\n",
       "2       ['B07YSRXJD3' 'B07G7Q5N6G' 'B08C9Q7QVK' 'B07G7...     DE\n",
       "3       ['B08KQBYV43' '3955350843' '3955350843' '39553...     DE\n",
       "4       ['B09FPTCWMC' 'B09FPTQP68' 'B08HMRY8NG' 'B08TB...     DE\n",
       "...                                                   ...    ...\n",
       "316966                        ['B077SZ2C3Y' 'B0B14M3VZX']     UK\n",
       "316967  ['B08KFHDPY9' 'B0851KTSRZ' 'B08KFHDPY9' 'B0851...     UK\n",
       "316968  ['B07PY1N81F' 'B07Q1Z8SQN' 'B07PY1N81F' 'B07Q1...     UK\n",
       "316969                        ['B01MCQMORK' 'B09JYZ325W']     UK\n",
       "316970           ['B0B8JX92YJ' 'B09TN4MP6V' 'B0BG2LZQSL']     UK\n",
       "\n",
       "[316971 rows x 2 columns]"
      ]
     },
     "execution_count": 55,
     "metadata": {},
     "output_type": "execute_result"
    }
   ],
   "source": [
    "df_test_phase1 = pd.read_csv('data/sessions_test_task1.csv')\n",
    "df_test_phase1"
   ]
  },
  {
   "cell_type": "code",
   "execution_count": 56,
   "metadata": {},
   "outputs": [
    {
     "data": {
      "text/html": [
       "<div>\n",
       "<style scoped>\n",
       "    .dataframe tbody tr th:only-of-type {\n",
       "        vertical-align: middle;\n",
       "    }\n",
       "\n",
       "    .dataframe tbody tr th {\n",
       "        vertical-align: top;\n",
       "    }\n",
       "\n",
       "    .dataframe thead th {\n",
       "        text-align: right;\n",
       "    }\n",
       "</style>\n",
       "<table border=\"1\" class=\"dataframe\">\n",
       "  <thead>\n",
       "    <tr style=\"text-align: right;\">\n",
       "      <th></th>\n",
       "      <th>prev_items</th>\n",
       "      <th>locale</th>\n",
       "    </tr>\n",
       "  </thead>\n",
       "  <tbody>\n",
       "    <tr>\n",
       "      <th>0</th>\n",
       "      <td>['B087VLP2RT' 'B09BRQSHYH' 'B099KW4ZLV']</td>\n",
       "      <td>DE</td>\n",
       "    </tr>\n",
       "    <tr>\n",
       "      <th>1</th>\n",
       "      <td>['B08XW4W667' 'B096VMCJYF' 'B096VMCJYF']</td>\n",
       "      <td>DE</td>\n",
       "    </tr>\n",
       "    <tr>\n",
       "      <th>2</th>\n",
       "      <td>['B09Z4T2GJ3' 'B09Z3FBXMB' 'B0936K9LTJ' 'B09Z4...</td>\n",
       "      <td>DE</td>\n",
       "    </tr>\n",
       "    <tr>\n",
       "      <th>3</th>\n",
       "      <td>['B07T6Y2HG7' 'B07T2NBLX9' 'B07Y1G5F3Y']</td>\n",
       "      <td>DE</td>\n",
       "    </tr>\n",
       "    <tr>\n",
       "      <th>4</th>\n",
       "      <td>['B0B2DRKZ6X' 'B0B2DRKZ6X' 'B0B2DRKZ6X']</td>\n",
       "      <td>DE</td>\n",
       "    </tr>\n",
       "    <tr>\n",
       "      <th>...</th>\n",
       "      <td>...</td>\n",
       "      <td>...</td>\n",
       "    </tr>\n",
       "    <tr>\n",
       "      <th>316967</th>\n",
       "      <td>['B078RJX3CC' 'B07GKM97YF']</td>\n",
       "      <td>UK</td>\n",
       "    </tr>\n",
       "    <tr>\n",
       "      <th>316968</th>\n",
       "      <td>['B01LX5Y7RG' 'B00M35Y2J0' 'B0BFR9D1Y2' 'B09BB...</td>\n",
       "      <td>UK</td>\n",
       "    </tr>\n",
       "    <tr>\n",
       "      <th>316969</th>\n",
       "      <td>['B09HGRXXTM' 'B08VDNCZT9']</td>\n",
       "      <td>UK</td>\n",
       "    </tr>\n",
       "    <tr>\n",
       "      <th>316970</th>\n",
       "      <td>['B089CVQ2FS' 'B089CVQ2FS']</td>\n",
       "      <td>UK</td>\n",
       "    </tr>\n",
       "    <tr>\n",
       "      <th>316971</th>\n",
       "      <td>['B07H48412Q' 'B093GS4XYP' 'B07H42L4TJ']</td>\n",
       "      <td>UK</td>\n",
       "    </tr>\n",
       "  </tbody>\n",
       "</table>\n",
       "<p>316972 rows × 2 columns</p>\n",
       "</div>"
      ],
      "text/plain": [
       "                                               prev_items locale\n",
       "0                ['B087VLP2RT' 'B09BRQSHYH' 'B099KW4ZLV']     DE\n",
       "1                ['B08XW4W667' 'B096VMCJYF' 'B096VMCJYF']     DE\n",
       "2       ['B09Z4T2GJ3' 'B09Z3FBXMB' 'B0936K9LTJ' 'B09Z4...     DE\n",
       "3                ['B07T6Y2HG7' 'B07T2NBLX9' 'B07Y1G5F3Y']     DE\n",
       "4                ['B0B2DRKZ6X' 'B0B2DRKZ6X' 'B0B2DRKZ6X']     DE\n",
       "...                                                   ...    ...\n",
       "316967                        ['B078RJX3CC' 'B07GKM97YF']     UK\n",
       "316968  ['B01LX5Y7RG' 'B00M35Y2J0' 'B0BFR9D1Y2' 'B09BB...     UK\n",
       "316969                        ['B09HGRXXTM' 'B08VDNCZT9']     UK\n",
       "316970                        ['B089CVQ2FS' 'B089CVQ2FS']     UK\n",
       "316971           ['B07H48412Q' 'B093GS4XYP' 'B07H42L4TJ']     UK\n",
       "\n",
       "[316972 rows x 2 columns]"
      ]
     },
     "execution_count": 56,
     "metadata": {},
     "output_type": "execute_result"
    }
   ],
   "source": [
    "# (316972, 2)\n",
    "df_test_phase2 = pd.read_csv('data/phase2/sessions_test_task1.csv')\n",
    "df_test_phase2"
   ]
  },
  {
   "cell_type": "code",
   "execution_count": 57,
   "metadata": {},
   "outputs": [
    {
     "data": {
      "text/html": [
       "<div>\n",
       "<style scoped>\n",
       "    .dataframe tbody tr th:only-of-type {\n",
       "        vertical-align: middle;\n",
       "    }\n",
       "\n",
       "    .dataframe tbody tr th {\n",
       "        vertical-align: top;\n",
       "    }\n",
       "\n",
       "    .dataframe thead th {\n",
       "        text-align: right;\n",
       "    }\n",
       "</style>\n",
       "<table border=\"1\" class=\"dataframe\">\n",
       "  <thead>\n",
       "    <tr style=\"text-align: right;\">\n",
       "      <th></th>\n",
       "      <th>prev_items</th>\n",
       "      <th>locale</th>\n",
       "    </tr>\n",
       "  </thead>\n",
       "  <tbody>\n",
       "    <tr>\n",
       "      <th>0</th>\n",
       "      <td>['B07GTS7SWK' 'B07GTS7SWK']</td>\n",
       "      <td>ES</td>\n",
       "    </tr>\n",
       "    <tr>\n",
       "      <th>1</th>\n",
       "      <td>['B0B33YWVHR' '849988993X' 'B09QQG85HM' 'B0BJZ...</td>\n",
       "      <td>ES</td>\n",
       "    </tr>\n",
       "    <tr>\n",
       "      <th>2</th>\n",
       "      <td>['B08FMPXDTJ' 'B0B4612MTM' 'B0B45YR21M' 'B0B4F...</td>\n",
       "      <td>ES</td>\n",
       "    </tr>\n",
       "    <tr>\n",
       "      <th>3</th>\n",
       "      <td>['B07R3W4XQ7' 'B07R3FB5B5']</td>\n",
       "      <td>ES</td>\n",
       "    </tr>\n",
       "    <tr>\n",
       "      <th>4</th>\n",
       "      <td>['B09V4KBWPL' 'B09G9FTLPB']</td>\n",
       "      <td>ES</td>\n",
       "    </tr>\n",
       "    <tr>\n",
       "      <th>...</th>\n",
       "      <td>...</td>\n",
       "      <td>...</td>\n",
       "    </tr>\n",
       "    <tr>\n",
       "      <th>34685</th>\n",
       "      <td>['B089F3YK6X' 'B01BBW9TEI' 'B01BBW9Q46']</td>\n",
       "      <td>IT</td>\n",
       "    </tr>\n",
       "    <tr>\n",
       "      <th>34686</th>\n",
       "      <td>['B078XYC42V' 'B09TW31SND']</td>\n",
       "      <td>IT</td>\n",
       "    </tr>\n",
       "    <tr>\n",
       "      <th>34687</th>\n",
       "      <td>['B07ZG3V3X2' 'B09PGKF9Y8']</td>\n",
       "      <td>IT</td>\n",
       "    </tr>\n",
       "    <tr>\n",
       "      <th>34688</th>\n",
       "      <td>['B0B3JRGZLM' 'B09SHQJ8NV']</td>\n",
       "      <td>IT</td>\n",
       "    </tr>\n",
       "    <tr>\n",
       "      <th>34689</th>\n",
       "      <td>['B08ZHKGYXR' 'B07Z8PZTGL' 'B0882QYG73']</td>\n",
       "      <td>IT</td>\n",
       "    </tr>\n",
       "  </tbody>\n",
       "</table>\n",
       "<p>34690 rows × 2 columns</p>\n",
       "</div>"
      ],
      "text/plain": [
       "                                              prev_items locale\n",
       "0                            ['B07GTS7SWK' 'B07GTS7SWK']     ES\n",
       "1      ['B0B33YWVHR' '849988993X' 'B09QQG85HM' 'B0BJZ...     ES\n",
       "2      ['B08FMPXDTJ' 'B0B4612MTM' 'B0B45YR21M' 'B0B4F...     ES\n",
       "3                            ['B07R3W4XQ7' 'B07R3FB5B5']     ES\n",
       "4                            ['B09V4KBWPL' 'B09G9FTLPB']     ES\n",
       "...                                                  ...    ...\n",
       "34685           ['B089F3YK6X' 'B01BBW9TEI' 'B01BBW9Q46']     IT\n",
       "34686                        ['B078XYC42V' 'B09TW31SND']     IT\n",
       "34687                        ['B07ZG3V3X2' 'B09PGKF9Y8']     IT\n",
       "34688                        ['B0B3JRGZLM' 'B09SHQJ8NV']     IT\n",
       "34689           ['B08ZHKGYXR' 'B07Z8PZTGL' 'B0882QYG73']     IT\n",
       "\n",
       "[34690 rows x 2 columns]"
      ]
     },
     "execution_count": 57,
     "metadata": {},
     "output_type": "execute_result"
    }
   ],
   "source": [
    "# (316972, 2)\n",
    "df_test_phase2_task2 = pd.read_csv('data/phase2/sessions_test_task2.csv')\n",
    "df_test_phase2_task2"
   ]
  },
  {
   "cell_type": "code",
   "execution_count": 58,
   "metadata": {},
   "outputs": [],
   "source": [
    "def str2list(x):\n",
    "    x = x.replace('[', '').replace(']', '').replace(\"'\", '').replace('\\n', ' ').replace('\\r', ' ')\n",
    "    l = [i for i in x.split() if i]\n",
    "    return l"
   ]
  },
  {
   "cell_type": "code",
   "execution_count": 59,
   "metadata": {},
   "outputs": [
    {
     "data": {
      "text/html": [
       "<div>\n",
       "<style scoped>\n",
       "    .dataframe tbody tr th:only-of-type {\n",
       "        vertical-align: middle;\n",
       "    }\n",
       "\n",
       "    .dataframe tbody tr th {\n",
       "        vertical-align: top;\n",
       "    }\n",
       "\n",
       "    .dataframe thead th {\n",
       "        text-align: right;\n",
       "    }\n",
       "</style>\n",
       "<table border=\"1\" class=\"dataframe\">\n",
       "  <thead>\n",
       "    <tr style=\"text-align: right;\">\n",
       "      <th></th>\n",
       "      <th>id</th>\n",
       "      <th>locale</th>\n",
       "      <th>title</th>\n",
       "      <th>price</th>\n",
       "      <th>brand</th>\n",
       "      <th>color</th>\n",
       "      <th>size</th>\n",
       "      <th>model</th>\n",
       "      <th>material</th>\n",
       "      <th>author</th>\n",
       "      <th>desc</th>\n",
       "    </tr>\n",
       "  </thead>\n",
       "  <tbody>\n",
       "    <tr>\n",
       "      <th>0</th>\n",
       "      <td>B005ZSSN10</td>\n",
       "      <td>DE</td>\n",
       "      <td>RED DRAGON Amberjack 3 - Steel Tip 22 Gramm Wo...</td>\n",
       "      <td>30.95</td>\n",
       "      <td>RED DRAGON</td>\n",
       "      <td>NaN</td>\n",
       "      <td>NaN</td>\n",
       "      <td>RDD0089</td>\n",
       "      <td>NaN</td>\n",
       "      <td>NaN</td>\n",
       "      <td>Amberjacks Steel Dartpfeile sind verfügbar in ...</td>\n",
       "    </tr>\n",
       "    <tr>\n",
       "      <th>1</th>\n",
       "      <td>B08PRYN6LD</td>\n",
       "      <td>DE</td>\n",
       "      <td>Simply Keto Lower Carb* Schokodrops ohne Zucke...</td>\n",
       "      <td>17.90</td>\n",
       "      <td>Simply Keto</td>\n",
       "      <td>NaN</td>\n",
       "      <td>750 g (1er Pack)</td>\n",
       "      <td>NaN</td>\n",
       "      <td>NaN</td>\n",
       "      <td>NaN</td>\n",
       "      <td>🌱 NATÜRLICHE SÜSSE DURCH ERYTHRIT - Wir stelle...</td>\n",
       "    </tr>\n",
       "    <tr>\n",
       "      <th>2</th>\n",
       "      <td>B09MBZJ48V</td>\n",
       "      <td>DE</td>\n",
       "      <td>Sennheiser 508377 PC 5.2 Chat, Stilvolles Mult...</td>\n",
       "      <td>68.89</td>\n",
       "      <td>Sennheiser</td>\n",
       "      <td>Multi-Colour</td>\n",
       "      <td>One size</td>\n",
       "      <td>508377</td>\n",
       "      <td>Kunstleder</td>\n",
       "      <td>NaN</td>\n",
       "      <td>3.5 MM BUCHSE - Kann problemlos an Geräte mit ...</td>\n",
       "    </tr>\n",
       "    <tr>\n",
       "      <th>3</th>\n",
       "      <td>B08ZN6F26S</td>\n",
       "      <td>DE</td>\n",
       "      <td>AmyBenton Auto ab 1 2 3 ahre - Baby Aufziehbar...</td>\n",
       "      <td>18.99</td>\n",
       "      <td>Amy &amp; Benton</td>\n",
       "      <td>Animal Car</td>\n",
       "      <td>NaN</td>\n",
       "      <td>2008B</td>\n",
       "      <td>aufziehauto 1 jahr</td>\n",
       "      <td>NaN</td>\n",
       "      <td>【Auto aufziehbar】: Drücken Sie einfach leicht ...</td>\n",
       "    </tr>\n",
       "    <tr>\n",
       "      <th>4</th>\n",
       "      <td>B094DGRV7D</td>\n",
       "      <td>DE</td>\n",
       "      <td>PLAYMOBIL - 70522 - Cavaliere mit grauem Pony</td>\n",
       "      <td>7.17</td>\n",
       "      <td>PLAYMOBIL</td>\n",
       "      <td>Nicht Zutreffend.</td>\n",
       "      <td>OneSize</td>\n",
       "      <td>70522</td>\n",
       "      <td>Polypropylen</td>\n",
       "      <td>NaN</td>\n",
       "      <td>Inhalt: 1 Stück</td>\n",
       "    </tr>\n",
       "    <tr>\n",
       "      <th>...</th>\n",
       "      <td>...</td>\n",
       "      <td>...</td>\n",
       "      <td>...</td>\n",
       "      <td>...</td>\n",
       "      <td>...</td>\n",
       "      <td>...</td>\n",
       "      <td>...</td>\n",
       "      <td>...</td>\n",
       "      <td>...</td>\n",
       "      <td>...</td>\n",
       "      <td>...</td>\n",
       "    </tr>\n",
       "    <tr>\n",
       "      <th>1551052</th>\n",
       "      <td>B09BW5CDRR</td>\n",
       "      <td>IT</td>\n",
       "      <td>Barbie - Playset Gelateria con Bambola con Mac...</td>\n",
       "      <td>20.48</td>\n",
       "      <td>Barbie</td>\n",
       "      <td>NaN</td>\n",
       "      <td>NaN</td>\n",
       "      <td>HCN46</td>\n",
       "      <td>NaN</td>\n",
       "      <td>NaN</td>\n",
       "      <td>DETTAGLI REALISTICI. Basta inserire la pasta m...</td>\n",
       "    </tr>\n",
       "    <tr>\n",
       "      <th>1551053</th>\n",
       "      <td>B0050IILBM</td>\n",
       "      <td>IT</td>\n",
       "      <td>Braun Silk-épil 1 Depilatore Donna, Epilatore ...</td>\n",
       "      <td>22.61</td>\n",
       "      <td>Braun</td>\n",
       "      <td>Pink</td>\n",
       "      <td>NaN</td>\n",
       "      <td>4210201656067</td>\n",
       "      <td>NaN</td>\n",
       "      <td>NaN</td>\n",
       "      <td>Alimentato a corrente per un comodo utilizzo</td>\n",
       "    </tr>\n",
       "    <tr>\n",
       "      <th>1551054</th>\n",
       "      <td>B07W4C5W9D</td>\n",
       "      <td>IT</td>\n",
       "      <td>BoxLegend Sacchetti Sottovuoto Vestiti 6 Pezzi...</td>\n",
       "      <td>14.99</td>\n",
       "      <td>BoxLegend</td>\n",
       "      <td>6 Pezzi.</td>\n",
       "      <td>6 Pezzi (2L + 2M + 2S)</td>\n",
       "      <td>6186666487608_SML</td>\n",
       "      <td>Polietilene Ppa</td>\n",
       "      <td>NaN</td>\n",
       "      <td>6 Sacchetti in 3 Diverse Misure- Questo set di...</td>\n",
       "    </tr>\n",
       "    <tr>\n",
       "      <th>1551055</th>\n",
       "      <td>B012D0HJXA</td>\n",
       "      <td>IT</td>\n",
       "      <td>Trasportino Pratiko Metal - Accessorio da viag...</td>\n",
       "      <td>18.35</td>\n",
       "      <td>MPS</td>\n",
       "      <td>verde</td>\n",
       "      <td>NaN</td>\n",
       "      <td>NaN</td>\n",
       "      <td>Metallo</td>\n",
       "      <td>NaN</td>\n",
       "      <td>TRASPORTINO 48X31.5X33CM</td>\n",
       "    </tr>\n",
       "    <tr>\n",
       "      <th>1551056</th>\n",
       "      <td>B07P5RLXP3</td>\n",
       "      <td>IT</td>\n",
       "      <td>LiCB - Batterie LR1130, batterie alcaline AG10...</td>\n",
       "      <td>6.99</td>\n",
       "      <td>LiCB</td>\n",
       "      <td>NaN</td>\n",
       "      <td>20 Stück LR1130</td>\n",
       "      <td>LR1130-20</td>\n",
       "      <td>NaN</td>\n",
       "      <td>NaN</td>\n",
       "      <td>Denominazione: 20 pezzi di pile alcaline LR113...</td>\n",
       "    </tr>\n",
       "  </tbody>\n",
       "</table>\n",
       "<p>1551057 rows × 11 columns</p>\n",
       "</div>"
      ],
      "text/plain": [
       "                 id locale                                              title  \\\n",
       "0        B005ZSSN10     DE  RED DRAGON Amberjack 3 - Steel Tip 22 Gramm Wo...   \n",
       "1        B08PRYN6LD     DE  Simply Keto Lower Carb* Schokodrops ohne Zucke...   \n",
       "2        B09MBZJ48V     DE  Sennheiser 508377 PC 5.2 Chat, Stilvolles Mult...   \n",
       "3        B08ZN6F26S     DE  AmyBenton Auto ab 1 2 3 ahre - Baby Aufziehbar...   \n",
       "4        B094DGRV7D     DE      PLAYMOBIL - 70522 - Cavaliere mit grauem Pony   \n",
       "...             ...    ...                                                ...   \n",
       "1551052  B09BW5CDRR     IT  Barbie - Playset Gelateria con Bambola con Mac...   \n",
       "1551053  B0050IILBM     IT  Braun Silk-épil 1 Depilatore Donna, Epilatore ...   \n",
       "1551054  B07W4C5W9D     IT  BoxLegend Sacchetti Sottovuoto Vestiti 6 Pezzi...   \n",
       "1551055  B012D0HJXA     IT  Trasportino Pratiko Metal - Accessorio da viag...   \n",
       "1551056  B07P5RLXP3     IT  LiCB - Batterie LR1130, batterie alcaline AG10...   \n",
       "\n",
       "         price         brand              color                    size  \\\n",
       "0        30.95    RED DRAGON                NaN                     NaN   \n",
       "1        17.90   Simply Keto                NaN        750 g (1er Pack)   \n",
       "2        68.89    Sennheiser       Multi-Colour                One size   \n",
       "3        18.99  Amy & Benton         Animal Car                     NaN   \n",
       "4         7.17     PLAYMOBIL  Nicht Zutreffend.                 OneSize   \n",
       "...        ...           ...                ...                     ...   \n",
       "1551052  20.48        Barbie                NaN                     NaN   \n",
       "1551053  22.61         Braun               Pink                     NaN   \n",
       "1551054  14.99     BoxLegend           6 Pezzi.  6 Pezzi (2L + 2M + 2S)   \n",
       "1551055  18.35           MPS              verde                     NaN   \n",
       "1551056   6.99          LiCB                NaN         20 Stück LR1130   \n",
       "\n",
       "                     model            material author  \\\n",
       "0                  RDD0089                 NaN    NaN   \n",
       "1                      NaN                 NaN    NaN   \n",
       "2                   508377          Kunstleder    NaN   \n",
       "3                    2008B  aufziehauto 1 jahr    NaN   \n",
       "4                    70522        Polypropylen    NaN   \n",
       "...                    ...                 ...    ...   \n",
       "1551052              HCN46                 NaN    NaN   \n",
       "1551053      4210201656067                 NaN    NaN   \n",
       "1551054  6186666487608_SML     Polietilene Ppa    NaN   \n",
       "1551055                NaN             Metallo    NaN   \n",
       "1551056          LR1130-20                 NaN    NaN   \n",
       "\n",
       "                                                      desc  \n",
       "0        Amberjacks Steel Dartpfeile sind verfügbar in ...  \n",
       "1        🌱 NATÜRLICHE SÜSSE DURCH ERYTHRIT - Wir stelle...  \n",
       "2        3.5 MM BUCHSE - Kann problemlos an Geräte mit ...  \n",
       "3        【Auto aufziehbar】: Drücken Sie einfach leicht ...  \n",
       "4                                          Inhalt: 1 Stück  \n",
       "...                                                    ...  \n",
       "1551052  DETTAGLI REALISTICI. Basta inserire la pasta m...  \n",
       "1551053       Alimentato a corrente per un comodo utilizzo  \n",
       "1551054  6 Sacchetti in 3 Diverse Misure- Questo set di...  \n",
       "1551055                           TRASPORTINO 48X31.5X33CM  \n",
       "1551056  Denominazione: 20 pezzi di pile alcaline LR113...  \n",
       "\n",
       "[1551057 rows x 11 columns]"
      ]
     },
     "execution_count": 59,
     "metadata": {},
     "output_type": "execute_result"
    }
   ],
   "source": [
    "# 不到1min (1551057, 11)\n",
    "products = pd.read_csv('data/products_train.csv')\n",
    "products"
   ]
  },
  {
   "cell_type": "code",
   "execution_count": 60,
   "metadata": {},
   "outputs": [],
   "source": [
    "# 1min多一些\n",
    "df_train['prev_items'] = df_train['prev_items'].apply(lambda x: str2list(x))\n",
    "df_test_phase1['prev_items'] = df_test_phase1['prev_items'].apply(lambda x: str2list(x))\n",
    "df_test_phase2['prev_items'] = df_test_phase2['prev_items'].apply(lambda x: str2list(x))"
   ]
  },
  {
   "cell_type": "code",
   "execution_count": 61,
   "metadata": {},
   "outputs": [],
   "source": [
    "df_test_phase2_task2['prev_items'] = df_test_phase2_task2['prev_items'].apply(lambda x: str2list(x))"
   ]
  },
  {
   "cell_type": "code",
   "execution_count": 62,
   "metadata": {},
   "outputs": [],
   "source": [
    "df_train['last_item'] = df_train['prev_items'].apply(lambda x: x[-1])\n",
    "df_test_phase1['last_item'] = df_test_phase1['prev_items'].apply(lambda x: x[-1])\n",
    "df_test_phase2['last_item'] = df_test_phase2['prev_items'].apply(lambda x: x[-1])"
   ]
  },
  {
   "cell_type": "code",
   "execution_count": 63,
   "metadata": {},
   "outputs": [],
   "source": [
    "df_test_phase2_task2['last_item'] = df_test_phase2_task2['prev_items'].apply(lambda x: x[-1])"
   ]
  },
  {
   "cell_type": "code",
   "execution_count": 64,
   "metadata": {},
   "outputs": [
    {
     "data": {
      "text/plain": [
       "((3606249, 4), (316971, 3), (316972, 3), (34690, 3))"
      ]
     },
     "execution_count": 64,
     "metadata": {},
     "output_type": "execute_result"
    }
   ],
   "source": [
    "df_train.shape, df_test_phase1.shape, df_test_phase2.shape, df_test_phase2_task2.shape "
   ]
  },
  {
   "cell_type": "code",
   "execution_count": 65,
   "metadata": {},
   "outputs": [],
   "source": [
    "loc2id = {\n",
    "    'DE': 0,\n",
    "    'JP': 1,\n",
    "    'UK': 2,\n",
    "}"
   ]
  },
  {
   "cell_type": "code",
   "execution_count": 11,
   "metadata": {},
   "outputs": [
    {
     "data": {
      "text/plain": [
       "(3272716, 4)"
      ]
     },
     "execution_count": 11,
     "metadata": {},
     "output_type": "execute_result"
    }
   ],
   "source": [
    "# df_train = df_train[df_train['locale'].isin(['DE', 'JP', 'UK'])]\n",
    "# df_train.shape "
   ]
  },
  {
   "cell_type": "code",
   "execution_count": 12,
   "metadata": {},
   "outputs": [
    {
     "data": {
      "text/plain": [
       "(316971, 3)"
      ]
     },
     "execution_count": 12,
     "metadata": {},
     "output_type": "execute_result"
    }
   ],
   "source": [
    "# df_test = df_test[df_test['locale'].isin(['DE', 'JP', 'UK'])]\n",
    "# df_test.shape "
   ]
  },
  {
   "cell_type": "code",
   "execution_count": 13,
   "metadata": {},
   "outputs": [],
   "source": [
    "# 后边不用重跑"
   ]
  },
  {
   "cell_type": "code",
   "execution_count": 103,
   "metadata": {},
   "outputs": [
    {
     "name": "stderr",
     "output_type": "stream",
     "text": [
      "100%|██████████| 3272716/3272716 [04:39<00:00, 11691.46it/s]\n"
     ]
    },
    {
     "data": {
      "text/plain": [
       "1326772"
      ]
     },
     "execution_count": 103,
     "metadata": {},
     "output_type": "execute_result"
    }
   ],
   "source": [
    "# train_ids = []\n",
    "# for _, row in tqdm(df_train.iterrows(), total=len(df_train)):\n",
    "#     train_ids += row['prev_items']\n",
    "#     train_ids.append(row['next_item'])\n",
    "# train_ids = set(train_ids)\n",
    "# len(train_ids)"
   ]
  },
  {
   "cell_type": "code",
   "execution_count": 105,
   "metadata": {},
   "outputs": [
    {
     "name": "stderr",
     "output_type": "stream",
     "text": [
      "100%|██████████| 316971/316971 [00:24<00:00, 12737.73it/s]\n"
     ]
    },
    {
     "data": {
      "text/plain": [
       "224336"
      ]
     },
     "execution_count": 105,
     "metadata": {},
     "output_type": "execute_result"
    }
   ],
   "source": [
    "# test_ids = []\n",
    "# for _, row in tqdm(df_test.iterrows(), total=len(df_test)):\n",
    "#     test_ids += row['prev_items']\n",
    "# test_ids = set(test_ids)\n",
    "# len(test_ids)"
   ]
  },
  {
   "cell_type": "code",
   "execution_count": 107,
   "metadata": {},
   "outputs": [
    {
     "data": {
      "text/plain": [
       "212261"
      ]
     },
     "execution_count": 107,
     "metadata": {},
     "output_type": "execute_result"
    }
   ],
   "source": [
    "# len(train_ids & test_ids)"
   ]
  },
  {
   "cell_type": "code",
   "execution_count": 108,
   "metadata": {},
   "outputs": [
    {
     "data": {
      "text/plain": [
       "1338847"
      ]
     },
     "execution_count": 108,
     "metadata": {},
     "output_type": "execute_result"
    }
   ],
   "source": [
    "# len(train_ids | test_ids)"
   ]
  },
  {
   "cell_type": "code",
   "execution_count": 109,
   "metadata": {},
   "outputs": [],
   "source": [
    "# train_ids = np.array(list(train_ids))\n",
    "# test_ids = np.array(list(test_ids))\n",
    "# np.save('data/train_ids.npy', train_ids)\n",
    "# np.save('data/test_ids.npy', test_ids)"
   ]
  },
  {
   "attachments": {},
   "cell_type": "markdown",
   "metadata": {},
   "source": [
    "# 召回"
   ]
  },
  {
   "attachments": {},
   "cell_type": "markdown",
   "metadata": {},
   "source": [
    "召回策略\n",
    "\n",
    "1. 使用vid关联规则【统计】\n",
    "    - 计算与最后vid关联性最大的下一个vid；\n",
    "    - 计算与最后5个vid关联性最大的下一个vid；\n",
    "    - 计算与历史观看时间最长的vid关联性最大的下一个vid；\n",
    "2. 使用vid计算词向量相似度"
   ]
  },
  {
   "attachments": {},
   "cell_type": "markdown",
   "metadata": {},
   "source": [
    "训练集标签中最热门的200个id"
   ]
  },
  {
   "cell_type": "code",
   "execution_count": 13,
   "metadata": {},
   "outputs": [],
   "source": [
    "# 最热门的200个id\n",
    "hot200 = df_train['next_item'].value_counts().head(200).index\n",
    "hot200 = list(hot200)"
   ]
  },
  {
   "attachments": {},
   "cell_type": "markdown",
   "metadata": {},
   "source": [
    "一阶下一跳"
   ]
  },
  {
   "cell_type": "code",
   "execution_count": 76,
   "metadata": {},
   "outputs": [
    {
     "name": "stderr",
     "output_type": "stream",
     "text": [
      "100%|██████████| 3272716/3272716 [05:40<00:00, 9618.49it/s] \n"
     ]
    }
   ],
   "source": [
    "next_item_dict = defaultdict(list)\n",
    "\n",
    "for _, row in tqdm(df_train.iterrows(), total=len(df_train)):\n",
    "    prev_items = row['prev_items']\n",
    "    next_item = row['next_item']\n",
    "    prev_items_length = len(prev_items)\n",
    "    if prev_items_length <= 1:\n",
    "        next_item_dict[prev_items[0]].append(next_item)\n",
    "    else:\n",
    "        for i, item in enumerate(prev_items[:-1]):\n",
    "            next_item_dict[item].append(prev_items[i+1])\n",
    "        next_item_dict[prev_items[-1]].append(next_item)"
   ]
  },
  {
   "cell_type": "code",
   "execution_count": 77,
   "metadata": {},
   "outputs": [
    {
     "name": "stderr",
     "output_type": "stream",
     "text": [
      "100%|██████████| 316971/316971 [00:27<00:00, 11668.89it/s]\n"
     ]
    }
   ],
   "source": [
    "for _, row in tqdm(df_test.iterrows(), total=len(df_test)):\n",
    "    prev_items = row['prev_items']\n",
    "    prev_items_length = len(prev_items)\n",
    "    if prev_items_length <= 1:\n",
    "        continue\n",
    "    else:\n",
    "        for i, item in enumerate(prev_items[:-1]):\n",
    "            next_item_dict[item].append(prev_items[i+1])"
   ]
  },
  {
   "cell_type": "code",
   "execution_count": 113,
   "metadata": {},
   "outputs": [],
   "source": [
    "pickle.dump(next_item_dict, open('data/next_item_dict.pkl', 'wb'))"
   ]
  },
  {
   "cell_type": "code",
   "execution_count": 14,
   "metadata": {},
   "outputs": [],
   "source": [
    "next_item_dict = pickle.load(open('data/next_item_dict.pkl', 'rb'))"
   ]
  },
  {
   "cell_type": "code",
   "execution_count": 78,
   "metadata": {},
   "outputs": [
    {
     "name": "stderr",
     "output_type": "stream",
     "text": [
      "100%|██████████| 1270206/1270206 [00:13<00:00, 94734.74it/s] \n"
     ]
    }
   ],
   "source": [
    "next_item_map = {}\n",
    "\n",
    "for item in tqdm(next_item_dict):\n",
    "    counter = Counter(next_item_dict[item])\n",
    "    next_item_map[item] = [i[0] for i in counter.most_common(100)]"
   ]
  },
  {
   "cell_type": "code",
   "execution_count": 117,
   "metadata": {},
   "outputs": [],
   "source": [
    "pickle.dump(next_item_map, open('data/next_item_map.pkl', 'wb'))"
   ]
  },
  {
   "cell_type": "code",
   "execution_count": 15,
   "metadata": {},
   "outputs": [],
   "source": [
    "next_item_map = pickle.load(open('data/next_item_map.pkl', 'rb'))"
   ]
  },
  {
   "attachments": {},
   "cell_type": "markdown",
   "metadata": {},
   "source": [
    "一阶下一跳中最热门的200个id"
   ]
  },
  {
   "cell_type": "code",
   "execution_count": 79,
   "metadata": {},
   "outputs": [
    {
     "data": {
      "text/html": [
       "<div>\n",
       "<style scoped>\n",
       "    .dataframe tbody tr th:only-of-type {\n",
       "        vertical-align: middle;\n",
       "    }\n",
       "\n",
       "    .dataframe tbody tr th {\n",
       "        vertical-align: top;\n",
       "    }\n",
       "\n",
       "    .dataframe thead th {\n",
       "        text-align: right;\n",
       "    }\n",
       "</style>\n",
       "<table border=\"1\" class=\"dataframe\">\n",
       "  <thead>\n",
       "    <tr style=\"text-align: right;\">\n",
       "      <th></th>\n",
       "      <th>item</th>\n",
       "      <th>next_item</th>\n",
       "    </tr>\n",
       "  </thead>\n",
       "  <tbody>\n",
       "    <tr>\n",
       "      <th>0</th>\n",
       "      <td>B09W9FND7K</td>\n",
       "      <td>B09JSPLN1M</td>\n",
       "    </tr>\n",
       "    <tr>\n",
       "      <th>1</th>\n",
       "      <td>B09W9FND7K</td>\n",
       "      <td>B09JSPLN1M</td>\n",
       "    </tr>\n",
       "    <tr>\n",
       "      <th>2</th>\n",
       "      <td>B09W9FND7K</td>\n",
       "      <td>B09JSPLN1M</td>\n",
       "    </tr>\n",
       "    <tr>\n",
       "      <th>3</th>\n",
       "      <td>B09W9FND7K</td>\n",
       "      <td>B09JSPLN1M</td>\n",
       "    </tr>\n",
       "    <tr>\n",
       "      <th>4</th>\n",
       "      <td>B09W9FND7K</td>\n",
       "      <td>B078WW2WN5</td>\n",
       "    </tr>\n",
       "    <tr>\n",
       "      <th>...</th>\n",
       "      <td>...</td>\n",
       "      <td>...</td>\n",
       "    </tr>\n",
       "    <tr>\n",
       "      <th>15132435</th>\n",
       "      <td>B0BFPLN8FQ</td>\n",
       "      <td>B0BF5GT13X</td>\n",
       "    </tr>\n",
       "    <tr>\n",
       "      <th>15132436</th>\n",
       "      <td>B09737CD6H</td>\n",
       "      <td>B08DJ9SQFY</td>\n",
       "    </tr>\n",
       "    <tr>\n",
       "      <th>15132437</th>\n",
       "      <td>B084GZ3QZ7</td>\n",
       "      <td>B00CBAW8SE</td>\n",
       "    </tr>\n",
       "    <tr>\n",
       "      <th>15132438</th>\n",
       "      <td>B081TXFKS5</td>\n",
       "      <td>B004RN5I6W</td>\n",
       "    </tr>\n",
       "    <tr>\n",
       "      <th>15132439</th>\n",
       "      <td>B07H31QX5Q</td>\n",
       "      <td>B08R7685RH</td>\n",
       "    </tr>\n",
       "  </tbody>\n",
       "</table>\n",
       "<p>15132440 rows × 2 columns</p>\n",
       "</div>"
      ],
      "text/plain": [
       "                item   next_item\n",
       "0         B09W9FND7K  B09JSPLN1M\n",
       "1         B09W9FND7K  B09JSPLN1M\n",
       "2         B09W9FND7K  B09JSPLN1M\n",
       "3         B09W9FND7K  B09JSPLN1M\n",
       "4         B09W9FND7K  B078WW2WN5\n",
       "...              ...         ...\n",
       "15132435  B0BFPLN8FQ  B0BF5GT13X\n",
       "15132436  B09737CD6H  B08DJ9SQFY\n",
       "15132437  B084GZ3QZ7  B00CBAW8SE\n",
       "15132438  B081TXFKS5  B004RN5I6W\n",
       "15132439  B07H31QX5Q  B08R7685RH\n",
       "\n",
       "[15132440 rows x 2 columns]"
      ]
     },
     "execution_count": 79,
     "metadata": {},
     "output_type": "execute_result"
    }
   ],
   "source": [
    "k = []\n",
    "v = []\n",
    "\n",
    "for item in next_item_dict:\n",
    "    k.append(item)\n",
    "    v.append(next_item_dict[item])\n",
    "    \n",
    "df_next = pd.DataFrame({'item': k, 'next_item': v})\n",
    "df_next = df_next.explode('next_item').reset_index(drop=True)\n",
    "df_next"
   ]
  },
  {
   "cell_type": "code",
   "execution_count": 80,
   "metadata": {},
   "outputs": [],
   "source": [
    "top200 = df_next['next_item'].value_counts().index.tolist()[:200]  # 所有下一跳候选集中最热门的200个"
   ]
  },
  {
   "cell_type": "code",
   "execution_count": 121,
   "metadata": {},
   "outputs": [],
   "source": [
    "pickle.dump(top200, open('data/top200.pkl', 'wb'))"
   ]
  },
  {
   "cell_type": "code",
   "execution_count": 16,
   "metadata": {},
   "outputs": [],
   "source": [
    "top200 = pickle.load(open('data/top200.pkl', 'rb'))"
   ]
  },
  {
   "attachments": {},
   "cell_type": "markdown",
   "metadata": {},
   "source": [
    "训练集本地验证结果"
   ]
  },
  {
   "cell_type": "code",
   "execution_count": 18,
   "metadata": {},
   "outputs": [
    {
     "data": {
      "text/html": [
       "<div>\n",
       "<style scoped>\n",
       "    .dataframe tbody tr th:only-of-type {\n",
       "        vertical-align: middle;\n",
       "    }\n",
       "\n",
       "    .dataframe tbody tr th {\n",
       "        vertical-align: top;\n",
       "    }\n",
       "\n",
       "    .dataframe thead th {\n",
       "        text-align: right;\n",
       "    }\n",
       "</style>\n",
       "<table border=\"1\" class=\"dataframe\">\n",
       "  <thead>\n",
       "    <tr style=\"text-align: right;\">\n",
       "      <th></th>\n",
       "      <th>prev_items</th>\n",
       "      <th>next_item</th>\n",
       "      <th>locale</th>\n",
       "      <th>last_item</th>\n",
       "      <th>next_item_prediction</th>\n",
       "    </tr>\n",
       "  </thead>\n",
       "  <tbody>\n",
       "    <tr>\n",
       "      <th>0</th>\n",
       "      <td>[B09W9FND7K, B09JSPLN1M]</td>\n",
       "      <td>B09M7GY217</td>\n",
       "      <td>DE</td>\n",
       "      <td>B09JSPLN1M</td>\n",
       "      <td>[B09W9FND7K, B09M7GY217, B09YS6S48R, B07KDC7PJ...</td>\n",
       "    </tr>\n",
       "    <tr>\n",
       "      <th>1</th>\n",
       "      <td>[B076THCGSG, B007MO8IME, B08MF65MLV, B001B4TKA0]</td>\n",
       "      <td>B001B4THSA</td>\n",
       "      <td>DE</td>\n",
       "      <td>B001B4TKA0</td>\n",
       "      <td>[B001B4THSA, B0001NPYZ2]</td>\n",
       "    </tr>\n",
       "    <tr>\n",
       "      <th>2</th>\n",
       "      <td>[B0B1LGXWDS, B00AZYORS2, B0B1LGXWDS, B00AZYORS...</td>\n",
       "      <td>B0767DTG2Q</td>\n",
       "      <td>DE</td>\n",
       "      <td>B00AZYORS2</td>\n",
       "      <td>[B0B1LGXWDS, B0767DTG2Q, B073WWMCDB, B07RB1VFP...</td>\n",
       "    </tr>\n",
       "    <tr>\n",
       "      <th>3</th>\n",
       "      <td>[B09XMTWDVT, B0B4MZZ8MB, B0B7HZ2GWX, B09XMTWDV...</td>\n",
       "      <td>B0B4R9NN4B</td>\n",
       "      <td>DE</td>\n",
       "      <td>B0B71CHT1L</td>\n",
       "      <td>[B0B71GSJ2R, B0B71KXCSB, B09XMTWDVT, B0B71JHMT...</td>\n",
       "    </tr>\n",
       "    <tr>\n",
       "      <th>4</th>\n",
       "      <td>[B09Y5CSL3T, B09Y5DPTXN, B09FKD61R8]</td>\n",
       "      <td>B0BGVBKWGZ</td>\n",
       "      <td>DE</td>\n",
       "      <td>B09FKD61R8</td>\n",
       "      <td>[B0BGVBKWGZ, B09MRVWQ3B, B09FKDPY2S, B07GZC7JYG]</td>\n",
       "    </tr>\n",
       "    <tr>\n",
       "      <th>...</th>\n",
       "      <td>...</td>\n",
       "      <td>...</td>\n",
       "      <td>...</td>\n",
       "      <td>...</td>\n",
       "      <td>...</td>\n",
       "    </tr>\n",
       "    <tr>\n",
       "      <th>3272711</th>\n",
       "      <td>[B06XK89969, B01NGT5NF4, B00D5Z89C8, B07ZVGCHR...</td>\n",
       "      <td>B07VL2W1DR</td>\n",
       "      <td>UK</td>\n",
       "      <td>B06XK89969</td>\n",
       "      <td>[B07VL2W1DR, B01NGT5NF4, B07B49NGJV, B07Z4LG5M...</td>\n",
       "    </tr>\n",
       "    <tr>\n",
       "      <th>3272712</th>\n",
       "      <td>[B076M85W1K, B07L8792Q9, B095RW318L, B095RVVX9T]</td>\n",
       "      <td>B095RQ2LCY</td>\n",
       "      <td>UK</td>\n",
       "      <td>B095RVVX9T</td>\n",
       "      <td>[B095RW318L, B095RQ2LCY, B09QHQQ26P, B09HT7361...</td>\n",
       "    </tr>\n",
       "    <tr>\n",
       "      <th>3272713</th>\n",
       "      <td>[B00JQDIQRQ, B001O59QQE]</td>\n",
       "      <td>B088M5YT6Y</td>\n",
       "      <td>UK</td>\n",
       "      <td>B001O59QQE</td>\n",
       "      <td>[B001O506EK, B001O5499S, B0953S3QX4, B088M5YT6Y]</td>\n",
       "    </tr>\n",
       "    <tr>\n",
       "      <th>3272714</th>\n",
       "      <td>[B07QMHMLJZ, B07FPYYMC4]</td>\n",
       "      <td>B07PFF814D</td>\n",
       "      <td>UK</td>\n",
       "      <td>B07FPYYMC4</td>\n",
       "      <td>[B07QMHMLJZ, B07FQC3B57, B0977G35JP, B08MBJF9Q...</td>\n",
       "    </tr>\n",
       "    <tr>\n",
       "      <th>3272715</th>\n",
       "      <td>[B06XC9TW57, B08WYQ4S11]</td>\n",
       "      <td>B08WZ4CSRQ</td>\n",
       "      <td>UK</td>\n",
       "      <td>B08WYQ4S11</td>\n",
       "      <td>[B08WZ4CSRQ, B08WYQ4S11, B08YCWJRCD, B09VDD1S6...</td>\n",
       "    </tr>\n",
       "  </tbody>\n",
       "</table>\n",
       "<p>3272716 rows × 5 columns</p>\n",
       "</div>"
      ],
      "text/plain": [
       "                                                prev_items   next_item locale  \\\n",
       "0                                 [B09W9FND7K, B09JSPLN1M]  B09M7GY217     DE   \n",
       "1         [B076THCGSG, B007MO8IME, B08MF65MLV, B001B4TKA0]  B001B4THSA     DE   \n",
       "2        [B0B1LGXWDS, B00AZYORS2, B0B1LGXWDS, B00AZYORS...  B0767DTG2Q     DE   \n",
       "3        [B09XMTWDVT, B0B4MZZ8MB, B0B7HZ2GWX, B09XMTWDV...  B0B4R9NN4B     DE   \n",
       "4                     [B09Y5CSL3T, B09Y5DPTXN, B09FKD61R8]  B0BGVBKWGZ     DE   \n",
       "...                                                    ...         ...    ...   \n",
       "3272711  [B06XK89969, B01NGT5NF4, B00D5Z89C8, B07ZVGCHR...  B07VL2W1DR     UK   \n",
       "3272712   [B076M85W1K, B07L8792Q9, B095RW318L, B095RVVX9T]  B095RQ2LCY     UK   \n",
       "3272713                           [B00JQDIQRQ, B001O59QQE]  B088M5YT6Y     UK   \n",
       "3272714                           [B07QMHMLJZ, B07FPYYMC4]  B07PFF814D     UK   \n",
       "3272715                           [B06XC9TW57, B08WYQ4S11]  B08WZ4CSRQ     UK   \n",
       "\n",
       "          last_item                               next_item_prediction  \n",
       "0        B09JSPLN1M  [B09W9FND7K, B09M7GY217, B09YS6S48R, B07KDC7PJ...  \n",
       "1        B001B4TKA0                           [B001B4THSA, B0001NPYZ2]  \n",
       "2        B00AZYORS2  [B0B1LGXWDS, B0767DTG2Q, B073WWMCDB, B07RB1VFP...  \n",
       "3        B0B71CHT1L  [B0B71GSJ2R, B0B71KXCSB, B09XMTWDVT, B0B71JHMT...  \n",
       "4        B09FKD61R8   [B0BGVBKWGZ, B09MRVWQ3B, B09FKDPY2S, B07GZC7JYG]  \n",
       "...             ...                                                ...  \n",
       "3272711  B06XK89969  [B07VL2W1DR, B01NGT5NF4, B07B49NGJV, B07Z4LG5M...  \n",
       "3272712  B095RVVX9T  [B095RW318L, B095RQ2LCY, B09QHQQ26P, B09HT7361...  \n",
       "3272713  B001O59QQE   [B001O506EK, B001O5499S, B0953S3QX4, B088M5YT6Y]  \n",
       "3272714  B07FPYYMC4  [B07QMHMLJZ, B07FQC3B57, B0977G35JP, B08MBJF9Q...  \n",
       "3272715  B08WYQ4S11  [B08WZ4CSRQ, B08WYQ4S11, B08YCWJRCD, B09VDD1S6...  \n",
       "\n",
       "[3272716 rows x 5 columns]"
      ]
     },
     "execution_count": 18,
     "metadata": {},
     "output_type": "execute_result"
    }
   ],
   "source": [
    "# df_train['last_item'] = df_train['prev_items'].apply(lambda x: x[-1])\n",
    "df_train['next_item_prediction'] = df_train['last_item'].map(next_item_map)\n",
    "df_train"
   ]
  },
  {
   "cell_type": "code",
   "execution_count": null,
   "metadata": {},
   "outputs": [],
   "source": [
    "# TODO: 不一定历史prev_items中的就不会买了，可以去掉限制试试！"
   ]
  },
  {
   "cell_type": "code",
   "execution_count": 19,
   "metadata": {},
   "outputs": [
    {
     "name": "stderr",
     "output_type": "stream",
     "text": [
      "100%|██████████| 3272716/3272716 [18:49<00:00, 2898.34it/s] \n"
     ]
    },
    {
     "data": {
      "text/plain": [
       "0.4244365572179521"
      ]
     },
     "execution_count": 19,
     "metadata": {},
     "output_type": "execute_result"
    }
   ],
   "source": [
    "train_preds = []\n",
    "mrr = []\n",
    "\n",
    "for _, row in tqdm(df_train.iterrows(), total=len(df_train)):\n",
    "    label = row['next_item']\n",
    "    pred_orig = row['next_item_prediction']\n",
    "    pred = pred_orig\n",
    "    prev_items = row['prev_items']\n",
    "    if type(pred) == float:  # pred=nan, 训练集的last_item在之间没有统计出来下一跳，此时用最热门代替\n",
    "        pred = top200[:100]\n",
    "    else:\n",
    "        if len(pred_orig) < 100:  # 小于100，从最热门选\n",
    "            for i in top200:\n",
    "                # if i not in pred_orig and i not in prev_items:\n",
    "                if i not in pred_orig:\n",
    "                    pred.append(i)\n",
    "                if len(pred) >= 100:\n",
    "                    break\n",
    "        else:\n",
    "            pred = pred[:100]\n",
    "    try:\n",
    "        pred_result = pred.index(label)\n",
    "        mrr.append(1 / (pred_result + 1))\n",
    "    except:\n",
    "        mrr.append(0)\n",
    "    train_preds.append(pred)\n",
    "\n",
    "np.mean(mrr)"
   ]
  },
  {
   "cell_type": "code",
   "execution_count": 29,
   "metadata": {},
   "outputs": [],
   "source": [
    "pickle.dump(train_preds, open('./data/train_preds.pkl', 'wb'))"
   ]
  },
  {
   "attachments": {},
   "cell_type": "markdown",
   "metadata": {},
   "source": [
    "测试集预测结果"
   ]
  },
  {
   "cell_type": "code",
   "execution_count": 20,
   "metadata": {},
   "outputs": [
    {
     "data": {
      "text/html": [
       "<div>\n",
       "<style scoped>\n",
       "    .dataframe tbody tr th:only-of-type {\n",
       "        vertical-align: middle;\n",
       "    }\n",
       "\n",
       "    .dataframe tbody tr th {\n",
       "        vertical-align: top;\n",
       "    }\n",
       "\n",
       "    .dataframe thead th {\n",
       "        text-align: right;\n",
       "    }\n",
       "</style>\n",
       "<table border=\"1\" class=\"dataframe\">\n",
       "  <thead>\n",
       "    <tr style=\"text-align: right;\">\n",
       "      <th></th>\n",
       "      <th>prev_items</th>\n",
       "      <th>locale</th>\n",
       "      <th>last_item</th>\n",
       "      <th>next_item_prediction</th>\n",
       "    </tr>\n",
       "  </thead>\n",
       "  <tbody>\n",
       "    <tr>\n",
       "      <th>0</th>\n",
       "      <td>[B08V12CT4C, B08V1KXBQD, B01BVG1XJS, B09VC5PKN...</td>\n",
       "      <td>DE</td>\n",
       "      <td>B099NQFMG7</td>\n",
       "      <td>[B099NS1XPG, B08496TCCQ, B01BVG1XJS, B099NR3X6...</td>\n",
       "    </tr>\n",
       "    <tr>\n",
       "      <th>1</th>\n",
       "      <td>[B00R9R5ND6, B00R9RZ9ZS, B00R9RZ9ZS]</td>\n",
       "      <td>DE</td>\n",
       "      <td>B00R9RZ9ZS</td>\n",
       "      <td>[B004ZXMV4Q, B00R9R5ND6, B095TQTZXY, B086J6RTT...</td>\n",
       "    </tr>\n",
       "    <tr>\n",
       "      <th>2</th>\n",
       "      <td>[B07YSRXJD3, B07G7Q5N6G, B08C9Q7QVK, B07G7Q5N6G]</td>\n",
       "      <td>DE</td>\n",
       "      <td>B07G7Q5N6G</td>\n",
       "      <td>[B08C9Q7QVK, B07G7Q5N6G, B07YSRXJD3, B0B5QNFWJ...</td>\n",
       "    </tr>\n",
       "    <tr>\n",
       "      <th>3</th>\n",
       "      <td>[B08KQBYV43, 3955350843, 3955350843, 395535086...</td>\n",
       "      <td>DE</td>\n",
       "      <td>3955350843</td>\n",
       "      <td>[395535086X, 3955350843, B0829LZFT1, 377247695...</td>\n",
       "    </tr>\n",
       "    <tr>\n",
       "      <th>4</th>\n",
       "      <td>[B09FPTCWMC, B09FPTQP68, B08HMRY8NG, B08TBBQ4B...</td>\n",
       "      <td>DE</td>\n",
       "      <td>B09J945WQR</td>\n",
       "      <td>[B09J8V18FL, B09J8T6TTH, B09J8SKX9G, B09J8V9RQ...</td>\n",
       "    </tr>\n",
       "    <tr>\n",
       "      <th>...</th>\n",
       "      <td>...</td>\n",
       "      <td>...</td>\n",
       "      <td>...</td>\n",
       "      <td>...</td>\n",
       "    </tr>\n",
       "    <tr>\n",
       "      <th>316966</th>\n",
       "      <td>[B077SZ2C3Y, B0B14M3VZX]</td>\n",
       "      <td>UK</td>\n",
       "      <td>B0B14M3VZX</td>\n",
       "      <td>[B08X9L5RGD, B07V5FL8G6, B09Y4HKGKT, B09MW64JG...</td>\n",
       "    </tr>\n",
       "    <tr>\n",
       "      <th>316967</th>\n",
       "      <td>[B08KFHDPY9, B0851KTSRZ, B08KFHDPY9, B0851KTSR...</td>\n",
       "      <td>UK</td>\n",
       "      <td>B081YDH55K</td>\n",
       "      <td>[B0989BHLSY, B09CPNS7XV, B09895QPQF, B09CPP92Q...</td>\n",
       "    </tr>\n",
       "    <tr>\n",
       "      <th>316968</th>\n",
       "      <td>[B07PY1N81F, B07Q1Z8SQN, B07PY1N81F, B07Q1Z8SQ...</td>\n",
       "      <td>UK</td>\n",
       "      <td>B09HL11V5B</td>\n",
       "      <td>[B09HKZBNZH, B09HZSRJWW, B09HL141QC, B07PY1N81...</td>\n",
       "    </tr>\n",
       "    <tr>\n",
       "      <th>316969</th>\n",
       "      <td>[B01MCQMORK, B09JYZ325W]</td>\n",
       "      <td>UK</td>\n",
       "      <td>B09JYZ325W</td>\n",
       "      <td>[B07TR5LQSL, B08FB464L7, B09JYZ325W, B08JG8TSC...</td>\n",
       "    </tr>\n",
       "    <tr>\n",
       "      <th>316970</th>\n",
       "      <td>[B0B8JX92YJ, B09TN4MP6V, B0BG2LZQSL]</td>\n",
       "      <td>UK</td>\n",
       "      <td>B0BG2LZQSL</td>\n",
       "      <td>[B09XPX59JK, B09TN4MP6V, B08LGRK6MT, B07QPV9Z7...</td>\n",
       "    </tr>\n",
       "  </tbody>\n",
       "</table>\n",
       "<p>316971 rows × 4 columns</p>\n",
       "</div>"
      ],
      "text/plain": [
       "                                               prev_items locale   last_item  \\\n",
       "0       [B08V12CT4C, B08V1KXBQD, B01BVG1XJS, B09VC5PKN...     DE  B099NQFMG7   \n",
       "1                    [B00R9R5ND6, B00R9RZ9ZS, B00R9RZ9ZS]     DE  B00R9RZ9ZS   \n",
       "2        [B07YSRXJD3, B07G7Q5N6G, B08C9Q7QVK, B07G7Q5N6G]     DE  B07G7Q5N6G   \n",
       "3       [B08KQBYV43, 3955350843, 3955350843, 395535086...     DE  3955350843   \n",
       "4       [B09FPTCWMC, B09FPTQP68, B08HMRY8NG, B08TBBQ4B...     DE  B09J945WQR   \n",
       "...                                                   ...    ...         ...   \n",
       "316966                           [B077SZ2C3Y, B0B14M3VZX]     UK  B0B14M3VZX   \n",
       "316967  [B08KFHDPY9, B0851KTSRZ, B08KFHDPY9, B0851KTSR...     UK  B081YDH55K   \n",
       "316968  [B07PY1N81F, B07Q1Z8SQN, B07PY1N81F, B07Q1Z8SQ...     UK  B09HL11V5B   \n",
       "316969                           [B01MCQMORK, B09JYZ325W]     UK  B09JYZ325W   \n",
       "316970               [B0B8JX92YJ, B09TN4MP6V, B0BG2LZQSL]     UK  B0BG2LZQSL   \n",
       "\n",
       "                                     next_item_prediction  \n",
       "0       [B099NS1XPG, B08496TCCQ, B01BVG1XJS, B099NR3X6...  \n",
       "1       [B004ZXMV4Q, B00R9R5ND6, B095TQTZXY, B086J6RTT...  \n",
       "2       [B08C9Q7QVK, B07G7Q5N6G, B07YSRXJD3, B0B5QNFWJ...  \n",
       "3       [395535086X, 3955350843, B0829LZFT1, 377247695...  \n",
       "4       [B09J8V18FL, B09J8T6TTH, B09J8SKX9G, B09J8V9RQ...  \n",
       "...                                                   ...  \n",
       "316966  [B08X9L5RGD, B07V5FL8G6, B09Y4HKGKT, B09MW64JG...  \n",
       "316967  [B0989BHLSY, B09CPNS7XV, B09895QPQF, B09CPP92Q...  \n",
       "316968  [B09HKZBNZH, B09HZSRJWW, B09HL141QC, B07PY1N81...  \n",
       "316969  [B07TR5LQSL, B08FB464L7, B09JYZ325W, B08JG8TSC...  \n",
       "316970  [B09XPX59JK, B09TN4MP6V, B08LGRK6MT, B07QPV9Z7...  \n",
       "\n",
       "[316971 rows x 4 columns]"
      ]
     },
     "execution_count": 20,
     "metadata": {},
     "output_type": "execute_result"
    }
   ],
   "source": [
    "# df_test['last_item'] = df_test['prev_items'].apply(lambda x: x[-1])\n",
    "df_test['next_item_prediction'] = df_test['last_item'].map(next_item_map)\n",
    "df_test"
   ]
  },
  {
   "cell_type": "code",
   "execution_count": 21,
   "metadata": {},
   "outputs": [
    {
     "name": "stderr",
     "output_type": "stream",
     "text": [
      "100%|██████████| 316971/316971 [01:13<00:00, 4291.98it/s]\n"
     ]
    }
   ],
   "source": [
    "test_preds = []\n",
    "\n",
    "for _, row in tqdm(df_test.iterrows(), total=len(df_test)):\n",
    "    pred_orig = row['next_item_prediction']\n",
    "    pred = pred_orig\n",
    "    prev_items = row['prev_items']\n",
    "    if type(pred) == float:  # pred=nan, 测试集的last_item在之间没有统计出来下一跳，此时用最热门代替\n",
    "        pred = top200[:100]\n",
    "    else:\n",
    "        if len(pred_orig) < 100:  # 小于100，从最热门选\n",
    "            for i in top200:\n",
    "                if i not in pred_orig:\n",
    "                    pred.append(i)\n",
    "                if len(pred) >= 100:\n",
    "                    break\n",
    "        else:\n",
    "            pred = pred[:100]\n",
    "    test_preds.append(pred)"
   ]
  },
  {
   "cell_type": "code",
   "execution_count": 22,
   "metadata": {},
   "outputs": [
    {
     "data": {
      "text/plain": [
       "316971"
      ]
     },
     "execution_count": 22,
     "metadata": {},
     "output_type": "execute_result"
    }
   ],
   "source": [
    "len(test_preds)"
   ]
  },
  {
   "cell_type": "code",
   "execution_count": 66,
   "metadata": {},
   "outputs": [],
   "source": [
    "pickle.dump(test_preds, open('./data/test_preds.pkl', 'wb'))"
   ]
  },
  {
   "attachments": {},
   "cell_type": "markdown",
   "metadata": {},
   "source": [
    "保存结果"
   ]
  },
  {
   "cell_type": "code",
   "execution_count": 23,
   "metadata": {},
   "outputs": [
    {
     "data": {
      "text/plain": [
       "count    316971.0\n",
       "mean        100.0\n",
       "std           0.0\n",
       "min         100.0\n",
       "25%         100.0\n",
       "50%         100.0\n",
       "75%         100.0\n",
       "max         100.0\n",
       "Name: next_item_prediction, dtype: float64"
      ]
     },
     "execution_count": 23,
     "metadata": {},
     "output_type": "execute_result"
    }
   ],
   "source": [
    "df_test['next_item_prediction'] = test_preds\n",
    "df_test['next_item_prediction'].apply(len).describe()"
   ]
  },
  {
   "cell_type": "code",
   "execution_count": 24,
   "metadata": {},
   "outputs": [],
   "source": [
    "df_test[['locale', 'next_item_prediction']].to_parquet('output/submission_task1_rule_next_one_allow_prevs.parquet', engine='pyarrow')"
   ]
  },
  {
   "attachments": {},
   "cell_type": "markdown",
   "metadata": {},
   "source": [
    "# 数据处理"
   ]
  },
  {
   "attachments": {},
   "cell_type": "markdown",
   "metadata": {},
   "source": [
    "产品表处理"
   ]
  },
  {
   "cell_type": "code",
   "execution_count": 21,
   "metadata": {},
   "outputs": [],
   "source": [
    "# TODO: 部分ID不在产品表里？？没有！"
   ]
  },
  {
   "cell_type": "code",
   "execution_count": 2,
   "metadata": {},
   "outputs": [
    {
     "data": {
      "text/html": [
       "<div>\n",
       "<style scoped>\n",
       "    .dataframe tbody tr th:only-of-type {\n",
       "        vertical-align: middle;\n",
       "    }\n",
       "\n",
       "    .dataframe tbody tr th {\n",
       "        vertical-align: top;\n",
       "    }\n",
       "\n",
       "    .dataframe thead th {\n",
       "        text-align: right;\n",
       "    }\n",
       "</style>\n",
       "<table border=\"1\" class=\"dataframe\">\n",
       "  <thead>\n",
       "    <tr style=\"text-align: right;\">\n",
       "      <th></th>\n",
       "      <th>id</th>\n",
       "      <th>locale</th>\n",
       "      <th>title</th>\n",
       "      <th>price</th>\n",
       "      <th>brand</th>\n",
       "      <th>color</th>\n",
       "      <th>size</th>\n",
       "      <th>model</th>\n",
       "      <th>material</th>\n",
       "      <th>author</th>\n",
       "      <th>desc</th>\n",
       "    </tr>\n",
       "  </thead>\n",
       "  <tbody>\n",
       "    <tr>\n",
       "      <th>0</th>\n",
       "      <td>B005ZSSN10</td>\n",
       "      <td>DE</td>\n",
       "      <td>RED DRAGON Amberjack 3 - Steel Tip 22 Gramm Wo...</td>\n",
       "      <td>30.95</td>\n",
       "      <td>RED DRAGON</td>\n",
       "      <td>NaN</td>\n",
       "      <td>NaN</td>\n",
       "      <td>RDD0089</td>\n",
       "      <td>NaN</td>\n",
       "      <td>NaN</td>\n",
       "      <td>Amberjacks Steel Dartpfeile sind verfügbar in ...</td>\n",
       "    </tr>\n",
       "    <tr>\n",
       "      <th>1</th>\n",
       "      <td>B08PRYN6LD</td>\n",
       "      <td>DE</td>\n",
       "      <td>Simply Keto Lower Carb* Schokodrops ohne Zucke...</td>\n",
       "      <td>17.90</td>\n",
       "      <td>Simply Keto</td>\n",
       "      <td>NaN</td>\n",
       "      <td>750 g (1er Pack)</td>\n",
       "      <td>NaN</td>\n",
       "      <td>NaN</td>\n",
       "      <td>NaN</td>\n",
       "      <td>🌱 NATÜRLICHE SÜSSE DURCH ERYTHRIT - Wir stelle...</td>\n",
       "    </tr>\n",
       "    <tr>\n",
       "      <th>2</th>\n",
       "      <td>B09MBZJ48V</td>\n",
       "      <td>DE</td>\n",
       "      <td>Sennheiser 508377 PC 5.2 Chat, Stilvolles Mult...</td>\n",
       "      <td>68.89</td>\n",
       "      <td>Sennheiser</td>\n",
       "      <td>Multi-Colour</td>\n",
       "      <td>One size</td>\n",
       "      <td>508377</td>\n",
       "      <td>Kunstleder</td>\n",
       "      <td>NaN</td>\n",
       "      <td>3.5 MM BUCHSE - Kann problemlos an Geräte mit ...</td>\n",
       "    </tr>\n",
       "    <tr>\n",
       "      <th>3</th>\n",
       "      <td>B08ZN6F26S</td>\n",
       "      <td>DE</td>\n",
       "      <td>AmyBenton Auto ab 1 2 3 ahre - Baby Aufziehbar...</td>\n",
       "      <td>18.99</td>\n",
       "      <td>Amy &amp; Benton</td>\n",
       "      <td>Animal Car</td>\n",
       "      <td>NaN</td>\n",
       "      <td>2008B</td>\n",
       "      <td>aufziehauto 1 jahr</td>\n",
       "      <td>NaN</td>\n",
       "      <td>【Auto aufziehbar】: Drücken Sie einfach leicht ...</td>\n",
       "    </tr>\n",
       "    <tr>\n",
       "      <th>4</th>\n",
       "      <td>B094DGRV7D</td>\n",
       "      <td>DE</td>\n",
       "      <td>PLAYMOBIL - 70522 - Cavaliere mit grauem Pony</td>\n",
       "      <td>7.17</td>\n",
       "      <td>PLAYMOBIL</td>\n",
       "      <td>Nicht Zutreffend.</td>\n",
       "      <td>OneSize</td>\n",
       "      <td>70522</td>\n",
       "      <td>Polypropylen</td>\n",
       "      <td>NaN</td>\n",
       "      <td>Inhalt: 1 Stück</td>\n",
       "    </tr>\n",
       "    <tr>\n",
       "      <th>...</th>\n",
       "      <td>...</td>\n",
       "      <td>...</td>\n",
       "      <td>...</td>\n",
       "      <td>...</td>\n",
       "      <td>...</td>\n",
       "      <td>...</td>\n",
       "      <td>...</td>\n",
       "      <td>...</td>\n",
       "      <td>...</td>\n",
       "      <td>...</td>\n",
       "      <td>...</td>\n",
       "    </tr>\n",
       "    <tr>\n",
       "      <th>1551052</th>\n",
       "      <td>B09BW5CDRR</td>\n",
       "      <td>IT</td>\n",
       "      <td>Barbie - Playset Gelateria con Bambola con Mac...</td>\n",
       "      <td>20.48</td>\n",
       "      <td>Barbie</td>\n",
       "      <td>NaN</td>\n",
       "      <td>NaN</td>\n",
       "      <td>HCN46</td>\n",
       "      <td>NaN</td>\n",
       "      <td>NaN</td>\n",
       "      <td>DETTAGLI REALISTICI. Basta inserire la pasta m...</td>\n",
       "    </tr>\n",
       "    <tr>\n",
       "      <th>1551053</th>\n",
       "      <td>B0050IILBM</td>\n",
       "      <td>IT</td>\n",
       "      <td>Braun Silk-épil 1 Depilatore Donna, Epilatore ...</td>\n",
       "      <td>22.61</td>\n",
       "      <td>Braun</td>\n",
       "      <td>Pink</td>\n",
       "      <td>NaN</td>\n",
       "      <td>4210201656067</td>\n",
       "      <td>NaN</td>\n",
       "      <td>NaN</td>\n",
       "      <td>Alimentato a corrente per un comodo utilizzo</td>\n",
       "    </tr>\n",
       "    <tr>\n",
       "      <th>1551054</th>\n",
       "      <td>B07W4C5W9D</td>\n",
       "      <td>IT</td>\n",
       "      <td>BoxLegend Sacchetti Sottovuoto Vestiti 6 Pezzi...</td>\n",
       "      <td>14.99</td>\n",
       "      <td>BoxLegend</td>\n",
       "      <td>6 Pezzi.</td>\n",
       "      <td>6 Pezzi (2L + 2M + 2S)</td>\n",
       "      <td>6186666487608_SML</td>\n",
       "      <td>Polietilene Ppa</td>\n",
       "      <td>NaN</td>\n",
       "      <td>6 Sacchetti in 3 Diverse Misure- Questo set di...</td>\n",
       "    </tr>\n",
       "    <tr>\n",
       "      <th>1551055</th>\n",
       "      <td>B012D0HJXA</td>\n",
       "      <td>IT</td>\n",
       "      <td>Trasportino Pratiko Metal - Accessorio da viag...</td>\n",
       "      <td>18.35</td>\n",
       "      <td>MPS</td>\n",
       "      <td>verde</td>\n",
       "      <td>NaN</td>\n",
       "      <td>NaN</td>\n",
       "      <td>Metallo</td>\n",
       "      <td>NaN</td>\n",
       "      <td>TRASPORTINO 48X31.5X33CM</td>\n",
       "    </tr>\n",
       "    <tr>\n",
       "      <th>1551056</th>\n",
       "      <td>B07P5RLXP3</td>\n",
       "      <td>IT</td>\n",
       "      <td>LiCB - Batterie LR1130, batterie alcaline AG10...</td>\n",
       "      <td>6.99</td>\n",
       "      <td>LiCB</td>\n",
       "      <td>NaN</td>\n",
       "      <td>20 Stück LR1130</td>\n",
       "      <td>LR1130-20</td>\n",
       "      <td>NaN</td>\n",
       "      <td>NaN</td>\n",
       "      <td>Denominazione: 20 pezzi di pile alcaline LR113...</td>\n",
       "    </tr>\n",
       "  </tbody>\n",
       "</table>\n",
       "<p>1551057 rows × 11 columns</p>\n",
       "</div>"
      ],
      "text/plain": [
       "                 id locale                                              title  \\\n",
       "0        B005ZSSN10     DE  RED DRAGON Amberjack 3 - Steel Tip 22 Gramm Wo...   \n",
       "1        B08PRYN6LD     DE  Simply Keto Lower Carb* Schokodrops ohne Zucke...   \n",
       "2        B09MBZJ48V     DE  Sennheiser 508377 PC 5.2 Chat, Stilvolles Mult...   \n",
       "3        B08ZN6F26S     DE  AmyBenton Auto ab 1 2 3 ahre - Baby Aufziehbar...   \n",
       "4        B094DGRV7D     DE      PLAYMOBIL - 70522 - Cavaliere mit grauem Pony   \n",
       "...             ...    ...                                                ...   \n",
       "1551052  B09BW5CDRR     IT  Barbie - Playset Gelateria con Bambola con Mac...   \n",
       "1551053  B0050IILBM     IT  Braun Silk-épil 1 Depilatore Donna, Epilatore ...   \n",
       "1551054  B07W4C5W9D     IT  BoxLegend Sacchetti Sottovuoto Vestiti 6 Pezzi...   \n",
       "1551055  B012D0HJXA     IT  Trasportino Pratiko Metal - Accessorio da viag...   \n",
       "1551056  B07P5RLXP3     IT  LiCB - Batterie LR1130, batterie alcaline AG10...   \n",
       "\n",
       "         price         brand              color                    size  \\\n",
       "0        30.95    RED DRAGON                NaN                     NaN   \n",
       "1        17.90   Simply Keto                NaN        750 g (1er Pack)   \n",
       "2        68.89    Sennheiser       Multi-Colour                One size   \n",
       "3        18.99  Amy & Benton         Animal Car                     NaN   \n",
       "4         7.17     PLAYMOBIL  Nicht Zutreffend.                 OneSize   \n",
       "...        ...           ...                ...                     ...   \n",
       "1551052  20.48        Barbie                NaN                     NaN   \n",
       "1551053  22.61         Braun               Pink                     NaN   \n",
       "1551054  14.99     BoxLegend           6 Pezzi.  6 Pezzi (2L + 2M + 2S)   \n",
       "1551055  18.35           MPS              verde                     NaN   \n",
       "1551056   6.99          LiCB                NaN         20 Stück LR1130   \n",
       "\n",
       "                     model            material author  \\\n",
       "0                  RDD0089                 NaN    NaN   \n",
       "1                      NaN                 NaN    NaN   \n",
       "2                   508377          Kunstleder    NaN   \n",
       "3                    2008B  aufziehauto 1 jahr    NaN   \n",
       "4                    70522        Polypropylen    NaN   \n",
       "...                    ...                 ...    ...   \n",
       "1551052              HCN46                 NaN    NaN   \n",
       "1551053      4210201656067                 NaN    NaN   \n",
       "1551054  6186666487608_SML     Polietilene Ppa    NaN   \n",
       "1551055                NaN             Metallo    NaN   \n",
       "1551056          LR1130-20                 NaN    NaN   \n",
       "\n",
       "                                                      desc  \n",
       "0        Amberjacks Steel Dartpfeile sind verfügbar in ...  \n",
       "1        🌱 NATÜRLICHE SÜSSE DURCH ERYTHRIT - Wir stelle...  \n",
       "2        3.5 MM BUCHSE - Kann problemlos an Geräte mit ...  \n",
       "3        【Auto aufziehbar】: Drücken Sie einfach leicht ...  \n",
       "4                                          Inhalt: 1 Stück  \n",
       "...                                                    ...  \n",
       "1551052  DETTAGLI REALISTICI. Basta inserire la pasta m...  \n",
       "1551053       Alimentato a corrente per un comodo utilizzo  \n",
       "1551054  6 Sacchetti in 3 Diverse Misure- Questo set di...  \n",
       "1551055                           TRASPORTINO 48X31.5X33CM  \n",
       "1551056  Denominazione: 20 pezzi di pile alcaline LR113...  \n",
       "\n",
       "[1551057 rows x 11 columns]"
      ]
     },
     "execution_count": 2,
     "metadata": {},
     "output_type": "execute_result"
    }
   ],
   "source": [
    "products = pd.read_csv('data/products_train.csv')\n",
    "products"
   ]
  },
  {
   "cell_type": "code",
   "execution_count": 66,
   "metadata": {},
   "outputs": [
    {
     "data": {
      "text/plain": [
       "(1410675, 11)"
      ]
     },
     "execution_count": 66,
     "metadata": {},
     "output_type": "execute_result"
    }
   ],
   "source": [
    "products.drop_duplicates(subset=['id'], keep='first', inplace=True)\n",
    "products.shape "
   ]
  },
  {
   "cell_type": "code",
   "execution_count": 67,
   "metadata": {},
   "outputs": [],
   "source": [
    "cat_features = ['brand', 'color', 'size', 'model', 'material', 'author']\n",
    "num_features = ['price']"
   ]
  },
  {
   "cell_type": "code",
   "execution_count": 68,
   "metadata": {},
   "outputs": [
    {
     "name": "stdout",
     "output_type": "stream",
     "text": [
      "brand 177189 19224\n",
      "color 203260 402091\n",
      "size 218060 580806\n",
      "model 524101 748606\n",
      "material 45568 659226\n",
      "author 30835 1338577\n"
     ]
    }
   ],
   "source": [
    "unique_categories_list = []\n",
    "for f in cat_features:\n",
    "    products['encode_' + f], unique_categories = pd.factorize(products[f], na_sentinel=-1)  # nan->-1, +1变成0\n",
    "    products['encode_' + f] += 1\n",
    "    print(f, len(unique_categories), (products['encode_' + f] == 0).sum())\n",
    "    unique_categories_list.append(unique_categories.insert(0, '0'))  # 插入一个0，作为空值"
   ]
  },
  {
   "cell_type": "code",
   "execution_count": 69,
   "metadata": {},
   "outputs": [],
   "source": [
    "# le_list = []\n",
    "# for f in cat_features:\n",
    "#     le = LabelEncoder()\n",
    "#     products['encode_' + f] = le.fit_transform(products[f])\n",
    "#     le_list.append(le)"
   ]
  },
  {
   "cell_type": "code",
   "execution_count": 70,
   "metadata": {},
   "outputs": [
    {
     "data": {
      "text/plain": [
       "(1410675, 17)"
      ]
     },
     "execution_count": 70,
     "metadata": {},
     "output_type": "execute_result"
    }
   ],
   "source": [
    "products.shape "
   ]
  },
  {
   "cell_type": "code",
   "execution_count": 71,
   "metadata": {},
   "outputs": [],
   "source": [
    "dense_bins = 100\n",
    "add_cat_features = []\n",
    "for f in num_features:\n",
    "    discretizer = KBinsDiscretizer(n_bins=dense_bins, encode='ordinal', strategy='kmeans')  # 等频quantile，等宽uniform\n",
    "    products['encode_' + f] = discretizer.fit_transform(np.array(products[f].tolist()).reshape(-1, 1))\n",
    "    add_cat_features.append('encode_' + f)"
   ]
  },
  {
   "cell_type": "code",
   "execution_count": 72,
   "metadata": {},
   "outputs": [],
   "source": [
    "for fe in add_cat_features:\n",
    "    products[fe] = products[fe].astype('int64')"
   ]
  },
  {
   "cell_type": "code",
   "execution_count": 73,
   "metadata": {},
   "outputs": [],
   "source": [
    "for fe in num_features:\n",
    "    products[fe] = products[fe].astype('float32')"
   ]
  },
  {
   "cell_type": "code",
   "execution_count": 74,
   "metadata": {},
   "outputs": [
    {
     "data": {
      "text/plain": [
       "10"
      ]
     },
     "execution_count": 74,
     "metadata": {},
     "output_type": "execute_result"
    }
   ],
   "source": [
    "features = [f for f in products.columns if f not in ['title', 'desc'] + cat_features]\n",
    "len(features)"
   ]
  },
  {
   "cell_type": "code",
   "execution_count": 75,
   "metadata": {},
   "outputs": [
    {
     "data": {
      "text/plain": [
       "['brand', 'color', 'size', 'model', 'material', 'author']"
      ]
     },
     "execution_count": 75,
     "metadata": {},
     "output_type": "execute_result"
    }
   ],
   "source": [
    "cat_features"
   ]
  },
  {
   "cell_type": "code",
   "execution_count": 76,
   "metadata": {},
   "outputs": [
    {
     "data": {
      "text/plain": [
       "['id',\n",
       " 'locale',\n",
       " 'price',\n",
       " 'encode_brand',\n",
       " 'encode_color',\n",
       " 'encode_size',\n",
       " 'encode_model',\n",
       " 'encode_material',\n",
       " 'encode_author',\n",
       " 'encode_price']"
      ]
     },
     "execution_count": 76,
     "metadata": {},
     "output_type": "execute_result"
    }
   ],
   "source": [
    "features"
   ]
  },
  {
   "cell_type": "code",
   "execution_count": 147,
   "metadata": {},
   "outputs": [],
   "source": [
    "products_encoded = pd.read_csv('./data/products_encoded.csv')"
   ]
  },
  {
   "cell_type": "code",
   "execution_count": 151,
   "metadata": {},
   "outputs": [],
   "source": [
    "products_encoded_newfeature = pd.read_csv('./data/products_encoded_newfeature.csv')"
   ]
  },
  {
   "cell_type": "code",
   "execution_count": 152,
   "metadata": {},
   "outputs": [
    {
     "data": {
      "text/plain": [
       "(1410675, 10)"
      ]
     },
     "execution_count": 152,
     "metadata": {},
     "output_type": "execute_result"
    }
   ],
   "source": [
    "products_encoded_newfeature.shape "
   ]
  },
  {
   "cell_type": "code",
   "execution_count": 153,
   "metadata": {},
   "outputs": [
    {
     "data": {
      "text/html": [
       "<div>\n",
       "<style scoped>\n",
       "    .dataframe tbody tr th:only-of-type {\n",
       "        vertical-align: middle;\n",
       "    }\n",
       "\n",
       "    .dataframe tbody tr th {\n",
       "        vertical-align: top;\n",
       "    }\n",
       "\n",
       "    .dataframe thead th {\n",
       "        text-align: right;\n",
       "    }\n",
       "</style>\n",
       "<table border=\"1\" class=\"dataframe\">\n",
       "  <thead>\n",
       "    <tr style=\"text-align: right;\">\n",
       "      <th></th>\n",
       "      <th>id</th>\n",
       "      <th>locale</th>\n",
       "      <th>price</th>\n",
       "      <th>encode_brand</th>\n",
       "      <th>encode_color</th>\n",
       "      <th>encode_size</th>\n",
       "      <th>encode_model</th>\n",
       "      <th>encode_material</th>\n",
       "      <th>encode_author</th>\n",
       "      <th>encode_price</th>\n",
       "    </tr>\n",
       "  </thead>\n",
       "  <tbody>\n",
       "    <tr>\n",
       "      <th>0</th>\n",
       "      <td>0</td>\n",
       "      <td>0</td>\n",
       "      <td>30.95</td>\n",
       "      <td>112134</td>\n",
       "      <td>203260</td>\n",
       "      <td>218060</td>\n",
       "      <td>426630</td>\n",
       "      <td>45568</td>\n",
       "      <td>30835</td>\n",
       "      <td>0</td>\n",
       "    </tr>\n",
       "    <tr>\n",
       "      <th>1</th>\n",
       "      <td>1</td>\n",
       "      <td>0</td>\n",
       "      <td>17.90</td>\n",
       "      <td>124505</td>\n",
       "      <td>203260</td>\n",
       "      <td>128007</td>\n",
       "      <td>524101</td>\n",
       "      <td>45568</td>\n",
       "      <td>30835</td>\n",
       "      <td>0</td>\n",
       "    </tr>\n",
       "    <tr>\n",
       "      <th>2</th>\n",
       "      <td>2</td>\n",
       "      <td>0</td>\n",
       "      <td>68.89</td>\n",
       "      <td>122979</td>\n",
       "      <td>114264</td>\n",
       "      <td>170270</td>\n",
       "      <td>145013</td>\n",
       "      <td>15566</td>\n",
       "      <td>30835</td>\n",
       "      <td>0</td>\n",
       "    </tr>\n",
       "    <tr>\n",
       "      <th>3</th>\n",
       "      <td>3</td>\n",
       "      <td>0</td>\n",
       "      <td>18.99</td>\n",
       "      <td>9834</td>\n",
       "      <td>46931</td>\n",
       "      <td>218060</td>\n",
       "      <td>67408</td>\n",
       "      <td>29357</td>\n",
       "      <td>30835</td>\n",
       "      <td>0</td>\n",
       "    </tr>\n",
       "    <tr>\n",
       "      <th>4</th>\n",
       "      <td>4</td>\n",
       "      <td>0</td>\n",
       "      <td>7.17</td>\n",
       "      <td>105135</td>\n",
       "      <td>117844</td>\n",
       "      <td>170305</td>\n",
       "      <td>174527</td>\n",
       "      <td>23064</td>\n",
       "      <td>30835</td>\n",
       "      <td>0</td>\n",
       "    </tr>\n",
       "  </tbody>\n",
       "</table>\n",
       "</div>"
      ],
      "text/plain": [
       "   id  locale  price  encode_brand  encode_color  encode_size  encode_model  \\\n",
       "0   0       0  30.95        112134        203260       218060        426630   \n",
       "1   1       0  17.90        124505        203260       128007        524101   \n",
       "2   2       0  68.89        122979        114264       170270        145013   \n",
       "3   3       0  18.99          9834         46931       218060         67408   \n",
       "4   4       0   7.17        105135        117844       170305        174527   \n",
       "\n",
       "   encode_material  encode_author  encode_price  \n",
       "0            45568          30835             0  \n",
       "1            45568          30835             0  \n",
       "2            15566          30835             0  \n",
       "3            29357          30835             0  \n",
       "4            23064          30835             0  "
      ]
     },
     "execution_count": 153,
     "metadata": {},
     "output_type": "execute_result"
    }
   ],
   "source": [
    "products_encoded_newfeature.head()"
   ]
  },
  {
   "cell_type": "code",
   "execution_count": 149,
   "metadata": {},
   "outputs": [
    {
     "data": {
      "text/plain": [
       "(1410675, 14)"
      ]
     },
     "execution_count": 149,
     "metadata": {},
     "output_type": "execute_result"
    }
   ],
   "source": [
    "products_encoded.shape "
   ]
  },
  {
   "cell_type": "code",
   "execution_count": 161,
   "metadata": {},
   "outputs": [],
   "source": [
    "product2id = json.load(open('data/product2id.json', 'r'))\n",
    "id2product = json.load(open('data/id2product.json', 'r'))\n",
    "id2product = {int(k): v for k, v in id2product.items()}"
   ]
  },
  {
   "cell_type": "code",
   "execution_count": 162,
   "metadata": {},
   "outputs": [],
   "source": [
    "products_encoded['id'] = products_encoded['id'].map(product2id)"
   ]
  },
  {
   "cell_type": "code",
   "execution_count": 163,
   "metadata": {},
   "outputs": [],
   "source": [
    "loc2id = {'DE': 0, 'JP': 1, 'UK': 2, 'ES': 3, 'FR': 4, 'IT': 5}"
   ]
  },
  {
   "cell_type": "code",
   "execution_count": 164,
   "metadata": {},
   "outputs": [],
   "source": [
    "products_encoded['locale'] = products_encoded['locale'].map(loc2id)"
   ]
  },
  {
   "cell_type": "code",
   "execution_count": 167,
   "metadata": {},
   "outputs": [],
   "source": [
    "products_encoded.to_csv('./data/products_encoded_phase2_V3.csv', index=False)"
   ]
  },
  {
   "cell_type": "code",
   "execution_count": 168,
   "metadata": {},
   "outputs": [
    {
     "data": {
      "text/plain": [
       "(1410675, 10)"
      ]
     },
     "execution_count": 168,
     "metadata": {},
     "output_type": "execute_result"
    }
   ],
   "source": [
    "products_encoded.shape "
   ]
  },
  {
   "attachments": {},
   "cell_type": "markdown",
   "metadata": {},
   "source": [
    "测试集跟产品表连表"
   ]
  },
  {
   "cell_type": "code",
   "execution_count": 107,
   "metadata": {},
   "outputs": [],
   "source": [
    "df_test_phase2 = df_test_phase2_task2"
   ]
  },
  {
   "cell_type": "code",
   "execution_count": 108,
   "metadata": {},
   "outputs": [
    {
     "data": {
      "text/plain": [
       "Index(['prev_items', 'locale', 'last_item'], dtype='object')"
      ]
     },
     "execution_count": 108,
     "metadata": {},
     "output_type": "execute_result"
    }
   ],
   "source": [
    "df_test_phase2.columns"
   ]
  },
  {
   "cell_type": "code",
   "execution_count": 109,
   "metadata": {},
   "outputs": [],
   "source": [
    "df_test_exploded = df_test_phase2[['prev_items', 'locale', 'last_item']].explode('prev_items')"
   ]
  },
  {
   "cell_type": "code",
   "execution_count": 110,
   "metadata": {},
   "outputs": [
    {
     "data": {
      "text/plain": [
       "Int64Index([    0,     0,     1,     1,     1,     1,     1,     1,     2,\n",
       "                2,\n",
       "            ...\n",
       "            34685, 34686, 34686, 34687, 34687, 34688, 34688, 34689, 34689,\n",
       "            34689],\n",
       "           dtype='int64', length=132551)"
      ]
     },
     "execution_count": 110,
     "metadata": {},
     "output_type": "execute_result"
    }
   ],
   "source": [
    "df_test_exploded.index "
   ]
  },
  {
   "cell_type": "code",
   "execution_count": 111,
   "metadata": {},
   "outputs": [],
   "source": [
    "df_test_exploded['index'] = df_test_exploded.index "
   ]
  },
  {
   "cell_type": "code",
   "execution_count": 112,
   "metadata": {},
   "outputs": [],
   "source": [
    "df_test_exploded = df_test_exploded.rename(columns={'prev_items': 'id'})"
   ]
  },
  {
   "cell_type": "code",
   "execution_count": 113,
   "metadata": {},
   "outputs": [
    {
     "data": {
      "text/html": [
       "<div>\n",
       "<style scoped>\n",
       "    .dataframe tbody tr th:only-of-type {\n",
       "        vertical-align: middle;\n",
       "    }\n",
       "\n",
       "    .dataframe tbody tr th {\n",
       "        vertical-align: top;\n",
       "    }\n",
       "\n",
       "    .dataframe thead th {\n",
       "        text-align: right;\n",
       "    }\n",
       "</style>\n",
       "<table border=\"1\" class=\"dataframe\">\n",
       "  <thead>\n",
       "    <tr style=\"text-align: right;\">\n",
       "      <th></th>\n",
       "      <th>id</th>\n",
       "      <th>locale</th>\n",
       "      <th>last_item</th>\n",
       "      <th>index</th>\n",
       "    </tr>\n",
       "  </thead>\n",
       "  <tbody>\n",
       "    <tr>\n",
       "      <th>0</th>\n",
       "      <td>B07GTS7SWK</td>\n",
       "      <td>ES</td>\n",
       "      <td>B07GTS7SWK</td>\n",
       "      <td>0</td>\n",
       "    </tr>\n",
       "    <tr>\n",
       "      <th>0</th>\n",
       "      <td>B07GTS7SWK</td>\n",
       "      <td>ES</td>\n",
       "      <td>B07GTS7SWK</td>\n",
       "      <td>0</td>\n",
       "    </tr>\n",
       "    <tr>\n",
       "      <th>1</th>\n",
       "      <td>B0B33YWVHR</td>\n",
       "      <td>ES</td>\n",
       "      <td>B09K7TDY1H</td>\n",
       "      <td>1</td>\n",
       "    </tr>\n",
       "    <tr>\n",
       "      <th>1</th>\n",
       "      <td>849988993X</td>\n",
       "      <td>ES</td>\n",
       "      <td>B09K7TDY1H</td>\n",
       "      <td>1</td>\n",
       "    </tr>\n",
       "    <tr>\n",
       "      <th>1</th>\n",
       "      <td>B09QQG85HM</td>\n",
       "      <td>ES</td>\n",
       "      <td>B09K7TDY1H</td>\n",
       "      <td>1</td>\n",
       "    </tr>\n",
       "    <tr>\n",
       "      <th>...</th>\n",
       "      <td>...</td>\n",
       "      <td>...</td>\n",
       "      <td>...</td>\n",
       "      <td>...</td>\n",
       "    </tr>\n",
       "    <tr>\n",
       "      <th>34688</th>\n",
       "      <td>B0B3JRGZLM</td>\n",
       "      <td>IT</td>\n",
       "      <td>B09SHQJ8NV</td>\n",
       "      <td>34688</td>\n",
       "    </tr>\n",
       "    <tr>\n",
       "      <th>34688</th>\n",
       "      <td>B09SHQJ8NV</td>\n",
       "      <td>IT</td>\n",
       "      <td>B09SHQJ8NV</td>\n",
       "      <td>34688</td>\n",
       "    </tr>\n",
       "    <tr>\n",
       "      <th>34689</th>\n",
       "      <td>B08ZHKGYXR</td>\n",
       "      <td>IT</td>\n",
       "      <td>B0882QYG73</td>\n",
       "      <td>34689</td>\n",
       "    </tr>\n",
       "    <tr>\n",
       "      <th>34689</th>\n",
       "      <td>B07Z8PZTGL</td>\n",
       "      <td>IT</td>\n",
       "      <td>B0882QYG73</td>\n",
       "      <td>34689</td>\n",
       "    </tr>\n",
       "    <tr>\n",
       "      <th>34689</th>\n",
       "      <td>B0882QYG73</td>\n",
       "      <td>IT</td>\n",
       "      <td>B0882QYG73</td>\n",
       "      <td>34689</td>\n",
       "    </tr>\n",
       "  </tbody>\n",
       "</table>\n",
       "<p>132551 rows × 4 columns</p>\n",
       "</div>"
      ],
      "text/plain": [
       "               id locale   last_item  index\n",
       "0      B07GTS7SWK     ES  B07GTS7SWK      0\n",
       "0      B07GTS7SWK     ES  B07GTS7SWK      0\n",
       "1      B0B33YWVHR     ES  B09K7TDY1H      1\n",
       "1      849988993X     ES  B09K7TDY1H      1\n",
       "1      B09QQG85HM     ES  B09K7TDY1H      1\n",
       "...           ...    ...         ...    ...\n",
       "34688  B0B3JRGZLM     IT  B09SHQJ8NV  34688\n",
       "34688  B09SHQJ8NV     IT  B09SHQJ8NV  34688\n",
       "34689  B08ZHKGYXR     IT  B0882QYG73  34689\n",
       "34689  B07Z8PZTGL     IT  B0882QYG73  34689\n",
       "34689  B0882QYG73     IT  B0882QYG73  34689\n",
       "\n",
       "[132551 rows x 4 columns]"
      ]
     },
     "execution_count": 113,
     "metadata": {},
     "output_type": "execute_result"
    }
   ],
   "source": [
    "df_test_exploded"
   ]
  },
  {
   "cell_type": "code",
   "execution_count": 114,
   "metadata": {},
   "outputs": [
    {
     "data": {
      "text/html": [
       "<div>\n",
       "<style scoped>\n",
       "    .dataframe tbody tr th:only-of-type {\n",
       "        vertical-align: middle;\n",
       "    }\n",
       "\n",
       "    .dataframe tbody tr th {\n",
       "        vertical-align: top;\n",
       "    }\n",
       "\n",
       "    .dataframe thead th {\n",
       "        text-align: right;\n",
       "    }\n",
       "</style>\n",
       "<table border=\"1\" class=\"dataframe\">\n",
       "  <thead>\n",
       "    <tr style=\"text-align: right;\">\n",
       "      <th></th>\n",
       "      <th>id</th>\n",
       "      <th>locale_x</th>\n",
       "      <th>last_item</th>\n",
       "      <th>index</th>\n",
       "      <th>locale_y</th>\n",
       "      <th>title</th>\n",
       "      <th>price</th>\n",
       "      <th>brand</th>\n",
       "      <th>color</th>\n",
       "      <th>size</th>\n",
       "      <th>...</th>\n",
       "      <th>material</th>\n",
       "      <th>author</th>\n",
       "      <th>desc</th>\n",
       "      <th>encode_brand</th>\n",
       "      <th>encode_color</th>\n",
       "      <th>encode_size</th>\n",
       "      <th>encode_model</th>\n",
       "      <th>encode_material</th>\n",
       "      <th>encode_author</th>\n",
       "      <th>encode_price</th>\n",
       "    </tr>\n",
       "  </thead>\n",
       "  <tbody>\n",
       "    <tr>\n",
       "      <th>0</th>\n",
       "      <td>B07GTS7SWK</td>\n",
       "      <td>ES</td>\n",
       "      <td>B07GTS7SWK</td>\n",
       "      <td>0</td>\n",
       "      <td>DE</td>\n",
       "      <td>HP 303 (3YM92AE) Original Druckerpatronen Mult...</td>\n",
       "      <td>34.52</td>\n",
       "      <td>HP</td>\n",
       "      <td>Schwarz, Cyan, Magenta, Gelb</td>\n",
       "      <td>Standard</td>\n",
       "      <td>...</td>\n",
       "      <td>NaN</td>\n",
       "      <td>NaN</td>\n",
       "      <td>Kompatibel mit: HP ENVY Photo 6230, HP ENVY Ph...</td>\n",
       "      <td>1412</td>\n",
       "      <td>2132</td>\n",
       "      <td>376</td>\n",
       "      <td>8976</td>\n",
       "      <td>0</td>\n",
       "      <td>0</td>\n",
       "      <td>0</td>\n",
       "    </tr>\n",
       "    <tr>\n",
       "      <th>1</th>\n",
       "      <td>B07GTS7SWK</td>\n",
       "      <td>ES</td>\n",
       "      <td>B07GTS7SWK</td>\n",
       "      <td>0</td>\n",
       "      <td>DE</td>\n",
       "      <td>HP 303 (3YM92AE) Original Druckerpatronen Mult...</td>\n",
       "      <td>34.52</td>\n",
       "      <td>HP</td>\n",
       "      <td>Schwarz, Cyan, Magenta, Gelb</td>\n",
       "      <td>Standard</td>\n",
       "      <td>...</td>\n",
       "      <td>NaN</td>\n",
       "      <td>NaN</td>\n",
       "      <td>Kompatibel mit: HP ENVY Photo 6230, HP ENVY Ph...</td>\n",
       "      <td>1412</td>\n",
       "      <td>2132</td>\n",
       "      <td>376</td>\n",
       "      <td>8976</td>\n",
       "      <td>0</td>\n",
       "      <td>0</td>\n",
       "      <td>0</td>\n",
       "    </tr>\n",
       "    <tr>\n",
       "      <th>2</th>\n",
       "      <td>B0B33YWVHR</td>\n",
       "      <td>ES</td>\n",
       "      <td>B09K7TDY1H</td>\n",
       "      <td>1</td>\n",
       "      <td>ES</td>\n",
       "      <td>Todo arde</td>\n",
       "      <td>4.74</td>\n",
       "      <td>EDICIONES B</td>\n",
       "      <td>NaN</td>\n",
       "      <td>NaN</td>\n",
       "      <td>...</td>\n",
       "      <td>NaN</td>\n",
       "      <td>Gómez-Jurado, Juan</td>\n",
       "      <td>NaN</td>\n",
       "      <td>168665</td>\n",
       "      <td>0</td>\n",
       "      <td>0</td>\n",
       "      <td>0</td>\n",
       "      <td>0</td>\n",
       "      <td>29223</td>\n",
       "      <td>0</td>\n",
       "    </tr>\n",
       "    <tr>\n",
       "      <th>3</th>\n",
       "      <td>849988993X</td>\n",
       "      <td>ES</td>\n",
       "      <td>B09K7TDY1H</td>\n",
       "      <td>1</td>\n",
       "      <td>ES</td>\n",
       "      <td>Cómo el organismo esculpe el cerebro</td>\n",
       "      <td>17.10</td>\n",
       "      <td>Editorial Kairós SA</td>\n",
       "      <td>NaN</td>\n",
       "      <td>NaN</td>\n",
       "      <td>...</td>\n",
       "      <td>NaN</td>\n",
       "      <td>Castellanos, Nazareth</td>\n",
       "      <td>NaN</td>\n",
       "      <td>169365</td>\n",
       "      <td>0</td>\n",
       "      <td>0</td>\n",
       "      <td>0</td>\n",
       "      <td>0</td>\n",
       "      <td>29354</td>\n",
       "      <td>0</td>\n",
       "    </tr>\n",
       "    <tr>\n",
       "      <th>4</th>\n",
       "      <td>B09QQG85HM</td>\n",
       "      <td>ES</td>\n",
       "      <td>B09K7TDY1H</td>\n",
       "      <td>1</td>\n",
       "      <td>DE</td>\n",
       "      <td>Xiaomi Redmi Buds 3 Lite kabellose Bluetooth 5...</td>\n",
       "      <td>20.49</td>\n",
       "      <td>Xiaomi</td>\n",
       "      <td>Black</td>\n",
       "      <td>NaN</td>\n",
       "      <td>...</td>\n",
       "      <td>silikon</td>\n",
       "      <td>NaN</td>\n",
       "      <td>【Bis zu 18 Stunden Akkulaufzeit】Xiaomi kopfhör...</td>\n",
       "      <td>527</td>\n",
       "      <td>79</td>\n",
       "      <td>0</td>\n",
       "      <td>5795</td>\n",
       "      <td>152</td>\n",
       "      <td>0</td>\n",
       "      <td>0</td>\n",
       "    </tr>\n",
       "  </tbody>\n",
       "</table>\n",
       "<p>5 rows × 21 columns</p>\n",
       "</div>"
      ],
      "text/plain": [
       "           id locale_x   last_item  index locale_y  \\\n",
       "0  B07GTS7SWK       ES  B07GTS7SWK      0       DE   \n",
       "1  B07GTS7SWK       ES  B07GTS7SWK      0       DE   \n",
       "2  B0B33YWVHR       ES  B09K7TDY1H      1       ES   \n",
       "3  849988993X       ES  B09K7TDY1H      1       ES   \n",
       "4  B09QQG85HM       ES  B09K7TDY1H      1       DE   \n",
       "\n",
       "                                               title  price  \\\n",
       "0  HP 303 (3YM92AE) Original Druckerpatronen Mult...  34.52   \n",
       "1  HP 303 (3YM92AE) Original Druckerpatronen Mult...  34.52   \n",
       "2                                          Todo arde   4.74   \n",
       "3               Cómo el organismo esculpe el cerebro  17.10   \n",
       "4  Xiaomi Redmi Buds 3 Lite kabellose Bluetooth 5...  20.49   \n",
       "\n",
       "                 brand                         color      size  ... material  \\\n",
       "0                   HP  Schwarz, Cyan, Magenta, Gelb  Standard  ...      NaN   \n",
       "1                   HP  Schwarz, Cyan, Magenta, Gelb  Standard  ...      NaN   \n",
       "2          EDICIONES B                           NaN       NaN  ...      NaN   \n",
       "3  Editorial Kairós SA                           NaN       NaN  ...      NaN   \n",
       "4               Xiaomi                         Black       NaN  ...  silikon   \n",
       "\n",
       "                  author                                               desc  \\\n",
       "0                    NaN  Kompatibel mit: HP ENVY Photo 6230, HP ENVY Ph...   \n",
       "1                    NaN  Kompatibel mit: HP ENVY Photo 6230, HP ENVY Ph...   \n",
       "2     Gómez-Jurado, Juan                                                NaN   \n",
       "3  Castellanos, Nazareth                                                NaN   \n",
       "4                    NaN  【Bis zu 18 Stunden Akkulaufzeit】Xiaomi kopfhör...   \n",
       "\n",
       "  encode_brand  encode_color  encode_size  encode_model  encode_material  \\\n",
       "0         1412          2132          376          8976                0   \n",
       "1         1412          2132          376          8976                0   \n",
       "2       168665             0            0             0                0   \n",
       "3       169365             0            0             0                0   \n",
       "4          527            79            0          5795              152   \n",
       "\n",
       "   encode_author  encode_price  \n",
       "0              0             0  \n",
       "1              0             0  \n",
       "2          29223             0  \n",
       "3          29354             0  \n",
       "4              0             0  \n",
       "\n",
       "[5 rows x 21 columns]"
      ]
     },
     "execution_count": 114,
     "metadata": {},
     "output_type": "execute_result"
    }
   ],
   "source": [
    "# products在同一个地区的ID是不一样的，但是不同地区的ID可能会一样\n",
    "df_test_exploded_fea = df_test_exploded.merge(products, on='id', how='left')\n",
    "df_test_exploded_fea.head()"
   ]
  },
  {
   "cell_type": "code",
   "execution_count": 115,
   "metadata": {},
   "outputs": [
    {
     "data": {
      "text/plain": [
       "(132551, 21)"
      ]
     },
     "execution_count": 115,
     "metadata": {},
     "output_type": "execute_result"
    }
   ],
   "source": [
    "df_test_exploded_fea.shape "
   ]
  },
  {
   "attachments": {},
   "cell_type": "markdown",
   "metadata": {},
   "source": [
    "训练集和产品表连表"
   ]
  },
  {
   "cell_type": "code",
   "execution_count": 85,
   "metadata": {},
   "outputs": [
    {
     "data": {
      "text/plain": [
       "Index(['prev_items', 'next_item', 'locale', 'last_item'], dtype='object')"
      ]
     },
     "execution_count": 85,
     "metadata": {},
     "output_type": "execute_result"
    }
   ],
   "source": [
    "df_train.columns"
   ]
  },
  {
   "cell_type": "code",
   "execution_count": 86,
   "metadata": {},
   "outputs": [],
   "source": [
    "df_train_exploded = df_train[['prev_items', 'locale', 'last_item', 'next_item']].explode('prev_items')"
   ]
  },
  {
   "cell_type": "code",
   "execution_count": 87,
   "metadata": {},
   "outputs": [],
   "source": [
    "df_train_exploded['index'] = df_train_exploded.index "
   ]
  },
  {
   "cell_type": "code",
   "execution_count": 88,
   "metadata": {},
   "outputs": [],
   "source": [
    "df_train_exploded = df_train_exploded.rename(columns={'prev_items': 'id'})"
   ]
  },
  {
   "cell_type": "code",
   "execution_count": 89,
   "metadata": {},
   "outputs": [
    {
     "data": {
      "text/html": [
       "<div>\n",
       "<style scoped>\n",
       "    .dataframe tbody tr th:only-of-type {\n",
       "        vertical-align: middle;\n",
       "    }\n",
       "\n",
       "    .dataframe tbody tr th {\n",
       "        vertical-align: top;\n",
       "    }\n",
       "\n",
       "    .dataframe thead th {\n",
       "        text-align: right;\n",
       "    }\n",
       "</style>\n",
       "<table border=\"1\" class=\"dataframe\">\n",
       "  <thead>\n",
       "    <tr style=\"text-align: right;\">\n",
       "      <th></th>\n",
       "      <th>id</th>\n",
       "      <th>locale_x</th>\n",
       "      <th>last_item</th>\n",
       "      <th>next_item</th>\n",
       "      <th>index</th>\n",
       "      <th>locale_y</th>\n",
       "      <th>title</th>\n",
       "      <th>price</th>\n",
       "      <th>brand</th>\n",
       "      <th>color</th>\n",
       "      <th>...</th>\n",
       "      <th>material</th>\n",
       "      <th>author</th>\n",
       "      <th>desc</th>\n",
       "      <th>encode_brand</th>\n",
       "      <th>encode_color</th>\n",
       "      <th>encode_size</th>\n",
       "      <th>encode_model</th>\n",
       "      <th>encode_material</th>\n",
       "      <th>encode_author</th>\n",
       "      <th>encode_price</th>\n",
       "    </tr>\n",
       "  </thead>\n",
       "  <tbody>\n",
       "    <tr>\n",
       "      <th>0</th>\n",
       "      <td>B09W9FND7K</td>\n",
       "      <td>DE</td>\n",
       "      <td>B09JSPLN1M</td>\n",
       "      <td>B09M7GY217</td>\n",
       "      <td>0</td>\n",
       "      <td>DE</td>\n",
       "      <td>OREiN LED Einbaustrahler 230V Dimmbar &amp; IP65 L...</td>\n",
       "      <td>39.990002</td>\n",
       "      <td>OREiN</td>\n",
       "      <td>6*ip65 (3000k,dimmbar)</td>\n",
       "      <td>...</td>\n",
       "      <td>塑料</td>\n",
       "      <td>NaN</td>\n",
       "      <td>【Angenehmes Licht】Dieser Einbaustrahler LED Fl...</td>\n",
       "      <td>29880</td>\n",
       "      <td>48058</td>\n",
       "      <td>20832</td>\n",
       "      <td>0</td>\n",
       "      <td>333</td>\n",
       "      <td>0</td>\n",
       "      <td>0</td>\n",
       "    </tr>\n",
       "    <tr>\n",
       "      <th>1</th>\n",
       "      <td>B09JSPLN1M</td>\n",
       "      <td>DE</td>\n",
       "      <td>B09JSPLN1M</td>\n",
       "      <td>B09M7GY217</td>\n",
       "      <td>0</td>\n",
       "      <td>DE</td>\n",
       "      <td>OREiN LED Spot LED Einbaustrahler 230V IP65 LE...</td>\n",
       "      <td>36.990002</td>\n",
       "      <td>OREiN</td>\n",
       "      <td>6*ip65(3000k)</td>\n",
       "      <td>...</td>\n",
       "      <td>Kunststoff</td>\n",
       "      <td>NaN</td>\n",
       "      <td>【Angenehmes Licht】Dieser Einbaustrahler LED Fl...</td>\n",
       "      <td>29880</td>\n",
       "      <td>18296</td>\n",
       "      <td>20832</td>\n",
       "      <td>0</td>\n",
       "      <td>14</td>\n",
       "      <td>0</td>\n",
       "      <td>0</td>\n",
       "    </tr>\n",
       "    <tr>\n",
       "      <th>2</th>\n",
       "      <td>B076THCGSG</td>\n",
       "      <td>DE</td>\n",
       "      <td>B001B4TKA0</td>\n",
       "      <td>B001B4THSA</td>\n",
       "      <td>1</td>\n",
       "      <td>DE</td>\n",
       "      <td>VIETSCHI Profi DIN Plus 12,5L weiß - doppeldec...</td>\n",
       "      <td>39.799999</td>\n",
       "      <td>Vietschi</td>\n",
       "      <td>NaN</td>\n",
       "      <td>...</td>\n",
       "      <td>NaN</td>\n",
       "      <td>NaN</td>\n",
       "      <td>✅ Einfache Verarbeitung - Egal ob Streichen, R...</td>\n",
       "      <td>18500</td>\n",
       "      <td>0</td>\n",
       "      <td>11071</td>\n",
       "      <td>0</td>\n",
       "      <td>0</td>\n",
       "      <td>0</td>\n",
       "      <td>0</td>\n",
       "    </tr>\n",
       "    <tr>\n",
       "      <th>3</th>\n",
       "      <td>B007MO8IME</td>\n",
       "      <td>DE</td>\n",
       "      <td>B001B4TKA0</td>\n",
       "      <td>B001B4THSA</td>\n",
       "      <td>1</td>\n",
       "      <td>DE</td>\n",
       "      <td>Caparol Capa DIN 12,500 L Wandfarben</td>\n",
       "      <td>40.270000</td>\n",
       "      <td>Caparol</td>\n",
       "      <td>Weiss</td>\n",
       "      <td>...</td>\n",
       "      <td>Dispersionsfarbe</td>\n",
       "      <td>NaN</td>\n",
       "      <td>Caparol</td>\n",
       "      <td>30369</td>\n",
       "      <td>205</td>\n",
       "      <td>11071</td>\n",
       "      <td>38392</td>\n",
       "      <td>5050</td>\n",
       "      <td>0</td>\n",
       "      <td>0</td>\n",
       "    </tr>\n",
       "    <tr>\n",
       "      <th>4</th>\n",
       "      <td>B08MF65MLV</td>\n",
       "      <td>DE</td>\n",
       "      <td>B001B4TKA0</td>\n",
       "      <td>B001B4THSA</td>\n",
       "      <td>1</td>\n",
       "      <td>DE</td>\n",
       "      <td>Metzler Edelstahl Türklingel in Anthrazit - Tü...</td>\n",
       "      <td>29.990000</td>\n",
       "      <td>Metzler</td>\n",
       "      <td>Anthrazit</td>\n",
       "      <td>...</td>\n",
       "      <td>Edelstahl V2A</td>\n",
       "      <td>NaN</td>\n",
       "      <td>Der Anschluss erfolgt an herkömmlichen Klingel...</td>\n",
       "      <td>3245</td>\n",
       "      <td>222</td>\n",
       "      <td>1646</td>\n",
       "      <td>0</td>\n",
       "      <td>548</td>\n",
       "      <td>0</td>\n",
       "      <td>0</td>\n",
       "    </tr>\n",
       "  </tbody>\n",
       "</table>\n",
       "<p>5 rows × 22 columns</p>\n",
       "</div>"
      ],
      "text/plain": [
       "           id locale_x   last_item   next_item  index locale_y  \\\n",
       "0  B09W9FND7K       DE  B09JSPLN1M  B09M7GY217      0       DE   \n",
       "1  B09JSPLN1M       DE  B09JSPLN1M  B09M7GY217      0       DE   \n",
       "2  B076THCGSG       DE  B001B4TKA0  B001B4THSA      1       DE   \n",
       "3  B007MO8IME       DE  B001B4TKA0  B001B4THSA      1       DE   \n",
       "4  B08MF65MLV       DE  B001B4TKA0  B001B4THSA      1       DE   \n",
       "\n",
       "                                               title      price     brand  \\\n",
       "0  OREiN LED Einbaustrahler 230V Dimmbar & IP65 L...  39.990002     OREiN   \n",
       "1  OREiN LED Spot LED Einbaustrahler 230V IP65 LE...  36.990002     OREiN   \n",
       "2  VIETSCHI Profi DIN Plus 12,5L weiß - doppeldec...  39.799999  Vietschi   \n",
       "3               Caparol Capa DIN 12,500 L Wandfarben  40.270000   Caparol   \n",
       "4  Metzler Edelstahl Türklingel in Anthrazit - Tü...  29.990000   Metzler   \n",
       "\n",
       "                    color  ...          material author  \\\n",
       "0  6*ip65 (3000k,dimmbar)  ...                塑料    NaN   \n",
       "1           6*ip65(3000k)  ...        Kunststoff    NaN   \n",
       "2                     NaN  ...               NaN    NaN   \n",
       "3                   Weiss  ...  Dispersionsfarbe    NaN   \n",
       "4               Anthrazit  ...     Edelstahl V2A    NaN   \n",
       "\n",
       "                                                desc encode_brand  \\\n",
       "0  【Angenehmes Licht】Dieser Einbaustrahler LED Fl...        29880   \n",
       "1  【Angenehmes Licht】Dieser Einbaustrahler LED Fl...        29880   \n",
       "2  ✅ Einfache Verarbeitung - Egal ob Streichen, R...        18500   \n",
       "3                                            Caparol        30369   \n",
       "4  Der Anschluss erfolgt an herkömmlichen Klingel...         3245   \n",
       "\n",
       "  encode_color  encode_size  encode_model  encode_material  encode_author  \\\n",
       "0        48058        20832             0              333              0   \n",
       "1        18296        20832             0               14              0   \n",
       "2            0        11071             0                0              0   \n",
       "3          205        11071         38392             5050              0   \n",
       "4          222         1646             0              548              0   \n",
       "\n",
       "   encode_price  \n",
       "0             0  \n",
       "1             0  \n",
       "2             0  \n",
       "3             0  \n",
       "4             0  \n",
       "\n",
       "[5 rows x 22 columns]"
      ]
     },
     "execution_count": 89,
     "metadata": {},
     "output_type": "execute_result"
    }
   ],
   "source": [
    "# products在同一个地区的ID是不一样的，但是不同地区的ID可能会一样\n",
    "df_train_exploded_fea = df_train_exploded.merge(products, on='id', how='left')\n",
    "df_train_exploded_fea.head()"
   ]
  },
  {
   "cell_type": "code",
   "execution_count": 90,
   "metadata": {},
   "outputs": [
    {
     "data": {
      "text/plain": [
       "(15306183, 22)"
      ]
     },
     "execution_count": 90,
     "metadata": {},
     "output_type": "execute_result"
    }
   ],
   "source": [
    "df_train_exploded_fea.shape "
   ]
  },
  {
   "attachments": {},
   "cell_type": "markdown",
   "metadata": {},
   "source": [
    "测试集序列特征抽取"
   ]
  },
  {
   "cell_type": "code",
   "execution_count": 91,
   "metadata": {},
   "outputs": [],
   "source": [
    "def mymode(x):\n",
    "    return int(x.mode()[0])\n",
    "\n",
    "def quantile75(x):\n",
    "    return x.quantile(0.75)\n",
    "\n",
    "def quantile25(x):\n",
    "    return x.quantile(0.25)"
   ]
  },
  {
   "cell_type": "code",
   "execution_count": 92,
   "metadata": {},
   "outputs": [],
   "source": [
    "agg = {\n",
    "    'id': ['nunique', 'count'],\n",
    "    'encode_brand' : ['nunique', 'count', mymode],\n",
    "    'encode_color' : ['nunique', 'count', mymode],\n",
    "    'encode_size' : ['nunique', 'count', mymode],\n",
    "    'encode_model' : ['nunique', 'count', mymode],\n",
    "    'encode_material' : ['nunique', 'count', mymode],\n",
    "    'encode_author' : ['nunique', 'count', mymode],\n",
    "    'price' : ['mean', 'std', 'min', 'max', 'sum', np.ptp, quantile75, quantile25],\n",
    "}"
   ]
  },
  {
   "cell_type": "code",
   "execution_count": 116,
   "metadata": {},
   "outputs": [],
   "source": [
    "df_test_seqs_feas = df_test_exploded_fea.groupby('index').agg(agg)"
   ]
  },
  {
   "cell_type": "code",
   "execution_count": 117,
   "metadata": {},
   "outputs": [],
   "source": [
    "df_test_seqs_feas.columns = pd.Index([e[0] + e[1].upper() for e in df_test_seqs_feas.columns.tolist()])"
   ]
  },
  {
   "cell_type": "code",
   "execution_count": 118,
   "metadata": {},
   "outputs": [
    {
     "data": {
      "text/html": [
       "<div>\n",
       "<style scoped>\n",
       "    .dataframe tbody tr th:only-of-type {\n",
       "        vertical-align: middle;\n",
       "    }\n",
       "\n",
       "    .dataframe tbody tr th {\n",
       "        vertical-align: top;\n",
       "    }\n",
       "\n",
       "    .dataframe thead th {\n",
       "        text-align: right;\n",
       "    }\n",
       "</style>\n",
       "<table border=\"1\" class=\"dataframe\">\n",
       "  <thead>\n",
       "    <tr style=\"text-align: right;\">\n",
       "      <th></th>\n",
       "      <th>idNUNIQUE</th>\n",
       "      <th>idCOUNT</th>\n",
       "      <th>encode_brandNUNIQUE</th>\n",
       "      <th>encode_brandCOUNT</th>\n",
       "      <th>encode_brandMYMODE</th>\n",
       "      <th>encode_colorNUNIQUE</th>\n",
       "      <th>encode_colorCOUNT</th>\n",
       "      <th>encode_colorMYMODE</th>\n",
       "      <th>encode_sizeNUNIQUE</th>\n",
       "      <th>encode_sizeCOUNT</th>\n",
       "      <th>...</th>\n",
       "      <th>encode_authorCOUNT</th>\n",
       "      <th>encode_authorMYMODE</th>\n",
       "      <th>priceMEAN</th>\n",
       "      <th>priceSTD</th>\n",
       "      <th>priceMIN</th>\n",
       "      <th>priceMAX</th>\n",
       "      <th>priceSUM</th>\n",
       "      <th>pricePTP</th>\n",
       "      <th>priceQUANTILE75</th>\n",
       "      <th>priceQUANTILE25</th>\n",
       "    </tr>\n",
       "    <tr>\n",
       "      <th>index</th>\n",
       "      <th></th>\n",
       "      <th></th>\n",
       "      <th></th>\n",
       "      <th></th>\n",
       "      <th></th>\n",
       "      <th></th>\n",
       "      <th></th>\n",
       "      <th></th>\n",
       "      <th></th>\n",
       "      <th></th>\n",
       "      <th></th>\n",
       "      <th></th>\n",
       "      <th></th>\n",
       "      <th></th>\n",
       "      <th></th>\n",
       "      <th></th>\n",
       "      <th></th>\n",
       "      <th></th>\n",
       "      <th></th>\n",
       "      <th></th>\n",
       "      <th></th>\n",
       "    </tr>\n",
       "  </thead>\n",
       "  <tbody>\n",
       "    <tr>\n",
       "      <th>0</th>\n",
       "      <td>1</td>\n",
       "      <td>2</td>\n",
       "      <td>1</td>\n",
       "      <td>2</td>\n",
       "      <td>1412</td>\n",
       "      <td>1</td>\n",
       "      <td>2</td>\n",
       "      <td>2132</td>\n",
       "      <td>1</td>\n",
       "      <td>2</td>\n",
       "      <td>...</td>\n",
       "      <td>2</td>\n",
       "      <td>0</td>\n",
       "      <td>34.520000</td>\n",
       "      <td>0.000000</td>\n",
       "      <td>34.52</td>\n",
       "      <td>34.520000</td>\n",
       "      <td>69.040001</td>\n",
       "      <td>0.000000</td>\n",
       "      <td>34.520000</td>\n",
       "      <td>34.520000</td>\n",
       "    </tr>\n",
       "    <tr>\n",
       "      <th>1</th>\n",
       "      <td>6</td>\n",
       "      <td>6</td>\n",
       "      <td>4</td>\n",
       "      <td>6</td>\n",
       "      <td>527</td>\n",
       "      <td>5</td>\n",
       "      <td>6</td>\n",
       "      <td>0</td>\n",
       "      <td>2</td>\n",
       "      <td>6</td>\n",
       "      <td>...</td>\n",
       "      <td>6</td>\n",
       "      <td>0</td>\n",
       "      <td>18.708334</td>\n",
       "      <td>9.589059</td>\n",
       "      <td>4.74</td>\n",
       "      <td>29.980000</td>\n",
       "      <td>112.250000</td>\n",
       "      <td>25.240000</td>\n",
       "      <td>26.115000</td>\n",
       "      <td>13.237500</td>\n",
       "    </tr>\n",
       "    <tr>\n",
       "      <th>2</th>\n",
       "      <td>4</td>\n",
       "      <td>6</td>\n",
       "      <td>1</td>\n",
       "      <td>6</td>\n",
       "      <td>527</td>\n",
       "      <td>3</td>\n",
       "      <td>6</td>\n",
       "      <td>192697</td>\n",
       "      <td>4</td>\n",
       "      <td>6</td>\n",
       "      <td>...</td>\n",
       "      <td>6</td>\n",
       "      <td>0</td>\n",
       "      <td>142.183334</td>\n",
       "      <td>28.716279</td>\n",
       "      <td>121.00</td>\n",
       "      <td>199.000000</td>\n",
       "      <td>853.099976</td>\n",
       "      <td>78.000000</td>\n",
       "      <td>138.949997</td>\n",
       "      <td>127.599998</td>\n",
       "    </tr>\n",
       "    <tr>\n",
       "      <th>3</th>\n",
       "      <td>2</td>\n",
       "      <td>2</td>\n",
       "      <td>1</td>\n",
       "      <td>2</td>\n",
       "      <td>405</td>\n",
       "      <td>1</td>\n",
       "      <td>2</td>\n",
       "      <td>193945</td>\n",
       "      <td>2</td>\n",
       "      <td>2</td>\n",
       "      <td>...</td>\n",
       "      <td>2</td>\n",
       "      <td>0</td>\n",
       "      <td>59.075001</td>\n",
       "      <td>48.203472</td>\n",
       "      <td>24.99</td>\n",
       "      <td>93.160004</td>\n",
       "      <td>118.150002</td>\n",
       "      <td>68.170006</td>\n",
       "      <td>76.117500</td>\n",
       "      <td>42.032501</td>\n",
       "    </tr>\n",
       "    <tr>\n",
       "      <th>4</th>\n",
       "      <td>2</td>\n",
       "      <td>2</td>\n",
       "      <td>1</td>\n",
       "      <td>2</td>\n",
       "      <td>962</td>\n",
       "      <td>2</td>\n",
       "      <td>2</td>\n",
       "      <td>11921</td>\n",
       "      <td>2</td>\n",
       "      <td>2</td>\n",
       "      <td>...</td>\n",
       "      <td>2</td>\n",
       "      <td>0</td>\n",
       "      <td>922.000000</td>\n",
       "      <td>66.468037</td>\n",
       "      <td>875.00</td>\n",
       "      <td>969.000000</td>\n",
       "      <td>1844.000000</td>\n",
       "      <td>94.000000</td>\n",
       "      <td>945.500000</td>\n",
       "      <td>898.500000</td>\n",
       "    </tr>\n",
       "  </tbody>\n",
       "</table>\n",
       "<p>5 rows × 28 columns</p>\n",
       "</div>"
      ],
      "text/plain": [
       "       idNUNIQUE  idCOUNT  encode_brandNUNIQUE  encode_brandCOUNT  \\\n",
       "index                                                               \n",
       "0              1        2                    1                  2   \n",
       "1              6        6                    4                  6   \n",
       "2              4        6                    1                  6   \n",
       "3              2        2                    1                  2   \n",
       "4              2        2                    1                  2   \n",
       "\n",
       "       encode_brandMYMODE  encode_colorNUNIQUE  encode_colorCOUNT  \\\n",
       "index                                                               \n",
       "0                    1412                    1                  2   \n",
       "1                     527                    5                  6   \n",
       "2                     527                    3                  6   \n",
       "3                     405                    1                  2   \n",
       "4                     962                    2                  2   \n",
       "\n",
       "       encode_colorMYMODE  encode_sizeNUNIQUE  encode_sizeCOUNT  ...  \\\n",
       "index                                                            ...   \n",
       "0                    2132                   1                 2  ...   \n",
       "1                       0                   2                 6  ...   \n",
       "2                  192697                   4                 6  ...   \n",
       "3                  193945                   2                 2  ...   \n",
       "4                   11921                   2                 2  ...   \n",
       "\n",
       "       encode_authorCOUNT  encode_authorMYMODE   priceMEAN   priceSTD  \\\n",
       "index                                                                   \n",
       "0                       2                    0   34.520000   0.000000   \n",
       "1                       6                    0   18.708334   9.589059   \n",
       "2                       6                    0  142.183334  28.716279   \n",
       "3                       2                    0   59.075001  48.203472   \n",
       "4                       2                    0  922.000000  66.468037   \n",
       "\n",
       "       priceMIN    priceMAX     priceSUM   pricePTP  priceQUANTILE75  \\\n",
       "index                                                                  \n",
       "0         34.52   34.520000    69.040001   0.000000        34.520000   \n",
       "1          4.74   29.980000   112.250000  25.240000        26.115000   \n",
       "2        121.00  199.000000   853.099976  78.000000       138.949997   \n",
       "3         24.99   93.160004   118.150002  68.170006        76.117500   \n",
       "4        875.00  969.000000  1844.000000  94.000000       945.500000   \n",
       "\n",
       "       priceQUANTILE25  \n",
       "index                   \n",
       "0            34.520000  \n",
       "1            13.237500  \n",
       "2           127.599998  \n",
       "3            42.032501  \n",
       "4           898.500000  \n",
       "\n",
       "[5 rows x 28 columns]"
      ]
     },
     "execution_count": 118,
     "metadata": {},
     "output_type": "execute_result"
    }
   ],
   "source": [
    "df_test_seqs_feas.head()"
   ]
  },
  {
   "cell_type": "code",
   "execution_count": 119,
   "metadata": {},
   "outputs": [
    {
     "data": {
      "text/plain": [
       "(34690, 28)"
      ]
     },
     "execution_count": 119,
     "metadata": {},
     "output_type": "execute_result"
    }
   ],
   "source": [
    "df_test_seqs_feas.shape "
   ]
  },
  {
   "cell_type": "code",
   "execution_count": 170,
   "metadata": {},
   "outputs": [
    {
     "data": {
      "text/plain": [
       "Index(['idNUNIQUE', 'idCOUNT', 'encode_brandNUNIQUE', 'encode_brandCOUNT',\n",
       "       'encode_brandMYMODE', 'encode_colorNUNIQUE', 'encode_colorCOUNT',\n",
       "       'encode_colorMYMODE', 'encode_sizeNUNIQUE', 'encode_sizeCOUNT',\n",
       "       'encode_sizeMYMODE', 'encode_modelNUNIQUE', 'encode_modelCOUNT',\n",
       "       'encode_modelMYMODE', 'encode_materialNUNIQUE', 'encode_materialCOUNT',\n",
       "       'encode_materialMYMODE', 'encode_authorNUNIQUE', 'encode_authorCOUNT',\n",
       "       'encode_authorMYMODE', 'priceMEAN', 'priceSTD', 'priceMIN', 'priceMAX',\n",
       "       'priceSUM', 'pricePTP', 'priceQUANTILE75', 'priceQUANTILE25',\n",
       "       'encode_priceMEAN', 'encode_priceSTD', 'encode_priceMIN',\n",
       "       'encode_priceMAX', 'encode_priceSUM', 'encode_pricePTP',\n",
       "       'encode_priceQUANTILE75', 'encode_priceQUANTILE25'],\n",
       "      dtype='object')"
      ]
     },
     "execution_count": 170,
     "metadata": {},
     "output_type": "execute_result"
    }
   ],
   "source": [
    "df_test_seqs_feas.columns"
   ]
  },
  {
   "cell_type": "code",
   "execution_count": 176,
   "metadata": {},
   "outputs": [
    {
     "data": {
      "text/plain": [
       "['idNUNIQUE',\n",
       " 'idCOUNT',\n",
       " 'encode_brandNUNIQUE',\n",
       " 'encode_brandCOUNT',\n",
       " 'encode_colorNUNIQUE',\n",
       " 'encode_colorCOUNT',\n",
       " 'encode_sizeNUNIQUE',\n",
       " 'encode_sizeCOUNT',\n",
       " 'encode_modelNUNIQUE',\n",
       " 'encode_modelCOUNT',\n",
       " 'encode_materialNUNIQUE',\n",
       " 'encode_materialCOUNT',\n",
       " 'encode_authorNUNIQUE',\n",
       " 'encode_authorCOUNT',\n",
       " 'encode_priceMEAN',\n",
       " 'encode_priceSTD',\n",
       " 'encode_priceMIN',\n",
       " 'encode_priceMAX',\n",
       " 'encode_priceSUM',\n",
       " 'encode_pricePTP',\n",
       " 'encode_priceQUANTILE75',\n",
       " 'encode_priceQUANTILE25']"
      ]
     },
     "execution_count": 176,
     "metadata": {},
     "output_type": "execute_result"
    }
   ],
   "source": [
    "[f for f in df_test_seqs_feas.columns if 'MODE' not in f and ('NUNIQUE' in f or 'COUNT' in f or 'encode' in f)]"
   ]
  },
  {
   "cell_type": "code",
   "execution_count": 172,
   "metadata": {},
   "outputs": [
    {
     "data": {
      "text/plain": [
       "['encode_brandMYMODE',\n",
       " 'encode_colorMYMODE',\n",
       " 'encode_sizeMYMODE',\n",
       " 'encode_modelMYMODE',\n",
       " 'encode_materialMYMODE',\n",
       " 'encode_authorMYMODE']"
      ]
     },
     "execution_count": 172,
     "metadata": {},
     "output_type": "execute_result"
    }
   ],
   "source": [
    "[f for f in df_test_seqs_feas.columns if 'MODE' in f]"
   ]
  },
  {
   "cell_type": "code",
   "execution_count": 177,
   "metadata": {},
   "outputs": [
    {
     "data": {
      "text/plain": [
       "['priceMEAN',\n",
       " 'priceSTD',\n",
       " 'priceMIN',\n",
       " 'priceMAX',\n",
       " 'priceSUM',\n",
       " 'pricePTP',\n",
       " 'priceQUANTILE75',\n",
       " 'priceQUANTILE25']"
      ]
     },
     "execution_count": 177,
     "metadata": {},
     "output_type": "execute_result"
    }
   ],
   "source": [
    "[f for f in df_test_seqs_feas.columns if f not in ([f for f in df_test_seqs_feas.columns if 'MODE' not in f and ('NUNIQUE' in f or 'COUNT' in f or 'encode' in f)]) and f not in ([f for f in df_test_seqs_feas.columns if 'MODE' in f])]"
   ]
  },
  {
   "cell_type": "code",
   "execution_count": 121,
   "metadata": {},
   "outputs": [],
   "source": [
    "seqs_cat_feas = [f for f in df_test_seqs_feas.columns if 'NUNIQUE' in f or 'COUNT' in f or 'MODE' in f]"
   ]
  },
  {
   "cell_type": "code",
   "execution_count": 122,
   "metadata": {},
   "outputs": [],
   "source": [
    "seqs_num_feas = [f for f in df_test_seqs_feas.columns if f not in seqs_cat_feas]"
   ]
  },
  {
   "cell_type": "code",
   "execution_count": 123,
   "metadata": {},
   "outputs": [
    {
     "data": {
      "text/plain": [
       "(20, 8)"
      ]
     },
     "execution_count": 123,
     "metadata": {},
     "output_type": "execute_result"
    }
   ],
   "source": [
    "len(seqs_cat_feas), len(seqs_num_feas)"
   ]
  },
  {
   "cell_type": "code",
   "execution_count": 124,
   "metadata": {},
   "outputs": [],
   "source": [
    "dense_bins = 100\n",
    "add_cat_features = []\n",
    "for f in seqs_num_feas:\n",
    "    discretizer = KBinsDiscretizer(n_bins=dense_bins, encode='ordinal', strategy='kmeans')  # 等频quantile，等宽uniform\n",
    "    df_test_seqs_feas['encode_' + f] = discretizer.fit_transform(np.array(df_test_seqs_feas[f].tolist()).reshape(-1, 1))\n",
    "    add_cat_features.append('encode_' + f)"
   ]
  },
  {
   "cell_type": "code",
   "execution_count": null,
   "metadata": {},
   "outputs": [],
   "source": [
    "for fe in add_cat_features:\n",
    "    df_test_seqs_feas[fe] = df_test_seqs_feas[fe].astype('int64')"
   ]
  },
  {
   "cell_type": "code",
   "execution_count": 205,
   "metadata": {},
   "outputs": [
    {
     "data": {
      "text/plain": [
       "(34690, 36)"
      ]
     },
     "execution_count": 205,
     "metadata": {},
     "output_type": "execute_result"
    }
   ],
   "source": [
    "df_test_seqs_feas.shape "
   ]
  },
  {
   "attachments": {},
   "cell_type": "markdown",
   "metadata": {},
   "source": [
    "训练集序列特征抽取"
   ]
  },
  {
   "cell_type": "code",
   "execution_count": 128,
   "metadata": {},
   "outputs": [],
   "source": [
    "df_train_seqs_feas = df_train_exploded_fea.groupby('index').agg(agg)"
   ]
  },
  {
   "cell_type": "code",
   "execution_count": 129,
   "metadata": {},
   "outputs": [],
   "source": [
    "df_train_seqs_feas.columns = pd.Index([e[0] + e[1].upper() for e in df_train_seqs_feas.columns.tolist()])"
   ]
  },
  {
   "cell_type": "code",
   "execution_count": 130,
   "metadata": {},
   "outputs": [
    {
     "data": {
      "text/html": [
       "<div>\n",
       "<style scoped>\n",
       "    .dataframe tbody tr th:only-of-type {\n",
       "        vertical-align: middle;\n",
       "    }\n",
       "\n",
       "    .dataframe tbody tr th {\n",
       "        vertical-align: top;\n",
       "    }\n",
       "\n",
       "    .dataframe thead th {\n",
       "        text-align: right;\n",
       "    }\n",
       "</style>\n",
       "<table border=\"1\" class=\"dataframe\">\n",
       "  <thead>\n",
       "    <tr style=\"text-align: right;\">\n",
       "      <th></th>\n",
       "      <th>idNUNIQUE</th>\n",
       "      <th>idCOUNT</th>\n",
       "      <th>encode_brandNUNIQUE</th>\n",
       "      <th>encode_brandCOUNT</th>\n",
       "      <th>encode_brandMYMODE</th>\n",
       "      <th>encode_colorNUNIQUE</th>\n",
       "      <th>encode_colorCOUNT</th>\n",
       "      <th>encode_colorMYMODE</th>\n",
       "      <th>encode_sizeNUNIQUE</th>\n",
       "      <th>encode_sizeCOUNT</th>\n",
       "      <th>...</th>\n",
       "      <th>encode_authorCOUNT</th>\n",
       "      <th>encode_authorMYMODE</th>\n",
       "      <th>priceMEAN</th>\n",
       "      <th>priceSTD</th>\n",
       "      <th>priceMIN</th>\n",
       "      <th>priceMAX</th>\n",
       "      <th>priceSUM</th>\n",
       "      <th>pricePTP</th>\n",
       "      <th>priceQUANTILE75</th>\n",
       "      <th>priceQUANTILE25</th>\n",
       "    </tr>\n",
       "    <tr>\n",
       "      <th>index</th>\n",
       "      <th></th>\n",
       "      <th></th>\n",
       "      <th></th>\n",
       "      <th></th>\n",
       "      <th></th>\n",
       "      <th></th>\n",
       "      <th></th>\n",
       "      <th></th>\n",
       "      <th></th>\n",
       "      <th></th>\n",
       "      <th></th>\n",
       "      <th></th>\n",
       "      <th></th>\n",
       "      <th></th>\n",
       "      <th></th>\n",
       "      <th></th>\n",
       "      <th></th>\n",
       "      <th></th>\n",
       "      <th></th>\n",
       "      <th></th>\n",
       "      <th></th>\n",
       "    </tr>\n",
       "  </thead>\n",
       "  <tbody>\n",
       "    <tr>\n",
       "      <th>0</th>\n",
       "      <td>2</td>\n",
       "      <td>2</td>\n",
       "      <td>1</td>\n",
       "      <td>2</td>\n",
       "      <td>29880</td>\n",
       "      <td>2</td>\n",
       "      <td>2</td>\n",
       "      <td>18296</td>\n",
       "      <td>1</td>\n",
       "      <td>2</td>\n",
       "      <td>...</td>\n",
       "      <td>2</td>\n",
       "      <td>0</td>\n",
       "      <td>38.490002</td>\n",
       "      <td>2.121320</td>\n",
       "      <td>36.990002</td>\n",
       "      <td>39.990002</td>\n",
       "      <td>76.980003</td>\n",
       "      <td>3.000000</td>\n",
       "      <td>39.240002</td>\n",
       "      <td>37.740002</td>\n",
       "    </tr>\n",
       "    <tr>\n",
       "      <th>1</th>\n",
       "      <td>4</td>\n",
       "      <td>4</td>\n",
       "      <td>4</td>\n",
       "      <td>4</td>\n",
       "      <td>1026</td>\n",
       "      <td>4</td>\n",
       "      <td>4</td>\n",
       "      <td>0</td>\n",
       "      <td>3</td>\n",
       "      <td>4</td>\n",
       "      <td>...</td>\n",
       "      <td>4</td>\n",
       "      <td>0</td>\n",
       "      <td>31.762501</td>\n",
       "      <td>10.929280</td>\n",
       "      <td>16.990000</td>\n",
       "      <td>40.270000</td>\n",
       "      <td>127.050003</td>\n",
       "      <td>23.280001</td>\n",
       "      <td>39.917500</td>\n",
       "      <td>26.740000</td>\n",
       "    </tr>\n",
       "    <tr>\n",
       "      <th>2</th>\n",
       "      <td>2</td>\n",
       "      <td>9</td>\n",
       "      <td>1</td>\n",
       "      <td>9</td>\n",
       "      <td>14524</td>\n",
       "      <td>1</td>\n",
       "      <td>9</td>\n",
       "      <td>0</td>\n",
       "      <td>1</td>\n",
       "      <td>9</td>\n",
       "      <td>...</td>\n",
       "      <td>9</td>\n",
       "      <td>0</td>\n",
       "      <td>60.873337</td>\n",
       "      <td>8.427471</td>\n",
       "      <td>51.990002</td>\n",
       "      <td>67.980003</td>\n",
       "      <td>547.860046</td>\n",
       "      <td>15.990002</td>\n",
       "      <td>67.980003</td>\n",
       "      <td>51.990002</td>\n",
       "    </tr>\n",
       "    <tr>\n",
       "      <th>3</th>\n",
       "      <td>4</td>\n",
       "      <td>7</td>\n",
       "      <td>1</td>\n",
       "      <td>7</td>\n",
       "      <td>10709</td>\n",
       "      <td>4</td>\n",
       "      <td>7</td>\n",
       "      <td>29</td>\n",
       "      <td>1</td>\n",
       "      <td>7</td>\n",
       "      <td>...</td>\n",
       "      <td>7</td>\n",
       "      <td>0</td>\n",
       "      <td>14.418571</td>\n",
       "      <td>0.534522</td>\n",
       "      <td>13.990000</td>\n",
       "      <td>14.990000</td>\n",
       "      <td>100.930000</td>\n",
       "      <td>1.000000</td>\n",
       "      <td>14.990000</td>\n",
       "      <td>13.990000</td>\n",
       "    </tr>\n",
       "    <tr>\n",
       "      <th>4</th>\n",
       "      <td>3</td>\n",
       "      <td>3</td>\n",
       "      <td>2</td>\n",
       "      <td>3</td>\n",
       "      <td>761</td>\n",
       "      <td>2</td>\n",
       "      <td>3</td>\n",
       "      <td>43</td>\n",
       "      <td>3</td>\n",
       "      <td>3</td>\n",
       "      <td>...</td>\n",
       "      <td>3</td>\n",
       "      <td>0</td>\n",
       "      <td>23.656668</td>\n",
       "      <td>11.590227</td>\n",
       "      <td>12.990000</td>\n",
       "      <td>35.990002</td>\n",
       "      <td>70.970001</td>\n",
       "      <td>23.000002</td>\n",
       "      <td>28.990002</td>\n",
       "      <td>17.490000</td>\n",
       "    </tr>\n",
       "  </tbody>\n",
       "</table>\n",
       "<p>5 rows × 28 columns</p>\n",
       "</div>"
      ],
      "text/plain": [
       "       idNUNIQUE  idCOUNT  encode_brandNUNIQUE  encode_brandCOUNT  \\\n",
       "index                                                               \n",
       "0              2        2                    1                  2   \n",
       "1              4        4                    4                  4   \n",
       "2              2        9                    1                  9   \n",
       "3              4        7                    1                  7   \n",
       "4              3        3                    2                  3   \n",
       "\n",
       "       encode_brandMYMODE  encode_colorNUNIQUE  encode_colorCOUNT  \\\n",
       "index                                                               \n",
       "0                   29880                    2                  2   \n",
       "1                    1026                    4                  4   \n",
       "2                   14524                    1                  9   \n",
       "3                   10709                    4                  7   \n",
       "4                     761                    2                  3   \n",
       "\n",
       "       encode_colorMYMODE  encode_sizeNUNIQUE  encode_sizeCOUNT  ...  \\\n",
       "index                                                            ...   \n",
       "0                   18296                   1                 2  ...   \n",
       "1                       0                   3                 4  ...   \n",
       "2                       0                   1                 9  ...   \n",
       "3                      29                   1                 7  ...   \n",
       "4                      43                   3                 3  ...   \n",
       "\n",
       "       encode_authorCOUNT  encode_authorMYMODE  priceMEAN   priceSTD  \\\n",
       "index                                                                  \n",
       "0                       2                    0  38.490002   2.121320   \n",
       "1                       4                    0  31.762501  10.929280   \n",
       "2                       9                    0  60.873337   8.427471   \n",
       "3                       7                    0  14.418571   0.534522   \n",
       "4                       3                    0  23.656668  11.590227   \n",
       "\n",
       "        priceMIN   priceMAX    priceSUM   pricePTP  priceQUANTILE75  \\\n",
       "index                                                                 \n",
       "0      36.990002  39.990002   76.980003   3.000000        39.240002   \n",
       "1      16.990000  40.270000  127.050003  23.280001        39.917500   \n",
       "2      51.990002  67.980003  547.860046  15.990002        67.980003   \n",
       "3      13.990000  14.990000  100.930000   1.000000        14.990000   \n",
       "4      12.990000  35.990002   70.970001  23.000002        28.990002   \n",
       "\n",
       "       priceQUANTILE25  \n",
       "index                   \n",
       "0            37.740002  \n",
       "1            26.740000  \n",
       "2            51.990002  \n",
       "3            13.990000  \n",
       "4            17.490000  \n",
       "\n",
       "[5 rows x 28 columns]"
      ]
     },
     "execution_count": 130,
     "metadata": {},
     "output_type": "execute_result"
    }
   ],
   "source": [
    "df_train_seqs_feas.head()"
   ]
  },
  {
   "cell_type": "code",
   "execution_count": 131,
   "metadata": {},
   "outputs": [
    {
     "data": {
      "text/plain": [
       "(3606249, 28)"
      ]
     },
     "execution_count": 131,
     "metadata": {},
     "output_type": "execute_result"
    }
   ],
   "source": [
    "df_train_seqs_feas.shape "
   ]
  },
  {
   "cell_type": "code",
   "execution_count": 132,
   "metadata": {},
   "outputs": [],
   "source": [
    "seqs_cat_feas = [f for f in df_train_seqs_feas.columns if 'NUNIQUE' in f or 'COUNT' in f or 'MODE' in f]"
   ]
  },
  {
   "cell_type": "code",
   "execution_count": 133,
   "metadata": {},
   "outputs": [],
   "source": [
    "seqs_num_feas = [f for f in df_train_seqs_feas.columns if f not in seqs_cat_feas]"
   ]
  },
  {
   "cell_type": "code",
   "execution_count": 134,
   "metadata": {},
   "outputs": [
    {
     "data": {
      "text/plain": [
       "(20, 8)"
      ]
     },
     "execution_count": 134,
     "metadata": {},
     "output_type": "execute_result"
    }
   ],
   "source": [
    "len(seqs_cat_feas), len(seqs_num_feas)"
   ]
  },
  {
   "cell_type": "code",
   "execution_count": 135,
   "metadata": {},
   "outputs": [],
   "source": [
    "dense_bins = 100\n",
    "add_cat_features = []\n",
    "for f in seqs_num_feas:\n",
    "    discretizer = KBinsDiscretizer(n_bins=dense_bins, encode='ordinal', strategy='kmeans')  # 等频quantile，等宽uniform\n",
    "    df_train_seqs_feas['encode_' + f] = discretizer.fit_transform(np.array(df_train_seqs_feas[f].tolist()).reshape(-1, 1))\n",
    "    add_cat_features.append('encode_' + f)"
   ]
  },
  {
   "cell_type": "code",
   "execution_count": null,
   "metadata": {},
   "outputs": [],
   "source": [
    "for fe in add_cat_features:\n",
    "    df_train_seqs_feas[fe] = df_train_seqs_feas[fe].astype('int64')"
   ]
  },
  {
   "cell_type": "code",
   "execution_count": 138,
   "metadata": {},
   "outputs": [
    {
     "data": {
      "text/plain": [
       "['encode_priceMEAN',\n",
       " 'encode_priceSTD',\n",
       " 'encode_priceMIN',\n",
       " 'encode_priceMAX',\n",
       " 'encode_priceSUM',\n",
       " 'encode_pricePTP',\n",
       " 'encode_priceQUANTILE75',\n",
       " 'encode_priceQUANTILE25']"
      ]
     },
     "execution_count": 138,
     "metadata": {},
     "output_type": "execute_result"
    }
   ],
   "source": [
    "add_cat_features"
   ]
  },
  {
   "cell_type": "code",
   "execution_count": 137,
   "metadata": {},
   "outputs": [
    {
     "data": {
      "text/plain": [
       "(3606249, 36)"
      ]
     },
     "execution_count": 137,
     "metadata": {},
     "output_type": "execute_result"
    }
   ],
   "source": [
    "df_train_seqs_feas.shape "
   ]
  },
  {
   "cell_type": "code",
   "execution_count": 136,
   "metadata": {},
   "outputs": [],
   "source": [
    "df_train_seqs_feas.to_csv('data/df_train_seqs_feas_all_phase2_V3.csv', index=True)"
   ]
  },
  {
   "cell_type": "code",
   "execution_count": 139,
   "metadata": {},
   "outputs": [
    {
     "data": {
      "text/plain": [
       "Index(['idNUNIQUE', 'idCOUNT', 'encode_brandNUNIQUE', 'encode_brandCOUNT',\n",
       "       'encode_brandMYMODE', 'encode_colorNUNIQUE', 'encode_colorCOUNT',\n",
       "       'encode_colorMYMODE', 'encode_sizeNUNIQUE', 'encode_sizeCOUNT',\n",
       "       'encode_sizeMYMODE', 'encode_modelNUNIQUE', 'encode_modelCOUNT',\n",
       "       'encode_modelMYMODE', 'encode_materialNUNIQUE', 'encode_materialCOUNT',\n",
       "       'encode_materialMYMODE', 'encode_authorNUNIQUE', 'encode_authorCOUNT',\n",
       "       'encode_authorMYMODE', 'priceMEAN', 'priceSTD', 'priceMIN', 'priceMAX',\n",
       "       'priceSUM', 'pricePTP', 'priceQUANTILE75', 'priceQUANTILE25',\n",
       "       'encode_priceMEAN', 'encode_priceSTD', 'encode_priceMIN',\n",
       "       'encode_priceMAX', 'encode_priceSUM', 'encode_pricePTP',\n",
       "       'encode_priceQUANTILE75', 'encode_priceQUANTILE25'],\n",
       "      dtype='object')"
      ]
     },
     "execution_count": 139,
     "metadata": {},
     "output_type": "execute_result"
    }
   ],
   "source": [
    "df_train_seqs_feas.columns"
   ]
  },
  {
   "cell_type": "code",
   "execution_count": 142,
   "metadata": {},
   "outputs": [],
   "source": [
    "mode_features = [f for f in df_train_seqs_feas.columns if 'MODE' in f]"
   ]
  },
  {
   "cell_type": "code",
   "execution_count": 143,
   "metadata": {},
   "outputs": [
    {
     "data": {
      "text/plain": [
       "['encode_brandMYMODE',\n",
       " 'encode_colorMYMODE',\n",
       " 'encode_sizeMYMODE',\n",
       " 'encode_modelMYMODE',\n",
       " 'encode_materialMYMODE',\n",
       " 'encode_authorMYMODE']"
      ]
     },
     "execution_count": 143,
     "metadata": {},
     "output_type": "execute_result"
    }
   ],
   "source": [
    "mode_features"
   ]
  },
  {
   "cell_type": "code",
   "execution_count": 137,
   "metadata": {},
   "outputs": [],
   "source": [
    "df_train_seqs_feas.to_csv('data/df_train_seqs_feas_all_phase2_V3.csv', index=True)"
   ]
  },
  {
   "cell_type": "code",
   "execution_count": 138,
   "metadata": {},
   "outputs": [
    {
     "data": {
      "text/plain": [
       "Index(['idNUNIQUE', 'idCOUNT', 'encode_brandNUNIQUE', 'encode_brandCOUNT',\n",
       "       'encode_brandMYMODE', 'encode_colorNUNIQUE', 'encode_colorCOUNT',\n",
       "       'encode_colorMYMODE', 'encode_sizeNUNIQUE', 'encode_sizeCOUNT',\n",
       "       'encode_sizeMYMODE', 'encode_modelNUNIQUE', 'encode_modelCOUNT',\n",
       "       'encode_modelMYMODE', 'encode_materialNUNIQUE', 'encode_materialCOUNT',\n",
       "       'encode_materialMYMODE', 'encode_authorNUNIQUE', 'encode_authorCOUNT',\n",
       "       'encode_authorMYMODE', 'priceMEAN', 'priceSTD', 'priceMIN', 'priceMAX',\n",
       "       'priceSUM', 'pricePTP', 'priceQUANTILE75', 'priceQUANTILE25'],\n",
       "      dtype='object')"
      ]
     },
     "execution_count": 138,
     "metadata": {},
     "output_type": "execute_result"
    }
   ],
   "source": [
    "df_train_seqs_feas.columns "
   ]
  },
  {
   "cell_type": "code",
   "execution_count": 140,
   "metadata": {},
   "outputs": [],
   "source": [
    "df_train_encoded = pd.read_csv('data/df_train_encoded.csv')"
   ]
  },
  {
   "cell_type": "code",
   "execution_count": 144,
   "metadata": {},
   "outputs": [
    {
     "data": {
      "text/html": [
       "<div>\n",
       "<style scoped>\n",
       "    .dataframe tbody tr th:only-of-type {\n",
       "        vertical-align: middle;\n",
       "    }\n",
       "\n",
       "    .dataframe tbody tr th {\n",
       "        vertical-align: top;\n",
       "    }\n",
       "\n",
       "    .dataframe thead th {\n",
       "        text-align: right;\n",
       "    }\n",
       "</style>\n",
       "<table border=\"1\" class=\"dataframe\">\n",
       "  <thead>\n",
       "    <tr style=\"text-align: right;\">\n",
       "      <th></th>\n",
       "      <th>encode_brandMYMODE</th>\n",
       "      <th>encode_colorMYMODE</th>\n",
       "      <th>encode_sizeMYMODE</th>\n",
       "      <th>encode_modelMYMODE</th>\n",
       "      <th>encode_materialMYMODE</th>\n",
       "      <th>encode_authorMYMODE</th>\n",
       "    </tr>\n",
       "    <tr>\n",
       "      <th>index</th>\n",
       "      <th></th>\n",
       "      <th></th>\n",
       "      <th></th>\n",
       "      <th></th>\n",
       "      <th></th>\n",
       "      <th></th>\n",
       "    </tr>\n",
       "  </thead>\n",
       "  <tbody>\n",
       "    <tr>\n",
       "      <th>0</th>\n",
       "      <td>101601</td>\n",
       "      <td>37318</td>\n",
       "      <td>163936</td>\n",
       "      <td>524101</td>\n",
       "      <td>15665</td>\n",
       "      <td>30835</td>\n",
       "    </tr>\n",
       "    <tr>\n",
       "      <th>1</th>\n",
       "      <td>27926</td>\n",
       "      <td>47134</td>\n",
       "      <td>23154</td>\n",
       "      <td>524101</td>\n",
       "      <td>9922</td>\n",
       "      <td>30835</td>\n",
       "    </tr>\n",
       "    <tr>\n",
       "      <th>2</th>\n",
       "      <td>141835</td>\n",
       "      <td>203260</td>\n",
       "      <td>121077</td>\n",
       "      <td>430479</td>\n",
       "      <td>45568</td>\n",
       "      <td>30835</td>\n",
       "    </tr>\n",
       "    <tr>\n",
       "      <th>3</th>\n",
       "      <td>4719</td>\n",
       "      <td>60159</td>\n",
       "      <td>218060</td>\n",
       "      <td>501311</td>\n",
       "      <td>15566</td>\n",
       "      <td>30835</td>\n",
       "    </tr>\n",
       "    <tr>\n",
       "      <th>4</th>\n",
       "      <td>14269</td>\n",
       "      <td>91302</td>\n",
       "      <td>28876</td>\n",
       "      <td>524101</td>\n",
       "      <td>18264</td>\n",
       "      <td>30835</td>\n",
       "    </tr>\n",
       "  </tbody>\n",
       "</table>\n",
       "</div>"
      ],
      "text/plain": [
       "       encode_brandMYMODE  encode_colorMYMODE  encode_sizeMYMODE  \\\n",
       "index                                                              \n",
       "0                  101601               37318             163936   \n",
       "1                   27926               47134              23154   \n",
       "2                  141835              203260             121077   \n",
       "3                    4719               60159             218060   \n",
       "4                   14269               91302              28876   \n",
       "\n",
       "       encode_modelMYMODE  encode_materialMYMODE  encode_authorMYMODE  \n",
       "index                                                                  \n",
       "0                  524101                  15665                30835  \n",
       "1                  524101                   9922                30835  \n",
       "2                  430479                  45568                30835  \n",
       "3                  501311                  15566                30835  \n",
       "4                  524101                  18264                30835  "
      ]
     },
     "execution_count": 144,
     "metadata": {},
     "output_type": "execute_result"
    }
   ],
   "source": [
    "df_train_seqs_feas[mode_features].head()"
   ]
  },
  {
   "cell_type": "code",
   "execution_count": 141,
   "metadata": {},
   "outputs": [
    {
     "data": {
      "text/html": [
       "<div>\n",
       "<style scoped>\n",
       "    .dataframe tbody tr th:only-of-type {\n",
       "        vertical-align: middle;\n",
       "    }\n",
       "\n",
       "    .dataframe tbody tr th {\n",
       "        vertical-align: top;\n",
       "    }\n",
       "\n",
       "    .dataframe thead th {\n",
       "        text-align: right;\n",
       "    }\n",
       "</style>\n",
       "<table border=\"1\" class=\"dataframe\">\n",
       "  <thead>\n",
       "    <tr style=\"text-align: right;\">\n",
       "      <th></th>\n",
       "      <th>prev_items</th>\n",
       "      <th>next_item</th>\n",
       "      <th>locale</th>\n",
       "      <th>last_item</th>\n",
       "    </tr>\n",
       "  </thead>\n",
       "  <tbody>\n",
       "    <tr>\n",
       "      <th>0</th>\n",
       "      <td>[265193, 83226]</td>\n",
       "      <td>387776</td>\n",
       "      <td>0</td>\n",
       "      <td>83226</td>\n",
       "    </tr>\n",
       "    <tr>\n",
       "      <th>1</th>\n",
       "      <td>[38788, 85634, 4132, 71046]</td>\n",
       "      <td>335301</td>\n",
       "      <td>0</td>\n",
       "      <td>71046</td>\n",
       "    </tr>\n",
       "    <tr>\n",
       "      <th>2</th>\n",
       "      <td>[191882, 516876, 191882, 516876, 191882, 19188...</td>\n",
       "      <td>90141</td>\n",
       "      <td>0</td>\n",
       "      <td>516876</td>\n",
       "    </tr>\n",
       "    <tr>\n",
       "      <th>3</th>\n",
       "      <td>[136959, 261145, 31496, 136959, 261145, 31496,...</td>\n",
       "      <td>214540</td>\n",
       "      <td>0</td>\n",
       "      <td>469511</td>\n",
       "    </tr>\n",
       "    <tr>\n",
       "      <th>4</th>\n",
       "      <td>[291068, 410614, 4219]</td>\n",
       "      <td>338089</td>\n",
       "      <td>0</td>\n",
       "      <td>4219</td>\n",
       "    </tr>\n",
       "  </tbody>\n",
       "</table>\n",
       "</div>"
      ],
      "text/plain": [
       "                                          prev_items  next_item  locale  \\\n",
       "0                                    [265193, 83226]     387776       0   \n",
       "1                        [38788, 85634, 4132, 71046]     335301       0   \n",
       "2  [191882, 516876, 191882, 516876, 191882, 19188...      90141       0   \n",
       "3  [136959, 261145, 31496, 136959, 261145, 31496,...     214540       0   \n",
       "4                             [291068, 410614, 4219]     338089       0   \n",
       "\n",
       "   last_item  \n",
       "0      83226  \n",
       "1      71046  \n",
       "2     516876  \n",
       "3     469511  \n",
       "4       4219  "
      ]
     },
     "execution_count": 141,
     "metadata": {},
     "output_type": "execute_result"
    }
   ],
   "source": [
    "df_train_encoded.head()"
   ]
  },
  {
   "cell_type": "code",
   "execution_count": 145,
   "metadata": {},
   "outputs": [],
   "source": [
    "product2id = json.load(open('data/product2id.json', 'r'))\n",
    "id2product = json.load(open('data/id2product.json', 'r'))\n",
    "id2product = {int(k): v for k, v in id2product.items()}"
   ]
  },
  {
   "attachments": {},
   "cell_type": "markdown",
   "metadata": {},
   "source": [
    "# 排序"
   ]
  },
  {
   "cell_type": "code",
   "execution_count": 55,
   "metadata": {},
   "outputs": [],
   "source": [
    "# def get_feature(index, train_seq, seq_featurs_index):\n",
    "#     train_fea = []\n",
    "\n",
    "#     label = train_seq['next_item'].iloc[0]\n",
    "#     last_item = df_train['last_item'].iloc[0]\n",
    "#     if last_item in next_item_map:\n",
    "#         next_item_prediction = next_item_map[last_item]\n",
    "#     else:\n",
    "#         next_item_prediction = []\n",
    "#     # print(next_item_prediction)\n",
    "#     prev_items = list(train_seq['id'])\n",
    "#     locale = train_seq['locale'].iloc[0]\n",
    "#     loc_id = loc2id[locale]  # 地区ID\n",
    "\n",
    "#     candidate_id = []\n",
    "#     candidate_id = next_item_prediction  # 1-hop预测的结果\n",
    "#     if len(next_item_prediction) == 0:  # pred=nan, 训练集的last_item在之间没有统计出来下一跳，此时用最热门代替\n",
    "#         candidate_id = top200[:100]\n",
    "#     else:\n",
    "#         if len(candidate_id) < 100:  # 小于100，从最热门选\n",
    "#             for i in top200:\n",
    "#                 if i not in candidate_id and i not in prev_items:\n",
    "#                     candidate_id.append(i)\n",
    "#                 if len(candidate_id) >= 100:\n",
    "#                     break\n",
    "#         else:\n",
    "#             candidate_id = candidate_id[:100]\n",
    "#     # 其他召回策略，比如hop200, w2v等\n",
    "#     # 另外，这个位置的写法之后改成芒果TV的做法，比如nan的时候直接top200也可能会有历史重复的物品，这样不太好！！！\n",
    "#     # 目前先验证这个固定的召回+排序之后会不会编号\n",
    "    \n",
    "#     # 构造一些序列特征 根据历史的seq，就是seq_featurs_index\n",
    "    \n",
    "#     # TODO: 加入item本身的特征 通过连表操作\n",
    "#     # TODO: 候选集太多，数据量太大了，sample 3个负样本算了\n",
    "#     if label not in candidate_id:\n",
    "#         sample = candidate_id[:5]\n",
    "#         #sample = np.random.choice(candidate_id, size=3, replace=False).tolist()\n",
    "#     else:\n",
    "#         candidate_id.remove(label)\n",
    "#         sample = candidate_id[:5]\n",
    "#         #sample = np.random.choice(candidate_id, size=3, replace=False).tolist()\n",
    "#     sample.append(label)\n",
    "#     for vid in sample:\n",
    "#         if vid == label:\n",
    "#             lbl = 1\n",
    "#         else:\n",
    "#             lbl = 0\n",
    "#         # print(vid, locale)\n",
    "#         try:\n",
    "#             tmp = products.loc[(vid, locale)]  # 产品特征\n",
    "#             item_price = tmp.price\n",
    "#             item_brand = tmp.brand \n",
    "#             item_color = tmp.color \n",
    "#             item_size = tmp.size \n",
    "#             item_model = tmp.model \n",
    "#             item_material = tmp.material \n",
    "#             item_author = tmp.author \n",
    "#         except:\n",
    "#             continue\n",
    "        \n",
    "#         feat = [\n",
    "#             # index,  这个比赛没有用户ID这一个特征！\n",
    "#             int(vid in prev_items),  # 候选的vid是否出现在历史购买的序列中\n",
    "#             int(vid in next_item_prediction),  # 候选的vid是否出现在上次购买产品的下一跳序列中\n",
    "#             loc_id,\n",
    "#             item_price,\n",
    "#             item_brand,\n",
    "#             item_color,\n",
    "#             item_size,\n",
    "#             item_model,\n",
    "#             item_material,\n",
    "#             item_author,\n",
    "#             # 其他特征\n",
    "#         ]\n",
    "#         feat += seq_featurs_index\n",
    "#         # try:\n",
    "#         #     feat.append(vid_w2v.wv.similarity(vid, last1_vid))\n",
    "#         # except:\n",
    "#         #     feat.append(0)\n",
    "#         feat.append(lbl)\n",
    "#         train_fea.append(feat)\n",
    "#     return train_fea"
   ]
  },
  {
   "cell_type": "code",
   "execution_count": 56,
   "metadata": {},
   "outputs": [],
   "source": [
    "# a = get_feature(0, df_train_exploded_fea[:2], df_train_seqs_feas.loc[0].values.tolist())"
   ]
  },
  {
   "attachments": {},
   "cell_type": "markdown",
   "metadata": {},
   "source": [
    "训练特征"
   ]
  },
  {
   "cell_type": "code",
   "execution_count": 57,
   "metadata": {},
   "outputs": [],
   "source": [
    "def get_train_feature(index, train_seq, seq_featurs_index, products_feas):\n",
    "    train_fea = []\n",
    "\n",
    "    label = train_seq['next_item'].iloc[0]\n",
    "    prev_items = list(train_seq['id'])\n",
    "    locale = train_seq['locale'].iloc[0]\n",
    "    loc_id = loc2id[locale]  # 地区ID\n",
    "\n",
    "    candidate_id = train_preds[index]\n",
    "    # 其他召回策略，比如hop200, w2v等\n",
    "    # 另外，这个位置的写法之后改成芒果TV的做法，比如nan的时候直接top200也可能会有历史重复的物品，这样不太好！！！\n",
    "    # 目前先验证这个固定的召回+排序之后会不会编号\n",
    "    \n",
    "    # 构造一些序列特征 根据历史的seq，就是seq_featurs_index\n",
    "    \n",
    "    # TODO: 候选集太多，数据量太大了，sample 5个负样本算了\n",
    "    if label in candidate_id:\n",
    "        candidate_id.remove(label)\n",
    "    \n",
    "    # 5个负样本\n",
    "    cnt = 0\n",
    "    for vid in candidate_id:\n",
    "        try:\n",
    "            pro_feas_index = products_feas.loc[(vid, locale)].values.tolist()  # 产品特征\n",
    "            cnt += 1\n",
    "            if cnt > 5:\n",
    "                break\n",
    "        except:\n",
    "            continue\n",
    "        \n",
    "        feat = [\n",
    "            # index,  这个比赛没有用户ID这一个特征！\n",
    "            int(vid in prev_items),  # 候选的vid是否出现在历史购买的序列中\n",
    "            loc_id,\n",
    "            # 其他特征\n",
    "        ]\n",
    "        feat += pro_feas_index\n",
    "        feat += seq_featurs_index\n",
    "        # try:\n",
    "        #     feat.append(vid_w2v.wv.similarity(vid, last1_vid))\n",
    "        # except:\n",
    "        #     feat.append(0)\n",
    "        feat.append(0)  # label\n",
    "        train_fea.append(feat)\n",
    "    \n",
    "    # 正样本\n",
    "    vid = label\n",
    "    try:\n",
    "        pro_feas_index = products_feas.loc[(vid, locale)].values.tolist()  # 产品特征\n",
    "    except:\n",
    "        print(vid, locale)\n",
    "        \n",
    "    feat = [\n",
    "        # index,  这个比赛没有用户ID这一个特征！\n",
    "        int(vid in prev_items),  # 候选的vid是否出现在历史购买的序列中\n",
    "        loc_id,\n",
    "        # 其他特征\n",
    "    ]\n",
    "    feat += pro_feas_index\n",
    "    feat += seq_featurs_index\n",
    "    # try:\n",
    "    #     feat.append(vid_w2v.wv.similarity(vid, last1_vid))\n",
    "    # except:\n",
    "    #     feat.append(0)\n",
    "    feat.append(1)  # label\n",
    "    train_fea.append(feat)\n",
    "    return train_fea"
   ]
  },
  {
   "cell_type": "code",
   "execution_count": 74,
   "metadata": {},
   "outputs": [
    {
     "name": "stderr",
     "output_type": "stream",
     "text": [
      "100%|██████████| 3272716/3272716 [6:13:14<00:00, 146.14it/s]   \n"
     ]
    }
   ],
   "source": [
    "train_fea = []\n",
    "df_train_len = df_train_exploded_fea['index'].nunique()\n",
    "for ind, train_seq_index in tqdm(df_train_exploded_fea.groupby('index'), total=df_train_len):\n",
    "    train_fea_in = get_train_feature(ind, train_seq_index, df_train_seqs_feas.loc[ind].values.tolist(), products_feas=products_use)\n",
    "    train_fea += train_fea_in"
   ]
  },
  {
   "cell_type": "code",
   "execution_count": 75,
   "metadata": {},
   "outputs": [],
   "source": [
    "np.save('./data/train_features.npy', train_fea)"
   ]
  },
  {
   "cell_type": "code",
   "execution_count": 58,
   "metadata": {},
   "outputs": [],
   "source": [
    "train_fea = np.load('./data/train_features.npy')"
   ]
  },
  {
   "cell_type": "code",
   "execution_count": 59,
   "metadata": {},
   "outputs": [
    {
     "data": {
      "text/plain": [
       "(19636288, 41)"
      ]
     },
     "execution_count": 59,
     "metadata": {},
     "output_type": "execute_result"
    }
   ],
   "source": [
    "train_fea.shape "
   ]
  },
  {
   "cell_type": "code",
   "execution_count": 60,
   "metadata": {},
   "outputs": [
    {
     "name": "stdout",
     "output_type": "stream",
     "text": [
      "0.0    0.833333\n",
      "1.0    0.166667\n",
      "Name: 40, dtype: float64\n"
     ]
    }
   ],
   "source": [
    "train_fea = pd.DataFrame(train_fea)\n",
    "train_fea = train_fea.fillna(0)\n",
    "print(train_fea.iloc[:, -1].value_counts(normalize=True))"
   ]
  },
  {
   "attachments": {},
   "cell_type": "markdown",
   "metadata": {},
   "source": [
    "测试特征"
   ]
  },
  {
   "cell_type": "code",
   "execution_count": 61,
   "metadata": {},
   "outputs": [],
   "source": [
    "def get_test_feature(index, test_seq, seq_featurs_index, products_feas):\n",
    "    test_fea = []\n",
    "\n",
    "    prev_items = list(test_seq['id'])\n",
    "    locale = test_seq['locale'].iloc[0]\n",
    "    loc_id = loc2id[locale]  # 地区ID\n",
    "\n",
    "    candidate_id = test_preds[index]\n",
    "    # 其他召回策略，比如hop200, w2v等\n",
    "    # 另外，这个位置的写法之后改成芒果TV的做法，比如nan的时候直接top200也可能会有历史重复的物品，这样不太好！！！\n",
    "    # 目前先验证这个固定的召回+排序之后会不会编号\n",
    "    \n",
    "    # 构造一些序列特征 根据历史的seq，就是seq_featurs_index\n",
    "    \n",
    "    cnt = 0\n",
    "    for vid in candidate_id:\n",
    "        try:\n",
    "            pro_feas_index = products_feas.loc[(vid, locale)].values.tolist()  # 产品特征\n",
    "            cnt += 1\n",
    "            if cnt > 5:\n",
    "                break\n",
    "        except:\n",
    "            continue  # TODO: continue的话，概率怎么跟vid对应\n",
    "        \n",
    "        feat = [\n",
    "            # index,  这个比赛没有用户ID这一个特征！\n",
    "            vid,\n",
    "            int(vid in prev_items),  # 候选的vid是否出现在历史购买的序列中\n",
    "            loc_id,\n",
    "            # 其他特征\n",
    "        ]\n",
    "        feat += pro_feas_index\n",
    "        feat += seq_featurs_index\n",
    "        # try:\n",
    "        #     feat.append(vid_w2v.wv.similarity(vid, last1_vid))\n",
    "        # except:\n",
    "        #     feat.append(0)\n",
    "        # feat.append(0)  # label\n",
    "        test_fea.append(feat)\n",
    "    return test_fea"
   ]
  },
  {
   "cell_type": "code",
   "execution_count": 68,
   "metadata": {},
   "outputs": [
    {
     "name": "stderr",
     "output_type": "stream",
     "text": [
      "100%|██████████| 316971/316971 [25:45<00:00, 205.08it/s]\n"
     ]
    }
   ],
   "source": [
    "test_fea = []\n",
    "df_test_len = df_test_exploded_fea['index'].nunique()\n",
    "for ind, test_seq_index in tqdm(df_test_exploded_fea.groupby('index'), total=df_test_len):\n",
    "    test_fea_in = get_test_feature(ind, test_seq_index, df_test_seqs_feas.loc[ind].values.tolist(), products_feas=products_use)\n",
    "    test_fea += test_fea_in"
   ]
  },
  {
   "cell_type": "code",
   "execution_count": 75,
   "metadata": {},
   "outputs": [],
   "source": [
    "np.save('./data/test_features.npy', test_fea)"
   ]
  },
  {
   "cell_type": "code",
   "execution_count": 62,
   "metadata": {},
   "outputs": [],
   "source": [
    "test_fea = np.load('./data/test_features.npy')"
   ]
  },
  {
   "cell_type": "code",
   "execution_count": 63,
   "metadata": {},
   "outputs": [],
   "source": [
    "test_fea = pd.DataFrame(test_fea)\n",
    "test_fea = test_fea.fillna(0)"
   ]
  },
  {
   "cell_type": "code",
   "execution_count": 64,
   "metadata": {},
   "outputs": [],
   "source": [
    "for col in test_fea.columns[1:]:\n",
    "    test_fea[col] = test_fea[col].astype('float64')"
   ]
  },
  {
   "cell_type": "code",
   "execution_count": 65,
   "metadata": {},
   "outputs": [
    {
     "data": {
      "text/html": [
       "<div>\n",
       "<style scoped>\n",
       "    .dataframe tbody tr th:only-of-type {\n",
       "        vertical-align: middle;\n",
       "    }\n",
       "\n",
       "    .dataframe tbody tr th {\n",
       "        vertical-align: top;\n",
       "    }\n",
       "\n",
       "    .dataframe thead th {\n",
       "        text-align: right;\n",
       "    }\n",
       "</style>\n",
       "<table border=\"1\" class=\"dataframe\">\n",
       "  <thead>\n",
       "    <tr style=\"text-align: right;\">\n",
       "      <th></th>\n",
       "      <th>0</th>\n",
       "      <th>1</th>\n",
       "      <th>2</th>\n",
       "      <th>3</th>\n",
       "      <th>4</th>\n",
       "      <th>5</th>\n",
       "      <th>6</th>\n",
       "      <th>7</th>\n",
       "      <th>8</th>\n",
       "      <th>9</th>\n",
       "      <th>...</th>\n",
       "      <th>31</th>\n",
       "      <th>32</th>\n",
       "      <th>33</th>\n",
       "      <th>34</th>\n",
       "      <th>35</th>\n",
       "      <th>36</th>\n",
       "      <th>37</th>\n",
       "      <th>38</th>\n",
       "      <th>39</th>\n",
       "      <th>40</th>\n",
       "    </tr>\n",
       "  </thead>\n",
       "  <tbody>\n",
       "    <tr>\n",
       "      <th>0</th>\n",
       "      <td>B099NS1XPG</td>\n",
       "      <td>0.0</td>\n",
       "      <td>0.0</td>\n",
       "      <td>39.99</td>\n",
       "      <td>21236.0</td>\n",
       "      <td>152211.0</td>\n",
       "      <td>213319.0</td>\n",
       "      <td>161238.0</td>\n",
       "      <td>44782.0</td>\n",
       "      <td>29259.0</td>\n",
       "      <td>...</td>\n",
       "      <td>163.333333</td>\n",
       "      <td>24.436684</td>\n",
       "      <td>126.0</td>\n",
       "      <td>195.0</td>\n",
       "      <td>1960.0</td>\n",
       "      <td>173.583333</td>\n",
       "      <td>34.057327</td>\n",
       "      <td>120.0</td>\n",
       "      <td>210.0</td>\n",
       "      <td>2083.0</td>\n",
       "    </tr>\n",
       "    <tr>\n",
       "      <th>1</th>\n",
       "      <td>B08496TCCQ</td>\n",
       "      <td>1.0</td>\n",
       "      <td>0.0</td>\n",
       "      <td>40000000.07</td>\n",
       "      <td>21236.0</td>\n",
       "      <td>133489.0</td>\n",
       "      <td>213319.0</td>\n",
       "      <td>161226.0</td>\n",
       "      <td>44782.0</td>\n",
       "      <td>29259.0</td>\n",
       "      <td>...</td>\n",
       "      <td>163.333333</td>\n",
       "      <td>24.436684</td>\n",
       "      <td>126.0</td>\n",
       "      <td>195.0</td>\n",
       "      <td>1960.0</td>\n",
       "      <td>173.583333</td>\n",
       "      <td>34.057327</td>\n",
       "      <td>120.0</td>\n",
       "      <td>210.0</td>\n",
       "      <td>2083.0</td>\n",
       "    </tr>\n",
       "    <tr>\n",
       "      <th>2</th>\n",
       "      <td>B01BVG1XJS</td>\n",
       "      <td>1.0</td>\n",
       "      <td>0.0</td>\n",
       "      <td>19.95</td>\n",
       "      <td>21236.0</td>\n",
       "      <td>152211.0</td>\n",
       "      <td>90884.0</td>\n",
       "      <td>161227.0</td>\n",
       "      <td>15295.0</td>\n",
       "      <td>29259.0</td>\n",
       "      <td>...</td>\n",
       "      <td>163.333333</td>\n",
       "      <td>24.436684</td>\n",
       "      <td>126.0</td>\n",
       "      <td>195.0</td>\n",
       "      <td>1960.0</td>\n",
       "      <td>173.583333</td>\n",
       "      <td>34.057327</td>\n",
       "      <td>120.0</td>\n",
       "      <td>210.0</td>\n",
       "      <td>2083.0</td>\n",
       "    </tr>\n",
       "    <tr>\n",
       "      <th>3</th>\n",
       "      <td>B099NR3X6D</td>\n",
       "      <td>0.0</td>\n",
       "      <td>0.0</td>\n",
       "      <td>32.99</td>\n",
       "      <td>21236.0</td>\n",
       "      <td>133489.0</td>\n",
       "      <td>213319.0</td>\n",
       "      <td>161237.0</td>\n",
       "      <td>44782.0</td>\n",
       "      <td>29259.0</td>\n",
       "      <td>...</td>\n",
       "      <td>163.333333</td>\n",
       "      <td>24.436684</td>\n",
       "      <td>126.0</td>\n",
       "      <td>195.0</td>\n",
       "      <td>1960.0</td>\n",
       "      <td>173.583333</td>\n",
       "      <td>34.057327</td>\n",
       "      <td>120.0</td>\n",
       "      <td>210.0</td>\n",
       "      <td>2083.0</td>\n",
       "    </tr>\n",
       "    <tr>\n",
       "      <th>4</th>\n",
       "      <td>B09WDSH4CD</td>\n",
       "      <td>0.0</td>\n",
       "      <td>0.0</td>\n",
       "      <td>24.99</td>\n",
       "      <td>131540.0</td>\n",
       "      <td>152211.0</td>\n",
       "      <td>213319.0</td>\n",
       "      <td>492997.0</td>\n",
       "      <td>44782.0</td>\n",
       "      <td>29259.0</td>\n",
       "      <td>...</td>\n",
       "      <td>163.333333</td>\n",
       "      <td>24.436684</td>\n",
       "      <td>126.0</td>\n",
       "      <td>195.0</td>\n",
       "      <td>1960.0</td>\n",
       "      <td>173.583333</td>\n",
       "      <td>34.057327</td>\n",
       "      <td>120.0</td>\n",
       "      <td>210.0</td>\n",
       "      <td>2083.0</td>\n",
       "    </tr>\n",
       "  </tbody>\n",
       "</table>\n",
       "<p>5 rows × 41 columns</p>\n",
       "</div>"
      ],
      "text/plain": [
       "           0    1    2            3         4         5         6         7   \\\n",
       "0  B099NS1XPG  0.0  0.0        39.99   21236.0  152211.0  213319.0  161238.0   \n",
       "1  B08496TCCQ  1.0  0.0  40000000.07   21236.0  133489.0  213319.0  161226.0   \n",
       "2  B01BVG1XJS  1.0  0.0        19.95   21236.0  152211.0   90884.0  161227.0   \n",
       "3  B099NR3X6D  0.0  0.0        32.99   21236.0  133489.0  213319.0  161237.0   \n",
       "4  B09WDSH4CD  0.0  0.0        24.99  131540.0  152211.0  213319.0  492997.0   \n",
       "\n",
       "        8        9   ...          31         32     33     34      35  \\\n",
       "0  44782.0  29259.0  ...  163.333333  24.436684  126.0  195.0  1960.0   \n",
       "1  44782.0  29259.0  ...  163.333333  24.436684  126.0  195.0  1960.0   \n",
       "2  15295.0  29259.0  ...  163.333333  24.436684  126.0  195.0  1960.0   \n",
       "3  44782.0  29259.0  ...  163.333333  24.436684  126.0  195.0  1960.0   \n",
       "4  44782.0  29259.0  ...  163.333333  24.436684  126.0  195.0  1960.0   \n",
       "\n",
       "           36         37     38     39      40  \n",
       "0  173.583333  34.057327  120.0  210.0  2083.0  \n",
       "1  173.583333  34.057327  120.0  210.0  2083.0  \n",
       "2  173.583333  34.057327  120.0  210.0  2083.0  \n",
       "3  173.583333  34.057327  120.0  210.0  2083.0  \n",
       "4  173.583333  34.057327  120.0  210.0  2083.0  \n",
       "\n",
       "[5 rows x 41 columns]"
      ]
     },
     "execution_count": 65,
     "metadata": {},
     "output_type": "execute_result"
    }
   ],
   "source": [
    "test_fea.head()"
   ]
  },
  {
   "attachments": {},
   "cell_type": "markdown",
   "metadata": {},
   "source": [
    "交叉验证"
   ]
  },
  {
   "cell_type": "code",
   "execution_count": 66,
   "metadata": {},
   "outputs": [],
   "source": [
    "seed = 2023\n",
    "kfold = 5"
   ]
  },
  {
   "cell_type": "code",
   "execution_count": 67,
   "metadata": {},
   "outputs": [],
   "source": [
    "lgb_params = {\n",
    "    'objective': 'binary',\n",
    "    'boosting_type': 'gbdt',\n",
    "    # 'metric': 'binary_logloss',  # auc??\n",
    "    'metric': 'auc',\n",
    "    'n_jobs': 30,\n",
    "    'learning_rate': 0.05,\n",
    "    'num_leaves': 2 ** 6,\n",
    "    'max_depth': 8,\n",
    "    'tree_learner': 'serial',\n",
    "    'colsample_bytree': 0.8,\n",
    "    'subsample_freq': 1,\n",
    "    'subsample': 0.8,\n",
    "    'num_boost_round': 3000,\n",
    "    'max_bin': 255,\n",
    "    'verbose': -1,\n",
    "    'nthread' : -1,\n",
    "    'seed': seed,\n",
    "    'bagging_seed': seed,\n",
    "    'feature_fraction_seed': seed,\n",
    "    'early_stopping_rounds': 100,\n",
    "    # 'device': 'gpu',  # 设置使用 GPU 加速\n",
    "    # 'gpu_platform_id': 0,  # 设置 GPU 平台 id\n",
    "    # 'gpu_device_id': 0  # 设置 GPU 设备 id\n",
    "}"
   ]
  },
  {
   "cell_type": "code",
   "execution_count": null,
   "metadata": {},
   "outputs": [],
   "source": [
    "# TODO: 训练集最后一列去掉是label，测试集第一列去掉是vid"
   ]
  },
  {
   "cell_type": "code",
   "execution_count": 68,
   "metadata": {},
   "outputs": [
    {
     "data": {
      "text/plain": [
       "((19636288, 40), (1584855, 40), (19636288,))"
      ]
     },
     "execution_count": 68,
     "metadata": {},
     "output_type": "execute_result"
    }
   ],
   "source": [
    "train = train_fea.iloc[:, 0: -1]\n",
    "test = test_fea.iloc[:, 1:]\n",
    "y = train_fea.iloc[:, -1]\n",
    "test.columns = train.columns \n",
    "\n",
    "train.shape, test.shape, y.shape"
   ]
  },
  {
   "cell_type": "code",
   "execution_count": 69,
   "metadata": {},
   "outputs": [
    {
     "name": "stdout",
     "output_type": "stream",
     "text": [
      "40\n",
      "fold n°0\n",
      "[LightGBM] [Warning] num_threads is set with nthread=-1, will be overridden by n_jobs=30. Current value: num_threads=30\n",
      "Training until validation scores don't improve for 100 rounds\n",
      "[300]\ttraining's auc: 0.722561\tvalid_1's auc: 0.719763\n"
     ]
    }
   ],
   "source": [
    "KF = StratifiedKFold(n_splits=kfold, random_state=seed, shuffle=True)\n",
    "feat_imp_lgb = list()\n",
    "\n",
    "oof_lgb = np.zeros(len(train))\n",
    "predictions_lgb = np.zeros((len(test)))\n",
    "print(train.shape[1])\n",
    "\n",
    "# 模型训练\n",
    "for fold_, (trn_idx, val_idx) in enumerate(KF.split(train.values, y.values)):\n",
    "    print(\"fold n°{}\".format(fold_))\n",
    "    trn_data = lgb.Dataset(train.iloc[trn_idx], label=y.iloc[trn_idx])\n",
    "    val_data = lgb.Dataset(train.iloc[val_idx], label=y.iloc[val_idx])\n",
    "    \n",
    "    num_round = 3000\n",
    "    clf = lgb.train(\n",
    "        lgb_params,\n",
    "        trn_data,\n",
    "        num_round,\n",
    "        valid_sets=[trn_data, val_data],\n",
    "        verbose_eval=300,\n",
    "        early_stopping_rounds=100,\n",
    "    )\n",
    "\n",
    "    oof_lgb[val_idx] = clf.predict(train.iloc[val_idx], num_iteration=clf.best_iteration)\n",
    "    predictions_lgb[:] += clf.predict(test, num_iteration=clf.best_iteration) / kfold\n",
    "    feat_imp_lgb.append(clf.feature_importance())\n",
    "\n",
    "print(\"AUC score: {}\".format(metrics.roc_auc_score(y, oof_lgb)))\n",
    "print(\"F1 score: {}\".format(metrics.f1_score(y, [1 if i >= 0.5 else 0 for i in oof_lgb])))\n",
    "print(\"Precision score: {}\".format(metrics.precision_score(y, [1 if i >= 0.5 else 0 for i in oof_lgb])))\n",
    "print(\"Recall score: {}\".format(metrics.recall_score(y, [1 if i >= 0.5 else 0 for i in oof_lgb])))"
   ]
  },
  {
   "attachments": {},
   "cell_type": "markdown",
   "metadata": {},
   "source": [
    "# 11111"
   ]
  }
 ],
 "metadata": {
  "kernelspec": {
   "display_name": "libcityng",
   "language": "python",
   "name": "python3"
  },
  "language_info": {
   "codemirror_mode": {
    "name": "ipython",
    "version": 3
   },
   "file_extension": ".py",
   "mimetype": "text/x-python",
   "name": "python",
   "nbconvert_exporter": "python",
   "pygments_lexer": "ipython3",
   "version": "3.9.7"
  },
  "orig_nbformat": 4
 },
 "nbformat": 4,
 "nbformat_minor": 2
}
