{
 "cells": [
  {
   "cell_type": "code",
   "execution_count": 1,
   "metadata": {},
   "outputs": [],
   "source": [
    "import warnings\n",
    "warnings.simplefilter('ignore')\n",
    "\n",
    "import gc\n",
    "import re\n",
    "from collections import defaultdict, Counter\n",
    "\n",
    "import numpy as np\n",
    "import pandas as pd\n",
    "pd.set_option('display.max_columns', None)\n",
    "from tqdm import tqdm\n",
    "\n",
    "from gensim.models import Word2Vec\n",
    "\n",
    "import matplotlib.pyplot as plt"
   ]
  },
  {
   "cell_type": "code",
   "execution_count": 2,
   "metadata": {},
   "outputs": [
    {
     "data": {
      "text/html": [
       "<div>\n",
       "<style scoped>\n",
       "    .dataframe tbody tr th:only-of-type {\n",
       "        vertical-align: middle;\n",
       "    }\n",
       "\n",
       "    .dataframe tbody tr th {\n",
       "        vertical-align: top;\n",
       "    }\n",
       "\n",
       "    .dataframe thead th {\n",
       "        text-align: right;\n",
       "    }\n",
       "</style>\n",
       "<table border=\"1\" class=\"dataframe\">\n",
       "  <thead>\n",
       "    <tr style=\"text-align: right;\">\n",
       "      <th></th>\n",
       "      <th>prev_items</th>\n",
       "      <th>next_item</th>\n",
       "      <th>locale</th>\n",
       "    </tr>\n",
       "  </thead>\n",
       "  <tbody>\n",
       "    <tr>\n",
       "      <th>0</th>\n",
       "      <td>['B09W9FND7K' 'B09JSPLN1M']</td>\n",
       "      <td>B09M7GY217</td>\n",
       "      <td>DE</td>\n",
       "    </tr>\n",
       "    <tr>\n",
       "      <th>1</th>\n",
       "      <td>['B076THCGSG' 'B007MO8IME' 'B08MF65MLV' 'B001B...</td>\n",
       "      <td>B001B4THSA</td>\n",
       "      <td>DE</td>\n",
       "    </tr>\n",
       "    <tr>\n",
       "      <th>2</th>\n",
       "      <td>['B0B1LGXWDS' 'B00AZYORS2' 'B0B1LGXWDS' 'B00AZ...</td>\n",
       "      <td>B0767DTG2Q</td>\n",
       "      <td>DE</td>\n",
       "    </tr>\n",
       "    <tr>\n",
       "      <th>3</th>\n",
       "      <td>['B09XMTWDVT' 'B0B4MZZ8MB' 'B0B7HZ2GWX' 'B09XM...</td>\n",
       "      <td>B0B4R9NN4B</td>\n",
       "      <td>DE</td>\n",
       "    </tr>\n",
       "    <tr>\n",
       "      <th>4</th>\n",
       "      <td>['B09Y5CSL3T' 'B09Y5DPTXN' 'B09FKD61R8']</td>\n",
       "      <td>B0BGVBKWGZ</td>\n",
       "      <td>DE</td>\n",
       "    </tr>\n",
       "    <tr>\n",
       "      <th>...</th>\n",
       "      <td>...</td>\n",
       "      <td>...</td>\n",
       "      <td>...</td>\n",
       "    </tr>\n",
       "    <tr>\n",
       "      <th>3606244</th>\n",
       "      <td>['B086CYFSKW' 'B0874F9859' 'B086CYFSKW']</td>\n",
       "      <td>B07B5TYD76</td>\n",
       "      <td>IT</td>\n",
       "    </tr>\n",
       "    <tr>\n",
       "      <th>3606245</th>\n",
       "      <td>['B09NRZKZ7V' 'B08WJTPV93']</td>\n",
       "      <td>B08L1P4C3D</td>\n",
       "      <td>IT</td>\n",
       "    </tr>\n",
       "    <tr>\n",
       "      <th>3606246</th>\n",
       "      <td>['B085JFX7MP' 'B085JGHW8R']</td>\n",
       "      <td>B01MPWVD44</td>\n",
       "      <td>IT</td>\n",
       "    </tr>\n",
       "    <tr>\n",
       "      <th>3606247</th>\n",
       "      <td>['B00B0UING2' 'B00B0UING2']</td>\n",
       "      <td>B00D3HYEZ4</td>\n",
       "      <td>IT</td>\n",
       "    </tr>\n",
       "    <tr>\n",
       "      <th>3606248</th>\n",
       "      <td>['B092S9D1SD' 'B09XQQ1S72' 'B0852MS7QC' 'B0B1V...</td>\n",
       "      <td>B0B7RX65YP</td>\n",
       "      <td>IT</td>\n",
       "    </tr>\n",
       "  </tbody>\n",
       "</table>\n",
       "<p>3606249 rows × 3 columns</p>\n",
       "</div>"
      ],
      "text/plain": [
       "                                                prev_items   next_item locale\n",
       "0                              ['B09W9FND7K' 'B09JSPLN1M']  B09M7GY217     DE\n",
       "1        ['B076THCGSG' 'B007MO8IME' 'B08MF65MLV' 'B001B...  B001B4THSA     DE\n",
       "2        ['B0B1LGXWDS' 'B00AZYORS2' 'B0B1LGXWDS' 'B00AZ...  B0767DTG2Q     DE\n",
       "3        ['B09XMTWDVT' 'B0B4MZZ8MB' 'B0B7HZ2GWX' 'B09XM...  B0B4R9NN4B     DE\n",
       "4                 ['B09Y5CSL3T' 'B09Y5DPTXN' 'B09FKD61R8']  B0BGVBKWGZ     DE\n",
       "...                                                    ...         ...    ...\n",
       "3606244           ['B086CYFSKW' 'B0874F9859' 'B086CYFSKW']  B07B5TYD76     IT\n",
       "3606245                        ['B09NRZKZ7V' 'B08WJTPV93']  B08L1P4C3D     IT\n",
       "3606246                        ['B085JFX7MP' 'B085JGHW8R']  B01MPWVD44     IT\n",
       "3606247                        ['B00B0UING2' 'B00B0UING2']  B00D3HYEZ4     IT\n",
       "3606248  ['B092S9D1SD' 'B09XQQ1S72' 'B0852MS7QC' 'B0B1V...  B0B7RX65YP     IT\n",
       "\n",
       "[3606249 rows x 3 columns]"
      ]
     },
     "execution_count": 2,
     "metadata": {},
     "output_type": "execute_result"
    }
   ],
   "source": [
    "df_sess = pd.read_csv('data/sessions_train.csv')\n",
    "df_sess"
   ]
  },
  {
   "cell_type": "code",
   "execution_count": 3,
   "metadata": {},
   "outputs": [
    {
     "data": {
      "text/html": [
       "<div>\n",
       "<style scoped>\n",
       "    .dataframe tbody tr th:only-of-type {\n",
       "        vertical-align: middle;\n",
       "    }\n",
       "\n",
       "    .dataframe tbody tr th {\n",
       "        vertical-align: top;\n",
       "    }\n",
       "\n",
       "    .dataframe thead th {\n",
       "        text-align: right;\n",
       "    }\n",
       "</style>\n",
       "<table border=\"1\" class=\"dataframe\">\n",
       "  <thead>\n",
       "    <tr style=\"text-align: right;\">\n",
       "      <th></th>\n",
       "      <th>prev_items</th>\n",
       "      <th>locale</th>\n",
       "    </tr>\n",
       "  </thead>\n",
       "  <tbody>\n",
       "    <tr>\n",
       "      <th>0</th>\n",
       "      <td>['B08V12CT4C' 'B08V1KXBQD' 'B01BVG1XJS' 'B09VC...</td>\n",
       "      <td>DE</td>\n",
       "    </tr>\n",
       "    <tr>\n",
       "      <th>1</th>\n",
       "      <td>['B00R9R5ND6' 'B00R9RZ9ZS' 'B00R9RZ9ZS']</td>\n",
       "      <td>DE</td>\n",
       "    </tr>\n",
       "    <tr>\n",
       "      <th>2</th>\n",
       "      <td>['B07YSRXJD3' 'B07G7Q5N6G' 'B08C9Q7QVK' 'B07G7...</td>\n",
       "      <td>DE</td>\n",
       "    </tr>\n",
       "    <tr>\n",
       "      <th>3</th>\n",
       "      <td>['B08KQBYV43' '3955350843' '3955350843' '39553...</td>\n",
       "      <td>DE</td>\n",
       "    </tr>\n",
       "    <tr>\n",
       "      <th>4</th>\n",
       "      <td>['B09FPTCWMC' 'B09FPTQP68' 'B08HMRY8NG' 'B08TB...</td>\n",
       "      <td>DE</td>\n",
       "    </tr>\n",
       "    <tr>\n",
       "      <th>...</th>\n",
       "      <td>...</td>\n",
       "      <td>...</td>\n",
       "    </tr>\n",
       "    <tr>\n",
       "      <th>316966</th>\n",
       "      <td>['B077SZ2C3Y' 'B0B14M3VZX']</td>\n",
       "      <td>UK</td>\n",
       "    </tr>\n",
       "    <tr>\n",
       "      <th>316967</th>\n",
       "      <td>['B08KFHDPY9' 'B0851KTSRZ' 'B08KFHDPY9' 'B0851...</td>\n",
       "      <td>UK</td>\n",
       "    </tr>\n",
       "    <tr>\n",
       "      <th>316968</th>\n",
       "      <td>['B07PY1N81F' 'B07Q1Z8SQN' 'B07PY1N81F' 'B07Q1...</td>\n",
       "      <td>UK</td>\n",
       "    </tr>\n",
       "    <tr>\n",
       "      <th>316969</th>\n",
       "      <td>['B01MCQMORK' 'B09JYZ325W']</td>\n",
       "      <td>UK</td>\n",
       "    </tr>\n",
       "    <tr>\n",
       "      <th>316970</th>\n",
       "      <td>['B0B8JX92YJ' 'B09TN4MP6V' 'B0BG2LZQSL']</td>\n",
       "      <td>UK</td>\n",
       "    </tr>\n",
       "  </tbody>\n",
       "</table>\n",
       "<p>316971 rows × 2 columns</p>\n",
       "</div>"
      ],
      "text/plain": [
       "                                               prev_items locale\n",
       "0       ['B08V12CT4C' 'B08V1KXBQD' 'B01BVG1XJS' 'B09VC...     DE\n",
       "1                ['B00R9R5ND6' 'B00R9RZ9ZS' 'B00R9RZ9ZS']     DE\n",
       "2       ['B07YSRXJD3' 'B07G7Q5N6G' 'B08C9Q7QVK' 'B07G7...     DE\n",
       "3       ['B08KQBYV43' '3955350843' '3955350843' '39553...     DE\n",
       "4       ['B09FPTCWMC' 'B09FPTQP68' 'B08HMRY8NG' 'B08TB...     DE\n",
       "...                                                   ...    ...\n",
       "316966                        ['B077SZ2C3Y' 'B0B14M3VZX']     UK\n",
       "316967  ['B08KFHDPY9' 'B0851KTSRZ' 'B08KFHDPY9' 'B0851...     UK\n",
       "316968  ['B07PY1N81F' 'B07Q1Z8SQN' 'B07PY1N81F' 'B07Q1...     UK\n",
       "316969                        ['B01MCQMORK' 'B09JYZ325W']     UK\n",
       "316970           ['B0B8JX92YJ' 'B09TN4MP6V' 'B0BG2LZQSL']     UK\n",
       "\n",
       "[316971 rows x 2 columns]"
      ]
     },
     "execution_count": 3,
     "metadata": {},
     "output_type": "execute_result"
    }
   ],
   "source": [
    "df_test = pd.read_csv('data/sessions_test_task1.csv')\n",
    "df_test"
   ]
  },
  {
   "cell_type": "code",
   "execution_count": 4,
   "metadata": {},
   "outputs": [
    {
     "data": {
      "text/plain": [
       "array(['DE', 'JP', 'UK'], dtype=object)"
      ]
     },
     "execution_count": 4,
     "metadata": {},
     "output_type": "execute_result"
    }
   ],
   "source": [
    "test_locale_names = df_test['locale'].unique()\n",
    "test_locale_names"
   ]
  },
  {
   "cell_type": "code",
   "execution_count": 5,
   "metadata": {},
   "outputs": [],
   "source": [
    "def str2list(x):\n",
    "    x = x.replace('[', '').replace(']', '').replace(\"'\", '').replace('\\n', ' ').replace('\\r', ' ')\n",
    "    l = [i for i in x.split() if i]\n",
    "    return l"
   ]
  },
  {
   "cell_type": "code",
   "execution_count": 9,
   "metadata": {},
   "outputs": [],
   "source": [
    "def next_hop_count(df_sess_loc, df_test_loc):\n",
    "    next_item_dict = defaultdict(list)\n",
    "\n",
    "    for _, row in tqdm(df_sess_loc.iterrows(), total=len(df_sess_loc)):\n",
    "        prev_items = str2list(row['prev_items'])\n",
    "        next_item = row['next_item']\n",
    "        prev_items_length = len(prev_items)\n",
    "        if prev_items_length <= 1:\n",
    "            next_item_dict[prev_items[0]].append(next_item)\n",
    "        else:\n",
    "            for i, item in enumerate(prev_items[:-1]):\n",
    "                next_item_dict[item].append(prev_items[i+1])\n",
    "            next_item_dict[prev_items[-1]].append(next_item)\n",
    "    \n",
    "    for _, row in tqdm(df_test_loc.iterrows(), total=len(df_test_loc)):\n",
    "        prev_items = str2list(row['prev_items'])\n",
    "        prev_items_length = len(prev_items)\n",
    "        if prev_items_length <= 1:\n",
    "            continue\n",
    "        else:\n",
    "            for i, item in enumerate(prev_items[:-1]):\n",
    "                next_item_dict[item].append(prev_items[i+1])\n",
    "    \n",
    "    next_item_map = {}\n",
    "    for item in tqdm(next_item_dict):\n",
    "        counter = Counter(next_item_dict[item])\n",
    "        next_item_map[item] = [i[0] for i in counter.most_common(100)]\n",
    "    # dict是所有下一跳候选的list，有重复的\n",
    "    # map是根据所有下一跳的频率，保留前100个，但其实很可能到不了100个\n",
    "    return next_item_dict, next_item_map"
   ]
  },
  {
   "cell_type": "code",
   "execution_count": 10,
   "metadata": {},
   "outputs": [
    {
     "name": "stderr",
     "output_type": "stream",
     "text": [
      "100%|██████████| 1111416/1111416 [02:01<00:00, 9118.47it/s] \n",
      "100%|██████████| 104568/104568 [00:10<00:00, 10131.27it/s]\n",
      "100%|██████████| 488943/488943 [00:06<00:00, 70124.72it/s] \n",
      "100%|██████████| 979119/979119 [01:39<00:00, 9857.01it/s] \n",
      "100%|██████████| 96467/96467 [00:08<00:00, 11701.45it/s]\n",
      "100%|██████████| 374157/374157 [00:06<00:00, 61180.84it/s] \n",
      "100%|██████████| 1182181/1182181 [02:04<00:00, 9458.23it/s] \n",
      "100%|██████████| 115936/115936 [00:11<00:00, 10357.88it/s]\n",
      "100%|██████████| 474653/474653 [00:04<00:00, 96569.42it/s] \n"
     ]
    }
   ],
   "source": [
    "next_item_dict_de, next_item_map_de = next_hop_count(df_sess[df_sess['locale']=='DE'], df_test[df_test['locale']=='DE'])\n",
    "next_item_dict_jp, next_item_map_jp = next_hop_count(df_sess[df_sess['locale']=='JP'], df_test[df_test['locale']=='JP'])\n",
    "next_item_dict_uk, next_item_map_uk = next_hop_count(df_sess[df_sess['locale']=='UK'], df_test[df_test['locale']=='UK'])"
   ]
  },
  {
   "cell_type": "code",
   "execution_count": 50,
   "metadata": {},
   "outputs": [],
   "source": [
    "def next_two_hop_count(df_sess_loc, df_test_loc, loc):\n",
    "    next_item_dict_two = defaultdict(list)\n",
    "\n",
    "    for _, row in tqdm(df_sess_loc.iterrows(), total=len(df_sess_loc), desc='train {}'.format(loc)):\n",
    "        prev_items = str2list(row['prev_items'])\n",
    "        next_item = row['next_item']\n",
    "        prev_items_length = len(prev_items)\n",
    "        if prev_items_length <= 1:\n",
    "            continue\n",
    "        elif prev_items_length == 2:\n",
    "            next_item_dict_two[prev_items[0] + prev_items[1]].append(next_item)\n",
    "        else:\n",
    "            for i in range(len(prev_items) - 2):\n",
    "                next_item_dict_two[prev_items[i] + prev_items[i + 1]].append(prev_items[i + 2])\n",
    "            next_item_dict_two[prev_items[-2] + prev_items[-1]].append(next_item)\n",
    "    \n",
    "    for _, row in tqdm(df_test_loc.iterrows(), total=len(df_test_loc), desc='test {}'.format(loc)):\n",
    "        prev_items = str2list(row['prev_items'])\n",
    "        prev_items_length = len(prev_items)\n",
    "        if prev_items_length <= 2:\n",
    "            continue\n",
    "        else:\n",
    "            for i in range(len(prev_items) - 2):\n",
    "                next_item_dict_two[prev_items[i] + prev_items[i + 1]].append(prev_items[i + 2])\n",
    "    \n",
    "    next_two_item_map = {}\n",
    "    for item in tqdm(next_item_dict_two):\n",
    "        counter = Counter(next_item_dict_two[item])\n",
    "        next_two_item_map[item] = [i[0] for i in counter.most_common(100)]\n",
    "    # dict是所有下一跳候选的list，有重复的\n",
    "    # map是根据所有下一跳的频率，保留前100个，但其实很可能到不了100个\n",
    "    return next_item_dict_two, next_two_item_map"
   ]
  },
  {
   "cell_type": "code",
   "execution_count": 51,
   "metadata": {},
   "outputs": [
    {
     "name": "stderr",
     "output_type": "stream",
     "text": [
      "train DE: 100%|██████████| 1111416/1111416 [01:40<00:00, 11048.65it/s]\n",
      "test DE: 100%|██████████| 104568/104568 [00:07<00:00, 13940.27it/s]\n",
      "100%|██████████| 2237601/2237601 [00:17<00:00, 127785.21it/s]\n",
      "train JP: 100%|██████████| 979119/979119 [01:23<00:00, 11758.42it/s]\n",
      "test JP: 100%|██████████| 96467/96467 [00:06<00:00, 14047.45it/s]\n",
      "100%|██████████| 1809009/1809009 [00:08<00:00, 205143.19it/s]\n",
      "train UK: 100%|██████████| 1182181/1182181 [01:36<00:00, 12232.96it/s]\n",
      "test UK: 100%|██████████| 115936/115936 [00:08<00:00, 13978.10it/s]\n",
      "100%|██████████| 2213719/2213719 [00:19<00:00, 111301.16it/s]\n"
     ]
    }
   ],
   "source": [
    "next_item_dict_de_two, next_item_map_de_two = next_two_hop_count(df_sess[df_sess['locale']=='DE'], df_test[df_test['locale']=='DE'], 'DE')\n",
    "next_item_dict_jp_two, next_item_map_jp_two = next_two_hop_count(df_sess[df_sess['locale']=='JP'], df_test[df_test['locale']=='JP'], 'JP')\n",
    "next_item_dict_uk_two, next_item_map_uk_two = next_two_hop_count(df_sess[df_sess['locale']=='UK'], df_test[df_test['locale']=='UK'], 'UK')"
   ]
  },
  {
   "cell_type": "code",
   "execution_count": 106,
   "metadata": {},
   "outputs": [],
   "source": [
    "# 统计不同国家的ID有哪些\n",
    "def get_ids(df_sess_loc, df_test_loc, loc):\n",
    "    res = []\n",
    "    for _, row in tqdm(df_sess_loc.iterrows(), total=len(df_sess_loc), desc='train {}'.format(loc)):\n",
    "        prev_items = str2list(row['prev_items'])\n",
    "        next_item = row['next_item']\n",
    "        res += prev_items\n",
    "        res.append(next_item)\n",
    "    \n",
    "    for _, row in tqdm(df_test_loc.iterrows(), total=len(df_test_loc), desc='test {}'.format(loc)):\n",
    "        prev_items = str2list(row['prev_items'])\n",
    "        res += prev_items\n",
    "    \n",
    "    return list(set(res)), Counter(res)"
   ]
  },
  {
   "cell_type": "code",
   "execution_count": 107,
   "metadata": {},
   "outputs": [
    {
     "name": "stderr",
     "output_type": "stream",
     "text": [
      "train DE: 100%|██████████| 1111416/1111416 [01:59<00:00, 9337.25it/s] \n",
      "test DE: 100%|██████████| 104568/104568 [00:10<00:00, 9614.67it/s]\n",
      "train JP: 100%|██████████| 979119/979119 [01:45<00:00, 9254.02it/s] \n",
      "test JP: 100%|██████████| 96467/96467 [00:10<00:00, 9107.95it/s]\n",
      "train UK: 100%|██████████| 1182181/1182181 [02:07<00:00, 9302.68it/s]\n",
      "test UK: 100%|██████████| 115936/115936 [00:11<00:00, 10245.67it/s]\n"
     ]
    }
   ],
   "source": [
    "ids_de, counter_de = get_ids(df_sess[df_sess['locale']=='DE'], df_test[df_test['locale']=='DE'], 'DE')\n",
    "ids_jp, counter_jp = get_ids(df_sess[df_sess['locale']=='JP'], df_test[df_test['locale']=='JP'], 'JP')\n",
    "ids_uk, counter_uk = get_ids(df_sess[df_sess['locale']=='UK'], df_test[df_test['locale']=='UK'], 'UK')"
   ]
  },
  {
   "cell_type": "code",
   "execution_count": 109,
   "metadata": {},
   "outputs": [
    {
     "data": {
      "text/plain": [
       "5504"
      ]
     },
     "execution_count": 109,
     "metadata": {},
     "output_type": "execute_result"
    }
   ],
   "source": [
    "len(set(ids_de) & set(ids_jp))"
   ]
  },
  {
   "cell_type": "code",
   "execution_count": 110,
   "metadata": {},
   "outputs": [
    {
     "data": {
      "text/plain": [
       "64924"
      ]
     },
     "execution_count": 110,
     "metadata": {},
     "output_type": "execute_result"
    }
   ],
   "source": [
    "len(set(ids_de) & set(ids_uk))"
   ]
  },
  {
   "cell_type": "code",
   "execution_count": 111,
   "metadata": {},
   "outputs": [
    {
     "data": {
      "text/plain": [
       "5106"
      ]
     },
     "execution_count": 111,
     "metadata": {},
     "output_type": "execute_result"
    }
   ],
   "source": [
    "len(set(ids_jp) & set(ids_uk))"
   ]
  },
  {
   "cell_type": "code",
   "execution_count": 112,
   "metadata": {},
   "outputs": [],
   "source": [
    "ids = set(ids_de) | set(ids_jp) | set(ids_uk)"
   ]
  },
  {
   "cell_type": "code",
   "execution_count": 113,
   "metadata": {},
   "outputs": [
    {
     "name": "stderr",
     "output_type": "stream",
     "text": [
      "train : 100%|██████████| 3606249/3606249 [06:10<00:00, 9740.34it/s] \n",
      "test : 100%|██████████| 316971/316971 [00:31<00:00, 9954.15it/s] \n"
     ]
    }
   ],
   "source": [
    "ids_all, counter_all = get_ids(df_sess, df_test, '')"
   ]
  },
  {
   "cell_type": "code",
   "execution_count": 114,
   "metadata": {},
   "outputs": [
    {
     "data": {
      "text/plain": [
       "(1405856, 1338847)"
      ]
     },
     "execution_count": 114,
     "metadata": {},
     "output_type": "execute_result"
    }
   ],
   "source": [
    "len(ids_all), len(ids)"
   ]
  },
  {
   "cell_type": "code",
   "execution_count": 117,
   "metadata": {},
   "outputs": [
    {
     "data": {
      "text/plain": [
       "1338847"
      ]
     },
     "execution_count": 117,
     "metadata": {},
     "output_type": "execute_result"
    }
   ],
   "source": [
    "len(set(ids))"
   ]
  },
  {
   "cell_type": "code",
   "execution_count": 118,
   "metadata": {},
   "outputs": [
    {
     "data": {
      "text/plain": [
       "1405856"
      ]
     },
     "execution_count": 118,
     "metadata": {},
     "output_type": "execute_result"
    }
   ],
   "source": [
    "len(set(ids_all))"
   ]
  },
  {
   "cell_type": "code",
   "execution_count": 125,
   "metadata": {},
   "outputs": [],
   "source": [
    "# 统计不同国家的ID有哪些\n",
    "def get_ids_sep(df_sess_loc, df_test_loc, loc):\n",
    "    res = []\n",
    "    for _, row in tqdm(df_sess_loc.iterrows(), total=len(df_sess_loc), desc='train {}'.format(loc)):\n",
    "        prev_items = str2list(row['prev_items'])\n",
    "        next_item = row['next_item']\n",
    "        res += prev_items\n",
    "        res.append(next_item)\n",
    "    \n",
    "    res2 = []\n",
    "    for _, row in tqdm(df_test_loc.iterrows(), total=len(df_test_loc), desc='test {}'.format(loc)):\n",
    "        prev_items = str2list(row['prev_items'])\n",
    "        res2 += prev_items\n",
    "    \n",
    "    return list(set(res)), list(set(res2))"
   ]
  },
  {
   "cell_type": "code",
   "execution_count": 129,
   "metadata": {},
   "outputs": [],
   "source": [
    "def get_seq(df_sess_loc, df_test_loc, loc):\n",
    "    res = []\n",
    "    for _, row in tqdm(df_sess_loc.iterrows(), total=len(df_sess_loc), desc='train {}'.format(loc)):\n",
    "        prev_items = str2list(row['prev_items'])\n",
    "        next_item = row['next_item']\n",
    "        prev_items.append(next_item)\n",
    "        res.append(prev_items)\n",
    "    \n",
    "    for _, row in tqdm(df_test_loc.iterrows(), total=len(df_test_loc), desc='test {}'.format(loc)):\n",
    "        prev_items = str2list(row['prev_items'])\n",
    "        res.append(prev_items)\n",
    "    \n",
    "    return res "
   ]
  },
  {
   "cell_type": "code",
   "execution_count": 126,
   "metadata": {},
   "outputs": [
    {
     "name": "stderr",
     "output_type": "stream",
     "text": [
      "train : 100%|██████████| 3606249/3606249 [06:21<00:00, 9442.19it/s] \n",
      "test : 100%|██████████| 316971/316971 [00:32<00:00, 9874.03it/s] \n"
     ]
    }
   ],
   "source": [
    "train_ids, test_ids = get_ids_sep(df_sess, df_test, '')"
   ]
  },
  {
   "cell_type": "code",
   "execution_count": 130,
   "metadata": {},
   "outputs": [
    {
     "name": "stderr",
     "output_type": "stream",
     "text": [
      "train : 100%|██████████| 3606249/3606249 [06:52<00:00, 8734.44it/s] \n",
      "test : 100%|██████████| 316971/316971 [00:30<00:00, 10250.37it/s]\n"
     ]
    }
   ],
   "source": [
    "id_seq = get_seq(df_sess, df_test, '')"
   ]
  },
  {
   "cell_type": "code",
   "execution_count": 131,
   "metadata": {},
   "outputs": [
    {
     "data": {
      "text/plain": [
       "3923220"
      ]
     },
     "execution_count": 131,
     "metadata": {},
     "output_type": "execute_result"
    }
   ],
   "source": [
    "len(id_seq)"
   ]
  },
  {
   "cell_type": "code",
   "execution_count": 132,
   "metadata": {},
   "outputs": [
    {
     "data": {
      "text/plain": [
       "['B09W9FND7K', 'B09JSPLN1M', 'B09M7GY217']"
      ]
     },
     "execution_count": 132,
     "metadata": {},
     "output_type": "execute_result"
    }
   ],
   "source": [
    "id_seq[0]"
   ]
  },
  {
   "cell_type": "code",
   "execution_count": 149,
   "metadata": {},
   "outputs": [
    {
     "name": "stderr",
     "output_type": "stream",
     "text": [
      "100%|██████████| 3923220/3923220 [00:01<00:00, 2133899.46it/s]\n"
     ]
    }
   ],
   "source": [
    "lens = []\n",
    "for seq in tqdm(id_seq, total=len(id_seq)):\n",
    "    lens.append(len(seq))"
   ]
  },
  {
   "cell_type": "code",
   "execution_count": 150,
   "metadata": {},
   "outputs": [
    {
     "data": {
      "text/plain": [
       "(475, 5.165033824256605, 2)"
      ]
     },
     "execution_count": 150,
     "metadata": {},
     "output_type": "execute_result"
    }
   ],
   "source": [
    "max(lens), np.mean(lens), min(lens)"
   ]
  },
  {
   "cell_type": "code",
   "execution_count": 155,
   "metadata": {},
   "outputs": [
    {
     "data": {
      "image/png": "[encoded data removed]",
      "text/plain": [
       "<Figure size 432x288 with 1 Axes>"
      ]
     },
     "metadata": {
      "needs_background": "light"
     },
     "output_type": "display_data"
    }
   ],
   "source": [
    "plt.hist(lens, range=(1, 35))\n",
    "plt.show()"
   ]
  },
  {
   "cell_type": "code",
   "execution_count": 133,
   "metadata": {},
   "outputs": [],
   "source": [
    "vid_w2v = Word2Vec(sentences=id_seq, window=5, min_count=1, workers=24)"
   ]
  },
  {
   "cell_type": "code",
   "execution_count": 136,
   "metadata": {},
   "outputs": [
    {
     "data": {
      "text/plain": [
       "[('B09CGY1RYY', 0.9969545006752014),\n",
       " ('B07G4JMJPG', 0.9969289898872375),\n",
       " ('B074TJS8MV', 0.9967180490493774),\n",
       " ('B07Q4WY1C1', 0.9967117309570312),\n",
       " ('B099S8N1RJ', 0.9966452717781067),\n",
       " ('B09ZQLZCMW', 0.996603786945343),\n",
       " ('B09GRNHC3F', 0.9965909123420715),\n",
       " ('B09FJVXKRL', 0.9964855909347534),\n",
       " ('B0BHSG17TW', 0.9964825510978699),\n",
       " ('B08PVS8829', 0.9964374303817749)]"
      ]
     },
     "execution_count": 136,
     "metadata": {},
     "output_type": "execute_result"
    }
   ],
   "source": [
    "vid_w2v.wv.most_similar('B09JSPLN1M')"
   ]
  },
  {
   "cell_type": "code",
   "execution_count": 137,
   "metadata": {},
   "outputs": [
    {
     "data": {
      "text/plain": [
       "['B09M7GY217',\n",
       " 'B09YS6S48R',\n",
       " 'B07KDC7PJH',\n",
       " 'B07MDZ2K4F',\n",
       " 'B08ZJFWQMV',\n",
       " 'B09JSPLN1M',\n",
       " 'B092QMR6T8',\n",
       " 'B09W9FND7K']"
      ]
     },
     "execution_count": 137,
     "metadata": {},
     "output_type": "execute_result"
    }
   ],
   "source": [
    "next_item_dict_de['B09JSPLN1M']"
   ]
  },
  {
   "cell_type": "code",
   "execution_count": 158,
   "metadata": {},
   "outputs": [
    {
     "data": {
      "text/plain": [
       "['B09M7GY217',\n",
       " 'B09BNN1PYQ',\n",
       " 'B09M7F6F5L',\n",
       " 'B0B8SBW9S3',\n",
       " 'B0B6FJJGKB',\n",
       " 'B09SLPVNBS',\n",
       " 'B0B6FHVPWW',\n",
       " 'B09M7GY217',\n",
       " 'B08HCWPMM1',\n",
       " 'B0B6FJJGKB',\n",
       " 'B09M7F6F5L',\n",
       " 'B084NW53YK',\n",
       " 'B0B6FHVPWW',\n",
       " 'B098BH4DD9',\n",
       " 'B0B6FHVPWW',\n",
       " 'B0B6FJJGKB',\n",
       " 'B09V842FCF',\n",
       " 'B0B6FJJGKB',\n",
       " 'B0B5Y39G8P',\n",
       " 'B092MN49FQ',\n",
       " 'B0BK7P25LJ',\n",
       " 'B09M7GY217',\n",
       " 'B09M7J98ZH',\n",
       " 'B0BK15G5K7',\n",
       " 'B0BK7P25LJ',\n",
       " 'B07NQ8MBH4',\n",
       " 'B09M7F6F5L',\n",
       " 'B0BK7P25LJ',\n",
       " 'B0B6FJJGKB',\n",
       " 'B0BD1251M1',\n",
       " 'B0B6FHVPWW',\n",
       " 'B0B2LSR5LV',\n",
       " 'B0B6FHVPWW',\n",
       " 'B09M7F6F5L',\n",
       " 'B09CT7G9YX',\n",
       " 'B08QYRYH9J',\n",
       " 'B0B6FHVPWW',\n",
       " 'B09M7J98ZH',\n",
       " 'B0BK12QXGF',\n",
       " 'B0B6FJJGKB',\n",
       " 'B09M7G1RMT',\n",
       " 'B09M7G1RMT',\n",
       " 'B09M7G1RMT',\n",
       " 'B0B1VSW1VC',\n",
       " 'B09M7F6F5L',\n",
       " 'B0B6FJJGKB',\n",
       " 'B00DCXZY1W',\n",
       " 'B0BK15G5K7',\n",
       " 'B0BK7P25LJ',\n",
       " 'B0B77PY5CS',\n",
       " 'B0B6FJJGKB',\n",
       " 'B09M7F6F5L',\n",
       " 'B0B6FHVPWW',\n",
       " 'B09M7F6F5L',\n",
       " 'B0BK15G5K7',\n",
       " 'B09M7G1RMT',\n",
       " 'B09M7G1RMT',\n",
       " 'B074CCYSHN',\n",
       " 'B09GRQL4VP',\n",
       " 'B075LHX8XM',\n",
       " 'B0B6FJJGKB',\n",
       " 'B0B7J7KDM2',\n",
       " 'B0B6FJJGKB',\n",
       " 'B0B7J43WV8',\n",
       " 'B09GRYB7GK',\n",
       " 'B08QYRYH9J',\n",
       " 'B09M7G1RMT',\n",
       " 'B09M7F6F5L',\n",
       " 'B09M7F6F5L',\n",
       " 'B0B7J43WV8',\n",
       " 'B0B6FHVPWW',\n",
       " 'B07LGM71QQ',\n",
       " 'B0B77H7GBK',\n",
       " 'B0BK12QXGF',\n",
       " 'B09M7F6F5L',\n",
       " 'B0B6FJJGKB',\n",
       " 'B01BIGSRLS',\n",
       " 'B09M7G1RMT',\n",
       " 'B0BK7P25LJ',\n",
       " 'B095KL8LC9',\n",
       " 'B099BPTP7S',\n",
       " 'B0B6FJJGKB',\n",
       " '3499006545',\n",
       " 'B0B7J7KDM2',\n",
       " 'B0B77PY5CS',\n",
       " 'B08JZDG6S1',\n",
       " 'B09M7GY217',\n",
       " 'B09M7GY217',\n",
       " 'B09JWMJ7PW',\n",
       " 'B0B6FJJGKB',\n",
       " 'B0B6FJJGKB',\n",
       " 'B09M7GY217',\n",
       " 'B0B6FJJGKB',\n",
       " 'B09M7J98ZH',\n",
       " 'B0B6FHVPWW',\n",
       " 'B0BK7P25LJ',\n",
       " 'B08C5HYHYB',\n",
       " 'B0B6FJJGKB',\n",
       " 'B0B6FJJGKB',\n",
       " 'B0B7J43WV8',\n",
       " 'B0B6FJJGKB',\n",
       " 'B0B77MTJZ4',\n",
       " 'B09GRYB7GK',\n",
       " 'B09M7J98ZH',\n",
       " 'B08QYRYH9J',\n",
       " 'B0819X67PZ',\n",
       " 'B08LK27MLH',\n",
       " 'B0B6FHVPWW',\n",
       " 'B084WMRTQN',\n",
       " 'B0BK12QXGF',\n",
       " 'B0B6FHVPWW',\n",
       " 'B0BK15G5K7',\n",
       " 'B0B77H7GBK',\n",
       " 'B0B6FJJGKB',\n",
       " 'B09LV9YF4G',\n",
       " 'B082NMSWJF',\n",
       " 'B0B6FJJGKB',\n",
       " 'B09M7F6F5L',\n",
       " 'B0B6FHVPWW',\n",
       " 'B09GRYB7GK',\n",
       " 'B07DPRG8RQ',\n",
       " 'B07XTX5YBD',\n",
       " 'B0B6FHVPWW',\n",
       " 'B0999CD1HL',\n",
       " 'B0B7J7KDM2',\n",
       " 'B09GS3S2N4',\n",
       " 'B0B6FHVPWW',\n",
       " 'B0B7J7KDM2',\n",
       " 'B0BK7P25LJ',\n",
       " 'B0BK7P25LJ',\n",
       " 'B09GRYB7GK',\n",
       " 'B0B6FHVPWW',\n",
       " 'B0BK15G5K7',\n",
       " 'B08DRQNBY8',\n",
       " 'B09GRYB7GK']"
      ]
     },
     "execution_count": 158,
     "metadata": {},
     "output_type": "execute_result"
    }
   ],
   "source": [
    "next_item_dict_de['B09M7GY217']"
   ]
  },
  {
   "cell_type": "code",
   "execution_count": 156,
   "metadata": {},
   "outputs": [],
   "source": [
    "vid_w2v2 = Word2Vec(sentences=id_seq, window=2, min_count=1, workers=24)"
   ]
  },
  {
   "cell_type": "code",
   "execution_count": 157,
   "metadata": {},
   "outputs": [
    {
     "data": {
      "text/plain": [
       "[('B0768LJH91', 0.997101902961731),\n",
       " ('B07TVGNZ2L', 0.9969090223312378),\n",
       " ('B01N3Z9PFC', 0.99659264087677),\n",
       " ('B07TV6YZFW', 0.9965134859085083),\n",
       " ('B08VT3ZVLF', 0.996504545211792),\n",
       " ('B09LQK46SY', 0.9964858293533325),\n",
       " ('B07B539W7W', 0.9964704513549805),\n",
       " ('B098MVTR43', 0.9964691996574402),\n",
       " ('B0002ASMT4', 0.9964657425880432),\n",
       " ('B08R9NRYBB', 0.9964598417282104)]"
      ]
     },
     "execution_count": 157,
     "metadata": {},
     "output_type": "execute_result"
    }
   ],
   "source": [
    "vid_w2v2.wv.most_similar('B09JSPLN1M')"
   ]
  },
  {
   "cell_type": "code",
   "execution_count": 159,
   "metadata": {},
   "outputs": [
    {
     "data": {
      "text/plain": [
       "[('B09M7G1RMT', 0.996815025806427),\n",
       " ('B0B6FJJGKB', 0.994515061378479),\n",
       " ('B0B6FHVPWW', 0.9938789010047913),\n",
       " ('B0BK7P25LJ', 0.9932073950767517),\n",
       " ('B08QYRYH9J', 0.988746166229248),\n",
       " ('B08C5HFL69', 0.9882739186286926),\n",
       " ('B08JZDG6S1', 0.9875255227088928),\n",
       " ('B08C5G5SL8', 0.9861811399459839),\n",
       " ('B08DRQNBY8', 0.9847004413604736),\n",
       " ('B09GRYB7GK', 0.9844176769256592)]"
      ]
     },
     "execution_count": 159,
     "metadata": {},
     "output_type": "execute_result"
    }
   ],
   "source": [
    "vid_w2v2.wv.most_similar('B09M7GY217')"
   ]
  },
  {
   "cell_type": "code",
   "execution_count": null,
   "metadata": {},
   "outputs": [],
   "source": [
    "# def top_200_count_origin(df_sess_loc, df_test_loc):  # 可以改成从原始数据统计top100\n",
    "#     k = []\n",
    "#     v = []\n",
    "\n",
    "#     for item in next_item_dict:\n",
    "#         k.append(item)\n",
    "#         v.append(next_item_dict[item])\n",
    "        \n",
    "#     df_next = pd.DataFrame({'item': k, 'next_item': v})\n",
    "#     df_next = df_next.explode('next_item').reset_index(drop=True)\n",
    "#     top200 = df_next['next_item'].value_counts().index.tolist()[:200]  # 所有下一跳候选集中最热门的200个\n",
    "\n",
    "#     return top200 "
   ]
  },
  {
   "cell_type": "code",
   "execution_count": 11,
   "metadata": {},
   "outputs": [],
   "source": [
    "def top_200_count(next_item_dict):\n",
    "    k = []\n",
    "    v = []\n",
    "\n",
    "    for item in next_item_dict:\n",
    "        k.append(item)\n",
    "        v.append(next_item_dict[item])\n",
    "        \n",
    "    df_next = pd.DataFrame({'item': k, 'next_item': v})\n",
    "    df_next = df_next.explode('next_item').reset_index(drop=True)\n",
    "    top200 = df_next['next_item'].value_counts().index.tolist()[:200]  # 所有下一跳候选集中最热门的200个\n",
    "\n",
    "    return top200 "
   ]
  },
  {
   "cell_type": "code",
   "execution_count": 13,
   "metadata": {},
   "outputs": [],
   "source": [
    "top200_de = top_200_count(next_item_dict_de)\n",
    "top200_jp = top_200_count(next_item_dict_jp)\n",
    "top200_uk = top_200_count(next_item_dict_uk)"
   ]
  },
  {
   "cell_type": "code",
   "execution_count": 14,
   "metadata": {},
   "outputs": [],
   "source": [
    "df_test['last_item'] = df_test['prev_items'].apply(lambda x: str2list(x)[-1])"
   ]
  },
  {
   "cell_type": "code",
   "execution_count": 168,
   "metadata": {},
   "outputs": [],
   "source": [
    "df_sess['last_item'] = df_sess['prev_items'].apply(lambda x: str2list(x)[-1])"
   ]
  },
  {
   "cell_type": "code",
   "execution_count": 42,
   "metadata": {},
   "outputs": [],
   "source": [
    "df_test['last_item_2'] = df_test['prev_items'].apply(lambda x: str2list(x)[-2])"
   ]
  },
  {
   "cell_type": "code",
   "execution_count": 171,
   "metadata": {},
   "outputs": [],
   "source": [
    "df_sess['last_item_2'] = df_sess['prev_items'].apply(lambda x: str2list(x)[-2])"
   ]
  },
  {
   "cell_type": "code",
   "execution_count": 15,
   "metadata": {},
   "outputs": [
    {
     "data": {
      "text/html": [
       "<div>\n",
       "<style scoped>\n",
       "    .dataframe tbody tr th:only-of-type {\n",
       "        vertical-align: middle;\n",
       "    }\n",
       "\n",
       "    .dataframe tbody tr th {\n",
       "        vertical-align: top;\n",
       "    }\n",
       "\n",
       "    .dataframe thead th {\n",
       "        text-align: right;\n",
       "    }\n",
       "</style>\n",
       "<table border=\"1\" class=\"dataframe\">\n",
       "  <thead>\n",
       "    <tr style=\"text-align: right;\">\n",
       "      <th></th>\n",
       "      <th>prev_items</th>\n",
       "      <th>locale</th>\n",
       "      <th>last_item</th>\n",
       "    </tr>\n",
       "  </thead>\n",
       "  <tbody>\n",
       "    <tr>\n",
       "      <th>0</th>\n",
       "      <td>['B08V12CT4C' 'B08V1KXBQD' 'B01BVG1XJS' 'B09VC...</td>\n",
       "      <td>DE</td>\n",
       "      <td>B099NQFMG7</td>\n",
       "    </tr>\n",
       "    <tr>\n",
       "      <th>1</th>\n",
       "      <td>['B00R9R5ND6' 'B00R9RZ9ZS' 'B00R9RZ9ZS']</td>\n",
       "      <td>DE</td>\n",
       "      <td>B00R9RZ9ZS</td>\n",
       "    </tr>\n",
       "    <tr>\n",
       "      <th>2</th>\n",
       "      <td>['B07YSRXJD3' 'B07G7Q5N6G' 'B08C9Q7QVK' 'B07G7...</td>\n",
       "      <td>DE</td>\n",
       "      <td>B07G7Q5N6G</td>\n",
       "    </tr>\n",
       "    <tr>\n",
       "      <th>3</th>\n",
       "      <td>['B08KQBYV43' '3955350843' '3955350843' '39553...</td>\n",
       "      <td>DE</td>\n",
       "      <td>3955350843</td>\n",
       "    </tr>\n",
       "    <tr>\n",
       "      <th>4</th>\n",
       "      <td>['B09FPTCWMC' 'B09FPTQP68' 'B08HMRY8NG' 'B08TB...</td>\n",
       "      <td>DE</td>\n",
       "      <td>B09J945WQR</td>\n",
       "    </tr>\n",
       "  </tbody>\n",
       "</table>\n",
       "</div>"
      ],
      "text/plain": [
       "                                          prev_items locale   last_item\n",
       "0  ['B08V12CT4C' 'B08V1KXBQD' 'B01BVG1XJS' 'B09VC...     DE  B099NQFMG7\n",
       "1           ['B00R9R5ND6' 'B00R9RZ9ZS' 'B00R9RZ9ZS']     DE  B00R9RZ9ZS\n",
       "2  ['B07YSRXJD3' 'B07G7Q5N6G' 'B08C9Q7QVK' 'B07G7...     DE  B07G7Q5N6G\n",
       "3  ['B08KQBYV43' '3955350843' '3955350843' '39553...     DE  3955350843\n",
       "4  ['B09FPTCWMC' 'B09FPTQP68' 'B08HMRY8NG' 'B08TB...     DE  B09J945WQR"
      ]
     },
     "execution_count": 15,
     "metadata": {},
     "output_type": "execute_result"
    }
   ],
   "source": [
    "df_test.head()"
   ]
  },
  {
   "cell_type": "code",
   "execution_count": 45,
   "metadata": {},
   "outputs": [
    {
     "data": {
      "text/plain": [
       "0         B099NQFMG7B01BVG1XJS\n",
       "1         B00R9RZ9ZSB00R9RZ9ZS\n",
       "2         B07G7Q5N6GB08C9Q7QVK\n",
       "3         3955350843B0BJTL2GD5\n",
       "4         B09J945WQRB09J8V18FL\n",
       "                  ...         \n",
       "316966    B0B14M3VZXB077SZ2C3Y\n",
       "316967    B081YDH55KB0851KTSRZ\n",
       "316968    B09HL11V5BB08CP8ZD6D\n",
       "316969    B09JYZ325WB01MCQMORK\n",
       "316970    B0BG2LZQSLB09TN4MP6V\n",
       "Length: 316971, dtype: object"
      ]
     },
     "execution_count": 45,
     "metadata": {},
     "output_type": "execute_result"
    }
   ],
   "source": [
    "df_test['last_item'] + df_test['last_item_2']"
   ]
  },
  {
   "cell_type": "code",
   "execution_count": 164,
   "metadata": {},
   "outputs": [
    {
     "name": "stderr",
     "output_type": "stream",
     "text": [
      "  2%|▏         | 27761/1405856 [1:07:23<55:45:05,  6.87it/s] \n"
     ]
    },
    {
     "ename": "KeyboardInterrupt",
     "evalue": "",
     "output_type": "error",
     "traceback": [
      "\u001b[0;31m---------------------------------------------------------------------------\u001b[0m",
      "\u001b[0;31mKeyboardInterrupt\u001b[0m                         Traceback (most recent call last)",
      "\u001b[0;32m<ipython-input-164-8b536d0f34f1>\u001b[0m in \u001b[0;36m<module>\u001b[0;34m\u001b[0m\n\u001b[1;32m      1\u001b[0m \u001b[0mw2v_map\u001b[0m \u001b[0;34m=\u001b[0m \u001b[0mdefaultdict\u001b[0m\u001b[0;34m(\u001b[0m\u001b[0mlist\u001b[0m\u001b[0;34m)\u001b[0m\u001b[0;34m\u001b[0m\u001b[0;34m\u001b[0m\u001b[0m\n\u001b[1;32m      2\u001b[0m \u001b[0;32mfor\u001b[0m \u001b[0mid_\u001b[0m \u001b[0;32min\u001b[0m \u001b[0mtqdm\u001b[0m\u001b[0;34m(\u001b[0m\u001b[0mids_all\u001b[0m\u001b[0;34m,\u001b[0m \u001b[0mtotal\u001b[0m\u001b[0;34m=\u001b[0m\u001b[0mlen\u001b[0m\u001b[0;34m(\u001b[0m\u001b[0mids_all\u001b[0m\u001b[0;34m)\u001b[0m\u001b[0;34m)\u001b[0m\u001b[0;34m:\u001b[0m\u001b[0;34m\u001b[0m\u001b[0;34m\u001b[0m\u001b[0m\n\u001b[0;32m----> 3\u001b[0;31m     \u001b[0mw2v_sim\u001b[0m \u001b[0;34m=\u001b[0m \u001b[0mvid_w2v2\u001b[0m\u001b[0;34m.\u001b[0m\u001b[0mwv\u001b[0m\u001b[0;34m.\u001b[0m\u001b[0mmost_similar\u001b[0m\u001b[0;34m(\u001b[0m\u001b[0mid_\u001b[0m\u001b[0;34m)\u001b[0m\u001b[0;34m\u001b[0m\u001b[0;34m\u001b[0m\u001b[0m\n\u001b[0m\u001b[1;32m      4\u001b[0m     \u001b[0mw2v_sim\u001b[0m \u001b[0;34m=\u001b[0m \u001b[0;34m[\u001b[0m\u001b[0mx\u001b[0m\u001b[0;34m[\u001b[0m\u001b[0;36m0\u001b[0m\u001b[0;34m]\u001b[0m \u001b[0;32mfor\u001b[0m \u001b[0mx\u001b[0m \u001b[0;32min\u001b[0m \u001b[0mw2v_sim\u001b[0m\u001b[0;34m]\u001b[0m\u001b[0;34m\u001b[0m\u001b[0;34m\u001b[0m\u001b[0m\n\u001b[1;32m      5\u001b[0m     \u001b[0mw2v_map\u001b[0m\u001b[0;34m[\u001b[0m\u001b[0mid_\u001b[0m\u001b[0;34m]\u001b[0m \u001b[0;34m=\u001b[0m \u001b[0mw2v_sim\u001b[0m\u001b[0;34m\u001b[0m\u001b[0;34m\u001b[0m\u001b[0m\n",
      "\u001b[0;32m~/anaconda3/envs/libcityng/lib/python3.9/site-packages/gensim/models/keyedvectors.py\u001b[0m in \u001b[0;36mmost_similar\u001b[0;34m(self, positive, negative, topn, clip_start, clip_end, restrict_vocab, indexer)\u001b[0m\n\u001b[1;32m    770\u001b[0m             \u001b[0;32mreturn\u001b[0m \u001b[0mindexer\u001b[0m\u001b[0;34m.\u001b[0m\u001b[0mmost_similar\u001b[0m\u001b[0;34m(\u001b[0m\u001b[0mmean\u001b[0m\u001b[0;34m,\u001b[0m \u001b[0mtopn\u001b[0m\u001b[0;34m)\u001b[0m\u001b[0;34m\u001b[0m\u001b[0;34m\u001b[0m\u001b[0m\n\u001b[1;32m    771\u001b[0m \u001b[0;34m\u001b[0m\u001b[0m\n\u001b[0;32m--> 772\u001b[0;31m         \u001b[0mdists\u001b[0m \u001b[0;34m=\u001b[0m \u001b[0mdot\u001b[0m\u001b[0;34m(\u001b[0m\u001b[0mself\u001b[0m\u001b[0;34m.\u001b[0m\u001b[0mvectors\u001b[0m\u001b[0;34m[\u001b[0m\u001b[0mclip_start\u001b[0m\u001b[0;34m:\u001b[0m\u001b[0mclip_end\u001b[0m\u001b[0;34m]\u001b[0m\u001b[0;34m,\u001b[0m \u001b[0mmean\u001b[0m\u001b[0;34m)\u001b[0m \u001b[0;34m/\u001b[0m \u001b[0mself\u001b[0m\u001b[0;34m.\u001b[0m\u001b[0mnorms\u001b[0m\u001b[0;34m[\u001b[0m\u001b[0mclip_start\u001b[0m\u001b[0;34m:\u001b[0m\u001b[0mclip_end\u001b[0m\u001b[0;34m]\u001b[0m\u001b[0;34m\u001b[0m\u001b[0;34m\u001b[0m\u001b[0m\n\u001b[0m\u001b[1;32m    773\u001b[0m         \u001b[0;32mif\u001b[0m \u001b[0;32mnot\u001b[0m \u001b[0mtopn\u001b[0m\u001b[0;34m:\u001b[0m\u001b[0;34m\u001b[0m\u001b[0;34m\u001b[0m\u001b[0m\n\u001b[1;32m    774\u001b[0m             \u001b[0;32mreturn\u001b[0m \u001b[0mdists\u001b[0m\u001b[0;34m\u001b[0m\u001b[0;34m\u001b[0m\u001b[0m\n",
      "\u001b[0;32m<__array_function__ internals>\u001b[0m in \u001b[0;36mdot\u001b[0;34m(*args, **kwargs)\u001b[0m\n",
      "\u001b[0;31mKeyboardInterrupt\u001b[0m: "
     ]
    }
   ],
   "source": [
    "w2v_map = defaultdict(list)\n",
    "for id_ in tqdm(ids_all, total=len(ids_all)):\n",
    "    w2v_sim = vid_w2v2.wv.most_similar(id_)\n",
    "    w2v_sim = [x[0] for x in w2v_sim]\n",
    "    w2v_map[id_] = w2v_sim"
   ]
  },
  {
   "cell_type": "code",
   "execution_count": 139,
   "metadata": {},
   "outputs": [],
   "source": [
    "def get_pred_w2v(df_test_loc, next_item_map_loc, top200_loc):\n",
    "    df_test_loc['next_item_prediction'] = df_test_loc['last_item'].map(next_item_map_loc)\n",
    "\n",
    "    preds = []\n",
    "    cnt = 0\n",
    "    for _, row in tqdm(df_test_loc.iterrows(), total=len(df_test_loc)):\n",
    "        pred_orig = row['next_item_prediction']\n",
    "        w2v_sim = vid_w2v.wv.most_similar(row['last_item'])\n",
    "        w2v_sim = [x[0] for x in w2v_sim]\n",
    "        pred = w2v_sim\n",
    "        prev_items = str2list(row['prev_items'])\n",
    "        if type(pred_orig) == float:  # pred=nan, 测试集的last_item在之间没有统计出来下一跳，此时用最热门代替\n",
    "            if len(pred) < 100:  # 小于100，从最热门选\n",
    "                for i in top200_loc:\n",
    "                    if i not in pred and i not in prev_items:\n",
    "                        pred.append(i)\n",
    "                    if len(pred) >= 100:\n",
    "                        break\n",
    "            else:\n",
    "                pred = pred[:100]\n",
    "            cnt += 1\n",
    "        else:\n",
    "            if len(pred) < 100:  # 小于100，从最热门选\n",
    "                for i in top200_loc:\n",
    "                    if i not in pred and i not in prev_items:\n",
    "                        pred.append(i)\n",
    "                    if len(pred) >= 100:\n",
    "                        break\n",
    "            else:\n",
    "                pred = pred[:100]\n",
    "        preds.append(pred)\n",
    "    print(cnt)\n",
    "    return preds"
   ]
  },
  {
   "cell_type": "code",
   "execution_count": 55,
   "metadata": {},
   "outputs": [],
   "source": [
    "def get_pred(df_test_loc, next_item_map_loc, top200_loc):\n",
    "    df_test_loc['next_item_prediction'] = df_test_loc['last_item'].map(next_item_map_loc)\n",
    "\n",
    "    preds = []\n",
    "    cnt = 0\n",
    "    for _, row in tqdm(df_test_loc.iterrows(), total=len(df_test_loc)):\n",
    "        pred_orig = row['next_item_prediction']\n",
    "        pred = pred_orig\n",
    "        prev_items = str2list(row['prev_items'])\n",
    "        if type(pred) == float:  # pred=nan, 测试集的last_item在之间没有统计出来下一跳，此时用最热门代替\n",
    "            pred = top200_loc[:100]\n",
    "            cnt += 1\n",
    "        else:\n",
    "            if len(pred_orig) < 100:  # 小于100，从最热门选\n",
    "                for i in top200_loc:\n",
    "                    if i not in pred_orig and i not in prev_items:\n",
    "                        pred.append(i)\n",
    "                    if len(pred) >= 100:\n",
    "                        break\n",
    "            else:\n",
    "                pred = pred[:100]\n",
    "        preds.append(pred)\n",
    "    print(cnt)\n",
    "    return preds"
   ]
  },
  {
   "cell_type": "code",
   "execution_count": 169,
   "metadata": {},
   "outputs": [],
   "source": [
    "def get_pred_mrr(df_test_loc, next_item_map_loc, top200_loc):\n",
    "    df_test_loc['next_item_prediction'] = df_test_loc['last_item'].map(next_item_map_loc)\n",
    "\n",
    "    mrr = []\n",
    "    for _, row in tqdm(df_test_loc.iterrows(), total=len(df_test_loc)):\n",
    "        label = row['next_item']\n",
    "        pred_orig = row['next_item_prediction']\n",
    "        pred = pred_orig\n",
    "        prev_items = str2list(row['prev_items'])\n",
    "        if type(pred) == float:  # pred=nan, 测试集的last_item在之间没有统计出来下一跳，此时用最热门代替\n",
    "            pred = top200_loc[:100]\n",
    "        else:\n",
    "            if len(pred_orig) < 100:  # 小于100，从最热门选\n",
    "                for i in top200_loc:\n",
    "                    if i not in pred_orig and i not in prev_items:\n",
    "                        pred.append(i)\n",
    "                    if len(pred) >= 100:\n",
    "                        break\n",
    "            else:\n",
    "                pred = pred[:100]\n",
    "        try:\n",
    "            pred_result = pred.index(label)\n",
    "            mrr.append(1 / (pred_result + 1))\n",
    "        except:\n",
    "            mrr.append(0)\n",
    "    return mrr"
   ]
  },
  {
   "cell_type": "code",
   "execution_count": 142,
   "metadata": {},
   "outputs": [
    {
     "name": "stderr",
     "output_type": "stream",
     "text": [
      "100%|██████████| 104568/104568 [1:50:13<00:00, 15.81it/s] \n"
     ]
    },
    {
     "name": "stdout",
     "output_type": "stream",
     "text": [
      "559\n"
     ]
    },
    {
     "name": "stderr",
     "output_type": "stream",
     "text": [
      "100%|██████████| 96467/96467 [1:41:07<00:00, 15.90it/s]  \n"
     ]
    },
    {
     "name": "stdout",
     "output_type": "stream",
     "text": [
      "636\n"
     ]
    },
    {
     "name": "stderr",
     "output_type": "stream",
     "text": [
      "100%|██████████| 115936/115936 [1:46:27<00:00, 18.15it/s] \n"
     ]
    },
    {
     "name": "stdout",
     "output_type": "stream",
     "text": [
      "714\n"
     ]
    }
   ],
   "source": [
    "preds_de_w2v = get_pred_w2v(df_test[df_test['locale']=='DE'], next_item_map_de, top200_de)\n",
    "preds_jp_w2v = get_pred_w2v(df_test[df_test['locale']=='JP'], next_item_map_jp, top200_jp)\n",
    "preds_uk_w2v = get_pred_w2v(df_test[df_test['locale']=='UK'], next_item_map_uk, top200_uk)"
   ]
  },
  {
   "cell_type": "code",
   "execution_count": 56,
   "metadata": {},
   "outputs": [
    {
     "name": "stderr",
     "output_type": "stream",
     "text": [
      "100%|██████████| 104568/104568 [00:08<00:00, 12189.12it/s]\n"
     ]
    },
    {
     "name": "stdout",
     "output_type": "stream",
     "text": [
      "559\n"
     ]
    },
    {
     "name": "stderr",
     "output_type": "stream",
     "text": [
      "100%|██████████| 96467/96467 [00:07<00:00, 12259.22it/s]\n"
     ]
    },
    {
     "name": "stdout",
     "output_type": "stream",
     "text": [
      "636\n"
     ]
    },
    {
     "name": "stderr",
     "output_type": "stream",
     "text": [
      "100%|██████████| 115936/115936 [00:09<00:00, 12072.96it/s]"
     ]
    },
    {
     "name": "stdout",
     "output_type": "stream",
     "text": [
      "714\n"
     ]
    },
    {
     "name": "stderr",
     "output_type": "stream",
     "text": [
      "\n"
     ]
    }
   ],
   "source": [
    "preds_de = get_pred(df_test[df_test['locale']=='DE'], next_item_map_de, top200_de)\n",
    "preds_jp = get_pred(df_test[df_test['locale']=='JP'], next_item_map_jp, top200_jp)\n",
    "preds_uk = get_pred(df_test[df_test['locale']=='UK'], next_item_map_uk, top200_uk)"
   ]
  },
  {
   "cell_type": "code",
   "execution_count": 170,
   "metadata": {},
   "outputs": [
    {
     "name": "stderr",
     "output_type": "stream",
     "text": [
      "100%|██████████| 1111416/1111416 [05:00<00:00, 3702.64it/s]\n",
      "100%|██████████| 979119/979119 [04:09<00:00, 3923.70it/s]\n",
      "100%|██████████| 1182181/1182181 [04:58<00:00, 3959.09it/s]\n"
     ]
    }
   ],
   "source": [
    "preds_de_train = get_pred_mrr(df_sess[df_sess['locale']=='DE'], next_item_map_de, top200_de)\n",
    "preds_jp_train = get_pred_mrr(df_sess[df_sess['locale']=='JP'], next_item_map_jp, top200_jp)\n",
    "preds_uk_train = get_pred_mrr(df_sess[df_sess['locale']=='UK'], next_item_map_uk, top200_uk)"
   ]
  },
  {
   "cell_type": "code",
   "execution_count": 53,
   "metadata": {},
   "outputs": [],
   "source": [
    "def get_pred_two(df_test_loc, next_item_map_loc, next_item_map_loc_two, top200_loc):\n",
    "    df_test_loc['next_item_prediction'] = df_test_loc['last_item'].map(next_item_map_loc)\n",
    "    df_test_loc['next_item_prediction_two'] = (df_test_loc['last_item'] + df_test_loc['last_item_2']).map(next_item_map_loc_two)\n",
    "\n",
    "    preds = []\n",
    "\n",
    "    cnt = 0\n",
    "    for _, row in tqdm(df_test_loc.iterrows(), total=len(df_test_loc)):\n",
    "        pred_orig = row['next_item_prediction']\n",
    "        pred_orig_two = row['next_item_prediction_two']\n",
    "        pred = pred_orig_two\n",
    "        prev_items = str2list(row['prev_items'])\n",
    "        \n",
    "        if type(pred) == float:  # pred=nan, 测试集的last_item在之间没有统计出来下一跳，此时用最热门代替\n",
    "            pred = top200_loc[:100]\n",
    "            cnt += 1\n",
    "        else:\n",
    "            if len(pred) < 100:  # 小于100，从最热门选\n",
    "                for i in top200_loc:\n",
    "                    if i not in pred and i not in prev_items:\n",
    "                        pred.append(i)\n",
    "                    if len(pred) >= 100:\n",
    "                        break\n",
    "            else:\n",
    "                pred = pred[:100]\n",
    "        preds.append(pred)\n",
    "    \n",
    "    print(cnt)\n",
    "    return preds"
   ]
  },
  {
   "cell_type": "code",
   "execution_count": 54,
   "metadata": {},
   "outputs": [
    {
     "name": "stderr",
     "output_type": "stream",
     "text": [
      "100%|██████████| 104568/104568 [00:13<00:00, 7798.74it/s]\n"
     ]
    },
    {
     "name": "stdout",
     "output_type": "stream",
     "text": [
      "49546\n"
     ]
    },
    {
     "name": "stderr",
     "output_type": "stream",
     "text": [
      "100%|██████████| 96467/96467 [00:12<00:00, 7762.83it/s]\n"
     ]
    },
    {
     "name": "stdout",
     "output_type": "stream",
     "text": [
      "45073\n"
     ]
    },
    {
     "name": "stderr",
     "output_type": "stream",
     "text": [
      "100%|██████████| 115936/115936 [00:14<00:00, 7904.19it/s]\n"
     ]
    },
    {
     "name": "stdout",
     "output_type": "stream",
     "text": [
      "58454\n"
     ]
    }
   ],
   "source": [
    "preds_de_m2 = get_pred_two(df_test[df_test['locale']=='DE'], next_item_map_de, next_item_map_de_two, top200_de)\n",
    "preds_jp_m2 = get_pred_two(df_test[df_test['locale']=='JP'], next_item_map_jp, next_item_map_jp_two, top200_jp)\n",
    "preds_uk_m2 = get_pred_two(df_test[df_test['locale']=='UK'], next_item_map_uk, next_item_map_uk_two, top200_uk)"
   ]
  },
  {
   "cell_type": "code",
   "execution_count": 64,
   "metadata": {},
   "outputs": [],
   "source": [
    "def get_pred_two_one(df_test_loc, next_item_map_loc, next_item_map_loc_two, top200_loc):\n",
    "    df_test_loc['next_item_prediction'] = df_test_loc['last_item'].map(next_item_map_loc)\n",
    "    df_test_loc['next_item_prediction_two'] = (df_test_loc['last_item'] + df_test_loc['last_item_2']).map(next_item_map_loc_two)\n",
    "\n",
    "    preds = []\n",
    "\n",
    "    cnt = 0\n",
    "    for _, row in tqdm(df_test_loc.iterrows(), total=len(df_test_loc)):\n",
    "        pred_orig = row['next_item_prediction']\n",
    "        pred_orig_two = row['next_item_prediction_two']\n",
    "        pred = pred_orig_two\n",
    "        prev_items = str2list(row['prev_items'])\n",
    "        \n",
    "        if type(pred) == float:  # pred=nan, 测试集的last_item在之间没有统计出来下一跳，此时用最热门代替\n",
    "            pred = pred_orig\n",
    "            if type(pred_orig) == float:\n",
    "                pred = top200_loc[:100]\n",
    "                cnt += 1\n",
    "            else:\n",
    "                if len(pred) < 100:  # 小于100，从最热门选\n",
    "                    for i in top200_loc:\n",
    "                        if i not in pred and i not in prev_items:\n",
    "                            pred.append(i)\n",
    "                        if len(pred) >= 100:\n",
    "                            break\n",
    "        else:\n",
    "            if len(pred) < 100:  # 小于100，从最热门选\n",
    "                for i in pred_orig:\n",
    "                    if i not in pred and i not in prev_items:\n",
    "                        pred.append(i)\n",
    "                    if len(pred) >= 100:\n",
    "                        break               \n",
    "                for i in top200_loc:\n",
    "                    if i not in pred and i not in prev_items:\n",
    "                        pred.append(i)\n",
    "                    if len(pred) >= 100:\n",
    "                        break\n",
    "            else:\n",
    "                pred = pred[:100]\n",
    "        preds.append(pred)\n",
    "    \n",
    "    print(cnt)\n",
    "    return preds"
   ]
  },
  {
   "cell_type": "code",
   "execution_count": 65,
   "metadata": {},
   "outputs": [
    {
     "name": "stderr",
     "output_type": "stream",
     "text": [
      "100%|██████████| 104568/104568 [00:08<00:00, 12810.21it/s]\n"
     ]
    },
    {
     "name": "stdout",
     "output_type": "stream",
     "text": [
      "559\n"
     ]
    },
    {
     "name": "stderr",
     "output_type": "stream",
     "text": [
      "100%|██████████| 96467/96467 [00:07<00:00, 12602.56it/s]\n"
     ]
    },
    {
     "name": "stdout",
     "output_type": "stream",
     "text": [
      "636\n"
     ]
    },
    {
     "name": "stderr",
     "output_type": "stream",
     "text": [
      "100%|██████████| 115936/115936 [00:09<00:00, 12027.65it/s]\n"
     ]
    },
    {
     "name": "stdout",
     "output_type": "stream",
     "text": [
      "714\n"
     ]
    }
   ],
   "source": [
    "preds_de_m2_1 = get_pred_two_one(df_test[df_test['locale']=='DE'], next_item_map_de, next_item_map_de_two, top200_de)\n",
    "preds_jp_m2_1 = get_pred_two_one(df_test[df_test['locale']=='JP'], next_item_map_jp, next_item_map_jp_two, top200_jp)\n",
    "preds_uk_m2_1 = get_pred_two_one(df_test[df_test['locale']=='UK'], next_item_map_uk, next_item_map_uk_two, top200_uk)"
   ]
  },
  {
   "cell_type": "code",
   "execution_count": 29,
   "metadata": {},
   "outputs": [],
   "source": [
    "predictions = preds_de + preds_jp + preds_uk"
   ]
  },
  {
   "cell_type": "code",
   "execution_count": 57,
   "metadata": {},
   "outputs": [],
   "source": [
    "predictions = preds_de_m2 + preds_jp_m2 + preds_uk_m2"
   ]
  },
  {
   "cell_type": "code",
   "execution_count": 66,
   "metadata": {},
   "outputs": [],
   "source": [
    "predictions = preds_de_m2_1 + preds_jp_m2_1 + preds_uk_m2_1"
   ]
  },
  {
   "cell_type": "code",
   "execution_count": 143,
   "metadata": {},
   "outputs": [],
   "source": [
    "predictions = preds_de_w2v + preds_jp_w2v + preds_uk_w2v"
   ]
  },
  {
   "cell_type": "code",
   "execution_count": 144,
   "metadata": {},
   "outputs": [],
   "source": [
    "df_test['next_item_prediction'] = predictions"
   ]
  },
  {
   "cell_type": "code",
   "execution_count": 145,
   "metadata": {},
   "outputs": [
    {
     "data": {
      "text/html": [
       "<div>\n",
       "<style scoped>\n",
       "    .dataframe tbody tr th:only-of-type {\n",
       "        vertical-align: middle;\n",
       "    }\n",
       "\n",
       "    .dataframe tbody tr th {\n",
       "        vertical-align: top;\n",
       "    }\n",
       "\n",
       "    .dataframe thead th {\n",
       "        text-align: right;\n",
       "    }\n",
       "</style>\n",
       "<table border=\"1\" class=\"dataframe\">\n",
       "  <thead>\n",
       "    <tr style=\"text-align: right;\">\n",
       "      <th></th>\n",
       "      <th>prev_items</th>\n",
       "      <th>locale</th>\n",
       "      <th>last_item</th>\n",
       "      <th>next_item_prediction</th>\n",
       "      <th>last_item_2</th>\n",
       "    </tr>\n",
       "  </thead>\n",
       "  <tbody>\n",
       "    <tr>\n",
       "      <th>0</th>\n",
       "      <td>['B08V12CT4C' 'B08V1KXBQD' 'B01BVG1XJS' 'B09VC...</td>\n",
       "      <td>DE</td>\n",
       "      <td>B099NQFMG7</td>\n",
       "      <td>[B099NR3X6D, B08496TCCQ, B09V7KG931, B089FBVXR...</td>\n",
       "      <td>B01BVG1XJS</td>\n",
       "    </tr>\n",
       "    <tr>\n",
       "      <th>1</th>\n",
       "      <td>['B00R9R5ND6' 'B00R9RZ9ZS' 'B00R9RZ9ZS']</td>\n",
       "      <td>DE</td>\n",
       "      <td>B00R9RZ9ZS</td>\n",
       "      <td>[B001IBFEZQ, B08SFJC7N2, B09ZV58HBQ, B08G8VZC6...</td>\n",
       "      <td>B00R9RZ9ZS</td>\n",
       "    </tr>\n",
       "    <tr>\n",
       "      <th>2</th>\n",
       "      <td>['B07YSRXJD3' 'B07G7Q5N6G' 'B08C9Q7QVK' 'B07G7...</td>\n",
       "      <td>DE</td>\n",
       "      <td>B07G7Q5N6G</td>\n",
       "      <td>[B07YSRXJD3, B0B5G54GYD, B0B5QNFWJ1, B08C9Q7QV...</td>\n",
       "      <td>B08C9Q7QVK</td>\n",
       "    </tr>\n",
       "    <tr>\n",
       "      <th>3</th>\n",
       "      <td>['B08KQBYV43' '3955350843' '3955350843' '39553...</td>\n",
       "      <td>DE</td>\n",
       "      <td>3955350843</td>\n",
       "      <td>[B09HG18NCB, B08KQBYV43, B0B6P4DGDB, B09HL74M7...</td>\n",
       "      <td>B0BJTL2GD5</td>\n",
       "    </tr>\n",
       "    <tr>\n",
       "      <th>4</th>\n",
       "      <td>['B09FPTCWMC' 'B09FPTQP68' 'B08HMRY8NG' 'B08TB...</td>\n",
       "      <td>DE</td>\n",
       "      <td>B09J945WQR</td>\n",
       "      <td>[B09J8V18FL, B09J8VPTTW, B09J8V9RQQ, B09J8T6TT...</td>\n",
       "      <td>B09J8V18FL</td>\n",
       "    </tr>\n",
       "    <tr>\n",
       "      <th>...</th>\n",
       "      <td>...</td>\n",
       "      <td>...</td>\n",
       "      <td>...</td>\n",
       "      <td>...</td>\n",
       "      <td>...</td>\n",
       "    </tr>\n",
       "    <tr>\n",
       "      <th>316966</th>\n",
       "      <td>['B077SZ2C3Y' 'B0B14M3VZX']</td>\n",
       "      <td>UK</td>\n",
       "      <td>B0B14M3VZX</td>\n",
       "      <td>[B085GLMYP6, B07VDRXZL8, B09YPZBSMK, B08CKC25T...</td>\n",
       "      <td>B077SZ2C3Y</td>\n",
       "    </tr>\n",
       "    <tr>\n",
       "      <th>316967</th>\n",
       "      <td>['B08KFHDPY9' 'B0851KTSRZ' 'B08KFHDPY9' 'B0851...</td>\n",
       "      <td>UK</td>\n",
       "      <td>B081YDH55K</td>\n",
       "      <td>[B09895QPQF, B09CPP92QM, B0989BHLSY, B09CPNS7X...</td>\n",
       "      <td>B0851KTSRZ</td>\n",
       "    </tr>\n",
       "    <tr>\n",
       "      <th>316968</th>\n",
       "      <td>['B07PY1N81F' 'B07Q1Z8SQN' 'B07PY1N81F' 'B07Q1...</td>\n",
       "      <td>UK</td>\n",
       "      <td>B09HL11V5B</td>\n",
       "      <td>[B07PY1NG3X, B08CP8ZD6D, B06XPKPJFB, B07Q21J9W...</td>\n",
       "      <td>B08CP8ZD6D</td>\n",
       "    </tr>\n",
       "    <tr>\n",
       "      <th>316969</th>\n",
       "      <td>['B01MCQMORK' 'B09JYZ325W']</td>\n",
       "      <td>UK</td>\n",
       "      <td>B09JYZ325W</td>\n",
       "      <td>[B005G3DI32, B08CDZ1D3N, B08CDXK8L2, B00EHJI8G...</td>\n",
       "      <td>B01MCQMORK</td>\n",
       "    </tr>\n",
       "    <tr>\n",
       "      <th>316970</th>\n",
       "      <td>['B0B8JX92YJ' 'B09TN4MP6V' 'B0BG2LZQSL']</td>\n",
       "      <td>UK</td>\n",
       "      <td>B0BG2LZQSL</td>\n",
       "      <td>[B09ZNQ7B9Y, B0B42JD9RH, B0B8ZJXBN2, B0BFQHS9S...</td>\n",
       "      <td>B09TN4MP6V</td>\n",
       "    </tr>\n",
       "  </tbody>\n",
       "</table>\n",
       "<p>316971 rows × 5 columns</p>\n",
       "</div>"
      ],
      "text/plain": [
       "                                               prev_items locale   last_item  \\\n",
       "0       ['B08V12CT4C' 'B08V1KXBQD' 'B01BVG1XJS' 'B09VC...     DE  B099NQFMG7   \n",
       "1                ['B00R9R5ND6' 'B00R9RZ9ZS' 'B00R9RZ9ZS']     DE  B00R9RZ9ZS   \n",
       "2       ['B07YSRXJD3' 'B07G7Q5N6G' 'B08C9Q7QVK' 'B07G7...     DE  B07G7Q5N6G   \n",
       "3       ['B08KQBYV43' '3955350843' '3955350843' '39553...     DE  3955350843   \n",
       "4       ['B09FPTCWMC' 'B09FPTQP68' 'B08HMRY8NG' 'B08TB...     DE  B09J945WQR   \n",
       "...                                                   ...    ...         ...   \n",
       "316966                        ['B077SZ2C3Y' 'B0B14M3VZX']     UK  B0B14M3VZX   \n",
       "316967  ['B08KFHDPY9' 'B0851KTSRZ' 'B08KFHDPY9' 'B0851...     UK  B081YDH55K   \n",
       "316968  ['B07PY1N81F' 'B07Q1Z8SQN' 'B07PY1N81F' 'B07Q1...     UK  B09HL11V5B   \n",
       "316969                        ['B01MCQMORK' 'B09JYZ325W']     UK  B09JYZ325W   \n",
       "316970           ['B0B8JX92YJ' 'B09TN4MP6V' 'B0BG2LZQSL']     UK  B0BG2LZQSL   \n",
       "\n",
       "                                     next_item_prediction last_item_2  \n",
       "0       [B099NR3X6D, B08496TCCQ, B09V7KG931, B089FBVXR...  B01BVG1XJS  \n",
       "1       [B001IBFEZQ, B08SFJC7N2, B09ZV58HBQ, B08G8VZC6...  B00R9RZ9ZS  \n",
       "2       [B07YSRXJD3, B0B5G54GYD, B0B5QNFWJ1, B08C9Q7QV...  B08C9Q7QVK  \n",
       "3       [B09HG18NCB, B08KQBYV43, B0B6P4DGDB, B09HL74M7...  B0BJTL2GD5  \n",
       "4       [B09J8V18FL, B09J8VPTTW, B09J8V9RQQ, B09J8T6TT...  B09J8V18FL  \n",
       "...                                                   ...         ...  \n",
       "316966  [B085GLMYP6, B07VDRXZL8, B09YPZBSMK, B08CKC25T...  B077SZ2C3Y  \n",
       "316967  [B09895QPQF, B09CPP92QM, B0989BHLSY, B09CPNS7X...  B0851KTSRZ  \n",
       "316968  [B07PY1NG3X, B08CP8ZD6D, B06XPKPJFB, B07Q21J9W...  B08CP8ZD6D  \n",
       "316969  [B005G3DI32, B08CDZ1D3N, B08CDXK8L2, B00EHJI8G...  B01MCQMORK  \n",
       "316970  [B09ZNQ7B9Y, B0B42JD9RH, B0B8ZJXBN2, B0BFQHS9S...  B09TN4MP6V  \n",
       "\n",
       "[316971 rows x 5 columns]"
      ]
     },
     "execution_count": 145,
     "metadata": {},
     "output_type": "execute_result"
    }
   ],
   "source": [
    "df_test"
   ]
  },
  {
   "cell_type": "code",
   "execution_count": 146,
   "metadata": {},
   "outputs": [
    {
     "data": {
      "text/plain": [
       "count    316971.0\n",
       "mean        100.0\n",
       "std           0.0\n",
       "min         100.0\n",
       "25%         100.0\n",
       "50%         100.0\n",
       "75%         100.0\n",
       "max         100.0\n",
       "Name: next_item_prediction, dtype: float64"
      ]
     },
     "execution_count": 146,
     "metadata": {},
     "output_type": "execute_result"
    }
   ],
   "source": [
    "df_test['next_item_prediction'].apply(len).describe()"
   ]
  },
  {
   "cell_type": "code",
   "execution_count": 147,
   "metadata": {},
   "outputs": [],
   "source": [
    "df_test[['locale', 'next_item_prediction']].to_parquet('output/submission_task1_sep_rule_w2v_next_one.parquet', engine='pyarrow')"
   ]
  },
  {
   "cell_type": "code",
   "execution_count": 62,
   "metadata": {},
   "outputs": [
    {
     "data": {
      "text/plain": [
       "(316971, 5)"
      ]
     },
     "execution_count": 62,
     "metadata": {},
     "output_type": "execute_result"
    }
   ],
   "source": [
    "df_test.shape "
   ]
  },
  {
   "cell_type": "code",
   "execution_count": null,
   "metadata": {},
   "outputs": [],
   "source": []
  }
 ],
 "metadata": {
  "kernelspec": {
   "display_name": "libcityng",
   "language": "python",
   "name": "python3"
  },
  "language_info": {
   "codemirror_mode": {
    "name": "ipython",
    "version": 3
   },
   "file_extension": ".py",
   "mimetype": "text/x-python",
   "name": "python",
   "nbconvert_exporter": "python",
   "pygments_lexer": "ipython3",
   "version": "3.9.7"
  },
  "orig_nbformat": 4
 },
 "nbformat": 4,
 "nbformat_minor": 2
}
